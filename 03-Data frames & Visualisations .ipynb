{
 "cells": [
  {
   "cell_type": "code",
   "execution_count": 1,
   "metadata": {},
   "outputs": [
    {
     "name": "stderr",
     "output_type": "stream",
     "text": [
      "── Attaching packages ─────────────────────────────────────── tidyverse 1.3.0 ──\n",
      "✔ ggplot2 3.2.1     ✔ purrr   0.3.3\n",
      "✔ tibble  2.1.3     ✔ dplyr   0.8.4\n",
      "✔ tidyr   1.0.2     ✔ stringr 1.4.0\n",
      "✔ readr   1.3.1     ✔ forcats 0.4.0\n",
      "── Conflicts ────────────────────────────────────────── tidyverse_conflicts() ──\n",
      "✖ dplyr::filter()  masks stats::filter()\n",
      "✖ purrr::flatten() masks jsonlite::flatten()\n",
      "✖ dplyr::lag()     masks stats::lag()\n"
     ]
    }
   ],
   "source": [
    "library(tidyverse)"
   ]
  },
  {
   "cell_type": "code",
   "execution_count": 2,
   "metadata": {},
   "outputs": [],
   "source": [
    " library(nycflights13)"
   ]
  },
  {
   "cell_type": "markdown",
   "metadata": {
    "heading_collapsed": true
   },
   "source": [
    "## DataFrame\n",
    "\n",
    "\n",
    "A data frame is a table or a two-dimensional array-like structure in which each column contains values of one variable and each row contains one set of values from each column. Following are the characteristics of a data frame."
   ]
  },
  {
   "cell_type": "code",
   "execution_count": 3,
   "metadata": {
    "hidden": true
   },
   "outputs": [
    {
     "data": {
      "text/html": [
       "<table>\n",
       "<tbody>\n",
       "\t<tr><td>1 </td><td>5 </td><td> 9</td><td>13</td></tr>\n",
       "\t<tr><td>2 </td><td>6 </td><td>10</td><td>14</td></tr>\n",
       "\t<tr><td>3 </td><td>7 </td><td>11</td><td>15</td></tr>\n",
       "\t<tr><td>4 </td><td>8 </td><td>12</td><td>16</td></tr>\n",
       "</tbody>\n",
       "</table>\n"
      ],
      "text/latex": [
       "\\begin{tabular}{llll}\n",
       "\t 1  & 5  &  9 & 13\\\\\n",
       "\t 2  & 6  & 10 & 14\\\\\n",
       "\t 3  & 7  & 11 & 15\\\\\n",
       "\t 4  & 8  & 12 & 16\\\\\n",
       "\\end{tabular}\n"
      ],
      "text/markdown": [
       "\n",
       "| 1  | 5  |  9 | 13 |\n",
       "| 2  | 6  | 10 | 14 |\n",
       "| 3  | 7  | 11 | 15 |\n",
       "| 4  | 8  | 12 | 16 |\n",
       "\n"
      ],
      "text/plain": [
       "     [,1] [,2] [,3] [,4]\n",
       "[1,] 1    5     9   13  \n",
       "[2,] 2    6    10   14  \n",
       "[3,] 3    7    11   15  \n",
       "[4,] 4    8    12   16  "
      ]
     },
     "metadata": {},
     "output_type": "display_data"
    }
   ],
   "source": [
    "mymatrix <- matrix(1:16,nrow = 4, ncol = 4, ) # will \n",
    "mymatrix"
   ]
  },
  {
   "cell_type": "code",
   "execution_count": 4,
   "metadata": {
    "hidden": true
   },
   "outputs": [
    {
     "data": {
      "text/html": [
       "<table>\n",
       "<thead><tr><th scope=col>X1</th><th scope=col>X2</th><th scope=col>X3</th><th scope=col>X4</th></tr></thead>\n",
       "<tbody>\n",
       "\t<tr><td>1 </td><td>5 </td><td> 9</td><td>13</td></tr>\n",
       "\t<tr><td>2 </td><td>6 </td><td>10</td><td>14</td></tr>\n",
       "\t<tr><td>3 </td><td>7 </td><td>11</td><td>15</td></tr>\n",
       "\t<tr><td>4 </td><td>8 </td><td>12</td><td>16</td></tr>\n",
       "</tbody>\n",
       "</table>\n"
      ],
      "text/latex": [
       "\\begin{tabular}{r|llll}\n",
       " X1 & X2 & X3 & X4\\\\\n",
       "\\hline\n",
       "\t 1  & 5  &  9 & 13\\\\\n",
       "\t 2  & 6  & 10 & 14\\\\\n",
       "\t 3  & 7  & 11 & 15\\\\\n",
       "\t 4  & 8  & 12 & 16\\\\\n",
       "\\end{tabular}\n"
      ],
      "text/markdown": [
       "\n",
       "| X1 | X2 | X3 | X4 |\n",
       "|---|---|---|---|\n",
       "| 1  | 5  |  9 | 13 |\n",
       "| 2  | 6  | 10 | 14 |\n",
       "| 3  | 7  | 11 | 15 |\n",
       "| 4  | 8  | 12 | 16 |\n",
       "\n"
      ],
      "text/plain": [
       "  X1 X2 X3 X4\n",
       "1 1  5   9 13\n",
       "2 2  6  10 14\n",
       "3 3  7  11 15\n",
       "4 4  8  12 16"
      ]
     },
     "metadata": {},
     "output_type": "display_data"
    }
   ],
   "source": [
    "df <- data.frame(mymatrix)\n",
    "df"
   ]
  },
  {
   "cell_type": "code",
   "execution_count": 5,
   "metadata": {
    "hidden": true
   },
   "outputs": [
    {
     "data": {
      "text/html": [
       "<ol class=list-inline>\n",
       "\t<li>1</li>\n",
       "\t<li>2</li>\n",
       "\t<li>3</li>\n",
       "\t<li>4</li>\n",
       "</ol>\n"
      ],
      "text/latex": [
       "\\begin{enumerate*}\n",
       "\\item 1\n",
       "\\item 2\n",
       "\\item 3\n",
       "\\item 4\n",
       "\\end{enumerate*}\n"
      ],
      "text/markdown": [
       "1. 1\n",
       "2. 2\n",
       "3. 3\n",
       "4. 4\n",
       "\n",
       "\n"
      ],
      "text/plain": [
       "[1] 1 2 3 4"
      ]
     },
     "metadata": {},
     "output_type": "display_data"
    }
   ],
   "source": [
    "df$X1"
   ]
  },
  {
   "cell_type": "code",
   "execution_count": 6,
   "metadata": {
    "hidden": true
   },
   "outputs": [
    {
     "data": {
      "text/html": [
       "<ol class=list-inline>\n",
       "\t<li>5</li>\n",
       "\t<li>6</li>\n",
       "\t<li>7</li>\n",
       "\t<li>8</li>\n",
       "</ol>\n"
      ],
      "text/latex": [
       "\\begin{enumerate*}\n",
       "\\item 5\n",
       "\\item 6\n",
       "\\item 7\n",
       "\\item 8\n",
       "\\end{enumerate*}\n"
      ],
      "text/markdown": [
       "1. 5\n",
       "2. 6\n",
       "3. 7\n",
       "4. 8\n",
       "\n",
       "\n"
      ],
      "text/plain": [
       "[1] 5 6 7 8"
      ]
     },
     "metadata": {},
     "output_type": "display_data"
    }
   ],
   "source": [
    "df$X2"
   ]
  },
  {
   "cell_type": "code",
   "execution_count": 7,
   "metadata": {
    "hidden": true
   },
   "outputs": [
    {
     "data": {
      "text/html": [
       "<dl class=dl-horizontal>\n",
       "\t<dt>X1</dt>\n",
       "\t\t<dd>2.5</dd>\n",
       "\t<dt>X2</dt>\n",
       "\t\t<dd>6.5</dd>\n",
       "\t<dt>X3</dt>\n",
       "\t\t<dd>10.5</dd>\n",
       "\t<dt>X4</dt>\n",
       "\t\t<dd>14.5</dd>\n",
       "</dl>\n"
      ],
      "text/latex": [
       "\\begin{description*}\n",
       "\\item[X1] 2.5\n",
       "\\item[X2] 6.5\n",
       "\\item[X3] 10.5\n",
       "\\item[X4] 14.5\n",
       "\\end{description*}\n"
      ],
      "text/markdown": [
       "X1\n",
       ":   2.5X2\n",
       ":   6.5X3\n",
       ":   10.5X4\n",
       ":   14.5\n",
       "\n"
      ],
      "text/plain": [
       "  X1   X2   X3   X4 \n",
       " 2.5  6.5 10.5 14.5 "
      ]
     },
     "metadata": {},
     "output_type": "display_data"
    }
   ],
   "source": [
    "mdf <- sapply(df , mean)\n",
    "mdf"
   ]
  },
  {
   "cell_type": "code",
   "execution_count": 8,
   "metadata": {
    "hidden": true
   },
   "outputs": [
    {
     "data": {
      "text/plain": [
       "       X1             X2             X3              X4       \n",
       " Min.   :1.00   Min.   :5.00   Min.   : 9.00   Min.   :13.00  \n",
       " 1st Qu.:1.75   1st Qu.:5.75   1st Qu.: 9.75   1st Qu.:13.75  \n",
       " Median :2.50   Median :6.50   Median :10.50   Median :14.50  \n",
       " Mean   :2.50   Mean   :6.50   Mean   :10.50   Mean   :14.50  \n",
       " 3rd Qu.:3.25   3rd Qu.:7.25   3rd Qu.:11.25   3rd Qu.:15.25  \n",
       " Max.   :4.00   Max.   :8.00   Max.   :12.00   Max.   :16.00  "
      ]
     },
     "metadata": {},
     "output_type": "display_data"
    }
   ],
   "source": [
    "summary(df)"
   ]
  },
  {
   "cell_type": "markdown",
   "metadata": {},
   "source": [
    "## Exploring"
   ]
  },
  {
   "cell_type": "markdown",
   "metadata": {},
   "source": [
    "https://cran.r-project.org/web/packages/nycflights13/nycflights13.pdf"
   ]
  },
  {
   "cell_type": "code",
   "execution_count": 9,
   "metadata": {},
   "outputs": [],
   "source": [
    "df = nycflights13::flights"
   ]
  },
  {
   "cell_type": "code",
   "execution_count": 10,
   "metadata": {},
   "outputs": [
    {
     "data": {
      "text/html": [
       "<ol class=list-inline>\n",
       "\t<li>336776</li>\n",
       "\t<li>19</li>\n",
       "</ol>\n"
      ],
      "text/latex": [
       "\\begin{enumerate*}\n",
       "\\item 336776\n",
       "\\item 19\n",
       "\\end{enumerate*}\n"
      ],
      "text/markdown": [
       "1. 336776\n",
       "2. 19\n",
       "\n",
       "\n"
      ],
      "text/plain": [
       "[1] 336776     19"
      ]
     },
     "metadata": {},
     "output_type": "display_data"
    }
   ],
   "source": [
    "dim(df) #rows & cols"
   ]
  },
  {
   "cell_type": "markdown",
   "metadata": {},
   "source": [
    "if the system is getting slow please to condsider use a fraction of the dataset \n",
    "```\n",
    "df <- sample_frac(flights, 0.05)\n",
    "dim(df)\n",
    "```"
   ]
  },
  {
   "cell_type": "code",
   "execution_count": 11,
   "metadata": {},
   "outputs": [
    {
     "data": {
      "text/html": [
       "<ol class=list-inline>\n",
       "\t<li>'year'</li>\n",
       "\t<li>'month'</li>\n",
       "\t<li>'day'</li>\n",
       "\t<li>'dep_time'</li>\n",
       "\t<li>'sched_dep_time'</li>\n",
       "\t<li>'dep_delay'</li>\n",
       "\t<li>'arr_time'</li>\n",
       "\t<li>'sched_arr_time'</li>\n",
       "\t<li>'arr_delay'</li>\n",
       "\t<li>'carrier'</li>\n",
       "\t<li>'flight'</li>\n",
       "\t<li>'tailnum'</li>\n",
       "\t<li>'origin'</li>\n",
       "\t<li>'dest'</li>\n",
       "\t<li>'air_time'</li>\n",
       "\t<li>'distance'</li>\n",
       "\t<li>'hour'</li>\n",
       "\t<li>'minute'</li>\n",
       "\t<li>'time_hour'</li>\n",
       "</ol>\n"
      ],
      "text/latex": [
       "\\begin{enumerate*}\n",
       "\\item 'year'\n",
       "\\item 'month'\n",
       "\\item 'day'\n",
       "\\item 'dep\\_time'\n",
       "\\item 'sched\\_dep\\_time'\n",
       "\\item 'dep\\_delay'\n",
       "\\item 'arr\\_time'\n",
       "\\item 'sched\\_arr\\_time'\n",
       "\\item 'arr\\_delay'\n",
       "\\item 'carrier'\n",
       "\\item 'flight'\n",
       "\\item 'tailnum'\n",
       "\\item 'origin'\n",
       "\\item 'dest'\n",
       "\\item 'air\\_time'\n",
       "\\item 'distance'\n",
       "\\item 'hour'\n",
       "\\item 'minute'\n",
       "\\item 'time\\_hour'\n",
       "\\end{enumerate*}\n"
      ],
      "text/markdown": [
       "1. 'year'\n",
       "2. 'month'\n",
       "3. 'day'\n",
       "4. 'dep_time'\n",
       "5. 'sched_dep_time'\n",
       "6. 'dep_delay'\n",
       "7. 'arr_time'\n",
       "8. 'sched_arr_time'\n",
       "9. 'arr_delay'\n",
       "10. 'carrier'\n",
       "11. 'flight'\n",
       "12. 'tailnum'\n",
       "13. 'origin'\n",
       "14. 'dest'\n",
       "15. 'air_time'\n",
       "16. 'distance'\n",
       "17. 'hour'\n",
       "18. 'minute'\n",
       "19. 'time_hour'\n",
       "\n",
       "\n"
      ],
      "text/plain": [
       " [1] \"year\"           \"month\"          \"day\"            \"dep_time\"      \n",
       " [5] \"sched_dep_time\" \"dep_delay\"      \"arr_time\"       \"sched_arr_time\"\n",
       " [9] \"arr_delay\"      \"carrier\"        \"flight\"         \"tailnum\"       \n",
       "[13] \"origin\"         \"dest\"           \"air_time\"       \"distance\"      \n",
       "[17] \"hour\"           \"minute\"         \"time_hour\"     "
      ]
     },
     "metadata": {},
     "output_type": "display_data"
    }
   ],
   "source": [
    "names(df)"
   ]
  },
  {
   "cell_type": "code",
   "execution_count": 12,
   "metadata": {},
   "outputs": [
    {
     "data": {
      "text/html": [
       "<table>\n",
       "<thead><tr><th scope=col>year</th><th scope=col>month</th><th scope=col>day</th><th scope=col>dep_time</th><th scope=col>sched_dep_time</th><th scope=col>dep_delay</th><th scope=col>arr_time</th><th scope=col>sched_arr_time</th><th scope=col>arr_delay</th><th scope=col>carrier</th><th scope=col>flight</th><th scope=col>tailnum</th><th scope=col>origin</th><th scope=col>dest</th><th scope=col>air_time</th><th scope=col>distance</th><th scope=col>hour</th><th scope=col>minute</th><th scope=col>time_hour</th></tr></thead>\n",
       "<tbody>\n",
       "\t<tr><td>2013               </td><td>1                  </td><td>1                  </td><td>517                </td><td>515                </td><td> 2                 </td><td> 830               </td><td> 819               </td><td> 11                </td><td>UA                 </td><td>1545               </td><td>N14228             </td><td>EWR                </td><td>IAH                </td><td>227                </td><td>1400               </td><td>5                  </td><td>15                 </td><td>2013-01-01 05:00:00</td></tr>\n",
       "\t<tr><td>2013               </td><td>1                  </td><td>1                  </td><td>533                </td><td>529                </td><td> 4                 </td><td> 850               </td><td> 830               </td><td> 20                </td><td>UA                 </td><td>1714               </td><td>N24211             </td><td>LGA                </td><td>IAH                </td><td>227                </td><td>1416               </td><td>5                  </td><td>29                 </td><td>2013-01-01 05:00:00</td></tr>\n",
       "\t<tr><td>2013               </td><td>1                  </td><td>1                  </td><td>542                </td><td>540                </td><td> 2                 </td><td> 923               </td><td> 850               </td><td> 33                </td><td>AA                 </td><td>1141               </td><td>N619AA             </td><td>JFK                </td><td>MIA                </td><td>160                </td><td>1089               </td><td>5                  </td><td>40                 </td><td>2013-01-01 05:00:00</td></tr>\n",
       "\t<tr><td>2013               </td><td>1                  </td><td>1                  </td><td>544                </td><td>545                </td><td>-1                 </td><td>1004               </td><td>1022               </td><td>-18                </td><td>B6                 </td><td> 725               </td><td>N804JB             </td><td>JFK                </td><td>BQN                </td><td>183                </td><td>1576               </td><td>5                  </td><td>45                 </td><td>2013-01-01 05:00:00</td></tr>\n",
       "\t<tr><td>2013               </td><td>1                  </td><td>1                  </td><td>554                </td><td>600                </td><td>-6                 </td><td> 812               </td><td> 837               </td><td>-25                </td><td>DL                 </td><td> 461               </td><td>N668DN             </td><td>LGA                </td><td>ATL                </td><td>116                </td><td> 762               </td><td>6                  </td><td> 0                 </td><td>2013-01-01 06:00:00</td></tr>\n",
       "\t<tr><td>2013               </td><td>1                  </td><td>1                  </td><td>554                </td><td>558                </td><td>-4                 </td><td> 740               </td><td> 728               </td><td> 12                </td><td>UA                 </td><td>1696               </td><td>N39463             </td><td>EWR                </td><td>ORD                </td><td>150                </td><td> 719               </td><td>5                  </td><td>58                 </td><td>2013-01-01 05:00:00</td></tr>\n",
       "</tbody>\n",
       "</table>\n"
      ],
      "text/latex": [
       "\\begin{tabular}{r|lllllllllllllllllll}\n",
       " year & month & day & dep\\_time & sched\\_dep\\_time & dep\\_delay & arr\\_time & sched\\_arr\\_time & arr\\_delay & carrier & flight & tailnum & origin & dest & air\\_time & distance & hour & minute & time\\_hour\\\\\n",
       "\\hline\n",
       "\t 2013                & 1                   & 1                   & 517                 & 515                 &  2                  &  830                &  819                &  11                 & UA                  & 1545                & N14228              & EWR                 & IAH                 & 227                 & 1400                & 5                   & 15                  & 2013-01-01 05:00:00\\\\\n",
       "\t 2013                & 1                   & 1                   & 533                 & 529                 &  4                  &  850                &  830                &  20                 & UA                  & 1714                & N24211              & LGA                 & IAH                 & 227                 & 1416                & 5                   & 29                  & 2013-01-01 05:00:00\\\\\n",
       "\t 2013                & 1                   & 1                   & 542                 & 540                 &  2                  &  923                &  850                &  33                 & AA                  & 1141                & N619AA              & JFK                 & MIA                 & 160                 & 1089                & 5                   & 40                  & 2013-01-01 05:00:00\\\\\n",
       "\t 2013                & 1                   & 1                   & 544                 & 545                 & -1                  & 1004                & 1022                & -18                 & B6                  &  725                & N804JB              & JFK                 & BQN                 & 183                 & 1576                & 5                   & 45                  & 2013-01-01 05:00:00\\\\\n",
       "\t 2013                & 1                   & 1                   & 554                 & 600                 & -6                  &  812                &  837                & -25                 & DL                  &  461                & N668DN              & LGA                 & ATL                 & 116                 &  762                & 6                   &  0                  & 2013-01-01 06:00:00\\\\\n",
       "\t 2013                & 1                   & 1                   & 554                 & 558                 & -4                  &  740                &  728                &  12                 & UA                  & 1696                & N39463              & EWR                 & ORD                 & 150                 &  719                & 5                   & 58                  & 2013-01-01 05:00:00\\\\\n",
       "\\end{tabular}\n"
      ],
      "text/markdown": [
       "\n",
       "| year | month | day | dep_time | sched_dep_time | dep_delay | arr_time | sched_arr_time | arr_delay | carrier | flight | tailnum | origin | dest | air_time | distance | hour | minute | time_hour |\n",
       "|---|---|---|---|---|---|---|---|---|---|---|---|---|---|---|---|---|---|---|\n",
       "| 2013                | 1                   | 1                   | 517                 | 515                 |  2                  |  830                |  819                |  11                 | UA                  | 1545                | N14228              | EWR                 | IAH                 | 227                 | 1400                | 5                   | 15                  | 2013-01-01 05:00:00 |\n",
       "| 2013                | 1                   | 1                   | 533                 | 529                 |  4                  |  850                |  830                |  20                 | UA                  | 1714                | N24211              | LGA                 | IAH                 | 227                 | 1416                | 5                   | 29                  | 2013-01-01 05:00:00 |\n",
       "| 2013                | 1                   | 1                   | 542                 | 540                 |  2                  |  923                |  850                |  33                 | AA                  | 1141                | N619AA              | JFK                 | MIA                 | 160                 | 1089                | 5                   | 40                  | 2013-01-01 05:00:00 |\n",
       "| 2013                | 1                   | 1                   | 544                 | 545                 | -1                  | 1004                | 1022                | -18                 | B6                  |  725                | N804JB              | JFK                 | BQN                 | 183                 | 1576                | 5                   | 45                  | 2013-01-01 05:00:00 |\n",
       "| 2013                | 1                   | 1                   | 554                 | 600                 | -6                  |  812                |  837                | -25                 | DL                  |  461                | N668DN              | LGA                 | ATL                 | 116                 |  762                | 6                   |  0                  | 2013-01-01 06:00:00 |\n",
       "| 2013                | 1                   | 1                   | 554                 | 558                 | -4                  |  740                |  728                |  12                 | UA                  | 1696                | N39463              | EWR                 | ORD                 | 150                 |  719                | 5                   | 58                  | 2013-01-01 05:00:00 |\n",
       "\n"
      ],
      "text/plain": [
       "  year month day dep_time sched_dep_time dep_delay arr_time sched_arr_time\n",
       "1 2013 1     1   517      515             2         830      819          \n",
       "2 2013 1     1   533      529             4         850      830          \n",
       "3 2013 1     1   542      540             2         923      850          \n",
       "4 2013 1     1   544      545            -1        1004     1022          \n",
       "5 2013 1     1   554      600            -6         812      837          \n",
       "6 2013 1     1   554      558            -4         740      728          \n",
       "  arr_delay carrier flight tailnum origin dest air_time distance hour minute\n",
       "1  11       UA      1545   N14228  EWR    IAH  227      1400     5    15    \n",
       "2  20       UA      1714   N24211  LGA    IAH  227      1416     5    29    \n",
       "3  33       AA      1141   N619AA  JFK    MIA  160      1089     5    40    \n",
       "4 -18       B6       725   N804JB  JFK    BQN  183      1576     5    45    \n",
       "5 -25       DL       461   N668DN  LGA    ATL  116       762     6     0    \n",
       "6  12       UA      1696   N39463  EWR    ORD  150       719     5    58    \n",
       "  time_hour          \n",
       "1 2013-01-01 05:00:00\n",
       "2 2013-01-01 05:00:00\n",
       "3 2013-01-01 05:00:00\n",
       "4 2013-01-01 05:00:00\n",
       "5 2013-01-01 06:00:00\n",
       "6 2013-01-01 05:00:00"
      ]
     },
     "metadata": {},
     "output_type": "display_data"
    }
   ],
   "source": [
    "head(df)"
   ]
  },
  {
   "cell_type": "code",
   "execution_count": 13,
   "metadata": {},
   "outputs": [
    {
     "data": {
      "text/html": [
       "<table>\n",
       "<thead><tr><th scope=col>year</th><th scope=col>month</th><th scope=col>day</th><th scope=col>dep_time</th><th scope=col>sched_dep_time</th><th scope=col>dep_delay</th><th scope=col>arr_time</th><th scope=col>sched_arr_time</th><th scope=col>arr_delay</th><th scope=col>carrier</th><th scope=col>flight</th><th scope=col>tailnum</th><th scope=col>origin</th><th scope=col>dest</th><th scope=col>air_time</th><th scope=col>distance</th><th scope=col>hour</th><th scope=col>minute</th><th scope=col>time_hour</th></tr></thead>\n",
       "<tbody>\n",
       "\t<tr><td>2013               </td><td>9                  </td><td>30                 </td><td>NA                 </td><td>1842               </td><td>NA                 </td><td>NA                 </td><td>2019               </td><td>NA                 </td><td>EV                 </td><td>5274               </td><td>N740EV             </td><td>LGA                </td><td>BNA                </td><td>NA                 </td><td>764                </td><td>18                 </td><td>42                 </td><td>2013-09-30 18:00:00</td></tr>\n",
       "\t<tr><td>2013               </td><td>9                  </td><td>30                 </td><td>NA                 </td><td>1455               </td><td>NA                 </td><td>NA                 </td><td>1634               </td><td>NA                 </td><td>9E                 </td><td>3393               </td><td>NA                 </td><td>JFK                </td><td>DCA                </td><td>NA                 </td><td>213                </td><td>14                 </td><td>55                 </td><td>2013-09-30 14:00:00</td></tr>\n",
       "\t<tr><td>2013               </td><td>9                  </td><td>30                 </td><td>NA                 </td><td>2200               </td><td>NA                 </td><td>NA                 </td><td>2312               </td><td>NA                 </td><td>9E                 </td><td>3525               </td><td>NA                 </td><td>LGA                </td><td>SYR                </td><td>NA                 </td><td>198                </td><td>22                 </td><td> 0                 </td><td>2013-09-30 22:00:00</td></tr>\n",
       "\t<tr><td>2013               </td><td>9                  </td><td>30                 </td><td>NA                 </td><td>1210               </td><td>NA                 </td><td>NA                 </td><td>1330               </td><td>NA                 </td><td>MQ                 </td><td>3461               </td><td>N535MQ             </td><td>LGA                </td><td>BNA                </td><td>NA                 </td><td>764                </td><td>12                 </td><td>10                 </td><td>2013-09-30 12:00:00</td></tr>\n",
       "\t<tr><td>2013               </td><td>9                  </td><td>30                 </td><td>NA                 </td><td>1159               </td><td>NA                 </td><td>NA                 </td><td>1344               </td><td>NA                 </td><td>MQ                 </td><td>3572               </td><td>N511MQ             </td><td>LGA                </td><td>CLE                </td><td>NA                 </td><td>419                </td><td>11                 </td><td>59                 </td><td>2013-09-30 11:00:00</td></tr>\n",
       "\t<tr><td>2013               </td><td>9                  </td><td>30                 </td><td>NA                 </td><td> 840               </td><td>NA                 </td><td>NA                 </td><td>1020               </td><td>NA                 </td><td>MQ                 </td><td>3531               </td><td>N839MQ             </td><td>LGA                </td><td>RDU                </td><td>NA                 </td><td>431                </td><td> 8                 </td><td>40                 </td><td>2013-09-30 08:00:00</td></tr>\n",
       "</tbody>\n",
       "</table>\n"
      ],
      "text/latex": [
       "\\begin{tabular}{r|lllllllllllllllllll}\n",
       " year & month & day & dep\\_time & sched\\_dep\\_time & dep\\_delay & arr\\_time & sched\\_arr\\_time & arr\\_delay & carrier & flight & tailnum & origin & dest & air\\_time & distance & hour & minute & time\\_hour\\\\\n",
       "\\hline\n",
       "\t 2013                & 9                   & 30                  & NA                  & 1842                & NA                  & NA                  & 2019                & NA                  & EV                  & 5274                & N740EV              & LGA                 & BNA                 & NA                  & 764                 & 18                  & 42                  & 2013-09-30 18:00:00\\\\\n",
       "\t 2013                & 9                   & 30                  & NA                  & 1455                & NA                  & NA                  & 1634                & NA                  & 9E                  & 3393                & NA                  & JFK                 & DCA                 & NA                  & 213                 & 14                  & 55                  & 2013-09-30 14:00:00\\\\\n",
       "\t 2013                & 9                   & 30                  & NA                  & 2200                & NA                  & NA                  & 2312                & NA                  & 9E                  & 3525                & NA                  & LGA                 & SYR                 & NA                  & 198                 & 22                  &  0                  & 2013-09-30 22:00:00\\\\\n",
       "\t 2013                & 9                   & 30                  & NA                  & 1210                & NA                  & NA                  & 1330                & NA                  & MQ                  & 3461                & N535MQ              & LGA                 & BNA                 & NA                  & 764                 & 12                  & 10                  & 2013-09-30 12:00:00\\\\\n",
       "\t 2013                & 9                   & 30                  & NA                  & 1159                & NA                  & NA                  & 1344                & NA                  & MQ                  & 3572                & N511MQ              & LGA                 & CLE                 & NA                  & 419                 & 11                  & 59                  & 2013-09-30 11:00:00\\\\\n",
       "\t 2013                & 9                   & 30                  & NA                  &  840                & NA                  & NA                  & 1020                & NA                  & MQ                  & 3531                & N839MQ              & LGA                 & RDU                 & NA                  & 431                 &  8                  & 40                  & 2013-09-30 08:00:00\\\\\n",
       "\\end{tabular}\n"
      ],
      "text/markdown": [
       "\n",
       "| year | month | day | dep_time | sched_dep_time | dep_delay | arr_time | sched_arr_time | arr_delay | carrier | flight | tailnum | origin | dest | air_time | distance | hour | minute | time_hour |\n",
       "|---|---|---|---|---|---|---|---|---|---|---|---|---|---|---|---|---|---|---|\n",
       "| 2013                | 9                   | 30                  | NA                  | 1842                | NA                  | NA                  | 2019                | NA                  | EV                  | 5274                | N740EV              | LGA                 | BNA                 | NA                  | 764                 | 18                  | 42                  | 2013-09-30 18:00:00 |\n",
       "| 2013                | 9                   | 30                  | NA                  | 1455                | NA                  | NA                  | 1634                | NA                  | 9E                  | 3393                | NA                  | JFK                 | DCA                 | NA                  | 213                 | 14                  | 55                  | 2013-09-30 14:00:00 |\n",
       "| 2013                | 9                   | 30                  | NA                  | 2200                | NA                  | NA                  | 2312                | NA                  | 9E                  | 3525                | NA                  | LGA                 | SYR                 | NA                  | 198                 | 22                  |  0                  | 2013-09-30 22:00:00 |\n",
       "| 2013                | 9                   | 30                  | NA                  | 1210                | NA                  | NA                  | 1330                | NA                  | MQ                  | 3461                | N535MQ              | LGA                 | BNA                 | NA                  | 764                 | 12                  | 10                  | 2013-09-30 12:00:00 |\n",
       "| 2013                | 9                   | 30                  | NA                  | 1159                | NA                  | NA                  | 1344                | NA                  | MQ                  | 3572                | N511MQ              | LGA                 | CLE                 | NA                  | 419                 | 11                  | 59                  | 2013-09-30 11:00:00 |\n",
       "| 2013                | 9                   | 30                  | NA                  |  840                | NA                  | NA                  | 1020                | NA                  | MQ                  | 3531                | N839MQ              | LGA                 | RDU                 | NA                  | 431                 |  8                  | 40                  | 2013-09-30 08:00:00 |\n",
       "\n"
      ],
      "text/plain": [
       "  year month day dep_time sched_dep_time dep_delay arr_time sched_arr_time\n",
       "1 2013 9     30  NA       1842           NA        NA       2019          \n",
       "2 2013 9     30  NA       1455           NA        NA       1634          \n",
       "3 2013 9     30  NA       2200           NA        NA       2312          \n",
       "4 2013 9     30  NA       1210           NA        NA       1330          \n",
       "5 2013 9     30  NA       1159           NA        NA       1344          \n",
       "6 2013 9     30  NA        840           NA        NA       1020          \n",
       "  arr_delay carrier flight tailnum origin dest air_time distance hour minute\n",
       "1 NA        EV      5274   N740EV  LGA    BNA  NA       764      18   42    \n",
       "2 NA        9E      3393   NA      JFK    DCA  NA       213      14   55    \n",
       "3 NA        9E      3525   NA      LGA    SYR  NA       198      22    0    \n",
       "4 NA        MQ      3461   N535MQ  LGA    BNA  NA       764      12   10    \n",
       "5 NA        MQ      3572   N511MQ  LGA    CLE  NA       419      11   59    \n",
       "6 NA        MQ      3531   N839MQ  LGA    RDU  NA       431       8   40    \n",
       "  time_hour          \n",
       "1 2013-09-30 18:00:00\n",
       "2 2013-09-30 14:00:00\n",
       "3 2013-09-30 22:00:00\n",
       "4 2013-09-30 12:00:00\n",
       "5 2013-09-30 11:00:00\n",
       "6 2013-09-30 08:00:00"
      ]
     },
     "metadata": {},
     "output_type": "display_data"
    }
   ],
   "source": [
    "tail(df)"
   ]
  },
  {
   "cell_type": "code",
   "execution_count": 14,
   "metadata": {},
   "outputs": [
    {
     "name": "stdout",
     "output_type": "stream",
     "text": [
      "Observations: 336,776\n",
      "Variables: 19\n",
      "$ year           <int> 2013, 2013, 2013, 2013, 2013, 2013, 2013, 2013, 2013, …\n",
      "$ month          <int> 1, 1, 1, 1, 1, 1, 1, 1, 1, 1, 1, 1, 1, 1, 1, 1, 1, 1, …\n",
      "$ day            <int> 1, 1, 1, 1, 1, 1, 1, 1, 1, 1, 1, 1, 1, 1, 1, 1, 1, 1, …\n",
      "$ dep_time       <int> 517, 533, 542, 544, 554, 554, 555, 557, 557, 558, 558,…\n",
      "$ sched_dep_time <int> 515, 529, 540, 545, 600, 558, 600, 600, 600, 600, 600,…\n",
      "$ dep_delay      <dbl> 2, 4, 2, -1, -6, -4, -5, -3, -3, -2, -2, -2, -2, -2, -…\n",
      "$ arr_time       <int> 830, 850, 923, 1004, 812, 740, 913, 709, 838, 753, 849…\n",
      "$ sched_arr_time <int> 819, 830, 850, 1022, 837, 728, 854, 723, 846, 745, 851…\n",
      "$ arr_delay      <dbl> 11, 20, 33, -18, -25, 12, 19, -14, -8, 8, -2, -3, 7, -…\n",
      "$ carrier        <chr> \"UA\", \"UA\", \"AA\", \"B6\", \"DL\", \"UA\", \"B6\", \"EV\", \"B6\", …\n",
      "$ flight         <int> 1545, 1714, 1141, 725, 461, 1696, 507, 5708, 79, 301, …\n",
      "$ tailnum        <chr> \"N14228\", \"N24211\", \"N619AA\", \"N804JB\", \"N668DN\", \"N39…\n",
      "$ origin         <chr> \"EWR\", \"LGA\", \"JFK\", \"JFK\", \"LGA\", \"EWR\", \"EWR\", \"LGA\"…\n",
      "$ dest           <chr> \"IAH\", \"IAH\", \"MIA\", \"BQN\", \"ATL\", \"ORD\", \"FLL\", \"IAD\"…\n",
      "$ air_time       <dbl> 227, 227, 160, 183, 116, 150, 158, 53, 140, 138, 149, …\n",
      "$ distance       <dbl> 1400, 1416, 1089, 1576, 762, 719, 1065, 229, 944, 733,…\n",
      "$ hour           <dbl> 5, 5, 5, 5, 6, 5, 6, 6, 6, 6, 6, 6, 6, 6, 6, 5, 6, 6, …\n",
      "$ minute         <dbl> 15, 29, 40, 45, 0, 58, 0, 0, 0, 0, 0, 0, 0, 0, 0, 59, …\n",
      "$ time_hour      <dttm> 2013-01-01 05:00:00, 2013-01-01 05:00:00, 2013-01-01 …\n"
     ]
    }
   ],
   "source": [
    "glimpse(df)"
   ]
  },
  {
   "cell_type": "code",
   "execution_count": 15,
   "metadata": {},
   "outputs": [
    {
     "data": {
      "text/html": [
       "<ol class=list-inline>\n",
       "\t<li>'tbl_df'</li>\n",
       "\t<li>'tbl'</li>\n",
       "\t<li>'data.frame'</li>\n",
       "</ol>\n"
      ],
      "text/latex": [
       "\\begin{enumerate*}\n",
       "\\item 'tbl\\_df'\n",
       "\\item 'tbl'\n",
       "\\item 'data.frame'\n",
       "\\end{enumerate*}\n"
      ],
      "text/markdown": [
       "1. 'tbl_df'\n",
       "2. 'tbl'\n",
       "3. 'data.frame'\n",
       "\n",
       "\n"
      ],
      "text/plain": [
       "[1] \"tbl_df\"     \"tbl\"        \"data.frame\""
      ]
     },
     "metadata": {},
     "output_type": "display_data"
    }
   ],
   "source": [
    "class(flights)"
   ]
  },
  {
   "cell_type": "code",
   "execution_count": null,
   "metadata": {},
   "outputs": [],
   "source": []
  },
  {
   "cell_type": "code",
   "execution_count": 17,
   "metadata": {},
   "outputs": [
    {
     "data": {
      "text/html": [
       "<table>\n",
       "<thead><tr><th scope=col>year</th><th scope=col>month</th><th scope=col>day</th><th scope=col>dep_time</th><th scope=col>sched_dep_time</th><th scope=col>dep_delay</th><th scope=col>arr_time</th><th scope=col>sched_arr_time</th><th scope=col>arr_delay</th><th scope=col>carrier</th><th scope=col>flight</th><th scope=col>tailnum</th><th scope=col>origin</th><th scope=col>dest</th><th scope=col>air_time</th><th scope=col>distance</th><th scope=col>hour</th><th scope=col>minute</th><th scope=col>time_hour</th></tr></thead>\n",
       "<tbody>\n",
       "\t<tr><td>2013               </td><td>1                  </td><td>1                  </td><td>517                </td><td>515                </td><td> 2                 </td><td> 830               </td><td> 819               </td><td>11                 </td><td>UA                 </td><td>1545               </td><td>N14228             </td><td>EWR                </td><td>IAH                </td><td>227                </td><td>1400               </td><td>5                  </td><td>15                 </td><td>2013-01-01 05:00:00</td></tr>\n",
       "\t<tr><td>2013               </td><td>1                  </td><td>1                  </td><td>533                </td><td>529                </td><td> 4                 </td><td> 850               </td><td> 830               </td><td>20                 </td><td>UA                 </td><td>1714               </td><td>N24211             </td><td>LGA                </td><td>IAH                </td><td>227                </td><td>1416               </td><td>5                  </td><td>29                 </td><td>2013-01-01 05:00:00</td></tr>\n",
       "\t<tr><td>2013               </td><td>1                  </td><td>1                  </td><td>542                </td><td>540                </td><td> 2                 </td><td> 923               </td><td> 850               </td><td>33                 </td><td>AA                 </td><td>1141               </td><td>N619AA             </td><td>JFK                </td><td>MIA                </td><td>160                </td><td>1089               </td><td>5                  </td><td>40                 </td><td>2013-01-01 05:00:00</td></tr>\n",
       "\t<tr><td>2013               </td><td>1                  </td><td>1                  </td><td>554                </td><td>558                </td><td>-4                 </td><td> 740               </td><td> 728               </td><td>12                 </td><td>UA                 </td><td>1696               </td><td>N39463             </td><td>EWR                </td><td>ORD                </td><td>150                </td><td> 719               </td><td>5                  </td><td>58                 </td><td>2013-01-01 05:00:00</td></tr>\n",
       "\t<tr><td>2013               </td><td>1                  </td><td>1                  </td><td>555                </td><td>600                </td><td>-5                 </td><td> 913               </td><td> 854               </td><td>19                 </td><td>B6                 </td><td> 507               </td><td>N516JB             </td><td>EWR                </td><td>FLL                </td><td>158                </td><td>1065               </td><td>6                  </td><td> 0                 </td><td>2013-01-01 06:00:00</td></tr>\n",
       "\t<tr><td>2013               </td><td>1                  </td><td>1                  </td><td>558                </td><td>600                </td><td>-2                 </td><td> 753               </td><td> 745               </td><td> 8                 </td><td>AA                 </td><td> 301               </td><td>N3ALAA             </td><td>LGA                </td><td>ORD                </td><td>138                </td><td> 733               </td><td>6                  </td><td> 0                 </td><td>2013-01-01 06:00:00</td></tr>\n",
       "\t<tr><td>2013               </td><td>1                  </td><td>1                  </td><td>558                </td><td>600                </td><td>-2                 </td><td> 924               </td><td> 917               </td><td> 7                 </td><td>UA                 </td><td> 194               </td><td>N29129             </td><td>JFK                </td><td>LAX                </td><td>345                </td><td>2475               </td><td>6                  </td><td> 0                 </td><td>2013-01-01 06:00:00</td></tr>\n",
       "\t<tr><td>2013               </td><td>1                  </td><td>1                  </td><td>559                </td><td>600                </td><td>-1                 </td><td> 941               </td><td> 910               </td><td>31                 </td><td>AA                 </td><td> 707               </td><td>N3DUAA             </td><td>LGA                </td><td>DFW                </td><td>257                </td><td>1389               </td><td>6                  </td><td> 0                 </td><td>2013-01-01 06:00:00</td></tr>\n",
       "\t<tr><td>2013               </td><td>1                  </td><td>1                  </td><td>600                </td><td>600                </td><td> 0                 </td><td> 837               </td><td> 825               </td><td>12                 </td><td>MQ                 </td><td>4650               </td><td>N542MQ             </td><td>LGA                </td><td>ATL                </td><td>134                </td><td> 762               </td><td>6                  </td><td> 0                 </td><td>2013-01-01 06:00:00</td></tr>\n",
       "\t<tr><td>2013               </td><td>1                  </td><td>1                  </td><td>602                </td><td>605                </td><td>-3                 </td><td> 821               </td><td> 805               </td><td>16                 </td><td>MQ                 </td><td>4401               </td><td>N730MQ             </td><td>LGA                </td><td>DTW                </td><td>105                </td><td> 502               </td><td>6                  </td><td> 5                 </td><td>2013-01-01 06:00:00</td></tr>\n",
       "\t<tr><td>2013               </td><td>1                  </td><td>1                  </td><td>608                </td><td>600                </td><td> 8                 </td><td> 807               </td><td> 735               </td><td>32                 </td><td>MQ                 </td><td>3768               </td><td>N9EAMQ             </td><td>EWR                </td><td>ORD                </td><td>139                </td><td> 719               </td><td>6                  </td><td> 0                 </td><td>2013-01-01 06:00:00</td></tr>\n",
       "\t<tr><td>2013               </td><td>1                  </td><td>1                  </td><td>611                </td><td>600                </td><td>11                 </td><td> 945               </td><td> 931               </td><td>14                 </td><td>UA                 </td><td> 303               </td><td>N532UA             </td><td>JFK                </td><td>SFO                </td><td>366                </td><td>2586               </td><td>6                  </td><td> 0                 </td><td>2013-01-01 06:00:00</td></tr>\n",
       "\t<tr><td>2013               </td><td>1                  </td><td>1                  </td><td>613                </td><td>610                </td><td> 3                 </td><td> 925               </td><td> 921               </td><td> 4                 </td><td>B6                 </td><td> 135               </td><td>N635JB             </td><td>JFK                </td><td>RSW                </td><td>175                </td><td>1074               </td><td>6                  </td><td>10                 </td><td>2013-01-01 06:00:00</td></tr>\n",
       "\t<tr><td>2013               </td><td>1                  </td><td>1                  </td><td>622                </td><td>630                </td><td>-8                 </td><td>1017               </td><td>1014               </td><td> 3                 </td><td>US                 </td><td> 245               </td><td>N807AW             </td><td>EWR                </td><td>PHX                </td><td>342                </td><td>2133               </td><td>6                  </td><td>30                 </td><td>2013-01-01 06:00:00</td></tr>\n",
       "\t<tr><td>2013               </td><td>1                  </td><td>1                  </td><td>623                </td><td>610                </td><td>13                 </td><td> 920               </td><td> 915               </td><td> 5                 </td><td>AA                 </td><td>1837               </td><td>N3EMAA             </td><td>LGA                </td><td>MIA                </td><td>153                </td><td>1096               </td><td>6                  </td><td>10                 </td><td>2013-01-01 06:00:00</td></tr>\n",
       "\t<tr><td>2013               </td><td>1                  </td><td>1                  </td><td>623                </td><td>627                </td><td>-4                 </td><td> 933               </td><td> 932               </td><td> 1                 </td><td>UA                 </td><td> 496               </td><td>N459UA             </td><td>LGA                </td><td>IAH                </td><td>229                </td><td>1416               </td><td>6                  </td><td>27                 </td><td>2013-01-01 06:00:00</td></tr>\n",
       "\t<tr><td>2013               </td><td>1                  </td><td>1                  </td><td>624                </td><td>630                </td><td>-6                 </td><td> 909               </td><td> 840               </td><td>29                 </td><td>EV                 </td><td>4626               </td><td>N11107             </td><td>EWR                </td><td>MSP                </td><td>190                </td><td>1008               </td><td>6                  </td><td>30                 </td><td>2013-01-01 06:00:00</td></tr>\n",
       "\t<tr><td>2013               </td><td>1                  </td><td>1                  </td><td>624                </td><td>630                </td><td>-6                 </td><td> 840               </td><td> 830               </td><td>10                 </td><td>MQ                 </td><td>4599               </td><td>N518MQ             </td><td>LGA                </td><td>MSP                </td><td>166                </td><td>1020               </td><td>6                  </td><td>30                 </td><td>2013-01-01 06:00:00</td></tr>\n",
       "\t<tr><td>2013               </td><td>1                  </td><td>1                  </td><td>628                </td><td>630                </td><td>-2                 </td><td>1016               </td><td> 947               </td><td>29                 </td><td>UA                 </td><td>1665               </td><td>N33289             </td><td>EWR                </td><td>LAX                </td><td>366                </td><td>2454               </td><td>6                  </td><td>30                 </td><td>2013-01-01 06:00:00</td></tr>\n",
       "\t<tr><td>2013               </td><td>1                  </td><td>1                  </td><td>629                </td><td>630                </td><td>-1                 </td><td> 824               </td><td> 810               </td><td>14                 </td><td>AA                 </td><td> 303               </td><td>N3CYAA             </td><td>LGA                </td><td>ORD                </td><td>140                </td><td> 733               </td><td>6                  </td><td>30                 </td><td>2013-01-01 06:00:00</td></tr>\n",
       "\t<tr><td>2013               </td><td>1                  </td><td>1                  </td><td>632                </td><td>608                </td><td>24                 </td><td> 740               </td><td> 728               </td><td>12                 </td><td>EV                 </td><td>4144               </td><td>N13553             </td><td>EWR                </td><td>IAD                </td><td> 52                </td><td> 212               </td><td>6                  </td><td> 8                 </td><td>2013-01-01 06:00:00</td></tr>\n",
       "\t<tr><td>2013               </td><td>1                  </td><td>1                  </td><td>635                </td><td>635                </td><td> 0                 </td><td>1028               </td><td> 940               </td><td>48                 </td><td>AA                 </td><td> 711               </td><td>N3GKAA             </td><td>LGA                </td><td>DFW                </td><td>248                </td><td>1389               </td><td>6                  </td><td>35                 </td><td>2013-01-01 06:00:00</td></tr>\n",
       "\t<tr><td>2013               </td><td>1                  </td><td>1                  </td><td>645                </td><td>647                </td><td>-2                 </td><td> 815               </td><td> 810               </td><td> 5                 </td><td>B6                 </td><td> 102               </td><td>N796JB             </td><td>JFK                </td><td>BUF                </td><td> 63                </td><td> 301               </td><td>6                  </td><td>47                 </td><td>2013-01-01 06:00:00</td></tr>\n",
       "\t<tr><td>2013               </td><td>1                  </td><td>1                  </td><td>652                </td><td>655                </td><td>-3                 </td><td> 932               </td><td> 921               </td><td>11                 </td><td>B6                 </td><td> 117               </td><td>N178JB             </td><td>JFK                </td><td>MSY                </td><td>191                </td><td>1182               </td><td>6                  </td><td>55                 </td><td>2013-01-01 06:00:00</td></tr>\n",
       "\t<tr><td>2013               </td><td>1                  </td><td>1                  </td><td>656                </td><td>700                </td><td>-4                 </td><td> 854               </td><td> 850               </td><td> 4                 </td><td>AA                 </td><td> 305               </td><td>N4WNAA             </td><td>LGA                </td><td>ORD                </td><td>143                </td><td> 733               </td><td>7                  </td><td> 0                 </td><td>2013-01-01 07:00:00</td></tr>\n",
       "\t<tr><td>2013               </td><td>1                  </td><td>1                  </td><td>656                </td><td>705                </td><td>-9                 </td><td>1007               </td><td> 940               </td><td>27                 </td><td>MQ                 </td><td>4534               </td><td>N722MQ             </td><td>LGA                </td><td>XNA                </td><td>233                </td><td>1147               </td><td>7                  </td><td> 5                 </td><td>2013-01-01 07:00:00</td></tr>\n",
       "\t<tr><td>2013               </td><td>1                  </td><td>1                  </td><td>658                </td><td>700                </td><td>-2                 </td><td> 944               </td><td> 939               </td><td> 5                 </td><td>DL                 </td><td>1547               </td><td>N6703D             </td><td>LGA                </td><td>ATL                </td><td>126                </td><td> 762               </td><td>7                  </td><td> 0                 </td><td>2013-01-01 07:00:00</td></tr>\n",
       "\t<tr><td>2013               </td><td>1                  </td><td>1                  </td><td>658                </td><td>700                </td><td>-2                 </td><td>1027               </td><td>1025               </td><td> 2                 </td><td>VX                 </td><td> 399               </td><td>N627VA             </td><td>JFK                </td><td>LAX                </td><td>361                </td><td>2475               </td><td>7                  </td><td> 0                 </td><td>2013-01-01 07:00:00</td></tr>\n",
       "\t<tr><td>2013               </td><td>1                  </td><td>1                  </td><td>659                </td><td>700                </td><td>-1                 </td><td>1008               </td><td>1007               </td><td> 1                 </td><td>B6                 </td><td> 981               </td><td>N646JB             </td><td>JFK                </td><td>FLL                </td><td>156                </td><td>1069               </td><td>7                  </td><td> 0                 </td><td>2013-01-01 07:00:00</td></tr>\n",
       "\t<tr><td>2013               </td><td>1                  </td><td>1                  </td><td>702                </td><td>700                </td><td> 2                 </td><td>1058               </td><td>1014               </td><td>44                 </td><td>B6                 </td><td> 671               </td><td>N779JB             </td><td>JFK                </td><td>LAX                </td><td>381                </td><td>2475               </td><td>7                  </td><td> 0                 </td><td>2013-01-01 07:00:00</td></tr>\n",
       "\t<tr><td>...</td><td>...</td><td>...</td><td>...</td><td>...</td><td>...</td><td>...</td><td>...</td><td>...</td><td>...</td><td>...</td><td>...</td><td>...</td><td>...</td><td>...</td><td>...</td><td>...</td><td>...</td><td>...</td></tr>\n",
       "\t<tr><td>2013               </td><td>9                  </td><td>30                 </td><td>1929               </td><td>1934               </td><td> -5                </td><td>2146               </td><td>2136               </td><td> 10                </td><td>EV                 </td><td>4370               </td><td>N18557             </td><td>EWR                </td><td>CHS                </td><td> 92                </td><td> 628               </td><td>19                 </td><td>34                 </td><td>2013-09-30 19:00:00</td></tr>\n",
       "\t<tr><td>2013               </td><td>9                  </td><td>30                 </td><td>1931               </td><td>1905               </td><td> 26                </td><td>2049               </td><td>2033               </td><td> 16                </td><td>EV                 </td><td>5383               </td><td>N748EV             </td><td>LGA                </td><td>ROC                </td><td> 41                </td><td> 254               </td><td>19                 </td><td> 5                 </td><td>2013-09-30 19:00:00</td></tr>\n",
       "\t<tr><td>2013               </td><td>9                  </td><td>30                 </td><td>1936               </td><td>1910               </td><td> 26                </td><td>2204               </td><td>2203               </td><td>  1                </td><td>DL                 </td><td>2159               </td><td>N905DL             </td><td>JFK                </td><td>MCO                </td><td>126                </td><td> 944               </td><td>19                 </td><td>10                 </td><td>2013-09-30 19:00:00</td></tr>\n",
       "\t<tr><td>2013               </td><td>9                  </td><td>30                 </td><td>1938               </td><td>1850               </td><td> 48                </td><td>2248               </td><td>2220               </td><td> 28                </td><td>VX                 </td><td>  29               </td><td>N626VA             </td><td>JFK                </td><td>SFO                </td><td>323                </td><td>2586               </td><td>18                 </td><td>50                 </td><td>2013-09-30 18:00:00</td></tr>\n",
       "\t<tr><td>2013               </td><td>9                  </td><td>30                 </td><td>1943               </td><td>1810               </td><td> 93                </td><td>2140               </td><td>1955               </td><td>105                </td><td>MQ                 </td><td>3526               </td><td>N724MQ             </td><td>LGA                </td><td>CMH                </td><td> 72                </td><td> 479               </td><td>18                 </td><td>10                 </td><td>2013-09-30 18:00:00</td></tr>\n",
       "\t<tr><td>2013               </td><td>9                  </td><td>30                 </td><td>1951               </td><td>1649               </td><td>182                </td><td>2157               </td><td>1903               </td><td>174                </td><td>EV                 </td><td>4294               </td><td>N13988             </td><td>EWR                </td><td>SAV                </td><td> 95                </td><td> 708               </td><td>16                 </td><td>49                 </td><td>2013-09-30 16:00:00</td></tr>\n",
       "\t<tr><td>2013               </td><td>9                  </td><td>30                 </td><td>1955               </td><td>1942               </td><td> 13                </td><td>2300               </td><td>2250               </td><td> 10                </td><td>B6                 </td><td>1271               </td><td>N623JB             </td><td>LGA                </td><td>FLL                </td><td>141                </td><td>1076               </td><td>19                 </td><td>42                 </td><td>2013-09-30 19:00:00</td></tr>\n",
       "\t<tr><td>2013               </td><td>9                  </td><td>30                 </td><td>1956               </td><td>1825               </td><td> 91                </td><td>2208               </td><td>2121               </td><td> 47                </td><td>DL                 </td><td>1576               </td><td>N3772H             </td><td>JFK                </td><td>SAN                </td><td>292                </td><td>2446               </td><td>18                 </td><td>25                 </td><td>2013-09-30 18:00:00</td></tr>\n",
       "\t<tr><td>2013               </td><td>9                  </td><td>30                 </td><td>2008               </td><td>1935               </td><td> 33                </td><td>2322               </td><td>2242               </td><td> 40                </td><td>UA                 </td><td> 208               </td><td>N816UA             </td><td>EWR                </td><td>SEA                </td><td>339                </td><td>2402               </td><td>19                 </td><td>35                 </td><td>2013-09-30 19:00:00</td></tr>\n",
       "\t<tr><td>2013               </td><td>9                  </td><td>30                 </td><td>2013               </td><td>2000               </td><td> 13                </td><td>2133               </td><td>2120               </td><td> 13                </td><td>US                 </td><td>2195               </td><td>N747UW             </td><td>LGA                </td><td>DCA                </td><td> 41                </td><td> 214               </td><td>20                 </td><td> 0                 </td><td>2013-09-30 20:00:00</td></tr>\n",
       "\t<tr><td>2013               </td><td>9                  </td><td>30                 </td><td>2028               </td><td>1910               </td><td> 78                </td><td>2255               </td><td>2215               </td><td> 40                </td><td>AA                 </td><td>  21               </td><td>N338AA             </td><td>JFK                </td><td>LAX                </td><td>294                </td><td>2475               </td><td>19                 </td><td>10                 </td><td>2013-09-30 19:00:00</td></tr>\n",
       "\t<tr><td>2013               </td><td>9                  </td><td>30                 </td><td>2032               </td><td>1945               </td><td> 47                </td><td>2115               </td><td>2106               </td><td>  9                </td><td>9E                 </td><td>3864               </td><td>N602XJ             </td><td>JFK                </td><td>PHL                </td><td> 24                </td><td>  94               </td><td>19                 </td><td>45                 </td><td>2013-09-30 19:00:00</td></tr>\n",
       "\t<tr><td>2013               </td><td>9                  </td><td>30                 </td><td>2034               </td><td>2030               </td><td>  4                </td><td>2204               </td><td>2201               </td><td>  3                </td><td>FL                 </td><td> 354               </td><td>N894AT             </td><td>LGA                </td><td>CAK                </td><td> 58                </td><td> 397               </td><td>20                 </td><td>30                 </td><td>2013-09-30 20:00:00</td></tr>\n",
       "\t<tr><td>2013               </td><td>9                  </td><td>30                 </td><td>2053               </td><td>1815               </td><td>158                </td><td>2310               </td><td>2054               </td><td>136                </td><td>EV                 </td><td>5292               </td><td>N600QX             </td><td>EWR                </td><td>ATL                </td><td> 91                </td><td> 746               </td><td>18                 </td><td>15                 </td><td>2013-09-30 18:00:00</td></tr>\n",
       "\t<tr><td>2013               </td><td>9                  </td><td>30                 </td><td>2053               </td><td>2015               </td><td> 38                </td><td>2146               </td><td>2144               </td><td>  2                </td><td>9E                 </td><td>3899               </td><td>N8423C             </td><td>JFK                </td><td>BWI                </td><td> 33                </td><td> 184               </td><td>20                 </td><td>15                 </td><td>2013-09-30 20:00:00</td></tr>\n",
       "\t<tr><td>2013               </td><td>9                  </td><td>30                 </td><td>2059               </td><td>2003               </td><td> 56                </td><td>2311               </td><td>2237               </td><td> 34                </td><td>EV                 </td><td>4204               </td><td>N11127             </td><td>EWR                </td><td>OKC                </td><td>166                </td><td>1325               </td><td>20                 </td><td> 3                 </td><td>2013-09-30 20:00:00</td></tr>\n",
       "\t<tr><td>2013               </td><td>9                  </td><td>30                 </td><td>2104               </td><td>2019               </td><td> 45                </td><td>2304               </td><td>2240               </td><td> 24                </td><td>EV                 </td><td>4333               </td><td>N11109             </td><td>EWR                </td><td>TUL                </td><td>154                </td><td>1215               </td><td>20                 </td><td>19                 </td><td>2013-09-30 20:00:00</td></tr>\n",
       "\t<tr><td>2013               </td><td>9                  </td><td>30                 </td><td>2104               </td><td>2030               </td><td> 34                </td><td>2205               </td><td>2150               </td><td> 15                </td><td>WN                 </td><td> 382               </td><td>N7741C             </td><td>LGA                </td><td>MDW                </td><td>105                </td><td> 725               </td><td>20                 </td><td>30                 </td><td>2013-09-30 20:00:00</td></tr>\n",
       "\t<tr><td>2013               </td><td>9                  </td><td>30                 </td><td>2110               </td><td>2055               </td><td> 15                </td><td>  51               </td><td>2359               </td><td> 52                </td><td>B6                 </td><td>1205               </td><td>N517JB             </td><td>JFK                </td><td>PDX                </td><td>361                </td><td>2454               </td><td>20                 </td><td>55                 </td><td>2013-09-30 20:00:00</td></tr>\n",
       "\t<tr><td>2013               </td><td>9                  </td><td>30                 </td><td>2114               </td><td>2025               </td><td> 49                </td><td>2304               </td><td>2228               </td><td> 36                </td><td>EV                 </td><td>4348               </td><td>N11184             </td><td>EWR                </td><td>MSP                </td><td>145                </td><td>1008               </td><td>20                 </td><td>25                 </td><td>2013-09-30 20:00:00</td></tr>\n",
       "\t<tr><td>2013               </td><td>9                  </td><td>30                 </td><td>2119               </td><td>2005               </td><td> 74                </td><td>2310               </td><td>2212               </td><td> 58                </td><td>EV                 </td><td>4321               </td><td>N17984             </td><td>EWR                </td><td>MCI                </td><td>147                </td><td>1092               </td><td>20                 </td><td> 5                 </td><td>2013-09-30 20:00:00</td></tr>\n",
       "\t<tr><td>2013               </td><td>9                  </td><td>30                 </td><td>2142               </td><td>2129               </td><td> 13                </td><td>2250               </td><td>2239               </td><td> 11                </td><td>EV                 </td><td>4509               </td><td>N12957             </td><td>EWR                </td><td>PWM                </td><td> 47                </td><td> 284               </td><td>21                 </td><td>29                 </td><td>2013-09-30 21:00:00</td></tr>\n",
       "\t<tr><td>2013               </td><td>9                  </td><td>30                 </td><td>2147               </td><td>2137               </td><td> 10                </td><td>  30               </td><td>  27               </td><td>  3                </td><td>B6                 </td><td>1371               </td><td>N627JB             </td><td>LGA                </td><td>FLL                </td><td>139                </td><td>1076               </td><td>21                 </td><td>37                 </td><td>2013-09-30 21:00:00</td></tr>\n",
       "\t<tr><td>2013               </td><td>9                  </td><td>30                 </td><td>2159               </td><td>1845               </td><td>194                </td><td>2344               </td><td>2030               </td><td>194                </td><td>9E                 </td><td>3320               </td><td>N906XJ             </td><td>JFK                </td><td>BUF                </td><td> 50                </td><td> 301               </td><td>18                 </td><td>45                 </td><td>2013-09-30 18:00:00</td></tr>\n",
       "\t<tr><td>2013               </td><td>9                  </td><td>30                 </td><td>2203               </td><td>2205               </td><td> -2                </td><td>2339               </td><td>2331               </td><td>  8                </td><td>EV                 </td><td>5311               </td><td>N722EV             </td><td>LGA                </td><td>BGR                </td><td> 61                </td><td> 378               </td><td>22                 </td><td> 5                 </td><td>2013-09-30 22:00:00</td></tr>\n",
       "\t<tr><td>2013               </td><td>9                  </td><td>30                 </td><td>2207               </td><td>2140               </td><td> 27                </td><td>2257               </td><td>2250               </td><td>  7                </td><td>MQ                 </td><td>3660               </td><td>N532MQ             </td><td>LGA                </td><td>BNA                </td><td> 97                </td><td> 764               </td><td>21                 </td><td>40                 </td><td>2013-09-30 21:00:00</td></tr>\n",
       "\t<tr><td>2013               </td><td>9                  </td><td>30                 </td><td>2211               </td><td>2059               </td><td> 72                </td><td>2339               </td><td>2242               </td><td> 57                </td><td>EV                 </td><td>4672               </td><td>N12145             </td><td>EWR                </td><td>STL                </td><td>120                </td><td> 872               </td><td>20                 </td><td>59                 </td><td>2013-09-30 20:00:00</td></tr>\n",
       "\t<tr><td>2013               </td><td>9                  </td><td>30                 </td><td>2233               </td><td>2113               </td><td> 80                </td><td> 112               </td><td>  30               </td><td> 42                </td><td>UA                 </td><td> 471               </td><td>N578UA             </td><td>EWR                </td><td>SFO                </td><td>318                </td><td>2565               </td><td>21                 </td><td>13                 </td><td>2013-09-30 21:00:00</td></tr>\n",
       "\t<tr><td>2013               </td><td>9                  </td><td>30                 </td><td>2235               </td><td>2001               </td><td>154                </td><td>  59               </td><td>2249               </td><td>130                </td><td>B6                 </td><td>1083               </td><td>N804JB             </td><td>JFK                </td><td>MCO                </td><td>123                </td><td> 944               </td><td>20                 </td><td> 1                 </td><td>2013-09-30 20:00:00</td></tr>\n",
       "\t<tr><td>2013               </td><td>9                  </td><td>30                 </td><td>2307               </td><td>2255               </td><td> 12                </td><td>2359               </td><td>2358               </td><td>  1                </td><td>B6                 </td><td> 718               </td><td>N565JB             </td><td>JFK                </td><td>BOS                </td><td> 33                </td><td> 187               </td><td>22                 </td><td>55                 </td><td>2013-09-30 22:00:00</td></tr>\n",
       "</tbody>\n",
       "</table>\n"
      ],
      "text/latex": [
       "\\begin{tabular}{r|lllllllllllllllllll}\n",
       " year & month & day & dep\\_time & sched\\_dep\\_time & dep\\_delay & arr\\_time & sched\\_arr\\_time & arr\\_delay & carrier & flight & tailnum & origin & dest & air\\_time & distance & hour & minute & time\\_hour\\\\\n",
       "\\hline\n",
       "\t 2013                & 1                   & 1                   & 517                 & 515                 &  2                  &  830                &  819                & 11                  & UA                  & 1545                & N14228              & EWR                 & IAH                 & 227                 & 1400                & 5                   & 15                  & 2013-01-01 05:00:00\\\\\n",
       "\t 2013                & 1                   & 1                   & 533                 & 529                 &  4                  &  850                &  830                & 20                  & UA                  & 1714                & N24211              & LGA                 & IAH                 & 227                 & 1416                & 5                   & 29                  & 2013-01-01 05:00:00\\\\\n",
       "\t 2013                & 1                   & 1                   & 542                 & 540                 &  2                  &  923                &  850                & 33                  & AA                  & 1141                & N619AA              & JFK                 & MIA                 & 160                 & 1089                & 5                   & 40                  & 2013-01-01 05:00:00\\\\\n",
       "\t 2013                & 1                   & 1                   & 554                 & 558                 & -4                  &  740                &  728                & 12                  & UA                  & 1696                & N39463              & EWR                 & ORD                 & 150                 &  719                & 5                   & 58                  & 2013-01-01 05:00:00\\\\\n",
       "\t 2013                & 1                   & 1                   & 555                 & 600                 & -5                  &  913                &  854                & 19                  & B6                  &  507                & N516JB              & EWR                 & FLL                 & 158                 & 1065                & 6                   &  0                  & 2013-01-01 06:00:00\\\\\n",
       "\t 2013                & 1                   & 1                   & 558                 & 600                 & -2                  &  753                &  745                &  8                  & AA                  &  301                & N3ALAA              & LGA                 & ORD                 & 138                 &  733                & 6                   &  0                  & 2013-01-01 06:00:00\\\\\n",
       "\t 2013                & 1                   & 1                   & 558                 & 600                 & -2                  &  924                &  917                &  7                  & UA                  &  194                & N29129              & JFK                 & LAX                 & 345                 & 2475                & 6                   &  0                  & 2013-01-01 06:00:00\\\\\n",
       "\t 2013                & 1                   & 1                   & 559                 & 600                 & -1                  &  941                &  910                & 31                  & AA                  &  707                & N3DUAA              & LGA                 & DFW                 & 257                 & 1389                & 6                   &  0                  & 2013-01-01 06:00:00\\\\\n",
       "\t 2013                & 1                   & 1                   & 600                 & 600                 &  0                  &  837                &  825                & 12                  & MQ                  & 4650                & N542MQ              & LGA                 & ATL                 & 134                 &  762                & 6                   &  0                  & 2013-01-01 06:00:00\\\\\n",
       "\t 2013                & 1                   & 1                   & 602                 & 605                 & -3                  &  821                &  805                & 16                  & MQ                  & 4401                & N730MQ              & LGA                 & DTW                 & 105                 &  502                & 6                   &  5                  & 2013-01-01 06:00:00\\\\\n",
       "\t 2013                & 1                   & 1                   & 608                 & 600                 &  8                  &  807                &  735                & 32                  & MQ                  & 3768                & N9EAMQ              & EWR                 & ORD                 & 139                 &  719                & 6                   &  0                  & 2013-01-01 06:00:00\\\\\n",
       "\t 2013                & 1                   & 1                   & 611                 & 600                 & 11                  &  945                &  931                & 14                  & UA                  &  303                & N532UA              & JFK                 & SFO                 & 366                 & 2586                & 6                   &  0                  & 2013-01-01 06:00:00\\\\\n",
       "\t 2013                & 1                   & 1                   & 613                 & 610                 &  3                  &  925                &  921                &  4                  & B6                  &  135                & N635JB              & JFK                 & RSW                 & 175                 & 1074                & 6                   & 10                  & 2013-01-01 06:00:00\\\\\n",
       "\t 2013                & 1                   & 1                   & 622                 & 630                 & -8                  & 1017                & 1014                &  3                  & US                  &  245                & N807AW              & EWR                 & PHX                 & 342                 & 2133                & 6                   & 30                  & 2013-01-01 06:00:00\\\\\n",
       "\t 2013                & 1                   & 1                   & 623                 & 610                 & 13                  &  920                &  915                &  5                  & AA                  & 1837                & N3EMAA              & LGA                 & MIA                 & 153                 & 1096                & 6                   & 10                  & 2013-01-01 06:00:00\\\\\n",
       "\t 2013                & 1                   & 1                   & 623                 & 627                 & -4                  &  933                &  932                &  1                  & UA                  &  496                & N459UA              & LGA                 & IAH                 & 229                 & 1416                & 6                   & 27                  & 2013-01-01 06:00:00\\\\\n",
       "\t 2013                & 1                   & 1                   & 624                 & 630                 & -6                  &  909                &  840                & 29                  & EV                  & 4626                & N11107              & EWR                 & MSP                 & 190                 & 1008                & 6                   & 30                  & 2013-01-01 06:00:00\\\\\n",
       "\t 2013                & 1                   & 1                   & 624                 & 630                 & -6                  &  840                &  830                & 10                  & MQ                  & 4599                & N518MQ              & LGA                 & MSP                 & 166                 & 1020                & 6                   & 30                  & 2013-01-01 06:00:00\\\\\n",
       "\t 2013                & 1                   & 1                   & 628                 & 630                 & -2                  & 1016                &  947                & 29                  & UA                  & 1665                & N33289              & EWR                 & LAX                 & 366                 & 2454                & 6                   & 30                  & 2013-01-01 06:00:00\\\\\n",
       "\t 2013                & 1                   & 1                   & 629                 & 630                 & -1                  &  824                &  810                & 14                  & AA                  &  303                & N3CYAA              & LGA                 & ORD                 & 140                 &  733                & 6                   & 30                  & 2013-01-01 06:00:00\\\\\n",
       "\t 2013                & 1                   & 1                   & 632                 & 608                 & 24                  &  740                &  728                & 12                  & EV                  & 4144                & N13553              & EWR                 & IAD                 &  52                 &  212                & 6                   &  8                  & 2013-01-01 06:00:00\\\\\n",
       "\t 2013                & 1                   & 1                   & 635                 & 635                 &  0                  & 1028                &  940                & 48                  & AA                  &  711                & N3GKAA              & LGA                 & DFW                 & 248                 & 1389                & 6                   & 35                  & 2013-01-01 06:00:00\\\\\n",
       "\t 2013                & 1                   & 1                   & 645                 & 647                 & -2                  &  815                &  810                &  5                  & B6                  &  102                & N796JB              & JFK                 & BUF                 &  63                 &  301                & 6                   & 47                  & 2013-01-01 06:00:00\\\\\n",
       "\t 2013                & 1                   & 1                   & 652                 & 655                 & -3                  &  932                &  921                & 11                  & B6                  &  117                & N178JB              & JFK                 & MSY                 & 191                 & 1182                & 6                   & 55                  & 2013-01-01 06:00:00\\\\\n",
       "\t 2013                & 1                   & 1                   & 656                 & 700                 & -4                  &  854                &  850                &  4                  & AA                  &  305                & N4WNAA              & LGA                 & ORD                 & 143                 &  733                & 7                   &  0                  & 2013-01-01 07:00:00\\\\\n",
       "\t 2013                & 1                   & 1                   & 656                 & 705                 & -9                  & 1007                &  940                & 27                  & MQ                  & 4534                & N722MQ              & LGA                 & XNA                 & 233                 & 1147                & 7                   &  5                  & 2013-01-01 07:00:00\\\\\n",
       "\t 2013                & 1                   & 1                   & 658                 & 700                 & -2                  &  944                &  939                &  5                  & DL                  & 1547                & N6703D              & LGA                 & ATL                 & 126                 &  762                & 7                   &  0                  & 2013-01-01 07:00:00\\\\\n",
       "\t 2013                & 1                   & 1                   & 658                 & 700                 & -2                  & 1027                & 1025                &  2                  & VX                  &  399                & N627VA              & JFK                 & LAX                 & 361                 & 2475                & 7                   &  0                  & 2013-01-01 07:00:00\\\\\n",
       "\t 2013                & 1                   & 1                   & 659                 & 700                 & -1                  & 1008                & 1007                &  1                  & B6                  &  981                & N646JB              & JFK                 & FLL                 & 156                 & 1069                & 7                   &  0                  & 2013-01-01 07:00:00\\\\\n",
       "\t 2013                & 1                   & 1                   & 702                 & 700                 &  2                  & 1058                & 1014                & 44                  & B6                  &  671                & N779JB              & JFK                 & LAX                 & 381                 & 2475                & 7                   &  0                  & 2013-01-01 07:00:00\\\\\n",
       "\t ... & ... & ... & ... & ... & ... & ... & ... & ... & ... & ... & ... & ... & ... & ... & ... & ... & ... & ...\\\\\n",
       "\t 2013                & 9                   & 30                  & 1929                & 1934                &  -5                 & 2146                & 2136                &  10                 & EV                  & 4370                & N18557              & EWR                 & CHS                 &  92                 &  628                & 19                  & 34                  & 2013-09-30 19:00:00\\\\\n",
       "\t 2013                & 9                   & 30                  & 1931                & 1905                &  26                 & 2049                & 2033                &  16                 & EV                  & 5383                & N748EV              & LGA                 & ROC                 &  41                 &  254                & 19                  &  5                  & 2013-09-30 19:00:00\\\\\n",
       "\t 2013                & 9                   & 30                  & 1936                & 1910                &  26                 & 2204                & 2203                &   1                 & DL                  & 2159                & N905DL              & JFK                 & MCO                 & 126                 &  944                & 19                  & 10                  & 2013-09-30 19:00:00\\\\\n",
       "\t 2013                & 9                   & 30                  & 1938                & 1850                &  48                 & 2248                & 2220                &  28                 & VX                  &   29                & N626VA              & JFK                 & SFO                 & 323                 & 2586                & 18                  & 50                  & 2013-09-30 18:00:00\\\\\n",
       "\t 2013                & 9                   & 30                  & 1943                & 1810                &  93                 & 2140                & 1955                & 105                 & MQ                  & 3526                & N724MQ              & LGA                 & CMH                 &  72                 &  479                & 18                  & 10                  & 2013-09-30 18:00:00\\\\\n",
       "\t 2013                & 9                   & 30                  & 1951                & 1649                & 182                 & 2157                & 1903                & 174                 & EV                  & 4294                & N13988              & EWR                 & SAV                 &  95                 &  708                & 16                  & 49                  & 2013-09-30 16:00:00\\\\\n",
       "\t 2013                & 9                   & 30                  & 1955                & 1942                &  13                 & 2300                & 2250                &  10                 & B6                  & 1271                & N623JB              & LGA                 & FLL                 & 141                 & 1076                & 19                  & 42                  & 2013-09-30 19:00:00\\\\\n",
       "\t 2013                & 9                   & 30                  & 1956                & 1825                &  91                 & 2208                & 2121                &  47                 & DL                  & 1576                & N3772H              & JFK                 & SAN                 & 292                 & 2446                & 18                  & 25                  & 2013-09-30 18:00:00\\\\\n",
       "\t 2013                & 9                   & 30                  & 2008                & 1935                &  33                 & 2322                & 2242                &  40                 & UA                  &  208                & N816UA              & EWR                 & SEA                 & 339                 & 2402                & 19                  & 35                  & 2013-09-30 19:00:00\\\\\n",
       "\t 2013                & 9                   & 30                  & 2013                & 2000                &  13                 & 2133                & 2120                &  13                 & US                  & 2195                & N747UW              & LGA                 & DCA                 &  41                 &  214                & 20                  &  0                  & 2013-09-30 20:00:00\\\\\n",
       "\t 2013                & 9                   & 30                  & 2028                & 1910                &  78                 & 2255                & 2215                &  40                 & AA                  &   21                & N338AA              & JFK                 & LAX                 & 294                 & 2475                & 19                  & 10                  & 2013-09-30 19:00:00\\\\\n",
       "\t 2013                & 9                   & 30                  & 2032                & 1945                &  47                 & 2115                & 2106                &   9                 & 9E                  & 3864                & N602XJ              & JFK                 & PHL                 &  24                 &   94                & 19                  & 45                  & 2013-09-30 19:00:00\\\\\n",
       "\t 2013                & 9                   & 30                  & 2034                & 2030                &   4                 & 2204                & 2201                &   3                 & FL                  &  354                & N894AT              & LGA                 & CAK                 &  58                 &  397                & 20                  & 30                  & 2013-09-30 20:00:00\\\\\n",
       "\t 2013                & 9                   & 30                  & 2053                & 1815                & 158                 & 2310                & 2054                & 136                 & EV                  & 5292                & N600QX              & EWR                 & ATL                 &  91                 &  746                & 18                  & 15                  & 2013-09-30 18:00:00\\\\\n",
       "\t 2013                & 9                   & 30                  & 2053                & 2015                &  38                 & 2146                & 2144                &   2                 & 9E                  & 3899                & N8423C              & JFK                 & BWI                 &  33                 &  184                & 20                  & 15                  & 2013-09-30 20:00:00\\\\\n",
       "\t 2013                & 9                   & 30                  & 2059                & 2003                &  56                 & 2311                & 2237                &  34                 & EV                  & 4204                & N11127              & EWR                 & OKC                 & 166                 & 1325                & 20                  &  3                  & 2013-09-30 20:00:00\\\\\n",
       "\t 2013                & 9                   & 30                  & 2104                & 2019                &  45                 & 2304                & 2240                &  24                 & EV                  & 4333                & N11109              & EWR                 & TUL                 & 154                 & 1215                & 20                  & 19                  & 2013-09-30 20:00:00\\\\\n",
       "\t 2013                & 9                   & 30                  & 2104                & 2030                &  34                 & 2205                & 2150                &  15                 & WN                  &  382                & N7741C              & LGA                 & MDW                 & 105                 &  725                & 20                  & 30                  & 2013-09-30 20:00:00\\\\\n",
       "\t 2013                & 9                   & 30                  & 2110                & 2055                &  15                 &   51                & 2359                &  52                 & B6                  & 1205                & N517JB              & JFK                 & PDX                 & 361                 & 2454                & 20                  & 55                  & 2013-09-30 20:00:00\\\\\n",
       "\t 2013                & 9                   & 30                  & 2114                & 2025                &  49                 & 2304                & 2228                &  36                 & EV                  & 4348                & N11184              & EWR                 & MSP                 & 145                 & 1008                & 20                  & 25                  & 2013-09-30 20:00:00\\\\\n",
       "\t 2013                & 9                   & 30                  & 2119                & 2005                &  74                 & 2310                & 2212                &  58                 & EV                  & 4321                & N17984              & EWR                 & MCI                 & 147                 & 1092                & 20                  &  5                  & 2013-09-30 20:00:00\\\\\n",
       "\t 2013                & 9                   & 30                  & 2142                & 2129                &  13                 & 2250                & 2239                &  11                 & EV                  & 4509                & N12957              & EWR                 & PWM                 &  47                 &  284                & 21                  & 29                  & 2013-09-30 21:00:00\\\\\n",
       "\t 2013                & 9                   & 30                  & 2147                & 2137                &  10                 &   30                &   27                &   3                 & B6                  & 1371                & N627JB              & LGA                 & FLL                 & 139                 & 1076                & 21                  & 37                  & 2013-09-30 21:00:00\\\\\n",
       "\t 2013                & 9                   & 30                  & 2159                & 1845                & 194                 & 2344                & 2030                & 194                 & 9E                  & 3320                & N906XJ              & JFK                 & BUF                 &  50                 &  301                & 18                  & 45                  & 2013-09-30 18:00:00\\\\\n",
       "\t 2013                & 9                   & 30                  & 2203                & 2205                &  -2                 & 2339                & 2331                &   8                 & EV                  & 5311                & N722EV              & LGA                 & BGR                 &  61                 &  378                & 22                  &  5                  & 2013-09-30 22:00:00\\\\\n",
       "\t 2013                & 9                   & 30                  & 2207                & 2140                &  27                 & 2257                & 2250                &   7                 & MQ                  & 3660                & N532MQ              & LGA                 & BNA                 &  97                 &  764                & 21                  & 40                  & 2013-09-30 21:00:00\\\\\n",
       "\t 2013                & 9                   & 30                  & 2211                & 2059                &  72                 & 2339                & 2242                &  57                 & EV                  & 4672                & N12145              & EWR                 & STL                 & 120                 &  872                & 20                  & 59                  & 2013-09-30 20:00:00\\\\\n",
       "\t 2013                & 9                   & 30                  & 2233                & 2113                &  80                 &  112                &   30                &  42                 & UA                  &  471                & N578UA              & EWR                 & SFO                 & 318                 & 2565                & 21                  & 13                  & 2013-09-30 21:00:00\\\\\n",
       "\t 2013                & 9                   & 30                  & 2235                & 2001                & 154                 &   59                & 2249                & 130                 & B6                  & 1083                & N804JB              & JFK                 & MCO                 & 123                 &  944                & 20                  &  1                  & 2013-09-30 20:00:00\\\\\n",
       "\t 2013                & 9                   & 30                  & 2307                & 2255                &  12                 & 2359                & 2358                &   1                 & B6                  &  718                & N565JB              & JFK                 & BOS                 &  33                 &  187                & 22                  & 55                  & 2013-09-30 22:00:00\\\\\n",
       "\\end{tabular}\n"
      ],
      "text/markdown": [
       "\n",
       "| year | month | day | dep_time | sched_dep_time | dep_delay | arr_time | sched_arr_time | arr_delay | carrier | flight | tailnum | origin | dest | air_time | distance | hour | minute | time_hour |\n",
       "|---|---|---|---|---|---|---|---|---|---|---|---|---|---|---|---|---|---|---|\n",
       "| 2013                | 1                   | 1                   | 517                 | 515                 |  2                  |  830                |  819                | 11                  | UA                  | 1545                | N14228              | EWR                 | IAH                 | 227                 | 1400                | 5                   | 15                  | 2013-01-01 05:00:00 |\n",
       "| 2013                | 1                   | 1                   | 533                 | 529                 |  4                  |  850                |  830                | 20                  | UA                  | 1714                | N24211              | LGA                 | IAH                 | 227                 | 1416                | 5                   | 29                  | 2013-01-01 05:00:00 |\n",
       "| 2013                | 1                   | 1                   | 542                 | 540                 |  2                  |  923                |  850                | 33                  | AA                  | 1141                | N619AA              | JFK                 | MIA                 | 160                 | 1089                | 5                   | 40                  | 2013-01-01 05:00:00 |\n",
       "| 2013                | 1                   | 1                   | 554                 | 558                 | -4                  |  740                |  728                | 12                  | UA                  | 1696                | N39463              | EWR                 | ORD                 | 150                 |  719                | 5                   | 58                  | 2013-01-01 05:00:00 |\n",
       "| 2013                | 1                   | 1                   | 555                 | 600                 | -5                  |  913                |  854                | 19                  | B6                  |  507                | N516JB              | EWR                 | FLL                 | 158                 | 1065                | 6                   |  0                  | 2013-01-01 06:00:00 |\n",
       "| 2013                | 1                   | 1                   | 558                 | 600                 | -2                  |  753                |  745                |  8                  | AA                  |  301                | N3ALAA              | LGA                 | ORD                 | 138                 |  733                | 6                   |  0                  | 2013-01-01 06:00:00 |\n",
       "| 2013                | 1                   | 1                   | 558                 | 600                 | -2                  |  924                |  917                |  7                  | UA                  |  194                | N29129              | JFK                 | LAX                 | 345                 | 2475                | 6                   |  0                  | 2013-01-01 06:00:00 |\n",
       "| 2013                | 1                   | 1                   | 559                 | 600                 | -1                  |  941                |  910                | 31                  | AA                  |  707                | N3DUAA              | LGA                 | DFW                 | 257                 | 1389                | 6                   |  0                  | 2013-01-01 06:00:00 |\n",
       "| 2013                | 1                   | 1                   | 600                 | 600                 |  0                  |  837                |  825                | 12                  | MQ                  | 4650                | N542MQ              | LGA                 | ATL                 | 134                 |  762                | 6                   |  0                  | 2013-01-01 06:00:00 |\n",
       "| 2013                | 1                   | 1                   | 602                 | 605                 | -3                  |  821                |  805                | 16                  | MQ                  | 4401                | N730MQ              | LGA                 | DTW                 | 105                 |  502                | 6                   |  5                  | 2013-01-01 06:00:00 |\n",
       "| 2013                | 1                   | 1                   | 608                 | 600                 |  8                  |  807                |  735                | 32                  | MQ                  | 3768                | N9EAMQ              | EWR                 | ORD                 | 139                 |  719                | 6                   |  0                  | 2013-01-01 06:00:00 |\n",
       "| 2013                | 1                   | 1                   | 611                 | 600                 | 11                  |  945                |  931                | 14                  | UA                  |  303                | N532UA              | JFK                 | SFO                 | 366                 | 2586                | 6                   |  0                  | 2013-01-01 06:00:00 |\n",
       "| 2013                | 1                   | 1                   | 613                 | 610                 |  3                  |  925                |  921                |  4                  | B6                  |  135                | N635JB              | JFK                 | RSW                 | 175                 | 1074                | 6                   | 10                  | 2013-01-01 06:00:00 |\n",
       "| 2013                | 1                   | 1                   | 622                 | 630                 | -8                  | 1017                | 1014                |  3                  | US                  |  245                | N807AW              | EWR                 | PHX                 | 342                 | 2133                | 6                   | 30                  | 2013-01-01 06:00:00 |\n",
       "| 2013                | 1                   | 1                   | 623                 | 610                 | 13                  |  920                |  915                |  5                  | AA                  | 1837                | N3EMAA              | LGA                 | MIA                 | 153                 | 1096                | 6                   | 10                  | 2013-01-01 06:00:00 |\n",
       "| 2013                | 1                   | 1                   | 623                 | 627                 | -4                  |  933                |  932                |  1                  | UA                  |  496                | N459UA              | LGA                 | IAH                 | 229                 | 1416                | 6                   | 27                  | 2013-01-01 06:00:00 |\n",
       "| 2013                | 1                   | 1                   | 624                 | 630                 | -6                  |  909                |  840                | 29                  | EV                  | 4626                | N11107              | EWR                 | MSP                 | 190                 | 1008                | 6                   | 30                  | 2013-01-01 06:00:00 |\n",
       "| 2013                | 1                   | 1                   | 624                 | 630                 | -6                  |  840                |  830                | 10                  | MQ                  | 4599                | N518MQ              | LGA                 | MSP                 | 166                 | 1020                | 6                   | 30                  | 2013-01-01 06:00:00 |\n",
       "| 2013                | 1                   | 1                   | 628                 | 630                 | -2                  | 1016                |  947                | 29                  | UA                  | 1665                | N33289              | EWR                 | LAX                 | 366                 | 2454                | 6                   | 30                  | 2013-01-01 06:00:00 |\n",
       "| 2013                | 1                   | 1                   | 629                 | 630                 | -1                  |  824                |  810                | 14                  | AA                  |  303                | N3CYAA              | LGA                 | ORD                 | 140                 |  733                | 6                   | 30                  | 2013-01-01 06:00:00 |\n",
       "| 2013                | 1                   | 1                   | 632                 | 608                 | 24                  |  740                |  728                | 12                  | EV                  | 4144                | N13553              | EWR                 | IAD                 |  52                 |  212                | 6                   |  8                  | 2013-01-01 06:00:00 |\n",
       "| 2013                | 1                   | 1                   | 635                 | 635                 |  0                  | 1028                |  940                | 48                  | AA                  |  711                | N3GKAA              | LGA                 | DFW                 | 248                 | 1389                | 6                   | 35                  | 2013-01-01 06:00:00 |\n",
       "| 2013                | 1                   | 1                   | 645                 | 647                 | -2                  |  815                |  810                |  5                  | B6                  |  102                | N796JB              | JFK                 | BUF                 |  63                 |  301                | 6                   | 47                  | 2013-01-01 06:00:00 |\n",
       "| 2013                | 1                   | 1                   | 652                 | 655                 | -3                  |  932                |  921                | 11                  | B6                  |  117                | N178JB              | JFK                 | MSY                 | 191                 | 1182                | 6                   | 55                  | 2013-01-01 06:00:00 |\n",
       "| 2013                | 1                   | 1                   | 656                 | 700                 | -4                  |  854                |  850                |  4                  | AA                  |  305                | N4WNAA              | LGA                 | ORD                 | 143                 |  733                | 7                   |  0                  | 2013-01-01 07:00:00 |\n",
       "| 2013                | 1                   | 1                   | 656                 | 705                 | -9                  | 1007                |  940                | 27                  | MQ                  | 4534                | N722MQ              | LGA                 | XNA                 | 233                 | 1147                | 7                   |  5                  | 2013-01-01 07:00:00 |\n",
       "| 2013                | 1                   | 1                   | 658                 | 700                 | -2                  |  944                |  939                |  5                  | DL                  | 1547                | N6703D              | LGA                 | ATL                 | 126                 |  762                | 7                   |  0                  | 2013-01-01 07:00:00 |\n",
       "| 2013                | 1                   | 1                   | 658                 | 700                 | -2                  | 1027                | 1025                |  2                  | VX                  |  399                | N627VA              | JFK                 | LAX                 | 361                 | 2475                | 7                   |  0                  | 2013-01-01 07:00:00 |\n",
       "| 2013                | 1                   | 1                   | 659                 | 700                 | -1                  | 1008                | 1007                |  1                  | B6                  |  981                | N646JB              | JFK                 | FLL                 | 156                 | 1069                | 7                   |  0                  | 2013-01-01 07:00:00 |\n",
       "| 2013                | 1                   | 1                   | 702                 | 700                 |  2                  | 1058                | 1014                | 44                  | B6                  |  671                | N779JB              | JFK                 | LAX                 | 381                 | 2475                | 7                   |  0                  | 2013-01-01 07:00:00 |\n",
       "| ... | ... | ... | ... | ... | ... | ... | ... | ... | ... | ... | ... | ... | ... | ... | ... | ... | ... | ... |\n",
       "| 2013                | 9                   | 30                  | 1929                | 1934                |  -5                 | 2146                | 2136                |  10                 | EV                  | 4370                | N18557              | EWR                 | CHS                 |  92                 |  628                | 19                  | 34                  | 2013-09-30 19:00:00 |\n",
       "| 2013                | 9                   | 30                  | 1931                | 1905                |  26                 | 2049                | 2033                |  16                 | EV                  | 5383                | N748EV              | LGA                 | ROC                 |  41                 |  254                | 19                  |  5                  | 2013-09-30 19:00:00 |\n",
       "| 2013                | 9                   | 30                  | 1936                | 1910                |  26                 | 2204                | 2203                |   1                 | DL                  | 2159                | N905DL              | JFK                 | MCO                 | 126                 |  944                | 19                  | 10                  | 2013-09-30 19:00:00 |\n",
       "| 2013                | 9                   | 30                  | 1938                | 1850                |  48                 | 2248                | 2220                |  28                 | VX                  |   29                | N626VA              | JFK                 | SFO                 | 323                 | 2586                | 18                  | 50                  | 2013-09-30 18:00:00 |\n",
       "| 2013                | 9                   | 30                  | 1943                | 1810                |  93                 | 2140                | 1955                | 105                 | MQ                  | 3526                | N724MQ              | LGA                 | CMH                 |  72                 |  479                | 18                  | 10                  | 2013-09-30 18:00:00 |\n",
       "| 2013                | 9                   | 30                  | 1951                | 1649                | 182                 | 2157                | 1903                | 174                 | EV                  | 4294                | N13988              | EWR                 | SAV                 |  95                 |  708                | 16                  | 49                  | 2013-09-30 16:00:00 |\n",
       "| 2013                | 9                   | 30                  | 1955                | 1942                |  13                 | 2300                | 2250                |  10                 | B6                  | 1271                | N623JB              | LGA                 | FLL                 | 141                 | 1076                | 19                  | 42                  | 2013-09-30 19:00:00 |\n",
       "| 2013                | 9                   | 30                  | 1956                | 1825                |  91                 | 2208                | 2121                |  47                 | DL                  | 1576                | N3772H              | JFK                 | SAN                 | 292                 | 2446                | 18                  | 25                  | 2013-09-30 18:00:00 |\n",
       "| 2013                | 9                   | 30                  | 2008                | 1935                |  33                 | 2322                | 2242                |  40                 | UA                  |  208                | N816UA              | EWR                 | SEA                 | 339                 | 2402                | 19                  | 35                  | 2013-09-30 19:00:00 |\n",
       "| 2013                | 9                   | 30                  | 2013                | 2000                |  13                 | 2133                | 2120                |  13                 | US                  | 2195                | N747UW              | LGA                 | DCA                 |  41                 |  214                | 20                  |  0                  | 2013-09-30 20:00:00 |\n",
       "| 2013                | 9                   | 30                  | 2028                | 1910                |  78                 | 2255                | 2215                |  40                 | AA                  |   21                | N338AA              | JFK                 | LAX                 | 294                 | 2475                | 19                  | 10                  | 2013-09-30 19:00:00 |\n",
       "| 2013                | 9                   | 30                  | 2032                | 1945                |  47                 | 2115                | 2106                |   9                 | 9E                  | 3864                | N602XJ              | JFK                 | PHL                 |  24                 |   94                | 19                  | 45                  | 2013-09-30 19:00:00 |\n",
       "| 2013                | 9                   | 30                  | 2034                | 2030                |   4                 | 2204                | 2201                |   3                 | FL                  |  354                | N894AT              | LGA                 | CAK                 |  58                 |  397                | 20                  | 30                  | 2013-09-30 20:00:00 |\n",
       "| 2013                | 9                   | 30                  | 2053                | 1815                | 158                 | 2310                | 2054                | 136                 | EV                  | 5292                | N600QX              | EWR                 | ATL                 |  91                 |  746                | 18                  | 15                  | 2013-09-30 18:00:00 |\n",
       "| 2013                | 9                   | 30                  | 2053                | 2015                |  38                 | 2146                | 2144                |   2                 | 9E                  | 3899                | N8423C              | JFK                 | BWI                 |  33                 |  184                | 20                  | 15                  | 2013-09-30 20:00:00 |\n",
       "| 2013                | 9                   | 30                  | 2059                | 2003                |  56                 | 2311                | 2237                |  34                 | EV                  | 4204                | N11127              | EWR                 | OKC                 | 166                 | 1325                | 20                  |  3                  | 2013-09-30 20:00:00 |\n",
       "| 2013                | 9                   | 30                  | 2104                | 2019                |  45                 | 2304                | 2240                |  24                 | EV                  | 4333                | N11109              | EWR                 | TUL                 | 154                 | 1215                | 20                  | 19                  | 2013-09-30 20:00:00 |\n",
       "| 2013                | 9                   | 30                  | 2104                | 2030                |  34                 | 2205                | 2150                |  15                 | WN                  |  382                | N7741C              | LGA                 | MDW                 | 105                 |  725                | 20                  | 30                  | 2013-09-30 20:00:00 |\n",
       "| 2013                | 9                   | 30                  | 2110                | 2055                |  15                 |   51                | 2359                |  52                 | B6                  | 1205                | N517JB              | JFK                 | PDX                 | 361                 | 2454                | 20                  | 55                  | 2013-09-30 20:00:00 |\n",
       "| 2013                | 9                   | 30                  | 2114                | 2025                |  49                 | 2304                | 2228                |  36                 | EV                  | 4348                | N11184              | EWR                 | MSP                 | 145                 | 1008                | 20                  | 25                  | 2013-09-30 20:00:00 |\n",
       "| 2013                | 9                   | 30                  | 2119                | 2005                |  74                 | 2310                | 2212                |  58                 | EV                  | 4321                | N17984              | EWR                 | MCI                 | 147                 | 1092                | 20                  |  5                  | 2013-09-30 20:00:00 |\n",
       "| 2013                | 9                   | 30                  | 2142                | 2129                |  13                 | 2250                | 2239                |  11                 | EV                  | 4509                | N12957              | EWR                 | PWM                 |  47                 |  284                | 21                  | 29                  | 2013-09-30 21:00:00 |\n",
       "| 2013                | 9                   | 30                  | 2147                | 2137                |  10                 |   30                |   27                |   3                 | B6                  | 1371                | N627JB              | LGA                 | FLL                 | 139                 | 1076                | 21                  | 37                  | 2013-09-30 21:00:00 |\n",
       "| 2013                | 9                   | 30                  | 2159                | 1845                | 194                 | 2344                | 2030                | 194                 | 9E                  | 3320                | N906XJ              | JFK                 | BUF                 |  50                 |  301                | 18                  | 45                  | 2013-09-30 18:00:00 |\n",
       "| 2013                | 9                   | 30                  | 2203                | 2205                |  -2                 | 2339                | 2331                |   8                 | EV                  | 5311                | N722EV              | LGA                 | BGR                 |  61                 |  378                | 22                  |  5                  | 2013-09-30 22:00:00 |\n",
       "| 2013                | 9                   | 30                  | 2207                | 2140                |  27                 | 2257                | 2250                |   7                 | MQ                  | 3660                | N532MQ              | LGA                 | BNA                 |  97                 |  764                | 21                  | 40                  | 2013-09-30 21:00:00 |\n",
       "| 2013                | 9                   | 30                  | 2211                | 2059                |  72                 | 2339                | 2242                |  57                 | EV                  | 4672                | N12145              | EWR                 | STL                 | 120                 |  872                | 20                  | 59                  | 2013-09-30 20:00:00 |\n",
       "| 2013                | 9                   | 30                  | 2233                | 2113                |  80                 |  112                |   30                |  42                 | UA                  |  471                | N578UA              | EWR                 | SFO                 | 318                 | 2565                | 21                  | 13                  | 2013-09-30 21:00:00 |\n",
       "| 2013                | 9                   | 30                  | 2235                | 2001                | 154                 |   59                | 2249                | 130                 | B6                  | 1083                | N804JB              | JFK                 | MCO                 | 123                 |  944                | 20                  |  1                  | 2013-09-30 20:00:00 |\n",
       "| 2013                | 9                   | 30                  | 2307                | 2255                |  12                 | 2359                | 2358                |   1                 | B6                  |  718                | N565JB              | JFK                 | BOS                 |  33                 |  187                | 22                  | 55                  | 2013-09-30 22:00:00 |\n",
       "\n"
      ],
      "text/plain": [
       "       year month day dep_time sched_dep_time dep_delay arr_time sched_arr_time\n",
       "1      2013 1     1   517      515             2         830      819          \n",
       "2      2013 1     1   533      529             4         850      830          \n",
       "3      2013 1     1   542      540             2         923      850          \n",
       "4      2013 1     1   554      558            -4         740      728          \n",
       "5      2013 1     1   555      600            -5         913      854          \n",
       "6      2013 1     1   558      600            -2         753      745          \n",
       "7      2013 1     1   558      600            -2         924      917          \n",
       "8      2013 1     1   559      600            -1         941      910          \n",
       "9      2013 1     1   600      600             0         837      825          \n",
       "10     2013 1     1   602      605            -3         821      805          \n",
       "11     2013 1     1   608      600             8         807      735          \n",
       "12     2013 1     1   611      600            11         945      931          \n",
       "13     2013 1     1   613      610             3         925      921          \n",
       "14     2013 1     1   622      630            -8        1017     1014          \n",
       "15     2013 1     1   623      610            13         920      915          \n",
       "16     2013 1     1   623      627            -4         933      932          \n",
       "17     2013 1     1   624      630            -6         909      840          \n",
       "18     2013 1     1   624      630            -6         840      830          \n",
       "19     2013 1     1   628      630            -2        1016      947          \n",
       "20     2013 1     1   629      630            -1         824      810          \n",
       "21     2013 1     1   632      608            24         740      728          \n",
       "22     2013 1     1   635      635             0        1028      940          \n",
       "23     2013 1     1   645      647            -2         815      810          \n",
       "24     2013 1     1   652      655            -3         932      921          \n",
       "25     2013 1     1   656      700            -4         854      850          \n",
       "26     2013 1     1   656      705            -9        1007      940          \n",
       "27     2013 1     1   658      700            -2         944      939          \n",
       "28     2013 1     1   658      700            -2        1027     1025          \n",
       "29     2013 1     1   659      700            -1        1008     1007          \n",
       "30     2013 1     1   702      700             2        1058     1014          \n",
       "...    ...  ...   ... ...      ...            ...       ...      ...           \n",
       "132975 2013 9     30  1929     1934            -5       2146     2136          \n",
       "132976 2013 9     30  1931     1905            26       2049     2033          \n",
       "132977 2013 9     30  1936     1910            26       2204     2203          \n",
       "132978 2013 9     30  1938     1850            48       2248     2220          \n",
       "132979 2013 9     30  1943     1810            93       2140     1955          \n",
       "132980 2013 9     30  1951     1649           182       2157     1903          \n",
       "132981 2013 9     30  1955     1942            13       2300     2250          \n",
       "132982 2013 9     30  1956     1825            91       2208     2121          \n",
       "132983 2013 9     30  2008     1935            33       2322     2242          \n",
       "132984 2013 9     30  2013     2000            13       2133     2120          \n",
       "132985 2013 9     30  2028     1910            78       2255     2215          \n",
       "132986 2013 9     30  2032     1945            47       2115     2106          \n",
       "132987 2013 9     30  2034     2030             4       2204     2201          \n",
       "132988 2013 9     30  2053     1815           158       2310     2054          \n",
       "132989 2013 9     30  2053     2015            38       2146     2144          \n",
       "132990 2013 9     30  2059     2003            56       2311     2237          \n",
       "132991 2013 9     30  2104     2019            45       2304     2240          \n",
       "132992 2013 9     30  2104     2030            34       2205     2150          \n",
       "132993 2013 9     30  2110     2055            15         51     2359          \n",
       "132994 2013 9     30  2114     2025            49       2304     2228          \n",
       "132995 2013 9     30  2119     2005            74       2310     2212          \n",
       "132996 2013 9     30  2142     2129            13       2250     2239          \n",
       "132997 2013 9     30  2147     2137            10         30       27          \n",
       "132998 2013 9     30  2159     1845           194       2344     2030          \n",
       "132999 2013 9     30  2203     2205            -2       2339     2331          \n",
       "133000 2013 9     30  2207     2140            27       2257     2250          \n",
       "133001 2013 9     30  2211     2059            72       2339     2242          \n",
       "133002 2013 9     30  2233     2113            80        112       30          \n",
       "133003 2013 9     30  2235     2001           154         59     2249          \n",
       "133004 2013 9     30  2307     2255            12       2359     2358          \n",
       "       arr_delay carrier flight tailnum origin dest air_time distance hour\n",
       "1      11        UA      1545   N14228  EWR    IAH  227      1400     5   \n",
       "2      20        UA      1714   N24211  LGA    IAH  227      1416     5   \n",
       "3      33        AA      1141   N619AA  JFK    MIA  160      1089     5   \n",
       "4      12        UA      1696   N39463  EWR    ORD  150       719     5   \n",
       "5      19        B6       507   N516JB  EWR    FLL  158      1065     6   \n",
       "6       8        AA       301   N3ALAA  LGA    ORD  138       733     6   \n",
       "7       7        UA       194   N29129  JFK    LAX  345      2475     6   \n",
       "8      31        AA       707   N3DUAA  LGA    DFW  257      1389     6   \n",
       "9      12        MQ      4650   N542MQ  LGA    ATL  134       762     6   \n",
       "10     16        MQ      4401   N730MQ  LGA    DTW  105       502     6   \n",
       "11     32        MQ      3768   N9EAMQ  EWR    ORD  139       719     6   \n",
       "12     14        UA       303   N532UA  JFK    SFO  366      2586     6   \n",
       "13      4        B6       135   N635JB  JFK    RSW  175      1074     6   \n",
       "14      3        US       245   N807AW  EWR    PHX  342      2133     6   \n",
       "15      5        AA      1837   N3EMAA  LGA    MIA  153      1096     6   \n",
       "16      1        UA       496   N459UA  LGA    IAH  229      1416     6   \n",
       "17     29        EV      4626   N11107  EWR    MSP  190      1008     6   \n",
       "18     10        MQ      4599   N518MQ  LGA    MSP  166      1020     6   \n",
       "19     29        UA      1665   N33289  EWR    LAX  366      2454     6   \n",
       "20     14        AA       303   N3CYAA  LGA    ORD  140       733     6   \n",
       "21     12        EV      4144   N13553  EWR    IAD   52       212     6   \n",
       "22     48        AA       711   N3GKAA  LGA    DFW  248      1389     6   \n",
       "23      5        B6       102   N796JB  JFK    BUF   63       301     6   \n",
       "24     11        B6       117   N178JB  JFK    MSY  191      1182     6   \n",
       "25      4        AA       305   N4WNAA  LGA    ORD  143       733     7   \n",
       "26     27        MQ      4534   N722MQ  LGA    XNA  233      1147     7   \n",
       "27      5        DL      1547   N6703D  LGA    ATL  126       762     7   \n",
       "28      2        VX       399   N627VA  JFK    LAX  361      2475     7   \n",
       "29      1        B6       981   N646JB  JFK    FLL  156      1069     7   \n",
       "30     44        B6       671   N779JB  JFK    LAX  381      2475     7   \n",
       "...    ...       ...     ...    ...     ...    ...  ...      ...      ... \n",
       "132975  10       EV      4370   N18557  EWR    CHS   92       628     19  \n",
       "132976  16       EV      5383   N748EV  LGA    ROC   41       254     19  \n",
       "132977   1       DL      2159   N905DL  JFK    MCO  126       944     19  \n",
       "132978  28       VX        29   N626VA  JFK    SFO  323      2586     18  \n",
       "132979 105       MQ      3526   N724MQ  LGA    CMH   72       479     18  \n",
       "132980 174       EV      4294   N13988  EWR    SAV   95       708     16  \n",
       "132981  10       B6      1271   N623JB  LGA    FLL  141      1076     19  \n",
       "132982  47       DL      1576   N3772H  JFK    SAN  292      2446     18  \n",
       "132983  40       UA       208   N816UA  EWR    SEA  339      2402     19  \n",
       "132984  13       US      2195   N747UW  LGA    DCA   41       214     20  \n",
       "132985  40       AA        21   N338AA  JFK    LAX  294      2475     19  \n",
       "132986   9       9E      3864   N602XJ  JFK    PHL   24        94     19  \n",
       "132987   3       FL       354   N894AT  LGA    CAK   58       397     20  \n",
       "132988 136       EV      5292   N600QX  EWR    ATL   91       746     18  \n",
       "132989   2       9E      3899   N8423C  JFK    BWI   33       184     20  \n",
       "132990  34       EV      4204   N11127  EWR    OKC  166      1325     20  \n",
       "132991  24       EV      4333   N11109  EWR    TUL  154      1215     20  \n",
       "132992  15       WN       382   N7741C  LGA    MDW  105       725     20  \n",
       "132993  52       B6      1205   N517JB  JFK    PDX  361      2454     20  \n",
       "132994  36       EV      4348   N11184  EWR    MSP  145      1008     20  \n",
       "132995  58       EV      4321   N17984  EWR    MCI  147      1092     20  \n",
       "132996  11       EV      4509   N12957  EWR    PWM   47       284     21  \n",
       "132997   3       B6      1371   N627JB  LGA    FLL  139      1076     21  \n",
       "132998 194       9E      3320   N906XJ  JFK    BUF   50       301     18  \n",
       "132999   8       EV      5311   N722EV  LGA    BGR   61       378     22  \n",
       "133000   7       MQ      3660   N532MQ  LGA    BNA   97       764     21  \n",
       "133001  57       EV      4672   N12145  EWR    STL  120       872     20  \n",
       "133002  42       UA       471   N578UA  EWR    SFO  318      2565     21  \n",
       "133003 130       B6      1083   N804JB  JFK    MCO  123       944     20  \n",
       "133004   1       B6       718   N565JB  JFK    BOS   33       187     22  \n",
       "       minute time_hour          \n",
       "1      15     2013-01-01 05:00:00\n",
       "2      29     2013-01-01 05:00:00\n",
       "3      40     2013-01-01 05:00:00\n",
       "4      58     2013-01-01 05:00:00\n",
       "5       0     2013-01-01 06:00:00\n",
       "6       0     2013-01-01 06:00:00\n",
       "7       0     2013-01-01 06:00:00\n",
       "8       0     2013-01-01 06:00:00\n",
       "9       0     2013-01-01 06:00:00\n",
       "10      5     2013-01-01 06:00:00\n",
       "11      0     2013-01-01 06:00:00\n",
       "12      0     2013-01-01 06:00:00\n",
       "13     10     2013-01-01 06:00:00\n",
       "14     30     2013-01-01 06:00:00\n",
       "15     10     2013-01-01 06:00:00\n",
       "16     27     2013-01-01 06:00:00\n",
       "17     30     2013-01-01 06:00:00\n",
       "18     30     2013-01-01 06:00:00\n",
       "19     30     2013-01-01 06:00:00\n",
       "20     30     2013-01-01 06:00:00\n",
       "21      8     2013-01-01 06:00:00\n",
       "22     35     2013-01-01 06:00:00\n",
       "23     47     2013-01-01 06:00:00\n",
       "24     55     2013-01-01 06:00:00\n",
       "25      0     2013-01-01 07:00:00\n",
       "26      5     2013-01-01 07:00:00\n",
       "27      0     2013-01-01 07:00:00\n",
       "28      0     2013-01-01 07:00:00\n",
       "29      0     2013-01-01 07:00:00\n",
       "30      0     2013-01-01 07:00:00\n",
       "...    ...    ...                \n",
       "132975 34     2013-09-30 19:00:00\n",
       "132976  5     2013-09-30 19:00:00\n",
       "132977 10     2013-09-30 19:00:00\n",
       "132978 50     2013-09-30 18:00:00\n",
       "132979 10     2013-09-30 18:00:00\n",
       "132980 49     2013-09-30 16:00:00\n",
       "132981 42     2013-09-30 19:00:00\n",
       "132982 25     2013-09-30 18:00:00\n",
       "132983 35     2013-09-30 19:00:00\n",
       "132984  0     2013-09-30 20:00:00\n",
       "132985 10     2013-09-30 19:00:00\n",
       "132986 45     2013-09-30 19:00:00\n",
       "132987 30     2013-09-30 20:00:00\n",
       "132988 15     2013-09-30 18:00:00\n",
       "132989 15     2013-09-30 20:00:00\n",
       "132990  3     2013-09-30 20:00:00\n",
       "132991 19     2013-09-30 20:00:00\n",
       "132992 30     2013-09-30 20:00:00\n",
       "132993 55     2013-09-30 20:00:00\n",
       "132994 25     2013-09-30 20:00:00\n",
       "132995  5     2013-09-30 20:00:00\n",
       "132996 29     2013-09-30 21:00:00\n",
       "132997 37     2013-09-30 21:00:00\n",
       "132998 45     2013-09-30 18:00:00\n",
       "132999  5     2013-09-30 22:00:00\n",
       "133000 40     2013-09-30 21:00:00\n",
       "133001 59     2013-09-30 20:00:00\n",
       "133002 13     2013-09-30 21:00:00\n",
       "133003  1     2013-09-30 20:00:00\n",
       "133004 55     2013-09-30 22:00:00"
      ]
     },
     "metadata": {},
     "output_type": "display_data"
    }
   ],
   "source": [
    "filter(flights,arr_delay>0)"
   ]
  },
  {
   "cell_type": "code",
   "execution_count": 18,
   "metadata": {
    "scrolled": true
   },
   "outputs": [
    {
     "data": {
      "text/html": [
       "<table>\n",
       "<thead><tr><th scope=col>dest</th></tr></thead>\n",
       "<tbody>\n",
       "\t<tr><td>IAH</td></tr>\n",
       "\t<tr><td>IAH</td></tr>\n",
       "\t<tr><td>MIA</td></tr>\n",
       "\t<tr><td>BQN</td></tr>\n",
       "\t<tr><td>ATL</td></tr>\n",
       "\t<tr><td>ORD</td></tr>\n",
       "\t<tr><td>FLL</td></tr>\n",
       "\t<tr><td>IAD</td></tr>\n",
       "\t<tr><td>MCO</td></tr>\n",
       "\t<tr><td>ORD</td></tr>\n",
       "\t<tr><td>PBI</td></tr>\n",
       "\t<tr><td>TPA</td></tr>\n",
       "\t<tr><td>LAX</td></tr>\n",
       "\t<tr><td>SFO</td></tr>\n",
       "\t<tr><td>DFW</td></tr>\n",
       "\t<tr><td>BOS</td></tr>\n",
       "\t<tr><td>LAS</td></tr>\n",
       "\t<tr><td>FLL</td></tr>\n",
       "\t<tr><td>ATL</td></tr>\n",
       "\t<tr><td>PBI</td></tr>\n",
       "\t<tr><td>MSP</td></tr>\n",
       "\t<tr><td>DTW</td></tr>\n",
       "\t<tr><td>MIA</td></tr>\n",
       "\t<tr><td>ATL</td></tr>\n",
       "\t<tr><td>MIA</td></tr>\n",
       "\t<tr><td>ORD</td></tr>\n",
       "\t<tr><td>SFO</td></tr>\n",
       "\t<tr><td>RSW</td></tr>\n",
       "\t<tr><td>SJU</td></tr>\n",
       "\t<tr><td>ATL</td></tr>\n",
       "\t<tr><td>...</td></tr>\n",
       "\t<tr><td>CHO</td></tr>\n",
       "\t<tr><td>CLT</td></tr>\n",
       "\t<tr><td>DEN</td></tr>\n",
       "\t<tr><td>RIC</td></tr>\n",
       "\t<tr><td>DCA</td></tr>\n",
       "\t<tr><td>LAX</td></tr>\n",
       "\t<tr><td>PWM</td></tr>\n",
       "\t<tr><td>SJU</td></tr>\n",
       "\t<tr><td>FLL</td></tr>\n",
       "\t<tr><td>BOS</td></tr>\n",
       "\t<tr><td>MHT</td></tr>\n",
       "\t<tr><td>BUF</td></tr>\n",
       "\t<tr><td>BGR</td></tr>\n",
       "\t<tr><td>BNA</td></tr>\n",
       "\t<tr><td>STL</td></tr>\n",
       "\t<tr><td>PWM</td></tr>\n",
       "\t<tr><td>SFO</td></tr>\n",
       "\t<tr><td>MCO</td></tr>\n",
       "\t<tr><td>BTV</td></tr>\n",
       "\t<tr><td>SYR</td></tr>\n",
       "\t<tr><td>BUF</td></tr>\n",
       "\t<tr><td>ROC</td></tr>\n",
       "\t<tr><td>BOS</td></tr>\n",
       "\t<tr><td>PSE</td></tr>\n",
       "\t<tr><td>BNA</td></tr>\n",
       "\t<tr><td>DCA</td></tr>\n",
       "\t<tr><td>SYR</td></tr>\n",
       "\t<tr><td>BNA</td></tr>\n",
       "\t<tr><td>CLE</td></tr>\n",
       "\t<tr><td>RDU</td></tr>\n",
       "</tbody>\n",
       "</table>\n"
      ],
      "text/latex": [
       "\\begin{tabular}{r|l}\n",
       " dest\\\\\n",
       "\\hline\n",
       "\t IAH\\\\\n",
       "\t IAH\\\\\n",
       "\t MIA\\\\\n",
       "\t BQN\\\\\n",
       "\t ATL\\\\\n",
       "\t ORD\\\\\n",
       "\t FLL\\\\\n",
       "\t IAD\\\\\n",
       "\t MCO\\\\\n",
       "\t ORD\\\\\n",
       "\t PBI\\\\\n",
       "\t TPA\\\\\n",
       "\t LAX\\\\\n",
       "\t SFO\\\\\n",
       "\t DFW\\\\\n",
       "\t BOS\\\\\n",
       "\t LAS\\\\\n",
       "\t FLL\\\\\n",
       "\t ATL\\\\\n",
       "\t PBI\\\\\n",
       "\t MSP\\\\\n",
       "\t DTW\\\\\n",
       "\t MIA\\\\\n",
       "\t ATL\\\\\n",
       "\t MIA\\\\\n",
       "\t ORD\\\\\n",
       "\t SFO\\\\\n",
       "\t RSW\\\\\n",
       "\t SJU\\\\\n",
       "\t ATL\\\\\n",
       "\t ...\\\\\n",
       "\t CHO\\\\\n",
       "\t CLT\\\\\n",
       "\t DEN\\\\\n",
       "\t RIC\\\\\n",
       "\t DCA\\\\\n",
       "\t LAX\\\\\n",
       "\t PWM\\\\\n",
       "\t SJU\\\\\n",
       "\t FLL\\\\\n",
       "\t BOS\\\\\n",
       "\t MHT\\\\\n",
       "\t BUF\\\\\n",
       "\t BGR\\\\\n",
       "\t BNA\\\\\n",
       "\t STL\\\\\n",
       "\t PWM\\\\\n",
       "\t SFO\\\\\n",
       "\t MCO\\\\\n",
       "\t BTV\\\\\n",
       "\t SYR\\\\\n",
       "\t BUF\\\\\n",
       "\t ROC\\\\\n",
       "\t BOS\\\\\n",
       "\t PSE\\\\\n",
       "\t BNA\\\\\n",
       "\t DCA\\\\\n",
       "\t SYR\\\\\n",
       "\t BNA\\\\\n",
       "\t CLE\\\\\n",
       "\t RDU\\\\\n",
       "\\end{tabular}\n"
      ],
      "text/markdown": [
       "\n",
       "| dest |\n",
       "|---|\n",
       "| IAH |\n",
       "| IAH |\n",
       "| MIA |\n",
       "| BQN |\n",
       "| ATL |\n",
       "| ORD |\n",
       "| FLL |\n",
       "| IAD |\n",
       "| MCO |\n",
       "| ORD |\n",
       "| PBI |\n",
       "| TPA |\n",
       "| LAX |\n",
       "| SFO |\n",
       "| DFW |\n",
       "| BOS |\n",
       "| LAS |\n",
       "| FLL |\n",
       "| ATL |\n",
       "| PBI |\n",
       "| MSP |\n",
       "| DTW |\n",
       "| MIA |\n",
       "| ATL |\n",
       "| MIA |\n",
       "| ORD |\n",
       "| SFO |\n",
       "| RSW |\n",
       "| SJU |\n",
       "| ATL |\n",
       "| ... |\n",
       "| CHO |\n",
       "| CLT |\n",
       "| DEN |\n",
       "| RIC |\n",
       "| DCA |\n",
       "| LAX |\n",
       "| PWM |\n",
       "| SJU |\n",
       "| FLL |\n",
       "| BOS |\n",
       "| MHT |\n",
       "| BUF |\n",
       "| BGR |\n",
       "| BNA |\n",
       "| STL |\n",
       "| PWM |\n",
       "| SFO |\n",
       "| MCO |\n",
       "| BTV |\n",
       "| SYR |\n",
       "| BUF |\n",
       "| ROC |\n",
       "| BOS |\n",
       "| PSE |\n",
       "| BNA |\n",
       "| DCA |\n",
       "| SYR |\n",
       "| BNA |\n",
       "| CLE |\n",
       "| RDU |\n",
       "\n"
      ],
      "text/plain": [
       "       dest\n",
       "1      IAH \n",
       "2      IAH \n",
       "3      MIA \n",
       "4      BQN \n",
       "5      ATL \n",
       "6      ORD \n",
       "7      FLL \n",
       "8      IAD \n",
       "9      MCO \n",
       "10     ORD \n",
       "11     PBI \n",
       "12     TPA \n",
       "13     LAX \n",
       "14     SFO \n",
       "15     DFW \n",
       "16     BOS \n",
       "17     LAS \n",
       "18     FLL \n",
       "19     ATL \n",
       "20     PBI \n",
       "21     MSP \n",
       "22     DTW \n",
       "23     MIA \n",
       "24     ATL \n",
       "25     MIA \n",
       "26     ORD \n",
       "27     SFO \n",
       "28     RSW \n",
       "29     SJU \n",
       "30     ATL \n",
       "...    ... \n",
       "336747 CHO \n",
       "336748 CLT \n",
       "336749 DEN \n",
       "336750 RIC \n",
       "336751 DCA \n",
       "336752 LAX \n",
       "336753 PWM \n",
       "336754 SJU \n",
       "336755 FLL \n",
       "336756 BOS \n",
       "336757 MHT \n",
       "336758 BUF \n",
       "336759 BGR \n",
       "336760 BNA \n",
       "336761 STL \n",
       "336762 PWM \n",
       "336763 SFO \n",
       "336764 MCO \n",
       "336765 BTV \n",
       "336766 SYR \n",
       "336767 BUF \n",
       "336768 ROC \n",
       "336769 BOS \n",
       "336770 PSE \n",
       "336771 BNA \n",
       "336772 DCA \n",
       "336773 SYR \n",
       "336774 BNA \n",
       "336775 CLE \n",
       "336776 RDU "
      ]
     },
     "metadata": {},
     "output_type": "display_data"
    }
   ],
   "source": [
    "select(flights, dest)"
   ]
  },
  {
   "cell_type": "code",
   "execution_count": null,
   "metadata": {},
   "outputs": [],
   "source": []
  }
 ],
 "metadata": {
  "kernelspec": {
   "display_name": "R [conda env:miniconda3-4.3.30]",
   "language": "R",
   "name": "conda-env-miniconda3-4.3.30-r"
  },
  "language_info": {
   "codemirror_mode": "r",
   "file_extension": ".r",
   "mimetype": "text/x-r-source",
   "name": "R",
   "pygments_lexer": "r",
   "version": "3.6.1"
  },
  "toc": {
   "base_numbering": 1,
   "nav_menu": {},
   "number_sections": true,
   "sideBar": true,
   "skip_h1_title": false,
   "title_cell": "Table of Contents",
   "title_sidebar": "Contents",
   "toc_cell": false,
   "toc_position": {},
   "toc_section_display": true,
   "toc_window_display": false
  }
 },
 "nbformat": 4,
 "nbformat_minor": 2
}
