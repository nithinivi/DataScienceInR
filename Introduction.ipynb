{
 "cells": [
  {
   "cell_type": "markdown",
   "metadata": {},
   "source": [
    "# Introduction"
   ]
  },
  {
   "cell_type": "markdown",
   "metadata": {},
   "source": [
    "What are we going to do ?\n",
    "\n",
    "\n",
    "    Move Data into R -> Tranfrom it -> Visualise it -> Model it. \n"
   ]
  },
  {
   "cell_type": "markdown",
   "metadata": {},
   "source": [
    "## Before all that; what is **Jupyter**  and how to use it ?\n"
   ]
  },
  {
   "cell_type": "markdown",
   "metadata": {},
   "source": [
    "Jupyter documents are called \"notebooks\" and can be seen as many things at once. For example, notebooks allow:\n",
    "\n",
    "* coding in a standard web browser\n",
    "* direct sharing with results\n",
    "* using text with styles (such as italics and titles) to be explicitly marked using a wikitext language\n",
    "* easy creation and display of beautiful equations\n",
    "* easy creation and display of interactive visualizations\n"
   ]
  },
  {
   "cell_type": "markdown",
   "metadata": {},
   "source": []
  },
  {
   "cell_type": "code",
   "execution_count": null,
   "metadata": {},
   "outputs": [],
   "source": []
  },
  {
   "cell_type": "markdown",
   "metadata": {
    "solution": "hidden"
   },
   "source": [
    "\n",
    "###  The <span style='background :green' >  .   </span>  Green  mode \n",
    "This is the edit mode <br>\n",
    "To enter into green select all cell and press **Enter** & to exit to blue mode press **Esc** <br>\n",
    "<br>\n",
    "\n",
    "### The <span style='background :blue' >  .   </span> Blue mode\n",
    "This is the command mode <br>\n",
    "We can do all sorts of edits on cell level in this mode . <br>\n",
    "Interseting functionalities can be found in help **HH**\n",
    "    \n",
    " **Note**\n",
    "    - Code mode can be selected by pressing 'y' this is the default one \n",
    "    - Markdown mode can selected by pressing 'm'\n",
    "    \n",
    "    For more on jupyter notebooks please refer [1]\n",
    "\n"
   ]
  },
  {
   "cell_type": "markdown",
   "metadata": {
    "solution": "hidden",
    "solution_first": true
   },
   "source": [
    "Exercise 1\n",
    "\n",
    "- Write your name and address in markdown mode cell\n",
    "- In the next cell evaluate sum digits of your Age code cell "
   ]
  },
  {
   "cell_type": "code",
   "execution_count": 1,
   "metadata": {
    "solution": "hidden"
   },
   "outputs": [
    {
     "data": {
      "text/html": [
       "6"
      ],
      "text/latex": [
       "6"
      ],
      "text/markdown": [
       "6"
      ],
      "text/plain": [
       "[1] 6"
      ]
     },
     "metadata": {},
     "output_type": "display_data"
    }
   ],
   "source": [
    "2 + 4"
   ]
  },
  {
   "cell_type": "markdown",
   "metadata": {},
   "source": [
    "# R Programming "
   ]
  },
  {
   "cell_type": "markdown",
   "metadata": {},
   "source": [
    "R is a language and environment for statistical computing and graphics. It is an integrated suite of software facilities for data manipulation, calculation and graphical display. It includes\n",
    "\n",
    " - an effective data handling and storage facility,\n",
    " - a suite of operators for calculations on arrays, in particular matrices,\n",
    " - a large, coherent, integrated collection of intermediate tools for data analysis,\n",
    " - graphical facilities for data analysis and display either on-screen or on hardcopy, and\n",
    " - a well-developed, simple and effective programming language which includes conditionals, loops, user-defined recursive functions and input and output facilities.\n"
   ]
  },
  {
   "cell_type": "markdown",
   "metadata": {},
   "source": [
    "## The Essentials \n",
    "\n",
    "    - Statements and Variables \n",
    "    - Data-Types and a few in-built functions\n",
    "    - Conditions and Loops \n",
    "    - Functions\n",
    "    - DataFrame"
   ]
  },
  {
   "cell_type": "code",
   "execution_count": 2,
   "metadata": {},
   "outputs": [
    {
     "name": "stdout",
     "output_type": "stream",
     "text": [
      "[1] \"hello World!\"\n"
     ]
    }
   ],
   "source": [
    "print(\"hello World!\")"
   ]
  },
  {
   "cell_type": "code",
   "execution_count": null,
   "metadata": {},
   "outputs": [],
   "source": [
    "install.packages(\"tidyverse\")"
   ]
  },
  {
   "cell_type": "code",
   "execution_count": null,
   "metadata": {},
   "outputs": [],
   "source": [
    "library(ggplot2)\n",
    "rmax <- 30\n",
    "out.df <- matrix(NA, ncol = 2, nrow = 0)\n",
    "a <- 0.01\n",
    "r <- seq(0, rmax, by = 0.01)\n",
    "n <- 100\n",
    "\n",
    "for (z in 1:length(r)) {\n",
    "\n",
    "    xl <- vector()\n",
    "    xl[1] <- 10\n",
    "    for (i in 2:n) {\n",
    "\n",
    "        xl[i] <- xl[i - 1] * r[z] * exp(-a * xl[i - 1])\n",
    "\n",
    "    }\n",
    "    uval <- unique(xl[40:n])\n",
    "    ### Here is where we can save the output for ggplot\n",
    "    out.df <- rbind(out.df, cbind(rep(r[z], length(uval)), uval))\n",
    "}\n",
    "out.df <- as.data.frame(out.df)\n",
    "colnames(out.df) <- c(\"r\", \"N\")\n",
    "ggplot(out.df, aes(x = r, y = N)) + geom_point(size = 0.5)"
   ]
  },
  {
   "cell_type": "markdown",
   "metadata": {},
   "source": [
    "# Reference\n",
    "\n",
    "[1] https://jupyter.brynmawr.edu/services/public/dblank/Jupyter%20Notebook%20Users%20Manual.ipynb"
   ]
  },
  {
   "cell_type": "code",
   "execution_count": null,
   "metadata": {},
   "outputs": [],
   "source": []
  }
 ],
 "metadata": {
  "kernelspec": {
   "display_name": "R [conda env:miniconda3-4.3.30]",
   "language": "R",
   "name": "conda-env-miniconda3-4.3.30-r"
  },
  "language_info": {
   "codemirror_mode": "r",
   "file_extension": ".r",
   "mimetype": "text/x-r-source",
   "name": "R",
   "pygments_lexer": "r",
   "version": "3.6.1"
  },
  "toc": {
   "base_numbering": 1,
   "nav_menu": {},
   "number_sections": true,
   "sideBar": true,
   "skip_h1_title": false,
   "title_cell": "Table of Contents",
   "title_sidebar": "Contents",
   "toc_cell": false,
   "toc_position": {},
   "toc_section_display": true,
   "toc_window_display": false
  }
 },
 "nbformat": 4,
 "nbformat_minor": 2
}
