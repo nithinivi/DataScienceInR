{
 "cells": [
  {
   "cell_type": "markdown",
   "metadata": {},
   "source": [
    "# Exploratory Data Analysis - EDA"
   ]
  },
  {
   "cell_type": "code",
   "execution_count": 4,
   "metadata": {},
   "outputs": [
    {
     "name": "stderr",
     "output_type": "stream",
     "text": [
      "── Attaching packages ─────────────────────────────────────── tidyverse 1.3.0 ──\n",
      "✔ ggplot2 3.2.1     ✔ purrr   0.3.3\n",
      "✔ tibble  2.1.3     ✔ dplyr   0.8.4\n",
      "✔ tidyr   1.0.2     ✔ stringr 1.4.0\n",
      "✔ readr   1.3.1     ✔ forcats 0.4.0\n",
      "── Conflicts ────────────────────────────────────────── tidyverse_conflicts() ──\n",
      "✖ dplyr::filter()  masks stats::filter()\n",
      "✖ purrr::flatten() masks jsonlite::flatten()\n",
      "✖ dplyr::lag()     masks stats::lag()\n"
     ]
    }
   ],
   "source": [
    "## CALLING LIBRARIES USED FOR EDA\n",
    "\n",
    "library(\"tidyverse\")\n",
    "library(\"ggplot2\")"
   ]
  },
  {
   "cell_type": "code",
   "execution_count": 5,
   "metadata": {},
   "outputs": [],
   "source": [
    "library(repr)\n",
    "options(repr.plot.width=5, repr.plot.height=3)"
   ]
  },
  {
   "cell_type": "code",
   "execution_count": 6,
   "metadata": {},
   "outputs": [
    {
     "name": "stderr",
     "output_type": "stream",
     "text": [
      "Parsed with column specification:\n",
      "cols(\n",
      "  Brand = col_character(),\n",
      "  Price = col_double(),\n",
      "  Body = col_character(),\n",
      "  Mileage = col_double(),\n",
      "  EngineV = col_double(),\n",
      "  Engine.Type = col_character(),\n",
      "  Registration = col_character(),\n",
      "  Year = col_double(),\n",
      "  Model = col_character()\n",
      ")\n"
     ]
    }
   ],
   "source": [
    "## STORING DATA IN THE CSV FILE TO VARIABLE \"data\"\n",
    "data = read_csv('data/mulitple_lr_cars.csv')"
   ]
  },
  {
   "cell_type": "code",
   "execution_count": 7,
   "metadata": {},
   "outputs": [
    {
     "data": {
      "text/html": [
       "<table>\n",
       "<thead><tr><th scope=col>Brand</th><th scope=col>Price</th><th scope=col>Body</th><th scope=col>Mileage</th><th scope=col>EngineV</th><th scope=col>Engine.Type</th><th scope=col>Registration</th><th scope=col>Year</th><th scope=col>Model</th></tr></thead>\n",
       "<tbody>\n",
       "\t<tr><td>BMW          </td><td>  4200       </td><td>sedan        </td><td>277          </td><td>2.0          </td><td>Petrol       </td><td>yes          </td><td>1991         </td><td>320          </td></tr>\n",
       "\t<tr><td>Mercedes-Benz</td><td>  7900       </td><td>van          </td><td>427          </td><td>2.9          </td><td>Diesel       </td><td>yes          </td><td>1999         </td><td>Sprinter 212 </td></tr>\n",
       "\t<tr><td>Mercedes-Benz</td><td> 13300       </td><td>sedan        </td><td>358          </td><td>5.0          </td><td>Gas          </td><td>yes          </td><td>2003         </td><td>S 500        </td></tr>\n",
       "\t<tr><td>Audi         </td><td> 23000       </td><td>crossover    </td><td>240          </td><td>4.2          </td><td>Petrol       </td><td>yes          </td><td>2007         </td><td>Q7           </td></tr>\n",
       "\t<tr><td>Toyota       </td><td> 18300       </td><td>crossover    </td><td>120          </td><td>2.0          </td><td>Petrol       </td><td>yes          </td><td>2011         </td><td>Rav 4        </td></tr>\n",
       "\t<tr><td>Mercedes-Benz</td><td>199999       </td><td>crossover    </td><td>  0          </td><td>5.5          </td><td>Petrol       </td><td>yes          </td><td>2016         </td><td>GLS 63       </td></tr>\n",
       "</tbody>\n",
       "</table>\n"
      ],
      "text/latex": [
       "\\begin{tabular}{r|lllllllll}\n",
       " Brand & Price & Body & Mileage & EngineV & Engine.Type & Registration & Year & Model\\\\\n",
       "\\hline\n",
       "\t BMW           &   4200        & sedan         & 277           & 2.0           & Petrol        & yes           & 1991          & 320          \\\\\n",
       "\t Mercedes-Benz &   7900        & van           & 427           & 2.9           & Diesel        & yes           & 1999          & Sprinter 212 \\\\\n",
       "\t Mercedes-Benz &  13300        & sedan         & 358           & 5.0           & Gas           & yes           & 2003          & S 500        \\\\\n",
       "\t Audi          &  23000        & crossover     & 240           & 4.2           & Petrol        & yes           & 2007          & Q7           \\\\\n",
       "\t Toyota        &  18300        & crossover     & 120           & 2.0           & Petrol        & yes           & 2011          & Rav 4        \\\\\n",
       "\t Mercedes-Benz & 199999        & crossover     &   0           & 5.5           & Petrol        & yes           & 2016          & GLS 63       \\\\\n",
       "\\end{tabular}\n"
      ],
      "text/markdown": [
       "\n",
       "| Brand | Price | Body | Mileage | EngineV | Engine.Type | Registration | Year | Model |\n",
       "|---|---|---|---|---|---|---|---|---|\n",
       "| BMW           |   4200        | sedan         | 277           | 2.0           | Petrol        | yes           | 1991          | 320           |\n",
       "| Mercedes-Benz |   7900        | van           | 427           | 2.9           | Diesel        | yes           | 1999          | Sprinter 212  |\n",
       "| Mercedes-Benz |  13300        | sedan         | 358           | 5.0           | Gas           | yes           | 2003          | S 500         |\n",
       "| Audi          |  23000        | crossover     | 240           | 4.2           | Petrol        | yes           | 2007          | Q7            |\n",
       "| Toyota        |  18300        | crossover     | 120           | 2.0           | Petrol        | yes           | 2011          | Rav 4         |\n",
       "| Mercedes-Benz | 199999        | crossover     |   0           | 5.5           | Petrol        | yes           | 2016          | GLS 63        |\n",
       "\n"
      ],
      "text/plain": [
       "  Brand         Price  Body      Mileage EngineV Engine.Type Registration Year\n",
       "1 BMW             4200 sedan     277     2.0     Petrol      yes          1991\n",
       "2 Mercedes-Benz   7900 van       427     2.9     Diesel      yes          1999\n",
       "3 Mercedes-Benz  13300 sedan     358     5.0     Gas         yes          2003\n",
       "4 Audi           23000 crossover 240     4.2     Petrol      yes          2007\n",
       "5 Toyota         18300 crossover 120     2.0     Petrol      yes          2011\n",
       "6 Mercedes-Benz 199999 crossover   0     5.5     Petrol      yes          2016\n",
       "  Model       \n",
       "1 320         \n",
       "2 Sprinter 212\n",
       "3 S 500       \n",
       "4 Q7          \n",
       "5 Rav 4       \n",
       "6 GLS 63      "
      ]
     },
     "metadata": {},
     "output_type": "display_data"
    }
   ],
   "source": [
    "## VIEWING THE FIRST 6 ROWS USING HEAD() FUNCTION\n",
    "head(data)"
   ]
  },
  {
   "cell_type": "markdown",
   "metadata": {},
   "source": [
    "**CONTINUOUS OR CATAGORICAL**\n",
    "\n",
    "    - Continuous Variables : Price , Mileage , EngineV , Year\n",
    "    - Catagorical Variables : Brand , Body , Engine.Type , Registration"
   ]
  },
  {
   "cell_type": "markdown",
   "metadata": {},
   "source": [
    "##  TREATMENT OF MISSING VALUES"
   ]
  },
  {
   "cell_type": "markdown",
   "metadata": {},
   "source": [
    "- deleting row \n",
    "- replacing value with central tendency"
   ]
  },
  {
   "cell_type": "code",
   "execution_count": 8,
   "metadata": {
    "scrolled": true
   },
   "outputs": [
    {
     "data": {
      "text/html": [
       "<table>\n",
       "<thead><tr><th scope=col>Brand</th><th scope=col>Price</th><th scope=col>Body</th><th scope=col>Mileage</th><th scope=col>EngineV</th><th scope=col>Engine.Type</th><th scope=col>Registration</th><th scope=col>Year</th><th scope=col>Model</th></tr></thead>\n",
       "<tbody>\n",
       "\t<tr><td>FALSE</td><td>FALSE</td><td>FALSE</td><td>FALSE</td><td>FALSE</td><td>FALSE</td><td>FALSE</td><td>FALSE</td><td>FALSE</td></tr>\n",
       "\t<tr><td>FALSE</td><td>FALSE</td><td>FALSE</td><td>FALSE</td><td>FALSE</td><td>FALSE</td><td>FALSE</td><td>FALSE</td><td>FALSE</td></tr>\n",
       "\t<tr><td>FALSE</td><td>FALSE</td><td>FALSE</td><td>FALSE</td><td>FALSE</td><td>FALSE</td><td>FALSE</td><td>FALSE</td><td>FALSE</td></tr>\n",
       "\t<tr><td>FALSE</td><td>FALSE</td><td>FALSE</td><td>FALSE</td><td>FALSE</td><td>FALSE</td><td>FALSE</td><td>FALSE</td><td>FALSE</td></tr>\n",
       "\t<tr><td>FALSE</td><td>FALSE</td><td>FALSE</td><td>FALSE</td><td>FALSE</td><td>FALSE</td><td>FALSE</td><td>FALSE</td><td>FALSE</td></tr>\n",
       "\t<tr><td>FALSE</td><td>FALSE</td><td>FALSE</td><td>FALSE</td><td>FALSE</td><td>FALSE</td><td>FALSE</td><td>FALSE</td><td>FALSE</td></tr>\n",
       "\t<tr><td>FALSE</td><td>FALSE</td><td>FALSE</td><td>FALSE</td><td>FALSE</td><td>FALSE</td><td>FALSE</td><td>FALSE</td><td>FALSE</td></tr>\n",
       "\t<tr><td>FALSE</td><td>FALSE</td><td>FALSE</td><td>FALSE</td><td>FALSE</td><td>FALSE</td><td>FALSE</td><td>FALSE</td><td>FALSE</td></tr>\n",
       "\t<tr><td>FALSE</td><td>FALSE</td><td>FALSE</td><td>FALSE</td><td>FALSE</td><td>FALSE</td><td>FALSE</td><td>FALSE</td><td>FALSE</td></tr>\n",
       "\t<tr><td>FALSE</td><td>FALSE</td><td>FALSE</td><td>FALSE</td><td>FALSE</td><td>FALSE</td><td>FALSE</td><td>FALSE</td><td>FALSE</td></tr>\n",
       "\t<tr><td>FALSE</td><td>FALSE</td><td>FALSE</td><td>FALSE</td><td>FALSE</td><td>FALSE</td><td>FALSE</td><td>FALSE</td><td>FALSE</td></tr>\n",
       "\t<tr><td>FALSE</td><td>FALSE</td><td>FALSE</td><td>FALSE</td><td>FALSE</td><td>FALSE</td><td>FALSE</td><td>FALSE</td><td>FALSE</td></tr>\n",
       "\t<tr><td>FALSE</td><td>FALSE</td><td>FALSE</td><td>FALSE</td><td>FALSE</td><td>FALSE</td><td>FALSE</td><td>FALSE</td><td>FALSE</td></tr>\n",
       "\t<tr><td>FALSE</td><td>FALSE</td><td>FALSE</td><td>FALSE</td><td>FALSE</td><td>FALSE</td><td>FALSE</td><td>FALSE</td><td>FALSE</td></tr>\n",
       "\t<tr><td>FALSE</td><td>FALSE</td><td>FALSE</td><td>FALSE</td><td>FALSE</td><td>FALSE</td><td>FALSE</td><td>FALSE</td><td>FALSE</td></tr>\n",
       "\t<tr><td>FALSE</td><td>FALSE</td><td>FALSE</td><td>FALSE</td><td>FALSE</td><td>FALSE</td><td>FALSE</td><td>FALSE</td><td>FALSE</td></tr>\n",
       "\t<tr><td>FALSE</td><td>FALSE</td><td>FALSE</td><td>FALSE</td><td>FALSE</td><td>FALSE</td><td>FALSE</td><td>FALSE</td><td>FALSE</td></tr>\n",
       "\t<tr><td>FALSE</td><td> TRUE</td><td>FALSE</td><td>FALSE</td><td>FALSE</td><td>FALSE</td><td>FALSE</td><td>FALSE</td><td>FALSE</td></tr>\n",
       "\t<tr><td>FALSE</td><td>FALSE</td><td>FALSE</td><td>FALSE</td><td>FALSE</td><td>FALSE</td><td>FALSE</td><td>FALSE</td><td>FALSE</td></tr>\n",
       "\t<tr><td>FALSE</td><td>FALSE</td><td>FALSE</td><td>FALSE</td><td>FALSE</td><td>FALSE</td><td>FALSE</td><td>FALSE</td><td>FALSE</td></tr>\n",
       "\t<tr><td>FALSE</td><td>FALSE</td><td>FALSE</td><td>FALSE</td><td>FALSE</td><td>FALSE</td><td>FALSE</td><td>FALSE</td><td>FALSE</td></tr>\n",
       "\t<tr><td>FALSE</td><td>FALSE</td><td>FALSE</td><td>FALSE</td><td>FALSE</td><td>FALSE</td><td>FALSE</td><td>FALSE</td><td>FALSE</td></tr>\n",
       "\t<tr><td>FALSE</td><td>FALSE</td><td>FALSE</td><td>FALSE</td><td>FALSE</td><td>FALSE</td><td>FALSE</td><td>FALSE</td><td>FALSE</td></tr>\n",
       "\t<tr><td>FALSE</td><td>FALSE</td><td>FALSE</td><td>FALSE</td><td>FALSE</td><td>FALSE</td><td>FALSE</td><td>FALSE</td><td>FALSE</td></tr>\n",
       "\t<tr><td>FALSE</td><td>FALSE</td><td>FALSE</td><td>FALSE</td><td>FALSE</td><td>FALSE</td><td>FALSE</td><td>FALSE</td><td>FALSE</td></tr>\n",
       "\t<tr><td>FALSE</td><td>FALSE</td><td>FALSE</td><td>FALSE</td><td>FALSE</td><td>FALSE</td><td>FALSE</td><td>FALSE</td><td>FALSE</td></tr>\n",
       "\t<tr><td>FALSE</td><td>FALSE</td><td>FALSE</td><td>FALSE</td><td>FALSE</td><td>FALSE</td><td>FALSE</td><td>FALSE</td><td>FALSE</td></tr>\n",
       "\t<tr><td>FALSE</td><td>FALSE</td><td>FALSE</td><td>FALSE</td><td>FALSE</td><td>FALSE</td><td>FALSE</td><td>FALSE</td><td>FALSE</td></tr>\n",
       "\t<tr><td>FALSE</td><td>FALSE</td><td>FALSE</td><td>FALSE</td><td>FALSE</td><td>FALSE</td><td>FALSE</td><td>FALSE</td><td>FALSE</td></tr>\n",
       "\t<tr><td>FALSE</td><td> TRUE</td><td>FALSE</td><td>FALSE</td><td>FALSE</td><td>FALSE</td><td>FALSE</td><td>FALSE</td><td>FALSE</td></tr>\n",
       "\t<tr><td>...</td><td>...</td><td>...</td><td>...</td><td>...</td><td>...</td><td>...</td><td>...</td><td>...</td></tr>\n",
       "\t<tr><td>FALSE</td><td>FALSE</td><td>FALSE</td><td>FALSE</td><td>FALSE</td><td>FALSE</td><td>FALSE</td><td>FALSE</td><td>FALSE</td></tr>\n",
       "\t<tr><td>FALSE</td><td>FALSE</td><td>FALSE</td><td>FALSE</td><td>FALSE</td><td>FALSE</td><td>FALSE</td><td>FALSE</td><td>FALSE</td></tr>\n",
       "\t<tr><td>FALSE</td><td>FALSE</td><td>FALSE</td><td>FALSE</td><td>FALSE</td><td>FALSE</td><td>FALSE</td><td>FALSE</td><td>FALSE</td></tr>\n",
       "\t<tr><td>FALSE</td><td>FALSE</td><td>FALSE</td><td>FALSE</td><td>FALSE</td><td>FALSE</td><td>FALSE</td><td>FALSE</td><td>FALSE</td></tr>\n",
       "\t<tr><td>FALSE</td><td>FALSE</td><td>FALSE</td><td>FALSE</td><td>FALSE</td><td>FALSE</td><td>FALSE</td><td>FALSE</td><td>FALSE</td></tr>\n",
       "\t<tr><td>FALSE</td><td>FALSE</td><td>FALSE</td><td>FALSE</td><td>FALSE</td><td>FALSE</td><td>FALSE</td><td>FALSE</td><td>FALSE</td></tr>\n",
       "\t<tr><td>FALSE</td><td>FALSE</td><td>FALSE</td><td>FALSE</td><td>FALSE</td><td>FALSE</td><td>FALSE</td><td>FALSE</td><td>FALSE</td></tr>\n",
       "\t<tr><td>FALSE</td><td>FALSE</td><td>FALSE</td><td>FALSE</td><td>FALSE</td><td>FALSE</td><td>FALSE</td><td>FALSE</td><td>FALSE</td></tr>\n",
       "\t<tr><td>FALSE</td><td>FALSE</td><td>FALSE</td><td>FALSE</td><td>FALSE</td><td>FALSE</td><td>FALSE</td><td>FALSE</td><td>FALSE</td></tr>\n",
       "\t<tr><td>FALSE</td><td>FALSE</td><td>FALSE</td><td>FALSE</td><td>FALSE</td><td>FALSE</td><td>FALSE</td><td>FALSE</td><td>FALSE</td></tr>\n",
       "\t<tr><td>FALSE</td><td>FALSE</td><td>FALSE</td><td>FALSE</td><td>FALSE</td><td>FALSE</td><td>FALSE</td><td>FALSE</td><td>FALSE</td></tr>\n",
       "\t<tr><td>FALSE</td><td>FALSE</td><td>FALSE</td><td>FALSE</td><td>FALSE</td><td>FALSE</td><td>FALSE</td><td>FALSE</td><td>FALSE</td></tr>\n",
       "\t<tr><td>FALSE</td><td>FALSE</td><td>FALSE</td><td>FALSE</td><td>FALSE</td><td>FALSE</td><td>FALSE</td><td>FALSE</td><td>FALSE</td></tr>\n",
       "\t<tr><td>FALSE</td><td>FALSE</td><td>FALSE</td><td>FALSE</td><td>FALSE</td><td>FALSE</td><td>FALSE</td><td>FALSE</td><td>FALSE</td></tr>\n",
       "\t<tr><td>FALSE</td><td>FALSE</td><td>FALSE</td><td>FALSE</td><td>FALSE</td><td>FALSE</td><td>FALSE</td><td>FALSE</td><td>FALSE</td></tr>\n",
       "\t<tr><td>FALSE</td><td>FALSE</td><td>FALSE</td><td>FALSE</td><td>FALSE</td><td>FALSE</td><td>FALSE</td><td>FALSE</td><td>FALSE</td></tr>\n",
       "\t<tr><td>FALSE</td><td>FALSE</td><td>FALSE</td><td>FALSE</td><td>FALSE</td><td>FALSE</td><td>FALSE</td><td>FALSE</td><td>FALSE</td></tr>\n",
       "\t<tr><td>FALSE</td><td>FALSE</td><td>FALSE</td><td>FALSE</td><td>FALSE</td><td>FALSE</td><td>FALSE</td><td>FALSE</td><td>FALSE</td></tr>\n",
       "\t<tr><td>FALSE</td><td>FALSE</td><td>FALSE</td><td>FALSE</td><td>FALSE</td><td>FALSE</td><td>FALSE</td><td>FALSE</td><td>FALSE</td></tr>\n",
       "\t<tr><td>FALSE</td><td>FALSE</td><td>FALSE</td><td>FALSE</td><td>FALSE</td><td>FALSE</td><td>FALSE</td><td>FALSE</td><td>FALSE</td></tr>\n",
       "\t<tr><td>FALSE</td><td>FALSE</td><td>FALSE</td><td>FALSE</td><td>FALSE</td><td>FALSE</td><td>FALSE</td><td>FALSE</td><td>FALSE</td></tr>\n",
       "\t<tr><td>FALSE</td><td>FALSE</td><td>FALSE</td><td>FALSE</td><td>FALSE</td><td>FALSE</td><td>FALSE</td><td>FALSE</td><td>FALSE</td></tr>\n",
       "\t<tr><td>FALSE</td><td>FALSE</td><td>FALSE</td><td>FALSE</td><td>FALSE</td><td>FALSE</td><td>FALSE</td><td>FALSE</td><td>FALSE</td></tr>\n",
       "\t<tr><td>FALSE</td><td>FALSE</td><td>FALSE</td><td>FALSE</td><td>FALSE</td><td>FALSE</td><td>FALSE</td><td>FALSE</td><td>FALSE</td></tr>\n",
       "\t<tr><td>FALSE</td><td>FALSE</td><td>FALSE</td><td>FALSE</td><td>FALSE</td><td>FALSE</td><td>FALSE</td><td>FALSE</td><td>FALSE</td></tr>\n",
       "\t<tr><td>FALSE</td><td>FALSE</td><td>FALSE</td><td>FALSE</td><td>FALSE</td><td>FALSE</td><td>FALSE</td><td>FALSE</td><td>FALSE</td></tr>\n",
       "\t<tr><td>FALSE</td><td>FALSE</td><td>FALSE</td><td>FALSE</td><td>FALSE</td><td>FALSE</td><td>FALSE</td><td>FALSE</td><td>FALSE</td></tr>\n",
       "\t<tr><td>FALSE</td><td>FALSE</td><td>FALSE</td><td>FALSE</td><td>FALSE</td><td>FALSE</td><td>FALSE</td><td>FALSE</td><td>FALSE</td></tr>\n",
       "\t<tr><td>FALSE</td><td>FALSE</td><td>FALSE</td><td>FALSE</td><td> TRUE</td><td>FALSE</td><td>FALSE</td><td>FALSE</td><td>FALSE</td></tr>\n",
       "\t<tr><td>FALSE</td><td>FALSE</td><td>FALSE</td><td>FALSE</td><td>FALSE</td><td>FALSE</td><td>FALSE</td><td>FALSE</td><td>FALSE</td></tr>\n",
       "</tbody>\n",
       "</table>\n"
      ],
      "text/latex": [
       "\\begin{tabular}{lllllllll}\n",
       " Brand & Price & Body & Mileage & EngineV & Engine.Type & Registration & Year & Model\\\\\n",
       "\\hline\n",
       "\t FALSE & FALSE & FALSE & FALSE & FALSE & FALSE & FALSE & FALSE & FALSE\\\\\n",
       "\t FALSE & FALSE & FALSE & FALSE & FALSE & FALSE & FALSE & FALSE & FALSE\\\\\n",
       "\t FALSE & FALSE & FALSE & FALSE & FALSE & FALSE & FALSE & FALSE & FALSE\\\\\n",
       "\t FALSE & FALSE & FALSE & FALSE & FALSE & FALSE & FALSE & FALSE & FALSE\\\\\n",
       "\t FALSE & FALSE & FALSE & FALSE & FALSE & FALSE & FALSE & FALSE & FALSE\\\\\n",
       "\t FALSE & FALSE & FALSE & FALSE & FALSE & FALSE & FALSE & FALSE & FALSE\\\\\n",
       "\t FALSE & FALSE & FALSE & FALSE & FALSE & FALSE & FALSE & FALSE & FALSE\\\\\n",
       "\t FALSE & FALSE & FALSE & FALSE & FALSE & FALSE & FALSE & FALSE & FALSE\\\\\n",
       "\t FALSE & FALSE & FALSE & FALSE & FALSE & FALSE & FALSE & FALSE & FALSE\\\\\n",
       "\t FALSE & FALSE & FALSE & FALSE & FALSE & FALSE & FALSE & FALSE & FALSE\\\\\n",
       "\t FALSE & FALSE & FALSE & FALSE & FALSE & FALSE & FALSE & FALSE & FALSE\\\\\n",
       "\t FALSE & FALSE & FALSE & FALSE & FALSE & FALSE & FALSE & FALSE & FALSE\\\\\n",
       "\t FALSE & FALSE & FALSE & FALSE & FALSE & FALSE & FALSE & FALSE & FALSE\\\\\n",
       "\t FALSE & FALSE & FALSE & FALSE & FALSE & FALSE & FALSE & FALSE & FALSE\\\\\n",
       "\t FALSE & FALSE & FALSE & FALSE & FALSE & FALSE & FALSE & FALSE & FALSE\\\\\n",
       "\t FALSE & FALSE & FALSE & FALSE & FALSE & FALSE & FALSE & FALSE & FALSE\\\\\n",
       "\t FALSE & FALSE & FALSE & FALSE & FALSE & FALSE & FALSE & FALSE & FALSE\\\\\n",
       "\t FALSE &  TRUE & FALSE & FALSE & FALSE & FALSE & FALSE & FALSE & FALSE\\\\\n",
       "\t FALSE & FALSE & FALSE & FALSE & FALSE & FALSE & FALSE & FALSE & FALSE\\\\\n",
       "\t FALSE & FALSE & FALSE & FALSE & FALSE & FALSE & FALSE & FALSE & FALSE\\\\\n",
       "\t FALSE & FALSE & FALSE & FALSE & FALSE & FALSE & FALSE & FALSE & FALSE\\\\\n",
       "\t FALSE & FALSE & FALSE & FALSE & FALSE & FALSE & FALSE & FALSE & FALSE\\\\\n",
       "\t FALSE & FALSE & FALSE & FALSE & FALSE & FALSE & FALSE & FALSE & FALSE\\\\\n",
       "\t FALSE & FALSE & FALSE & FALSE & FALSE & FALSE & FALSE & FALSE & FALSE\\\\\n",
       "\t FALSE & FALSE & FALSE & FALSE & FALSE & FALSE & FALSE & FALSE & FALSE\\\\\n",
       "\t FALSE & FALSE & FALSE & FALSE & FALSE & FALSE & FALSE & FALSE & FALSE\\\\\n",
       "\t FALSE & FALSE & FALSE & FALSE & FALSE & FALSE & FALSE & FALSE & FALSE\\\\\n",
       "\t FALSE & FALSE & FALSE & FALSE & FALSE & FALSE & FALSE & FALSE & FALSE\\\\\n",
       "\t FALSE & FALSE & FALSE & FALSE & FALSE & FALSE & FALSE & FALSE & FALSE\\\\\n",
       "\t FALSE &  TRUE & FALSE & FALSE & FALSE & FALSE & FALSE & FALSE & FALSE\\\\\n",
       "\t ... & ... & ... & ... & ... & ... & ... & ... & ...\\\\\n",
       "\t FALSE & FALSE & FALSE & FALSE & FALSE & FALSE & FALSE & FALSE & FALSE\\\\\n",
       "\t FALSE & FALSE & FALSE & FALSE & FALSE & FALSE & FALSE & FALSE & FALSE\\\\\n",
       "\t FALSE & FALSE & FALSE & FALSE & FALSE & FALSE & FALSE & FALSE & FALSE\\\\\n",
       "\t FALSE & FALSE & FALSE & FALSE & FALSE & FALSE & FALSE & FALSE & FALSE\\\\\n",
       "\t FALSE & FALSE & FALSE & FALSE & FALSE & FALSE & FALSE & FALSE & FALSE\\\\\n",
       "\t FALSE & FALSE & FALSE & FALSE & FALSE & FALSE & FALSE & FALSE & FALSE\\\\\n",
       "\t FALSE & FALSE & FALSE & FALSE & FALSE & FALSE & FALSE & FALSE & FALSE\\\\\n",
       "\t FALSE & FALSE & FALSE & FALSE & FALSE & FALSE & FALSE & FALSE & FALSE\\\\\n",
       "\t FALSE & FALSE & FALSE & FALSE & FALSE & FALSE & FALSE & FALSE & FALSE\\\\\n",
       "\t FALSE & FALSE & FALSE & FALSE & FALSE & FALSE & FALSE & FALSE & FALSE\\\\\n",
       "\t FALSE & FALSE & FALSE & FALSE & FALSE & FALSE & FALSE & FALSE & FALSE\\\\\n",
       "\t FALSE & FALSE & FALSE & FALSE & FALSE & FALSE & FALSE & FALSE & FALSE\\\\\n",
       "\t FALSE & FALSE & FALSE & FALSE & FALSE & FALSE & FALSE & FALSE & FALSE\\\\\n",
       "\t FALSE & FALSE & FALSE & FALSE & FALSE & FALSE & FALSE & FALSE & FALSE\\\\\n",
       "\t FALSE & FALSE & FALSE & FALSE & FALSE & FALSE & FALSE & FALSE & FALSE\\\\\n",
       "\t FALSE & FALSE & FALSE & FALSE & FALSE & FALSE & FALSE & FALSE & FALSE\\\\\n",
       "\t FALSE & FALSE & FALSE & FALSE & FALSE & FALSE & FALSE & FALSE & FALSE\\\\\n",
       "\t FALSE & FALSE & FALSE & FALSE & FALSE & FALSE & FALSE & FALSE & FALSE\\\\\n",
       "\t FALSE & FALSE & FALSE & FALSE & FALSE & FALSE & FALSE & FALSE & FALSE\\\\\n",
       "\t FALSE & FALSE & FALSE & FALSE & FALSE & FALSE & FALSE & FALSE & FALSE\\\\\n",
       "\t FALSE & FALSE & FALSE & FALSE & FALSE & FALSE & FALSE & FALSE & FALSE\\\\\n",
       "\t FALSE & FALSE & FALSE & FALSE & FALSE & FALSE & FALSE & FALSE & FALSE\\\\\n",
       "\t FALSE & FALSE & FALSE & FALSE & FALSE & FALSE & FALSE & FALSE & FALSE\\\\\n",
       "\t FALSE & FALSE & FALSE & FALSE & FALSE & FALSE & FALSE & FALSE & FALSE\\\\\n",
       "\t FALSE & FALSE & FALSE & FALSE & FALSE & FALSE & FALSE & FALSE & FALSE\\\\\n",
       "\t FALSE & FALSE & FALSE & FALSE & FALSE & FALSE & FALSE & FALSE & FALSE\\\\\n",
       "\t FALSE & FALSE & FALSE & FALSE & FALSE & FALSE & FALSE & FALSE & FALSE\\\\\n",
       "\t FALSE & FALSE & FALSE & FALSE & FALSE & FALSE & FALSE & FALSE & FALSE\\\\\n",
       "\t FALSE & FALSE & FALSE & FALSE &  TRUE & FALSE & FALSE & FALSE & FALSE\\\\\n",
       "\t FALSE & FALSE & FALSE & FALSE & FALSE & FALSE & FALSE & FALSE & FALSE\\\\\n",
       "\\end{tabular}\n"
      ],
      "text/markdown": [
       "\n",
       "| Brand | Price | Body | Mileage | EngineV | Engine.Type | Registration | Year | Model |\n",
       "|---|---|---|---|---|---|---|---|---|\n",
       "| FALSE | FALSE | FALSE | FALSE | FALSE | FALSE | FALSE | FALSE | FALSE |\n",
       "| FALSE | FALSE | FALSE | FALSE | FALSE | FALSE | FALSE | FALSE | FALSE |\n",
       "| FALSE | FALSE | FALSE | FALSE | FALSE | FALSE | FALSE | FALSE | FALSE |\n",
       "| FALSE | FALSE | FALSE | FALSE | FALSE | FALSE | FALSE | FALSE | FALSE |\n",
       "| FALSE | FALSE | FALSE | FALSE | FALSE | FALSE | FALSE | FALSE | FALSE |\n",
       "| FALSE | FALSE | FALSE | FALSE | FALSE | FALSE | FALSE | FALSE | FALSE |\n",
       "| FALSE | FALSE | FALSE | FALSE | FALSE | FALSE | FALSE | FALSE | FALSE |\n",
       "| FALSE | FALSE | FALSE | FALSE | FALSE | FALSE | FALSE | FALSE | FALSE |\n",
       "| FALSE | FALSE | FALSE | FALSE | FALSE | FALSE | FALSE | FALSE | FALSE |\n",
       "| FALSE | FALSE | FALSE | FALSE | FALSE | FALSE | FALSE | FALSE | FALSE |\n",
       "| FALSE | FALSE | FALSE | FALSE | FALSE | FALSE | FALSE | FALSE | FALSE |\n",
       "| FALSE | FALSE | FALSE | FALSE | FALSE | FALSE | FALSE | FALSE | FALSE |\n",
       "| FALSE | FALSE | FALSE | FALSE | FALSE | FALSE | FALSE | FALSE | FALSE |\n",
       "| FALSE | FALSE | FALSE | FALSE | FALSE | FALSE | FALSE | FALSE | FALSE |\n",
       "| FALSE | FALSE | FALSE | FALSE | FALSE | FALSE | FALSE | FALSE | FALSE |\n",
       "| FALSE | FALSE | FALSE | FALSE | FALSE | FALSE | FALSE | FALSE | FALSE |\n",
       "| FALSE | FALSE | FALSE | FALSE | FALSE | FALSE | FALSE | FALSE | FALSE |\n",
       "| FALSE |  TRUE | FALSE | FALSE | FALSE | FALSE | FALSE | FALSE | FALSE |\n",
       "| FALSE | FALSE | FALSE | FALSE | FALSE | FALSE | FALSE | FALSE | FALSE |\n",
       "| FALSE | FALSE | FALSE | FALSE | FALSE | FALSE | FALSE | FALSE | FALSE |\n",
       "| FALSE | FALSE | FALSE | FALSE | FALSE | FALSE | FALSE | FALSE | FALSE |\n",
       "| FALSE | FALSE | FALSE | FALSE | FALSE | FALSE | FALSE | FALSE | FALSE |\n",
       "| FALSE | FALSE | FALSE | FALSE | FALSE | FALSE | FALSE | FALSE | FALSE |\n",
       "| FALSE | FALSE | FALSE | FALSE | FALSE | FALSE | FALSE | FALSE | FALSE |\n",
       "| FALSE | FALSE | FALSE | FALSE | FALSE | FALSE | FALSE | FALSE | FALSE |\n",
       "| FALSE | FALSE | FALSE | FALSE | FALSE | FALSE | FALSE | FALSE | FALSE |\n",
       "| FALSE | FALSE | FALSE | FALSE | FALSE | FALSE | FALSE | FALSE | FALSE |\n",
       "| FALSE | FALSE | FALSE | FALSE | FALSE | FALSE | FALSE | FALSE | FALSE |\n",
       "| FALSE | FALSE | FALSE | FALSE | FALSE | FALSE | FALSE | FALSE | FALSE |\n",
       "| FALSE |  TRUE | FALSE | FALSE | FALSE | FALSE | FALSE | FALSE | FALSE |\n",
       "| ... | ... | ... | ... | ... | ... | ... | ... | ... |\n",
       "| FALSE | FALSE | FALSE | FALSE | FALSE | FALSE | FALSE | FALSE | FALSE |\n",
       "| FALSE | FALSE | FALSE | FALSE | FALSE | FALSE | FALSE | FALSE | FALSE |\n",
       "| FALSE | FALSE | FALSE | FALSE | FALSE | FALSE | FALSE | FALSE | FALSE |\n",
       "| FALSE | FALSE | FALSE | FALSE | FALSE | FALSE | FALSE | FALSE | FALSE |\n",
       "| FALSE | FALSE | FALSE | FALSE | FALSE | FALSE | FALSE | FALSE | FALSE |\n",
       "| FALSE | FALSE | FALSE | FALSE | FALSE | FALSE | FALSE | FALSE | FALSE |\n",
       "| FALSE | FALSE | FALSE | FALSE | FALSE | FALSE | FALSE | FALSE | FALSE |\n",
       "| FALSE | FALSE | FALSE | FALSE | FALSE | FALSE | FALSE | FALSE | FALSE |\n",
       "| FALSE | FALSE | FALSE | FALSE | FALSE | FALSE | FALSE | FALSE | FALSE |\n",
       "| FALSE | FALSE | FALSE | FALSE | FALSE | FALSE | FALSE | FALSE | FALSE |\n",
       "| FALSE | FALSE | FALSE | FALSE | FALSE | FALSE | FALSE | FALSE | FALSE |\n",
       "| FALSE | FALSE | FALSE | FALSE | FALSE | FALSE | FALSE | FALSE | FALSE |\n",
       "| FALSE | FALSE | FALSE | FALSE | FALSE | FALSE | FALSE | FALSE | FALSE |\n",
       "| FALSE | FALSE | FALSE | FALSE | FALSE | FALSE | FALSE | FALSE | FALSE |\n",
       "| FALSE | FALSE | FALSE | FALSE | FALSE | FALSE | FALSE | FALSE | FALSE |\n",
       "| FALSE | FALSE | FALSE | FALSE | FALSE | FALSE | FALSE | FALSE | FALSE |\n",
       "| FALSE | FALSE | FALSE | FALSE | FALSE | FALSE | FALSE | FALSE | FALSE |\n",
       "| FALSE | FALSE | FALSE | FALSE | FALSE | FALSE | FALSE | FALSE | FALSE |\n",
       "| FALSE | FALSE | FALSE | FALSE | FALSE | FALSE | FALSE | FALSE | FALSE |\n",
       "| FALSE | FALSE | FALSE | FALSE | FALSE | FALSE | FALSE | FALSE | FALSE |\n",
       "| FALSE | FALSE | FALSE | FALSE | FALSE | FALSE | FALSE | FALSE | FALSE |\n",
       "| FALSE | FALSE | FALSE | FALSE | FALSE | FALSE | FALSE | FALSE | FALSE |\n",
       "| FALSE | FALSE | FALSE | FALSE | FALSE | FALSE | FALSE | FALSE | FALSE |\n",
       "| FALSE | FALSE | FALSE | FALSE | FALSE | FALSE | FALSE | FALSE | FALSE |\n",
       "| FALSE | FALSE | FALSE | FALSE | FALSE | FALSE | FALSE | FALSE | FALSE |\n",
       "| FALSE | FALSE | FALSE | FALSE | FALSE | FALSE | FALSE | FALSE | FALSE |\n",
       "| FALSE | FALSE | FALSE | FALSE | FALSE | FALSE | FALSE | FALSE | FALSE |\n",
       "| FALSE | FALSE | FALSE | FALSE | FALSE | FALSE | FALSE | FALSE | FALSE |\n",
       "| FALSE | FALSE | FALSE | FALSE |  TRUE | FALSE | FALSE | FALSE | FALSE |\n",
       "| FALSE | FALSE | FALSE | FALSE | FALSE | FALSE | FALSE | FALSE | FALSE |\n",
       "\n"
      ],
      "text/plain": [
       "      Brand Price Body  Mileage EngineV Engine.Type Registration Year  Model\n",
       " [1,] FALSE FALSE FALSE FALSE   FALSE   FALSE       FALSE        FALSE FALSE\n",
       " [2,] FALSE FALSE FALSE FALSE   FALSE   FALSE       FALSE        FALSE FALSE\n",
       " [3,] FALSE FALSE FALSE FALSE   FALSE   FALSE       FALSE        FALSE FALSE\n",
       " [4,] FALSE FALSE FALSE FALSE   FALSE   FALSE       FALSE        FALSE FALSE\n",
       " [5,] FALSE FALSE FALSE FALSE   FALSE   FALSE       FALSE        FALSE FALSE\n",
       " [6,] FALSE FALSE FALSE FALSE   FALSE   FALSE       FALSE        FALSE FALSE\n",
       " [7,] FALSE FALSE FALSE FALSE   FALSE   FALSE       FALSE        FALSE FALSE\n",
       " [8,] FALSE FALSE FALSE FALSE   FALSE   FALSE       FALSE        FALSE FALSE\n",
       " [9,] FALSE FALSE FALSE FALSE   FALSE   FALSE       FALSE        FALSE FALSE\n",
       "[10,] FALSE FALSE FALSE FALSE   FALSE   FALSE       FALSE        FALSE FALSE\n",
       "[11,] FALSE FALSE FALSE FALSE   FALSE   FALSE       FALSE        FALSE FALSE\n",
       "[12,] FALSE FALSE FALSE FALSE   FALSE   FALSE       FALSE        FALSE FALSE\n",
       "[13,] FALSE FALSE FALSE FALSE   FALSE   FALSE       FALSE        FALSE FALSE\n",
       "[14,] FALSE FALSE FALSE FALSE   FALSE   FALSE       FALSE        FALSE FALSE\n",
       "[15,] FALSE FALSE FALSE FALSE   FALSE   FALSE       FALSE        FALSE FALSE\n",
       "[16,] FALSE FALSE FALSE FALSE   FALSE   FALSE       FALSE        FALSE FALSE\n",
       "[17,] FALSE FALSE FALSE FALSE   FALSE   FALSE       FALSE        FALSE FALSE\n",
       "[18,] FALSE  TRUE FALSE FALSE   FALSE   FALSE       FALSE        FALSE FALSE\n",
       "[19,] FALSE FALSE FALSE FALSE   FALSE   FALSE       FALSE        FALSE FALSE\n",
       "[20,] FALSE FALSE FALSE FALSE   FALSE   FALSE       FALSE        FALSE FALSE\n",
       "[21,] FALSE FALSE FALSE FALSE   FALSE   FALSE       FALSE        FALSE FALSE\n",
       "[22,] FALSE FALSE FALSE FALSE   FALSE   FALSE       FALSE        FALSE FALSE\n",
       "[23,] FALSE FALSE FALSE FALSE   FALSE   FALSE       FALSE        FALSE FALSE\n",
       "[24,] FALSE FALSE FALSE FALSE   FALSE   FALSE       FALSE        FALSE FALSE\n",
       "[25,] FALSE FALSE FALSE FALSE   FALSE   FALSE       FALSE        FALSE FALSE\n",
       "[26,] FALSE FALSE FALSE FALSE   FALSE   FALSE       FALSE        FALSE FALSE\n",
       "[27,] FALSE FALSE FALSE FALSE   FALSE   FALSE       FALSE        FALSE FALSE\n",
       "[28,] FALSE FALSE FALSE FALSE   FALSE   FALSE       FALSE        FALSE FALSE\n",
       "[29,] FALSE FALSE FALSE FALSE   FALSE   FALSE       FALSE        FALSE FALSE\n",
       "[30,] FALSE  TRUE FALSE FALSE   FALSE   FALSE       FALSE        FALSE FALSE\n",
       "[31,] ...   ...   ...   ...     ...     ...         ...          ...   ...  \n",
       "[32,] FALSE FALSE FALSE FALSE   FALSE   FALSE       FALSE        FALSE FALSE\n",
       "[33,] FALSE FALSE FALSE FALSE   FALSE   FALSE       FALSE        FALSE FALSE\n",
       "[34,] FALSE FALSE FALSE FALSE   FALSE   FALSE       FALSE        FALSE FALSE\n",
       "[35,] FALSE FALSE FALSE FALSE   FALSE   FALSE       FALSE        FALSE FALSE\n",
       "[36,] FALSE FALSE FALSE FALSE   FALSE   FALSE       FALSE        FALSE FALSE\n",
       "[37,] FALSE FALSE FALSE FALSE   FALSE   FALSE       FALSE        FALSE FALSE\n",
       "[38,] FALSE FALSE FALSE FALSE   FALSE   FALSE       FALSE        FALSE FALSE\n",
       "[39,] FALSE FALSE FALSE FALSE   FALSE   FALSE       FALSE        FALSE FALSE\n",
       "[40,] FALSE FALSE FALSE FALSE   FALSE   FALSE       FALSE        FALSE FALSE\n",
       "[41,] FALSE FALSE FALSE FALSE   FALSE   FALSE       FALSE        FALSE FALSE\n",
       "[42,] FALSE FALSE FALSE FALSE   FALSE   FALSE       FALSE        FALSE FALSE\n",
       "[43,] FALSE FALSE FALSE FALSE   FALSE   FALSE       FALSE        FALSE FALSE\n",
       "[44,] FALSE FALSE FALSE FALSE   FALSE   FALSE       FALSE        FALSE FALSE\n",
       "[45,] FALSE FALSE FALSE FALSE   FALSE   FALSE       FALSE        FALSE FALSE\n",
       "[46,] FALSE FALSE FALSE FALSE   FALSE   FALSE       FALSE        FALSE FALSE\n",
       "[47,] FALSE FALSE FALSE FALSE   FALSE   FALSE       FALSE        FALSE FALSE\n",
       "[48,] FALSE FALSE FALSE FALSE   FALSE   FALSE       FALSE        FALSE FALSE\n",
       "[49,] FALSE FALSE FALSE FALSE   FALSE   FALSE       FALSE        FALSE FALSE\n",
       "[50,] FALSE FALSE FALSE FALSE   FALSE   FALSE       FALSE        FALSE FALSE\n",
       "[51,] FALSE FALSE FALSE FALSE   FALSE   FALSE       FALSE        FALSE FALSE\n",
       "[52,] FALSE FALSE FALSE FALSE   FALSE   FALSE       FALSE        FALSE FALSE\n",
       "[53,] FALSE FALSE FALSE FALSE   FALSE   FALSE       FALSE        FALSE FALSE\n",
       "[54,] FALSE FALSE FALSE FALSE   FALSE   FALSE       FALSE        FALSE FALSE\n",
       "[55,] FALSE FALSE FALSE FALSE   FALSE   FALSE       FALSE        FALSE FALSE\n",
       "[56,] FALSE FALSE FALSE FALSE   FALSE   FALSE       FALSE        FALSE FALSE\n",
       "[57,] FALSE FALSE FALSE FALSE   FALSE   FALSE       FALSE        FALSE FALSE\n",
       "[58,] FALSE FALSE FALSE FALSE   FALSE   FALSE       FALSE        FALSE FALSE\n",
       "[59,] FALSE FALSE FALSE FALSE   FALSE   FALSE       FALSE        FALSE FALSE\n",
       "[60,] FALSE FALSE FALSE FALSE    TRUE   FALSE       FALSE        FALSE FALSE\n",
       "[61,] FALSE FALSE FALSE FALSE   FALSE   FALSE       FALSE        FALSE FALSE"
      ]
     },
     "metadata": {},
     "output_type": "display_data"
    }
   ],
   "source": [
    "is.na(data)"
   ]
  },
  {
   "cell_type": "code",
   "execution_count": 5,
   "metadata": {},
   "outputs": [
    {
     "data": {
      "text/html": [
       "<dl class=dl-horizontal>\n",
       "\t<dt>Brand</dt>\n",
       "\t\t<dd>0</dd>\n",
       "\t<dt>Price</dt>\n",
       "\t\t<dd>172</dd>\n",
       "\t<dt>Body</dt>\n",
       "\t\t<dd>0</dd>\n",
       "\t<dt>Mileage</dt>\n",
       "\t\t<dd>0</dd>\n",
       "\t<dt>EngineV</dt>\n",
       "\t\t<dd>150</dd>\n",
       "\t<dt>Engine.Type</dt>\n",
       "\t\t<dd>0</dd>\n",
       "\t<dt>Registration</dt>\n",
       "\t\t<dd>0</dd>\n",
       "\t<dt>Year</dt>\n",
       "\t\t<dd>0</dd>\n",
       "\t<dt>Model</dt>\n",
       "\t\t<dd>0</dd>\n",
       "</dl>\n"
      ],
      "text/latex": [
       "\\begin{description*}\n",
       "\\item[Brand] 0\n",
       "\\item[Price] 172\n",
       "\\item[Body] 0\n",
       "\\item[Mileage] 0\n",
       "\\item[EngineV] 150\n",
       "\\item[Engine.Type] 0\n",
       "\\item[Registration] 0\n",
       "\\item[Year] 0\n",
       "\\item[Model] 0\n",
       "\\end{description*}\n"
      ],
      "text/markdown": [
       "Brand\n",
       ":   0Price\n",
       ":   172Body\n",
       ":   0Mileage\n",
       ":   0EngineV\n",
       ":   150Engine.Type\n",
       ":   0Registration\n",
       ":   0Year\n",
       ":   0Model\n",
       ":   0\n",
       "\n"
      ],
      "text/plain": [
       "       Brand        Price         Body      Mileage      EngineV  Engine.Type \n",
       "           0          172            0            0          150            0 \n",
       "Registration         Year        Model \n",
       "           0            0            0 "
      ]
     },
     "metadata": {},
     "output_type": "display_data"
    }
   ],
   "source": [
    "## TAKING COUNT OF MISSING VALUES IN THE DATASET\n",
    "colSums(is.na(data))"
   ]
  },
  {
   "cell_type": "markdown",
   "metadata": {},
   "source": [
    "Here, missing values are in columns : Price & EngineV"
   ]
  },
  {
   "cell_type": "code",
   "execution_count": 10,
   "metadata": {},
   "outputs": [
    {
     "data": {
      "text/html": [
       "4345"
      ],
      "text/latex": [
       "4345"
      ],
      "text/markdown": [
       "4345"
      ],
      "text/plain": [
       "[1] 4345"
      ]
     },
     "metadata": {},
     "output_type": "display_data"
    }
   ],
   "source": [
    "dim(data)[1]"
   ]
  },
  {
   "cell_type": "code",
   "execution_count": 6,
   "metadata": {},
   "outputs": [
    {
     "data": {
      "text/html": [
       "<dl class=dl-horizontal>\n",
       "\t<dt>Brand</dt>\n",
       "\t\t<dd>0</dd>\n",
       "\t<dt>Price</dt>\n",
       "\t\t<dd>0.0395857307249712</dd>\n",
       "\t<dt>Body</dt>\n",
       "\t\t<dd>0</dd>\n",
       "\t<dt>Mileage</dt>\n",
       "\t\t<dd>0</dd>\n",
       "\t<dt>EngineV</dt>\n",
       "\t\t<dd>0.0345224395857307</dd>\n",
       "\t<dt>Engine.Type</dt>\n",
       "\t\t<dd>0</dd>\n",
       "\t<dt>Registration</dt>\n",
       "\t\t<dd>0</dd>\n",
       "\t<dt>Year</dt>\n",
       "\t\t<dd>0</dd>\n",
       "\t<dt>Model</dt>\n",
       "\t\t<dd>0</dd>\n",
       "</dl>\n"
      ],
      "text/latex": [
       "\\begin{description*}\n",
       "\\item[Brand] 0\n",
       "\\item[Price] 0.0395857307249712\n",
       "\\item[Body] 0\n",
       "\\item[Mileage] 0\n",
       "\\item[EngineV] 0.0345224395857307\n",
       "\\item[Engine.Type] 0\n",
       "\\item[Registration] 0\n",
       "\\item[Year] 0\n",
       "\\item[Model] 0\n",
       "\\end{description*}\n"
      ],
      "text/markdown": [
       "Brand\n",
       ":   0Price\n",
       ":   0.0395857307249712Body\n",
       ":   0Mileage\n",
       ":   0EngineV\n",
       ":   0.0345224395857307Engine.Type\n",
       ":   0Registration\n",
       ":   0Year\n",
       ":   0Model\n",
       ":   0\n",
       "\n"
      ],
      "text/plain": [
       "       Brand        Price         Body      Mileage      EngineV  Engine.Type \n",
       "  0.00000000   0.03958573   0.00000000   0.00000000   0.03452244   0.00000000 \n",
       "Registration         Year        Model \n",
       "  0.00000000   0.00000000   0.00000000 "
      ]
     },
     "metadata": {},
     "output_type": "display_data"
    }
   ],
   "source": [
    "colSums(is.na(data)) / nrow(data)"
   ]
  },
  {
   "cell_type": "code",
   "execution_count": 7,
   "metadata": {},
   "outputs": [
    {
     "data": {
      "text/html": [
       "<ol class=list-inline>\n",
       "\t<li>4345</li>\n",
       "\t<li>9</li>\n",
       "</ol>\n"
      ],
      "text/latex": [
       "\\begin{enumerate*}\n",
       "\\item 4345\n",
       "\\item 9\n",
       "\\end{enumerate*}\n"
      ],
      "text/markdown": [
       "1. 4345\n",
       "2. 9\n",
       "\n",
       "\n"
      ],
      "text/plain": [
       "[1] 4345    9"
      ]
     },
     "metadata": {},
     "output_type": "display_data"
    }
   ],
   "source": [
    "## CHECKING NUMBER OF COLUMNS AND ROWS\n",
    "dim(data)"
   ]
  },
  {
   "cell_type": "markdown",
   "metadata": {},
   "source": [
    "the number of null value rows are very less considered to the total data, hence the null values are deleted"
   ]
  },
  {
   "cell_type": "code",
   "execution_count": 12,
   "metadata": {},
   "outputs": [],
   "source": [
    "## DELETING NULL VALUE ROWS\n",
    "data = na.omit(data)"
   ]
  },
  {
   "cell_type": "code",
   "execution_count": 13,
   "metadata": {},
   "outputs": [
    {
     "data": {
      "text/html": [
       "<dl class=dl-horizontal>\n",
       "\t<dt>Brand</dt>\n",
       "\t\t<dd>0</dd>\n",
       "\t<dt>Price</dt>\n",
       "\t\t<dd>0</dd>\n",
       "\t<dt>Body</dt>\n",
       "\t\t<dd>0</dd>\n",
       "\t<dt>Mileage</dt>\n",
       "\t\t<dd>0</dd>\n",
       "\t<dt>EngineV</dt>\n",
       "\t\t<dd>0</dd>\n",
       "\t<dt>Engine.Type</dt>\n",
       "\t\t<dd>0</dd>\n",
       "\t<dt>Registration</dt>\n",
       "\t\t<dd>0</dd>\n",
       "\t<dt>Year</dt>\n",
       "\t\t<dd>0</dd>\n",
       "\t<dt>Model</dt>\n",
       "\t\t<dd>0</dd>\n",
       "</dl>\n"
      ],
      "text/latex": [
       "\\begin{description*}\n",
       "\\item[Brand] 0\n",
       "\\item[Price] 0\n",
       "\\item[Body] 0\n",
       "\\item[Mileage] 0\n",
       "\\item[EngineV] 0\n",
       "\\item[Engine.Type] 0\n",
       "\\item[Registration] 0\n",
       "\\item[Year] 0\n",
       "\\item[Model] 0\n",
       "\\end{description*}\n"
      ],
      "text/markdown": [
       "Brand\n",
       ":   0Price\n",
       ":   0Body\n",
       ":   0Mileage\n",
       ":   0EngineV\n",
       ":   0Engine.Type\n",
       ":   0Registration\n",
       ":   0Year\n",
       ":   0Model\n",
       ":   0\n",
       "\n"
      ],
      "text/plain": [
       "       Brand        Price         Body      Mileage      EngineV  Engine.Type \n",
       "           0            0            0            0            0            0 \n",
       "Registration         Year        Model \n",
       "           0            0            0 "
      ]
     },
     "metadata": {},
     "output_type": "display_data"
    }
   ],
   "source": [
    "colSums(is.na(data))"
   ]
  },
  {
   "cell_type": "code",
   "execution_count": 14,
   "metadata": {},
   "outputs": [
    {
     "data": {
      "text/html": [
       "<ol class=list-inline>\n",
       "\t<li>4025</li>\n",
       "\t<li>9</li>\n",
       "</ol>\n"
      ],
      "text/latex": [
       "\\begin{enumerate*}\n",
       "\\item 4025\n",
       "\\item 9\n",
       "\\end{enumerate*}\n"
      ],
      "text/markdown": [
       "1. 4025\n",
       "2. 9\n",
       "\n",
       "\n"
      ],
      "text/plain": [
       "[1] 4025    9"
      ]
     },
     "metadata": {},
     "output_type": "display_data"
    }
   ],
   "source": [
    "## NUMBER OF ROWS AND COLUMNS AFTER DELETING NULL VALUES\n",
    "dim(data)"
   ]
  },
  {
   "cell_type": "markdown",
   "metadata": {},
   "source": [
    "## TREATMENT OF OUTLIERS"
   ]
  },
  {
   "cell_type": "markdown",
   "metadata": {},
   "source": [
    "OUTLIERS NEED TO BE CHECKED AND TREATED FOR CONTINOUS VARIABLES"
   ]
  },
  {
   "cell_type": "markdown",
   "metadata": {},
   "source": [
    "<img src=\"https://naysan.ca/wp-content/uploads/2020/06/box_plot_ref_needed.png\" width=600>"
   ]
  },
  {
   "cell_type": "markdown",
   "metadata": {
    "heading_collapsed": true
   },
   "source": [
    "###  Price"
   ]
  },
  {
   "cell_type": "code",
   "execution_count": 11,
   "metadata": {
    "hidden": true
   },
   "outputs": [
    {
     "data": {
      "image/png": "[encoded data removed]",
      "text/plain": [
       "plot without title"
      ]
     },
     "metadata": {},
     "output_type": "display_data"
    }
   ],
   "source": [
    "ggplot(data=data,aes(y=Price))+ geom_boxplot(fill=\"brown4\")"
   ]
  },
  {
   "cell_type": "code",
   "execution_count": 12,
   "metadata": {
    "hidden": true
   },
   "outputs": [],
   "source": [
    "## FINDING INTER QUARTILE RANGE TO CALCULATE MAXIMUM VALUE OF DISTRIBUTION USING \"IQR\" FUNCTION\n",
    "iqr_price = IQR(data$Price)"
   ]
  },
  {
   "cell_type": "code",
   "execution_count": 13,
   "metadata": {
    "hidden": true
   },
   "outputs": [
    {
     "data": {
      "text/html": [
       "14901"
      ],
      "text/latex": [
       "14901"
      ],
      "text/markdown": [
       "14901"
      ],
      "text/plain": [
       "[1] 14901"
      ]
     },
     "metadata": {},
     "output_type": "display_data"
    }
   ],
   "source": [
    "iqr_price"
   ]
  },
  {
   "cell_type": "code",
   "execution_count": 14,
   "metadata": {
    "hidden": true
   },
   "outputs": [
    {
     "data": {
      "text/html": [
       "<dl class=dl-horizontal>\n",
       "\t<dt>0%</dt>\n",
       "\t\t<dd>600</dd>\n",
       "\t<dt>25%</dt>\n",
       "\t\t<dd>6999</dd>\n",
       "\t<dt>50%</dt>\n",
       "\t\t<dd>11500</dd>\n",
       "\t<dt>75%</dt>\n",
       "\t\t<dd>21900</dd>\n",
       "\t<dt>100%</dt>\n",
       "\t\t<dd>3e+05</dd>\n",
       "</dl>\n"
      ],
      "text/latex": [
       "\\begin{description*}\n",
       "\\item[0\\textbackslash{}\\%] 600\n",
       "\\item[25\\textbackslash{}\\%] 6999\n",
       "\\item[50\\textbackslash{}\\%] 11500\n",
       "\\item[75\\textbackslash{}\\%] 21900\n",
       "\\item[100\\textbackslash{}\\%] 3e+05\n",
       "\\end{description*}\n"
      ],
      "text/markdown": [
       "0%\n",
       ":   60025%\n",
       ":   699950%\n",
       ":   1150075%\n",
       ":   21900100%\n",
       ":   3e+05\n",
       "\n"
      ],
      "text/plain": [
       "    0%    25%    50%    75%   100% \n",
       "   600   6999  11500  21900 300000 "
      ]
     },
     "metadata": {},
     "output_type": "display_data"
    }
   ],
   "source": [
    "## QUANTILE FUNTION WILL GIVE US THE IMPORTANT QUARTILES\n",
    "quantile(data$Price)"
   ]
  },
  {
   "cell_type": "code",
   "execution_count": 15,
   "metadata": {
    "hidden": true
   },
   "outputs": [
    {
     "data": {
      "text/html": [
       "<strong>75%:</strong> 21900"
      ],
      "text/latex": [
       "\\textbf{75\\textbackslash{}\\%:} 21900"
      ],
      "text/markdown": [
       "**75%:** 21900"
      ],
      "text/plain": [
       "  75% \n",
       "21900 "
      ]
     },
     "metadata": {},
     "output_type": "display_data"
    }
   ],
   "source": [
    "## WITH \"PROBS\" ATTIBUTE WE CAN SPECIFY THE PARTICULAR QUANTILE NEEDED (IT SHOULD BE BETWEEN 0 AND 1)\n",
    "qr75 <- quantile(data$Price,probs=0.75)\n",
    "qr75"
   ]
  },
  {
   "cell_type": "code",
   "execution_count": 16,
   "metadata": {
    "hidden": true
   },
   "outputs": [
    {
     "data": {
      "text/html": [
       "21900"
      ],
      "text/latex": [
       "21900"
      ],
      "text/markdown": [
       "21900"
      ],
      "text/plain": [
       "[1] 21900"
      ]
     },
     "metadata": {},
     "output_type": "display_data"
    }
   ],
   "source": [
    "unname(qr75)"
   ]
  },
  {
   "cell_type": "code",
   "execution_count": 17,
   "metadata": {
    "hidden": true
   },
   "outputs": [],
   "source": [
    "## MAX VALUE OF PRICE IS CALCULATED USING FORMULA \"Q3 + (1.5*IQR)\"\n",
    "max_price = quantile(data$Price,probs=0.75)+ (1.5*iqr_price)"
   ]
  },
  {
   "cell_type": "markdown",
   "metadata": {
    "hidden": true
   },
   "source": [
    "- **write genral function to get the max price**"
   ]
  },
  {
   "cell_type": "code",
   "execution_count": 18,
   "metadata": {
    "hidden": true
   },
   "outputs": [
    {
     "data": {
      "text/html": [
       "44251.5"
      ],
      "text/latex": [
       "44251.5"
      ],
      "text/markdown": [
       "44251.5"
      ],
      "text/plain": [
       "[1] 44251.5"
      ]
     },
     "metadata": {},
     "output_type": "display_data"
    }
   ],
   "source": [
    "max_price <- unname(max_price)\n",
    "max_price"
   ]
  },
  {
   "cell_type": "code",
   "execution_count": 19,
   "metadata": {
    "hidden": true,
    "scrolled": true
   },
   "outputs": [
    {
     "data": {
      "text/html": [
       "<table>\n",
       "<thead><tr><th scope=col>Brand</th><th scope=col>Price</th><th scope=col>Body</th><th scope=col>Mileage</th><th scope=col>EngineV</th><th scope=col>Engine.Type</th><th scope=col>Registration</th><th scope=col>Year</th><th scope=col>Model</th></tr></thead>\n",
       "<tbody>\n",
       "\t<tr><td>Mercedes-Benz   </td><td>199999.00       </td><td>crossover       </td><td>  0             </td><td>5.50            </td><td>Petrol          </td><td>yes             </td><td>2016            </td><td>GLS 63          </td></tr>\n",
       "\t<tr><td>BMW             </td><td> 67500.00       </td><td>crossover       </td><td>  1             </td><td>2.50            </td><td>Diesel          </td><td>yes             </td><td>2016            </td><td>X5              </td></tr>\n",
       "\t<tr><td>Mercedes-Benz   </td><td> 63000.00       </td><td>crossover       </td><td> 86             </td><td>5.50            </td><td>Petrol          </td><td>yes             </td><td>2009            </td><td>G 55 AMG        </td></tr>\n",
       "\t<tr><td>BMW             </td><td>133000.00       </td><td>crossover       </td><td>  7             </td><td>4.40            </td><td>Petrol          </td><td>yes             </td><td>2015            </td><td>X5 M            </td></tr>\n",
       "\t<tr><td>Mercedes-Benz   </td><td> 50000.00       </td><td>sedan           </td><td>240             </td><td>3.50            </td><td>Petrol          </td><td>yes             </td><td>2006            </td><td>S 350           </td></tr>\n",
       "\t<tr><td>Audi            </td><td> 69999.00       </td><td>crossover       </td><td> 21             </td><td>3.00            </td><td>Petrol          </td><td>yes             </td><td>2015            </td><td>A6 Allroad      </td></tr>\n",
       "\t<tr><td>Mercedes-Benz   </td><td>107999.00       </td><td>crossover       </td><td>  0             </td><td>2.98            </td><td>Diesel          </td><td>yes             </td><td>2016            </td><td>GLS 350         </td></tr>\n",
       "\t<tr><td>BMW             </td><td> 45500.00       </td><td>crossover       </td><td> 76             </td><td>4.40            </td><td>Petrol          </td><td>yes             </td><td>2010            </td><td>X6 M            </td></tr>\n",
       "\t<tr><td>BMW             </td><td> 47000.00       </td><td>other           </td><td>  5             </td><td>2.00            </td><td>Petrol          </td><td>yes             </td><td>2014            </td><td>Z4              </td></tr>\n",
       "\t<tr><td>BMW             </td><td> 46800.00       </td><td>sedan           </td><td> 33             </td><td>2.00            </td><td>Diesel          </td><td>yes             </td><td>2014            </td><td>520             </td></tr>\n",
       "\t<tr><td>Toyota          </td><td>195000.00       </td><td>crossover       </td><td>  0             </td><td>4.50            </td><td>Diesel          </td><td>yes             </td><td>2016            </td><td>Land Cruiser 200</td></tr>\n",
       "\t<tr><td>Mercedes-Benz   </td><td> 87777.00       </td><td>van             </td><td>  0             </td><td>2.20            </td><td>Diesel          </td><td>yes             </td><td>2016            </td><td>V 250           </td></tr>\n",
       "\t<tr><td>BMW             </td><td> 70000.00       </td><td>sedan           </td><td> 16             </td><td>3.00            </td><td>Diesel          </td><td>yes             </td><td>2014            </td><td>730             </td></tr>\n",
       "\t<tr><td>Mercedes-Benz   </td><td>169000.00       </td><td>other           </td><td>  1             </td><td>4.70            </td><td>Petrol          </td><td>yes             </td><td>2015            </td><td>S 500           </td></tr>\n",
       "\t<tr><td>Audi            </td><td> 51500.00       </td><td>crossover       </td><td> 27             </td><td>3.00            </td><td>Diesel          </td><td>yes             </td><td>2013            </td><td>Q7              </td></tr>\n",
       "\t<tr><td>Toyota          </td><td> 99999.00       </td><td>crossover       </td><td>  0             </td><td>4.50            </td><td>Diesel          </td><td>yes             </td><td>2016            </td><td>Land Cruiser 200</td></tr>\n",
       "\t<tr><td>Toyota          </td><td>135000.00       </td><td>crossover       </td><td>  1             </td><td>4.50            </td><td>Diesel          </td><td>yes             </td><td>2011            </td><td>Land Cruiser 200</td></tr>\n",
       "\t<tr><td>Mercedes-Benz   </td><td>109999.00       </td><td>crossover       </td><td>  0             </td><td>3.00            </td><td>Diesel          </td><td>yes             </td><td>2016            </td><td>GLS 350         </td></tr>\n",
       "\t<tr><td>BMW             </td><td> 44999.00       </td><td>crossover       </td><td> 87             </td><td>3.00            </td><td>Diesel          </td><td>yes             </td><td>2011            </td><td>X6              </td></tr>\n",
       "\t<tr><td>Volkswagen      </td><td> 61000.00       </td><td>crossover       </td><td>  2             </td><td>3.00            </td><td>Diesel          </td><td>yes             </td><td>2016            </td><td>Touareg         </td></tr>\n",
       "\t<tr><td>Volkswagen      </td><td> 55555.00       </td><td>van             </td><td> 50             </td><td>2.00            </td><td>Diesel          </td><td>yes             </td><td>2013            </td><td>Multivan        </td></tr>\n",
       "\t<tr><td>BMW             </td><td> 66900.00       </td><td>crossover       </td><td> 70             </td><td>3.00            </td><td>Diesel          </td><td>yes             </td><td>2014            </td><td>X5              </td></tr>\n",
       "\t<tr><td>Mercedes-Benz   </td><td>199999.00       </td><td>crossover       </td><td>  0             </td><td>5.50            </td><td>Petrol          </td><td>yes             </td><td>2016            </td><td>GLS 63          </td></tr>\n",
       "\t<tr><td>Volkswagen      </td><td> 55500.00       </td><td>crossover       </td><td> 47             </td><td>3.00            </td><td>Diesel          </td><td>yes             </td><td>2016            </td><td>Touareg         </td></tr>\n",
       "\t<tr><td>BMW             </td><td> 50499.00       </td><td>sedan           </td><td>128             </td><td>3.00            </td><td>Diesel          </td><td>yes             </td><td>2013            </td><td>730             </td></tr>\n",
       "\t<tr><td>Volkswagen      </td><td> 44600.00       </td><td>crossover       </td><td> 60             </td><td>3.00            </td><td>Diesel          </td><td>yes             </td><td>2013            </td><td>Touareg         </td></tr>\n",
       "\t<tr><td>Mercedes-Benz   </td><td>195000.00       </td><td>crossover       </td><td>  2             </td><td>5.50            </td><td>Petrol          </td><td>yes             </td><td>2016            </td><td>GLS 63          </td></tr>\n",
       "\t<tr><td>Mercedes-Benz   </td><td>115000.00       </td><td>sedan           </td><td> 47             </td><td>4.60            </td><td>Petrol          </td><td>yes             </td><td>2013            </td><td>S 500           </td></tr>\n",
       "\t<tr><td>Volkswagen      </td><td> 67622.55       </td><td>crossover       </td><td>  0             </td><td>3.00            </td><td>Diesel          </td><td>yes             </td><td>2016            </td><td>Touareg         </td></tr>\n",
       "\t<tr><td>BMW             </td><td> 64500.00       </td><td>crossover       </td><td>  1             </td><td>2.00            </td><td>Diesel          </td><td>yes             </td><td>2016            </td><td>X5              </td></tr>\n",
       "\t<tr><td>...</td><td>...</td><td>...</td><td>...</td><td>...</td><td>...</td><td>...</td><td>...</td><td>...</td></tr>\n",
       "\t<tr><td>Mercedes-Benz     </td><td>295000            </td><td>sedan             </td><td> 29               </td><td>6.00              </td><td>Petrol            </td><td>yes               </td><td>2011              </td><td>S 600             </td></tr>\n",
       "\t<tr><td>Volkswagen        </td><td> 55555            </td><td>van               </td><td> 53               </td><td>2.00              </td><td>Diesel            </td><td>yes               </td><td>2013              </td><td>Multivan          </td></tr>\n",
       "\t<tr><td>Mercedes-Benz     </td><td> 46500            </td><td>crossover         </td><td>127               </td><td>5.00              </td><td>Petrol            </td><td>yes               </td><td>2008              </td><td>G 500             </td></tr>\n",
       "\t<tr><td>Audi              </td><td> 63200            </td><td>sedan             </td><td>  0               </td><td>2.00              </td><td>Petrol            </td><td>yes               </td><td>2016              </td><td>A6                </td></tr>\n",
       "\t<tr><td>BMW               </td><td> 86999            </td><td>crossover         </td><td>  0               </td><td>3.00              </td><td>Diesel            </td><td>yes               </td><td>2016              </td><td>X6                </td></tr>\n",
       "\t<tr><td>Toyota            </td><td>103999            </td><td>crossover         </td><td>  0               </td><td>4.50              </td><td>Diesel            </td><td>yes               </td><td>2016              </td><td>Land Cruiser 200  </td></tr>\n",
       "\t<tr><td>Toyota            </td><td> 61990            </td><td>crossover         </td><td> 68               </td><td>4.50              </td><td>Diesel            </td><td>yes               </td><td>2012              </td><td>Land Cruiser 200  </td></tr>\n",
       "\t<tr><td>BMW               </td><td> 47777            </td><td>crossover         </td><td>142               </td><td>3.00              </td><td>Other             </td><td>yes               </td><td>2011              </td><td>X6                </td></tr>\n",
       "\t<tr><td>Toyota            </td><td> 51500            </td><td>crossover         </td><td> 70               </td><td>3.00              </td><td>Diesel            </td><td>yes               </td><td>2015              </td><td>Land Cruiser Prado</td></tr>\n",
       "\t<tr><td>BMW               </td><td> 67431            </td><td>crossover         </td><td>  0               </td><td>2.00              </td><td>Diesel            </td><td>yes               </td><td>2016              </td><td>X5                </td></tr>\n",
       "\t<tr><td>BMW               </td><td> 62000            </td><td>crossover         </td><td>  1               </td><td>2.00              </td><td>Diesel            </td><td>yes               </td><td>2016              </td><td>X5                </td></tr>\n",
       "\t<tr><td>BMW               </td><td> 57000            </td><td>crossover         </td><td> 47               </td><td>3.00              </td><td>Diesel            </td><td>yes               </td><td>2014              </td><td>X6                </td></tr>\n",
       "\t<tr><td>BMW               </td><td> 62900            </td><td>crossover         </td><td>  1               </td><td>2.00              </td><td>Diesel            </td><td>yes               </td><td>2016              </td><td>X5                </td></tr>\n",
       "\t<tr><td>Audi              </td><td> 95000            </td><td>other             </td><td> 30               </td><td>5.20              </td><td>Petrol            </td><td>yes               </td><td>2010              </td><td>R8                </td></tr>\n",
       "\t<tr><td>Audi              </td><td> 48000            </td><td>crossover         </td><td> 90               </td><td>3.00              </td><td>Diesel            </td><td>yes               </td><td>2013              </td><td>Q7                </td></tr>\n",
       "\t<tr><td>Mercedes-Benz     </td><td> 57000            </td><td>sedan             </td><td> 61               </td><td>4.60              </td><td>Petrol            </td><td>yes               </td><td>2012              </td><td>S 500             </td></tr>\n",
       "\t<tr><td>Mercedes-Benz     </td><td> 85000            </td><td>sedan             </td><td> 36               </td><td>5.50              </td><td>Petrol            </td><td>yes               </td><td>2014              </td><td>CLS 63 AMG        </td></tr>\n",
       "\t<tr><td>Audi              </td><td> 55000            </td><td>crossover         </td><td> 65               </td><td>2.99              </td><td>Diesel            </td><td>yes               </td><td>2013              </td><td>A6 Allroad        </td></tr>\n",
       "\t<tr><td>Audi              </td><td> 48900            </td><td>other             </td><td> 82               </td><td>4.20              </td><td>Petrol            </td><td>yes               </td><td>2007              </td><td>R8                </td></tr>\n",
       "\t<tr><td>BMW               </td><td> 49900            </td><td>other             </td><td> 82               </td><td>3.00              </td><td>Petrol            </td><td>yes               </td><td>2012              </td><td>640               </td></tr>\n",
       "\t<tr><td>BMW               </td><td> 55500            </td><td>crossover         </td><td> 90               </td><td>3.00              </td><td>Diesel            </td><td>yes               </td><td>2013              </td><td>X5 M              </td></tr>\n",
       "\t<tr><td>Mercedes-Benz     </td><td> 55000            </td><td>crossover         </td><td>120               </td><td>5.50              </td><td>Petrol            </td><td>yes               </td><td>2008              </td><td>G 55 AMG          </td></tr>\n",
       "\t<tr><td>Mercedes-Benz     </td><td>126000            </td><td>sedan             </td><td> 14               </td><td>3.00              </td><td>Diesel            </td><td>yes               </td><td>2015              </td><td>S 350             </td></tr>\n",
       "\t<tr><td>Mercedes-Benz     </td><td>109999            </td><td>crossover         </td><td>  0               </td><td>2.98              </td><td>Diesel            </td><td>yes               </td><td>2016              </td><td>GLS 350           </td></tr>\n",
       "\t<tr><td>Mercedes-Benz     </td><td>111999            </td><td>crossover         </td><td>  0               </td><td>3.00              </td><td>Diesel            </td><td>yes               </td><td>2016              </td><td>GL 350            </td></tr>\n",
       "\t<tr><td>Mercedes-Benz     </td><td>300000            </td><td>other             </td><td> 37               </td><td>5.00              </td><td>Petrol            </td><td>yes               </td><td>2012              </td><td>G 500             </td></tr>\n",
       "\t<tr><td>Toyota            </td><td>100000            </td><td>crossover         </td><td>  0               </td><td>4.50              </td><td>Diesel            </td><td>yes               </td><td>2016              </td><td>Land Cruiser 200  </td></tr>\n",
       "\t<tr><td>Audi              </td><td> 80999            </td><td>crossover         </td><td>  0               </td><td>3.00              </td><td>Diesel            </td><td>yes               </td><td>2016              </td><td>Q7                </td></tr>\n",
       "\t<tr><td>BMW               </td><td> 45000            </td><td>crossover         </td><td> 80               </td><td>3.00              </td><td>Petrol            </td><td>yes               </td><td>2011              </td><td>X6                </td></tr>\n",
       "\t<tr><td>Mercedes-Benz     </td><td>125000            </td><td>sedan             </td><td>  9               </td><td>3.00              </td><td>Diesel            </td><td>yes               </td><td>2014              </td><td>S 350             </td></tr>\n",
       "</tbody>\n",
       "</table>\n"
      ],
      "text/latex": [
       "\\begin{tabular}{r|lllllllll}\n",
       " Brand & Price & Body & Mileage & EngineV & Engine.Type & Registration & Year & Model\\\\\n",
       "\\hline\n",
       "\t Mercedes-Benz    & 199999.00        & crossover        &   0              & 5.50             & Petrol           & yes              & 2016             & GLS 63          \\\\\n",
       "\t BMW              &  67500.00        & crossover        &   1              & 2.50             & Diesel           & yes              & 2016             & X5              \\\\\n",
       "\t Mercedes-Benz    &  63000.00        & crossover        &  86              & 5.50             & Petrol           & yes              & 2009             & G 55 AMG        \\\\\n",
       "\t BMW              & 133000.00        & crossover        &   7              & 4.40             & Petrol           & yes              & 2015             & X5 M            \\\\\n",
       "\t Mercedes-Benz    &  50000.00        & sedan            & 240              & 3.50             & Petrol           & yes              & 2006             & S 350           \\\\\n",
       "\t Audi             &  69999.00        & crossover        &  21              & 3.00             & Petrol           & yes              & 2015             & A6 Allroad      \\\\\n",
       "\t Mercedes-Benz    & 107999.00        & crossover        &   0              & 2.98             & Diesel           & yes              & 2016             & GLS 350         \\\\\n",
       "\t BMW              &  45500.00        & crossover        &  76              & 4.40             & Petrol           & yes              & 2010             & X6 M            \\\\\n",
       "\t BMW              &  47000.00        & other            &   5              & 2.00             & Petrol           & yes              & 2014             & Z4              \\\\\n",
       "\t BMW              &  46800.00        & sedan            &  33              & 2.00             & Diesel           & yes              & 2014             & 520             \\\\\n",
       "\t Toyota           & 195000.00        & crossover        &   0              & 4.50             & Diesel           & yes              & 2016             & Land Cruiser 200\\\\\n",
       "\t Mercedes-Benz    &  87777.00        & van              &   0              & 2.20             & Diesel           & yes              & 2016             & V 250           \\\\\n",
       "\t BMW              &  70000.00        & sedan            &  16              & 3.00             & Diesel           & yes              & 2014             & 730             \\\\\n",
       "\t Mercedes-Benz    & 169000.00        & other            &   1              & 4.70             & Petrol           & yes              & 2015             & S 500           \\\\\n",
       "\t Audi             &  51500.00        & crossover        &  27              & 3.00             & Diesel           & yes              & 2013             & Q7              \\\\\n",
       "\t Toyota           &  99999.00        & crossover        &   0              & 4.50             & Diesel           & yes              & 2016             & Land Cruiser 200\\\\\n",
       "\t Toyota           & 135000.00        & crossover        &   1              & 4.50             & Diesel           & yes              & 2011             & Land Cruiser 200\\\\\n",
       "\t Mercedes-Benz    & 109999.00        & crossover        &   0              & 3.00             & Diesel           & yes              & 2016             & GLS 350         \\\\\n",
       "\t BMW              &  44999.00        & crossover        &  87              & 3.00             & Diesel           & yes              & 2011             & X6              \\\\\n",
       "\t Volkswagen       &  61000.00        & crossover        &   2              & 3.00             & Diesel           & yes              & 2016             & Touareg         \\\\\n",
       "\t Volkswagen       &  55555.00        & van              &  50              & 2.00             & Diesel           & yes              & 2013             & Multivan        \\\\\n",
       "\t BMW              &  66900.00        & crossover        &  70              & 3.00             & Diesel           & yes              & 2014             & X5              \\\\\n",
       "\t Mercedes-Benz    & 199999.00        & crossover        &   0              & 5.50             & Petrol           & yes              & 2016             & GLS 63          \\\\\n",
       "\t Volkswagen       &  55500.00        & crossover        &  47              & 3.00             & Diesel           & yes              & 2016             & Touareg         \\\\\n",
       "\t BMW              &  50499.00        & sedan            & 128              & 3.00             & Diesel           & yes              & 2013             & 730             \\\\\n",
       "\t Volkswagen       &  44600.00        & crossover        &  60              & 3.00             & Diesel           & yes              & 2013             & Touareg         \\\\\n",
       "\t Mercedes-Benz    & 195000.00        & crossover        &   2              & 5.50             & Petrol           & yes              & 2016             & GLS 63          \\\\\n",
       "\t Mercedes-Benz    & 115000.00        & sedan            &  47              & 4.60             & Petrol           & yes              & 2013             & S 500           \\\\\n",
       "\t Volkswagen       &  67622.55        & crossover        &   0              & 3.00             & Diesel           & yes              & 2016             & Touareg         \\\\\n",
       "\t BMW              &  64500.00        & crossover        &   1              & 2.00             & Diesel           & yes              & 2016             & X5              \\\\\n",
       "\t ... & ... & ... & ... & ... & ... & ... & ... & ...\\\\\n",
       "\t Mercedes-Benz      & 295000             & sedan              &  29                & 6.00               & Petrol             & yes                & 2011               & S 600             \\\\\n",
       "\t Volkswagen         &  55555             & van                &  53                & 2.00               & Diesel             & yes                & 2013               & Multivan          \\\\\n",
       "\t Mercedes-Benz      &  46500             & crossover          & 127                & 5.00               & Petrol             & yes                & 2008               & G 500             \\\\\n",
       "\t Audi               &  63200             & sedan              &   0                & 2.00               & Petrol             & yes                & 2016               & A6                \\\\\n",
       "\t BMW                &  86999             & crossover          &   0                & 3.00               & Diesel             & yes                & 2016               & X6                \\\\\n",
       "\t Toyota             & 103999             & crossover          &   0                & 4.50               & Diesel             & yes                & 2016               & Land Cruiser 200  \\\\\n",
       "\t Toyota             &  61990             & crossover          &  68                & 4.50               & Diesel             & yes                & 2012               & Land Cruiser 200  \\\\\n",
       "\t BMW                &  47777             & crossover          & 142                & 3.00               & Other              & yes                & 2011               & X6                \\\\\n",
       "\t Toyota             &  51500             & crossover          &  70                & 3.00               & Diesel             & yes                & 2015               & Land Cruiser Prado\\\\\n",
       "\t BMW                &  67431             & crossover          &   0                & 2.00               & Diesel             & yes                & 2016               & X5                \\\\\n",
       "\t BMW                &  62000             & crossover          &   1                & 2.00               & Diesel             & yes                & 2016               & X5                \\\\\n",
       "\t BMW                &  57000             & crossover          &  47                & 3.00               & Diesel             & yes                & 2014               & X6                \\\\\n",
       "\t BMW                &  62900             & crossover          &   1                & 2.00               & Diesel             & yes                & 2016               & X5                \\\\\n",
       "\t Audi               &  95000             & other              &  30                & 5.20               & Petrol             & yes                & 2010               & R8                \\\\\n",
       "\t Audi               &  48000             & crossover          &  90                & 3.00               & Diesel             & yes                & 2013               & Q7                \\\\\n",
       "\t Mercedes-Benz      &  57000             & sedan              &  61                & 4.60               & Petrol             & yes                & 2012               & S 500             \\\\\n",
       "\t Mercedes-Benz      &  85000             & sedan              &  36                & 5.50               & Petrol             & yes                & 2014               & CLS 63 AMG        \\\\\n",
       "\t Audi               &  55000             & crossover          &  65                & 2.99               & Diesel             & yes                & 2013               & A6 Allroad        \\\\\n",
       "\t Audi               &  48900             & other              &  82                & 4.20               & Petrol             & yes                & 2007               & R8                \\\\\n",
       "\t BMW                &  49900             & other              &  82                & 3.00               & Petrol             & yes                & 2012               & 640               \\\\\n",
       "\t BMW                &  55500             & crossover          &  90                & 3.00               & Diesel             & yes                & 2013               & X5 M              \\\\\n",
       "\t Mercedes-Benz      &  55000             & crossover          & 120                & 5.50               & Petrol             & yes                & 2008               & G 55 AMG          \\\\\n",
       "\t Mercedes-Benz      & 126000             & sedan              &  14                & 3.00               & Diesel             & yes                & 2015               & S 350             \\\\\n",
       "\t Mercedes-Benz      & 109999             & crossover          &   0                & 2.98               & Diesel             & yes                & 2016               & GLS 350           \\\\\n",
       "\t Mercedes-Benz      & 111999             & crossover          &   0                & 3.00               & Diesel             & yes                & 2016               & GL 350            \\\\\n",
       "\t Mercedes-Benz      & 300000             & other              &  37                & 5.00               & Petrol             & yes                & 2012               & G 500             \\\\\n",
       "\t Toyota             & 100000             & crossover          &   0                & 4.50               & Diesel             & yes                & 2016               & Land Cruiser 200  \\\\\n",
       "\t Audi               &  80999             & crossover          &   0                & 3.00               & Diesel             & yes                & 2016               & Q7                \\\\\n",
       "\t BMW                &  45000             & crossover          &  80                & 3.00               & Petrol             & yes                & 2011               & X6                \\\\\n",
       "\t Mercedes-Benz      & 125000             & sedan              &   9                & 3.00               & Diesel             & yes                & 2014               & S 350             \\\\\n",
       "\\end{tabular}\n"
      ],
      "text/markdown": [
       "\n",
       "| Brand | Price | Body | Mileage | EngineV | Engine.Type | Registration | Year | Model |\n",
       "|---|---|---|---|---|---|---|---|---|\n",
       "| Mercedes-Benz    | 199999.00        | crossover        |   0              | 5.50             | Petrol           | yes              | 2016             | GLS 63           |\n",
       "| BMW              |  67500.00        | crossover        |   1              | 2.50             | Diesel           | yes              | 2016             | X5               |\n",
       "| Mercedes-Benz    |  63000.00        | crossover        |  86              | 5.50             | Petrol           | yes              | 2009             | G 55 AMG         |\n",
       "| BMW              | 133000.00        | crossover        |   7              | 4.40             | Petrol           | yes              | 2015             | X5 M             |\n",
       "| Mercedes-Benz    |  50000.00        | sedan            | 240              | 3.50             | Petrol           | yes              | 2006             | S 350            |\n",
       "| Audi             |  69999.00        | crossover        |  21              | 3.00             | Petrol           | yes              | 2015             | A6 Allroad       |\n",
       "| Mercedes-Benz    | 107999.00        | crossover        |   0              | 2.98             | Diesel           | yes              | 2016             | GLS 350          |\n",
       "| BMW              |  45500.00        | crossover        |  76              | 4.40             | Petrol           | yes              | 2010             | X6 M             |\n",
       "| BMW              |  47000.00        | other            |   5              | 2.00             | Petrol           | yes              | 2014             | Z4               |\n",
       "| BMW              |  46800.00        | sedan            |  33              | 2.00             | Diesel           | yes              | 2014             | 520              |\n",
       "| Toyota           | 195000.00        | crossover        |   0              | 4.50             | Diesel           | yes              | 2016             | Land Cruiser 200 |\n",
       "| Mercedes-Benz    |  87777.00        | van              |   0              | 2.20             | Diesel           | yes              | 2016             | V 250            |\n",
       "| BMW              |  70000.00        | sedan            |  16              | 3.00             | Diesel           | yes              | 2014             | 730              |\n",
       "| Mercedes-Benz    | 169000.00        | other            |   1              | 4.70             | Petrol           | yes              | 2015             | S 500            |\n",
       "| Audi             |  51500.00        | crossover        |  27              | 3.00             | Diesel           | yes              | 2013             | Q7               |\n",
       "| Toyota           |  99999.00        | crossover        |   0              | 4.50             | Diesel           | yes              | 2016             | Land Cruiser 200 |\n",
       "| Toyota           | 135000.00        | crossover        |   1              | 4.50             | Diesel           | yes              | 2011             | Land Cruiser 200 |\n",
       "| Mercedes-Benz    | 109999.00        | crossover        |   0              | 3.00             | Diesel           | yes              | 2016             | GLS 350          |\n",
       "| BMW              |  44999.00        | crossover        |  87              | 3.00             | Diesel           | yes              | 2011             | X6               |\n",
       "| Volkswagen       |  61000.00        | crossover        |   2              | 3.00             | Diesel           | yes              | 2016             | Touareg          |\n",
       "| Volkswagen       |  55555.00        | van              |  50              | 2.00             | Diesel           | yes              | 2013             | Multivan         |\n",
       "| BMW              |  66900.00        | crossover        |  70              | 3.00             | Diesel           | yes              | 2014             | X5               |\n",
       "| Mercedes-Benz    | 199999.00        | crossover        |   0              | 5.50             | Petrol           | yes              | 2016             | GLS 63           |\n",
       "| Volkswagen       |  55500.00        | crossover        |  47              | 3.00             | Diesel           | yes              | 2016             | Touareg          |\n",
       "| BMW              |  50499.00        | sedan            | 128              | 3.00             | Diesel           | yes              | 2013             | 730              |\n",
       "| Volkswagen       |  44600.00        | crossover        |  60              | 3.00             | Diesel           | yes              | 2013             | Touareg          |\n",
       "| Mercedes-Benz    | 195000.00        | crossover        |   2              | 5.50             | Petrol           | yes              | 2016             | GLS 63           |\n",
       "| Mercedes-Benz    | 115000.00        | sedan            |  47              | 4.60             | Petrol           | yes              | 2013             | S 500            |\n",
       "| Volkswagen       |  67622.55        | crossover        |   0              | 3.00             | Diesel           | yes              | 2016             | Touareg          |\n",
       "| BMW              |  64500.00        | crossover        |   1              | 2.00             | Diesel           | yes              | 2016             | X5               |\n",
       "| ... | ... | ... | ... | ... | ... | ... | ... | ... |\n",
       "| Mercedes-Benz      | 295000             | sedan              |  29                | 6.00               | Petrol             | yes                | 2011               | S 600              |\n",
       "| Volkswagen         |  55555             | van                |  53                | 2.00               | Diesel             | yes                | 2013               | Multivan           |\n",
       "| Mercedes-Benz      |  46500             | crossover          | 127                | 5.00               | Petrol             | yes                | 2008               | G 500              |\n",
       "| Audi               |  63200             | sedan              |   0                | 2.00               | Petrol             | yes                | 2016               | A6                 |\n",
       "| BMW                |  86999             | crossover          |   0                | 3.00               | Diesel             | yes                | 2016               | X6                 |\n",
       "| Toyota             | 103999             | crossover          |   0                | 4.50               | Diesel             | yes                | 2016               | Land Cruiser 200   |\n",
       "| Toyota             |  61990             | crossover          |  68                | 4.50               | Diesel             | yes                | 2012               | Land Cruiser 200   |\n",
       "| BMW                |  47777             | crossover          | 142                | 3.00               | Other              | yes                | 2011               | X6                 |\n",
       "| Toyota             |  51500             | crossover          |  70                | 3.00               | Diesel             | yes                | 2015               | Land Cruiser Prado |\n",
       "| BMW                |  67431             | crossover          |   0                | 2.00               | Diesel             | yes                | 2016               | X5                 |\n",
       "| BMW                |  62000             | crossover          |   1                | 2.00               | Diesel             | yes                | 2016               | X5                 |\n",
       "| BMW                |  57000             | crossover          |  47                | 3.00               | Diesel             | yes                | 2014               | X6                 |\n",
       "| BMW                |  62900             | crossover          |   1                | 2.00               | Diesel             | yes                | 2016               | X5                 |\n",
       "| Audi               |  95000             | other              |  30                | 5.20               | Petrol             | yes                | 2010               | R8                 |\n",
       "| Audi               |  48000             | crossover          |  90                | 3.00               | Diesel             | yes                | 2013               | Q7                 |\n",
       "| Mercedes-Benz      |  57000             | sedan              |  61                | 4.60               | Petrol             | yes                | 2012               | S 500              |\n",
       "| Mercedes-Benz      |  85000             | sedan              |  36                | 5.50               | Petrol             | yes                | 2014               | CLS 63 AMG         |\n",
       "| Audi               |  55000             | crossover          |  65                | 2.99               | Diesel             | yes                | 2013               | A6 Allroad         |\n",
       "| Audi               |  48900             | other              |  82                | 4.20               | Petrol             | yes                | 2007               | R8                 |\n",
       "| BMW                |  49900             | other              |  82                | 3.00               | Petrol             | yes                | 2012               | 640                |\n",
       "| BMW                |  55500             | crossover          |  90                | 3.00               | Diesel             | yes                | 2013               | X5 M               |\n",
       "| Mercedes-Benz      |  55000             | crossover          | 120                | 5.50               | Petrol             | yes                | 2008               | G 55 AMG           |\n",
       "| Mercedes-Benz      | 126000             | sedan              |  14                | 3.00               | Diesel             | yes                | 2015               | S 350              |\n",
       "| Mercedes-Benz      | 109999             | crossover          |   0                | 2.98               | Diesel             | yes                | 2016               | GLS 350            |\n",
       "| Mercedes-Benz      | 111999             | crossover          |   0                | 3.00               | Diesel             | yes                | 2016               | GL 350             |\n",
       "| Mercedes-Benz      | 300000             | other              |  37                | 5.00               | Petrol             | yes                | 2012               | G 500              |\n",
       "| Toyota             | 100000             | crossover          |   0                | 4.50               | Diesel             | yes                | 2016               | Land Cruiser 200   |\n",
       "| Audi               |  80999             | crossover          |   0                | 3.00               | Diesel             | yes                | 2016               | Q7                 |\n",
       "| BMW                |  45000             | crossover          |  80                | 3.00               | Petrol             | yes                | 2011               | X6                 |\n",
       "| Mercedes-Benz      | 125000             | sedan              |   9                | 3.00               | Diesel             | yes                | 2014               | S 350              |\n",
       "\n"
      ],
      "text/plain": [
       "    Brand         Price     Body      Mileage EngineV Engine.Type Registration\n",
       "1   Mercedes-Benz 199999.00 crossover   0     5.50    Petrol      yes         \n",
       "2   BMW            67500.00 crossover   1     2.50    Diesel      yes         \n",
       "3   Mercedes-Benz  63000.00 crossover  86     5.50    Petrol      yes         \n",
       "4   BMW           133000.00 crossover   7     4.40    Petrol      yes         \n",
       "5   Mercedes-Benz  50000.00 sedan     240     3.50    Petrol      yes         \n",
       "6   Audi           69999.00 crossover  21     3.00    Petrol      yes         \n",
       "7   Mercedes-Benz 107999.00 crossover   0     2.98    Diesel      yes         \n",
       "8   BMW            45500.00 crossover  76     4.40    Petrol      yes         \n",
       "9   BMW            47000.00 other       5     2.00    Petrol      yes         \n",
       "10  BMW            46800.00 sedan      33     2.00    Diesel      yes         \n",
       "11  Toyota        195000.00 crossover   0     4.50    Diesel      yes         \n",
       "12  Mercedes-Benz  87777.00 van         0     2.20    Diesel      yes         \n",
       "13  BMW            70000.00 sedan      16     3.00    Diesel      yes         \n",
       "14  Mercedes-Benz 169000.00 other       1     4.70    Petrol      yes         \n",
       "15  Audi           51500.00 crossover  27     3.00    Diesel      yes         \n",
       "16  Toyota         99999.00 crossover   0     4.50    Diesel      yes         \n",
       "17  Toyota        135000.00 crossover   1     4.50    Diesel      yes         \n",
       "18  Mercedes-Benz 109999.00 crossover   0     3.00    Diesel      yes         \n",
       "19  BMW            44999.00 crossover  87     3.00    Diesel      yes         \n",
       "20  Volkswagen     61000.00 crossover   2     3.00    Diesel      yes         \n",
       "21  Volkswagen     55555.00 van        50     2.00    Diesel      yes         \n",
       "22  BMW            66900.00 crossover  70     3.00    Diesel      yes         \n",
       "23  Mercedes-Benz 199999.00 crossover   0     5.50    Petrol      yes         \n",
       "24  Volkswagen     55500.00 crossover  47     3.00    Diesel      yes         \n",
       "25  BMW            50499.00 sedan     128     3.00    Diesel      yes         \n",
       "26  Volkswagen     44600.00 crossover  60     3.00    Diesel      yes         \n",
       "27  Mercedes-Benz 195000.00 crossover   2     5.50    Petrol      yes         \n",
       "28  Mercedes-Benz 115000.00 sedan      47     4.60    Petrol      yes         \n",
       "29  Volkswagen     67622.55 crossover   0     3.00    Diesel      yes         \n",
       "30  BMW            64500.00 crossover   1     2.00    Diesel      yes         \n",
       "... ...           ...       ...       ...     ...     ...         ...         \n",
       "326 Mercedes-Benz 295000    sedan      29     6.00    Petrol      yes         \n",
       "327 Volkswagen     55555    van        53     2.00    Diesel      yes         \n",
       "328 Mercedes-Benz  46500    crossover 127     5.00    Petrol      yes         \n",
       "329 Audi           63200    sedan       0     2.00    Petrol      yes         \n",
       "330 BMW            86999    crossover   0     3.00    Diesel      yes         \n",
       "331 Toyota        103999    crossover   0     4.50    Diesel      yes         \n",
       "332 Toyota         61990    crossover  68     4.50    Diesel      yes         \n",
       "333 BMW            47777    crossover 142     3.00    Other       yes         \n",
       "334 Toyota         51500    crossover  70     3.00    Diesel      yes         \n",
       "335 BMW            67431    crossover   0     2.00    Diesel      yes         \n",
       "336 BMW            62000    crossover   1     2.00    Diesel      yes         \n",
       "337 BMW            57000    crossover  47     3.00    Diesel      yes         \n",
       "338 BMW            62900    crossover   1     2.00    Diesel      yes         \n",
       "339 Audi           95000    other      30     5.20    Petrol      yes         \n",
       "340 Audi           48000    crossover  90     3.00    Diesel      yes         \n",
       "341 Mercedes-Benz  57000    sedan      61     4.60    Petrol      yes         \n",
       "342 Mercedes-Benz  85000    sedan      36     5.50    Petrol      yes         \n",
       "343 Audi           55000    crossover  65     2.99    Diesel      yes         \n",
       "344 Audi           48900    other      82     4.20    Petrol      yes         \n",
       "345 BMW            49900    other      82     3.00    Petrol      yes         \n",
       "346 BMW            55500    crossover  90     3.00    Diesel      yes         \n",
       "347 Mercedes-Benz  55000    crossover 120     5.50    Petrol      yes         \n",
       "348 Mercedes-Benz 126000    sedan      14     3.00    Diesel      yes         \n",
       "349 Mercedes-Benz 109999    crossover   0     2.98    Diesel      yes         \n",
       "350 Mercedes-Benz 111999    crossover   0     3.00    Diesel      yes         \n",
       "351 Mercedes-Benz 300000    other      37     5.00    Petrol      yes         \n",
       "352 Toyota        100000    crossover   0     4.50    Diesel      yes         \n",
       "353 Audi           80999    crossover   0     3.00    Diesel      yes         \n",
       "354 BMW            45000    crossover  80     3.00    Petrol      yes         \n",
       "355 Mercedes-Benz 125000    sedan       9     3.00    Diesel      yes         \n",
       "    Year Model             \n",
       "1   2016 GLS 63            \n",
       "2   2016 X5                \n",
       "3   2009 G 55 AMG          \n",
       "4   2015 X5 M              \n",
       "5   2006 S 350             \n",
       "6   2015 A6 Allroad        \n",
       "7   2016 GLS 350           \n",
       "8   2010 X6 M              \n",
       "9   2014 Z4                \n",
       "10  2014 520               \n",
       "11  2016 Land Cruiser 200  \n",
       "12  2016 V 250             \n",
       "13  2014 730               \n",
       "14  2015 S 500             \n",
       "15  2013 Q7                \n",
       "16  2016 Land Cruiser 200  \n",
       "17  2011 Land Cruiser 200  \n",
       "18  2016 GLS 350           \n",
       "19  2011 X6                \n",
       "20  2016 Touareg           \n",
       "21  2013 Multivan          \n",
       "22  2014 X5                \n",
       "23  2016 GLS 63            \n",
       "24  2016 Touareg           \n",
       "25  2013 730               \n",
       "26  2013 Touareg           \n",
       "27  2016 GLS 63            \n",
       "28  2013 S 500             \n",
       "29  2016 Touareg           \n",
       "30  2016 X5                \n",
       "... ...  ...               \n",
       "326 2011 S 600             \n",
       "327 2013 Multivan          \n",
       "328 2008 G 500             \n",
       "329 2016 A6                \n",
       "330 2016 X6                \n",
       "331 2016 Land Cruiser 200  \n",
       "332 2012 Land Cruiser 200  \n",
       "333 2011 X6                \n",
       "334 2015 Land Cruiser Prado\n",
       "335 2016 X5                \n",
       "336 2016 X5                \n",
       "337 2014 X6                \n",
       "338 2016 X5                \n",
       "339 2010 R8                \n",
       "340 2013 Q7                \n",
       "341 2012 S 500             \n",
       "342 2014 CLS 63 AMG        \n",
       "343 2013 A6 Allroad        \n",
       "344 2007 R8                \n",
       "345 2012 640               \n",
       "346 2013 X5 M              \n",
       "347 2008 G 55 AMG          \n",
       "348 2015 S 350             \n",
       "349 2016 GLS 350           \n",
       "350 2016 GL 350            \n",
       "351 2012 G 500             \n",
       "352 2016 Land Cruiser 200  \n",
       "353 2016 Q7                \n",
       "354 2011 X6                \n",
       "355 2014 S 350             "
      ]
     },
     "metadata": {},
     "output_type": "display_data"
    }
   ],
   "source": [
    "## FILTERING DATA WHERE PRICE ABOVE THE MAXIMUM PRICE\n",
    "data %>% filter(Price>max_price)"
   ]
  },
  {
   "cell_type": "code",
   "execution_count": 20,
   "metadata": {
    "hidden": true
   },
   "outputs": [],
   "source": [
    "## ASSGINING VALUES TO FIND QUANTILES\n",
    "quantile_range = seq(0.75,0.99,by=0.01)"
   ]
  },
  {
   "cell_type": "code",
   "execution_count": 21,
   "metadata": {
    "hidden": true
   },
   "outputs": [
    {
     "data": {
      "text/html": [
       "<ol class=list-inline>\n",
       "\t<li>0.75</li>\n",
       "\t<li>0.76</li>\n",
       "\t<li>0.77</li>\n",
       "\t<li>0.78</li>\n",
       "\t<li>0.79</li>\n",
       "\t<li>0.8</li>\n",
       "\t<li>0.81</li>\n",
       "\t<li>0.82</li>\n",
       "\t<li>0.83</li>\n",
       "\t<li>0.84</li>\n",
       "\t<li>0.85</li>\n",
       "\t<li>0.86</li>\n",
       "\t<li>0.87</li>\n",
       "\t<li>0.88</li>\n",
       "\t<li>0.89</li>\n",
       "\t<li>0.9</li>\n",
       "\t<li>0.91</li>\n",
       "\t<li>0.92</li>\n",
       "\t<li>0.93</li>\n",
       "\t<li>0.94</li>\n",
       "\t<li>0.95</li>\n",
       "\t<li>0.96</li>\n",
       "\t<li>0.97</li>\n",
       "\t<li>0.98</li>\n",
       "\t<li>0.99</li>\n",
       "</ol>\n"
      ],
      "text/latex": [
       "\\begin{enumerate*}\n",
       "\\item 0.75\n",
       "\\item 0.76\n",
       "\\item 0.77\n",
       "\\item 0.78\n",
       "\\item 0.79\n",
       "\\item 0.8\n",
       "\\item 0.81\n",
       "\\item 0.82\n",
       "\\item 0.83\n",
       "\\item 0.84\n",
       "\\item 0.85\n",
       "\\item 0.86\n",
       "\\item 0.87\n",
       "\\item 0.88\n",
       "\\item 0.89\n",
       "\\item 0.9\n",
       "\\item 0.91\n",
       "\\item 0.92\n",
       "\\item 0.93\n",
       "\\item 0.94\n",
       "\\item 0.95\n",
       "\\item 0.96\n",
       "\\item 0.97\n",
       "\\item 0.98\n",
       "\\item 0.99\n",
       "\\end{enumerate*}\n"
      ],
      "text/markdown": [
       "1. 0.75\n",
       "2. 0.76\n",
       "3. 0.77\n",
       "4. 0.78\n",
       "5. 0.79\n",
       "6. 0.8\n",
       "7. 0.81\n",
       "8. 0.82\n",
       "9. 0.83\n",
       "10. 0.84\n",
       "11. 0.85\n",
       "12. 0.86\n",
       "13. 0.87\n",
       "14. 0.88\n",
       "15. 0.89\n",
       "16. 0.9\n",
       "17. 0.91\n",
       "18. 0.92\n",
       "19. 0.93\n",
       "20. 0.94\n",
       "21. 0.95\n",
       "22. 0.96\n",
       "23. 0.97\n",
       "24. 0.98\n",
       "25. 0.99\n",
       "\n",
       "\n"
      ],
      "text/plain": [
       " [1] 0.75 0.76 0.77 0.78 0.79 0.80 0.81 0.82 0.83 0.84 0.85 0.86 0.87 0.88 0.89\n",
       "[16] 0.90 0.91 0.92 0.93 0.94 0.95 0.96 0.97 0.98 0.99"
      ]
     },
     "metadata": {},
     "output_type": "display_data"
    }
   ],
   "source": [
    "quantile_range"
   ]
  },
  {
   "cell_type": "code",
   "execution_count": 22,
   "metadata": {
    "hidden": true,
    "scrolled": true
   },
   "outputs": [
    {
     "data": {
      "text/html": [
       "<dl class=dl-horizontal>\n",
       "\t<dt>75%</dt>\n",
       "\t\t<dd>21900</dd>\n",
       "\t<dt>76%</dt>\n",
       "\t\t<dd>22500</dd>\n",
       "\t<dt>77%</dt>\n",
       "\t\t<dd>23200</dd>\n",
       "\t<dt>78%</dt>\n",
       "\t\t<dd>23999</dd>\n",
       "\t<dt>79%</dt>\n",
       "\t\t<dd>24798</dd>\n",
       "\t<dt>80%</dt>\n",
       "\t\t<dd>25500</dd>\n",
       "\t<dt>81%</dt>\n",
       "\t\t<dd>26999.44</dd>\n",
       "\t<dt>82%</dt>\n",
       "\t\t<dd>28500</dd>\n",
       "\t<dt>83%</dt>\n",
       "\t\t<dd>29000</dd>\n",
       "\t<dt>84%</dt>\n",
       "\t\t<dd>30500</dd>\n",
       "\t<dt>85%</dt>\n",
       "\t\t<dd>32000</dd>\n",
       "\t<dt>86%</dt>\n",
       "\t\t<dd>33709.92</dd>\n",
       "\t<dt>87%</dt>\n",
       "\t\t<dd>35280.5948</dd>\n",
       "\t<dt>88%</dt>\n",
       "\t\t<dd>37000</dd>\n",
       "\t<dt>89%</dt>\n",
       "\t\t<dd>39000</dd>\n",
       "\t<dt>90%</dt>\n",
       "\t\t<dd>40996</dd>\n",
       "\t<dt>91%</dt>\n",
       "\t\t<dd>43983.16</dd>\n",
       "\t<dt>92%</dt>\n",
       "\t\t<dd>47316.0000000001</dd>\n",
       "\t<dt>93%</dt>\n",
       "\t\t<dd>51500</dd>\n",
       "\t<dt>94%</dt>\n",
       "\t\t<dd>56500</dd>\n",
       "\t<dt>95%</dt>\n",
       "\t\t<dd>64819.9999999999</dd>\n",
       "\t<dt>96%</dt>\n",
       "\t\t<dd>70000</dd>\n",
       "\t<dt>97%</dt>\n",
       "\t\t<dd>81639.7199999999</dd>\n",
       "\t<dt>98%</dt>\n",
       "\t\t<dd>103999</dd>\n",
       "\t<dt>99%</dt>\n",
       "\t\t<dd>129812.52</dd>\n",
       "</dl>\n"
      ],
      "text/latex": [
       "\\begin{description*}\n",
       "\\item[75\\textbackslash{}\\%] 21900\n",
       "\\item[76\\textbackslash{}\\%] 22500\n",
       "\\item[77\\textbackslash{}\\%] 23200\n",
       "\\item[78\\textbackslash{}\\%] 23999\n",
       "\\item[79\\textbackslash{}\\%] 24798\n",
       "\\item[80\\textbackslash{}\\%] 25500\n",
       "\\item[81\\textbackslash{}\\%] 26999.44\n",
       "\\item[82\\textbackslash{}\\%] 28500\n",
       "\\item[83\\textbackslash{}\\%] 29000\n",
       "\\item[84\\textbackslash{}\\%] 30500\n",
       "\\item[85\\textbackslash{}\\%] 32000\n",
       "\\item[86\\textbackslash{}\\%] 33709.92\n",
       "\\item[87\\textbackslash{}\\%] 35280.5948\n",
       "\\item[88\\textbackslash{}\\%] 37000\n",
       "\\item[89\\textbackslash{}\\%] 39000\n",
       "\\item[90\\textbackslash{}\\%] 40996\n",
       "\\item[91\\textbackslash{}\\%] 43983.16\n",
       "\\item[92\\textbackslash{}\\%] 47316.0000000001\n",
       "\\item[93\\textbackslash{}\\%] 51500\n",
       "\\item[94\\textbackslash{}\\%] 56500\n",
       "\\item[95\\textbackslash{}\\%] 64819.9999999999\n",
       "\\item[96\\textbackslash{}\\%] 70000\n",
       "\\item[97\\textbackslash{}\\%] 81639.7199999999\n",
       "\\item[98\\textbackslash{}\\%] 103999\n",
       "\\item[99\\textbackslash{}\\%] 129812.52\n",
       "\\end{description*}\n"
      ],
      "text/markdown": [
       "75%\n",
       ":   2190076%\n",
       ":   2250077%\n",
       ":   2320078%\n",
       ":   2399979%\n",
       ":   2479880%\n",
       ":   2550081%\n",
       ":   26999.4482%\n",
       ":   2850083%\n",
       ":   2900084%\n",
       ":   3050085%\n",
       ":   3200086%\n",
       ":   33709.9287%\n",
       ":   35280.594888%\n",
       ":   3700089%\n",
       ":   3900090%\n",
       ":   4099691%\n",
       ":   43983.1692%\n",
       ":   47316.000000000193%\n",
       ":   5150094%\n",
       ":   5650095%\n",
       ":   64819.999999999996%\n",
       ":   7000097%\n",
       ":   81639.719999999998%\n",
       ":   10399999%\n",
       ":   129812.52\n",
       "\n"
      ],
      "text/plain": [
       "      75%       76%       77%       78%       79%       80%       81%       82% \n",
       " 21900.00  22500.00  23200.00  23999.00  24798.00  25500.00  26999.44  28500.00 \n",
       "      83%       84%       85%       86%       87%       88%       89%       90% \n",
       " 29000.00  30500.00  32000.00  33709.92  35280.59  37000.00  39000.00  40996.00 \n",
       "      91%       92%       93%       94%       95%       96%       97%       98% \n",
       " 43983.16  47316.00  51500.00  56500.00  64820.00  70000.00  81639.72 103999.00 \n",
       "      99% \n",
       "129812.52 "
      ]
     },
     "metadata": {},
     "output_type": "display_data"
    }
   ],
   "source": [
    "## USING QUANTILE FUNCTION CALLING QUANTILES FROM 75TH TO 99TH \n",
    "quantile(data$Price,probs=quantile_range)"
   ]
  },
  {
   "cell_type": "markdown",
   "metadata": {
    "hidden": true
   },
   "source": [
    "- Here we already know the max price value 44251.5. So the outliers will be filled with quantile of value less than max value. \n",
    "- Quantile 90 = 40996 is used to fill outliers "
   ]
  },
  {
   "cell_type": "code",
   "execution_count": 23,
   "metadata": {
    "hidden": true
   },
   "outputs": [
    {
     "data": {
      "text/html": [
       "<strong>90%:</strong> 40996"
      ],
      "text/latex": [
       "\\textbf{90\\textbackslash{}\\%:} 40996"
      ],
      "text/markdown": [
       "**90%:** 40996"
      ],
      "text/plain": [
       "  90% \n",
       "40996 "
      ]
     },
     "metadata": {},
     "output_type": "display_data"
    }
   ],
   "source": [
    "quantile(data$Price,probs=0.90)"
   ]
  },
  {
   "cell_type": "code",
   "execution_count": 24,
   "metadata": {
    "hidden": true
   },
   "outputs": [],
   "source": [
    "## USING FOR LOOPS CHANGING VALUES\n",
    "fill_value = unname(quantile(data$Price,probs=0.90))\n",
    "for (i in 1:4025)\n",
    "{\n",
    "    if (data$Price[i]>max_price){\n",
    "        data$Price[i]=fill_value}\n",
    "}"
   ]
  },
  {
   "cell_type": "code",
   "execution_count": 25,
   "metadata": {
    "hidden": true
   },
   "outputs": [
    {
     "data": {
      "text/html": [
       "<table>\n",
       "<thead><tr><th scope=col>Brand</th><th scope=col>Price</th><th scope=col>Body</th><th scope=col>Mileage</th><th scope=col>EngineV</th><th scope=col>Engine.Type</th><th scope=col>Registration</th><th scope=col>Year</th><th scope=col>Model</th></tr></thead>\n",
       "<tbody>\n",
       "</tbody>\n",
       "</table>\n"
      ],
      "text/latex": [
       "\\begin{tabular}{r|lllllllll}\n",
       " Brand & Price & Body & Mileage & EngineV & Engine.Type & Registration & Year & Model\\\\\n",
       "\\hline\n",
       "\\end{tabular}\n"
      ],
      "text/markdown": [
       "\n",
       "| Brand | Price | Body | Mileage | EngineV | Engine.Type | Registration | Year | Model |\n",
       "|---|---|---|---|---|---|---|---|---|\n",
       "\n"
      ],
      "text/plain": [
       "     Brand Price Body Mileage EngineV Engine.Type Registration Year Model"
      ]
     },
     "metadata": {},
     "output_type": "display_data"
    }
   ],
   "source": [
    "filter(data,Price>max_price)"
   ]
  },
  {
   "cell_type": "code",
   "execution_count": 26,
   "metadata": {
    "hidden": true
   },
   "outputs": [
    {
     "data": {
      "image/png": "[encoded data removed]",
      "text/plain": [
       "plot without title"
      ]
     },
     "metadata": {},
     "output_type": "display_data"
    }
   ],
   "source": [
    "## BOXPLOT FOR PRICE TO CHECK FOR OUTLIERS\n",
    "ggplot(data=data,aes(y=Price))+ geom_boxplot(fill='brown3')"
   ]
  },
  {
   "cell_type": "markdown",
   "metadata": {},
   "source": [
    "### MILEAGE"
   ]
  },
  {
   "cell_type": "code",
   "execution_count": 15,
   "metadata": {},
   "outputs": [
    {
     "data": {
      "image/png": "[encoded data removed]",
      "text/plain": [
       "plot without title"
      ]
     },
     "metadata": {},
     "output_type": "display_data"
    }
   ],
   "source": [
    "## CHECKING FOR OUTLIERS WITH BOXPLOT\n",
    "ggplot(data=data,aes(y=Mileage))+ geom_boxplot(fill='burlywood4')"
   ]
  },
  {
   "cell_type": "code",
   "execution_count": 16,
   "metadata": {},
   "outputs": [],
   "source": [
    "## FINDING INTER QUARTILE RANGE TO CALCULATE MAXIMUM VALUE OF DISTRIBUTION USING \"IQR\" FUNCTION\n",
    "iqr_mileage= IQR(data$Mileage)"
   ]
  },
  {
   "cell_type": "code",
   "execution_count": 29,
   "metadata": {},
   "outputs": [
    {
     "data": {
      "text/html": [
       "140"
      ],
      "text/latex": [
       "140"
      ],
      "text/markdown": [
       "140"
      ],
      "text/plain": [
       "[1] 140"
      ]
     },
     "metadata": {},
     "output_type": "display_data"
    }
   ],
   "source": [
    "iqr_mileage"
   ]
  },
  {
   "cell_type": "code",
   "execution_count": 30,
   "metadata": {},
   "outputs": [
    {
     "data": {
      "text/html": [
       "<strong>75%:</strong> 230"
      ],
      "text/latex": [
       "\\textbf{75\\textbackslash{}\\%:} 230"
      ],
      "text/markdown": [
       "**75%:** 230"
      ],
      "text/plain": [
       "75% \n",
       "230 "
      ]
     },
     "metadata": {},
     "output_type": "display_data"
    }
   ],
   "source": [
    "## WITH \"PROBS\" ATTIBUTE WE CAN SPECIFY THE PARTICULAR QUANTILE NEEDED (IT SHOULD BE BETWEEN 0 AND 1)\n",
    "quantile(data$Mileage,probs=0.75)"
   ]
  },
  {
   "cell_type": "code",
   "execution_count": 31,
   "metadata": {},
   "outputs": [],
   "source": [
    "## MAX VALUE OF Mileage IS CALCULATED USING FORMULA \"Q3 + (1.5*IQR)\"\n",
    "max_mileage = quantile(data$Mileage,probs=0.75)+ (1.5*iqr_mileage)"
   ]
  },
  {
   "cell_type": "code",
   "execution_count": 32,
   "metadata": {},
   "outputs": [
    {
     "data": {
      "text/html": [
       "440"
      ],
      "text/latex": [
       "440"
      ],
      "text/markdown": [
       "440"
      ],
      "text/plain": [
       "[1] 440"
      ]
     },
     "metadata": {},
     "output_type": "display_data"
    }
   ],
   "source": [
    "unname(max_mileage)"
   ]
  },
  {
   "cell_type": "code",
   "execution_count": 33,
   "metadata": {
    "scrolled": true
   },
   "outputs": [
    {
     "data": {
      "text/html": [
       "<table>\n",
       "<thead><tr><th scope=col>Brand</th><th scope=col>Price</th><th scope=col>Body</th><th scope=col>Mileage</th><th scope=col>EngineV</th><th scope=col>Engine.Type</th><th scope=col>Registration</th><th scope=col>Year</th><th scope=col>Model</th></tr></thead>\n",
       "<tbody>\n",
       "\t<tr><td>Volkswagen      </td><td> 2500           </td><td>sedan           </td><td>488             </td><td>2.0             </td><td>Petrol          </td><td>yes             </td><td>1991            </td><td>Passat B3       </td></tr>\n",
       "\t<tr><td>Renault         </td><td> 4900           </td><td>van             </td><td>472             </td><td>2.5             </td><td>Diesel          </td><td>yes             </td><td>2000            </td><td>Master          </td></tr>\n",
       "\t<tr><td>Mercedes-Benz   </td><td> 2650           </td><td>sedan           </td><td>470             </td><td>2.0             </td><td>Gas             </td><td>yes             </td><td>1985            </td><td>190             </td></tr>\n",
       "\t<tr><td>Volkswagen      </td><td> 6500           </td><td>other           </td><td>547             </td><td>1.9             </td><td>Diesel          </td><td>yes             </td><td>1998            </td><td>T4 (Transporter)</td></tr>\n",
       "\t<tr><td>Volkswagen      </td><td> 5200           </td><td>van             </td><td>442             </td><td>2.4             </td><td>Diesel          </td><td>yes             </td><td>1992            </td><td>T4 (Transporter)</td></tr>\n",
       "\t<tr><td>Volkswagen      </td><td> 8700           </td><td>other           </td><td>520             </td><td>2.5             </td><td>Diesel          </td><td>yes             </td><td>1999            </td><td>T4 (Transporter)</td></tr>\n",
       "\t<tr><td>Toyota          </td><td> 2700           </td><td>sedan           </td><td>550             </td><td>1.6             </td><td>Gas             </td><td>yes             </td><td>1989            </td><td>Carina          </td></tr>\n",
       "\t<tr><td>Volkswagen      </td><td> 4900           </td><td>sedan           </td><td>500             </td><td>1.9             </td><td>Diesel          </td><td>yes             </td><td>1995            </td><td>Passat B4       </td></tr>\n",
       "\t<tr><td>Mercedes-Benz   </td><td> 8500           </td><td>van             </td><td>630             </td><td>2.9             </td><td>Diesel          </td><td>yes             </td><td>1998            </td><td>Sprinter 312    </td></tr>\n",
       "\t<tr><td>Mercedes-Benz   </td><td> 3800           </td><td>van             </td><td>462             </td><td>2.2             </td><td>Diesel          </td><td>no              </td><td>2001            </td><td>Sprinter        </td></tr>\n",
       "\t<tr><td>Audi            </td><td> 1900           </td><td>sedan           </td><td>450             </td><td>2.5             </td><td>Diesel          </td><td>no              </td><td>1996            </td><td>A6              </td></tr>\n",
       "\t<tr><td>Mercedes-Benz   </td><td> 8500           </td><td>sedan           </td><td>500             </td><td>3.2             </td><td>Diesel          </td><td>yes             </td><td>2000            </td><td>E-Class         </td></tr>\n",
       "\t<tr><td>BMW             </td><td> 7200           </td><td>sedan           </td><td>448             </td><td>3.0             </td><td>Petrol          </td><td>yes             </td><td>1996            </td><td>730             </td></tr>\n",
       "\t<tr><td>Mercedes-Benz   </td><td> 4500           </td><td>other           </td><td>525             </td><td>2.3             </td><td>Diesel          </td><td>yes             </td><td>1995            </td><td>Sprinter 208    </td></tr>\n",
       "\t<tr><td>Mercedes-Benz   </td><td> 4000           </td><td>sedan           </td><td>460             </td><td>2.0             </td><td>Petrol          </td><td>yes             </td><td>1991            </td><td>E-Class         </td></tr>\n",
       "\t<tr><td>Mercedes-Benz   </td><td> 6500           </td><td>van             </td><td>450             </td><td>2.3             </td><td>Diesel          </td><td>yes             </td><td>1996            </td><td>Vito            </td></tr>\n",
       "\t<tr><td>Mercedes-Benz   </td><td> 8800           </td><td>other           </td><td>575             </td><td>2.2             </td><td>Diesel          </td><td>yes             </td><td>2006            </td><td>Sprinter 313    </td></tr>\n",
       "\t<tr><td>Mitsubishi      </td><td> 2300           </td><td>sedan           </td><td>523             </td><td>1.8             </td><td>Diesel          </td><td>yes             </td><td>1989            </td><td>Lancer          </td></tr>\n",
       "\t<tr><td>Mercedes-Benz   </td><td>40996           </td><td>crossover       </td><td>980             </td><td>3.0             </td><td>Diesel          </td><td>yes             </td><td>2013            </td><td>GL 350          </td></tr>\n",
       "\t<tr><td>Volkswagen      </td><td> 1900           </td><td>vagon           </td><td>504             </td><td>1.6             </td><td>Gas             </td><td>yes             </td><td>1988            </td><td>Passat B2       </td></tr>\n",
       "\t<tr><td>Volkswagen      </td><td> 2850           </td><td>vagon           </td><td>450             </td><td>1.6             </td><td>Diesel          </td><td>yes             </td><td>1988            </td><td>Passat B2       </td></tr>\n",
       "\t<tr><td>Volkswagen      </td><td>20500           </td><td>hatch           </td><td>800             </td><td>2.0             </td><td>Diesel          </td><td>yes             </td><td>2013            </td><td>Golf VII        </td></tr>\n",
       "\t<tr><td>Volkswagen      </td><td> 5300           </td><td>van             </td><td>505             </td><td>2.4             </td><td>Diesel          </td><td>yes             </td><td>1995            </td><td>T4 (Transporter)</td></tr>\n",
       "\t<tr><td>Mercedes-Benz   </td><td> 9500           </td><td>other           </td><td>650             </td><td>2.2             </td><td>Diesel          </td><td>yes             </td><td>2005            </td><td>Sprinter 313    </td></tr>\n",
       "\t<tr><td>Audi            </td><td> 6700           </td><td>sedan           </td><td>470             </td><td>2.0             </td><td>Diesel          </td><td>yes             </td><td>1997            </td><td>A6              </td></tr>\n",
       "\t<tr><td>Mercedes-Benz   </td><td>13000           </td><td>other           </td><td>580             </td><td>2.2             </td><td>Diesel          </td><td>yes             </td><td>2005            </td><td>Sprinter 313    </td></tr>\n",
       "\t<tr><td>Volkswagen      </td><td> 3200           </td><td>other           </td><td>650             </td><td>1.9             </td><td>Diesel          </td><td>yes             </td><td>1999            </td><td>Caddy           </td></tr>\n",
       "\t<tr><td>Toyota          </td><td>40996           </td><td>crossover       </td><td>810             </td><td>4.7             </td><td>Gas             </td><td>yes             </td><td>2010            </td><td>Land Cruiser 200</td></tr>\n",
       "\t<tr><td>Mercedes-Benz   </td><td> 2100           </td><td>sedan           </td><td>535             </td><td>2.2             </td><td>Diesel          </td><td>yes             </td><td>1995            </td><td>210             </td></tr>\n",
       "\t<tr><td>Audi            </td><td> 2750           </td><td>sedan           </td><td>450             </td><td>2.5             </td><td>Diesel          </td><td>no              </td><td>1999            </td><td>A6              </td></tr>\n",
       "\t<tr><td>BMW             </td><td> 2200           </td><td>sedan           </td><td>460             </td><td>2.4             </td><td>Diesel          </td><td>yes             </td><td>1988            </td><td>324             </td></tr>\n",
       "\t<tr><td>Mercedes-Benz   </td><td> 6200           </td><td>sedan           </td><td>450             </td><td>4.2             </td><td>Gas             </td><td>yes             </td><td>1997            </td><td>S 420           </td></tr>\n",
       "\t<tr><td>Mercedes-Benz   </td><td> 8400           </td><td>other           </td><td>457             </td><td>5.0             </td><td>Gas             </td><td>yes             </td><td>1996            </td><td>S 140           </td></tr>\n",
       "\t<tr><td>Volkswagen      </td><td> 6000           </td><td>van             </td><td>460             </td><td>1.9             </td><td>Diesel          </td><td>yes             </td><td>1997            </td><td>T4 (Transporter)</td></tr>\n",
       "\t<tr><td>Mercedes-Benz   </td><td> 5600           </td><td>van             </td><td>480             </td><td>2.2             </td><td>Diesel          </td><td>yes             </td><td>1999            </td><td>Vito            </td></tr>\n",
       "\t<tr><td>Volkswagen      </td><td> 3600           </td><td>vagon           </td><td>470             </td><td>1.8             </td><td>Petrol          </td><td>yes             </td><td>1994            </td><td>Passat B4       </td></tr>\n",
       "</tbody>\n",
       "</table>\n"
      ],
      "text/latex": [
       "\\begin{tabular}{r|lllllllll}\n",
       " Brand & Price & Body & Mileage & EngineV & Engine.Type & Registration & Year & Model\\\\\n",
       "\\hline\n",
       "\t Volkswagen       &  2500            & sedan            & 488              & 2.0              & Petrol           & yes              & 1991             & Passat B3       \\\\\n",
       "\t Renault          &  4900            & van              & 472              & 2.5              & Diesel           & yes              & 2000             & Master          \\\\\n",
       "\t Mercedes-Benz    &  2650            & sedan            & 470              & 2.0              & Gas              & yes              & 1985             & 190             \\\\\n",
       "\t Volkswagen       &  6500            & other            & 547              & 1.9              & Diesel           & yes              & 1998             & T4 (Transporter)\\\\\n",
       "\t Volkswagen       &  5200            & van              & 442              & 2.4              & Diesel           & yes              & 1992             & T4 (Transporter)\\\\\n",
       "\t Volkswagen       &  8700            & other            & 520              & 2.5              & Diesel           & yes              & 1999             & T4 (Transporter)\\\\\n",
       "\t Toyota           &  2700            & sedan            & 550              & 1.6              & Gas              & yes              & 1989             & Carina          \\\\\n",
       "\t Volkswagen       &  4900            & sedan            & 500              & 1.9              & Diesel           & yes              & 1995             & Passat B4       \\\\\n",
       "\t Mercedes-Benz    &  8500            & van              & 630              & 2.9              & Diesel           & yes              & 1998             & Sprinter 312    \\\\\n",
       "\t Mercedes-Benz    &  3800            & van              & 462              & 2.2              & Diesel           & no               & 2001             & Sprinter        \\\\\n",
       "\t Audi             &  1900            & sedan            & 450              & 2.5              & Diesel           & no               & 1996             & A6              \\\\\n",
       "\t Mercedes-Benz    &  8500            & sedan            & 500              & 3.2              & Diesel           & yes              & 2000             & E-Class         \\\\\n",
       "\t BMW              &  7200            & sedan            & 448              & 3.0              & Petrol           & yes              & 1996             & 730             \\\\\n",
       "\t Mercedes-Benz    &  4500            & other            & 525              & 2.3              & Diesel           & yes              & 1995             & Sprinter 208    \\\\\n",
       "\t Mercedes-Benz    &  4000            & sedan            & 460              & 2.0              & Petrol           & yes              & 1991             & E-Class         \\\\\n",
       "\t Mercedes-Benz    &  6500            & van              & 450              & 2.3              & Diesel           & yes              & 1996             & Vito            \\\\\n",
       "\t Mercedes-Benz    &  8800            & other            & 575              & 2.2              & Diesel           & yes              & 2006             & Sprinter 313    \\\\\n",
       "\t Mitsubishi       &  2300            & sedan            & 523              & 1.8              & Diesel           & yes              & 1989             & Lancer          \\\\\n",
       "\t Mercedes-Benz    & 40996            & crossover        & 980              & 3.0              & Diesel           & yes              & 2013             & GL 350          \\\\\n",
       "\t Volkswagen       &  1900            & vagon            & 504              & 1.6              & Gas              & yes              & 1988             & Passat B2       \\\\\n",
       "\t Volkswagen       &  2850            & vagon            & 450              & 1.6              & Diesel           & yes              & 1988             & Passat B2       \\\\\n",
       "\t Volkswagen       & 20500            & hatch            & 800              & 2.0              & Diesel           & yes              & 2013             & Golf VII        \\\\\n",
       "\t Volkswagen       &  5300            & van              & 505              & 2.4              & Diesel           & yes              & 1995             & T4 (Transporter)\\\\\n",
       "\t Mercedes-Benz    &  9500            & other            & 650              & 2.2              & Diesel           & yes              & 2005             & Sprinter 313    \\\\\n",
       "\t Audi             &  6700            & sedan            & 470              & 2.0              & Diesel           & yes              & 1997             & A6              \\\\\n",
       "\t Mercedes-Benz    & 13000            & other            & 580              & 2.2              & Diesel           & yes              & 2005             & Sprinter 313    \\\\\n",
       "\t Volkswagen       &  3200            & other            & 650              & 1.9              & Diesel           & yes              & 1999             & Caddy           \\\\\n",
       "\t Toyota           & 40996            & crossover        & 810              & 4.7              & Gas              & yes              & 2010             & Land Cruiser 200\\\\\n",
       "\t Mercedes-Benz    &  2100            & sedan            & 535              & 2.2              & Diesel           & yes              & 1995             & 210             \\\\\n",
       "\t Audi             &  2750            & sedan            & 450              & 2.5              & Diesel           & no               & 1999             & A6              \\\\\n",
       "\t BMW              &  2200            & sedan            & 460              & 2.4              & Diesel           & yes              & 1988             & 324             \\\\\n",
       "\t Mercedes-Benz    &  6200            & sedan            & 450              & 4.2              & Gas              & yes              & 1997             & S 420           \\\\\n",
       "\t Mercedes-Benz    &  8400            & other            & 457              & 5.0              & Gas              & yes              & 1996             & S 140           \\\\\n",
       "\t Volkswagen       &  6000            & van              & 460              & 1.9              & Diesel           & yes              & 1997             & T4 (Transporter)\\\\\n",
       "\t Mercedes-Benz    &  5600            & van              & 480              & 2.2              & Diesel           & yes              & 1999             & Vito            \\\\\n",
       "\t Volkswagen       &  3600            & vagon            & 470              & 1.8              & Petrol           & yes              & 1994             & Passat B4       \\\\\n",
       "\\end{tabular}\n"
      ],
      "text/markdown": [
       "\n",
       "| Brand | Price | Body | Mileage | EngineV | Engine.Type | Registration | Year | Model |\n",
       "|---|---|---|---|---|---|---|---|---|\n",
       "| Volkswagen       |  2500            | sedan            | 488              | 2.0              | Petrol           | yes              | 1991             | Passat B3        |\n",
       "| Renault          |  4900            | van              | 472              | 2.5              | Diesel           | yes              | 2000             | Master           |\n",
       "| Mercedes-Benz    |  2650            | sedan            | 470              | 2.0              | Gas              | yes              | 1985             | 190              |\n",
       "| Volkswagen       |  6500            | other            | 547              | 1.9              | Diesel           | yes              | 1998             | T4 (Transporter) |\n",
       "| Volkswagen       |  5200            | van              | 442              | 2.4              | Diesel           | yes              | 1992             | T4 (Transporter) |\n",
       "| Volkswagen       |  8700            | other            | 520              | 2.5              | Diesel           | yes              | 1999             | T4 (Transporter) |\n",
       "| Toyota           |  2700            | sedan            | 550              | 1.6              | Gas              | yes              | 1989             | Carina           |\n",
       "| Volkswagen       |  4900            | sedan            | 500              | 1.9              | Diesel           | yes              | 1995             | Passat B4        |\n",
       "| Mercedes-Benz    |  8500            | van              | 630              | 2.9              | Diesel           | yes              | 1998             | Sprinter 312     |\n",
       "| Mercedes-Benz    |  3800            | van              | 462              | 2.2              | Diesel           | no               | 2001             | Sprinter         |\n",
       "| Audi             |  1900            | sedan            | 450              | 2.5              | Diesel           | no               | 1996             | A6               |\n",
       "| Mercedes-Benz    |  8500            | sedan            | 500              | 3.2              | Diesel           | yes              | 2000             | E-Class          |\n",
       "| BMW              |  7200            | sedan            | 448              | 3.0              | Petrol           | yes              | 1996             | 730              |\n",
       "| Mercedes-Benz    |  4500            | other            | 525              | 2.3              | Diesel           | yes              | 1995             | Sprinter 208     |\n",
       "| Mercedes-Benz    |  4000            | sedan            | 460              | 2.0              | Petrol           | yes              | 1991             | E-Class          |\n",
       "| Mercedes-Benz    |  6500            | van              | 450              | 2.3              | Diesel           | yes              | 1996             | Vito             |\n",
       "| Mercedes-Benz    |  8800            | other            | 575              | 2.2              | Diesel           | yes              | 2006             | Sprinter 313     |\n",
       "| Mitsubishi       |  2300            | sedan            | 523              | 1.8              | Diesel           | yes              | 1989             | Lancer           |\n",
       "| Mercedes-Benz    | 40996            | crossover        | 980              | 3.0              | Diesel           | yes              | 2013             | GL 350           |\n",
       "| Volkswagen       |  1900            | vagon            | 504              | 1.6              | Gas              | yes              | 1988             | Passat B2        |\n",
       "| Volkswagen       |  2850            | vagon            | 450              | 1.6              | Diesel           | yes              | 1988             | Passat B2        |\n",
       "| Volkswagen       | 20500            | hatch            | 800              | 2.0              | Diesel           | yes              | 2013             | Golf VII         |\n",
       "| Volkswagen       |  5300            | van              | 505              | 2.4              | Diesel           | yes              | 1995             | T4 (Transporter) |\n",
       "| Mercedes-Benz    |  9500            | other            | 650              | 2.2              | Diesel           | yes              | 2005             | Sprinter 313     |\n",
       "| Audi             |  6700            | sedan            | 470              | 2.0              | Diesel           | yes              | 1997             | A6               |\n",
       "| Mercedes-Benz    | 13000            | other            | 580              | 2.2              | Diesel           | yes              | 2005             | Sprinter 313     |\n",
       "| Volkswagen       |  3200            | other            | 650              | 1.9              | Diesel           | yes              | 1999             | Caddy            |\n",
       "| Toyota           | 40996            | crossover        | 810              | 4.7              | Gas              | yes              | 2010             | Land Cruiser 200 |\n",
       "| Mercedes-Benz    |  2100            | sedan            | 535              | 2.2              | Diesel           | yes              | 1995             | 210              |\n",
       "| Audi             |  2750            | sedan            | 450              | 2.5              | Diesel           | no               | 1999             | A6               |\n",
       "| BMW              |  2200            | sedan            | 460              | 2.4              | Diesel           | yes              | 1988             | 324              |\n",
       "| Mercedes-Benz    |  6200            | sedan            | 450              | 4.2              | Gas              | yes              | 1997             | S 420            |\n",
       "| Mercedes-Benz    |  8400            | other            | 457              | 5.0              | Gas              | yes              | 1996             | S 140            |\n",
       "| Volkswagen       |  6000            | van              | 460              | 1.9              | Diesel           | yes              | 1997             | T4 (Transporter) |\n",
       "| Mercedes-Benz    |  5600            | van              | 480              | 2.2              | Diesel           | yes              | 1999             | Vito             |\n",
       "| Volkswagen       |  3600            | vagon            | 470              | 1.8              | Petrol           | yes              | 1994             | Passat B4        |\n",
       "\n"
      ],
      "text/plain": [
       "   Brand         Price Body      Mileage EngineV Engine.Type Registration Year\n",
       "1  Volkswagen     2500 sedan     488     2.0     Petrol      yes          1991\n",
       "2  Renault        4900 van       472     2.5     Diesel      yes          2000\n",
       "3  Mercedes-Benz  2650 sedan     470     2.0     Gas         yes          1985\n",
       "4  Volkswagen     6500 other     547     1.9     Diesel      yes          1998\n",
       "5  Volkswagen     5200 van       442     2.4     Diesel      yes          1992\n",
       "6  Volkswagen     8700 other     520     2.5     Diesel      yes          1999\n",
       "7  Toyota         2700 sedan     550     1.6     Gas         yes          1989\n",
       "8  Volkswagen     4900 sedan     500     1.9     Diesel      yes          1995\n",
       "9  Mercedes-Benz  8500 van       630     2.9     Diesel      yes          1998\n",
       "10 Mercedes-Benz  3800 van       462     2.2     Diesel      no           2001\n",
       "11 Audi           1900 sedan     450     2.5     Diesel      no           1996\n",
       "12 Mercedes-Benz  8500 sedan     500     3.2     Diesel      yes          2000\n",
       "13 BMW            7200 sedan     448     3.0     Petrol      yes          1996\n",
       "14 Mercedes-Benz  4500 other     525     2.3     Diesel      yes          1995\n",
       "15 Mercedes-Benz  4000 sedan     460     2.0     Petrol      yes          1991\n",
       "16 Mercedes-Benz  6500 van       450     2.3     Diesel      yes          1996\n",
       "17 Mercedes-Benz  8800 other     575     2.2     Diesel      yes          2006\n",
       "18 Mitsubishi     2300 sedan     523     1.8     Diesel      yes          1989\n",
       "19 Mercedes-Benz 40996 crossover 980     3.0     Diesel      yes          2013\n",
       "20 Volkswagen     1900 vagon     504     1.6     Gas         yes          1988\n",
       "21 Volkswagen     2850 vagon     450     1.6     Diesel      yes          1988\n",
       "22 Volkswagen    20500 hatch     800     2.0     Diesel      yes          2013\n",
       "23 Volkswagen     5300 van       505     2.4     Diesel      yes          1995\n",
       "24 Mercedes-Benz  9500 other     650     2.2     Diesel      yes          2005\n",
       "25 Audi           6700 sedan     470     2.0     Diesel      yes          1997\n",
       "26 Mercedes-Benz 13000 other     580     2.2     Diesel      yes          2005\n",
       "27 Volkswagen     3200 other     650     1.9     Diesel      yes          1999\n",
       "28 Toyota        40996 crossover 810     4.7     Gas         yes          2010\n",
       "29 Mercedes-Benz  2100 sedan     535     2.2     Diesel      yes          1995\n",
       "30 Audi           2750 sedan     450     2.5     Diesel      no           1999\n",
       "31 BMW            2200 sedan     460     2.4     Diesel      yes          1988\n",
       "32 Mercedes-Benz  6200 sedan     450     4.2     Gas         yes          1997\n",
       "33 Mercedes-Benz  8400 other     457     5.0     Gas         yes          1996\n",
       "34 Volkswagen     6000 van       460     1.9     Diesel      yes          1997\n",
       "35 Mercedes-Benz  5600 van       480     2.2     Diesel      yes          1999\n",
       "36 Volkswagen     3600 vagon     470     1.8     Petrol      yes          1994\n",
       "   Model           \n",
       "1  Passat B3       \n",
       "2  Master          \n",
       "3  190             \n",
       "4  T4 (Transporter)\n",
       "5  T4 (Transporter)\n",
       "6  T4 (Transporter)\n",
       "7  Carina          \n",
       "8  Passat B4       \n",
       "9  Sprinter 312    \n",
       "10 Sprinter        \n",
       "11 A6              \n",
       "12 E-Class         \n",
       "13 730             \n",
       "14 Sprinter 208    \n",
       "15 E-Class         \n",
       "16 Vito            \n",
       "17 Sprinter 313    \n",
       "18 Lancer          \n",
       "19 GL 350          \n",
       "20 Passat B2       \n",
       "21 Passat B2       \n",
       "22 Golf VII        \n",
       "23 T4 (Transporter)\n",
       "24 Sprinter 313    \n",
       "25 A6              \n",
       "26 Sprinter 313    \n",
       "27 Caddy           \n",
       "28 Land Cruiser 200\n",
       "29 210             \n",
       "30 A6              \n",
       "31 324             \n",
       "32 S 420           \n",
       "33 S 140           \n",
       "34 T4 (Transporter)\n",
       "35 Vito            \n",
       "36 Passat B4       "
      ]
     },
     "metadata": {},
     "output_type": "display_data"
    }
   ],
   "source": [
    "## FILTERING DATA WHERE MILEAGE ABOVE THE MAXIMUM MILEAGE\n",
    "filter(data,Mileage>max_mileage)"
   ]
  },
  {
   "cell_type": "code",
   "execution_count": 18,
   "metadata": {},
   "outputs": [],
   "source": [
    "quantile_range = seq(0.75,0.99,by=0.01)"
   ]
  },
  {
   "cell_type": "code",
   "execution_count": 19,
   "metadata": {},
   "outputs": [
    {
     "data": {
      "text/html": [
       "<dl class=dl-horizontal>\n",
       "\t<dt>75%</dt>\n",
       "\t\t<dd>230</dd>\n",
       "\t<dt>76%</dt>\n",
       "\t\t<dd>233</dd>\n",
       "\t<dt>77%</dt>\n",
       "\t\t<dd>238</dd>\n",
       "\t<dt>78%</dt>\n",
       "\t\t<dd>240</dd>\n",
       "\t<dt>79%</dt>\n",
       "\t\t<dd>245</dd>\n",
       "\t<dt>80%</dt>\n",
       "\t\t<dd>250</dd>\n",
       "\t<dt>81%</dt>\n",
       "\t\t<dd>250</dd>\n",
       "\t<dt>82%</dt>\n",
       "\t\t<dd>254</dd>\n",
       "\t<dt>83%</dt>\n",
       "\t\t<dd>260</dd>\n",
       "\t<dt>84%</dt>\n",
       "\t\t<dd>263</dd>\n",
       "\t<dt>85%</dt>\n",
       "\t\t<dd>270</dd>\n",
       "\t<dt>86%</dt>\n",
       "\t\t<dd>272.64</dd>\n",
       "\t<dt>87%</dt>\n",
       "\t\t<dd>280</dd>\n",
       "\t<dt>88%</dt>\n",
       "\t\t<dd>281.12</dd>\n",
       "\t<dt>89%</dt>\n",
       "\t\t<dd>288</dd>\n",
       "\t<dt>90%</dt>\n",
       "\t\t<dd>297</dd>\n",
       "\t<dt>91%</dt>\n",
       "\t\t<dd>300</dd>\n",
       "\t<dt>92%</dt>\n",
       "\t\t<dd>303</dd>\n",
       "\t<dt>93%</dt>\n",
       "\t\t<dd>315</dd>\n",
       "\t<dt>94%</dt>\n",
       "\t\t<dd>326</dd>\n",
       "\t<dt>95%</dt>\n",
       "\t\t<dd>340.8</dd>\n",
       "\t<dt>96%</dt>\n",
       "\t\t<dd>358.08</dd>\n",
       "\t<dt>97%</dt>\n",
       "\t\t<dd>375.559999999999</dd>\n",
       "\t<dt>98%</dt>\n",
       "\t\t<dd>400</dd>\n",
       "\t<dt>99%</dt>\n",
       "\t\t<dd>434.52</dd>\n",
       "</dl>\n"
      ],
      "text/latex": [
       "\\begin{description*}\n",
       "\\item[75\\textbackslash{}\\%] 230\n",
       "\\item[76\\textbackslash{}\\%] 233\n",
       "\\item[77\\textbackslash{}\\%] 238\n",
       "\\item[78\\textbackslash{}\\%] 240\n",
       "\\item[79\\textbackslash{}\\%] 245\n",
       "\\item[80\\textbackslash{}\\%] 250\n",
       "\\item[81\\textbackslash{}\\%] 250\n",
       "\\item[82\\textbackslash{}\\%] 254\n",
       "\\item[83\\textbackslash{}\\%] 260\n",
       "\\item[84\\textbackslash{}\\%] 263\n",
       "\\item[85\\textbackslash{}\\%] 270\n",
       "\\item[86\\textbackslash{}\\%] 272.64\n",
       "\\item[87\\textbackslash{}\\%] 280\n",
       "\\item[88\\textbackslash{}\\%] 281.12\n",
       "\\item[89\\textbackslash{}\\%] 288\n",
       "\\item[90\\textbackslash{}\\%] 297\n",
       "\\item[91\\textbackslash{}\\%] 300\n",
       "\\item[92\\textbackslash{}\\%] 303\n",
       "\\item[93\\textbackslash{}\\%] 315\n",
       "\\item[94\\textbackslash{}\\%] 326\n",
       "\\item[95\\textbackslash{}\\%] 340.8\n",
       "\\item[96\\textbackslash{}\\%] 358.08\n",
       "\\item[97\\textbackslash{}\\%] 375.559999999999\n",
       "\\item[98\\textbackslash{}\\%] 400\n",
       "\\item[99\\textbackslash{}\\%] 434.52\n",
       "\\end{description*}\n"
      ],
      "text/markdown": [
       "75%\n",
       ":   23076%\n",
       ":   23377%\n",
       ":   23878%\n",
       ":   24079%\n",
       ":   24580%\n",
       ":   25081%\n",
       ":   25082%\n",
       ":   25483%\n",
       ":   26084%\n",
       ":   26385%\n",
       ":   27086%\n",
       ":   272.6487%\n",
       ":   28088%\n",
       ":   281.1289%\n",
       ":   28890%\n",
       ":   29791%\n",
       ":   30092%\n",
       ":   30393%\n",
       ":   31594%\n",
       ":   32695%\n",
       ":   340.896%\n",
       ":   358.0897%\n",
       ":   375.55999999999998%\n",
       ":   40099%\n",
       ":   434.52\n",
       "\n"
      ],
      "text/plain": [
       "   75%    76%    77%    78%    79%    80%    81%    82%    83%    84%    85% \n",
       "230.00 233.00 238.00 240.00 245.00 250.00 250.00 254.00 260.00 263.00 270.00 \n",
       "   86%    87%    88%    89%    90%    91%    92%    93%    94%    95%    96% \n",
       "272.64 280.00 281.12 288.00 297.00 300.00 303.00 315.00 326.00 340.80 358.08 \n",
       "   97%    98%    99% \n",
       "375.56 400.00 434.52 "
      ]
     },
     "metadata": {},
     "output_type": "display_data"
    }
   ],
   "source": [
    "## USING QUANTILE FUNCTION CALLING QUANTILES FROM 75TH TO 99TH \n",
    "quantile(data$Mileage,probs=quantile_range)"
   ]
  },
  {
   "cell_type": "code",
   "execution_count": 35,
   "metadata": {},
   "outputs": [],
   "source": [
    "## USING FOR LOOPS CHANGING VALUES\n",
    "for (i in 1:4025)\n",
    "{\n",
    "    if (data$Mileage[i]>max_mileage)\n",
    "    {\n",
    "        data$Mileage[i]=quantile(data$Mileage,probs=0.98)\n",
    "    }\n",
    "}"
   ]
  },
  {
   "cell_type": "code",
   "execution_count": 36,
   "metadata": {},
   "outputs": [
    {
     "data": {
      "text/html": [
       "<table>\n",
       "<thead><tr><th scope=col>Brand</th><th scope=col>Price</th><th scope=col>Body</th><th scope=col>Mileage</th><th scope=col>EngineV</th><th scope=col>Engine.Type</th><th scope=col>Registration</th><th scope=col>Year</th><th scope=col>Model</th></tr></thead>\n",
       "<tbody>\n",
       "</tbody>\n",
       "</table>\n"
      ],
      "text/latex": [
       "\\begin{tabular}{r|lllllllll}\n",
       " Brand & Price & Body & Mileage & EngineV & Engine.Type & Registration & Year & Model\\\\\n",
       "\\hline\n",
       "\\end{tabular}\n"
      ],
      "text/markdown": [
       "\n",
       "| Brand | Price | Body | Mileage | EngineV | Engine.Type | Registration | Year | Model |\n",
       "|---|---|---|---|---|---|---|---|---|\n",
       "\n"
      ],
      "text/plain": [
       "     Brand Price Body Mileage EngineV Engine.Type Registration Year Model"
      ]
     },
     "metadata": {},
     "output_type": "display_data"
    }
   ],
   "source": [
    "filter(data,Mileage>max_mileage)"
   ]
  },
  {
   "cell_type": "code",
   "execution_count": 37,
   "metadata": {},
   "outputs": [
    {
     "data": {
      "image/png": "[encoded data removed]",
      "text/plain": [
       "plot without title"
      ]
     },
     "metadata": {},
     "output_type": "display_data"
    }
   ],
   "source": [
    "## CHECKING FOR OUTLIERS WITH BOXPLOT\n",
    "ggplot(data=data,aes(y=Mileage))+ geom_boxplot(fill='burlywood4')"
   ]
  },
  {
   "cell_type": "markdown",
   "metadata": {},
   "source": [
    "###  EngineV"
   ]
  },
  {
   "cell_type": "code",
   "execution_count": 38,
   "metadata": {},
   "outputs": [
    {
     "data": {
      "image/png": "[encoded data removed]",
      "text/plain": [
       "plot without title"
      ]
     },
     "metadata": {},
     "output_type": "display_data"
    }
   ],
   "source": [
    "## CHECKING FOR OUTLIERS WITH BOXPLOT\n",
    "ggplot(data=data,aes(y=EngineV))+ geom_boxplot(fill='cadetblue3')"
   ]
  },
  {
   "cell_type": "code",
   "execution_count": 39,
   "metadata": {},
   "outputs": [],
   "source": [
    "## FINDING INTER QUARTILE RANGE TO CALCULATE MAXIMUM VALUE OF DISTRIBUTION USING \"IQR\" FUNCTION\n",
    "iqr_enginev= IQR(data$EngineV)"
   ]
  },
  {
   "cell_type": "code",
   "execution_count": 40,
   "metadata": {},
   "outputs": [],
   "source": [
    "## MAX VALUE OF ENGINEV IS CALCULATED USING FORMULA \"Q3 + (1.5*IQR)\"\n",
    "max_enginev = quantile(data$EngineV,probs=0.75)+ (1.5*iqr_enginev)"
   ]
  },
  {
   "cell_type": "code",
   "execution_count": 41,
   "metadata": {},
   "outputs": [
    {
     "data": {
      "text/html": [
       "<strong>75%:</strong> 4.8"
      ],
      "text/latex": [
       "\\textbf{75\\textbackslash{}\\%:} 4.8"
      ],
      "text/markdown": [
       "**75%:** 4.8"
      ],
      "text/plain": [
       "75% \n",
       "4.8 "
      ]
     },
     "metadata": {},
     "output_type": "display_data"
    }
   ],
   "source": [
    "max_enginev"
   ]
  },
  {
   "cell_type": "code",
   "execution_count": 42,
   "metadata": {
    "scrolled": true
   },
   "outputs": [
    {
     "data": {
      "text/html": [
       "<table>\n",
       "<thead><tr><th scope=col>Brand</th><th scope=col>Price</th><th scope=col>Body</th><th scope=col>Mileage</th><th scope=col>EngineV</th><th scope=col>Engine.Type</th><th scope=col>Registration</th><th scope=col>Year</th><th scope=col>Model</th></tr></thead>\n",
       "<tbody>\n",
       "\t<tr><td>Mercedes-Benz   </td><td>13300           </td><td>sedan           </td><td>358             </td><td> 5.00           </td><td>Gas             </td><td>yes             </td><td>2003            </td><td>S 500           </td></tr>\n",
       "\t<tr><td>Mercedes-Benz   </td><td>40996           </td><td>crossover       </td><td>  0             </td><td> 5.50           </td><td>Petrol          </td><td>yes             </td><td>2016            </td><td>GLS 63          </td></tr>\n",
       "\t<tr><td>Mercedes-Benz   </td><td>40996           </td><td>crossover       </td><td> 86             </td><td> 5.50           </td><td>Petrol          </td><td>yes             </td><td>2009            </td><td>G 55 AMG        </td></tr>\n",
       "\t<tr><td>Mercedes-Benz   </td><td>29500           </td><td>sedan           </td><td>134             </td><td> 5.00           </td><td>Petrol          </td><td>yes             </td><td>2008            </td><td>S 500           </td></tr>\n",
       "\t<tr><td>Mercedes-Benz   </td><td>13500           </td><td>sedan           </td><td>317             </td><td> 5.00           </td><td>Petrol          </td><td>yes             </td><td>2001            </td><td>S 500           </td></tr>\n",
       "\t<tr><td>BMW             </td><td>27000           </td><td>sedan           </td><td>137             </td><td> 5.00           </td><td>Other           </td><td>yes             </td><td>2005            </td><td>M5              </td></tr>\n",
       "\t<tr><td>BMW             </td><td>28000           </td><td>other           </td><td>100             </td><td> 5.00           </td><td>Petrol          </td><td>yes             </td><td>2005            </td><td>M5              </td></tr>\n",
       "\t<tr><td>Mercedes-Benz   </td><td>23900           </td><td>sedan           </td><td>187             </td><td> 5.50           </td><td>Petrol          </td><td>yes             </td><td>2007            </td><td>S 550           </td></tr>\n",
       "\t<tr><td>Mercedes-Benz   </td><td>25000           </td><td>sedan           </td><td>130             </td><td> 5.50           </td><td>Petrol          </td><td>yes             </td><td>2007            </td><td>S 550           </td></tr>\n",
       "\t<tr><td>Mercedes-Benz   </td><td> 5500           </td><td>sedan           </td><td>100             </td><td>99.99           </td><td>Petrol          </td><td>yes             </td><td>2007            </td><td>S 550           </td></tr>\n",
       "\t<tr><td>Mercedes-Benz   </td><td>14500           </td><td>sedan           </td><td>220             </td><td> 5.00           </td><td>Petrol          </td><td>yes             </td><td>2004            </td><td>S 500           </td></tr>\n",
       "\t<tr><td>Mercedes-Benz   </td><td>29900           </td><td>other           </td><td> 71             </td><td> 5.50           </td><td>Petrol          </td><td>yes             </td><td>2007            </td><td>CL 500          </td></tr>\n",
       "\t<tr><td>Toyota          </td><td>38300           </td><td>crossover       </td><td>130             </td><td> 5.70           </td><td>Gas             </td><td>yes             </td><td>2009            </td><td>Land Cruiser 200</td></tr>\n",
       "\t<tr><td>Mercedes-Benz   </td><td>40996           </td><td>crossover       </td><td>  0             </td><td> 5.50           </td><td>Petrol          </td><td>yes             </td><td>2016            </td><td>GLS 63          </td></tr>\n",
       "\t<tr><td>Mercedes-Benz   </td><td>44000           </td><td>other           </td><td> 82             </td><td> 5.50           </td><td>Petrol          </td><td>yes             </td><td>2010            </td><td>S 500           </td></tr>\n",
       "\t<tr><td>Mercedes-Benz   </td><td>24900           </td><td>sedan           </td><td>140             </td><td> 5.50           </td><td>Petrol          </td><td>yes             </td><td>2009            </td><td>S 550           </td></tr>\n",
       "\t<tr><td>Audi            </td><td>12000           </td><td>sedan           </td><td>200             </td><td> 6.00           </td><td>Petrol          </td><td>yes             </td><td>2004            </td><td>A8              </td></tr>\n",
       "\t<tr><td>Mercedes-Benz   </td><td>40996           </td><td>crossover       </td><td>  2             </td><td> 5.50           </td><td>Petrol          </td><td>yes             </td><td>2016            </td><td>GLS 63          </td></tr>\n",
       "\t<tr><td>Mercedes-Benz   </td><td> 9500           </td><td>sedan           </td><td>246             </td><td> 6.00           </td><td>Petrol          </td><td>yes             </td><td>1997            </td><td>S 600           </td></tr>\n",
       "\t<tr><td>Audi            </td><td> 1950           </td><td>sedan           </td><td>320             </td><td>19.00           </td><td>Other           </td><td>no              </td><td>1996            </td><td>A4              </td></tr>\n",
       "\t<tr><td>Mercedes-Benz   </td><td>26800           </td><td>sedan           </td><td>162             </td><td> 5.50           </td><td>Petrol          </td><td>yes             </td><td>2007            </td><td>S 500           </td></tr>\n",
       "\t<tr><td>Mercedes-Benz   </td><td>40996           </td><td>crossover       </td><td>  0             </td><td> 5.50           </td><td>Petrol          </td><td>yes             </td><td>2016            </td><td>GLS 63          </td></tr>\n",
       "\t<tr><td>Mercedes-Benz   </td><td> 8700           </td><td>sedan           </td><td>210             </td><td> 5.00           </td><td>Petrol          </td><td>yes             </td><td>1997            </td><td>S 500           </td></tr>\n",
       "\t<tr><td>Volkswagen      </td><td>10500           </td><td>sedan           </td><td>210             </td><td> 5.00           </td><td>Diesel          </td><td>yes             </td><td>2004            </td><td>Phaeton         </td></tr>\n",
       "\t<tr><td>Renault         </td><td> 4800           </td><td>van             </td><td>113             </td><td>15.00           </td><td>Diesel          </td><td>yes             </td><td>2006            </td><td>Kangoo          </td></tr>\n",
       "\t<tr><td>Mercedes-Benz   </td><td>40996           </td><td>other           </td><td> 75             </td><td> 6.30           </td><td>Petrol          </td><td>yes             </td><td>2009            </td><td>CL 63 AMG       </td></tr>\n",
       "\t<tr><td>Mercedes-Benz   </td><td>40996           </td><td>sedan           </td><td> 74             </td><td> 6.30           </td><td>Petrol          </td><td>yes             </td><td>2010            </td><td>S 63 AMG        </td></tr>\n",
       "\t<tr><td>Mercedes-Benz   </td><td>40500           </td><td>sedan           </td><td>108             </td><td> 5.50           </td><td>Petrol          </td><td>yes             </td><td>2010            </td><td>S 500           </td></tr>\n",
       "\t<tr><td>Mercedes-Benz   </td><td>21500           </td><td>crossover       </td><td>148             </td><td> 6.20           </td><td>Petrol          </td><td>yes             </td><td>2008            </td><td>ML 63 AMG       </td></tr>\n",
       "\t<tr><td>Mercedes-Benz   </td><td>12300           </td><td>sedan           </td><td>423             </td><td> 5.00           </td><td>Gas             </td><td>yes             </td><td>1997            </td><td>S 500           </td></tr>\n",
       "\t<tr><td>...</td><td>...</td><td>...</td><td>...</td><td>...</td><td>...</td><td>...</td><td>...</td><td>...</td></tr>\n",
       "\t<tr><td>Audi         </td><td>40996        </td><td>sedan        </td><td> 44          </td><td> 6.3         </td><td>Petrol       </td><td>yes          </td><td>2012         </td><td>A8           </td></tr>\n",
       "\t<tr><td>BMW          </td><td>34600        </td><td>crossover    </td><td>163          </td><td> 5.0         </td><td>Petrol       </td><td>yes          </td><td>2011         </td><td>X5 M         </td></tr>\n",
       "\t<tr><td>Mercedes-Benz</td><td>20500        </td><td>sedan        </td><td>222          </td><td> 5.5         </td><td>Petrol       </td><td>yes          </td><td>2006         </td><td>S 500        </td></tr>\n",
       "\t<tr><td>Mercedes-Benz</td><td> 8400        </td><td>other        </td><td>400          </td><td> 5.0         </td><td>Gas          </td><td>yes          </td><td>1996         </td><td>S 140        </td></tr>\n",
       "\t<tr><td>BMW          </td><td>40996        </td><td>vagon        </td><td> 56          </td><td> 5.0         </td><td>Petrol       </td><td>yes          </td><td>2007         </td><td>M5           </td></tr>\n",
       "\t<tr><td>Mercedes-Benz</td><td>44000        </td><td>other        </td><td> 39          </td><td> 5.5         </td><td>Petrol       </td><td>yes          </td><td>2009         </td><td>SL 55 AMG    </td></tr>\n",
       "\t<tr><td>Mercedes-Benz</td><td>40996        </td><td>sedan        </td><td>115          </td><td> 5.5         </td><td>Petrol       </td><td>yes          </td><td>2011         </td><td>S 500        </td></tr>\n",
       "\t<tr><td>BMW          </td><td>26900        </td><td>sedan        </td><td>158          </td><td> 5.0         </td><td>Petrol       </td><td>yes          </td><td>2007         </td><td>M5           </td></tr>\n",
       "\t<tr><td>Mercedes-Benz</td><td> 7650        </td><td>sedan        </td><td>340          </td><td> 5.0         </td><td>Gas          </td><td>yes          </td><td>1997         </td><td>S 140        </td></tr>\n",
       "\t<tr><td>Mercedes-Benz</td><td>41900        </td><td>sedan        </td><td> 95          </td><td> 6.3         </td><td>Other        </td><td>yes          </td><td>2011         </td><td>S 550        </td></tr>\n",
       "\t<tr><td>Mercedes-Benz</td><td>24500        </td><td>sedan        </td><td>222          </td><td> 5.5         </td><td>Petrol       </td><td>yes          </td><td>2005         </td><td>S 550        </td></tr>\n",
       "\t<tr><td>Toyota       </td><td>37700        </td><td>crossover    </td><td> 47          </td><td> 5.7         </td><td>Gas          </td><td>yes          </td><td>2009         </td><td>Sequoia      </td></tr>\n",
       "\t<tr><td>Mercedes-Benz</td><td>40996        </td><td>crossover    </td><td> 30          </td><td> 6.3         </td><td>Petrol       </td><td>yes          </td><td>2013         </td><td>G 63 AMG     </td></tr>\n",
       "\t<tr><td>Mercedes-Benz</td><td>15900        </td><td>sedan        </td><td>216          </td><td> 5.0         </td><td>Petrol       </td><td>yes          </td><td>2007         </td><td>E-Class      </td></tr>\n",
       "\t<tr><td>Mercedes-Benz</td><td>40996        </td><td>crossover    </td><td>127          </td><td> 5.5         </td><td>Petrol       </td><td>yes          </td><td>2008         </td><td>G 55 AMG     </td></tr>\n",
       "\t<tr><td>Mercedes-Benz</td><td>40996        </td><td>sedan        </td><td> 29          </td><td> 6.0         </td><td>Petrol       </td><td>yes          </td><td>2011         </td><td>S 600        </td></tr>\n",
       "\t<tr><td>Mercedes-Benz</td><td>35900        </td><td>crossover    </td><td>254          </td><td> 5.0         </td><td>Gas          </td><td>yes          </td><td>2004         </td><td>G 500        </td></tr>\n",
       "\t<tr><td>Mercedes-Benz</td><td>40996        </td><td>crossover    </td><td>127          </td><td> 5.0         </td><td>Petrol       </td><td>yes          </td><td>2008         </td><td>G 500        </td></tr>\n",
       "\t<tr><td>Mercedes-Benz</td><td>35500        </td><td>sedan        </td><td>160          </td><td> 6.5         </td><td>Petrol       </td><td>yes          </td><td>2008         </td><td>S 65 AMG     </td></tr>\n",
       "\t<tr><td>Renault      </td><td> 2950        </td><td>vagon        </td><td>280          </td><td>19.0         </td><td>Diesel       </td><td>yes          </td><td>2000         </td><td>Kangoo       </td></tr>\n",
       "\t<tr><td>Audi         </td><td>40996        </td><td>other        </td><td> 30          </td><td> 5.2         </td><td>Petrol       </td><td>yes          </td><td>2010         </td><td>R8           </td></tr>\n",
       "\t<tr><td>Mercedes-Benz</td><td>40500        </td><td>crossover    </td><td> 54          </td><td> 5.5         </td><td>Petrol       </td><td>yes          </td><td>2011         </td><td>GL 500       </td></tr>\n",
       "\t<tr><td>Mercedes-Benz</td><td>40996        </td><td>sedan        </td><td> 36          </td><td> 5.5         </td><td>Petrol       </td><td>yes          </td><td>2014         </td><td>CLS 63 AMG   </td></tr>\n",
       "\t<tr><td>Mercedes-Benz</td><td>23500        </td><td>sedan        </td><td>200          </td><td> 5.5         </td><td>Petrol       </td><td>yes          </td><td>2008         </td><td>S 550        </td></tr>\n",
       "\t<tr><td>Mercedes-Benz</td><td>40996        </td><td>crossover    </td><td>120          </td><td> 5.5         </td><td>Petrol       </td><td>yes          </td><td>2008         </td><td>G 55 AMG     </td></tr>\n",
       "\t<tr><td>Mercedes-Benz</td><td>27500        </td><td>crossover    </td><td>152          </td><td> 6.3         </td><td>Petrol       </td><td>yes          </td><td>2007         </td><td>ML 63 AMG    </td></tr>\n",
       "\t<tr><td>Mercedes-Benz</td><td>29500        </td><td>crossover    </td><td>253          </td><td> 5.0         </td><td>Petrol       </td><td>yes          </td><td>2003         </td><td>G 500        </td></tr>\n",
       "\t<tr><td>Mercedes-Benz</td><td>24500        </td><td>sedan        </td><td>163          </td><td> 5.5         </td><td>Gas          </td><td>yes          </td><td>2007         </td><td>S 550        </td></tr>\n",
       "\t<tr><td>Mercedes-Benz</td><td>12000        </td><td>sedan        </td><td>298          </td><td> 5.0         </td><td>Petrol       </td><td>yes          </td><td>2004         </td><td>S 500        </td></tr>\n",
       "\t<tr><td>Mercedes-Benz</td><td>40996        </td><td>other        </td><td> 37          </td><td> 5.0         </td><td>Petrol       </td><td>yes          </td><td>2012         </td><td>G 500        </td></tr>\n",
       "</tbody>\n",
       "</table>\n"
      ],
      "text/latex": [
       "\\begin{tabular}{r|lllllllll}\n",
       " Brand & Price & Body & Mileage & EngineV & Engine.Type & Registration & Year & Model\\\\\n",
       "\\hline\n",
       "\t Mercedes-Benz    & 13300            & sedan            & 358              &  5.00            & Gas              & yes              & 2003             & S 500           \\\\\n",
       "\t Mercedes-Benz    & 40996            & crossover        &   0              &  5.50            & Petrol           & yes              & 2016             & GLS 63          \\\\\n",
       "\t Mercedes-Benz    & 40996            & crossover        &  86              &  5.50            & Petrol           & yes              & 2009             & G 55 AMG        \\\\\n",
       "\t Mercedes-Benz    & 29500            & sedan            & 134              &  5.00            & Petrol           & yes              & 2008             & S 500           \\\\\n",
       "\t Mercedes-Benz    & 13500            & sedan            & 317              &  5.00            & Petrol           & yes              & 2001             & S 500           \\\\\n",
       "\t BMW              & 27000            & sedan            & 137              &  5.00            & Other            & yes              & 2005             & M5              \\\\\n",
       "\t BMW              & 28000            & other            & 100              &  5.00            & Petrol           & yes              & 2005             & M5              \\\\\n",
       "\t Mercedes-Benz    & 23900            & sedan            & 187              &  5.50            & Petrol           & yes              & 2007             & S 550           \\\\\n",
       "\t Mercedes-Benz    & 25000            & sedan            & 130              &  5.50            & Petrol           & yes              & 2007             & S 550           \\\\\n",
       "\t Mercedes-Benz    &  5500            & sedan            & 100              & 99.99            & Petrol           & yes              & 2007             & S 550           \\\\\n",
       "\t Mercedes-Benz    & 14500            & sedan            & 220              &  5.00            & Petrol           & yes              & 2004             & S 500           \\\\\n",
       "\t Mercedes-Benz    & 29900            & other            &  71              &  5.50            & Petrol           & yes              & 2007             & CL 500          \\\\\n",
       "\t Toyota           & 38300            & crossover        & 130              &  5.70            & Gas              & yes              & 2009             & Land Cruiser 200\\\\\n",
       "\t Mercedes-Benz    & 40996            & crossover        &   0              &  5.50            & Petrol           & yes              & 2016             & GLS 63          \\\\\n",
       "\t Mercedes-Benz    & 44000            & other            &  82              &  5.50            & Petrol           & yes              & 2010             & S 500           \\\\\n",
       "\t Mercedes-Benz    & 24900            & sedan            & 140              &  5.50            & Petrol           & yes              & 2009             & S 550           \\\\\n",
       "\t Audi             & 12000            & sedan            & 200              &  6.00            & Petrol           & yes              & 2004             & A8              \\\\\n",
       "\t Mercedes-Benz    & 40996            & crossover        &   2              &  5.50            & Petrol           & yes              & 2016             & GLS 63          \\\\\n",
       "\t Mercedes-Benz    &  9500            & sedan            & 246              &  6.00            & Petrol           & yes              & 1997             & S 600           \\\\\n",
       "\t Audi             &  1950            & sedan            & 320              & 19.00            & Other            & no               & 1996             & A4              \\\\\n",
       "\t Mercedes-Benz    & 26800            & sedan            & 162              &  5.50            & Petrol           & yes              & 2007             & S 500           \\\\\n",
       "\t Mercedes-Benz    & 40996            & crossover        &   0              &  5.50            & Petrol           & yes              & 2016             & GLS 63          \\\\\n",
       "\t Mercedes-Benz    &  8700            & sedan            & 210              &  5.00            & Petrol           & yes              & 1997             & S 500           \\\\\n",
       "\t Volkswagen       & 10500            & sedan            & 210              &  5.00            & Diesel           & yes              & 2004             & Phaeton         \\\\\n",
       "\t Renault          &  4800            & van              & 113              & 15.00            & Diesel           & yes              & 2006             & Kangoo          \\\\\n",
       "\t Mercedes-Benz    & 40996            & other            &  75              &  6.30            & Petrol           & yes              & 2009             & CL 63 AMG       \\\\\n",
       "\t Mercedes-Benz    & 40996            & sedan            &  74              &  6.30            & Petrol           & yes              & 2010             & S 63 AMG        \\\\\n",
       "\t Mercedes-Benz    & 40500            & sedan            & 108              &  5.50            & Petrol           & yes              & 2010             & S 500           \\\\\n",
       "\t Mercedes-Benz    & 21500            & crossover        & 148              &  6.20            & Petrol           & yes              & 2008             & ML 63 AMG       \\\\\n",
       "\t Mercedes-Benz    & 12300            & sedan            & 423              &  5.00            & Gas              & yes              & 1997             & S 500           \\\\\n",
       "\t ... & ... & ... & ... & ... & ... & ... & ... & ...\\\\\n",
       "\t Audi          & 40996         & sedan         &  44           &  6.3          & Petrol        & yes           & 2012          & A8           \\\\\n",
       "\t BMW           & 34600         & crossover     & 163           &  5.0          & Petrol        & yes           & 2011          & X5 M         \\\\\n",
       "\t Mercedes-Benz & 20500         & sedan         & 222           &  5.5          & Petrol        & yes           & 2006          & S 500        \\\\\n",
       "\t Mercedes-Benz &  8400         & other         & 400           &  5.0          & Gas           & yes           & 1996          & S 140        \\\\\n",
       "\t BMW           & 40996         & vagon         &  56           &  5.0          & Petrol        & yes           & 2007          & M5           \\\\\n",
       "\t Mercedes-Benz & 44000         & other         &  39           &  5.5          & Petrol        & yes           & 2009          & SL 55 AMG    \\\\\n",
       "\t Mercedes-Benz & 40996         & sedan         & 115           &  5.5          & Petrol        & yes           & 2011          & S 500        \\\\\n",
       "\t BMW           & 26900         & sedan         & 158           &  5.0          & Petrol        & yes           & 2007          & M5           \\\\\n",
       "\t Mercedes-Benz &  7650         & sedan         & 340           &  5.0          & Gas           & yes           & 1997          & S 140        \\\\\n",
       "\t Mercedes-Benz & 41900         & sedan         &  95           &  6.3          & Other         & yes           & 2011          & S 550        \\\\\n",
       "\t Mercedes-Benz & 24500         & sedan         & 222           &  5.5          & Petrol        & yes           & 2005          & S 550        \\\\\n",
       "\t Toyota        & 37700         & crossover     &  47           &  5.7          & Gas           & yes           & 2009          & Sequoia      \\\\\n",
       "\t Mercedes-Benz & 40996         & crossover     &  30           &  6.3          & Petrol        & yes           & 2013          & G 63 AMG     \\\\\n",
       "\t Mercedes-Benz & 15900         & sedan         & 216           &  5.0          & Petrol        & yes           & 2007          & E-Class      \\\\\n",
       "\t Mercedes-Benz & 40996         & crossover     & 127           &  5.5          & Petrol        & yes           & 2008          & G 55 AMG     \\\\\n",
       "\t Mercedes-Benz & 40996         & sedan         &  29           &  6.0          & Petrol        & yes           & 2011          & S 600        \\\\\n",
       "\t Mercedes-Benz & 35900         & crossover     & 254           &  5.0          & Gas           & yes           & 2004          & G 500        \\\\\n",
       "\t Mercedes-Benz & 40996         & crossover     & 127           &  5.0          & Petrol        & yes           & 2008          & G 500        \\\\\n",
       "\t Mercedes-Benz & 35500         & sedan         & 160           &  6.5          & Petrol        & yes           & 2008          & S 65 AMG     \\\\\n",
       "\t Renault       &  2950         & vagon         & 280           & 19.0          & Diesel        & yes           & 2000          & Kangoo       \\\\\n",
       "\t Audi          & 40996         & other         &  30           &  5.2          & Petrol        & yes           & 2010          & R8           \\\\\n",
       "\t Mercedes-Benz & 40500         & crossover     &  54           &  5.5          & Petrol        & yes           & 2011          & GL 500       \\\\\n",
       "\t Mercedes-Benz & 40996         & sedan         &  36           &  5.5          & Petrol        & yes           & 2014          & CLS 63 AMG   \\\\\n",
       "\t Mercedes-Benz & 23500         & sedan         & 200           &  5.5          & Petrol        & yes           & 2008          & S 550        \\\\\n",
       "\t Mercedes-Benz & 40996         & crossover     & 120           &  5.5          & Petrol        & yes           & 2008          & G 55 AMG     \\\\\n",
       "\t Mercedes-Benz & 27500         & crossover     & 152           &  6.3          & Petrol        & yes           & 2007          & ML 63 AMG    \\\\\n",
       "\t Mercedes-Benz & 29500         & crossover     & 253           &  5.0          & Petrol        & yes           & 2003          & G 500        \\\\\n",
       "\t Mercedes-Benz & 24500         & sedan         & 163           &  5.5          & Gas           & yes           & 2007          & S 550        \\\\\n",
       "\t Mercedes-Benz & 12000         & sedan         & 298           &  5.0          & Petrol        & yes           & 2004          & S 500        \\\\\n",
       "\t Mercedes-Benz & 40996         & other         &  37           &  5.0          & Petrol        & yes           & 2012          & G 500        \\\\\n",
       "\\end{tabular}\n"
      ],
      "text/markdown": [
       "\n",
       "| Brand | Price | Body | Mileage | EngineV | Engine.Type | Registration | Year | Model |\n",
       "|---|---|---|---|---|---|---|---|---|\n",
       "| Mercedes-Benz    | 13300            | sedan            | 358              |  5.00            | Gas              | yes              | 2003             | S 500            |\n",
       "| Mercedes-Benz    | 40996            | crossover        |   0              |  5.50            | Petrol           | yes              | 2016             | GLS 63           |\n",
       "| Mercedes-Benz    | 40996            | crossover        |  86              |  5.50            | Petrol           | yes              | 2009             | G 55 AMG         |\n",
       "| Mercedes-Benz    | 29500            | sedan            | 134              |  5.00            | Petrol           | yes              | 2008             | S 500            |\n",
       "| Mercedes-Benz    | 13500            | sedan            | 317              |  5.00            | Petrol           | yes              | 2001             | S 500            |\n",
       "| BMW              | 27000            | sedan            | 137              |  5.00            | Other            | yes              | 2005             | M5               |\n",
       "| BMW              | 28000            | other            | 100              |  5.00            | Petrol           | yes              | 2005             | M5               |\n",
       "| Mercedes-Benz    | 23900            | sedan            | 187              |  5.50            | Petrol           | yes              | 2007             | S 550            |\n",
       "| Mercedes-Benz    | 25000            | sedan            | 130              |  5.50            | Petrol           | yes              | 2007             | S 550            |\n",
       "| Mercedes-Benz    |  5500            | sedan            | 100              | 99.99            | Petrol           | yes              | 2007             | S 550            |\n",
       "| Mercedes-Benz    | 14500            | sedan            | 220              |  5.00            | Petrol           | yes              | 2004             | S 500            |\n",
       "| Mercedes-Benz    | 29900            | other            |  71              |  5.50            | Petrol           | yes              | 2007             | CL 500           |\n",
       "| Toyota           | 38300            | crossover        | 130              |  5.70            | Gas              | yes              | 2009             | Land Cruiser 200 |\n",
       "| Mercedes-Benz    | 40996            | crossover        |   0              |  5.50            | Petrol           | yes              | 2016             | GLS 63           |\n",
       "| Mercedes-Benz    | 44000            | other            |  82              |  5.50            | Petrol           | yes              | 2010             | S 500            |\n",
       "| Mercedes-Benz    | 24900            | sedan            | 140              |  5.50            | Petrol           | yes              | 2009             | S 550            |\n",
       "| Audi             | 12000            | sedan            | 200              |  6.00            | Petrol           | yes              | 2004             | A8               |\n",
       "| Mercedes-Benz    | 40996            | crossover        |   2              |  5.50            | Petrol           | yes              | 2016             | GLS 63           |\n",
       "| Mercedes-Benz    |  9500            | sedan            | 246              |  6.00            | Petrol           | yes              | 1997             | S 600            |\n",
       "| Audi             |  1950            | sedan            | 320              | 19.00            | Other            | no               | 1996             | A4               |\n",
       "| Mercedes-Benz    | 26800            | sedan            | 162              |  5.50            | Petrol           | yes              | 2007             | S 500            |\n",
       "| Mercedes-Benz    | 40996            | crossover        |   0              |  5.50            | Petrol           | yes              | 2016             | GLS 63           |\n",
       "| Mercedes-Benz    |  8700            | sedan            | 210              |  5.00            | Petrol           | yes              | 1997             | S 500            |\n",
       "| Volkswagen       | 10500            | sedan            | 210              |  5.00            | Diesel           | yes              | 2004             | Phaeton          |\n",
       "| Renault          |  4800            | van              | 113              | 15.00            | Diesel           | yes              | 2006             | Kangoo           |\n",
       "| Mercedes-Benz    | 40996            | other            |  75              |  6.30            | Petrol           | yes              | 2009             | CL 63 AMG        |\n",
       "| Mercedes-Benz    | 40996            | sedan            |  74              |  6.30            | Petrol           | yes              | 2010             | S 63 AMG         |\n",
       "| Mercedes-Benz    | 40500            | sedan            | 108              |  5.50            | Petrol           | yes              | 2010             | S 500            |\n",
       "| Mercedes-Benz    | 21500            | crossover        | 148              |  6.20            | Petrol           | yes              | 2008             | ML 63 AMG        |\n",
       "| Mercedes-Benz    | 12300            | sedan            | 423              |  5.00            | Gas              | yes              | 1997             | S 500            |\n",
       "| ... | ... | ... | ... | ... | ... | ... | ... | ... |\n",
       "| Audi          | 40996         | sedan         |  44           |  6.3          | Petrol        | yes           | 2012          | A8            |\n",
       "| BMW           | 34600         | crossover     | 163           |  5.0          | Petrol        | yes           | 2011          | X5 M          |\n",
       "| Mercedes-Benz | 20500         | sedan         | 222           |  5.5          | Petrol        | yes           | 2006          | S 500         |\n",
       "| Mercedes-Benz |  8400         | other         | 400           |  5.0          | Gas           | yes           | 1996          | S 140         |\n",
       "| BMW           | 40996         | vagon         |  56           |  5.0          | Petrol        | yes           | 2007          | M5            |\n",
       "| Mercedes-Benz | 44000         | other         |  39           |  5.5          | Petrol        | yes           | 2009          | SL 55 AMG     |\n",
       "| Mercedes-Benz | 40996         | sedan         | 115           |  5.5          | Petrol        | yes           | 2011          | S 500         |\n",
       "| BMW           | 26900         | sedan         | 158           |  5.0          | Petrol        | yes           | 2007          | M5            |\n",
       "| Mercedes-Benz |  7650         | sedan         | 340           |  5.0          | Gas           | yes           | 1997          | S 140         |\n",
       "| Mercedes-Benz | 41900         | sedan         |  95           |  6.3          | Other         | yes           | 2011          | S 550         |\n",
       "| Mercedes-Benz | 24500         | sedan         | 222           |  5.5          | Petrol        | yes           | 2005          | S 550         |\n",
       "| Toyota        | 37700         | crossover     |  47           |  5.7          | Gas           | yes           | 2009          | Sequoia       |\n",
       "| Mercedes-Benz | 40996         | crossover     |  30           |  6.3          | Petrol        | yes           | 2013          | G 63 AMG      |\n",
       "| Mercedes-Benz | 15900         | sedan         | 216           |  5.0          | Petrol        | yes           | 2007          | E-Class       |\n",
       "| Mercedes-Benz | 40996         | crossover     | 127           |  5.5          | Petrol        | yes           | 2008          | G 55 AMG      |\n",
       "| Mercedes-Benz | 40996         | sedan         |  29           |  6.0          | Petrol        | yes           | 2011          | S 600         |\n",
       "| Mercedes-Benz | 35900         | crossover     | 254           |  5.0          | Gas           | yes           | 2004          | G 500         |\n",
       "| Mercedes-Benz | 40996         | crossover     | 127           |  5.0          | Petrol        | yes           | 2008          | G 500         |\n",
       "| Mercedes-Benz | 35500         | sedan         | 160           |  6.5          | Petrol        | yes           | 2008          | S 65 AMG      |\n",
       "| Renault       |  2950         | vagon         | 280           | 19.0          | Diesel        | yes           | 2000          | Kangoo        |\n",
       "| Audi          | 40996         | other         |  30           |  5.2          | Petrol        | yes           | 2010          | R8            |\n",
       "| Mercedes-Benz | 40500         | crossover     |  54           |  5.5          | Petrol        | yes           | 2011          | GL 500        |\n",
       "| Mercedes-Benz | 40996         | sedan         |  36           |  5.5          | Petrol        | yes           | 2014          | CLS 63 AMG    |\n",
       "| Mercedes-Benz | 23500         | sedan         | 200           |  5.5          | Petrol        | yes           | 2008          | S 550         |\n",
       "| Mercedes-Benz | 40996         | crossover     | 120           |  5.5          | Petrol        | yes           | 2008          | G 55 AMG      |\n",
       "| Mercedes-Benz | 27500         | crossover     | 152           |  6.3          | Petrol        | yes           | 2007          | ML 63 AMG     |\n",
       "| Mercedes-Benz | 29500         | crossover     | 253           |  5.0          | Petrol        | yes           | 2003          | G 500         |\n",
       "| Mercedes-Benz | 24500         | sedan         | 163           |  5.5          | Gas           | yes           | 2007          | S 550         |\n",
       "| Mercedes-Benz | 12000         | sedan         | 298           |  5.0          | Petrol        | yes           | 2004          | S 500         |\n",
       "| Mercedes-Benz | 40996         | other         |  37           |  5.0          | Petrol        | yes           | 2012          | G 500         |\n",
       "\n"
      ],
      "text/plain": [
       "    Brand         Price Body      Mileage EngineV Engine.Type Registration Year\n",
       "1   Mercedes-Benz 13300 sedan     358      5.00   Gas         yes          2003\n",
       "2   Mercedes-Benz 40996 crossover   0      5.50   Petrol      yes          2016\n",
       "3   Mercedes-Benz 40996 crossover  86      5.50   Petrol      yes          2009\n",
       "4   Mercedes-Benz 29500 sedan     134      5.00   Petrol      yes          2008\n",
       "5   Mercedes-Benz 13500 sedan     317      5.00   Petrol      yes          2001\n",
       "6   BMW           27000 sedan     137      5.00   Other       yes          2005\n",
       "7   BMW           28000 other     100      5.00   Petrol      yes          2005\n",
       "8   Mercedes-Benz 23900 sedan     187      5.50   Petrol      yes          2007\n",
       "9   Mercedes-Benz 25000 sedan     130      5.50   Petrol      yes          2007\n",
       "10  Mercedes-Benz  5500 sedan     100     99.99   Petrol      yes          2007\n",
       "11  Mercedes-Benz 14500 sedan     220      5.00   Petrol      yes          2004\n",
       "12  Mercedes-Benz 29900 other      71      5.50   Petrol      yes          2007\n",
       "13  Toyota        38300 crossover 130      5.70   Gas         yes          2009\n",
       "14  Mercedes-Benz 40996 crossover   0      5.50   Petrol      yes          2016\n",
       "15  Mercedes-Benz 44000 other      82      5.50   Petrol      yes          2010\n",
       "16  Mercedes-Benz 24900 sedan     140      5.50   Petrol      yes          2009\n",
       "17  Audi          12000 sedan     200      6.00   Petrol      yes          2004\n",
       "18  Mercedes-Benz 40996 crossover   2      5.50   Petrol      yes          2016\n",
       "19  Mercedes-Benz  9500 sedan     246      6.00   Petrol      yes          1997\n",
       "20  Audi           1950 sedan     320     19.00   Other       no           1996\n",
       "21  Mercedes-Benz 26800 sedan     162      5.50   Petrol      yes          2007\n",
       "22  Mercedes-Benz 40996 crossover   0      5.50   Petrol      yes          2016\n",
       "23  Mercedes-Benz  8700 sedan     210      5.00   Petrol      yes          1997\n",
       "24  Volkswagen    10500 sedan     210      5.00   Diesel      yes          2004\n",
       "25  Renault        4800 van       113     15.00   Diesel      yes          2006\n",
       "26  Mercedes-Benz 40996 other      75      6.30   Petrol      yes          2009\n",
       "27  Mercedes-Benz 40996 sedan      74      6.30   Petrol      yes          2010\n",
       "28  Mercedes-Benz 40500 sedan     108      5.50   Petrol      yes          2010\n",
       "29  Mercedes-Benz 21500 crossover 148      6.20   Petrol      yes          2008\n",
       "30  Mercedes-Benz 12300 sedan     423      5.00   Gas         yes          1997\n",
       "... ...           ...   ...       ...     ...     ...         ...          ... \n",
       "144 Audi          40996 sedan      44      6.3    Petrol      yes          2012\n",
       "145 BMW           34600 crossover 163      5.0    Petrol      yes          2011\n",
       "146 Mercedes-Benz 20500 sedan     222      5.5    Petrol      yes          2006\n",
       "147 Mercedes-Benz  8400 other     400      5.0    Gas         yes          1996\n",
       "148 BMW           40996 vagon      56      5.0    Petrol      yes          2007\n",
       "149 Mercedes-Benz 44000 other      39      5.5    Petrol      yes          2009\n",
       "150 Mercedes-Benz 40996 sedan     115      5.5    Petrol      yes          2011\n",
       "151 BMW           26900 sedan     158      5.0    Petrol      yes          2007\n",
       "152 Mercedes-Benz  7650 sedan     340      5.0    Gas         yes          1997\n",
       "153 Mercedes-Benz 41900 sedan      95      6.3    Other       yes          2011\n",
       "154 Mercedes-Benz 24500 sedan     222      5.5    Petrol      yes          2005\n",
       "155 Toyota        37700 crossover  47      5.7    Gas         yes          2009\n",
       "156 Mercedes-Benz 40996 crossover  30      6.3    Petrol      yes          2013\n",
       "157 Mercedes-Benz 15900 sedan     216      5.0    Petrol      yes          2007\n",
       "158 Mercedes-Benz 40996 crossover 127      5.5    Petrol      yes          2008\n",
       "159 Mercedes-Benz 40996 sedan      29      6.0    Petrol      yes          2011\n",
       "160 Mercedes-Benz 35900 crossover 254      5.0    Gas         yes          2004\n",
       "161 Mercedes-Benz 40996 crossover 127      5.0    Petrol      yes          2008\n",
       "162 Mercedes-Benz 35500 sedan     160      6.5    Petrol      yes          2008\n",
       "163 Renault        2950 vagon     280     19.0    Diesel      yes          2000\n",
       "164 Audi          40996 other      30      5.2    Petrol      yes          2010\n",
       "165 Mercedes-Benz 40500 crossover  54      5.5    Petrol      yes          2011\n",
       "166 Mercedes-Benz 40996 sedan      36      5.5    Petrol      yes          2014\n",
       "167 Mercedes-Benz 23500 sedan     200      5.5    Petrol      yes          2008\n",
       "168 Mercedes-Benz 40996 crossover 120      5.5    Petrol      yes          2008\n",
       "169 Mercedes-Benz 27500 crossover 152      6.3    Petrol      yes          2007\n",
       "170 Mercedes-Benz 29500 crossover 253      5.0    Petrol      yes          2003\n",
       "171 Mercedes-Benz 24500 sedan     163      5.5    Gas         yes          2007\n",
       "172 Mercedes-Benz 12000 sedan     298      5.0    Petrol      yes          2004\n",
       "173 Mercedes-Benz 40996 other      37      5.0    Petrol      yes          2012\n",
       "    Model           \n",
       "1   S 500           \n",
       "2   GLS 63          \n",
       "3   G 55 AMG        \n",
       "4   S 500           \n",
       "5   S 500           \n",
       "6   M5              \n",
       "7   M5              \n",
       "8   S 550           \n",
       "9   S 550           \n",
       "10  S 550           \n",
       "11  S 500           \n",
       "12  CL 500          \n",
       "13  Land Cruiser 200\n",
       "14  GLS 63          \n",
       "15  S 500           \n",
       "16  S 550           \n",
       "17  A8              \n",
       "18  GLS 63          \n",
       "19  S 600           \n",
       "20  A4              \n",
       "21  S 500           \n",
       "22  GLS 63          \n",
       "23  S 500           \n",
       "24  Phaeton         \n",
       "25  Kangoo          \n",
       "26  CL 63 AMG       \n",
       "27  S 63 AMG        \n",
       "28  S 500           \n",
       "29  ML 63 AMG       \n",
       "30  S 500           \n",
       "... ...             \n",
       "144 A8              \n",
       "145 X5 M            \n",
       "146 S 500           \n",
       "147 S 140           \n",
       "148 M5              \n",
       "149 SL 55 AMG       \n",
       "150 S 500           \n",
       "151 M5              \n",
       "152 S 140           \n",
       "153 S 550           \n",
       "154 S 550           \n",
       "155 Sequoia         \n",
       "156 G 63 AMG        \n",
       "157 E-Class         \n",
       "158 G 55 AMG        \n",
       "159 S 600           \n",
       "160 G 500           \n",
       "161 G 500           \n",
       "162 S 65 AMG        \n",
       "163 Kangoo          \n",
       "164 R8              \n",
       "165 GL 500          \n",
       "166 CLS 63 AMG      \n",
       "167 S 550           \n",
       "168 G 55 AMG        \n",
       "169 ML 63 AMG       \n",
       "170 G 500           \n",
       "171 S 550           \n",
       "172 S 500           \n",
       "173 G 500           "
      ]
     },
     "metadata": {},
     "output_type": "display_data"
    }
   ],
   "source": [
    "## FILTERING DATA WHERE ENGINEV ABOVE THE MAXIMUM ENGINEV\n",
    "filter(data,EngineV>max_enginev)"
   ]
  },
  {
   "cell_type": "code",
   "execution_count": 43,
   "metadata": {
    "scrolled": true
   },
   "outputs": [
    {
     "data": {
      "text/html": [
       "<dl class=dl-horizontal>\n",
       "\t<dt>75%</dt>\n",
       "\t\t<dd>3</dd>\n",
       "\t<dt>76%</dt>\n",
       "\t\t<dd>3</dd>\n",
       "\t<dt>77%</dt>\n",
       "\t\t<dd>3</dd>\n",
       "\t<dt>78%</dt>\n",
       "\t\t<dd>3</dd>\n",
       "\t<dt>79%</dt>\n",
       "\t\t<dd>3</dd>\n",
       "\t<dt>80%</dt>\n",
       "\t\t<dd>3</dd>\n",
       "\t<dt>81%</dt>\n",
       "\t\t<dd>3</dd>\n",
       "\t<dt>82%</dt>\n",
       "\t\t<dd>3</dd>\n",
       "\t<dt>83%</dt>\n",
       "\t\t<dd>3</dd>\n",
       "\t<dt>84%</dt>\n",
       "\t\t<dd>3.03199999999997</dd>\n",
       "\t<dt>85%</dt>\n",
       "\t\t<dd>3.2</dd>\n",
       "\t<dt>86%</dt>\n",
       "\t\t<dd>3.2</dd>\n",
       "\t<dt>87%</dt>\n",
       "\t\t<dd>3.5</dd>\n",
       "\t<dt>88%</dt>\n",
       "\t\t<dd>3.5</dd>\n",
       "\t<dt>89%</dt>\n",
       "\t\t<dd>3.8</dd>\n",
       "\t<dt>90%</dt>\n",
       "\t\t<dd>4</dd>\n",
       "\t<dt>91%</dt>\n",
       "\t\t<dd>4.2</dd>\n",
       "\t<dt>92%</dt>\n",
       "\t\t<dd>4.3</dd>\n",
       "\t<dt>93%</dt>\n",
       "\t\t<dd>4.4</dd>\n",
       "\t<dt>94%</dt>\n",
       "\t\t<dd>4.5</dd>\n",
       "\t<dt>95%</dt>\n",
       "\t\t<dd>4.7</dd>\n",
       "\t<dt>96%</dt>\n",
       "\t\t<dd>5</dd>\n",
       "\t<dt>97%</dt>\n",
       "\t\t<dd>5.2</dd>\n",
       "\t<dt>98%</dt>\n",
       "\t\t<dd>5.5</dd>\n",
       "\t<dt>99%</dt>\n",
       "\t\t<dd>6.15199999999995</dd>\n",
       "</dl>\n"
      ],
      "text/latex": [
       "\\begin{description*}\n",
       "\\item[75\\textbackslash{}\\%] 3\n",
       "\\item[76\\textbackslash{}\\%] 3\n",
       "\\item[77\\textbackslash{}\\%] 3\n",
       "\\item[78\\textbackslash{}\\%] 3\n",
       "\\item[79\\textbackslash{}\\%] 3\n",
       "\\item[80\\textbackslash{}\\%] 3\n",
       "\\item[81\\textbackslash{}\\%] 3\n",
       "\\item[82\\textbackslash{}\\%] 3\n",
       "\\item[83\\textbackslash{}\\%] 3\n",
       "\\item[84\\textbackslash{}\\%] 3.03199999999997\n",
       "\\item[85\\textbackslash{}\\%] 3.2\n",
       "\\item[86\\textbackslash{}\\%] 3.2\n",
       "\\item[87\\textbackslash{}\\%] 3.5\n",
       "\\item[88\\textbackslash{}\\%] 3.5\n",
       "\\item[89\\textbackslash{}\\%] 3.8\n",
       "\\item[90\\textbackslash{}\\%] 4\n",
       "\\item[91\\textbackslash{}\\%] 4.2\n",
       "\\item[92\\textbackslash{}\\%] 4.3\n",
       "\\item[93\\textbackslash{}\\%] 4.4\n",
       "\\item[94\\textbackslash{}\\%] 4.5\n",
       "\\item[95\\textbackslash{}\\%] 4.7\n",
       "\\item[96\\textbackslash{}\\%] 5\n",
       "\\item[97\\textbackslash{}\\%] 5.2\n",
       "\\item[98\\textbackslash{}\\%] 5.5\n",
       "\\item[99\\textbackslash{}\\%] 6.15199999999995\n",
       "\\end{description*}\n"
      ],
      "text/markdown": [
       "75%\n",
       ":   376%\n",
       ":   377%\n",
       ":   378%\n",
       ":   379%\n",
       ":   380%\n",
       ":   381%\n",
       ":   382%\n",
       ":   383%\n",
       ":   384%\n",
       ":   3.0319999999999785%\n",
       ":   3.286%\n",
       ":   3.287%\n",
       ":   3.588%\n",
       ":   3.589%\n",
       ":   3.890%\n",
       ":   491%\n",
       ":   4.292%\n",
       ":   4.393%\n",
       ":   4.494%\n",
       ":   4.595%\n",
       ":   4.796%\n",
       ":   597%\n",
       ":   5.298%\n",
       ":   5.599%\n",
       ":   6.15199999999995\n",
       "\n"
      ],
      "text/plain": [
       "  75%   76%   77%   78%   79%   80%   81%   82%   83%   84%   85%   86%   87% \n",
       "3.000 3.000 3.000 3.000 3.000 3.000 3.000 3.000 3.000 3.032 3.200 3.200 3.500 \n",
       "  88%   89%   90%   91%   92%   93%   94%   95%   96%   97%   98%   99% \n",
       "3.500 3.800 4.000 4.200 4.300 4.400 4.500 4.700 5.000 5.200 5.500 6.152 "
      ]
     },
     "metadata": {},
     "output_type": "display_data"
    }
   ],
   "source": [
    "## USING QUANTILE FUNCTION CALLING QUANTILES FROM 75TH TO 99TH \n",
    "quantile(data$EngineV,probs=quantile_range)"
   ]
  },
  {
   "cell_type": "code",
   "execution_count": 44,
   "metadata": {},
   "outputs": [],
   "source": [
    "## USING FOR LOOPS CHANGING VALUES\n",
    "fill_value = quantile(data$EngineV,probs=0.95)\n",
    "for (i in 1:4025)\n",
    "{\n",
    "    if (data$EngineV[i]>max_enginev)\n",
    "    {\n",
    "        data$EngineV[i]=fill_value\n",
    "    }\n",
    "}"
   ]
  },
  {
   "cell_type": "code",
   "execution_count": 45,
   "metadata": {},
   "outputs": [
    {
     "data": {
      "image/png": "[encoded data removed]",
      "text/plain": [
       "plot without title"
      ]
     },
     "metadata": {},
     "output_type": "display_data"
    }
   ],
   "source": [
    "## CHECKING FOR OUTLIERS WITH BOXPLOT\n",
    "ggplot(data=data,aes(y=EngineV))+ geom_boxplot(fill='cadetblue4')"
   ]
  },
  {
   "cell_type": "markdown",
   "metadata": {},
   "source": [
    "### YEAR"
   ]
  },
  {
   "cell_type": "code",
   "execution_count": 46,
   "metadata": {},
   "outputs": [
    {
     "data": {
      "image/png": "[encoded data removed]",
      "text/plain": [
       "plot without title"
      ]
     },
     "metadata": {},
     "output_type": "display_data"
    }
   ],
   "source": [
    "## CHECKING FOR OUTLIERS WITH BOXPLOT\n",
    "ggplot(data=data,aes(y=Year))+ geom_boxplot(fill='aquamarine4')"
   ]
  },
  {
   "cell_type": "code",
   "execution_count": 47,
   "metadata": {},
   "outputs": [],
   "source": [
    "## FINDING INTER QUARTILE RANGE TO CALCULATE MAXIMUM VALUE OF DISTRIBUTION USING \"IQR\" FUNCTION\n",
    "iqr_year= IQR(data$Year)"
   ]
  },
  {
   "cell_type": "code",
   "execution_count": 48,
   "metadata": {},
   "outputs": [],
   "source": [
    "## MIN VALUE OF Year IS CALCULATED USING FORMULA \"Q3 - (1.5*IQR)\"\n",
    "min_year = quantile(data$Year,probs=0.25)- (1.5*iqr_year)"
   ]
  },
  {
   "cell_type": "code",
   "execution_count": 49,
   "metadata": {},
   "outputs": [
    {
     "data": {
      "text/html": [
       "<strong>25%:</strong> 1989.5"
      ],
      "text/latex": [
       "\\textbf{25\\textbackslash{}\\%:} 1989.5"
      ],
      "text/markdown": [
       "**25%:** 1989.5"
      ],
      "text/plain": [
       "   25% \n",
       "1989.5 "
      ]
     },
     "metadata": {},
     "output_type": "display_data"
    }
   ],
   "source": [
    "min_year"
   ]
  },
  {
   "cell_type": "code",
   "execution_count": 50,
   "metadata": {},
   "outputs": [],
   "source": [
    "## ROUNDING THE YEAR\n",
    "min_year = min_year+0.5"
   ]
  },
  {
   "cell_type": "code",
   "execution_count": 51,
   "metadata": {},
   "outputs": [
    {
     "data": {
      "text/html": [
       "<strong>25%:</strong> 1990"
      ],
      "text/latex": [
       "\\textbf{25\\textbackslash{}\\%:} 1990"
      ],
      "text/markdown": [
       "**25%:** 1990"
      ],
      "text/plain": [
       " 25% \n",
       "1990 "
      ]
     },
     "metadata": {},
     "output_type": "display_data"
    }
   ],
   "source": [
    "min_year"
   ]
  },
  {
   "cell_type": "code",
   "execution_count": 52,
   "metadata": {
    "scrolled": true
   },
   "outputs": [
    {
     "data": {
      "text/html": [
       "<table>\n",
       "<thead><tr><th scope=col>Brand</th><th scope=col>Price</th><th scope=col>Body</th><th scope=col>Mileage</th><th scope=col>EngineV</th><th scope=col>Engine.Type</th><th scope=col>Registration</th><th scope=col>Year</th><th scope=col>Model</th></tr></thead>\n",
       "<tbody>\n",
       "\t<tr><td>Audi         </td><td> 2900        </td><td>sedan        </td><td>  1          </td><td>2.3          </td><td>Gas          </td><td>yes          </td><td>1989         </td><td>100          </td></tr>\n",
       "\t<tr><td>Mitsubishi   </td><td> 2500        </td><td>sedan        </td><td>220          </td><td>2.4          </td><td>Petrol       </td><td>yes          </td><td>1987         </td><td>Galant       </td></tr>\n",
       "\t<tr><td>BMW          </td><td> 4099        </td><td>sedan        </td><td> 50          </td><td>2.5          </td><td>Petrol       </td><td>yes          </td><td>1988         </td><td>520          </td></tr>\n",
       "\t<tr><td>Audi         </td><td>  600        </td><td>sedan        </td><td>112          </td><td>1.6          </td><td>Petrol       </td><td>yes          </td><td>1980         </td><td>80           </td></tr>\n",
       "\t<tr><td>Volkswagen   </td><td> 1800        </td><td>other        </td><td>300          </td><td>1.3          </td><td>Petrol       </td><td>yes          </td><td>1989         </td><td>Golf II      </td></tr>\n",
       "\t<tr><td>Toyota       </td><td>  600        </td><td>sedan        </td><td> 10          </td><td>1.5          </td><td>Petrol       </td><td>yes          </td><td>1979         </td><td>Corolla      </td></tr>\n",
       "\t<tr><td>Audi         </td><td> 3500        </td><td>sedan        </td><td>265          </td><td>2.0          </td><td>Diesel       </td><td>yes          </td><td>1986         </td><td>100          </td></tr>\n",
       "\t<tr><td>Audi         </td><td> 3500        </td><td>sedan        </td><td>  1          </td><td>2.0          </td><td>Other        </td><td>yes          </td><td>1988         </td><td>90           </td></tr>\n",
       "\t<tr><td>Mercedes-Benz</td><td> 2650        </td><td>sedan        </td><td>400          </td><td>2.0          </td><td>Gas          </td><td>yes          </td><td>1985         </td><td>190          </td></tr>\n",
       "\t<tr><td>Mercedes-Benz</td><td> 2700        </td><td>sedan        </td><td>121          </td><td>2.5          </td><td>Diesel       </td><td>yes          </td><td>1986         </td><td>E-Class      </td></tr>\n",
       "\t<tr><td>Volkswagen   </td><td> 2300        </td><td>hatch        </td><td>320          </td><td>1.6          </td><td>Gas          </td><td>yes          </td><td>1989         </td><td>Golf II      </td></tr>\n",
       "\t<tr><td>Mitsubishi   </td><td> 5500        </td><td>crossover    </td><td>  1          </td><td>2.0          </td><td>Petrol       </td><td>yes          </td><td>1986         </td><td>Pajero       </td></tr>\n",
       "\t<tr><td>Volkswagen   </td><td> 1900        </td><td>hatch        </td><td>100          </td><td>1.6          </td><td>Petrol       </td><td>yes          </td><td>1989         </td><td>Golf II      </td></tr>\n",
       "\t<tr><td>Mercedes-Benz</td><td>34999        </td><td>sedan        </td><td>150          </td><td>2.8          </td><td>Petrol       </td><td>yes          </td><td>1969         </td><td>S 280        </td></tr>\n",
       "\t<tr><td>Volkswagen   </td><td> 2650        </td><td>hatch        </td><td>280          </td><td>1.8          </td><td>Petrol       </td><td>yes          </td><td>1987         </td><td>Golf II      </td></tr>\n",
       "\t<tr><td>Mercedes-Benz</td><td> 1850        </td><td>sedan        </td><td>281          </td><td>2.0          </td><td>Diesel       </td><td>yes          </td><td>1985         </td><td>190          </td></tr>\n",
       "\t<tr><td>Mercedes-Benz</td><td> 2700        </td><td>sedan        </td><td>350          </td><td>3.0          </td><td>Diesel       </td><td>yes          </td><td>1988         </td><td>300          </td></tr>\n",
       "\t<tr><td>Volkswagen   </td><td> 2500        </td><td>sedan        </td><td>324          </td><td>1.6          </td><td>Diesel       </td><td>yes          </td><td>1984         </td><td>Jetta        </td></tr>\n",
       "\t<tr><td>Mercedes-Benz</td><td> 2300        </td><td>sedan        </td><td>261          </td><td>2.3          </td><td>Gas          </td><td>yes          </td><td>1978         </td><td>E-Class      </td></tr>\n",
       "\t<tr><td>Volkswagen   </td><td> 1550        </td><td>hatch        </td><td>130          </td><td>1.3          </td><td>Petrol       </td><td>yes          </td><td>1986         </td><td>Golf II      </td></tr>\n",
       "\t<tr><td>BMW          </td><td> 2899        </td><td>sedan        </td><td>340          </td><td>2.4          </td><td>Diesel       </td><td>yes          </td><td>1988         </td><td>524          </td></tr>\n",
       "\t<tr><td>Volkswagen   </td><td> 1450        </td><td>other        </td><td>200          </td><td>1.8          </td><td>Gas          </td><td>yes          </td><td>1987         </td><td>Jetta        </td></tr>\n",
       "\t<tr><td>Volkswagen   </td><td> 3100        </td><td>hatch        </td><td>311          </td><td>1.6          </td><td>Gas          </td><td>yes          </td><td>1986         </td><td>Golf II      </td></tr>\n",
       "\t<tr><td>Volkswagen   </td><td> 2200        </td><td>vagon        </td><td>150          </td><td>1.6          </td><td>Petrol       </td><td>yes          </td><td>1986         </td><td>Passat B2    </td></tr>\n",
       "\t<tr><td>Toyota       </td><td> 2800        </td><td>other        </td><td>421          </td><td>1.3          </td><td>Gas          </td><td>yes          </td><td>1988         </td><td>Corolla      </td></tr>\n",
       "\t<tr><td>BMW          </td><td> 2800        </td><td>sedan        </td><td>300          </td><td>1.8          </td><td>Other        </td><td>yes          </td><td>1987         </td><td>318          </td></tr>\n",
       "\t<tr><td>Mercedes-Benz</td><td> 2700        </td><td>sedan        </td><td>337          </td><td>2.3          </td><td>Gas          </td><td>yes          </td><td>1988         </td><td>230          </td></tr>\n",
       "\t<tr><td>Mercedes-Benz</td><td> 3900        </td><td>sedan        </td><td>111          </td><td>2.5          </td><td>Diesel       </td><td>yes          </td><td>1989         </td><td>E-Class      </td></tr>\n",
       "\t<tr><td>Toyota       </td><td> 2700        </td><td>sedan        </td><td>400          </td><td>1.6          </td><td>Gas          </td><td>yes          </td><td>1989         </td><td>Carina       </td></tr>\n",
       "\t<tr><td>Mercedes-Benz</td><td> 1350        </td><td>sedan        </td><td>360          </td><td>2.5          </td><td>Diesel       </td><td>no           </td><td>1989         </td><td>E-Class      </td></tr>\n",
       "\t<tr><td>...</td><td>...</td><td>...</td><td>...</td><td>...</td><td>...</td><td>...</td><td>...</td><td>...</td></tr>\n",
       "\t<tr><td>BMW             </td><td>4100.00         </td><td>sedan           </td><td>200             </td><td>2.7             </td><td>Petrol          </td><td>yes             </td><td>1988            </td><td>525             </td></tr>\n",
       "\t<tr><td>Mercedes-Benz   </td><td>3300.00         </td><td>sedan           </td><td>330             </td><td>2.0             </td><td>Gas             </td><td>yes             </td><td>1988            </td><td>190             </td></tr>\n",
       "\t<tr><td>Volkswagen      </td><td>1899.00         </td><td>hatch           </td><td>300             </td><td>1.6             </td><td>Gas             </td><td>yes             </td><td>1984            </td><td>Golf II         </td></tr>\n",
       "\t<tr><td>Mercedes-Benz   </td><td>2500.00         </td><td>vagon           </td><td>122             </td><td>2.3             </td><td>Petrol          </td><td>yes             </td><td>1987            </td><td>230             </td></tr>\n",
       "\t<tr><td>Mercedes-Benz   </td><td>2650.00         </td><td>sedan           </td><td> 30             </td><td>2.3             </td><td>Gas             </td><td>yes             </td><td>1985            </td><td>230             </td></tr>\n",
       "\t<tr><td>Volkswagen      </td><td>2200.00         </td><td>hatch           </td><td>260             </td><td>1.8             </td><td>Gas             </td><td>yes             </td><td>1987            </td><td>Golf II         </td></tr>\n",
       "\t<tr><td>Mitsubishi      </td><td>1599.00         </td><td>sedan           </td><td>156             </td><td>1.8             </td><td>Petrol          </td><td>yes             </td><td>1989            </td><td>Galant          </td></tr>\n",
       "\t<tr><td>Mercedes-Benz   </td><td>7777.00         </td><td>other           </td><td>230             </td><td>2.8             </td><td>Petrol          </td><td>yes             </td><td>1980            </td><td>E-Class         </td></tr>\n",
       "\t<tr><td>Audi            </td><td>1852.50         </td><td>sedan           </td><td>150             </td><td>1.8             </td><td>Petrol          </td><td>yes             </td><td>1985            </td><td>80              </td></tr>\n",
       "\t<tr><td>Audi            </td><td>3000.00         </td><td>sedan           </td><td>265             </td><td>1.8             </td><td>Petrol          </td><td>yes             </td><td>1988            </td><td>80              </td></tr>\n",
       "\t<tr><td>Audi            </td><td>2411.00         </td><td>sedan           </td><td>240             </td><td>1.6             </td><td>Other           </td><td>yes             </td><td>1987            </td><td>80              </td></tr>\n",
       "\t<tr><td>Volkswagen      </td><td>1500.00         </td><td>sedan           </td><td>265             </td><td>1.8             </td><td>Petrol          </td><td>yes             </td><td>1988            </td><td>Jetta           </td></tr>\n",
       "\t<tr><td>BMW             </td><td>2850.00         </td><td>sedan           </td><td>386             </td><td>4.7             </td><td>Gas             </td><td>yes             </td><td>1988            </td><td>750             </td></tr>\n",
       "\t<tr><td>Volkswagen      </td><td>2600.00         </td><td>van             </td><td> 10             </td><td>2.4             </td><td>Diesel          </td><td>yes             </td><td>1988            </td><td>LT              </td></tr>\n",
       "\t<tr><td>Mercedes-Benz   </td><td>3200.00         </td><td>sedan           </td><td>390             </td><td>2.3             </td><td>Gas             </td><td>yes             </td><td>1985            </td><td>E-Class         </td></tr>\n",
       "\t<tr><td>BMW             </td><td>5900.00         </td><td>sedan           </td><td> 10             </td><td>2.8             </td><td>Petrol          </td><td>yes             </td><td>1989            </td><td>328             </td></tr>\n",
       "\t<tr><td>Renault         </td><td>1185.60         </td><td>hatch           </td><td>160             </td><td>2.0             </td><td>Petrol          </td><td>yes             </td><td>1987            </td><td>25              </td></tr>\n",
       "\t<tr><td>BMW             </td><td>2200.00         </td><td>sedan           </td><td>400             </td><td>2.4             </td><td>Diesel          </td><td>yes             </td><td>1988            </td><td>324             </td></tr>\n",
       "\t<tr><td>Volkswagen      </td><td>1300.00         </td><td>other           </td><td> 10             </td><td>1.6             </td><td>Diesel          </td><td>yes             </td><td>1984            </td><td>T2 (Transporter)</td></tr>\n",
       "\t<tr><td>BMW             </td><td>5500.00         </td><td>sedan           </td><td>402             </td><td>2.0             </td><td>Petrol          </td><td>yes             </td><td>1988            </td><td>520             </td></tr>\n",
       "\t<tr><td>Volkswagen      </td><td>1950.00         </td><td>hatch           </td><td> 94             </td><td>1.1             </td><td>Petrol          </td><td>yes             </td><td>1982            </td><td>Golf II         </td></tr>\n",
       "\t<tr><td>BMW             </td><td>3900.00         </td><td>sedan           </td><td>380             </td><td>3.0             </td><td>Gas             </td><td>yes             </td><td>1989            </td><td>530             </td></tr>\n",
       "\t<tr><td>Toyota          </td><td>1100.00         </td><td>van             </td><td>140             </td><td>2.0             </td><td>Gas             </td><td>yes             </td><td>1985            </td><td>Lite Ace        </td></tr>\n",
       "\t<tr><td>BMW             </td><td>3950.00         </td><td>sedan           </td><td>300             </td><td>2.0             </td><td>Petrol          </td><td>yes             </td><td>1986            </td><td>320             </td></tr>\n",
       "\t<tr><td>Renault         </td><td>1800.00         </td><td>hatch           </td><td>  1             </td><td>1.4             </td><td>Gas             </td><td>yes             </td><td>1988            </td><td>11              </td></tr>\n",
       "\t<tr><td>Mercedes-Benz   </td><td>2500.00         </td><td>sedan           </td><td>200             </td><td>2.3             </td><td>Gas             </td><td>yes             </td><td>1986            </td><td>190             </td></tr>\n",
       "\t<tr><td>Volkswagen      </td><td>1296.75         </td><td>sedan           </td><td>  1             </td><td>1.6             </td><td>Petrol          </td><td>yes             </td><td>1980            </td><td>Jetta           </td></tr>\n",
       "\t<tr><td>Mercedes-Benz   </td><td>5500.00         </td><td>sedan           </td><td>440             </td><td>2.0             </td><td>Petrol          </td><td>yes             </td><td>1978            </td><td>E-Class         </td></tr>\n",
       "\t<tr><td>Volkswagen      </td><td>2200.00         </td><td>hatch           </td><td>400             </td><td>1.3             </td><td>Other           </td><td>yes             </td><td>1987            </td><td>Golf II         </td></tr>\n",
       "\t<tr><td>BMW             </td><td>8000.00         </td><td>sedan           </td><td>194             </td><td>2.0             </td><td>Petrol          </td><td>yes             </td><td>1985            </td><td>520             </td></tr>\n",
       "</tbody>\n",
       "</table>\n"
      ],
      "text/latex": [
       "\\begin{tabular}{r|lllllllll}\n",
       " Brand & Price & Body & Mileage & EngineV & Engine.Type & Registration & Year & Model\\\\\n",
       "\\hline\n",
       "\t Audi          &  2900         & sedan         &   1           & 2.3           & Gas           & yes           & 1989          & 100          \\\\\n",
       "\t Mitsubishi    &  2500         & sedan         & 220           & 2.4           & Petrol        & yes           & 1987          & Galant       \\\\\n",
       "\t BMW           &  4099         & sedan         &  50           & 2.5           & Petrol        & yes           & 1988          & 520          \\\\\n",
       "\t Audi          &   600         & sedan         & 112           & 1.6           & Petrol        & yes           & 1980          & 80           \\\\\n",
       "\t Volkswagen    &  1800         & other         & 300           & 1.3           & Petrol        & yes           & 1989          & Golf II      \\\\\n",
       "\t Toyota        &   600         & sedan         &  10           & 1.5           & Petrol        & yes           & 1979          & Corolla      \\\\\n",
       "\t Audi          &  3500         & sedan         & 265           & 2.0           & Diesel        & yes           & 1986          & 100          \\\\\n",
       "\t Audi          &  3500         & sedan         &   1           & 2.0           & Other         & yes           & 1988          & 90           \\\\\n",
       "\t Mercedes-Benz &  2650         & sedan         & 400           & 2.0           & Gas           & yes           & 1985          & 190          \\\\\n",
       "\t Mercedes-Benz &  2700         & sedan         & 121           & 2.5           & Diesel        & yes           & 1986          & E-Class      \\\\\n",
       "\t Volkswagen    &  2300         & hatch         & 320           & 1.6           & Gas           & yes           & 1989          & Golf II      \\\\\n",
       "\t Mitsubishi    &  5500         & crossover     &   1           & 2.0           & Petrol        & yes           & 1986          & Pajero       \\\\\n",
       "\t Volkswagen    &  1900         & hatch         & 100           & 1.6           & Petrol        & yes           & 1989          & Golf II      \\\\\n",
       "\t Mercedes-Benz & 34999         & sedan         & 150           & 2.8           & Petrol        & yes           & 1969          & S 280        \\\\\n",
       "\t Volkswagen    &  2650         & hatch         & 280           & 1.8           & Petrol        & yes           & 1987          & Golf II      \\\\\n",
       "\t Mercedes-Benz &  1850         & sedan         & 281           & 2.0           & Diesel        & yes           & 1985          & 190          \\\\\n",
       "\t Mercedes-Benz &  2700         & sedan         & 350           & 3.0           & Diesel        & yes           & 1988          & 300          \\\\\n",
       "\t Volkswagen    &  2500         & sedan         & 324           & 1.6           & Diesel        & yes           & 1984          & Jetta        \\\\\n",
       "\t Mercedes-Benz &  2300         & sedan         & 261           & 2.3           & Gas           & yes           & 1978          & E-Class      \\\\\n",
       "\t Volkswagen    &  1550         & hatch         & 130           & 1.3           & Petrol        & yes           & 1986          & Golf II      \\\\\n",
       "\t BMW           &  2899         & sedan         & 340           & 2.4           & Diesel        & yes           & 1988          & 524          \\\\\n",
       "\t Volkswagen    &  1450         & other         & 200           & 1.8           & Gas           & yes           & 1987          & Jetta        \\\\\n",
       "\t Volkswagen    &  3100         & hatch         & 311           & 1.6           & Gas           & yes           & 1986          & Golf II      \\\\\n",
       "\t Volkswagen    &  2200         & vagon         & 150           & 1.6           & Petrol        & yes           & 1986          & Passat B2    \\\\\n",
       "\t Toyota        &  2800         & other         & 421           & 1.3           & Gas           & yes           & 1988          & Corolla      \\\\\n",
       "\t BMW           &  2800         & sedan         & 300           & 1.8           & Other         & yes           & 1987          & 318          \\\\\n",
       "\t Mercedes-Benz &  2700         & sedan         & 337           & 2.3           & Gas           & yes           & 1988          & 230          \\\\\n",
       "\t Mercedes-Benz &  3900         & sedan         & 111           & 2.5           & Diesel        & yes           & 1989          & E-Class      \\\\\n",
       "\t Toyota        &  2700         & sedan         & 400           & 1.6           & Gas           & yes           & 1989          & Carina       \\\\\n",
       "\t Mercedes-Benz &  1350         & sedan         & 360           & 2.5           & Diesel        & no            & 1989          & E-Class      \\\\\n",
       "\t ... & ... & ... & ... & ... & ... & ... & ... & ...\\\\\n",
       "\t BMW              & 4100.00          & sedan            & 200              & 2.7              & Petrol           & yes              & 1988             & 525             \\\\\n",
       "\t Mercedes-Benz    & 3300.00          & sedan            & 330              & 2.0              & Gas              & yes              & 1988             & 190             \\\\\n",
       "\t Volkswagen       & 1899.00          & hatch            & 300              & 1.6              & Gas              & yes              & 1984             & Golf II         \\\\\n",
       "\t Mercedes-Benz    & 2500.00          & vagon            & 122              & 2.3              & Petrol           & yes              & 1987             & 230             \\\\\n",
       "\t Mercedes-Benz    & 2650.00          & sedan            &  30              & 2.3              & Gas              & yes              & 1985             & 230             \\\\\n",
       "\t Volkswagen       & 2200.00          & hatch            & 260              & 1.8              & Gas              & yes              & 1987             & Golf II         \\\\\n",
       "\t Mitsubishi       & 1599.00          & sedan            & 156              & 1.8              & Petrol           & yes              & 1989             & Galant          \\\\\n",
       "\t Mercedes-Benz    & 7777.00          & other            & 230              & 2.8              & Petrol           & yes              & 1980             & E-Class         \\\\\n",
       "\t Audi             & 1852.50          & sedan            & 150              & 1.8              & Petrol           & yes              & 1985             & 80              \\\\\n",
       "\t Audi             & 3000.00          & sedan            & 265              & 1.8              & Petrol           & yes              & 1988             & 80              \\\\\n",
       "\t Audi             & 2411.00          & sedan            & 240              & 1.6              & Other            & yes              & 1987             & 80              \\\\\n",
       "\t Volkswagen       & 1500.00          & sedan            & 265              & 1.8              & Petrol           & yes              & 1988             & Jetta           \\\\\n",
       "\t BMW              & 2850.00          & sedan            & 386              & 4.7              & Gas              & yes              & 1988             & 750             \\\\\n",
       "\t Volkswagen       & 2600.00          & van              &  10              & 2.4              & Diesel           & yes              & 1988             & LT              \\\\\n",
       "\t Mercedes-Benz    & 3200.00          & sedan            & 390              & 2.3              & Gas              & yes              & 1985             & E-Class         \\\\\n",
       "\t BMW              & 5900.00          & sedan            &  10              & 2.8              & Petrol           & yes              & 1989             & 328             \\\\\n",
       "\t Renault          & 1185.60          & hatch            & 160              & 2.0              & Petrol           & yes              & 1987             & 25              \\\\\n",
       "\t BMW              & 2200.00          & sedan            & 400              & 2.4              & Diesel           & yes              & 1988             & 324             \\\\\n",
       "\t Volkswagen       & 1300.00          & other            &  10              & 1.6              & Diesel           & yes              & 1984             & T2 (Transporter)\\\\\n",
       "\t BMW              & 5500.00          & sedan            & 402              & 2.0              & Petrol           & yes              & 1988             & 520             \\\\\n",
       "\t Volkswagen       & 1950.00          & hatch            &  94              & 1.1              & Petrol           & yes              & 1982             & Golf II         \\\\\n",
       "\t BMW              & 3900.00          & sedan            & 380              & 3.0              & Gas              & yes              & 1989             & 530             \\\\\n",
       "\t Toyota           & 1100.00          & van              & 140              & 2.0              & Gas              & yes              & 1985             & Lite Ace        \\\\\n",
       "\t BMW              & 3950.00          & sedan            & 300              & 2.0              & Petrol           & yes              & 1986             & 320             \\\\\n",
       "\t Renault          & 1800.00          & hatch            &   1              & 1.4              & Gas              & yes              & 1988             & 11              \\\\\n",
       "\t Mercedes-Benz    & 2500.00          & sedan            & 200              & 2.3              & Gas              & yes              & 1986             & 190             \\\\\n",
       "\t Volkswagen       & 1296.75          & sedan            &   1              & 1.6              & Petrol           & yes              & 1980             & Jetta           \\\\\n",
       "\t Mercedes-Benz    & 5500.00          & sedan            & 440              & 2.0              & Petrol           & yes              & 1978             & E-Class         \\\\\n",
       "\t Volkswagen       & 2200.00          & hatch            & 400              & 1.3              & Other            & yes              & 1987             & Golf II         \\\\\n",
       "\t BMW              & 8000.00          & sedan            & 194              & 2.0              & Petrol           & yes              & 1985             & 520             \\\\\n",
       "\\end{tabular}\n"
      ],
      "text/markdown": [
       "\n",
       "| Brand | Price | Body | Mileage | EngineV | Engine.Type | Registration | Year | Model |\n",
       "|---|---|---|---|---|---|---|---|---|\n",
       "| Audi          |  2900         | sedan         |   1           | 2.3           | Gas           | yes           | 1989          | 100           |\n",
       "| Mitsubishi    |  2500         | sedan         | 220           | 2.4           | Petrol        | yes           | 1987          | Galant        |\n",
       "| BMW           |  4099         | sedan         |  50           | 2.5           | Petrol        | yes           | 1988          | 520           |\n",
       "| Audi          |   600         | sedan         | 112           | 1.6           | Petrol        | yes           | 1980          | 80            |\n",
       "| Volkswagen    |  1800         | other         | 300           | 1.3           | Petrol        | yes           | 1989          | Golf II       |\n",
       "| Toyota        |   600         | sedan         |  10           | 1.5           | Petrol        | yes           | 1979          | Corolla       |\n",
       "| Audi          |  3500         | sedan         | 265           | 2.0           | Diesel        | yes           | 1986          | 100           |\n",
       "| Audi          |  3500         | sedan         |   1           | 2.0           | Other         | yes           | 1988          | 90            |\n",
       "| Mercedes-Benz |  2650         | sedan         | 400           | 2.0           | Gas           | yes           | 1985          | 190           |\n",
       "| Mercedes-Benz |  2700         | sedan         | 121           | 2.5           | Diesel        | yes           | 1986          | E-Class       |\n",
       "| Volkswagen    |  2300         | hatch         | 320           | 1.6           | Gas           | yes           | 1989          | Golf II       |\n",
       "| Mitsubishi    |  5500         | crossover     |   1           | 2.0           | Petrol        | yes           | 1986          | Pajero        |\n",
       "| Volkswagen    |  1900         | hatch         | 100           | 1.6           | Petrol        | yes           | 1989          | Golf II       |\n",
       "| Mercedes-Benz | 34999         | sedan         | 150           | 2.8           | Petrol        | yes           | 1969          | S 280         |\n",
       "| Volkswagen    |  2650         | hatch         | 280           | 1.8           | Petrol        | yes           | 1987          | Golf II       |\n",
       "| Mercedes-Benz |  1850         | sedan         | 281           | 2.0           | Diesel        | yes           | 1985          | 190           |\n",
       "| Mercedes-Benz |  2700         | sedan         | 350           | 3.0           | Diesel        | yes           | 1988          | 300           |\n",
       "| Volkswagen    |  2500         | sedan         | 324           | 1.6           | Diesel        | yes           | 1984          | Jetta         |\n",
       "| Mercedes-Benz |  2300         | sedan         | 261           | 2.3           | Gas           | yes           | 1978          | E-Class       |\n",
       "| Volkswagen    |  1550         | hatch         | 130           | 1.3           | Petrol        | yes           | 1986          | Golf II       |\n",
       "| BMW           |  2899         | sedan         | 340           | 2.4           | Diesel        | yes           | 1988          | 524           |\n",
       "| Volkswagen    |  1450         | other         | 200           | 1.8           | Gas           | yes           | 1987          | Jetta         |\n",
       "| Volkswagen    |  3100         | hatch         | 311           | 1.6           | Gas           | yes           | 1986          | Golf II       |\n",
       "| Volkswagen    |  2200         | vagon         | 150           | 1.6           | Petrol        | yes           | 1986          | Passat B2     |\n",
       "| Toyota        |  2800         | other         | 421           | 1.3           | Gas           | yes           | 1988          | Corolla       |\n",
       "| BMW           |  2800         | sedan         | 300           | 1.8           | Other         | yes           | 1987          | 318           |\n",
       "| Mercedes-Benz |  2700         | sedan         | 337           | 2.3           | Gas           | yes           | 1988          | 230           |\n",
       "| Mercedes-Benz |  3900         | sedan         | 111           | 2.5           | Diesel        | yes           | 1989          | E-Class       |\n",
       "| Toyota        |  2700         | sedan         | 400           | 1.6           | Gas           | yes           | 1989          | Carina        |\n",
       "| Mercedes-Benz |  1350         | sedan         | 360           | 2.5           | Diesel        | no            | 1989          | E-Class       |\n",
       "| ... | ... | ... | ... | ... | ... | ... | ... | ... |\n",
       "| BMW              | 4100.00          | sedan            | 200              | 2.7              | Petrol           | yes              | 1988             | 525              |\n",
       "| Mercedes-Benz    | 3300.00          | sedan            | 330              | 2.0              | Gas              | yes              | 1988             | 190              |\n",
       "| Volkswagen       | 1899.00          | hatch            | 300              | 1.6              | Gas              | yes              | 1984             | Golf II          |\n",
       "| Mercedes-Benz    | 2500.00          | vagon            | 122              | 2.3              | Petrol           | yes              | 1987             | 230              |\n",
       "| Mercedes-Benz    | 2650.00          | sedan            |  30              | 2.3              | Gas              | yes              | 1985             | 230              |\n",
       "| Volkswagen       | 2200.00          | hatch            | 260              | 1.8              | Gas              | yes              | 1987             | Golf II          |\n",
       "| Mitsubishi       | 1599.00          | sedan            | 156              | 1.8              | Petrol           | yes              | 1989             | Galant           |\n",
       "| Mercedes-Benz    | 7777.00          | other            | 230              | 2.8              | Petrol           | yes              | 1980             | E-Class          |\n",
       "| Audi             | 1852.50          | sedan            | 150              | 1.8              | Petrol           | yes              | 1985             | 80               |\n",
       "| Audi             | 3000.00          | sedan            | 265              | 1.8              | Petrol           | yes              | 1988             | 80               |\n",
       "| Audi             | 2411.00          | sedan            | 240              | 1.6              | Other            | yes              | 1987             | 80               |\n",
       "| Volkswagen       | 1500.00          | sedan            | 265              | 1.8              | Petrol           | yes              | 1988             | Jetta            |\n",
       "| BMW              | 2850.00          | sedan            | 386              | 4.7              | Gas              | yes              | 1988             | 750              |\n",
       "| Volkswagen       | 2600.00          | van              |  10              | 2.4              | Diesel           | yes              | 1988             | LT               |\n",
       "| Mercedes-Benz    | 3200.00          | sedan            | 390              | 2.3              | Gas              | yes              | 1985             | E-Class          |\n",
       "| BMW              | 5900.00          | sedan            |  10              | 2.8              | Petrol           | yes              | 1989             | 328              |\n",
       "| Renault          | 1185.60          | hatch            | 160              | 2.0              | Petrol           | yes              | 1987             | 25               |\n",
       "| BMW              | 2200.00          | sedan            | 400              | 2.4              | Diesel           | yes              | 1988             | 324              |\n",
       "| Volkswagen       | 1300.00          | other            |  10              | 1.6              | Diesel           | yes              | 1984             | T2 (Transporter) |\n",
       "| BMW              | 5500.00          | sedan            | 402              | 2.0              | Petrol           | yes              | 1988             | 520              |\n",
       "| Volkswagen       | 1950.00          | hatch            |  94              | 1.1              | Petrol           | yes              | 1982             | Golf II          |\n",
       "| BMW              | 3900.00          | sedan            | 380              | 3.0              | Gas              | yes              | 1989             | 530              |\n",
       "| Toyota           | 1100.00          | van              | 140              | 2.0              | Gas              | yes              | 1985             | Lite Ace         |\n",
       "| BMW              | 3950.00          | sedan            | 300              | 2.0              | Petrol           | yes              | 1986             | 320              |\n",
       "| Renault          | 1800.00          | hatch            |   1              | 1.4              | Gas              | yes              | 1988             | 11               |\n",
       "| Mercedes-Benz    | 2500.00          | sedan            | 200              | 2.3              | Gas              | yes              | 1986             | 190              |\n",
       "| Volkswagen       | 1296.75          | sedan            |   1              | 1.6              | Petrol           | yes              | 1980             | Jetta            |\n",
       "| Mercedes-Benz    | 5500.00          | sedan            | 440              | 2.0              | Petrol           | yes              | 1978             | E-Class          |\n",
       "| Volkswagen       | 2200.00          | hatch            | 400              | 1.3              | Other            | yes              | 1987             | Golf II          |\n",
       "| BMW              | 8000.00          | sedan            | 194              | 2.0              | Petrol           | yes              | 1985             | 520              |\n",
       "\n"
      ],
      "text/plain": [
       "    Brand         Price   Body      Mileage EngineV Engine.Type Registration\n",
       "1   Audi           2900   sedan       1     2.3     Gas         yes         \n",
       "2   Mitsubishi     2500   sedan     220     2.4     Petrol      yes         \n",
       "3   BMW            4099   sedan      50     2.5     Petrol      yes         \n",
       "4   Audi            600   sedan     112     1.6     Petrol      yes         \n",
       "5   Volkswagen     1800   other     300     1.3     Petrol      yes         \n",
       "6   Toyota          600   sedan      10     1.5     Petrol      yes         \n",
       "7   Audi           3500   sedan     265     2.0     Diesel      yes         \n",
       "8   Audi           3500   sedan       1     2.0     Other       yes         \n",
       "9   Mercedes-Benz  2650   sedan     400     2.0     Gas         yes         \n",
       "10  Mercedes-Benz  2700   sedan     121     2.5     Diesel      yes         \n",
       "11  Volkswagen     2300   hatch     320     1.6     Gas         yes         \n",
       "12  Mitsubishi     5500   crossover   1     2.0     Petrol      yes         \n",
       "13  Volkswagen     1900   hatch     100     1.6     Petrol      yes         \n",
       "14  Mercedes-Benz 34999   sedan     150     2.8     Petrol      yes         \n",
       "15  Volkswagen     2650   hatch     280     1.8     Petrol      yes         \n",
       "16  Mercedes-Benz  1850   sedan     281     2.0     Diesel      yes         \n",
       "17  Mercedes-Benz  2700   sedan     350     3.0     Diesel      yes         \n",
       "18  Volkswagen     2500   sedan     324     1.6     Diesel      yes         \n",
       "19  Mercedes-Benz  2300   sedan     261     2.3     Gas         yes         \n",
       "20  Volkswagen     1550   hatch     130     1.3     Petrol      yes         \n",
       "21  BMW            2899   sedan     340     2.4     Diesel      yes         \n",
       "22  Volkswagen     1450   other     200     1.8     Gas         yes         \n",
       "23  Volkswagen     3100   hatch     311     1.6     Gas         yes         \n",
       "24  Volkswagen     2200   vagon     150     1.6     Petrol      yes         \n",
       "25  Toyota         2800   other     421     1.3     Gas         yes         \n",
       "26  BMW            2800   sedan     300     1.8     Other       yes         \n",
       "27  Mercedes-Benz  2700   sedan     337     2.3     Gas         yes         \n",
       "28  Mercedes-Benz  3900   sedan     111     2.5     Diesel      yes         \n",
       "29  Toyota         2700   sedan     400     1.6     Gas         yes         \n",
       "30  Mercedes-Benz  1350   sedan     360     2.5     Diesel      no          \n",
       "... ...           ...     ...       ...     ...     ...         ...         \n",
       "72  BMW           4100.00 sedan     200     2.7     Petrol      yes         \n",
       "73  Mercedes-Benz 3300.00 sedan     330     2.0     Gas         yes         \n",
       "74  Volkswagen    1899.00 hatch     300     1.6     Gas         yes         \n",
       "75  Mercedes-Benz 2500.00 vagon     122     2.3     Petrol      yes         \n",
       "76  Mercedes-Benz 2650.00 sedan      30     2.3     Gas         yes         \n",
       "77  Volkswagen    2200.00 hatch     260     1.8     Gas         yes         \n",
       "78  Mitsubishi    1599.00 sedan     156     1.8     Petrol      yes         \n",
       "79  Mercedes-Benz 7777.00 other     230     2.8     Petrol      yes         \n",
       "80  Audi          1852.50 sedan     150     1.8     Petrol      yes         \n",
       "81  Audi          3000.00 sedan     265     1.8     Petrol      yes         \n",
       "82  Audi          2411.00 sedan     240     1.6     Other       yes         \n",
       "83  Volkswagen    1500.00 sedan     265     1.8     Petrol      yes         \n",
       "84  BMW           2850.00 sedan     386     4.7     Gas         yes         \n",
       "85  Volkswagen    2600.00 van        10     2.4     Diesel      yes         \n",
       "86  Mercedes-Benz 3200.00 sedan     390     2.3     Gas         yes         \n",
       "87  BMW           5900.00 sedan      10     2.8     Petrol      yes         \n",
       "88  Renault       1185.60 hatch     160     2.0     Petrol      yes         \n",
       "89  BMW           2200.00 sedan     400     2.4     Diesel      yes         \n",
       "90  Volkswagen    1300.00 other      10     1.6     Diesel      yes         \n",
       "91  BMW           5500.00 sedan     402     2.0     Petrol      yes         \n",
       "92  Volkswagen    1950.00 hatch      94     1.1     Petrol      yes         \n",
       "93  BMW           3900.00 sedan     380     3.0     Gas         yes         \n",
       "94  Toyota        1100.00 van       140     2.0     Gas         yes         \n",
       "95  BMW           3950.00 sedan     300     2.0     Petrol      yes         \n",
       "96  Renault       1800.00 hatch       1     1.4     Gas         yes         \n",
       "97  Mercedes-Benz 2500.00 sedan     200     2.3     Gas         yes         \n",
       "98  Volkswagen    1296.75 sedan       1     1.6     Petrol      yes         \n",
       "99  Mercedes-Benz 5500.00 sedan     440     2.0     Petrol      yes         \n",
       "100 Volkswagen    2200.00 hatch     400     1.3     Other       yes         \n",
       "101 BMW           8000.00 sedan     194     2.0     Petrol      yes         \n",
       "    Year Model           \n",
       "1   1989 100             \n",
       "2   1987 Galant          \n",
       "3   1988 520             \n",
       "4   1980 80              \n",
       "5   1989 Golf II         \n",
       "6   1979 Corolla         \n",
       "7   1986 100             \n",
       "8   1988 90              \n",
       "9   1985 190             \n",
       "10  1986 E-Class         \n",
       "11  1989 Golf II         \n",
       "12  1986 Pajero          \n",
       "13  1989 Golf II         \n",
       "14  1969 S 280           \n",
       "15  1987 Golf II         \n",
       "16  1985 190             \n",
       "17  1988 300             \n",
       "18  1984 Jetta           \n",
       "19  1978 E-Class         \n",
       "20  1986 Golf II         \n",
       "21  1988 524             \n",
       "22  1987 Jetta           \n",
       "23  1986 Golf II         \n",
       "24  1986 Passat B2       \n",
       "25  1988 Corolla         \n",
       "26  1987 318             \n",
       "27  1988 230             \n",
       "28  1989 E-Class         \n",
       "29  1989 Carina          \n",
       "30  1989 E-Class         \n",
       "... ...  ...             \n",
       "72  1988 525             \n",
       "73  1988 190             \n",
       "74  1984 Golf II         \n",
       "75  1987 230             \n",
       "76  1985 230             \n",
       "77  1987 Golf II         \n",
       "78  1989 Galant          \n",
       "79  1980 E-Class         \n",
       "80  1985 80              \n",
       "81  1988 80              \n",
       "82  1987 80              \n",
       "83  1988 Jetta           \n",
       "84  1988 750             \n",
       "85  1988 LT              \n",
       "86  1985 E-Class         \n",
       "87  1989 328             \n",
       "88  1987 25              \n",
       "89  1988 324             \n",
       "90  1984 T2 (Transporter)\n",
       "91  1988 520             \n",
       "92  1982 Golf II         \n",
       "93  1989 530             \n",
       "94  1985 Lite Ace        \n",
       "95  1986 320             \n",
       "96  1988 11              \n",
       "97  1986 190             \n",
       "98  1980 Jetta           \n",
       "99  1978 E-Class         \n",
       "100 1987 Golf II         \n",
       "101 1985 520             "
      ]
     },
     "metadata": {},
     "output_type": "display_data"
    }
   ],
   "source": [
    "## FILTERING DATA WHERE YEAR ABOVE THE MAXIMUM YEAR\n",
    "filter(data,Year<min_year)"
   ]
  },
  {
   "cell_type": "code",
   "execution_count": 53,
   "metadata": {},
   "outputs": [],
   "source": [
    "min_quantile_range = seq(0.01,0.25,by=0.01)"
   ]
  },
  {
   "cell_type": "code",
   "execution_count": 54,
   "metadata": {},
   "outputs": [
    {
     "data": {
      "text/html": [
       "<ol class=list-inline>\n",
       "\t<li>0.01</li>\n",
       "\t<li>0.02</li>\n",
       "\t<li>0.03</li>\n",
       "\t<li>0.04</li>\n",
       "\t<li>0.05</li>\n",
       "\t<li>0.06</li>\n",
       "\t<li>0.07</li>\n",
       "\t<li>0.08</li>\n",
       "\t<li>0.09</li>\n",
       "\t<li>0.1</li>\n",
       "\t<li>0.11</li>\n",
       "\t<li>0.12</li>\n",
       "\t<li>0.13</li>\n",
       "\t<li>0.14</li>\n",
       "\t<li>0.15</li>\n",
       "\t<li>0.16</li>\n",
       "\t<li>0.17</li>\n",
       "\t<li>0.18</li>\n",
       "\t<li>0.19</li>\n",
       "\t<li>0.2</li>\n",
       "\t<li>0.21</li>\n",
       "\t<li>0.22</li>\n",
       "\t<li>0.23</li>\n",
       "\t<li>0.24</li>\n",
       "\t<li>0.25</li>\n",
       "</ol>\n"
      ],
      "text/latex": [
       "\\begin{enumerate*}\n",
       "\\item 0.01\n",
       "\\item 0.02\n",
       "\\item 0.03\n",
       "\\item 0.04\n",
       "\\item 0.05\n",
       "\\item 0.06\n",
       "\\item 0.07\n",
       "\\item 0.08\n",
       "\\item 0.09\n",
       "\\item 0.1\n",
       "\\item 0.11\n",
       "\\item 0.12\n",
       "\\item 0.13\n",
       "\\item 0.14\n",
       "\\item 0.15\n",
       "\\item 0.16\n",
       "\\item 0.17\n",
       "\\item 0.18\n",
       "\\item 0.19\n",
       "\\item 0.2\n",
       "\\item 0.21\n",
       "\\item 0.22\n",
       "\\item 0.23\n",
       "\\item 0.24\n",
       "\\item 0.25\n",
       "\\end{enumerate*}\n"
      ],
      "text/markdown": [
       "1. 0.01\n",
       "2. 0.02\n",
       "3. 0.03\n",
       "4. 0.04\n",
       "5. 0.05\n",
       "6. 0.06\n",
       "7. 0.07\n",
       "8. 0.08\n",
       "9. 0.09\n",
       "10. 0.1\n",
       "11. 0.11\n",
       "12. 0.12\n",
       "13. 0.13\n",
       "14. 0.14\n",
       "15. 0.15\n",
       "16. 0.16\n",
       "17. 0.17\n",
       "18. 0.18\n",
       "19. 0.19\n",
       "20. 0.2\n",
       "21. 0.21\n",
       "22. 0.22\n",
       "23. 0.23\n",
       "24. 0.24\n",
       "25. 0.25\n",
       "\n",
       "\n"
      ],
      "text/plain": [
       " [1] 0.01 0.02 0.03 0.04 0.05 0.06 0.07 0.08 0.09 0.10 0.11 0.12 0.13 0.14 0.15\n",
       "[16] 0.16 0.17 0.18 0.19 0.20 0.21 0.22 0.23 0.24 0.25"
      ]
     },
     "metadata": {},
     "output_type": "display_data"
    }
   ],
   "source": [
    "min_quantile_range"
   ]
  },
  {
   "cell_type": "code",
   "execution_count": 55,
   "metadata": {
    "scrolled": true
   },
   "outputs": [
    {
     "data": {
      "text/html": [
       "<dl class=dl-horizontal>\n",
       "\t<dt>1%</dt>\n",
       "\t\t<dd>1987</dd>\n",
       "\t<dt>2%</dt>\n",
       "\t\t<dd>1989</dd>\n",
       "\t<dt>3%</dt>\n",
       "\t\t<dd>1991</dd>\n",
       "\t<dt>4%</dt>\n",
       "\t\t<dd>1992</dd>\n",
       "\t<dt>5%</dt>\n",
       "\t\t<dd>1994</dd>\n",
       "\t<dt>6%</dt>\n",
       "\t\t<dd>1995</dd>\n",
       "\t<dt>7%</dt>\n",
       "\t\t<dd>1996</dd>\n",
       "\t<dt>8%</dt>\n",
       "\t\t<dd>1996</dd>\n",
       "\t<dt>9%</dt>\n",
       "\t\t<dd>1997</dd>\n",
       "\t<dt>10%</dt>\n",
       "\t\t<dd>1997</dd>\n",
       "\t<dt>11%</dt>\n",
       "\t\t<dd>1998</dd>\n",
       "\t<dt>12%</dt>\n",
       "\t\t<dd>1998</dd>\n",
       "\t<dt>13%</dt>\n",
       "\t\t<dd>1999</dd>\n",
       "\t<dt>14%</dt>\n",
       "\t\t<dd>1999</dd>\n",
       "\t<dt>15%</dt>\n",
       "\t\t<dd>2000</dd>\n",
       "\t<dt>16%</dt>\n",
       "\t\t<dd>2000</dd>\n",
       "\t<dt>17%</dt>\n",
       "\t\t<dd>2000</dd>\n",
       "\t<dt>18%</dt>\n",
       "\t\t<dd>2000</dd>\n",
       "\t<dt>19%</dt>\n",
       "\t\t<dd>2001</dd>\n",
       "\t<dt>20%</dt>\n",
       "\t\t<dd>2001</dd>\n",
       "\t<dt>21%</dt>\n",
       "\t\t<dd>2001</dd>\n",
       "\t<dt>22%</dt>\n",
       "\t\t<dd>2002</dd>\n",
       "\t<dt>23%</dt>\n",
       "\t\t<dd>2002</dd>\n",
       "\t<dt>24%</dt>\n",
       "\t\t<dd>2002</dd>\n",
       "\t<dt>25%</dt>\n",
       "\t\t<dd>2003</dd>\n",
       "</dl>\n"
      ],
      "text/latex": [
       "\\begin{description*}\n",
       "\\item[1\\textbackslash{}\\%] 1987\n",
       "\\item[2\\textbackslash{}\\%] 1989\n",
       "\\item[3\\textbackslash{}\\%] 1991\n",
       "\\item[4\\textbackslash{}\\%] 1992\n",
       "\\item[5\\textbackslash{}\\%] 1994\n",
       "\\item[6\\textbackslash{}\\%] 1995\n",
       "\\item[7\\textbackslash{}\\%] 1996\n",
       "\\item[8\\textbackslash{}\\%] 1996\n",
       "\\item[9\\textbackslash{}\\%] 1997\n",
       "\\item[10\\textbackslash{}\\%] 1997\n",
       "\\item[11\\textbackslash{}\\%] 1998\n",
       "\\item[12\\textbackslash{}\\%] 1998\n",
       "\\item[13\\textbackslash{}\\%] 1999\n",
       "\\item[14\\textbackslash{}\\%] 1999\n",
       "\\item[15\\textbackslash{}\\%] 2000\n",
       "\\item[16\\textbackslash{}\\%] 2000\n",
       "\\item[17\\textbackslash{}\\%] 2000\n",
       "\\item[18\\textbackslash{}\\%] 2000\n",
       "\\item[19\\textbackslash{}\\%] 2001\n",
       "\\item[20\\textbackslash{}\\%] 2001\n",
       "\\item[21\\textbackslash{}\\%] 2001\n",
       "\\item[22\\textbackslash{}\\%] 2002\n",
       "\\item[23\\textbackslash{}\\%] 2002\n",
       "\\item[24\\textbackslash{}\\%] 2002\n",
       "\\item[25\\textbackslash{}\\%] 2003\n",
       "\\end{description*}\n"
      ],
      "text/markdown": [
       "1%\n",
       ":   19872%\n",
       ":   19893%\n",
       ":   19914%\n",
       ":   19925%\n",
       ":   19946%\n",
       ":   19957%\n",
       ":   19968%\n",
       ":   19969%\n",
       ":   199710%\n",
       ":   199711%\n",
       ":   199812%\n",
       ":   199813%\n",
       ":   199914%\n",
       ":   199915%\n",
       ":   200016%\n",
       ":   200017%\n",
       ":   200018%\n",
       ":   200019%\n",
       ":   200120%\n",
       ":   200121%\n",
       ":   200122%\n",
       ":   200223%\n",
       ":   200224%\n",
       ":   200225%\n",
       ":   2003\n",
       "\n"
      ],
      "text/plain": [
       "  1%   2%   3%   4%   5%   6%   7%   8%   9%  10%  11%  12%  13%  14%  15%  16% \n",
       "1987 1989 1991 1992 1994 1995 1996 1996 1997 1997 1998 1998 1999 1999 2000 2000 \n",
       " 17%  18%  19%  20%  21%  22%  23%  24%  25% \n",
       "2000 2000 2001 2001 2001 2002 2002 2002 2003 "
      ]
     },
     "metadata": {},
     "output_type": "display_data"
    }
   ],
   "source": [
    "## USING QUANTILE FUNCTION CALLING QUANTILES FROM 1TH TO 25TH \n",
    "quantile(data$Year,probs=min_quantile_range)"
   ]
  },
  {
   "cell_type": "code",
   "execution_count": 56,
   "metadata": {},
   "outputs": [],
   "source": [
    "## USING FOR LOOPS CHANGING VALUES\n",
    "fill_value = quantile(data$Year,probs=0.03)\n",
    "for (i in 1:4025)\n",
    "{\n",
    "    if (data$Year[i]<min_year)\n",
    "    {\n",
    "        data$Year[i]=fill_value\n",
    "    }\n",
    "}"
   ]
  },
  {
   "cell_type": "code",
   "execution_count": 57,
   "metadata": {},
   "outputs": [
    {
     "data": {
      "image/png": "[encoded data removed]",
      "text/plain": [
       "plot without title"
      ]
     },
     "metadata": {},
     "output_type": "display_data"
    }
   ],
   "source": [
    "## CHECKING FOR OUTLIERS WITH BOXPLOT\n",
    "ggplot(data=data,aes(y=Year))+ geom_boxplot(fill='cadetblue')"
   ]
  },
  {
   "cell_type": "markdown",
   "metadata": {},
   "source": [
    "# 4. DATA ANALYSIS"
   ]
  },
  {
   "cell_type": "code",
   "execution_count": 58,
   "metadata": {},
   "outputs": [
    {
     "data": {
      "text/html": [
       "<table>\n",
       "<thead><tr><th scope=col>Brand</th><th scope=col>Price</th><th scope=col>Body</th><th scope=col>Mileage</th><th scope=col>EngineV</th><th scope=col>Engine.Type</th><th scope=col>Registration</th><th scope=col>Year</th><th scope=col>Model</th></tr></thead>\n",
       "<tbody>\n",
       "\t<tr><td>BMW          </td><td> 4200        </td><td>sedan        </td><td>277          </td><td>2.0          </td><td>Petrol       </td><td>yes          </td><td>1991         </td><td>320          </td></tr>\n",
       "\t<tr><td>Mercedes-Benz</td><td> 7900        </td><td>van          </td><td>427          </td><td>2.9          </td><td>Diesel       </td><td>yes          </td><td>1999         </td><td>Sprinter 212 </td></tr>\n",
       "\t<tr><td>Mercedes-Benz</td><td>13300        </td><td>sedan        </td><td>358          </td><td>4.7          </td><td>Gas          </td><td>yes          </td><td>2003         </td><td>S 500        </td></tr>\n",
       "\t<tr><td>Audi         </td><td>23000        </td><td>crossover    </td><td>240          </td><td>4.2          </td><td>Petrol       </td><td>yes          </td><td>2007         </td><td>Q7           </td></tr>\n",
       "\t<tr><td>Toyota       </td><td>18300        </td><td>crossover    </td><td>120          </td><td>2.0          </td><td>Petrol       </td><td>yes          </td><td>2011         </td><td>Rav 4        </td></tr>\n",
       "\t<tr><td>Mercedes-Benz</td><td>40996        </td><td>crossover    </td><td>  0          </td><td>4.7          </td><td>Petrol       </td><td>yes          </td><td>2016         </td><td>GLS 63       </td></tr>\n",
       "</tbody>\n",
       "</table>\n"
      ],
      "text/latex": [
       "\\begin{tabular}{r|lllllllll}\n",
       " Brand & Price & Body & Mileage & EngineV & Engine.Type & Registration & Year & Model\\\\\n",
       "\\hline\n",
       "\t BMW           &  4200         & sedan         & 277           & 2.0           & Petrol        & yes           & 1991          & 320          \\\\\n",
       "\t Mercedes-Benz &  7900         & van           & 427           & 2.9           & Diesel        & yes           & 1999          & Sprinter 212 \\\\\n",
       "\t Mercedes-Benz & 13300         & sedan         & 358           & 4.7           & Gas           & yes           & 2003          & S 500        \\\\\n",
       "\t Audi          & 23000         & crossover     & 240           & 4.2           & Petrol        & yes           & 2007          & Q7           \\\\\n",
       "\t Toyota        & 18300         & crossover     & 120           & 2.0           & Petrol        & yes           & 2011          & Rav 4        \\\\\n",
       "\t Mercedes-Benz & 40996         & crossover     &   0           & 4.7           & Petrol        & yes           & 2016          & GLS 63       \\\\\n",
       "\\end{tabular}\n"
      ],
      "text/markdown": [
       "\n",
       "| Brand | Price | Body | Mileage | EngineV | Engine.Type | Registration | Year | Model |\n",
       "|---|---|---|---|---|---|---|---|---|\n",
       "| BMW           |  4200         | sedan         | 277           | 2.0           | Petrol        | yes           | 1991          | 320           |\n",
       "| Mercedes-Benz |  7900         | van           | 427           | 2.9           | Diesel        | yes           | 1999          | Sprinter 212  |\n",
       "| Mercedes-Benz | 13300         | sedan         | 358           | 4.7           | Gas           | yes           | 2003          | S 500         |\n",
       "| Audi          | 23000         | crossover     | 240           | 4.2           | Petrol        | yes           | 2007          | Q7            |\n",
       "| Toyota        | 18300         | crossover     | 120           | 2.0           | Petrol        | yes           | 2011          | Rav 4         |\n",
       "| Mercedes-Benz | 40996         | crossover     |   0           | 4.7           | Petrol        | yes           | 2016          | GLS 63        |\n",
       "\n"
      ],
      "text/plain": [
       "  Brand         Price Body      Mileage EngineV Engine.Type Registration Year\n",
       "1 BMW            4200 sedan     277     2.0     Petrol      yes          1991\n",
       "2 Mercedes-Benz  7900 van       427     2.9     Diesel      yes          1999\n",
       "3 Mercedes-Benz 13300 sedan     358     4.7     Gas         yes          2003\n",
       "4 Audi          23000 crossover 240     4.2     Petrol      yes          2007\n",
       "5 Toyota        18300 crossover 120     2.0     Petrol      yes          2011\n",
       "6 Mercedes-Benz 40996 crossover   0     4.7     Petrol      yes          2016\n",
       "  Model       \n",
       "1 320         \n",
       "2 Sprinter 212\n",
       "3 S 500       \n",
       "4 Q7          \n",
       "5 Rav 4       \n",
       "6 GLS 63      "
      ]
     },
     "metadata": {},
     "output_type": "display_data"
    }
   ],
   "source": [
    "head(data)"
   ]
  },
  {
   "cell_type": "code",
   "execution_count": 59,
   "metadata": {},
   "outputs": [
    {
     "data": {
      "text/plain": [
       "    Brand               Price           Body              Mileage     \n",
       " Length:4025        Min.   :  600   Length:4025        Min.   :  0.0  \n",
       " Class :character   1st Qu.: 6999   Class :character   1st Qu.: 90.0  \n",
       " Mode  :character   Median :11500   Mode  :character   Median :158.0  \n",
       "                    Mean   :15778                      Mean   :162.4  \n",
       "                    3rd Qu.:21900                      3rd Qu.:230.0  \n",
       "                    Max.   :44000                      Max.   :440.0  \n",
       "    EngineV      Engine.Type        Registration            Year     \n",
       " Min.   :0.600   Length:4025        Length:4025        Min.   :1990  \n",
       " 1st Qu.:1.800   Class :character   Class :character   1st Qu.:2003  \n",
       " Median :2.200   Mode  :character   Mode  :character   Median :2007  \n",
       " Mean   :2.451                                         Mean   :2006  \n",
       " 3rd Qu.:3.000                                         3rd Qu.:2012  \n",
       " Max.   :4.800                                         Max.   :2016  \n",
       "    Model          \n",
       " Length:4025       \n",
       " Class :character  \n",
       " Mode  :character  \n",
       "                   \n",
       "                   \n",
       "                   "
      ]
     },
     "metadata": {},
     "output_type": "display_data"
    }
   ],
   "source": [
    "summary(data)"
   ]
  },
  {
   "cell_type": "code",
   "execution_count": 60,
   "metadata": {},
   "outputs": [
    {
     "data": {
      "text/html": [
       "<table>\n",
       "<thead><tr><th scope=col>Engine.Type</th><th scope=col>avg</th></tr></thead>\n",
       "<tbody>\n",
       "\t<tr><td>Petrol  </td><td>16816.59</td></tr>\n",
       "\t<tr><td>Diesel  </td><td>16227.95</td></tr>\n",
       "\t<tr><td>Other   </td><td>13062.25</td></tr>\n",
       "\t<tr><td>Gas     </td><td>12263.35</td></tr>\n",
       "</tbody>\n",
       "</table>\n"
      ],
      "text/latex": [
       "\\begin{tabular}{r|ll}\n",
       " Engine.Type & avg\\\\\n",
       "\\hline\n",
       "\t Petrol   & 16816.59\\\\\n",
       "\t Diesel   & 16227.95\\\\\n",
       "\t Other    & 13062.25\\\\\n",
       "\t Gas      & 12263.35\\\\\n",
       "\\end{tabular}\n"
      ],
      "text/markdown": [
       "\n",
       "| Engine.Type | avg |\n",
       "|---|---|\n",
       "| Petrol   | 16816.59 |\n",
       "| Diesel   | 16227.95 |\n",
       "| Other    | 13062.25 |\n",
       "| Gas      | 12263.35 |\n",
       "\n"
      ],
      "text/plain": [
       "  Engine.Type avg     \n",
       "1 Petrol      16816.59\n",
       "2 Diesel      16227.95\n",
       "3 Other       13062.25\n",
       "4 Gas         12263.35"
      ]
     },
     "metadata": {},
     "output_type": "display_data"
    }
   ],
   "source": [
    "## AVERAGE PRICE BY ENGINE TYPE\n",
    "data %>%\n",
    "group_by(Engine.Type) %>% \n",
    "summarise(avg=mean(Price))%>%\n",
    "arrange(desc(avg))\n",
    "\n",
    "\n",
    "## PETROL ENGINE HAS HIGHEST AVERAGE PRICE\n",
    "## GAS ENGINE HAS LOWEST AVERAGE PRICE"
   ]
  },
  {
   "cell_type": "code",
   "execution_count": 61,
   "metadata": {},
   "outputs": [
    {
     "data": {
      "text/html": [
       "<table>\n",
       "<thead><tr><th scope=col>Body</th><th scope=col>avg</th></tr></thead>\n",
       "<tbody>\n",
       "\t<tr><td>crossover</td><td>27298.321</td></tr>\n",
       "\t<tr><td>other    </td><td>17240.257</td></tr>\n",
       "\t<tr><td>sedan    </td><td>13648.428</td></tr>\n",
       "\t<tr><td>van      </td><td>11139.630</td></tr>\n",
       "\t<tr><td>vagon    </td><td> 9881.023</td></tr>\n",
       "\t<tr><td>hatch    </td><td> 9572.674</td></tr>\n",
       "</tbody>\n",
       "</table>\n"
      ],
      "text/latex": [
       "\\begin{tabular}{r|ll}\n",
       " Body & avg\\\\\n",
       "\\hline\n",
       "\t crossover & 27298.321\\\\\n",
       "\t other     & 17240.257\\\\\n",
       "\t sedan     & 13648.428\\\\\n",
       "\t van       & 11139.630\\\\\n",
       "\t vagon     &  9881.023\\\\\n",
       "\t hatch     &  9572.674\\\\\n",
       "\\end{tabular}\n"
      ],
      "text/markdown": [
       "\n",
       "| Body | avg |\n",
       "|---|---|\n",
       "| crossover | 27298.321 |\n",
       "| other     | 17240.257 |\n",
       "| sedan     | 13648.428 |\n",
       "| van       | 11139.630 |\n",
       "| vagon     |  9881.023 |\n",
       "| hatch     |  9572.674 |\n",
       "\n"
      ],
      "text/plain": [
       "  Body      avg      \n",
       "1 crossover 27298.321\n",
       "2 other     17240.257\n",
       "3 sedan     13648.428\n",
       "4 van       11139.630\n",
       "5 vagon      9881.023\n",
       "6 hatch      9572.674"
      ]
     },
     "metadata": {},
     "output_type": "display_data"
    }
   ],
   "source": [
    "## AVERAGE PRICE BY BODY TYPE\n",
    "data %>%\n",
    "group_by(Body) %>% \n",
    "summarise(avg=mean(Price))%>%\n",
    "arrange(desc(avg))\n",
    "\n",
    "\n",
    "## CROSSOVER BODY HAS HIGHEST AVERAGE PRICE\n",
    "## HATCH BODY HAS LOWEST AVERAGE PRICE"
   ]
  },
  {
   "cell_type": "code",
   "execution_count": 62,
   "metadata": {},
   "outputs": [
    {
     "data": {
      "text/html": [
       "<table>\n",
       "<thead><tr><th scope=col>Registration</th><th scope=col>highest_price</th></tr></thead>\n",
       "<tbody>\n",
       "\t<tr><td>yes  </td><td>44000</td></tr>\n",
       "\t<tr><td>no   </td><td>29500</td></tr>\n",
       "</tbody>\n",
       "</table>\n"
      ],
      "text/latex": [
       "\\begin{tabular}{r|ll}\n",
       " Registration & highest\\_price\\\\\n",
       "\\hline\n",
       "\t yes   & 44000\\\\\n",
       "\t no    & 29500\\\\\n",
       "\\end{tabular}\n"
      ],
      "text/markdown": [
       "\n",
       "| Registration | highest_price |\n",
       "|---|---|\n",
       "| yes   | 44000 |\n",
       "| no    | 29500 |\n",
       "\n"
      ],
      "text/plain": [
       "  Registration highest_price\n",
       "1 yes          44000        \n",
       "2 no           29500        "
      ]
     },
     "metadata": {},
     "output_type": "display_data"
    }
   ],
   "source": [
    "## MAXIMUM PRICE BY BRAND\n",
    "data %>%\n",
    "group_by(Registration) %>% \n",
    "summarise(highest_price=max(Price))%>%\n",
    "arrange(desc(highest_price))\n",
    "\n",
    "## REGISTERED VEHICLES HAVE HIGHEST AVERAGE PRICE"
   ]
  },
  {
   "cell_type": "code",
   "execution_count": 63,
   "metadata": {},
   "outputs": [
    {
     "data": {
      "text/html": [
       "<table>\n",
       "<thead><tr><th scope=col>Engine.Type</th><th scope=col>highest_price</th></tr></thead>\n",
       "<tbody>\n",
       "\t<tr><td>Diesel</td><td>44000 </td></tr>\n",
       "\t<tr><td>Petrol</td><td>44000 </td></tr>\n",
       "\t<tr><td>Other </td><td>41900 </td></tr>\n",
       "\t<tr><td>Gas   </td><td>40996 </td></tr>\n",
       "</tbody>\n",
       "</table>\n"
      ],
      "text/latex": [
       "\\begin{tabular}{r|ll}\n",
       " Engine.Type & highest\\_price\\\\\n",
       "\\hline\n",
       "\t Diesel & 44000 \\\\\n",
       "\t Petrol & 44000 \\\\\n",
       "\t Other  & 41900 \\\\\n",
       "\t Gas    & 40996 \\\\\n",
       "\\end{tabular}\n"
      ],
      "text/markdown": [
       "\n",
       "| Engine.Type | highest_price |\n",
       "|---|---|\n",
       "| Diesel | 44000  |\n",
       "| Petrol | 44000  |\n",
       "| Other  | 41900  |\n",
       "| Gas    | 40996  |\n",
       "\n"
      ],
      "text/plain": [
       "  Engine.Type highest_price\n",
       "1 Diesel      44000        \n",
       "2 Petrol      44000        \n",
       "3 Other       41900        \n",
       "4 Gas         40996        "
      ]
     },
     "metadata": {},
     "output_type": "display_data"
    }
   ],
   "source": [
    "## MAXIMUM PRICE BY ENGINE TYPE\n",
    "data %>%\n",
    "group_by(Engine.Type) %>% \n",
    "summarise(highest_price=max(Price))%>%\n",
    "arrange(desc(highest_price))\n",
    "\n",
    "## DIESEL AND PETROL HAVE THE HIGHEST PRICED CAR  "
   ]
  },
  {
   "cell_type": "code",
   "execution_count": 64,
   "metadata": {},
   "outputs": [
    {
     "data": {
      "text/html": [
       "<table>\n",
       "<thead><tr><th scope=col>Brand</th><th scope=col>highest_price</th></tr></thead>\n",
       "<tbody>\n",
       "\t<tr><td>Audi         </td><td>44000.00     </td></tr>\n",
       "\t<tr><td>BMW          </td><td>44000.00     </td></tr>\n",
       "\t<tr><td>Mercedes-Benz</td><td>44000.00     </td></tr>\n",
       "\t<tr><td>Volkswagen   </td><td>44000.00     </td></tr>\n",
       "\t<tr><td>Toyota       </td><td>43999.00     </td></tr>\n",
       "\t<tr><td>Mitsubishi   </td><td>40996.00     </td></tr>\n",
       "\t<tr><td>Renault      </td><td>24193.65     </td></tr>\n",
       "</tbody>\n",
       "</table>\n"
      ],
      "text/latex": [
       "\\begin{tabular}{r|ll}\n",
       " Brand & highest\\_price\\\\\n",
       "\\hline\n",
       "\t Audi          & 44000.00     \\\\\n",
       "\t BMW           & 44000.00     \\\\\n",
       "\t Mercedes-Benz & 44000.00     \\\\\n",
       "\t Volkswagen    & 44000.00     \\\\\n",
       "\t Toyota        & 43999.00     \\\\\n",
       "\t Mitsubishi    & 40996.00     \\\\\n",
       "\t Renault       & 24193.65     \\\\\n",
       "\\end{tabular}\n"
      ],
      "text/markdown": [
       "\n",
       "| Brand | highest_price |\n",
       "|---|---|\n",
       "| Audi          | 44000.00      |\n",
       "| BMW           | 44000.00      |\n",
       "| Mercedes-Benz | 44000.00      |\n",
       "| Volkswagen    | 44000.00      |\n",
       "| Toyota        | 43999.00      |\n",
       "| Mitsubishi    | 40996.00      |\n",
       "| Renault       | 24193.65      |\n",
       "\n"
      ],
      "text/plain": [
       "  Brand         highest_price\n",
       "1 Audi          44000.00     \n",
       "2 BMW           44000.00     \n",
       "3 Mercedes-Benz 44000.00     \n",
       "4 Volkswagen    44000.00     \n",
       "5 Toyota        43999.00     \n",
       "6 Mitsubishi    40996.00     \n",
       "7 Renault       24193.65     "
      ]
     },
     "metadata": {},
     "output_type": "display_data"
    }
   ],
   "source": [
    "## MAXIMUM PRICE BY BRAND\n",
    "data %>%\n",
    "group_by(Brand) %>% \n",
    "summarise(highest_price=max(Price))%>%\n",
    "arrange(desc(highest_price))\n",
    "\n"
   ]
  },
  {
   "cell_type": "code",
   "execution_count": 65,
   "metadata": {},
   "outputs": [
    {
     "data": {
      "text/html": [
       "<table>\n",
       "<thead><tr><th scope=col>Body</th><th scope=col>highest_price</th></tr></thead>\n",
       "<tbody>\n",
       "\t<tr><td>crossover</td><td>44000    </td></tr>\n",
       "\t<tr><td>hatch    </td><td>44000    </td></tr>\n",
       "\t<tr><td>other    </td><td>44000    </td></tr>\n",
       "\t<tr><td>sedan    </td><td>43999    </td></tr>\n",
       "\t<tr><td>van      </td><td>41900    </td></tr>\n",
       "\t<tr><td>vagon    </td><td>41500    </td></tr>\n",
       "</tbody>\n",
       "</table>\n"
      ],
      "text/latex": [
       "\\begin{tabular}{r|ll}\n",
       " Body & highest\\_price\\\\\n",
       "\\hline\n",
       "\t crossover & 44000    \\\\\n",
       "\t hatch     & 44000    \\\\\n",
       "\t other     & 44000    \\\\\n",
       "\t sedan     & 43999    \\\\\n",
       "\t van       & 41900    \\\\\n",
       "\t vagon     & 41500    \\\\\n",
       "\\end{tabular}\n"
      ],
      "text/markdown": [
       "\n",
       "| Body | highest_price |\n",
       "|---|---|\n",
       "| crossover | 44000     |\n",
       "| hatch     | 44000     |\n",
       "| other     | 44000     |\n",
       "| sedan     | 43999     |\n",
       "| van       | 41900     |\n",
       "| vagon     | 41500     |\n",
       "\n"
      ],
      "text/plain": [
       "  Body      highest_price\n",
       "1 crossover 44000        \n",
       "2 hatch     44000        \n",
       "3 other     44000        \n",
       "4 sedan     43999        \n",
       "5 van       41900        \n",
       "6 vagon     41500        "
      ]
     },
     "metadata": {},
     "output_type": "display_data"
    }
   ],
   "source": [
    "## MAXIMUM PRICE BY BODY\n",
    "data %>%\n",
    "group_by(Body) %>% \n",
    "summarise(highest_price=max(Price))%>%\n",
    "arrange(desc(highest_price))\n",
    "\n"
   ]
  },
  {
   "cell_type": "code",
   "execution_count": 66,
   "metadata": {},
   "outputs": [
    {
     "data": {
      "text/html": [
       "<table>\n",
       "<thead><tr><th scope=col>Engine.Type</th><th scope=col>lowest_price</th></tr></thead>\n",
       "<tbody>\n",
       "\t<tr><td>Petrol</td><td> 600  </td></tr>\n",
       "\t<tr><td>Diesel</td><td> 800  </td></tr>\n",
       "\t<tr><td>Gas   </td><td> 999  </td></tr>\n",
       "\t<tr><td>Other </td><td>1950  </td></tr>\n",
       "</tbody>\n",
       "</table>\n"
      ],
      "text/latex": [
       "\\begin{tabular}{r|ll}\n",
       " Engine.Type & lowest\\_price\\\\\n",
       "\\hline\n",
       "\t Petrol &  600  \\\\\n",
       "\t Diesel &  800  \\\\\n",
       "\t Gas    &  999  \\\\\n",
       "\t Other  & 1950  \\\\\n",
       "\\end{tabular}\n"
      ],
      "text/markdown": [
       "\n",
       "| Engine.Type | lowest_price |\n",
       "|---|---|\n",
       "| Petrol |  600   |\n",
       "| Diesel |  800   |\n",
       "| Gas    |  999   |\n",
       "| Other  | 1950   |\n",
       "\n"
      ],
      "text/plain": [
       "  Engine.Type lowest_price\n",
       "1 Petrol       600        \n",
       "2 Diesel       800        \n",
       "3 Gas          999        \n",
       "4 Other       1950        "
      ]
     },
     "metadata": {},
     "output_type": "display_data"
    }
   ],
   "source": [
    "## MINIMUM PRICE BY ENGINE TYPE\n",
    "data %>%\n",
    "group_by(Engine.Type) %>% \n",
    "summarise(lowest_price=min(Price))%>%\n",
    "arrange(lowest_price)\n",
    "\n",
    "## PETROL ENGINE HAS LOWEST PRICED CAR "
   ]
  },
  {
   "cell_type": "code",
   "execution_count": 67,
   "metadata": {},
   "outputs": [
    {
     "data": {
      "text/html": [
       "<table>\n",
       "<thead><tr><th scope=col>Body</th><th scope=col>lowest_price</th></tr></thead>\n",
       "<tbody>\n",
       "\t<tr><td>sedan    </td><td> 600     </td></tr>\n",
       "\t<tr><td>van      </td><td> 800     </td></tr>\n",
       "\t<tr><td>hatch    </td><td>1150     </td></tr>\n",
       "\t<tr><td>other    </td><td>1200     </td></tr>\n",
       "\t<tr><td>vagon    </td><td>1350     </td></tr>\n",
       "\t<tr><td>crossover</td><td>1450     </td></tr>\n",
       "</tbody>\n",
       "</table>\n"
      ],
      "text/latex": [
       "\\begin{tabular}{r|ll}\n",
       " Body & lowest\\_price\\\\\n",
       "\\hline\n",
       "\t sedan     &  600     \\\\\n",
       "\t van       &  800     \\\\\n",
       "\t hatch     & 1150     \\\\\n",
       "\t other     & 1200     \\\\\n",
       "\t vagon     & 1350     \\\\\n",
       "\t crossover & 1450     \\\\\n",
       "\\end{tabular}\n"
      ],
      "text/markdown": [
       "\n",
       "| Body | lowest_price |\n",
       "|---|---|\n",
       "| sedan     |  600      |\n",
       "| van       |  800      |\n",
       "| hatch     | 1150      |\n",
       "| other     | 1200      |\n",
       "| vagon     | 1350      |\n",
       "| crossover | 1450      |\n",
       "\n"
      ],
      "text/plain": [
       "  Body      lowest_price\n",
       "1 sedan      600        \n",
       "2 van        800        \n",
       "3 hatch     1150        \n",
       "4 other     1200        \n",
       "5 vagon     1350        \n",
       "6 crossover 1450        "
      ]
     },
     "metadata": {},
     "output_type": "display_data"
    }
   ],
   "source": [
    "## MINIMUM PRICE BY BODY TYPE\n",
    "data %>%\n",
    "group_by(Body) %>% \n",
    "summarise(lowest_price=min(Price))%>%\n",
    "arrange(lowest_price)\n",
    "\n",
    "## SEDAN BODY HAS LOWEST PRICED CAR "
   ]
  },
  {
   "cell_type": "code",
   "execution_count": 68,
   "metadata": {},
   "outputs": [
    {
     "data": {
      "text/html": [
       "<table>\n",
       "<thead><tr><th scope=col>Brand</th><th scope=col>lowest_price</th></tr></thead>\n",
       "<tbody>\n",
       "\t<tr><td>Audi         </td><td> 600         </td></tr>\n",
       "\t<tr><td>Toyota       </td><td> 600         </td></tr>\n",
       "\t<tr><td>Renault      </td><td> 800         </td></tr>\n",
       "\t<tr><td>Mitsubishi   </td><td>1180         </td></tr>\n",
       "\t<tr><td>Volkswagen   </td><td>1199         </td></tr>\n",
       "\t<tr><td>Mercedes-Benz</td><td>1200         </td></tr>\n",
       "\t<tr><td>BMW          </td><td>1400         </td></tr>\n",
       "</tbody>\n",
       "</table>\n"
      ],
      "text/latex": [
       "\\begin{tabular}{r|ll}\n",
       " Brand & lowest\\_price\\\\\n",
       "\\hline\n",
       "\t Audi          &  600         \\\\\n",
       "\t Toyota        &  600         \\\\\n",
       "\t Renault       &  800         \\\\\n",
       "\t Mitsubishi    & 1180         \\\\\n",
       "\t Volkswagen    & 1199         \\\\\n",
       "\t Mercedes-Benz & 1200         \\\\\n",
       "\t BMW           & 1400         \\\\\n",
       "\\end{tabular}\n"
      ],
      "text/markdown": [
       "\n",
       "| Brand | lowest_price |\n",
       "|---|---|\n",
       "| Audi          |  600          |\n",
       "| Toyota        |  600          |\n",
       "| Renault       |  800          |\n",
       "| Mitsubishi    | 1180          |\n",
       "| Volkswagen    | 1199          |\n",
       "| Mercedes-Benz | 1200          |\n",
       "| BMW           | 1400          |\n",
       "\n"
      ],
      "text/plain": [
       "  Brand         lowest_price\n",
       "1 Audi           600        \n",
       "2 Toyota         600        \n",
       "3 Renault        800        \n",
       "4 Mitsubishi    1180        \n",
       "5 Volkswagen    1199        \n",
       "6 Mercedes-Benz 1200        \n",
       "7 BMW           1400        "
      ]
     },
     "metadata": {},
     "output_type": "display_data"
    }
   ],
   "source": [
    "## MINIMUM PRICE BY BRAND\n",
    "data %>%\n",
    "group_by(Brand) %>% \n",
    "summarise(lowest_price=min(Price))%>%\n",
    "arrange(lowest_price)\n",
    "\n",
    "## AUDI HAS LOWEST PRICED CAR "
   ]
  },
  {
   "cell_type": "code",
   "execution_count": 69,
   "metadata": {},
   "outputs": [
    {
     "data": {
      "text/html": [
       "<table>\n",
       "<thead><tr><th scope=col>vars</th><th scope=col>Body</th><th scope=col>Engine.Type</th><th scope=col>n</th></tr></thead>\n",
       "<tbody>\n",
       "\t<tr><td>Audi     </td><td>sedan    </td><td>Petrol   </td><td>86       </td></tr>\n",
       "\t<tr><td>Audi     </td><td>vagon    </td><td>Diesel   </td><td>77       </td></tr>\n",
       "\t<tr><td>Audi     </td><td>sedan    </td><td>Diesel   </td><td>68       </td></tr>\n",
       "\t<tr><td>Audi     </td><td>crossover</td><td>Diesel   </td><td>42       </td></tr>\n",
       "\t<tr><td>Audi     </td><td>sedan    </td><td>Gas      </td><td>31       </td></tr>\n",
       "\t<tr><td>Audi     </td><td>crossover</td><td>Petrol   </td><td>27       </td></tr>\n",
       "\t<tr><td>Audi     </td><td>other    </td><td>Petrol   </td><td>22       </td></tr>\n",
       "\t<tr><td>Audi     </td><td>hatch    </td><td>Petrol   </td><td>13       </td></tr>\n",
       "\t<tr><td>Audi     </td><td>vagon    </td><td>Petrol   </td><td>11       </td></tr>\n",
       "\t<tr><td>Audi     </td><td>sedan    </td><td>Other    </td><td>10       </td></tr>\n",
       "\t<tr><td>Audi     </td><td>vagon    </td><td>Gas      </td><td> 9       </td></tr>\n",
       "\t<tr><td>Audi     </td><td>other    </td><td>Diesel   </td><td> 7       </td></tr>\n",
       "\t<tr><td>Audi     </td><td>vagon    </td><td>Other    </td><td> 5       </td></tr>\n",
       "\t<tr><td>Audi     </td><td>crossover</td><td>Gas      </td><td> 4       </td></tr>\n",
       "\t<tr><td>Audi     </td><td>hatch    </td><td>Diesel   </td><td> 3       </td></tr>\n",
       "\t<tr><td>Audi     </td><td>other    </td><td>Gas      </td><td> 2       </td></tr>\n",
       "\t<tr><td>Audi     </td><td>hatch    </td><td>Gas      </td><td> 1       </td></tr>\n",
       "\t<tr><td>Audi     </td><td>hatch    </td><td>Other    </td><td> 1       </td></tr>\n",
       "\t<tr><td>Audi     </td><td>van      </td><td>Diesel   </td><td> 1       </td></tr>\n",
       "</tbody>\n",
       "</table>\n"
      ],
      "text/latex": [
       "\\begin{tabular}{r|llll}\n",
       " vars & Body & Engine.Type & n\\\\\n",
       "\\hline\n",
       "\t Audi      & sedan     & Petrol    & 86       \\\\\n",
       "\t Audi      & vagon     & Diesel    & 77       \\\\\n",
       "\t Audi      & sedan     & Diesel    & 68       \\\\\n",
       "\t Audi      & crossover & Diesel    & 42       \\\\\n",
       "\t Audi      & sedan     & Gas       & 31       \\\\\n",
       "\t Audi      & crossover & Petrol    & 27       \\\\\n",
       "\t Audi      & other     & Petrol    & 22       \\\\\n",
       "\t Audi      & hatch     & Petrol    & 13       \\\\\n",
       "\t Audi      & vagon     & Petrol    & 11       \\\\\n",
       "\t Audi      & sedan     & Other     & 10       \\\\\n",
       "\t Audi      & vagon     & Gas       &  9       \\\\\n",
       "\t Audi      & other     & Diesel    &  7       \\\\\n",
       "\t Audi      & vagon     & Other     &  5       \\\\\n",
       "\t Audi      & crossover & Gas       &  4       \\\\\n",
       "\t Audi      & hatch     & Diesel    &  3       \\\\\n",
       "\t Audi      & other     & Gas       &  2       \\\\\n",
       "\t Audi      & hatch     & Gas       &  1       \\\\\n",
       "\t Audi      & hatch     & Other     &  1       \\\\\n",
       "\t Audi      & van       & Diesel    &  1       \\\\\n",
       "\\end{tabular}\n"
      ],
      "text/markdown": [
       "\n",
       "| vars | Body | Engine.Type | n |\n",
       "|---|---|---|---|\n",
       "| Audi      | sedan     | Petrol    | 86        |\n",
       "| Audi      | vagon     | Diesel    | 77        |\n",
       "| Audi      | sedan     | Diesel    | 68        |\n",
       "| Audi      | crossover | Diesel    | 42        |\n",
       "| Audi      | sedan     | Gas       | 31        |\n",
       "| Audi      | crossover | Petrol    | 27        |\n",
       "| Audi      | other     | Petrol    | 22        |\n",
       "| Audi      | hatch     | Petrol    | 13        |\n",
       "| Audi      | vagon     | Petrol    | 11        |\n",
       "| Audi      | sedan     | Other     | 10        |\n",
       "| Audi      | vagon     | Gas       |  9        |\n",
       "| Audi      | other     | Diesel    |  7        |\n",
       "| Audi      | vagon     | Other     |  5        |\n",
       "| Audi      | crossover | Gas       |  4        |\n",
       "| Audi      | hatch     | Diesel    |  3        |\n",
       "| Audi      | other     | Gas       |  2        |\n",
       "| Audi      | hatch     | Gas       |  1        |\n",
       "| Audi      | hatch     | Other     |  1        |\n",
       "| Audi      | van       | Diesel    |  1        |\n",
       "\n"
      ],
      "text/plain": [
       "   vars Body      Engine.Type n \n",
       "1  Audi sedan     Petrol      86\n",
       "2  Audi vagon     Diesel      77\n",
       "3  Audi sedan     Diesel      68\n",
       "4  Audi crossover Diesel      42\n",
       "5  Audi sedan     Gas         31\n",
       "6  Audi crossover Petrol      27\n",
       "7  Audi other     Petrol      22\n",
       "8  Audi hatch     Petrol      13\n",
       "9  Audi vagon     Petrol      11\n",
       "10 Audi sedan     Other       10\n",
       "11 Audi vagon     Gas          9\n",
       "12 Audi other     Diesel       7\n",
       "13 Audi vagon     Other        5\n",
       "14 Audi crossover Gas          4\n",
       "15 Audi hatch     Diesel       3\n",
       "16 Audi other     Gas          2\n",
       "17 Audi hatch     Gas          1\n",
       "18 Audi hatch     Other        1\n",
       "19 Audi van       Diesel       1"
      ]
     },
     "metadata": {},
     "output_type": "display_data"
    }
   ],
   "source": [
    "data %>% \n",
    "select( Brand,Body,Engine.Type) %>%\n",
    "filter(data$Brand=='Audi') %>% \n",
    "count(vars = Brand,Body,Engine.Type) %>%\n",
    "arrange(desc(n))\n",
    "\n",
    "## Identifying the combinations with Audi"
   ]
  },
  {
   "cell_type": "code",
   "execution_count": 70,
   "metadata": {},
   "outputs": [
    {
     "data": {
      "text/html": [
       "<table>\n",
       "<thead><tr><th scope=col>vars</th><th scope=col>Body</th><th scope=col>Engine.Type</th><th scope=col>n</th></tr></thead>\n",
       "<tbody>\n",
       "\t<tr><td>Toyota   </td><td>sedan    </td><td>Petrol   </td><td>117      </td></tr>\n",
       "\t<tr><td>Toyota   </td><td>crossover</td><td>Petrol   </td><td> 73      </td></tr>\n",
       "\t<tr><td>Toyota   </td><td>crossover</td><td>Gas      </td><td> 70      </td></tr>\n",
       "\t<tr><td>Toyota   </td><td>sedan    </td><td>Gas      </td><td> 66      </td></tr>\n",
       "\t<tr><td>Toyota   </td><td>crossover</td><td>Diesel   </td><td> 62      </td></tr>\n",
       "\t<tr><td>Toyota   </td><td>hatch    </td><td>Petrol   </td><td> 43      </td></tr>\n",
       "\t<tr><td>Toyota   </td><td>other    </td><td>Diesel   </td><td> 12      </td></tr>\n",
       "\t<tr><td>Toyota   </td><td>other    </td><td>Petrol   </td><td> 12      </td></tr>\n",
       "\t<tr><td>Toyota   </td><td>other    </td><td>Gas      </td><td> 11      </td></tr>\n",
       "\t<tr><td>Toyota   </td><td>hatch    </td><td>Other    </td><td>  6      </td></tr>\n",
       "\t<tr><td>Toyota   </td><td>sedan    </td><td>Other    </td><td>  6      </td></tr>\n",
       "\t<tr><td>Toyota   </td><td>vagon    </td><td>Petrol   </td><td>  6      </td></tr>\n",
       "\t<tr><td>Toyota   </td><td>hatch    </td><td>Gas      </td><td>  5      </td></tr>\n",
       "\t<tr><td>Toyota   </td><td>vagon    </td><td>Diesel   </td><td>  3      </td></tr>\n",
       "\t<tr><td>Toyota   </td><td>vagon    </td><td>Gas      </td><td>  3      </td></tr>\n",
       "\t<tr><td>Toyota   </td><td>van      </td><td>Diesel   </td><td>  3      </td></tr>\n",
       "\t<tr><td>Toyota   </td><td>van      </td><td>Gas      </td><td>  3      </td></tr>\n",
       "\t<tr><td>Toyota   </td><td>crossover</td><td>Other    </td><td>  2      </td></tr>\n",
       "\t<tr><td>Toyota   </td><td>hatch    </td><td>Diesel   </td><td>  2      </td></tr>\n",
       "\t<tr><td>Toyota   </td><td>other    </td><td>Other    </td><td>  2      </td></tr>\n",
       "\t<tr><td>Toyota   </td><td>sedan    </td><td>Diesel   </td><td>  1      </td></tr>\n",
       "\t<tr><td>Toyota   </td><td>van      </td><td>Other    </td><td>  1      </td></tr>\n",
       "\t<tr><td>Toyota   </td><td>van      </td><td>Petrol   </td><td>  1      </td></tr>\n",
       "</tbody>\n",
       "</table>\n"
      ],
      "text/latex": [
       "\\begin{tabular}{r|llll}\n",
       " vars & Body & Engine.Type & n\\\\\n",
       "\\hline\n",
       "\t Toyota    & sedan     & Petrol    & 117      \\\\\n",
       "\t Toyota    & crossover & Petrol    &  73      \\\\\n",
       "\t Toyota    & crossover & Gas       &  70      \\\\\n",
       "\t Toyota    & sedan     & Gas       &  66      \\\\\n",
       "\t Toyota    & crossover & Diesel    &  62      \\\\\n",
       "\t Toyota    & hatch     & Petrol    &  43      \\\\\n",
       "\t Toyota    & other     & Diesel    &  12      \\\\\n",
       "\t Toyota    & other     & Petrol    &  12      \\\\\n",
       "\t Toyota    & other     & Gas       &  11      \\\\\n",
       "\t Toyota    & hatch     & Other     &   6      \\\\\n",
       "\t Toyota    & sedan     & Other     &   6      \\\\\n",
       "\t Toyota    & vagon     & Petrol    &   6      \\\\\n",
       "\t Toyota    & hatch     & Gas       &   5      \\\\\n",
       "\t Toyota    & vagon     & Diesel    &   3      \\\\\n",
       "\t Toyota    & vagon     & Gas       &   3      \\\\\n",
       "\t Toyota    & van       & Diesel    &   3      \\\\\n",
       "\t Toyota    & van       & Gas       &   3      \\\\\n",
       "\t Toyota    & crossover & Other     &   2      \\\\\n",
       "\t Toyota    & hatch     & Diesel    &   2      \\\\\n",
       "\t Toyota    & other     & Other     &   2      \\\\\n",
       "\t Toyota    & sedan     & Diesel    &   1      \\\\\n",
       "\t Toyota    & van       & Other     &   1      \\\\\n",
       "\t Toyota    & van       & Petrol    &   1      \\\\\n",
       "\\end{tabular}\n"
      ],
      "text/markdown": [
       "\n",
       "| vars | Body | Engine.Type | n |\n",
       "|---|---|---|---|\n",
       "| Toyota    | sedan     | Petrol    | 117       |\n",
       "| Toyota    | crossover | Petrol    |  73       |\n",
       "| Toyota    | crossover | Gas       |  70       |\n",
       "| Toyota    | sedan     | Gas       |  66       |\n",
       "| Toyota    | crossover | Diesel    |  62       |\n",
       "| Toyota    | hatch     | Petrol    |  43       |\n",
       "| Toyota    | other     | Diesel    |  12       |\n",
       "| Toyota    | other     | Petrol    |  12       |\n",
       "| Toyota    | other     | Gas       |  11       |\n",
       "| Toyota    | hatch     | Other     |   6       |\n",
       "| Toyota    | sedan     | Other     |   6       |\n",
       "| Toyota    | vagon     | Petrol    |   6       |\n",
       "| Toyota    | hatch     | Gas       |   5       |\n",
       "| Toyota    | vagon     | Diesel    |   3       |\n",
       "| Toyota    | vagon     | Gas       |   3       |\n",
       "| Toyota    | van       | Diesel    |   3       |\n",
       "| Toyota    | van       | Gas       |   3       |\n",
       "| Toyota    | crossover | Other     |   2       |\n",
       "| Toyota    | hatch     | Diesel    |   2       |\n",
       "| Toyota    | other     | Other     |   2       |\n",
       "| Toyota    | sedan     | Diesel    |   1       |\n",
       "| Toyota    | van       | Other     |   1       |\n",
       "| Toyota    | van       | Petrol    |   1       |\n",
       "\n"
      ],
      "text/plain": [
       "   vars   Body      Engine.Type n  \n",
       "1  Toyota sedan     Petrol      117\n",
       "2  Toyota crossover Petrol       73\n",
       "3  Toyota crossover Gas          70\n",
       "4  Toyota sedan     Gas          66\n",
       "5  Toyota crossover Diesel       62\n",
       "6  Toyota hatch     Petrol       43\n",
       "7  Toyota other     Diesel       12\n",
       "8  Toyota other     Petrol       12\n",
       "9  Toyota other     Gas          11\n",
       "10 Toyota hatch     Other         6\n",
       "11 Toyota sedan     Other         6\n",
       "12 Toyota vagon     Petrol        6\n",
       "13 Toyota hatch     Gas           5\n",
       "14 Toyota vagon     Diesel        3\n",
       "15 Toyota vagon     Gas           3\n",
       "16 Toyota van       Diesel        3\n",
       "17 Toyota van       Gas           3\n",
       "18 Toyota crossover Other         2\n",
       "19 Toyota hatch     Diesel        2\n",
       "20 Toyota other     Other         2\n",
       "21 Toyota sedan     Diesel        1\n",
       "22 Toyota van       Other         1\n",
       "23 Toyota van       Petrol        1"
      ]
     },
     "metadata": {},
     "output_type": "display_data"
    }
   ],
   "source": [
    "data %>% \n",
    "select( Brand,Body,Engine.Type) %>%\n",
    "filter(data$Brand=='Toyota') %>% \n",
    "count(vars = Brand,Body,Engine.Type) %>%\n",
    "arrange(desc(n))\n",
    "\n",
    "## Identifying the combinations with Toyota"
   ]
  },
  {
   "cell_type": "code",
   "execution_count": 71,
   "metadata": {},
   "outputs": [
    {
     "data": {
      "text/html": [
       "<table>\n",
       "<thead><tr><th scope=col>Brand</th><th scope=col>Body</th><th scope=col>Mileage</th><th scope=col>Price</th></tr></thead>\n",
       "<tbody>\n",
       "\t<tr><td>Volkswagen   </td><td>sedan        </td><td>440          </td><td>2500         </td></tr>\n",
       "\t<tr><td>Renault      </td><td>other        </td><td>440          </td><td>7500         </td></tr>\n",
       "\t<tr><td>Mercedes-Benz</td><td>sedan        </td><td>440          </td><td>5500         </td></tr>\n",
       "</tbody>\n",
       "</table>\n"
      ],
      "text/latex": [
       "\\begin{tabular}{r|llll}\n",
       " Brand & Body & Mileage & Price\\\\\n",
       "\\hline\n",
       "\t Volkswagen    & sedan         & 440           & 2500         \\\\\n",
       "\t Renault       & other         & 440           & 7500         \\\\\n",
       "\t Mercedes-Benz & sedan         & 440           & 5500         \\\\\n",
       "\\end{tabular}\n"
      ],
      "text/markdown": [
       "\n",
       "| Brand | Body | Mileage | Price |\n",
       "|---|---|---|---|\n",
       "| Volkswagen    | sedan         | 440           | 2500          |\n",
       "| Renault       | other         | 440           | 7500          |\n",
       "| Mercedes-Benz | sedan         | 440           | 5500          |\n",
       "\n"
      ],
      "text/plain": [
       "  Brand         Body  Mileage Price\n",
       "1 Volkswagen    sedan 440     2500 \n",
       "2 Renault       other 440     7500 \n",
       "3 Mercedes-Benz sedan 440     5500 "
      ]
     },
     "metadata": {},
     "output_type": "display_data"
    }
   ],
   "source": [
    "## CARS WITH HIGHEST MILEAGE\n",
    "\n",
    "data %>%\n",
    "select(Brand,Body,Mileage,Price)%>%\n",
    "filter(data$Mileage==max(data$Mileage))\n"
   ]
  },
  {
   "cell_type": "code",
   "execution_count": 72,
   "metadata": {},
   "outputs": [
    {
     "data": {
      "text/html": [
       "<table>\n",
       "<thead><tr><th scope=col>Brand</th><th scope=col>Body</th><th scope=col>EngineV</th><th scope=col>Price</th></tr></thead>\n",
       "<tbody>\n",
       "\t<tr><td>BMW      </td><td>crossover</td><td>4.8      </td><td>28500    </td></tr>\n",
       "\t<tr><td>BMW      </td><td>crossover</td><td>4.8      </td><td>23900    </td></tr>\n",
       "\t<tr><td>BMW      </td><td>other    </td><td>4.8      </td><td>25500    </td></tr>\n",
       "\t<tr><td>BMW      </td><td>crossover</td><td>4.8      </td><td>18100    </td></tr>\n",
       "\t<tr><td>BMW      </td><td>crossover</td><td>4.8      </td><td>21600    </td></tr>\n",
       "\t<tr><td>BMW      </td><td>crossover</td><td>4.8      </td><td>20500    </td></tr>\n",
       "\t<tr><td>BMW      </td><td>crossover</td><td>4.8      </td><td>20999    </td></tr>\n",
       "\t<tr><td>BMW      </td><td>crossover</td><td>4.8      </td><td>26000    </td></tr>\n",
       "\t<tr><td>BMW      </td><td>crossover</td><td>4.8      </td><td>22700    </td></tr>\n",
       "\t<tr><td>BMW      </td><td>crossover</td><td>4.8      </td><td>23500    </td></tr>\n",
       "\t<tr><td>BMW      </td><td>crossover</td><td>4.8      </td><td>25500    </td></tr>\n",
       "\t<tr><td>BMW      </td><td>crossover</td><td>4.8      </td><td>26900    </td></tr>\n",
       "\t<tr><td>BMW      </td><td>crossover</td><td>4.8      </td><td>23500    </td></tr>\n",
       "\t<tr><td>BMW      </td><td>crossover</td><td>4.8      </td><td>24500    </td></tr>\n",
       "\t<tr><td>BMW      </td><td>sedan    </td><td>4.8      </td><td>16400    </td></tr>\n",
       "\t<tr><td>BMW      </td><td>crossover</td><td>4.8      </td><td>26999    </td></tr>\n",
       "\t<tr><td>BMW      </td><td>sedan    </td><td>4.8      </td><td>19999    </td></tr>\n",
       "\t<tr><td>BMW      </td><td>crossover</td><td>4.8      </td><td>24500    </td></tr>\n",
       "\t<tr><td>BMW      </td><td>crossover</td><td>4.8      </td><td>15000    </td></tr>\n",
       "\t<tr><td>BMW      </td><td>other    </td><td>4.8      </td><td>22000    </td></tr>\n",
       "</tbody>\n",
       "</table>\n"
      ],
      "text/latex": [
       "\\begin{tabular}{r|llll}\n",
       " Brand & Body & EngineV & Price\\\\\n",
       "\\hline\n",
       "\t BMW       & crossover & 4.8       & 28500    \\\\\n",
       "\t BMW       & crossover & 4.8       & 23900    \\\\\n",
       "\t BMW       & other     & 4.8       & 25500    \\\\\n",
       "\t BMW       & crossover & 4.8       & 18100    \\\\\n",
       "\t BMW       & crossover & 4.8       & 21600    \\\\\n",
       "\t BMW       & crossover & 4.8       & 20500    \\\\\n",
       "\t BMW       & crossover & 4.8       & 20999    \\\\\n",
       "\t BMW       & crossover & 4.8       & 26000    \\\\\n",
       "\t BMW       & crossover & 4.8       & 22700    \\\\\n",
       "\t BMW       & crossover & 4.8       & 23500    \\\\\n",
       "\t BMW       & crossover & 4.8       & 25500    \\\\\n",
       "\t BMW       & crossover & 4.8       & 26900    \\\\\n",
       "\t BMW       & crossover & 4.8       & 23500    \\\\\n",
       "\t BMW       & crossover & 4.8       & 24500    \\\\\n",
       "\t BMW       & sedan     & 4.8       & 16400    \\\\\n",
       "\t BMW       & crossover & 4.8       & 26999    \\\\\n",
       "\t BMW       & sedan     & 4.8       & 19999    \\\\\n",
       "\t BMW       & crossover & 4.8       & 24500    \\\\\n",
       "\t BMW       & crossover & 4.8       & 15000    \\\\\n",
       "\t BMW       & other     & 4.8       & 22000    \\\\\n",
       "\\end{tabular}\n"
      ],
      "text/markdown": [
       "\n",
       "| Brand | Body | EngineV | Price |\n",
       "|---|---|---|---|\n",
       "| BMW       | crossover | 4.8       | 28500     |\n",
       "| BMW       | crossover | 4.8       | 23900     |\n",
       "| BMW       | other     | 4.8       | 25500     |\n",
       "| BMW       | crossover | 4.8       | 18100     |\n",
       "| BMW       | crossover | 4.8       | 21600     |\n",
       "| BMW       | crossover | 4.8       | 20500     |\n",
       "| BMW       | crossover | 4.8       | 20999     |\n",
       "| BMW       | crossover | 4.8       | 26000     |\n",
       "| BMW       | crossover | 4.8       | 22700     |\n",
       "| BMW       | crossover | 4.8       | 23500     |\n",
       "| BMW       | crossover | 4.8       | 25500     |\n",
       "| BMW       | crossover | 4.8       | 26900     |\n",
       "| BMW       | crossover | 4.8       | 23500     |\n",
       "| BMW       | crossover | 4.8       | 24500     |\n",
       "| BMW       | sedan     | 4.8       | 16400     |\n",
       "| BMW       | crossover | 4.8       | 26999     |\n",
       "| BMW       | sedan     | 4.8       | 19999     |\n",
       "| BMW       | crossover | 4.8       | 24500     |\n",
       "| BMW       | crossover | 4.8       | 15000     |\n",
       "| BMW       | other     | 4.8       | 22000     |\n",
       "\n"
      ],
      "text/plain": [
       "   Brand Body      EngineV Price\n",
       "1  BMW   crossover 4.8     28500\n",
       "2  BMW   crossover 4.8     23900\n",
       "3  BMW   other     4.8     25500\n",
       "4  BMW   crossover 4.8     18100\n",
       "5  BMW   crossover 4.8     21600\n",
       "6  BMW   crossover 4.8     20500\n",
       "7  BMW   crossover 4.8     20999\n",
       "8  BMW   crossover 4.8     26000\n",
       "9  BMW   crossover 4.8     22700\n",
       "10 BMW   crossover 4.8     23500\n",
       "11 BMW   crossover 4.8     25500\n",
       "12 BMW   crossover 4.8     26900\n",
       "13 BMW   crossover 4.8     23500\n",
       "14 BMW   crossover 4.8     24500\n",
       "15 BMW   sedan     4.8     16400\n",
       "16 BMW   crossover 4.8     26999\n",
       "17 BMW   sedan     4.8     19999\n",
       "18 BMW   crossover 4.8     24500\n",
       "19 BMW   crossover 4.8     15000\n",
       "20 BMW   other     4.8     22000"
      ]
     },
     "metadata": {},
     "output_type": "display_data"
    }
   ],
   "source": [
    "## CARS WITH LATEST ENGINE VERSION\n",
    "\n",
    "data %>%\n",
    "select(Brand,Body,EngineV,Price)%>%\n",
    "filter(data$EngineV==max(data$EngineV))\n"
   ]
  },
  {
   "cell_type": "code",
   "execution_count": 73,
   "metadata": {},
   "outputs": [
    {
     "data": {
      "text/html": [
       "<table>\n",
       "<thead><tr><th scope=col>Brand</th><th scope=col>Body</th><th scope=col>Price</th></tr></thead>\n",
       "<tbody>\n",
       "\t<tr><td>Mercedes-Benz</td><td>other        </td><td>44000        </td></tr>\n",
       "\t<tr><td>BMW          </td><td>crossover    </td><td>44000        </td></tr>\n",
       "\t<tr><td>Volkswagen   </td><td>crossover    </td><td>44000        </td></tr>\n",
       "\t<tr><td>Mercedes-Benz</td><td>other        </td><td>44000        </td></tr>\n",
       "\t<tr><td>Audi         </td><td>hatch        </td><td>44000        </td></tr>\n",
       "</tbody>\n",
       "</table>\n"
      ],
      "text/latex": [
       "\\begin{tabular}{r|lll}\n",
       " Brand & Body & Price\\\\\n",
       "\\hline\n",
       "\t Mercedes-Benz & other         & 44000        \\\\\n",
       "\t BMW           & crossover     & 44000        \\\\\n",
       "\t Volkswagen    & crossover     & 44000        \\\\\n",
       "\t Mercedes-Benz & other         & 44000        \\\\\n",
       "\t Audi          & hatch         & 44000        \\\\\n",
       "\\end{tabular}\n"
      ],
      "text/markdown": [
       "\n",
       "| Brand | Body | Price |\n",
       "|---|---|---|\n",
       "| Mercedes-Benz | other         | 44000         |\n",
       "| BMW           | crossover     | 44000         |\n",
       "| Volkswagen    | crossover     | 44000         |\n",
       "| Mercedes-Benz | other         | 44000         |\n",
       "| Audi          | hatch         | 44000         |\n",
       "\n"
      ],
      "text/plain": [
       "  Brand         Body      Price\n",
       "1 Mercedes-Benz other     44000\n",
       "2 BMW           crossover 44000\n",
       "3 Volkswagen    crossover 44000\n",
       "4 Mercedes-Benz other     44000\n",
       "5 Audi          hatch     44000"
      ]
     },
     "metadata": {},
     "output_type": "display_data"
    }
   ],
   "source": [
    "## CARS WITH HIGHEST PRICE\n",
    "\n",
    "data %>%\n",
    "select(Brand,Body,Price)%>%\n",
    "filter(data$Price==max(data$Price))\n"
   ]
  },
  {
   "cell_type": "code",
   "execution_count": 74,
   "metadata": {},
   "outputs": [
    {
     "data": {
      "image/png": "[encoded data removed]",
      "text/plain": [
       "plot without title"
      ]
     },
     "metadata": {},
     "output_type": "display_data"
    }
   ],
   "source": [
    "ggplot(data=data,aes(Mileage,Price))+geom_point(color='aquamarine4')\n",
    "\n",
    "## Negative Correlation Between Price and Mileage"
   ]
  },
  {
   "cell_type": "code",
   "execution_count": 75,
   "metadata": {},
   "outputs": [
    {
     "data": {
      "image/png": "[encoded data removed]",
      "text/plain": [
       "plot without title"
      ]
     },
     "metadata": {},
     "output_type": "display_data"
    }
   ],
   "source": [
    "ggplot(data=data,aes(EngineV,Price))+geom_point(color='chocolate')\n",
    "\n",
    "## Positive Correlation Between Price and Engine Version"
   ]
  },
  {
   "cell_type": "code",
   "execution_count": 76,
   "metadata": {},
   "outputs": [
    {
     "data": {
      "image/png": "[encoded data removed]",
      "text/plain": [
       "plot without title"
      ]
     },
     "metadata": {},
     "output_type": "display_data"
    }
   ],
   "source": [
    "ggplot(data=data,aes(Year,Price))+geom_point(color='brown4')\n",
    "\n",
    "## Positive Correlation between Year and Price"
   ]
  },
  {
   "cell_type": "code",
   "execution_count": 77,
   "metadata": {},
   "outputs": [
    {
     "data": {
      "image/png": "[encoded data removed]",
      "text/plain": [
       "plot without title"
      ]
     },
     "metadata": {},
     "output_type": "display_data"
    }
   ],
   "source": [
    "ggplot()+geom_bar(data=data,aes(x=Body),fill='cadetblue4')"
   ]
  },
  {
   "cell_type": "code",
   "execution_count": 78,
   "metadata": {
    "scrolled": false
   },
   "outputs": [
    {
     "data": {
      "image/png": "[encoded data removed]",
      "text/plain": [
       "plot without title"
      ]
     },
     "metadata": {},
     "output_type": "display_data"
    }
   ],
   "source": [
    "ggplot()+geom_bar(data=data,aes(x=Engine.Type),fill='aquamarine4')"
   ]
  },
  {
   "cell_type": "code",
   "execution_count": 79,
   "metadata": {},
   "outputs": [],
   "source": [
    "## CONVERTING THE CLEANED DATA INTO CSV TO USE IT FOR LINEAR REGRESSION\n",
    "write.csv(data,'data/clean_data_cars.csv',row.names=FALSE)"
   ]
  },
  {
   "cell_type": "code",
   "execution_count": null,
   "metadata": {},
   "outputs": [],
   "source": []
  }
 ],
 "metadata": {
  "kernelspec": {
   "display_name": "R [conda env:miniconda3-4.3.30]",
   "language": "R",
   "name": "conda-env-miniconda3-4.3.30-r"
  },
  "language_info": {
   "codemirror_mode": "r",
   "file_extension": ".r",
   "mimetype": "text/x-r-source",
   "name": "R",
   "pygments_lexer": "r",
   "version": "3.6.1"
  },
  "toc": {
   "base_numbering": 1,
   "nav_menu": {},
   "number_sections": true,
   "sideBar": true,
   "skip_h1_title": false,
   "title_cell": "Table of Contents",
   "title_sidebar": "Contents",
   "toc_cell": false,
   "toc_position": {},
   "toc_section_display": true,
   "toc_window_display": false
  }
 },
 "nbformat": 4,
 "nbformat_minor": 4
}
