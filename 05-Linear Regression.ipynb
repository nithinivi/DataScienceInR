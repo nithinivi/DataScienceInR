{
 "cells": [
  {
   "cell_type": "markdown",
   "metadata": {},
   "source": [
    "# LINEAR REGRESSION"
   ]
  },
  {
   "cell_type": "markdown",
   "metadata": {},
   "source": [
    "###### Linear regression is used for finding linear relationship between target variable ( Y variable) and one or more predictors (X variables). There are two types of linear regression- Simple and Multiple.\n"
   ]
  },
  {
   "cell_type": "markdown",
   "metadata": {},
   "source": [
    "### MULTIPLE LINEAR REGRESSION"
   ]
  },
  {
   "cell_type": "code",
   "execution_count": 223,
   "metadata": {},
   "outputs": [],
   "source": [
    "## CALLING LIBRARIES USED FOR LINEAR REGRESSION\n",
    "\n",
    "library(\"tidyverse\")\n",
    "library(\"ggplot2\")"
   ]
  },
  {
   "cell_type": "code",
   "execution_count": 224,
   "metadata": {},
   "outputs": [
    {
     "data": {
      "text/html": [
       "'C:/Users/T0SHIBA/DataScienceInR/lesson-04'"
      ],
      "text/latex": [
       "'C:/Users/T0SHIBA/DataScienceInR/lesson-04'"
      ],
      "text/markdown": [
       "'C:/Users/T0SHIBA/DataScienceInR/lesson-04'"
      ],
      "text/plain": [
       "[1] \"C:/Users/T0SHIBA/DataScienceInR/lesson-04\""
      ]
     },
     "metadata": {},
     "output_type": "display_data"
    }
   ],
   "source": [
    "## CHECKING THE CURRENT WORKING DIRECTORY\n",
    "\n",
    "getwd()"
   ]
  },
  {
   "cell_type": "code",
   "execution_count": 225,
   "metadata": {},
   "outputs": [],
   "source": [
    "## STORING DATA IN THE CSV FILE TO VARIABLE data\n",
    "data = read.csv('C:/Users/T0SHIBA/DataScienceInR/data/clean_data_cars.csv')"
   ]
  },
  {
   "cell_type": "code",
   "execution_count": 226,
   "metadata": {},
   "outputs": [
    {
     "data": {
      "text/html": [
       "<table>\n",
       "<thead><tr><th scope=col>Price</th><th scope=col>Brand</th><th scope=col>Body</th><th scope=col>Mileage</th><th scope=col>EngineV</th><th scope=col>Engine.Type</th><th scope=col>Registration</th><th scope=col>Year</th></tr></thead>\n",
       "<tbody>\n",
       "\t<tr><td> 4200        </td><td>BMW          </td><td>sedan        </td><td>277          </td><td>2.0          </td><td>Petrol       </td><td>yes          </td><td>1991         </td></tr>\n",
       "\t<tr><td> 7900        </td><td>Mercedes-Benz</td><td>van          </td><td>427          </td><td>2.9          </td><td>Diesel       </td><td>yes          </td><td>1999         </td></tr>\n",
       "\t<tr><td>13300        </td><td>Mercedes-Benz</td><td>sedan        </td><td>358          </td><td>4.7          </td><td>Gas          </td><td>yes          </td><td>2003         </td></tr>\n",
       "\t<tr><td>23000        </td><td>Audi         </td><td>crossover    </td><td>240          </td><td>4.2          </td><td>Petrol       </td><td>yes          </td><td>2007         </td></tr>\n",
       "\t<tr><td>18300        </td><td>Toyota       </td><td>crossover    </td><td>120          </td><td>2.0          </td><td>Petrol       </td><td>yes          </td><td>2011         </td></tr>\n",
       "\t<tr><td>40996        </td><td>Mercedes-Benz</td><td>crossover    </td><td>  0          </td><td>4.7          </td><td>Petrol       </td><td>yes          </td><td>2016         </td></tr>\n",
       "</tbody>\n",
       "</table>\n"
      ],
      "text/latex": [
       "\\begin{tabular}{r|llllllll}\n",
       " Price & Brand & Body & Mileage & EngineV & Engine.Type & Registration & Year\\\\\n",
       "\\hline\n",
       "\t  4200         & BMW           & sedan         & 277           & 2.0           & Petrol        & yes           & 1991         \\\\\n",
       "\t  7900         & Mercedes-Benz & van           & 427           & 2.9           & Diesel        & yes           & 1999         \\\\\n",
       "\t 13300         & Mercedes-Benz & sedan         & 358           & 4.7           & Gas           & yes           & 2003         \\\\\n",
       "\t 23000         & Audi          & crossover     & 240           & 4.2           & Petrol        & yes           & 2007         \\\\\n",
       "\t 18300         & Toyota        & crossover     & 120           & 2.0           & Petrol        & yes           & 2011         \\\\\n",
       "\t 40996         & Mercedes-Benz & crossover     &   0           & 4.7           & Petrol        & yes           & 2016         \\\\\n",
       "\\end{tabular}\n"
      ],
      "text/markdown": [
       "\n",
       "| Price | Brand | Body | Mileage | EngineV | Engine.Type | Registration | Year |\n",
       "|---|---|---|---|---|---|---|---|\n",
       "|  4200         | BMW           | sedan         | 277           | 2.0           | Petrol        | yes           | 1991          |\n",
       "|  7900         | Mercedes-Benz | van           | 427           | 2.9           | Diesel        | yes           | 1999          |\n",
       "| 13300         | Mercedes-Benz | sedan         | 358           | 4.7           | Gas           | yes           | 2003          |\n",
       "| 23000         | Audi          | crossover     | 240           | 4.2           | Petrol        | yes           | 2007          |\n",
       "| 18300         | Toyota        | crossover     | 120           | 2.0           | Petrol        | yes           | 2011          |\n",
       "| 40996         | Mercedes-Benz | crossover     |   0           | 4.7           | Petrol        | yes           | 2016          |\n",
       "\n"
      ],
      "text/plain": [
       "  Price Brand         Body      Mileage EngineV Engine.Type Registration Year\n",
       "1  4200 BMW           sedan     277     2.0     Petrol      yes          1991\n",
       "2  7900 Mercedes-Benz van       427     2.9     Diesel      yes          1999\n",
       "3 13300 Mercedes-Benz sedan     358     4.7     Gas         yes          2003\n",
       "4 23000 Audi          crossover 240     4.2     Petrol      yes          2007\n",
       "5 18300 Toyota        crossover 120     2.0     Petrol      yes          2011\n",
       "6 40996 Mercedes-Benz crossover   0     4.7     Petrol      yes          2016"
      ]
     },
     "metadata": {},
     "output_type": "display_data"
    }
   ],
   "source": [
    "## VIEWING THE FIRST 6 ROWS USING HEAD() FUNCTION\n",
    "head(data)"
   ]
  },
  {
   "cell_type": "code",
   "execution_count": 227,
   "metadata": {},
   "outputs": [
    {
     "data": {
      "text/plain": [
       "     Price                 Brand            Body         Mileage     \n",
       " Min.   :  600   Audi         :420   crossover: 824   Min.   :  0.0  \n",
       " 1st Qu.: 6999   BMW          :640   hatch    : 268   1st Qu.: 90.0  \n",
       " Median :11500   Mercedes-Benz:823   other    : 394   Median :158.0  \n",
       " Mean   :15778   Mitsubishi   :307   sedan    :1534   Mean   :162.4  \n",
       " 3rd Qu.:21900   Renault      :445   vagon    : 379   3rd Qu.:230.0  \n",
       " Max.   :44000   Toyota       :510   van      : 626   Max.   :440.0  \n",
       "                 Volkswagen   :880                                   \n",
       "    EngineV      Engine.Type   Registration      Year     \n",
       " Min.   :0.600   Diesel:1861   no : 371     Min.   :1990  \n",
       " 1st Qu.:1.800   Gas   : 590   yes:3654     1st Qu.:2003  \n",
       " Median :2.200   Other : 106                Median :2007  \n",
       " Mean   :2.451   Petrol:1468                Mean   :2006  \n",
       " 3rd Qu.:3.000                              3rd Qu.:2012  \n",
       " Max.   :4.800                              Max.   :2016  \n",
       "                                                          "
      ]
     },
     "metadata": {},
     "output_type": "display_data"
    }
   ],
   "source": [
    "##SUMMARY OF VARIABLES IN THE DATASET; STATISTICAL SUMMARY OF CONTINOUS VARIABLES AND VALUE COUNTS OF CATAGOTICAL VARIABLES\n",
    "summary(data)"
   ]
  },
  {
   "cell_type": "markdown",
   "metadata": {},
   "source": [
    "# Price is the Dependent / Predicted variable"
   ]
  },
  {
   "cell_type": "markdown",
   "metadata": {},
   "source": [
    "### Assumption 1.  All Independent Variables Must have a linear relationship with the Dependent  Variable\n",
    "### Assumption 2. There should be no Multicollinarity : The Independent variables should not have correlation among themseleves¶"
   ]
  },
  {
   "cell_type": "code",
   "execution_count": 228,
   "metadata": {},
   "outputs": [],
   "source": [
    "## INSTALLING LIBRARY TO PLOT CORRELATION PLOT\n",
    "\n",
    "##install.packages(\"ggcorrplot\")"
   ]
  },
  {
   "cell_type": "code",
   "execution_count": 229,
   "metadata": {},
   "outputs": [],
   "source": [
    "library(\"ggcorrplot\")\n"
   ]
  },
  {
   "cell_type": "code",
   "execution_count": 230,
   "metadata": {},
   "outputs": [],
   "source": [
    "## STORING ALL CONTINOUS INTO DATAFRAME \"df\"\n",
    "\n",
    "df <- data %>% select(Price,Mileage,EngineV,Year)"
   ]
  },
  {
   "cell_type": "code",
   "execution_count": 231,
   "metadata": {},
   "outputs": [],
   "source": [
    "## STORING CORRELATION BETWEEN VARIABLES INTO DATAFRAME \"df\"\n",
    "\n",
    "corr <- round(cor(df), 1)"
   ]
  },
  {
   "cell_type": "code",
   "execution_count": 232,
   "metadata": {},
   "outputs": [
    {
     "data": {
      "text/html": [
       "<table>\n",
       "<thead><tr><th></th><th scope=col>Price</th><th scope=col>Mileage</th><th scope=col>EngineV</th><th scope=col>Year</th></tr></thead>\n",
       "<tbody>\n",
       "\t<tr><th scope=row>Price</th><td> 1.0</td><td>-0.6</td><td>0.5 </td><td> 0.7</td></tr>\n",
       "\t<tr><th scope=row>Mileage</th><td>-0.6</td><td> 1.0</td><td>0.0 </td><td>-0.7</td></tr>\n",
       "\t<tr><th scope=row>EngineV</th><td> 0.5</td><td> 0.0</td><td>1.0 </td><td> 0.0</td></tr>\n",
       "\t<tr><th scope=row>Year</th><td> 0.7</td><td>-0.7</td><td>0.0 </td><td> 1.0</td></tr>\n",
       "</tbody>\n",
       "</table>\n"
      ],
      "text/latex": [
       "\\begin{tabular}{r|llll}\n",
       "  & Price & Mileage & EngineV & Year\\\\\n",
       "\\hline\n",
       "\tPrice &  1.0 & -0.6 & 0.5  &  0.7\\\\\n",
       "\tMileage & -0.6 &  1.0 & 0.0  & -0.7\\\\\n",
       "\tEngineV &  0.5 &  0.0 & 1.0  &  0.0\\\\\n",
       "\tYear &  0.7 & -0.7 & 0.0  &  1.0\\\\\n",
       "\\end{tabular}\n"
      ],
      "text/markdown": [
       "\n",
       "| <!--/--> | Price | Mileage | EngineV | Year |\n",
       "|---|---|---|---|---|\n",
       "| Price |  1.0 | -0.6 | 0.5  |  0.7 |\n",
       "| Mileage | -0.6 |  1.0 | 0.0  | -0.7 |\n",
       "| EngineV |  0.5 |  0.0 | 1.0  |  0.0 |\n",
       "| Year |  0.7 | -0.7 | 0.0  |  1.0 |\n",
       "\n"
      ],
      "text/plain": [
       "        Price Mileage EngineV Year\n",
       "Price    1.0  -0.6    0.5      0.7\n",
       "Mileage -0.6   1.0    0.0     -0.7\n",
       "EngineV  0.5   0.0    1.0      0.0\n",
       "Year     0.7  -0.7    0.0      1.0"
      ]
     },
     "metadata": {},
     "output_type": "display_data"
    }
   ],
   "source": [
    "corr"
   ]
  },
  {
   "cell_type": "code",
   "execution_count": 233,
   "metadata": {},
   "outputs": [
    {
     "data": {
      "image/png": "[encoded data removed]",
      "text/plain": [
       "plot without title"
      ]
     },
     "metadata": {},
     "output_type": "display_data"
    }
   ],
   "source": [
    "## USING ggcorrplot TO PLOT CORRELATION MATRIX\n",
    "\n",
    "ggcorrplot(corr,lab=TRUE,type='lower',colors = c(\"#6D9EC1\", \"white\", \"#E46726\"))"
   ]
  },
  {
   "cell_type": "code",
   "execution_count": 234,
   "metadata": {},
   "outputs": [
    {
     "data": {
      "text/html": [
       "<ol class=list-inline>\n",
       "\t<li>4025</li>\n",
       "\t<li>8</li>\n",
       "</ol>\n"
      ],
      "text/latex": [
       "\\begin{enumerate*}\n",
       "\\item 4025\n",
       "\\item 8\n",
       "\\end{enumerate*}\n"
      ],
      "text/markdown": [
       "1. 4025\n",
       "2. 8\n",
       "\n",
       "\n"
      ],
      "text/plain": [
       "[1] 4025    8"
      ]
     },
     "metadata": {},
     "output_type": "display_data"
    }
   ],
   "source": [
    "dim(data)"
   ]
  },
  {
   "cell_type": "code",
   "execution_count": 235,
   "metadata": {},
   "outputs": [],
   "source": [
    "## SPLITTING DATA INTO TEST AND TRAIN DATA\n",
    "data_train = slice(data, 1:3000)\n",
    "data_test = slice(data, 3001:4025)"
   ]
  },
  {
   "cell_type": "code",
   "execution_count": 236,
   "metadata": {},
   "outputs": [
    {
     "data": {
      "text/html": [
       "<table>\n",
       "<thead><tr><th scope=col>Price</th><th scope=col>Brand</th><th scope=col>Body</th><th scope=col>Mileage</th><th scope=col>EngineV</th><th scope=col>Engine.Type</th><th scope=col>Registration</th><th scope=col>Year</th></tr></thead>\n",
       "<tbody>\n",
       "\t<tr><td> 4200        </td><td>BMW          </td><td>sedan        </td><td>277          </td><td>2.0          </td><td>Petrol       </td><td>yes          </td><td>1991         </td></tr>\n",
       "\t<tr><td> 7900        </td><td>Mercedes-Benz</td><td>van          </td><td>427          </td><td>2.9          </td><td>Diesel       </td><td>yes          </td><td>1999         </td></tr>\n",
       "\t<tr><td>13300        </td><td>Mercedes-Benz</td><td>sedan        </td><td>358          </td><td>4.7          </td><td>Gas          </td><td>yes          </td><td>2003         </td></tr>\n",
       "\t<tr><td>23000        </td><td>Audi         </td><td>crossover    </td><td>240          </td><td>4.2          </td><td>Petrol       </td><td>yes          </td><td>2007         </td></tr>\n",
       "\t<tr><td>18300        </td><td>Toyota       </td><td>crossover    </td><td>120          </td><td>2.0          </td><td>Petrol       </td><td>yes          </td><td>2011         </td></tr>\n",
       "\t<tr><td>40996        </td><td>Mercedes-Benz</td><td>crossover    </td><td>  0          </td><td>4.7          </td><td>Petrol       </td><td>yes          </td><td>2016         </td></tr>\n",
       "</tbody>\n",
       "</table>\n"
      ],
      "text/latex": [
       "\\begin{tabular}{r|llllllll}\n",
       " Price & Brand & Body & Mileage & EngineV & Engine.Type & Registration & Year\\\\\n",
       "\\hline\n",
       "\t  4200         & BMW           & sedan         & 277           & 2.0           & Petrol        & yes           & 1991         \\\\\n",
       "\t  7900         & Mercedes-Benz & van           & 427           & 2.9           & Diesel        & yes           & 1999         \\\\\n",
       "\t 13300         & Mercedes-Benz & sedan         & 358           & 4.7           & Gas           & yes           & 2003         \\\\\n",
       "\t 23000         & Audi          & crossover     & 240           & 4.2           & Petrol        & yes           & 2007         \\\\\n",
       "\t 18300         & Toyota        & crossover     & 120           & 2.0           & Petrol        & yes           & 2011         \\\\\n",
       "\t 40996         & Mercedes-Benz & crossover     &   0           & 4.7           & Petrol        & yes           & 2016         \\\\\n",
       "\\end{tabular}\n"
      ],
      "text/markdown": [
       "\n",
       "| Price | Brand | Body | Mileage | EngineV | Engine.Type | Registration | Year |\n",
       "|---|---|---|---|---|---|---|---|\n",
       "|  4200         | BMW           | sedan         | 277           | 2.0           | Petrol        | yes           | 1991          |\n",
       "|  7900         | Mercedes-Benz | van           | 427           | 2.9           | Diesel        | yes           | 1999          |\n",
       "| 13300         | Mercedes-Benz | sedan         | 358           | 4.7           | Gas           | yes           | 2003          |\n",
       "| 23000         | Audi          | crossover     | 240           | 4.2           | Petrol        | yes           | 2007          |\n",
       "| 18300         | Toyota        | crossover     | 120           | 2.0           | Petrol        | yes           | 2011          |\n",
       "| 40996         | Mercedes-Benz | crossover     |   0           | 4.7           | Petrol        | yes           | 2016          |\n",
       "\n"
      ],
      "text/plain": [
       "  Price Brand         Body      Mileage EngineV Engine.Type Registration Year\n",
       "1  4200 BMW           sedan     277     2.0     Petrol      yes          1991\n",
       "2  7900 Mercedes-Benz van       427     2.9     Diesel      yes          1999\n",
       "3 13300 Mercedes-Benz sedan     358     4.7     Gas         yes          2003\n",
       "4 23000 Audi          crossover 240     4.2     Petrol      yes          2007\n",
       "5 18300 Toyota        crossover 120     2.0     Petrol      yes          2011\n",
       "6 40996 Mercedes-Benz crossover   0     4.7     Petrol      yes          2016"
      ]
     },
     "metadata": {},
     "output_type": "display_data"
    }
   ],
   "source": [
    "head(data)"
   ]
  },
  {
   "cell_type": "markdown",
   "metadata": {},
   "source": [
    "## MODEL I : WITHOUT CATAGORICAL VARIABLES"
   ]
  },
  {
   "cell_type": "code",
   "execution_count": 237,
   "metadata": {},
   "outputs": [],
   "source": [
    "## BUILDING MODEL WITHOUT CATAGORICAL VARIABLE\n",
    "model_1 <- lm(Price~Mileage+EngineV+Year, data = data_train)"
   ]
  },
  {
   "cell_type": "code",
   "execution_count": 238,
   "metadata": {},
   "outputs": [
    {
     "data": {
      "text/plain": [
       "\n",
       "Call:\n",
       "lm(formula = Price ~ Mileage + EngineV + Year, data = data_train)\n",
       "\n",
       "Residuals:\n",
       "   Min     1Q Median     3Q    Max \n",
       "-25380  -4683  -1044   3911  30801 \n",
       "\n",
       "Coefficients:\n",
       "              Estimate Std. Error t value Pr(>|t|)    \n",
       "(Intercept) -1.787e+06  5.629e+04  -31.75   <2e-16 ***\n",
       "Mileage     -3.150e+01  1.801e+00  -17.49   <2e-16 ***\n",
       "EngineV      5.685e+03  1.384e+02   41.08   <2e-16 ***\n",
       "Year         8.940e+02  2.795e+01   31.99   <2e-16 ***\n",
       "---\n",
       "Signif. codes:  0 '***' 0.001 '**' 0.01 '*' 0.05 '.' 0.1 ' ' 1\n",
       "\n",
       "Residual standard error: 6848 on 2996 degrees of freedom\n",
       "Multiple R-squared:  0.6681,\tAdjusted R-squared:  0.6677 \n",
       "F-statistic:  2010 on 3 and 2996 DF,  p-value: < 2.2e-16\n"
      ]
     },
     "metadata": {},
     "output_type": "display_data"
    }
   ],
   "source": [
    "## SUMMARY OF MODEL\n",
    "summary(model_1)"
   ]
  },
  {
   "cell_type": "code",
   "execution_count": 239,
   "metadata": {},
   "outputs": [
    {
     "data": {
      "text/plain": [
       "\n",
       "Call:\n",
       "lm(formula = Price ~ Mileage + EngineV + Year, data = data_train)\n",
       "\n",
       "Coefficients:\n",
       "(Intercept)      Mileage      EngineV         Year  \n",
       " -1786995.8        -31.5       5685.1        894.0  \n"
      ]
     },
     "metadata": {},
     "output_type": "display_data"
    }
   ],
   "source": [
    "model_1"
   ]
  },
  {
   "cell_type": "code",
   "execution_count": 240,
   "metadata": {},
   "outputs": [],
   "source": [
    "#Predicting values\n",
    "predicted_price <- predict(model_1,newdata =data_test)\n",
    "\n",
    "#coverting into df\n",
    "predicted_price = as.data.frame.vector(predicted_price)"
   ]
  },
  {
   "cell_type": "code",
   "execution_count": 241,
   "metadata": {},
   "outputs": [
    {
     "data": {
      "text/html": [
       "<table>\n",
       "<thead><tr><th scope=col>predicted_price</th></tr></thead>\n",
       "<tbody>\n",
       "\t<tr><td>27480.57</td></tr>\n",
       "\t<tr><td>20269.88</td></tr>\n",
       "\t<tr><td>11016.15</td></tr>\n",
       "\t<tr><td>18891.39</td></tr>\n",
       "\t<tr><td>19467.44</td></tr>\n",
       "\t<tr><td>22684.97</td></tr>\n",
       "</tbody>\n",
       "</table>\n"
      ],
      "text/latex": [
       "\\begin{tabular}{r|l}\n",
       " predicted\\_price\\\\\n",
       "\\hline\n",
       "\t 27480.57\\\\\n",
       "\t 20269.88\\\\\n",
       "\t 11016.15\\\\\n",
       "\t 18891.39\\\\\n",
       "\t 19467.44\\\\\n",
       "\t 22684.97\\\\\n",
       "\\end{tabular}\n"
      ],
      "text/markdown": [
       "\n",
       "| predicted_price |\n",
       "|---|\n",
       "| 27480.57 |\n",
       "| 20269.88 |\n",
       "| 11016.15 |\n",
       "| 18891.39 |\n",
       "| 19467.44 |\n",
       "| 22684.97 |\n",
       "\n"
      ],
      "text/plain": [
       "  predicted_price\n",
       "1 27480.57       \n",
       "2 20269.88       \n",
       "3 11016.15       \n",
       "4 18891.39       \n",
       "5 19467.44       \n",
       "6 22684.97       "
      ]
     },
     "metadata": {},
     "output_type": "display_data"
    }
   ],
   "source": [
    "head(predicted_price)"
   ]
  },
  {
   "cell_type": "code",
   "execution_count": 242,
   "metadata": {},
   "outputs": [],
   "source": [
    "library(car)"
   ]
  },
  {
   "cell_type": "code",
   "execution_count": 243,
   "metadata": {},
   "outputs": [
    {
     "data": {
      "text/html": [
       "<dl class=dl-horizontal>\n",
       "\t<dt>Mileage</dt>\n",
       "\t\t<dd>2.00690683649501</dd>\n",
       "\t<dt>EngineV</dt>\n",
       "\t\t<dd>1.00028917156148</dd>\n",
       "\t<dt>Year</dt>\n",
       "\t\t<dd>2.00669540123193</dd>\n",
       "</dl>\n"
      ],
      "text/latex": [
       "\\begin{description*}\n",
       "\\item[Mileage] 2.00690683649501\n",
       "\\item[EngineV] 1.00028917156148\n",
       "\\item[Year] 2.00669540123193\n",
       "\\end{description*}\n"
      ],
      "text/markdown": [
       "Mileage\n",
       ":   2.00690683649501EngineV\n",
       ":   1.00028917156148Year\n",
       ":   2.00669540123193\n",
       "\n"
      ],
      "text/plain": [
       " Mileage  EngineV     Year \n",
       "2.006907 1.000289 2.006695 "
      ]
     },
     "metadata": {},
     "output_type": "display_data"
    }
   ],
   "source": [
    "vif(model_1)"
   ]
  },
  {
   "cell_type": "code",
   "execution_count": 244,
   "metadata": {},
   "outputs": [],
   "source": [
    "actual_price = data_test$Price\n",
    "actual_price = as.data.frame.vector(actual_price)"
   ]
  },
  {
   "cell_type": "code",
   "execution_count": 245,
   "metadata": {},
   "outputs": [
    {
     "data": {
      "text/html": [
       "<table>\n",
       "<thead><tr><th scope=col>actual_price</th></tr></thead>\n",
       "<tbody>\n",
       "\t<tr><td>36700</td></tr>\n",
       "\t<tr><td>25500</td></tr>\n",
       "\t<tr><td> 9300</td></tr>\n",
       "\t<tr><td>11299</td></tr>\n",
       "\t<tr><td>12900</td></tr>\n",
       "\t<tr><td>23600</td></tr>\n",
       "</tbody>\n",
       "</table>\n"
      ],
      "text/latex": [
       "\\begin{tabular}{r|l}\n",
       " actual\\_price\\\\\n",
       "\\hline\n",
       "\t 36700\\\\\n",
       "\t 25500\\\\\n",
       "\t  9300\\\\\n",
       "\t 11299\\\\\n",
       "\t 12900\\\\\n",
       "\t 23600\\\\\n",
       "\\end{tabular}\n"
      ],
      "text/markdown": [
       "\n",
       "| actual_price |\n",
       "|---|\n",
       "| 36700 |\n",
       "| 25500 |\n",
       "|  9300 |\n",
       "| 11299 |\n",
       "| 12900 |\n",
       "| 23600 |\n",
       "\n"
      ],
      "text/plain": [
       "  actual_price\n",
       "1 36700       \n",
       "2 25500       \n",
       "3  9300       \n",
       "4 11299       \n",
       "5 12900       \n",
       "6 23600       "
      ]
     },
     "metadata": {},
     "output_type": "display_data"
    }
   ],
   "source": [
    "head(actual_price)"
   ]
  },
  {
   "cell_type": "code",
   "execution_count": 260,
   "metadata": {},
   "outputs": [],
   "source": [
    "## DEFINING FUNCTION FOR MSE\n",
    "\n",
    "mse <- function(predicted,actual,n)\n",
    "{\n",
    "    mse = sum(((actual-predicted)/n)^2)\n",
    "    return (mse)\n",
    "}"
   ]
  },
  {
   "cell_type": "code",
   "execution_count": 247,
   "metadata": {},
   "outputs": [
    {
     "data": {
      "text/html": [
       "<ol class=list-inline>\n",
       "\t<li>1025</li>\n",
       "\t<li>8</li>\n",
       "</ol>\n"
      ],
      "text/latex": [
       "\\begin{enumerate*}\n",
       "\\item 1025\n",
       "\\item 8\n",
       "\\end{enumerate*}\n"
      ],
      "text/markdown": [
       "1. 1025\n",
       "2. 8\n",
       "\n",
       "\n"
      ],
      "text/plain": [
       "[1] 1025    8"
      ]
     },
     "metadata": {},
     "output_type": "display_data"
    }
   ],
   "source": [
    "dim(data_test)"
   ]
  },
  {
   "cell_type": "code",
   "execution_count": 248,
   "metadata": {},
   "outputs": [],
   "source": [
    "## USING FUNCTION \"MSE\" FOR CALCULATING MEAN SQUARED ERROR\n",
    "mse=round(mse(predicted_price,actual_price,1025))"
   ]
  },
  {
   "cell_type": "code",
   "execution_count": 249,
   "metadata": {},
   "outputs": [
    {
     "data": {
      "text/html": [
       "45453"
      ],
      "text/latex": [
       "45453"
      ],
      "text/markdown": [
       "45453"
      ],
      "text/plain": [
       "[1] 45453"
      ]
     },
     "metadata": {},
     "output_type": "display_data"
    }
   ],
   "source": [
    "mse"
   ]
  },
  {
   "cell_type": "code",
   "execution_count": 250,
   "metadata": {},
   "outputs": [
    {
     "data": {
      "text/html": [
       "213"
      ],
      "text/latex": [
       "213"
      ],
      "text/markdown": [
       "213"
      ],
      "text/plain": [
       "[1] 213"
      ]
     },
     "metadata": {},
     "output_type": "display_data"
    }
   ],
   "source": [
    "rmse=round(sqrt(mse))\n",
    "rmse"
   ]
  },
  {
   "cell_type": "markdown",
   "metadata": {},
   "source": [
    "# MODEL II : INCLUDING CATAGORICAL VARIABLES"
   ]
  },
  {
   "cell_type": "code",
   "execution_count": 251,
   "metadata": {},
   "outputs": [
    {
     "data": {
      "text/html": [
       "<ol class=list-inline>\n",
       "\t<li>'Price'</li>\n",
       "\t<li>'Brand'</li>\n",
       "\t<li>'Body'</li>\n",
       "\t<li>'Mileage'</li>\n",
       "\t<li>'EngineV'</li>\n",
       "\t<li>'Engine.Type'</li>\n",
       "\t<li>'Registration'</li>\n",
       "\t<li>'Year'</li>\n",
       "</ol>\n"
      ],
      "text/latex": [
       "\\begin{enumerate*}\n",
       "\\item 'Price'\n",
       "\\item 'Brand'\n",
       "\\item 'Body'\n",
       "\\item 'Mileage'\n",
       "\\item 'EngineV'\n",
       "\\item 'Engine.Type'\n",
       "\\item 'Registration'\n",
       "\\item 'Year'\n",
       "\\end{enumerate*}\n"
      ],
      "text/markdown": [
       "1. 'Price'\n",
       "2. 'Brand'\n",
       "3. 'Body'\n",
       "4. 'Mileage'\n",
       "5. 'EngineV'\n",
       "6. 'Engine.Type'\n",
       "7. 'Registration'\n",
       "8. 'Year'\n",
       "\n",
       "\n"
      ],
      "text/plain": [
       "[1] \"Price\"        \"Brand\"        \"Body\"         \"Mileage\"      \"EngineV\"     \n",
       "[6] \"Engine.Type\"  \"Registration\" \"Year\"        "
      ]
     },
     "metadata": {},
     "output_type": "display_data"
    }
   ],
   "source": [
    "names(data)"
   ]
  },
  {
   "cell_type": "code",
   "execution_count": 252,
   "metadata": {},
   "outputs": [],
   "source": [
    "model_2 <- lm(Price~Brand+Body+Mileage+EngineV+Engine.Type+Registration+Year, data = data_train)"
   ]
  },
  {
   "cell_type": "code",
   "execution_count": 253,
   "metadata": {},
   "outputs": [
    {
     "data": {
      "text/plain": [
       "\n",
       "Call:\n",
       "lm(formula = Price ~ Brand + Body + Mileage + EngineV + Engine.Type + \n",
       "    Registration + Year, data = data_train)\n",
       "\n",
       "Residuals:\n",
       "     Min       1Q   Median       3Q      Max \n",
       "-27186.4  -3659.9   -774.8   3184.2  28398.0 \n",
       "\n",
       "Coefficients:\n",
       "                     Estimate Std. Error t value Pr(>|t|)    \n",
       "(Intercept)        -1.626e+06  4.988e+04 -32.609  < 2e-16 ***\n",
       "BrandBMW            9.654e+02  4.144e+02   2.329 0.019902 *  \n",
       "BrandMercedes-Benz -5.403e+01  4.016e+02  -0.135 0.892972    \n",
       "BrandMitsubishi    -8.191e+03  4.993e+02 -16.404  < 2e-16 ***\n",
       "BrandRenault       -9.264e+03  4.712e+02 -19.659  < 2e-16 ***\n",
       "BrandToyota        -4.373e+03  4.462e+02  -9.800  < 2e-16 ***\n",
       "BrandVolkswagen    -4.260e+03  4.001e+02 -10.649  < 2e-16 ***\n",
       "Bodyhatch          -5.736e+03  5.195e+02 -11.042  < 2e-16 ***\n",
       "Bodyother          -4.208e+03  4.203e+02 -10.011  < 2e-16 ***\n",
       "Bodysedan          -5.006e+03  3.235e+02 -15.473  < 2e-16 ***\n",
       "Bodyvagon          -5.826e+03  4.645e+02 -12.544  < 2e-16 ***\n",
       "Bodyvan            -7.288e+03  4.183e+02 -17.425  < 2e-16 ***\n",
       "Mileage            -2.930e+01  1.590e+00 -18.435  < 2e-16 ***\n",
       "EngineV             3.176e+03  1.419e+02  22.386  < 2e-16 ***\n",
       "Engine.TypeGas     -2.935e+03  3.461e+02  -8.481  < 2e-16 ***\n",
       "Engine.TypeOther   -2.474e+03  6.462e+02  -3.828 0.000132 ***\n",
       "Engine.TypePetrol  -2.182e+03  2.729e+02  -7.998 1.79e-15 ***\n",
       "Registrationyes     6.840e+03  3.860e+02  17.720  < 2e-16 ***\n",
       "Year                8.181e+02  2.477e+01  33.028  < 2e-16 ***\n",
       "---\n",
       "Signif. codes:  0 '***' 0.001 '**' 0.01 '*' 0.05 '.' 0.1 ' ' 1\n",
       "\n",
       "Residual standard error: 5533 on 2981 degrees of freedom\n",
       "Multiple R-squared:  0.7844,\tAdjusted R-squared:  0.7831 \n",
       "F-statistic: 602.6 on 18 and 2981 DF,  p-value: < 2.2e-16\n"
      ]
     },
     "metadata": {},
     "output_type": "display_data"
    }
   ],
   "source": [
    "summary(model_2)"
   ]
  },
  {
   "cell_type": "code",
   "execution_count": 254,
   "metadata": {},
   "outputs": [
    {
     "data": {
      "text/plain": [
       "\n",
       "Call:\n",
       "lm(formula = Price ~ Brand + Body + Mileage + EngineV + Engine.Type + \n",
       "    Registration + Year, data = data_train)\n",
       "\n",
       "Coefficients:\n",
       "       (Intercept)            BrandBMW  BrandMercedes-Benz     BrandMitsubishi  \n",
       "        -1.626e+06           9.654e+02          -5.403e+01          -8.191e+03  \n",
       "      BrandRenault         BrandToyota     BrandVolkswagen           Bodyhatch  \n",
       "        -9.264e+03          -4.373e+03          -4.260e+03          -5.736e+03  \n",
       "         Bodyother           Bodysedan           Bodyvagon             Bodyvan  \n",
       "        -4.208e+03          -5.006e+03          -5.826e+03          -7.288e+03  \n",
       "           Mileage             EngineV      Engine.TypeGas    Engine.TypeOther  \n",
       "        -2.930e+01           3.176e+03          -2.935e+03          -2.474e+03  \n",
       " Engine.TypePetrol     Registrationyes                Year  \n",
       "        -2.182e+03           6.840e+03           8.181e+02  \n"
      ]
     },
     "metadata": {},
     "output_type": "display_data"
    }
   ],
   "source": [
    "model_2"
   ]
  },
  {
   "cell_type": "code",
   "execution_count": 255,
   "metadata": {},
   "outputs": [],
   "source": [
    "#Predicting values\n",
    "predicted_price <- predict(model_2,newdata = data_test[2:8])\n",
    "\n",
    "#coverting into df\n",
    "predicted_price = as.data.frame.vector(predicted_price)"
   ]
  },
  {
   "cell_type": "code",
   "execution_count": 256,
   "metadata": {},
   "outputs": [
    {
     "data": {
      "text/html": [
       "<table>\n",
       "<thead><tr><th scope=col>predicted_price</th></tr></thead>\n",
       "<tbody>\n",
       "\t<tr><td>30422.030</td></tr>\n",
       "\t<tr><td>26184.606</td></tr>\n",
       "\t<tr><td> 9108.248</td></tr>\n",
       "\t<tr><td>18759.529</td></tr>\n",
       "\t<tr><td>18414.859</td></tr>\n",
       "\t<tr><td>19075.932</td></tr>\n",
       "</tbody>\n",
       "</table>\n"
      ],
      "text/latex": [
       "\\begin{tabular}{r|l}\n",
       " predicted\\_price\\\\\n",
       "\\hline\n",
       "\t 30422.030\\\\\n",
       "\t 26184.606\\\\\n",
       "\t  9108.248\\\\\n",
       "\t 18759.529\\\\\n",
       "\t 18414.859\\\\\n",
       "\t 19075.932\\\\\n",
       "\\end{tabular}\n"
      ],
      "text/markdown": [
       "\n",
       "| predicted_price |\n",
       "|---|\n",
       "| 30422.030 |\n",
       "| 26184.606 |\n",
       "|  9108.248 |\n",
       "| 18759.529 |\n",
       "| 18414.859 |\n",
       "| 19075.932 |\n",
       "\n"
      ],
      "text/plain": [
       "  predicted_price\n",
       "1 30422.030      \n",
       "2 26184.606      \n",
       "3  9108.248      \n",
       "4 18759.529      \n",
       "5 18414.859      \n",
       "6 19075.932      "
      ]
     },
     "metadata": {},
     "output_type": "display_data"
    }
   ],
   "source": [
    "head(predicted_price)"
   ]
  },
  {
   "cell_type": "code",
   "execution_count": 257,
   "metadata": {},
   "outputs": [
    {
     "data": {
      "text/html": [
       "<table>\n",
       "<thead><tr><th></th><th scope=col>GVIF</th><th scope=col>Df</th><th scope=col>GVIF^(1/(2*Df))</th></tr></thead>\n",
       "<tbody>\n",
       "\t<tr><th scope=row>Brand</th><td>2.206532</td><td>6       </td><td>1.068175</td></tr>\n",
       "\t<tr><th scope=row>Body</th><td>2.732900</td><td>5       </td><td>1.105764</td></tr>\n",
       "\t<tr><th scope=row>Mileage</th><td>2.394812</td><td>1       </td><td>1.547518</td></tr>\n",
       "\t<tr><th scope=row>EngineV</th><td>1.611154</td><td>1       </td><td>1.269312</td></tr>\n",
       "\t<tr><th scope=row>Engine.Type</th><td>1.756799</td><td>3       </td><td>1.098467</td></tr>\n",
       "\t<tr><th scope=row>Registration</th><td>1.203961</td><td>1       </td><td>1.097251</td></tr>\n",
       "\t<tr><th scope=row>Year</th><td>2.414859</td><td>1       </td><td>1.553982</td></tr>\n",
       "</tbody>\n",
       "</table>\n"
      ],
      "text/latex": [
       "\\begin{tabular}{r|lll}\n",
       "  & GVIF & Df & GVIF\\textasciicircum{}(1/(2*Df))\\\\\n",
       "\\hline\n",
       "\tBrand & 2.206532 & 6        & 1.068175\\\\\n",
       "\tBody & 2.732900 & 5        & 1.105764\\\\\n",
       "\tMileage & 2.394812 & 1        & 1.547518\\\\\n",
       "\tEngineV & 1.611154 & 1        & 1.269312\\\\\n",
       "\tEngine.Type & 1.756799 & 3        & 1.098467\\\\\n",
       "\tRegistration & 1.203961 & 1        & 1.097251\\\\\n",
       "\tYear & 2.414859 & 1        & 1.553982\\\\\n",
       "\\end{tabular}\n"
      ],
      "text/markdown": [
       "\n",
       "| <!--/--> | GVIF | Df | GVIF^(1/(2*Df)) |\n",
       "|---|---|---|---|\n",
       "| Brand | 2.206532 | 6        | 1.068175 |\n",
       "| Body | 2.732900 | 5        | 1.105764 |\n",
       "| Mileage | 2.394812 | 1        | 1.547518 |\n",
       "| EngineV | 1.611154 | 1        | 1.269312 |\n",
       "| Engine.Type | 1.756799 | 3        | 1.098467 |\n",
       "| Registration | 1.203961 | 1        | 1.097251 |\n",
       "| Year | 2.414859 | 1        | 1.553982 |\n",
       "\n"
      ],
      "text/plain": [
       "             GVIF     Df GVIF^(1/(2*Df))\n",
       "Brand        2.206532 6  1.068175       \n",
       "Body         2.732900 5  1.105764       \n",
       "Mileage      2.394812 1  1.547518       \n",
       "EngineV      1.611154 1  1.269312       \n",
       "Engine.Type  1.756799 3  1.098467       \n",
       "Registration 1.203961 1  1.097251       \n",
       "Year         2.414859 1  1.553982       "
      ]
     },
     "metadata": {},
     "output_type": "display_data"
    }
   ],
   "source": [
    "vif(model_2)"
   ]
  },
  {
   "cell_type": "code",
   "execution_count": 258,
   "metadata": {},
   "outputs": [
    {
     "data": {
      "text/html": [
       "<table>\n",
       "<thead><tr><th scope=col>actual_price</th></tr></thead>\n",
       "<tbody>\n",
       "\t<tr><td>36700</td></tr>\n",
       "\t<tr><td>25500</td></tr>\n",
       "\t<tr><td> 9300</td></tr>\n",
       "\t<tr><td>11299</td></tr>\n",
       "\t<tr><td>12900</td></tr>\n",
       "\t<tr><td>23600</td></tr>\n",
       "</tbody>\n",
       "</table>\n"
      ],
      "text/latex": [
       "\\begin{tabular}{r|l}\n",
       " actual\\_price\\\\\n",
       "\\hline\n",
       "\t 36700\\\\\n",
       "\t 25500\\\\\n",
       "\t  9300\\\\\n",
       "\t 11299\\\\\n",
       "\t 12900\\\\\n",
       "\t 23600\\\\\n",
       "\\end{tabular}\n"
      ],
      "text/markdown": [
       "\n",
       "| actual_price |\n",
       "|---|\n",
       "| 36700 |\n",
       "| 25500 |\n",
       "|  9300 |\n",
       "| 11299 |\n",
       "| 12900 |\n",
       "| 23600 |\n",
       "\n"
      ],
      "text/plain": [
       "  actual_price\n",
       "1 36700       \n",
       "2 25500       \n",
       "3  9300       \n",
       "4 11299       \n",
       "5 12900       \n",
       "6 23600       "
      ]
     },
     "metadata": {},
     "output_type": "display_data"
    }
   ],
   "source": [
    "actual_price = data_test$Price\n",
    "actual_price = as.data.frame.vector(actual_price)\n",
    "head(actual_price)"
   ]
  },
  {
   "cell_type": "code",
   "execution_count": 261,
   "metadata": {},
   "outputs": [],
   "source": [
    "## USING FUNCTION \"MSE\" FOR CALCULATING MEAN SQUARED ERROR\n",
    "mse_model2=round(mse(predicted_price,actual_price,1025))"
   ]
  },
  {
   "cell_type": "code",
   "execution_count": 262,
   "metadata": {},
   "outputs": [
    {
     "data": {
      "text/html": [
       "30277"
      ],
      "text/latex": [
       "30277"
      ],
      "text/markdown": [
       "30277"
      ],
      "text/plain": [
       "[1] 30277"
      ]
     },
     "metadata": {},
     "output_type": "display_data"
    }
   ],
   "source": [
    "mse_model2"
   ]
  },
  {
   "cell_type": "code",
   "execution_count": 263,
   "metadata": {},
   "outputs": [
    {
     "data": {
      "text/html": [
       "174"
      ],
      "text/latex": [
       "174"
      ],
      "text/markdown": [
       "174"
      ],
      "text/plain": [
       "[1] 174"
      ]
     },
     "metadata": {},
     "output_type": "display_data"
    }
   ],
   "source": [
    "rmse_model2 = round(sqrt(mse_model2))\n",
    "rmse_model2"
   ]
  },
  {
   "cell_type": "code",
   "execution_count": null,
   "metadata": {},
   "outputs": [],
   "source": []
  },
  {
   "cell_type": "code",
   "execution_count": null,
   "metadata": {},
   "outputs": [],
   "source": []
  }
 ],
 "metadata": {
  "kernelspec": {
   "display_name": "R",
   "language": "R",
   "name": "ir"
  },
  "language_info": {
   "codemirror_mode": "r",
   "file_extension": ".r",
   "mimetype": "text/x-r-source",
   "name": "R",
   "pygments_lexer": "r",
   "version": "3.6.1"
  },
  "toc": {
   "base_numbering": 1,
   "nav_menu": {},
   "number_sections": true,
   "sideBar": true,
   "skip_h1_title": false,
   "title_cell": "Table of Contents",
   "title_sidebar": "Contents",
   "toc_cell": false,
   "toc_position": {},
   "toc_section_display": true,
   "toc_window_display": false
  }
 },
 "nbformat": 4,
 "nbformat_minor": 2
}
