{
 "cells": [
  {
   "cell_type": "markdown",
   "metadata": {},
   "source": [
    "# LINEAR REGRESSION\n",
    "\n",
    "The workhorse of statistical analysis is the linear model, particularly regression. Invented by Francis Galton to study relationship between parents and children described as regressing to the mean, it has become one of the most widely used modeling techniques. In this tutorial, we will focus on simple linear regression.\n",
    "\n",
    "SIMPLE LINEAR REGRESSION\n",
    "\n",
    "The simple linear regression determines the relationship between two variables. That is we are using one variable to tell us what we can expect from the other variable. The outcome variable, what we are trying to predict, is called the response variable, and the input variable, what we are using to predict, is called the predictor variable. The general idea of the simple linear regression is to use the predictor to come up with some average value of the response. The relationship is defined as: y = a + bx + E, where a is the intercept; and b is the slope; E is the error term; x is the predictor variable; and y is the outcome/response variable. The equation describes is essentially a straight line that goes through the data where a is the y-intercept and b is the slope. First, install the required packages for our analysis."
   ]
  },
  {
   "cell_type": "code",
   "execution_count": 1,
   "metadata": {},
   "outputs": [
    {
     "name": "stderr",
     "output_type": "stream",
     "text": [
      "Updating HTML index of packages in '.Library'\n",
      "Making 'packages.html' ... done\n",
      "Updating HTML index of packages in '.Library'\n",
      "Making 'packages.html' ... done\n",
      "Updating HTML index of packages in '.Library'\n",
      "Making 'packages.html' ... done\n"
     ]
    }
   ],
   "source": [
    "install.packages(\"UsingR\")\n",
    "\n",
    "install.packages(\"ggcorrplot\")\n",
    "install.packages(\"car\")"
   ]
  },
  {
   "cell_type": "code",
   "execution_count": 20,
   "metadata": {},
   "outputs": [],
   "source": [
    "library(\"ggcorrplot\")\n",
    "library(car)\n",
    "library(\"tidyverse\")\n",
    "library(\"ggplot2\")\n",
    "# install usingR and ggplot2 packages; packages already installed; loading them using library()\n",
    "library(UsingR)\n",
    "library(broom) # helps to tidy up model outputs"
   ]
  },
  {
   "cell_type": "code",
   "execution_count": 3,
   "metadata": {},
   "outputs": [],
   "source": [
    "library(repr)\n",
    "options(repr.plot.width=5, repr.plot.height=3)"
   ]
  },
  {
   "cell_type": "markdown",
   "metadata": {},
   "source": [
    "The father.son data is Pearson’s data set on heights of fathers and their sons. The data set contains 1078 measurements of fathers’ heights and sons’ heights. Its class is a data.frame with 1078 observations on the following 2 variables: fheight for fathers’ heights in inches and sheight for sons’ heights in inches. This data set was used by Pearson to investigate regression. The above information can be found by just typing ?father.son. Alternatively, using the following commands can get you accustomed with the data set.\n",
    "\n"
   ]
  },
  {
   "cell_type": "code",
   "execution_count": 4,
   "metadata": {},
   "outputs": [
    {
     "data": {
      "text/html": [
       "<table>\n",
       "<thead><tr><th scope=col>fheight</th><th scope=col>sheight</th></tr></thead>\n",
       "<tbody>\n",
       "\t<tr><td>65.04851</td><td>59.77827</td></tr>\n",
       "\t<tr><td>63.25094</td><td>63.21404</td></tr>\n",
       "\t<tr><td>64.95532</td><td>63.34242</td></tr>\n",
       "\t<tr><td>65.75250</td><td>62.79238</td></tr>\n",
       "\t<tr><td>61.13723</td><td>64.28113</td></tr>\n",
       "</tbody>\n",
       "</table>\n"
      ],
      "text/latex": [
       "\\begin{tabular}{r|ll}\n",
       " fheight & sheight\\\\\n",
       "\\hline\n",
       "\t 65.04851 & 59.77827\\\\\n",
       "\t 63.25094 & 63.21404\\\\\n",
       "\t 64.95532 & 63.34242\\\\\n",
       "\t 65.75250 & 62.79238\\\\\n",
       "\t 61.13723 & 64.28113\\\\\n",
       "\\end{tabular}\n"
      ],
      "text/markdown": [
       "\n",
       "| fheight | sheight |\n",
       "|---|---|\n",
       "| 65.04851 | 59.77827 |\n",
       "| 63.25094 | 63.21404 |\n",
       "| 64.95532 | 63.34242 |\n",
       "| 65.75250 | 62.79238 |\n",
       "| 61.13723 | 64.28113 |\n",
       "\n"
      ],
      "text/plain": [
       "  fheight  sheight \n",
       "1 65.04851 59.77827\n",
       "2 63.25094 63.21404\n",
       "3 64.95532 63.34242\n",
       "4 65.75250 62.79238\n",
       "5 61.13723 64.28113"
      ]
     },
     "metadata": {},
     "output_type": "display_data"
    }
   ],
   "source": [
    "# The first 10 observation of our dataset using the print(head(data, n = 10)) function\n",
    "head(father.son, n = 5)"
   ]
  },
  {
   "cell_type": "code",
   "execution_count": 5,
   "metadata": {},
   "outputs": [
    {
     "data": {
      "text/html": [
       "<table>\n",
       "<thead><tr><th></th><th scope=col>fheight</th><th scope=col>sheight</th></tr></thead>\n",
       "<tbody>\n",
       "\t<tr><th scope=row>1074</th><td>66.99681</td><td>70.75232</td></tr>\n",
       "\t<tr><th scope=row>1075</th><td>71.33181</td><td>68.26774</td></tr>\n",
       "\t<tr><th scope=row>1076</th><td>71.78314</td><td>69.30589</td></tr>\n",
       "\t<tr><th scope=row>1077</th><td>70.73837</td><td>69.30199</td></tr>\n",
       "\t<tr><th scope=row>1078</th><td>70.30609</td><td>67.01500</td></tr>\n",
       "</tbody>\n",
       "</table>\n"
      ],
      "text/latex": [
       "\\begin{tabular}{r|ll}\n",
       "  & fheight & sheight\\\\\n",
       "\\hline\n",
       "\t1074 & 66.99681 & 70.75232\\\\\n",
       "\t1075 & 71.33181 & 68.26774\\\\\n",
       "\t1076 & 71.78314 & 69.30589\\\\\n",
       "\t1077 & 70.73837 & 69.30199\\\\\n",
       "\t1078 & 70.30609 & 67.01500\\\\\n",
       "\\end{tabular}\n"
      ],
      "text/markdown": [
       "\n",
       "| <!--/--> | fheight | sheight |\n",
       "|---|---|---|\n",
       "| 1074 | 66.99681 | 70.75232 |\n",
       "| 1075 | 71.33181 | 68.26774 |\n",
       "| 1076 | 71.78314 | 69.30589 |\n",
       "| 1077 | 70.73837 | 69.30199 |\n",
       "| 1078 | 70.30609 | 67.01500 |\n",
       "\n"
      ],
      "text/plain": [
       "     fheight  sheight \n",
       "1074 66.99681 70.75232\n",
       "1075 71.33181 68.26774\n",
       "1076 71.78314 69.30589\n",
       "1077 70.73837 69.30199\n",
       "1078 70.30609 67.01500"
      ]
     },
     "metadata": {},
     "output_type": "display_data"
    }
   ],
   "source": [
    "# The first 10 observation of our dataset using the print(head(data, n = 10)) function\n",
    "tail(father.son, n = 5)"
   ]
  },
  {
   "cell_type": "code",
   "execution_count": 6,
   "metadata": {},
   "outputs": [
    {
     "name": "stdout",
     "output_type": "stream",
     "text": [
      "'data.frame':\t1078 obs. of  2 variables:\n",
      " $ fheight: num  65 63.3 65 65.8 61.1 ...\n",
      " $ sheight: num  59.8 63.2 63.3 62.8 64.3 ...\n"
     ]
    }
   ],
   "source": [
    "str(father.son)"
   ]
  },
  {
   "cell_type": "code",
   "execution_count": 7,
   "metadata": {},
   "outputs": [
    {
     "data": {
      "text/plain": [
       "    fheight         sheight     \n",
       " Min.   :59.01   Min.   :58.51  \n",
       " 1st Qu.:65.79   1st Qu.:66.93  \n",
       " Median :67.77   Median :68.62  \n",
       " Mean   :67.69   Mean   :68.68  \n",
       " 3rd Qu.:69.60   3rd Qu.:70.47  \n",
       " Max.   :75.43   Max.   :78.36  "
      ]
     },
     "metadata": {},
     "output_type": "display_data"
    }
   ],
   "source": [
    "summary(father.son)"
   ]
  },
  {
   "cell_type": "markdown",
   "metadata": {},
   "source": [
    "We can visualize the distribution of fathers’ heights by dividing the x axis into bins and counting the number of observations in each bin. Histogram, geom_histogram in the ggplot2 package, displays the count with bars, while geom_freqpoly displays the counts with lines. Frequency polygons are more suitable when you want to compare the distribution across the levels of a categorical variable."
   ]
  },
  {
   "cell_type": "code",
   "execution_count": 8,
   "metadata": {},
   "outputs": [
    {
     "data": {
      "image/png": "[encoded data removed]",
      "text/plain": [
       "plot without title"
      ]
     },
     "metadata": {},
     "output_type": "display_data"
    }
   ],
   "source": [
    "# Histogram of father's height distribution\n",
    "ggplot(data = father.son, mapping = aes(x = fheight)) +\n",
    "  geom_histogram(bins = 30, fill = \"seagreen\") +\n",
    "  geom_freqpoly(bins = 30) +\n",
    "  ggtitle(\"Histogram of Father's Height\") +\n",
    "  theme(plot.title = element_text(hjust = 0.5)) "
   ]
  },
  {
   "cell_type": "code",
   "execution_count": 9,
   "metadata": {},
   "outputs": [
    {
     "data": {
      "image/png": "[encoded data removed]",
      "text/plain": [
       "plot without title"
      ]
     },
     "metadata": {},
     "output_type": "display_data"
    }
   ],
   "source": [
    "ggplot(data = father.son, mapping = aes(x = sheight)) +\n",
    "  geom_histogram(bins = 30, fill = \"seagreen\") +\n",
    "  geom_freqpoly(bins = 30) +\n",
    "  ggtitle(\"Histogram of Son's Height\") +\n",
    "  theme(plot.title = element_text(hjust = 0.5)) "
   ]
  },
  {
   "cell_type": "markdown",
   "metadata": {},
   "source": [
    "We can infer that both father’s height and son’s height seem to be normally distributed, according to the plotted histograms. We can extend our analysis by looking at how father’s height influences son’s height using simple linear regression.\n",
    "\n"
   ]
  },
  {
   "cell_type": "code",
   "execution_count": 10,
   "metadata": {},
   "outputs": [
    {
     "data": {
      "image/png": "[encoded data removed]",
      "text/plain": [
       "plot without title"
      ]
     },
     "metadata": {},
     "output_type": "display_data"
    }
   ],
   "source": [
    "# Using fathers' heights to predict sons' heights with a geom_smooth () function\n",
    "ggplot(data = father.son, mapping = aes(x = fheight, y = sheight)) + \n",
    "  geom_point(alpha = .15) +\n",
    "  geom_smooth(method = \"lm\") + \n",
    "  labs(x = \"Fathers\", y = \"Sons\") +\n",
    "  ggtitle(expression(atop(\"Scatterplot of Fathers vs. Sons\", atop(italic(\"With Fitted Regression Line\", \"\"))))) +\n",
    "  theme(plot.title = element_text(hjust = 0.5)) +\n",
    "  theme(plot.subtitle = element_text(hjust = 0.5))"
   ]
  },
  {
   "cell_type": "code",
   "execution_count": 11,
   "metadata": {},
   "outputs": [
    {
     "data": {
      "text/plain": [
       "\n",
       "Call:\n",
       "lm(formula = sheight ~ fheight, data = father.son)\n",
       "\n",
       "Coefficients:\n",
       "(Intercept)      fheight  \n",
       "    33.8866       0.5141  \n"
      ]
     },
     "metadata": {},
     "output_type": "display_data"
    }
   ],
   "source": [
    "# Calculate Linear regression using lm() function\n",
    "(height.lm <- lm(sheight ~ fheight, data = father.son))"
   ]
  },
  {
   "cell_type": "code",
   "execution_count": 12,
   "metadata": {},
   "outputs": [
    {
     "data": {
      "text/plain": [
       "\n",
       "Call:\n",
       "lm(formula = sheight ~ fheight, data = father.son)\n",
       "\n",
       "Residuals:\n",
       "    Min      1Q  Median      3Q     Max \n",
       "-8.8772 -1.5144 -0.0079  1.6285  8.9685 \n",
       "\n",
       "Coefficients:\n",
       "            Estimate Std. Error t value Pr(>|t|)    \n",
       "(Intercept) 33.88660    1.83235   18.49   <2e-16 ***\n",
       "fheight      0.51409    0.02705   19.01   <2e-16 ***\n",
       "---\n",
       "Signif. codes:  0 ‘***’ 0.001 ‘**’ 0.01 ‘*’ 0.05 ‘.’ 0.1 ‘ ’ 1\n",
       "\n",
       "Residual standard error: 2.437 on 1076 degrees of freedom\n",
       "Multiple R-squared:  0.2513,\tAdjusted R-squared:  0.2506 \n",
       "F-statistic: 361.2 on 1 and 1076 DF,  p-value: < 2.2e-16\n"
      ]
     },
     "metadata": {},
     "output_type": "display_data"
    }
   ],
   "source": [
    "summary(height.lm)"
   ]
  },
  {
   "cell_type": "code",
   "execution_count": 19,
   "metadata": {},
   "outputs": [
    {
     "data": {
      "text/html": [
       "<table>\n",
       "<thead><tr><th scope=col>term</th><th scope=col>estimate</th><th scope=col>std.error</th><th scope=col>statistic</th><th scope=col>p.value</th></tr></thead>\n",
       "<tbody>\n",
       "\t<tr><td>(Intercept) </td><td>33.886604   </td><td>1.83235382  </td><td>18.49348    </td><td>1.604044e-66</td></tr>\n",
       "\t<tr><td>fheight     </td><td> 0.514093   </td><td>0.02704874  </td><td>19.00618    </td><td>1.121268e-69</td></tr>\n",
       "</tbody>\n",
       "</table>\n"
      ],
      "text/latex": [
       "\\begin{tabular}{r|lllll}\n",
       " term & estimate & std.error & statistic & p.value\\\\\n",
       "\\hline\n",
       "\t (Intercept)  & 33.886604    & 1.83235382   & 18.49348     & 1.604044e-66\\\\\n",
       "\t fheight      &  0.514093    & 0.02704874   & 19.00618     & 1.121268e-69\\\\\n",
       "\\end{tabular}\n"
      ],
      "text/markdown": [
       "\n",
       "| term | estimate | std.error | statistic | p.value |\n",
       "|---|---|---|---|---|\n",
       "| (Intercept)  | 33.886604    | 1.83235382   | 18.49348     | 1.604044e-66 |\n",
       "| fheight      |  0.514093    | 0.02704874   | 19.00618     | 1.121268e-69 |\n",
       "\n"
      ],
      "text/plain": [
       "  term        estimate  std.error  statistic p.value     \n",
       "1 (Intercept) 33.886604 1.83235382 18.49348  1.604044e-66\n",
       "2 fheight      0.514093 0.02704874 19.00618  1.121268e-69"
      ]
     },
     "metadata": {},
     "output_type": "display_data"
    }
   ],
   "source": [
    " tidy(height.lm)"
   ]
  },
  {
   "cell_type": "markdown",
   "metadata": {},
   "source": [
    "# MULTIPLE LINEAR REGRESSION"
   ]
  },
  {
   "cell_type": "code",
   "execution_count": 13,
   "metadata": {},
   "outputs": [
    {
     "name": "stderr",
     "output_type": "stream",
     "text": [
      "Parsed with column specification:\n",
      "cols(\n",
      "  Brand = col_character(),\n",
      "  Price = col_double(),\n",
      "  Body = col_character(),\n",
      "  Mileage = col_double(),\n",
      "  EngineV = col_double(),\n",
      "  Engine.Type = col_character(),\n",
      "  Registration = col_character(),\n",
      "  Year = col_double(),\n",
      "  Model = col_character()\n",
      ")\n"
     ]
    }
   ],
   "source": [
    "## STORING DATA IN THE CSV FILE TO VARIABLE data\n",
    "data = read_csv('data/clean_data_cars.csv')"
   ]
  },
  {
   "cell_type": "code",
   "execution_count": 14,
   "metadata": {},
   "outputs": [
    {
     "data": {
      "text/html": [
       "<table>\n",
       "<thead><tr><th scope=col>Brand</th><th scope=col>Price</th><th scope=col>Body</th><th scope=col>Mileage</th><th scope=col>EngineV</th><th scope=col>Engine.Type</th><th scope=col>Registration</th><th scope=col>Year</th><th scope=col>Model</th></tr></thead>\n",
       "<tbody>\n",
       "\t<tr><td>BMW          </td><td> 4200        </td><td>sedan        </td><td>277          </td><td>2.0          </td><td>Petrol       </td><td>yes          </td><td>1991         </td><td>320          </td></tr>\n",
       "\t<tr><td>Mercedes-Benz</td><td> 7900        </td><td>van          </td><td>427          </td><td>2.9          </td><td>Diesel       </td><td>yes          </td><td>1999         </td><td>Sprinter 212 </td></tr>\n",
       "\t<tr><td>Mercedes-Benz</td><td>13300        </td><td>sedan        </td><td>358          </td><td>4.7          </td><td>Gas          </td><td>yes          </td><td>2003         </td><td>S 500        </td></tr>\n",
       "\t<tr><td>Audi         </td><td>23000        </td><td>crossover    </td><td>240          </td><td>4.2          </td><td>Petrol       </td><td>yes          </td><td>2007         </td><td>Q7           </td></tr>\n",
       "\t<tr><td>Toyota       </td><td>18300        </td><td>crossover    </td><td>120          </td><td>2.0          </td><td>Petrol       </td><td>yes          </td><td>2011         </td><td>Rav 4        </td></tr>\n",
       "\t<tr><td>Mercedes-Benz</td><td>40996        </td><td>crossover    </td><td>  0          </td><td>4.7          </td><td>Petrol       </td><td>yes          </td><td>2016         </td><td>GLS 63       </td></tr>\n",
       "</tbody>\n",
       "</table>\n"
      ],
      "text/latex": [
       "\\begin{tabular}{r|lllllllll}\n",
       " Brand & Price & Body & Mileage & EngineV & Engine.Type & Registration & Year & Model\\\\\n",
       "\\hline\n",
       "\t BMW           &  4200         & sedan         & 277           & 2.0           & Petrol        & yes           & 1991          & 320          \\\\\n",
       "\t Mercedes-Benz &  7900         & van           & 427           & 2.9           & Diesel        & yes           & 1999          & Sprinter 212 \\\\\n",
       "\t Mercedes-Benz & 13300         & sedan         & 358           & 4.7           & Gas           & yes           & 2003          & S 500        \\\\\n",
       "\t Audi          & 23000         & crossover     & 240           & 4.2           & Petrol        & yes           & 2007          & Q7           \\\\\n",
       "\t Toyota        & 18300         & crossover     & 120           & 2.0           & Petrol        & yes           & 2011          & Rav 4        \\\\\n",
       "\t Mercedes-Benz & 40996         & crossover     &   0           & 4.7           & Petrol        & yes           & 2016          & GLS 63       \\\\\n",
       "\\end{tabular}\n"
      ],
      "text/markdown": [
       "\n",
       "| Brand | Price | Body | Mileage | EngineV | Engine.Type | Registration | Year | Model |\n",
       "|---|---|---|---|---|---|---|---|---|\n",
       "| BMW           |  4200         | sedan         | 277           | 2.0           | Petrol        | yes           | 1991          | 320           |\n",
       "| Mercedes-Benz |  7900         | van           | 427           | 2.9           | Diesel        | yes           | 1999          | Sprinter 212  |\n",
       "| Mercedes-Benz | 13300         | sedan         | 358           | 4.7           | Gas           | yes           | 2003          | S 500         |\n",
       "| Audi          | 23000         | crossover     | 240           | 4.2           | Petrol        | yes           | 2007          | Q7            |\n",
       "| Toyota        | 18300         | crossover     | 120           | 2.0           | Petrol        | yes           | 2011          | Rav 4         |\n",
       "| Mercedes-Benz | 40996         | crossover     |   0           | 4.7           | Petrol        | yes           | 2016          | GLS 63        |\n",
       "\n"
      ],
      "text/plain": [
       "  Brand         Price Body      Mileage EngineV Engine.Type Registration Year\n",
       "1 BMW            4200 sedan     277     2.0     Petrol      yes          1991\n",
       "2 Mercedes-Benz  7900 van       427     2.9     Diesel      yes          1999\n",
       "3 Mercedes-Benz 13300 sedan     358     4.7     Gas         yes          2003\n",
       "4 Audi          23000 crossover 240     4.2     Petrol      yes          2007\n",
       "5 Toyota        18300 crossover 120     2.0     Petrol      yes          2011\n",
       "6 Mercedes-Benz 40996 crossover   0     4.7     Petrol      yes          2016\n",
       "  Model       \n",
       "1 320         \n",
       "2 Sprinter 212\n",
       "3 S 500       \n",
       "4 Q7          \n",
       "5 Rav 4       \n",
       "6 GLS 63      "
      ]
     },
     "metadata": {},
     "output_type": "display_data"
    }
   ],
   "source": [
    "## VIEWING THE FIRST 6 ROWS USING HEAD() FUNCTION\n",
    "head(data)"
   ]
  },
  {
   "cell_type": "code",
   "execution_count": 15,
   "metadata": {},
   "outputs": [
    {
     "data": {
      "text/plain": [
       "    Brand               Price           Body              Mileage     \n",
       " Length:4025        Min.   :  600   Length:4025        Min.   :  0.0  \n",
       " Class :character   1st Qu.: 6999   Class :character   1st Qu.: 90.0  \n",
       " Mode  :character   Median :11500   Mode  :character   Median :158.0  \n",
       "                    Mean   :15778                      Mean   :162.4  \n",
       "                    3rd Qu.:21900                      3rd Qu.:230.0  \n",
       "                    Max.   :44000                      Max.   :440.0  \n",
       "    EngineV      Engine.Type        Registration            Year     \n",
       " Min.   :0.600   Length:4025        Length:4025        Min.   :1990  \n",
       " 1st Qu.:1.800   Class :character   Class :character   1st Qu.:2003  \n",
       " Median :2.200   Mode  :character   Mode  :character   Median :2007  \n",
       " Mean   :2.451                                         Mean   :2006  \n",
       " 3rd Qu.:3.000                                         3rd Qu.:2012  \n",
       " Max.   :4.800                                         Max.   :2016  \n",
       "    Model          \n",
       " Length:4025       \n",
       " Class :character  \n",
       " Mode  :character  \n",
       "                   \n",
       "                   \n",
       "                   "
      ]
     },
     "metadata": {},
     "output_type": "display_data"
    }
   ],
   "source": [
    "##SUMMARY OF VARIABLES IN THE DATASET; STATISTICAL SUMMARY OF CONTINOUS VARIABLES AND VALUE COUNTS OF CATAGOTICAL VARIABLES\n",
    "summary(data)"
   ]
  },
  {
   "cell_type": "markdown",
   "metadata": {},
   "source": [
    "## Price is the Dependent / Predicted variable"
   ]
  },
  {
   "cell_type": "markdown",
   "metadata": {},
   "source": [
    "- Assumption 1.  All Independent Variables Must have a linear relationship with the Dependent  Variable\n",
    "- Assumption 2. There should be no Multicollinarity : The Independent variables should not have correlation among themseleves¶"
   ]
  },
  {
   "cell_type": "code",
   "execution_count": 16,
   "metadata": {},
   "outputs": [
    {
     "ename": "ERROR",
     "evalue": "Error in select(., Price, Mileage, EngineV, Year): unused arguments (Price, Mileage, EngineV, Year)\n",
     "output_type": "error",
     "traceback": [
      "Error in select(., Price, Mileage, EngineV, Year): unused arguments (Price, Mileage, EngineV, Year)\nTraceback:\n",
      "1. data %>% select(Price, Mileage, EngineV, Year)",
      "2. withVisible(eval(quote(`_fseq`(`_lhs`)), env, env))",
      "3. eval(quote(`_fseq`(`_lhs`)), env, env)",
      "4. eval(quote(`_fseq`(`_lhs`)), env, env)",
      "5. `_fseq`(`_lhs`)",
      "6. freduce(value, `_function_list`)",
      "7. withVisible(function_list[[k]](value))",
      "8. function_list[[k]](value)"
     ]
    }
   ],
   "source": [
    "## STORING ALL CONTINOUS INTO DATAFRAME \"df\"\n",
    "\n",
    "df <- data %>% select(Price,Mileage,EngineV,Year)"
   ]
  },
  {
   "cell_type": "code",
   "execution_count": null,
   "metadata": {},
   "outputs": [],
   "source": [
    "## STORING CORRELATION BETWEEN VARIABLES INTO DATAFRAME \"df\"\n",
    "\n",
    "corr <- round(cor(df), 1)"
   ]
  },
  {
   "cell_type": "code",
   "execution_count": null,
   "metadata": {},
   "outputs": [],
   "source": [
    "corr"
   ]
  },
  {
   "cell_type": "code",
   "execution_count": null,
   "metadata": {},
   "outputs": [],
   "source": [
    "## USING ggcorrplot TO PLOT CORRELATION MATRIX\n",
    "\n",
    "ggcorrplot(corr,lab=TRUE,type='lower',colors = c(\"#6D9EC1\", \"white\", \"#E46726\"))"
   ]
  },
  {
   "cell_type": "code",
   "execution_count": null,
   "metadata": {},
   "outputs": [],
   "source": [
    "dim(data)"
   ]
  },
  {
   "cell_type": "code",
   "execution_count": null,
   "metadata": {},
   "outputs": [],
   "source": [
    "## SPLITTING DATA INTO TEST AND TRAIN DATA\n",
    "data_train = slice(data, 1:3000)\n",
    "data_test = slice(data, 3001:4025)"
   ]
  },
  {
   "cell_type": "code",
   "execution_count": null,
   "metadata": {},
   "outputs": [],
   "source": [
    "head(data)"
   ]
  },
  {
   "cell_type": "markdown",
   "metadata": {},
   "source": [
    "## MODEL I : WITHOUT CATAGORICAL VARIABLES"
   ]
  },
  {
   "cell_type": "code",
   "execution_count": null,
   "metadata": {},
   "outputs": [],
   "source": [
    "## BUILDING MODEL WITHOUT CATAGORICAL VARIABLE\n",
    "model_1 <- lm(Price~Mileage+EngineV+Year, data = data_train)"
   ]
  },
  {
   "cell_type": "code",
   "execution_count": null,
   "metadata": {},
   "outputs": [],
   "source": [
    "## SUMMARY OF MODEL\n",
    "summary(model_1)"
   ]
  },
  {
   "cell_type": "code",
   "execution_count": null,
   "metadata": {},
   "outputs": [],
   "source": [
    "model_1"
   ]
  },
  {
   "cell_type": "code",
   "execution_count": null,
   "metadata": {},
   "outputs": [],
   "source": [
    "#Predicting values\n",
    "predicted_price <- predict(model_1,newdata =data_test)\n",
    "\n",
    "#coverting into df\n",
    "predicted_price = as.data.frame.vector(predicted_price)"
   ]
  },
  {
   "cell_type": "code",
   "execution_count": null,
   "metadata": {},
   "outputs": [],
   "source": [
    "head(predicted_price)"
   ]
  },
  {
   "cell_type": "code",
   "execution_count": null,
   "metadata": {},
   "outputs": [],
   "source": [
    "vif(model_1)"
   ]
  },
  {
   "cell_type": "code",
   "execution_count": null,
   "metadata": {},
   "outputs": [],
   "source": [
    "actual_price = data_test$Price\n",
    "actual_price = as.data.frame.vector(actual_price)"
   ]
  },
  {
   "cell_type": "code",
   "execution_count": null,
   "metadata": {},
   "outputs": [],
   "source": [
    "head(actual_price)"
   ]
  },
  {
   "cell_type": "code",
   "execution_count": null,
   "metadata": {},
   "outputs": [],
   "source": [
    "## DEFINING FUNCTION FOR MSE\n",
    "\n",
    "mse <- function(predicted,actual,n)\n",
    "{\n",
    "    mse = sum(((actual-predicted)/n)^2)\n",
    "    return (mse)\n",
    "}"
   ]
  },
  {
   "cell_type": "code",
   "execution_count": null,
   "metadata": {},
   "outputs": [],
   "source": [
    "dim(data_test)"
   ]
  },
  {
   "cell_type": "code",
   "execution_count": null,
   "metadata": {},
   "outputs": [],
   "source": [
    "## USING FUNCTION \"MSE\" FOR CALCULATING MEAN SQUARED ERROR\n",
    "round(mse(predicted_price,actual_price,1025))"
   ]
  },
  {
   "cell_type": "code",
   "execution_count": null,
   "metadata": {},
   "outputs": [],
   "source": [
    "rmse=round(sqrt(mse))\n",
    "rmse"
   ]
  },
  {
   "cell_type": "markdown",
   "metadata": {},
   "source": [
    "# MODEL II : INCLUDING CATAGORICAL VARIABLES"
   ]
  },
  {
   "cell_type": "code",
   "execution_count": null,
   "metadata": {},
   "outputs": [],
   "source": [
    "names(data)"
   ]
  },
  {
   "cell_type": "code",
   "execution_count": null,
   "metadata": {},
   "outputs": [],
   "source": [
    "model_2 <- lm(Price~Brand+Body+Mileage+EngineV+Engine.Type+Registration+Year, data = data_train)"
   ]
  },
  {
   "cell_type": "code",
   "execution_count": null,
   "metadata": {},
   "outputs": [],
   "source": [
    "summary(model_2)"
   ]
  },
  {
   "cell_type": "code",
   "execution_count": null,
   "metadata": {},
   "outputs": [],
   "source": [
    "model_2"
   ]
  },
  {
   "cell_type": "code",
   "execution_count": null,
   "metadata": {},
   "outputs": [],
   "source": [
    "#Predicting values\n",
    "predicted_price <- predict(model_2,newdata = data_test[2:8])\n",
    "\n",
    "#coverting into df\n",
    "predicted_price = as.data.frame.vector(predicted_price)"
   ]
  },
  {
   "cell_type": "code",
   "execution_count": null,
   "metadata": {},
   "outputs": [],
   "source": [
    "head(predicted_price)"
   ]
  },
  {
   "cell_type": "code",
   "execution_count": null,
   "metadata": {},
   "outputs": [],
   "source": [
    "vif(model_2)"
   ]
  },
  {
   "cell_type": "code",
   "execution_count": null,
   "metadata": {},
   "outputs": [],
   "source": [
    "actual_price = data_test$Price\n",
    "actual_price = as.data.frame.vector(actual_price)\n",
    "head(actual_price)"
   ]
  },
  {
   "cell_type": "code",
   "execution_count": null,
   "metadata": {},
   "outputs": [],
   "source": [
    "## USING FUNCTION \"MSE\" FOR CALCULATING MEAN SQUARED ERROR\n",
    "mse_model2=round(mse(predicted_price,actual_price,1025))"
   ]
  },
  {
   "cell_type": "code",
   "execution_count": null,
   "metadata": {},
   "outputs": [],
   "source": [
    "mse_model2"
   ]
  },
  {
   "cell_type": "code",
   "execution_count": null,
   "metadata": {},
   "outputs": [],
   "source": [
    "rmse_model2 = round(sqrt(mse_model2))\n",
    "rmse_model2"
   ]
  }
 ],
 "metadata": {
  "kernelspec": {
   "display_name": "R [conda env:miniconda3-4.3.30]",
   "language": "R",
   "name": "conda-env-miniconda3-4.3.30-r"
  },
  "language_info": {
   "codemirror_mode": "r",
   "file_extension": ".r",
   "mimetype": "text/x-r-source",
   "name": "R",
   "pygments_lexer": "r",
   "version": "3.6.1"
  },
  "toc": {
   "base_numbering": 1,
   "nav_menu": {},
   "number_sections": true,
   "sideBar": true,
   "skip_h1_title": false,
   "title_cell": "Table of Contents",
   "title_sidebar": "Contents",
   "toc_cell": false,
   "toc_position": {},
   "toc_section_display": true,
   "toc_window_display": false
  }
 },
 "nbformat": 4,
 "nbformat_minor": 2
}
