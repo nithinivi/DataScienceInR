{
 "cells": [
  {
   "cell_type": "markdown",
   "metadata": {},
   "source": [
    "# LINEAR REGRESSION"
   ]
  },
  {
   "cell_type": "markdown",
   "metadata": {},
   "source": [
    "###### Linear regression is used for finding linear relationship between target variable ( Y variable) and one or more predictors (X variables). There are two types of linear regression- Simple and Multiple.\n"
   ]
  },
  {
   "cell_type": "markdown",
   "metadata": {},
   "source": [
    "### MULTIPLE LINEAR REGRESSION"
   ]
  },
  {
   "cell_type": "code",
   "execution_count": 1,
   "metadata": {},
   "outputs": [
    {
     "name": "stderr",
     "output_type": "stream",
     "text": [
      "Warning message:\n",
      "\"package 'tidyverse' was built under R version 3.6.3\"-- Attaching packages ------------------------------------------------------------------------------- tidyverse 1.3.0 --\n",
      "v ggplot2 3.3.2     v purrr   0.3.4\n",
      "v tibble  3.0.4     v dplyr   1.0.2\n",
      "v tidyr   1.1.2     v stringr 1.4.0\n",
      "v readr   1.4.0     v forcats 0.5.0\n",
      "Warning message:\n",
      "\"package 'ggplot2' was built under R version 3.6.3\"Warning message:\n",
      "\"package 'tibble' was built under R version 3.6.3\"Warning message:\n",
      "\"package 'tidyr' was built under R version 3.6.3\"Warning message:\n",
      "\"package 'readr' was built under R version 3.6.3\"Warning message:\n",
      "\"package 'purrr' was built under R version 3.6.3\"Warning message:\n",
      "\"package 'dplyr' was built under R version 3.6.3\"Warning message:\n",
      "\"package 'stringr' was built under R version 3.6.3\"Warning message:\n",
      "\"package 'forcats' was built under R version 3.6.3\"-- Conflicts ---------------------------------------------------------------------------------- tidyverse_conflicts() --\n",
      "x dplyr::filter() masks stats::filter()\n",
      "x dplyr::lag()    masks stats::lag()\n"
     ]
    }
   ],
   "source": [
    "## CALLING LIBRARIES USED FOR LINEAR REGRESSION\n",
    "\n",
    "library(\"tidyverse\")\n",
    "library(\"ggplot2\")"
   ]
  },
  {
   "cell_type": "code",
   "execution_count": 2,
   "metadata": {},
   "outputs": [
    {
     "data": {
      "text/html": [
       "'C:/Users/T0SHIBA/DataScienceInR/lesson-04'"
      ],
      "text/latex": [
       "'C:/Users/T0SHIBA/DataScienceInR/lesson-04'"
      ],
      "text/markdown": [
       "'C:/Users/T0SHIBA/DataScienceInR/lesson-04'"
      ],
      "text/plain": [
       "[1] \"C:/Users/T0SHIBA/DataScienceInR/lesson-04\""
      ]
     },
     "metadata": {},
     "output_type": "display_data"
    }
   ],
   "source": [
    "## CHECKING THE CURRENT WORKING DIRECTORY\n",
    "\n",
    "getwd()"
   ]
  },
  {
   "cell_type": "code",
   "execution_count": 3,
   "metadata": {},
   "outputs": [],
   "source": [
    "## STORING DATA IN THE CSV FILE TO VARIABLE data\n",
    "data = read.csv('C:/Users/T0SHIBA/DataScienceInR/data/clean_data_cars.csv')"
   ]
  },
  {
   "cell_type": "code",
   "execution_count": 4,
   "metadata": {},
   "outputs": [
    {
     "data": {
      "text/html": [
       "<table>\n",
       "<thead><tr><th scope=col>Price</th><th scope=col>Brand</th><th scope=col>Body</th><th scope=col>Mileage</th><th scope=col>EngineV</th><th scope=col>Engine.Type</th><th scope=col>Registration</th><th scope=col>Year</th></tr></thead>\n",
       "<tbody>\n",
       "\t<tr><td> 4200        </td><td>BMW          </td><td>sedan        </td><td>277          </td><td>2.0          </td><td>Petrol       </td><td>yes          </td><td>1991         </td></tr>\n",
       "\t<tr><td> 7900        </td><td>Mercedes-Benz</td><td>van          </td><td>427          </td><td>2.9          </td><td>Diesel       </td><td>yes          </td><td>1999         </td></tr>\n",
       "\t<tr><td>13300        </td><td>Mercedes-Benz</td><td>sedan        </td><td>358          </td><td>4.7          </td><td>Gas          </td><td>yes          </td><td>2003         </td></tr>\n",
       "\t<tr><td>23000        </td><td>Audi         </td><td>crossover    </td><td>240          </td><td>4.2          </td><td>Petrol       </td><td>yes          </td><td>2007         </td></tr>\n",
       "\t<tr><td>18300        </td><td>Toyota       </td><td>crossover    </td><td>120          </td><td>2.0          </td><td>Petrol       </td><td>yes          </td><td>2011         </td></tr>\n",
       "\t<tr><td>40996        </td><td>Mercedes-Benz</td><td>crossover    </td><td>  0          </td><td>4.7          </td><td>Petrol       </td><td>yes          </td><td>2016         </td></tr>\n",
       "</tbody>\n",
       "</table>\n"
      ],
      "text/latex": [
       "\\begin{tabular}{r|llllllll}\n",
       " Price & Brand & Body & Mileage & EngineV & Engine.Type & Registration & Year\\\\\n",
       "\\hline\n",
       "\t  4200         & BMW           & sedan         & 277           & 2.0           & Petrol        & yes           & 1991         \\\\\n",
       "\t  7900         & Mercedes-Benz & van           & 427           & 2.9           & Diesel        & yes           & 1999         \\\\\n",
       "\t 13300         & Mercedes-Benz & sedan         & 358           & 4.7           & Gas           & yes           & 2003         \\\\\n",
       "\t 23000         & Audi          & crossover     & 240           & 4.2           & Petrol        & yes           & 2007         \\\\\n",
       "\t 18300         & Toyota        & crossover     & 120           & 2.0           & Petrol        & yes           & 2011         \\\\\n",
       "\t 40996         & Mercedes-Benz & crossover     &   0           & 4.7           & Petrol        & yes           & 2016         \\\\\n",
       "\\end{tabular}\n"
      ],
      "text/markdown": [
       "\n",
       "| Price | Brand | Body | Mileage | EngineV | Engine.Type | Registration | Year |\n",
       "|---|---|---|---|---|---|---|---|\n",
       "|  4200         | BMW           | sedan         | 277           | 2.0           | Petrol        | yes           | 1991          |\n",
       "|  7900         | Mercedes-Benz | van           | 427           | 2.9           | Diesel        | yes           | 1999          |\n",
       "| 13300         | Mercedes-Benz | sedan         | 358           | 4.7           | Gas           | yes           | 2003          |\n",
       "| 23000         | Audi          | crossover     | 240           | 4.2           | Petrol        | yes           | 2007          |\n",
       "| 18300         | Toyota        | crossover     | 120           | 2.0           | Petrol        | yes           | 2011          |\n",
       "| 40996         | Mercedes-Benz | crossover     |   0           | 4.7           | Petrol        | yes           | 2016          |\n",
       "\n"
      ],
      "text/plain": [
       "  Price Brand         Body      Mileage EngineV Engine.Type Registration Year\n",
       "1  4200 BMW           sedan     277     2.0     Petrol      yes          1991\n",
       "2  7900 Mercedes-Benz van       427     2.9     Diesel      yes          1999\n",
       "3 13300 Mercedes-Benz sedan     358     4.7     Gas         yes          2003\n",
       "4 23000 Audi          crossover 240     4.2     Petrol      yes          2007\n",
       "5 18300 Toyota        crossover 120     2.0     Petrol      yes          2011\n",
       "6 40996 Mercedes-Benz crossover   0     4.7     Petrol      yes          2016"
      ]
     },
     "metadata": {},
     "output_type": "display_data"
    }
   ],
   "source": [
    "## VIEWING THE FIRST 6 ROWS USING HEAD() FUNCTION\n",
    "head(data)"
   ]
  },
  {
   "cell_type": "code",
   "execution_count": 5,
   "metadata": {},
   "outputs": [
    {
     "data": {
      "text/plain": [
       "     Price                 Brand            Body         Mileage     \n",
       " Min.   :  600   Audi         :420   crossover: 824   Min.   :  0.0  \n",
       " 1st Qu.: 6999   BMW          :640   hatch    : 268   1st Qu.: 90.0  \n",
       " Median :11500   Mercedes-Benz:823   other    : 394   Median :158.0  \n",
       " Mean   :15778   Mitsubishi   :307   sedan    :1534   Mean   :162.4  \n",
       " 3rd Qu.:21900   Renault      :445   vagon    : 379   3rd Qu.:230.0  \n",
       " Max.   :44000   Toyota       :510   van      : 626   Max.   :440.0  \n",
       "                 Volkswagen   :880                                   \n",
       "    EngineV      Engine.Type   Registration      Year     \n",
       " Min.   :0.600   Diesel:1861   no : 371     Min.   :1990  \n",
       " 1st Qu.:1.800   Gas   : 590   yes:3654     1st Qu.:2003  \n",
       " Median :2.200   Other : 106                Median :2007  \n",
       " Mean   :2.451   Petrol:1468                Mean   :2006  \n",
       " 3rd Qu.:3.000                              3rd Qu.:2012  \n",
       " Max.   :4.800                              Max.   :2016  \n",
       "                                                          "
      ]
     },
     "metadata": {},
     "output_type": "display_data"
    }
   ],
   "source": [
    "##SUMMARY OF VARIABLES IN THE DATASET; STATISTICAL SUMMARY OF CONTINOUS VARIABLES AND VALUE COUNTS OF CATAGOTICAL VARIABLES\n",
    "summary(data)"
   ]
  },
  {
   "cell_type": "markdown",
   "metadata": {},
   "source": [
    "## Price is the Dependent / Predicted variable"
   ]
  },
  {
   "cell_type": "markdown",
   "metadata": {},
   "source": [
    "#####  I.  All Independent Variables Must have a linear relationship with the Dependent  Variable\n",
    "##### II. There should be no Multicollinarity : The Independent variables should not have correlation among themseleves¶"
   ]
  },
  {
   "cell_type": "code",
   "execution_count": 6,
   "metadata": {},
   "outputs": [],
   "source": [
    "## INSTALLING LIBRARY TO PLOT CORRELATION PLOT\n",
    "\n",
    "##install.packages(\"ggcorrplot\")"
   ]
  },
  {
   "cell_type": "code",
   "execution_count": 7,
   "metadata": {},
   "outputs": [
    {
     "name": "stderr",
     "output_type": "stream",
     "text": [
      "Warning message:\n",
      "\"package 'ggcorrplot' was built under R version 3.6.3\""
     ]
    }
   ],
   "source": [
    "library(\"ggcorrplot\")\n"
   ]
  },
  {
   "cell_type": "code",
   "execution_count": 8,
   "metadata": {},
   "outputs": [],
   "source": [
    "## STORING ALL CONTINOUS INTO DATAFRAME \"df\"\n",
    "\n",
    "df <- data %>% select(Price,Mileage,EngineV,Year)"
   ]
  },
  {
   "cell_type": "code",
   "execution_count": 9,
   "metadata": {},
   "outputs": [],
   "source": [
    "## STORING CORRELATION BETWEEN VARIABLES INTO DATAFRAME \"df\"\n",
    "\n",
    "corr <- round(cor(df), 1)"
   ]
  },
  {
   "cell_type": "code",
   "execution_count": 10,
   "metadata": {},
   "outputs": [
    {
     "data": {
      "text/html": [
       "<table>\n",
       "<thead><tr><th></th><th scope=col>Price</th><th scope=col>Mileage</th><th scope=col>EngineV</th><th scope=col>Year</th></tr></thead>\n",
       "<tbody>\n",
       "\t<tr><th scope=row>Price</th><td> 1.0</td><td>-0.6</td><td>0.5 </td><td> 0.7</td></tr>\n",
       "\t<tr><th scope=row>Mileage</th><td>-0.6</td><td> 1.0</td><td>0.0 </td><td>-0.7</td></tr>\n",
       "\t<tr><th scope=row>EngineV</th><td> 0.5</td><td> 0.0</td><td>1.0 </td><td> 0.0</td></tr>\n",
       "\t<tr><th scope=row>Year</th><td> 0.7</td><td>-0.7</td><td>0.0 </td><td> 1.0</td></tr>\n",
       "</tbody>\n",
       "</table>\n"
      ],
      "text/latex": [
       "\\begin{tabular}{r|llll}\n",
       "  & Price & Mileage & EngineV & Year\\\\\n",
       "\\hline\n",
       "\tPrice &  1.0 & -0.6 & 0.5  &  0.7\\\\\n",
       "\tMileage & -0.6 &  1.0 & 0.0  & -0.7\\\\\n",
       "\tEngineV &  0.5 &  0.0 & 1.0  &  0.0\\\\\n",
       "\tYear &  0.7 & -0.7 & 0.0  &  1.0\\\\\n",
       "\\end{tabular}\n"
      ],
      "text/markdown": [
       "\n",
       "| <!--/--> | Price | Mileage | EngineV | Year |\n",
       "|---|---|---|---|---|\n",
       "| Price |  1.0 | -0.6 | 0.5  |  0.7 |\n",
       "| Mileage | -0.6 |  1.0 | 0.0  | -0.7 |\n",
       "| EngineV |  0.5 |  0.0 | 1.0  |  0.0 |\n",
       "| Year |  0.7 | -0.7 | 0.0  |  1.0 |\n",
       "\n"
      ],
      "text/plain": [
       "        Price Mileage EngineV Year\n",
       "Price    1.0  -0.6    0.5      0.7\n",
       "Mileage -0.6   1.0    0.0     -0.7\n",
       "EngineV  0.5   0.0    1.0      0.0\n",
       "Year     0.7  -0.7    0.0      1.0"
      ]
     },
     "metadata": {},
     "output_type": "display_data"
    }
   ],
   "source": [
    "corr"
   ]
  },
  {
   "cell_type": "code",
   "execution_count": 11,
   "metadata": {},
   "outputs": [
    {
     "data": {
      "image/png": "[encoded data removed]",
      "text/plain": [
       "plot without title"
      ]
     },
     "metadata": {},
     "output_type": "display_data"
    }
   ],
   "source": [
    "## USING ggcorrplot TO PLOT CORRELATION MATRIX\n",
    "\n",
    "ggcorrplot(corr,lab=TRUE,type='lower',colors = c(\"#6D9EC1\", \"white\", \"#E46726\"))"
   ]
  },
  {
   "cell_type": "code",
   "execution_count": 12,
   "metadata": {},
   "outputs": [
    {
     "data": {
      "text/html": [
       "<ol class=list-inline>\n",
       "\t<li>4025</li>\n",
       "\t<li>8</li>\n",
       "</ol>\n"
      ],
      "text/latex": [
       "\\begin{enumerate*}\n",
       "\\item 4025\n",
       "\\item 8\n",
       "\\end{enumerate*}\n"
      ],
      "text/markdown": [
       "1. 4025\n",
       "2. 8\n",
       "\n",
       "\n"
      ],
      "text/plain": [
       "[1] 4025    8"
      ]
     },
     "metadata": {},
     "output_type": "display_data"
    }
   ],
   "source": [
    "dim(data)"
   ]
  },
  {
   "cell_type": "code",
   "execution_count": 13,
   "metadata": {},
   "outputs": [],
   "source": [
    "## SPLITTING DATA INTO TEST AND TRAIN DATA\n",
    "data_train = slice(data, 1:3000)\n",
    "data_test = slice(data, 3001:4025)"
   ]
  },
  {
   "cell_type": "code",
   "execution_count": 14,
   "metadata": {},
   "outputs": [
    {
     "data": {
      "text/html": [
       "<table>\n",
       "<thead><tr><th scope=col>Price</th><th scope=col>Brand</th><th scope=col>Body</th><th scope=col>Mileage</th><th scope=col>EngineV</th><th scope=col>Engine.Type</th><th scope=col>Registration</th><th scope=col>Year</th></tr></thead>\n",
       "<tbody>\n",
       "\t<tr><td> 4200        </td><td>BMW          </td><td>sedan        </td><td>277          </td><td>2.0          </td><td>Petrol       </td><td>yes          </td><td>1991         </td></tr>\n",
       "\t<tr><td> 7900        </td><td>Mercedes-Benz</td><td>van          </td><td>427          </td><td>2.9          </td><td>Diesel       </td><td>yes          </td><td>1999         </td></tr>\n",
       "\t<tr><td>13300        </td><td>Mercedes-Benz</td><td>sedan        </td><td>358          </td><td>4.7          </td><td>Gas          </td><td>yes          </td><td>2003         </td></tr>\n",
       "\t<tr><td>23000        </td><td>Audi         </td><td>crossover    </td><td>240          </td><td>4.2          </td><td>Petrol       </td><td>yes          </td><td>2007         </td></tr>\n",
       "\t<tr><td>18300        </td><td>Toyota       </td><td>crossover    </td><td>120          </td><td>2.0          </td><td>Petrol       </td><td>yes          </td><td>2011         </td></tr>\n",
       "\t<tr><td>40996        </td><td>Mercedes-Benz</td><td>crossover    </td><td>  0          </td><td>4.7          </td><td>Petrol       </td><td>yes          </td><td>2016         </td></tr>\n",
       "</tbody>\n",
       "</table>\n"
      ],
      "text/latex": [
       "\\begin{tabular}{r|llllllll}\n",
       " Price & Brand & Body & Mileage & EngineV & Engine.Type & Registration & Year\\\\\n",
       "\\hline\n",
       "\t  4200         & BMW           & sedan         & 277           & 2.0           & Petrol        & yes           & 1991         \\\\\n",
       "\t  7900         & Mercedes-Benz & van           & 427           & 2.9           & Diesel        & yes           & 1999         \\\\\n",
       "\t 13300         & Mercedes-Benz & sedan         & 358           & 4.7           & Gas           & yes           & 2003         \\\\\n",
       "\t 23000         & Audi          & crossover     & 240           & 4.2           & Petrol        & yes           & 2007         \\\\\n",
       "\t 18300         & Toyota        & crossover     & 120           & 2.0           & Petrol        & yes           & 2011         \\\\\n",
       "\t 40996         & Mercedes-Benz & crossover     &   0           & 4.7           & Petrol        & yes           & 2016         \\\\\n",
       "\\end{tabular}\n"
      ],
      "text/markdown": [
       "\n",
       "| Price | Brand | Body | Mileage | EngineV | Engine.Type | Registration | Year |\n",
       "|---|---|---|---|---|---|---|---|\n",
       "|  4200         | BMW           | sedan         | 277           | 2.0           | Petrol        | yes           | 1991          |\n",
       "|  7900         | Mercedes-Benz | van           | 427           | 2.9           | Diesel        | yes           | 1999          |\n",
       "| 13300         | Mercedes-Benz | sedan         | 358           | 4.7           | Gas           | yes           | 2003          |\n",
       "| 23000         | Audi          | crossover     | 240           | 4.2           | Petrol        | yes           | 2007          |\n",
       "| 18300         | Toyota        | crossover     | 120           | 2.0           | Petrol        | yes           | 2011          |\n",
       "| 40996         | Mercedes-Benz | crossover     |   0           | 4.7           | Petrol        | yes           | 2016          |\n",
       "\n"
      ],
      "text/plain": [
       "  Price Brand         Body      Mileage EngineV Engine.Type Registration Year\n",
       "1  4200 BMW           sedan     277     2.0     Petrol      yes          1991\n",
       "2  7900 Mercedes-Benz van       427     2.9     Diesel      yes          1999\n",
       "3 13300 Mercedes-Benz sedan     358     4.7     Gas         yes          2003\n",
       "4 23000 Audi          crossover 240     4.2     Petrol      yes          2007\n",
       "5 18300 Toyota        crossover 120     2.0     Petrol      yes          2011\n",
       "6 40996 Mercedes-Benz crossover   0     4.7     Petrol      yes          2016"
      ]
     },
     "metadata": {},
     "output_type": "display_data"
    }
   ],
   "source": [
    "head(data)"
   ]
  },
  {
   "cell_type": "code",
   "execution_count": 15,
   "metadata": {},
   "outputs": [],
   "source": [
    "## BUILDING MODEL\n",
    "model_1 <- lm(Price~Mileage+EngineV+Year+Brand+Body+Engine.Type+Registration, data = data_train)"
   ]
  },
  {
   "cell_type": "code",
   "execution_count": 16,
   "metadata": {},
   "outputs": [
    {
     "data": {
      "text/plain": [
       "\n",
       "Call:\n",
       "lm(formula = Price ~ Mileage + EngineV + Year + Brand + Body + \n",
       "    Engine.Type + Registration, data = data_train)\n",
       "\n",
       "Residuals:\n",
       "     Min       1Q   Median       3Q      Max \n",
       "-27186.4  -3659.9   -774.8   3184.2  28398.0 \n",
       "\n",
       "Coefficients:\n",
       "                     Estimate Std. Error t value Pr(>|t|)    \n",
       "(Intercept)        -1.626e+06  4.988e+04 -32.609  < 2e-16 ***\n",
       "Mileage            -2.930e+01  1.590e+00 -18.435  < 2e-16 ***\n",
       "EngineV             3.176e+03  1.419e+02  22.386  < 2e-16 ***\n",
       "Year                8.181e+02  2.477e+01  33.028  < 2e-16 ***\n",
       "BrandBMW            9.654e+02  4.144e+02   2.329 0.019902 *  \n",
       "BrandMercedes-Benz -5.403e+01  4.016e+02  -0.135 0.892972    \n",
       "BrandMitsubishi    -8.191e+03  4.993e+02 -16.404  < 2e-16 ***\n",
       "BrandRenault       -9.264e+03  4.712e+02 -19.659  < 2e-16 ***\n",
       "BrandToyota        -4.373e+03  4.462e+02  -9.800  < 2e-16 ***\n",
       "BrandVolkswagen    -4.260e+03  4.001e+02 -10.649  < 2e-16 ***\n",
       "Bodyhatch          -5.736e+03  5.195e+02 -11.042  < 2e-16 ***\n",
       "Bodyother          -4.208e+03  4.203e+02 -10.011  < 2e-16 ***\n",
       "Bodysedan          -5.006e+03  3.235e+02 -15.473  < 2e-16 ***\n",
       "Bodyvagon          -5.826e+03  4.645e+02 -12.544  < 2e-16 ***\n",
       "Bodyvan            -7.288e+03  4.183e+02 -17.425  < 2e-16 ***\n",
       "Engine.TypeGas     -2.935e+03  3.461e+02  -8.481  < 2e-16 ***\n",
       "Engine.TypeOther   -2.474e+03  6.462e+02  -3.828 0.000132 ***\n",
       "Engine.TypePetrol  -2.182e+03  2.729e+02  -7.998 1.79e-15 ***\n",
       "Registrationyes     6.840e+03  3.860e+02  17.720  < 2e-16 ***\n",
       "---\n",
       "Signif. codes:  0 '***' 0.001 '**' 0.01 '*' 0.05 '.' 0.1 ' ' 1\n",
       "\n",
       "Residual standard error: 5533 on 2981 degrees of freedom\n",
       "Multiple R-squared:  0.7844,\tAdjusted R-squared:  0.7831 \n",
       "F-statistic: 602.6 on 18 and 2981 DF,  p-value: < 2.2e-16\n"
      ]
     },
     "metadata": {},
     "output_type": "display_data"
    }
   ],
   "source": [
    "## SUMMARY OF MODEL\n",
    "summary(model_1)"
   ]
  }
 ],
 "metadata": {
  "kernelspec": {
   "display_name": "R",
   "language": "R",
   "name": "ir"
  },
  "language_info": {
   "codemirror_mode": "r",
   "file_extension": ".r",
   "mimetype": "text/x-r-source",
   "name": "R",
   "pygments_lexer": "r",
   "version": "3.6.1"
  },
  "toc": {
   "base_numbering": 1,
   "nav_menu": {},
   "number_sections": true,
   "sideBar": true,
   "skip_h1_title": false,
   "title_cell": "Table of Contents",
   "title_sidebar": "Contents",
   "toc_cell": false,
   "toc_position": {},
   "toc_section_display": true,
   "toc_window_display": false
  }
 },
 "nbformat": 4,
 "nbformat_minor": 2
}
