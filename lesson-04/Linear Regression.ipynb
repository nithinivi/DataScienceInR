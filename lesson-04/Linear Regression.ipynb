{
 "cells": [
  {
   "cell_type": "markdown",
   "metadata": {},
   "source": [
    "# LINEAR REGRESSION"
   ]
  },
  {
   "cell_type": "markdown",
   "metadata": {},
   "source": [
    "###### Linear regression is used for finding linear relationship between target variable ( Y variable) and one or more predictors (X variables). There are two types of linear regression- Simple and Multiple.\n"
   ]
  },
  {
   "cell_type": "markdown",
   "metadata": {},
   "source": [
    "### MULTIPLE LINEAR REGRESSION"
   ]
  },
  {
   "cell_type": "code",
   "execution_count": 10,
   "metadata": {},
   "outputs": [],
   "source": [
    "## CALLING LIBRARIES USED FOR LINEAR REGRESSION\n",
    "\n",
    "library(\"tidyverse\")\n",
    "library(\"ggplot2\")"
   ]
  },
  {
   "cell_type": "code",
   "execution_count": 11,
   "metadata": {},
   "outputs": [
    {
     "data": {
      "text/html": [
       "'C:/Users/T0SHIBA/DataScienceInR/lesson-04'"
      ],
      "text/latex": [
       "'C:/Users/T0SHIBA/DataScienceInR/lesson-04'"
      ],
      "text/markdown": [
       "'C:/Users/T0SHIBA/DataScienceInR/lesson-04'"
      ],
      "text/plain": [
       "[1] \"C:/Users/T0SHIBA/DataScienceInR/lesson-04\""
      ]
     },
     "metadata": {},
     "output_type": "display_data"
    }
   ],
   "source": [
    "## CHECKING THE CURRENT WORKING DIRECTORY\n",
    "\n",
    "getwd()"
   ]
  },
  {
   "cell_type": "code",
   "execution_count": 12,
   "metadata": {},
   "outputs": [],
   "source": [
    "## STORING DATA IN THE CSV FILE TO VARIABLE data\n",
    "data = read.csv('C:/Users/T0SHIBA/DataScienceInR/data/Mulitple LR_Cars.csv')"
   ]
  },
  {
   "cell_type": "code",
   "execution_count": 13,
   "metadata": {},
   "outputs": [
    {
     "data": {
      "text/html": [
       "<table>\n",
       "<thead><tr><th scope=col>Price</th><th scope=col>Brand</th><th scope=col>Body</th><th scope=col>Mileage</th><th scope=col>EngineV</th><th scope=col>Engine.Type</th><th scope=col>Registration</th><th scope=col>Year</th></tr></thead>\n",
       "<tbody>\n",
       "\t<tr><td>  4200       </td><td>BMW          </td><td>sedan        </td><td>277          </td><td>2.0          </td><td>Petrol       </td><td>yes          </td><td>1991         </td></tr>\n",
       "\t<tr><td>  7900       </td><td>Mercedes-Benz</td><td>van          </td><td>427          </td><td>2.9          </td><td>Diesel       </td><td>yes          </td><td>1999         </td></tr>\n",
       "\t<tr><td> 13300       </td><td>Mercedes-Benz</td><td>sedan        </td><td>358          </td><td>5.0          </td><td>Gas          </td><td>yes          </td><td>2003         </td></tr>\n",
       "\t<tr><td> 23000       </td><td>Audi         </td><td>crossover    </td><td>240          </td><td>4.2          </td><td>Petrol       </td><td>yes          </td><td>2007         </td></tr>\n",
       "\t<tr><td> 18300       </td><td>Toyota       </td><td>crossover    </td><td>120          </td><td>2.0          </td><td>Petrol       </td><td>yes          </td><td>2011         </td></tr>\n",
       "\t<tr><td>199999       </td><td>Mercedes-Benz</td><td>crossover    </td><td>  0          </td><td>5.5          </td><td>Petrol       </td><td>yes          </td><td>2016         </td></tr>\n",
       "</tbody>\n",
       "</table>\n"
      ],
      "text/latex": [
       "\\begin{tabular}{r|llllllll}\n",
       " Price & Brand & Body & Mileage & EngineV & Engine.Type & Registration & Year\\\\\n",
       "\\hline\n",
       "\t   4200        & BMW           & sedan         & 277           & 2.0           & Petrol        & yes           & 1991         \\\\\n",
       "\t   7900        & Mercedes-Benz & van           & 427           & 2.9           & Diesel        & yes           & 1999         \\\\\n",
       "\t  13300        & Mercedes-Benz & sedan         & 358           & 5.0           & Gas           & yes           & 2003         \\\\\n",
       "\t  23000        & Audi          & crossover     & 240           & 4.2           & Petrol        & yes           & 2007         \\\\\n",
       "\t  18300        & Toyota        & crossover     & 120           & 2.0           & Petrol        & yes           & 2011         \\\\\n",
       "\t 199999        & Mercedes-Benz & crossover     &   0           & 5.5           & Petrol        & yes           & 2016         \\\\\n",
       "\\end{tabular}\n"
      ],
      "text/markdown": [
       "\n",
       "| Price | Brand | Body | Mileage | EngineV | Engine.Type | Registration | Year |\n",
       "|---|---|---|---|---|---|---|---|\n",
       "|   4200        | BMW           | sedan         | 277           | 2.0           | Petrol        | yes           | 1991          |\n",
       "|   7900        | Mercedes-Benz | van           | 427           | 2.9           | Diesel        | yes           | 1999          |\n",
       "|  13300        | Mercedes-Benz | sedan         | 358           | 5.0           | Gas           | yes           | 2003          |\n",
       "|  23000        | Audi          | crossover     | 240           | 4.2           | Petrol        | yes           | 2007          |\n",
       "|  18300        | Toyota        | crossover     | 120           | 2.0           | Petrol        | yes           | 2011          |\n",
       "| 199999        | Mercedes-Benz | crossover     |   0           | 5.5           | Petrol        | yes           | 2016          |\n",
       "\n"
      ],
      "text/plain": [
       "  Price  Brand         Body      Mileage EngineV Engine.Type Registration Year\n",
       "1   4200 BMW           sedan     277     2.0     Petrol      yes          1991\n",
       "2   7900 Mercedes-Benz van       427     2.9     Diesel      yes          1999\n",
       "3  13300 Mercedes-Benz sedan     358     5.0     Gas         yes          2003\n",
       "4  23000 Audi          crossover 240     4.2     Petrol      yes          2007\n",
       "5  18300 Toyota        crossover 120     2.0     Petrol      yes          2011\n",
       "6 199999 Mercedes-Benz crossover   0     5.5     Petrol      yes          2016"
      ]
     },
     "metadata": {},
     "output_type": "display_data"
    }
   ],
   "source": [
    "## VIEWING THE FIRST 6 ROWS USING HEAD() FUNCTION\n",
    "head(data)"
   ]
  },
  {
   "cell_type": "code",
   "execution_count": 18,
   "metadata": {},
   "outputs": [
    {
     "data": {
      "text/plain": [
       "     Price                  Brand            Body         Mileage     \n",
       " Min.   :   600   Audi         :457   crossover: 901   Min.   :  0.0  \n",
       " 1st Qu.:  6999   BMW          :694   hatch    : 285   1st Qu.: 86.0  \n",
       " Median : 11500   Mercedes-Benz:921   other    : 433   Median :155.0  \n",
       " Mean   : 19419   Mitsubishi   :327   sedan    :1649   Mean   :161.2  \n",
       " 3rd Qu.: 21700   Renault      :469   vagon    : 402   3rd Qu.:230.0  \n",
       " Max.   :300000   Toyota       :541   van      : 675   Max.   :980.0  \n",
       " NA's   :172      Volkswagen   :936                                   \n",
       "    EngineV       Engine.Type   Registration      Year     \n",
       " Min.   : 0.600   Diesel:2019   no : 398     Min.   :1969  \n",
       " 1st Qu.: 1.800   Gas   : 613   yes:3947     1st Qu.:2003  \n",
       " Median : 2.200   Other : 154                Median :2008  \n",
       " Mean   : 2.791   Petrol:1559                Mean   :2007  \n",
       " 3rd Qu.: 3.000                              3rd Qu.:2012  \n",
       " Max.   :99.990                              Max.   :2016  \n",
       " NA's   :150                                               "
      ]
     },
     "metadata": {},
     "output_type": "display_data"
    }
   ],
   "source": [
    "##SUMMARY OF VARIABLES IN THE DATASET; STATISTICAL SUMMARY OF CONTINOUS VARIABLES AND VALUE COUNTS OF CATAGOTICAL VARIABLES\n",
    "summary(data)"
   ]
  },
  {
   "cell_type": "code",
   "execution_count": null,
   "metadata": {},
   "outputs": [],
   "source": []
  }
 ],
 "metadata": {
  "kernelspec": {
   "display_name": "R",
   "language": "R",
   "name": "ir"
  },
  "language_info": {
   "codemirror_mode": "r",
   "file_extension": ".r",
   "mimetype": "text/x-r-source",
   "name": "R",
   "pygments_lexer": "r",
   "version": "3.6.1"
  },
  "toc": {
   "base_numbering": 1,
   "nav_menu": {},
   "number_sections": true,
   "sideBar": true,
   "skip_h1_title": false,
   "title_cell": "Table of Contents",
   "title_sidebar": "Contents",
   "toc_cell": false,
   "toc_position": {},
   "toc_section_display": true,
   "toc_window_display": false
  }
 },
 "nbformat": 4,
 "nbformat_minor": 2
}
