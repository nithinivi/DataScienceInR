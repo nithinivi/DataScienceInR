{
 "cells": [
  {
   "cell_type": "markdown",
   "metadata": {},
   "source": [
    "# Exploratory Data Analysis - EDA"
   ]
  },
  {
   "cell_type": "code",
   "execution_count": 2,
   "metadata": {},
   "outputs": [],
   "source": [
    "## CALLING LIBRARIES USED FOR EDA\n",
    "\n",
    "library(\"tidyverse\")\n",
    "library(\"ggplot2\")"
   ]
  },
  {
   "cell_type": "code",
   "execution_count": 3,
   "metadata": {},
   "outputs": [],
   "source": [
    "## STORING DATA IN THE CSV FILE TO VARIABLE \"data\"\n",
    "data = read.csv('C:/Users/T0SHIBA/DataScienceInR/data/Mulitple LR_Cars.csv')"
   ]
  },
  {
   "cell_type": "code",
   "execution_count": 4,
   "metadata": {},
   "outputs": [
    {
     "data": {
      "text/html": [
       "<table>\n",
       "<thead><tr><th scope=col>Price</th><th scope=col>Brand</th><th scope=col>Body</th><th scope=col>Mileage</th><th scope=col>EngineV</th><th scope=col>Engine.Type</th><th scope=col>Registration</th><th scope=col>Year</th></tr></thead>\n",
       "<tbody>\n",
       "\t<tr><td>  4200       </td><td>BMW          </td><td>sedan        </td><td>277          </td><td>2.0          </td><td>Petrol       </td><td>yes          </td><td>1991         </td></tr>\n",
       "\t<tr><td>  7900       </td><td>Mercedes-Benz</td><td>van          </td><td>427          </td><td>2.9          </td><td>Diesel       </td><td>yes          </td><td>1999         </td></tr>\n",
       "\t<tr><td> 13300       </td><td>Mercedes-Benz</td><td>sedan        </td><td>358          </td><td>5.0          </td><td>Gas          </td><td>yes          </td><td>2003         </td></tr>\n",
       "\t<tr><td> 23000       </td><td>Audi         </td><td>crossover    </td><td>240          </td><td>4.2          </td><td>Petrol       </td><td>yes          </td><td>2007         </td></tr>\n",
       "\t<tr><td> 18300       </td><td>Toyota       </td><td>crossover    </td><td>120          </td><td>2.0          </td><td>Petrol       </td><td>yes          </td><td>2011         </td></tr>\n",
       "\t<tr><td>199999       </td><td>Mercedes-Benz</td><td>crossover    </td><td>  0          </td><td>5.5          </td><td>Petrol       </td><td>yes          </td><td>2016         </td></tr>\n",
       "</tbody>\n",
       "</table>\n"
      ],
      "text/latex": [
       "\\begin{tabular}{r|llllllll}\n",
       " Price & Brand & Body & Mileage & EngineV & Engine.Type & Registration & Year\\\\\n",
       "\\hline\n",
       "\t   4200        & BMW           & sedan         & 277           & 2.0           & Petrol        & yes           & 1991         \\\\\n",
       "\t   7900        & Mercedes-Benz & van           & 427           & 2.9           & Diesel        & yes           & 1999         \\\\\n",
       "\t  13300        & Mercedes-Benz & sedan         & 358           & 5.0           & Gas           & yes           & 2003         \\\\\n",
       "\t  23000        & Audi          & crossover     & 240           & 4.2           & Petrol        & yes           & 2007         \\\\\n",
       "\t  18300        & Toyota        & crossover     & 120           & 2.0           & Petrol        & yes           & 2011         \\\\\n",
       "\t 199999        & Mercedes-Benz & crossover     &   0           & 5.5           & Petrol        & yes           & 2016         \\\\\n",
       "\\end{tabular}\n"
      ],
      "text/markdown": [
       "\n",
       "| Price | Brand | Body | Mileage | EngineV | Engine.Type | Registration | Year |\n",
       "|---|---|---|---|---|---|---|---|\n",
       "|   4200        | BMW           | sedan         | 277           | 2.0           | Petrol        | yes           | 1991          |\n",
       "|   7900        | Mercedes-Benz | van           | 427           | 2.9           | Diesel        | yes           | 1999          |\n",
       "|  13300        | Mercedes-Benz | sedan         | 358           | 5.0           | Gas           | yes           | 2003          |\n",
       "|  23000        | Audi          | crossover     | 240           | 4.2           | Petrol        | yes           | 2007          |\n",
       "|  18300        | Toyota        | crossover     | 120           | 2.0           | Petrol        | yes           | 2011          |\n",
       "| 199999        | Mercedes-Benz | crossover     |   0           | 5.5           | Petrol        | yes           | 2016          |\n",
       "\n"
      ],
      "text/plain": [
       "  Price  Brand         Body      Mileage EngineV Engine.Type Registration Year\n",
       "1   4200 BMW           sedan     277     2.0     Petrol      yes          1991\n",
       "2   7900 Mercedes-Benz van       427     2.9     Diesel      yes          1999\n",
       "3  13300 Mercedes-Benz sedan     358     5.0     Gas         yes          2003\n",
       "4  23000 Audi          crossover 240     4.2     Petrol      yes          2007\n",
       "5  18300 Toyota        crossover 120     2.0     Petrol      yes          2011\n",
       "6 199999 Mercedes-Benz crossover   0     5.5     Petrol      yes          2016"
      ]
     },
     "metadata": {},
     "output_type": "display_data"
    }
   ],
   "source": [
    "## VIEWING THE FIRST 6 ROWS USING HEAD() FUNCTION\n",
    "head(data)"
   ]
  },
  {
   "cell_type": "markdown",
   "metadata": {},
   "source": [
    "## 1. VARIABLE IDENTIFICATION"
   ]
  },
  {
   "cell_type": "markdown",
   "metadata": {},
   "source": [
    "##### CONTINUOUS OR CATAGORICAL"
   ]
  },
  {
   "cell_type": "markdown",
   "metadata": {},
   "source": [
    "###### Continuous Variables : Price , Mileage , EngineV , Year"
   ]
  },
  {
   "cell_type": "markdown",
   "metadata": {},
   "source": [
    "###### Catagorical Variables : Brand , Body , Engine.Type , Registration"
   ]
  },
  {
   "cell_type": "markdown",
   "metadata": {},
   "source": [
    "## 2. TREATMENT OF MISSING VALUES"
   ]
  },
  {
   "cell_type": "code",
   "execution_count": 5,
   "metadata": {},
   "outputs": [
    {
     "data": {
      "text/html": [
       "<dl class=dl-horizontal>\n",
       "\t<dt>Price</dt>\n",
       "\t\t<dd>172</dd>\n",
       "\t<dt>Brand</dt>\n",
       "\t\t<dd>0</dd>\n",
       "\t<dt>Body</dt>\n",
       "\t\t<dd>0</dd>\n",
       "\t<dt>Mileage</dt>\n",
       "\t\t<dd>0</dd>\n",
       "\t<dt>EngineV</dt>\n",
       "\t\t<dd>150</dd>\n",
       "\t<dt>Engine.Type</dt>\n",
       "\t\t<dd>0</dd>\n",
       "\t<dt>Registration</dt>\n",
       "\t\t<dd>0</dd>\n",
       "\t<dt>Year</dt>\n",
       "\t\t<dd>0</dd>\n",
       "</dl>\n"
      ],
      "text/latex": [
       "\\begin{description*}\n",
       "\\item[Price] 172\n",
       "\\item[Brand] 0\n",
       "\\item[Body] 0\n",
       "\\item[Mileage] 0\n",
       "\\item[EngineV] 150\n",
       "\\item[Engine.Type] 0\n",
       "\\item[Registration] 0\n",
       "\\item[Year] 0\n",
       "\\end{description*}\n"
      ],
      "text/markdown": [
       "Price\n",
       ":   172Brand\n",
       ":   0Body\n",
       ":   0Mileage\n",
       ":   0EngineV\n",
       ":   150Engine.Type\n",
       ":   0Registration\n",
       ":   0Year\n",
       ":   0\n",
       "\n"
      ],
      "text/plain": [
       "       Price        Brand         Body      Mileage      EngineV  Engine.Type \n",
       "         172            0            0            0          150            0 \n",
       "Registration         Year \n",
       "           0            0 "
      ]
     },
     "metadata": {},
     "output_type": "display_data"
    }
   ],
   "source": [
    "## TAKING COUNT OF MISSING VALUES IN THE DATASET\n",
    "colSums(is.na(data))"
   ]
  },
  {
   "cell_type": "markdown",
   "metadata": {},
   "source": [
    "### Here, missing values are in columns : Price & EngineV"
   ]
  },
  {
   "cell_type": "code",
   "execution_count": 11,
   "metadata": {},
   "outputs": [
    {
     "data": {
      "text/html": [
       "<ol class=list-inline>\n",
       "\t<li>4345</li>\n",
       "\t<li>8</li>\n",
       "</ol>\n"
      ],
      "text/latex": [
       "\\begin{enumerate*}\n",
       "\\item 4345\n",
       "\\item 8\n",
       "\\end{enumerate*}\n"
      ],
      "text/markdown": [
       "1. 4345\n",
       "2. 8\n",
       "\n",
       "\n"
      ],
      "text/plain": [
       "[1] 4345    8"
      ]
     },
     "metadata": {},
     "output_type": "display_data"
    }
   ],
   "source": [
    "## CHECKING NUMBER OF COLUMNS AND ROWS\n",
    "dim(data)"
   ]
  },
  {
   "cell_type": "markdown",
   "metadata": {},
   "source": [
    "##### Here the number of null value rows are very less considered to the total data, hence the null values are deleted"
   ]
  },
  {
   "cell_type": "code",
   "execution_count": 14,
   "metadata": {},
   "outputs": [],
   "source": [
    "## DELETING NULL VALUE ROWS\n",
    "data = na.omit(data)"
   ]
  },
  {
   "cell_type": "code",
   "execution_count": 15,
   "metadata": {},
   "outputs": [
    {
     "data": {
      "text/html": [
       "<dl class=dl-horizontal>\n",
       "\t<dt>Price</dt>\n",
       "\t\t<dd>0</dd>\n",
       "\t<dt>Brand</dt>\n",
       "\t\t<dd>0</dd>\n",
       "\t<dt>Body</dt>\n",
       "\t\t<dd>0</dd>\n",
       "\t<dt>Mileage</dt>\n",
       "\t\t<dd>0</dd>\n",
       "\t<dt>EngineV</dt>\n",
       "\t\t<dd>0</dd>\n",
       "\t<dt>Engine.Type</dt>\n",
       "\t\t<dd>0</dd>\n",
       "\t<dt>Registration</dt>\n",
       "\t\t<dd>0</dd>\n",
       "\t<dt>Year</dt>\n",
       "\t\t<dd>0</dd>\n",
       "</dl>\n"
      ],
      "text/latex": [
       "\\begin{description*}\n",
       "\\item[Price] 0\n",
       "\\item[Brand] 0\n",
       "\\item[Body] 0\n",
       "\\item[Mileage] 0\n",
       "\\item[EngineV] 0\n",
       "\\item[Engine.Type] 0\n",
       "\\item[Registration] 0\n",
       "\\item[Year] 0\n",
       "\\end{description*}\n"
      ],
      "text/markdown": [
       "Price\n",
       ":   0Brand\n",
       ":   0Body\n",
       ":   0Mileage\n",
       ":   0EngineV\n",
       ":   0Engine.Type\n",
       ":   0Registration\n",
       ":   0Year\n",
       ":   0\n",
       "\n"
      ],
      "text/plain": [
       "       Price        Brand         Body      Mileage      EngineV  Engine.Type \n",
       "           0            0            0            0            0            0 \n",
       "Registration         Year \n",
       "           0            0 "
      ]
     },
     "metadata": {},
     "output_type": "display_data"
    }
   ],
   "source": [
    "colSums(is.na(data))"
   ]
  },
  {
   "cell_type": "code",
   "execution_count": 16,
   "metadata": {},
   "outputs": [
    {
     "data": {
      "text/html": [
       "<ol class=list-inline>\n",
       "\t<li>4025</li>\n",
       "\t<li>8</li>\n",
       "</ol>\n"
      ],
      "text/latex": [
       "\\begin{enumerate*}\n",
       "\\item 4025\n",
       "\\item 8\n",
       "\\end{enumerate*}\n"
      ],
      "text/markdown": [
       "1. 4025\n",
       "2. 8\n",
       "\n",
       "\n"
      ],
      "text/plain": [
       "[1] 4025    8"
      ]
     },
     "metadata": {},
     "output_type": "display_data"
    }
   ],
   "source": [
    "dim(data)"
   ]
  },
  {
   "cell_type": "markdown",
   "metadata": {},
   "source": [
    "## 3. TREATMENT OF OUTLIERS"
   ]
  },
  {
   "cell_type": "code",
   "execution_count": 20,
   "metadata": {},
   "outputs": [
    {
     "data": {
      "image/png": "[encoded data removed]",
      "text/plain": [
       "plot without title"
      ]
     },
     "metadata": {},
     "output_type": "display_data"
    }
   ],
   "source": [
    "ggplot(data=data,aes(x=Brand,y=Price))+ geom_boxplot()"
   ]
  },
  {
   "cell_type": "code",
   "execution_count": 24,
   "metadata": {},
   "outputs": [],
   "source": [
    "iqr_price = IQR(data$Price)"
   ]
  },
  {
   "cell_type": "code",
   "execution_count": 25,
   "metadata": {},
   "outputs": [
    {
     "data": {
      "text/html": [
       "14901"
      ],
      "text/latex": [
       "14901"
      ],
      "text/markdown": [
       "14901"
      ],
      "text/plain": [
       "[1] 14901"
      ]
     },
     "metadata": {},
     "output_type": "display_data"
    }
   ],
   "source": [
    "iqr_price"
   ]
  },
  {
   "cell_type": "code",
   "execution_count": null,
   "metadata": {},
   "outputs": [],
   "source": []
  }
 ],
 "metadata": {
  "kernelspec": {
   "display_name": "R",
   "language": "R",
   "name": "ir"
  },
  "language_info": {
   "codemirror_mode": "r",
   "file_extension": ".r",
   "mimetype": "text/x-r-source",
   "name": "R",
   "pygments_lexer": "r",
   "version": "3.6.1"
  }
 },
 "nbformat": 4,
 "nbformat_minor": 4
}
