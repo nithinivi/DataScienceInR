{
 "cells": [
  {
   "cell_type": "markdown",
   "metadata": {},
   "source": [
    "# Exploratory Data Analysis - EDA"
   ]
  },
  {
   "cell_type": "code",
   "execution_count": 3,
   "metadata": {},
   "outputs": [],
   "source": [
    "## CALLING LIBRARIES USED FOR EDA\n",
    "\n",
    "library(\"tidyverse\")\n",
    "library(\"ggplot2\")"
   ]
  },
  {
   "cell_type": "code",
   "execution_count": 4,
   "metadata": {},
   "outputs": [],
   "source": [
    "## STORING DATA IN THE CSV FILE TO VARIABLE \"data\"\n",
    "data = read.csv('C:/Users/T0SHIBA/DataScienceInR/data/Mulitple LR_Cars.csv')"
   ]
  },
  {
   "cell_type": "code",
   "execution_count": 5,
   "metadata": {},
   "outputs": [
    {
     "data": {
      "text/html": [
       "<table>\n",
       "<thead><tr><th scope=col>Price</th><th scope=col>Brand</th><th scope=col>Body</th><th scope=col>Mileage</th><th scope=col>EngineV</th><th scope=col>Engine.Type</th><th scope=col>Registration</th><th scope=col>Year</th></tr></thead>\n",
       "<tbody>\n",
       "\t<tr><td>  4200       </td><td>BMW          </td><td>sedan        </td><td>277          </td><td>2.0          </td><td>Petrol       </td><td>yes          </td><td>1991         </td></tr>\n",
       "\t<tr><td>  7900       </td><td>Mercedes-Benz</td><td>van          </td><td>427          </td><td>2.9          </td><td>Diesel       </td><td>yes          </td><td>1999         </td></tr>\n",
       "\t<tr><td> 13300       </td><td>Mercedes-Benz</td><td>sedan        </td><td>358          </td><td>5.0          </td><td>Gas          </td><td>yes          </td><td>2003         </td></tr>\n",
       "\t<tr><td> 23000       </td><td>Audi         </td><td>crossover    </td><td>240          </td><td>4.2          </td><td>Petrol       </td><td>yes          </td><td>2007         </td></tr>\n",
       "\t<tr><td> 18300       </td><td>Toyota       </td><td>crossover    </td><td>120          </td><td>2.0          </td><td>Petrol       </td><td>yes          </td><td>2011         </td></tr>\n",
       "\t<tr><td>199999       </td><td>Mercedes-Benz</td><td>crossover    </td><td>  0          </td><td>5.5          </td><td>Petrol       </td><td>yes          </td><td>2016         </td></tr>\n",
       "</tbody>\n",
       "</table>\n"
      ],
      "text/latex": [
       "\\begin{tabular}{r|llllllll}\n",
       " Price & Brand & Body & Mileage & EngineV & Engine.Type & Registration & Year\\\\\n",
       "\\hline\n",
       "\t   4200        & BMW           & sedan         & 277           & 2.0           & Petrol        & yes           & 1991         \\\\\n",
       "\t   7900        & Mercedes-Benz & van           & 427           & 2.9           & Diesel        & yes           & 1999         \\\\\n",
       "\t  13300        & Mercedes-Benz & sedan         & 358           & 5.0           & Gas           & yes           & 2003         \\\\\n",
       "\t  23000        & Audi          & crossover     & 240           & 4.2           & Petrol        & yes           & 2007         \\\\\n",
       "\t  18300        & Toyota        & crossover     & 120           & 2.0           & Petrol        & yes           & 2011         \\\\\n",
       "\t 199999        & Mercedes-Benz & crossover     &   0           & 5.5           & Petrol        & yes           & 2016         \\\\\n",
       "\\end{tabular}\n"
      ],
      "text/markdown": [
       "\n",
       "| Price | Brand | Body | Mileage | EngineV | Engine.Type | Registration | Year |\n",
       "|---|---|---|---|---|---|---|---|\n",
       "|   4200        | BMW           | sedan         | 277           | 2.0           | Petrol        | yes           | 1991          |\n",
       "|   7900        | Mercedes-Benz | van           | 427           | 2.9           | Diesel        | yes           | 1999          |\n",
       "|  13300        | Mercedes-Benz | sedan         | 358           | 5.0           | Gas           | yes           | 2003          |\n",
       "|  23000        | Audi          | crossover     | 240           | 4.2           | Petrol        | yes           | 2007          |\n",
       "|  18300        | Toyota        | crossover     | 120           | 2.0           | Petrol        | yes           | 2011          |\n",
       "| 199999        | Mercedes-Benz | crossover     |   0           | 5.5           | Petrol        | yes           | 2016          |\n",
       "\n"
      ],
      "text/plain": [
       "  Price  Brand         Body      Mileage EngineV Engine.Type Registration Year\n",
       "1   4200 BMW           sedan     277     2.0     Petrol      yes          1991\n",
       "2   7900 Mercedes-Benz van       427     2.9     Diesel      yes          1999\n",
       "3  13300 Mercedes-Benz sedan     358     5.0     Gas         yes          2003\n",
       "4  23000 Audi          crossover 240     4.2     Petrol      yes          2007\n",
       "5  18300 Toyota        crossover 120     2.0     Petrol      yes          2011\n",
       "6 199999 Mercedes-Benz crossover   0     5.5     Petrol      yes          2016"
      ]
     },
     "metadata": {},
     "output_type": "display_data"
    }
   ],
   "source": [
    "## VIEWING THE FIRST 6 ROWS USING HEAD() FUNCTION\n",
    "head(data)"
   ]
  },
  {
   "cell_type": "markdown",
   "metadata": {},
   "source": [
    "## 1. VARIABLE IDENTIFICATION"
   ]
  },
  {
   "cell_type": "markdown",
   "metadata": {},
   "source": [
    "##### CONTINUOUS OR CATAGORICAL"
   ]
  },
  {
   "cell_type": "markdown",
   "metadata": {},
   "source": [
    "###### Continuous Variables : Price , Mileage , EngineV , Year"
   ]
  },
  {
   "cell_type": "markdown",
   "metadata": {},
   "source": [
    "###### Catagorical Variables : Brand , Body , Engine.Type , Registration"
   ]
  },
  {
   "cell_type": "markdown",
   "metadata": {},
   "source": [
    "## 2. TREATMENT OF MISSING VALUES"
   ]
  },
  {
   "cell_type": "code",
   "execution_count": 6,
   "metadata": {},
   "outputs": [
    {
     "data": {
      "text/html": [
       "<dl class=dl-horizontal>\n",
       "\t<dt>Price</dt>\n",
       "\t\t<dd>172</dd>\n",
       "\t<dt>Brand</dt>\n",
       "\t\t<dd>0</dd>\n",
       "\t<dt>Body</dt>\n",
       "\t\t<dd>0</dd>\n",
       "\t<dt>Mileage</dt>\n",
       "\t\t<dd>0</dd>\n",
       "\t<dt>EngineV</dt>\n",
       "\t\t<dd>150</dd>\n",
       "\t<dt>Engine.Type</dt>\n",
       "\t\t<dd>0</dd>\n",
       "\t<dt>Registration</dt>\n",
       "\t\t<dd>0</dd>\n",
       "\t<dt>Year</dt>\n",
       "\t\t<dd>0</dd>\n",
       "</dl>\n"
      ],
      "text/latex": [
       "\\begin{description*}\n",
       "\\item[Price] 172\n",
       "\\item[Brand] 0\n",
       "\\item[Body] 0\n",
       "\\item[Mileage] 0\n",
       "\\item[EngineV] 150\n",
       "\\item[Engine.Type] 0\n",
       "\\item[Registration] 0\n",
       "\\item[Year] 0\n",
       "\\end{description*}\n"
      ],
      "text/markdown": [
       "Price\n",
       ":   172Brand\n",
       ":   0Body\n",
       ":   0Mileage\n",
       ":   0EngineV\n",
       ":   150Engine.Type\n",
       ":   0Registration\n",
       ":   0Year\n",
       ":   0\n",
       "\n"
      ],
      "text/plain": [
       "       Price        Brand         Body      Mileage      EngineV  Engine.Type \n",
       "         172            0            0            0          150            0 \n",
       "Registration         Year \n",
       "           0            0 "
      ]
     },
     "metadata": {},
     "output_type": "display_data"
    }
   ],
   "source": [
    "## TAKING COUNT OF MISSING VALUES IN THE DATASET\n",
    "colSums(is.na(data))"
   ]
  },
  {
   "cell_type": "markdown",
   "metadata": {},
   "source": [
    "### Here, missing values are in columns : Price & EngineV"
   ]
  },
  {
   "cell_type": "code",
   "execution_count": 7,
   "metadata": {},
   "outputs": [
    {
     "data": {
      "text/html": [
       "<ol class=list-inline>\n",
       "\t<li>4345</li>\n",
       "\t<li>8</li>\n",
       "</ol>\n"
      ],
      "text/latex": [
       "\\begin{enumerate*}\n",
       "\\item 4345\n",
       "\\item 8\n",
       "\\end{enumerate*}\n"
      ],
      "text/markdown": [
       "1. 4345\n",
       "2. 8\n",
       "\n",
       "\n"
      ],
      "text/plain": [
       "[1] 4345    8"
      ]
     },
     "metadata": {},
     "output_type": "display_data"
    }
   ],
   "source": [
    "## CHECKING NUMBER OF COLUMNS AND ROWS\n",
    "dim(data)"
   ]
  },
  {
   "cell_type": "markdown",
   "metadata": {},
   "source": [
    "##### Here the number of null value rows are very less considered to the total data, hence the null values are deleted"
   ]
  },
  {
   "cell_type": "code",
   "execution_count": 8,
   "metadata": {},
   "outputs": [],
   "source": [
    "## DELETING NULL VALUE ROWS\n",
    "data = na.omit(data)"
   ]
  },
  {
   "cell_type": "code",
   "execution_count": 9,
   "metadata": {},
   "outputs": [
    {
     "data": {
      "text/html": [
       "<dl class=dl-horizontal>\n",
       "\t<dt>Price</dt>\n",
       "\t\t<dd>0</dd>\n",
       "\t<dt>Brand</dt>\n",
       "\t\t<dd>0</dd>\n",
       "\t<dt>Body</dt>\n",
       "\t\t<dd>0</dd>\n",
       "\t<dt>Mileage</dt>\n",
       "\t\t<dd>0</dd>\n",
       "\t<dt>EngineV</dt>\n",
       "\t\t<dd>0</dd>\n",
       "\t<dt>Engine.Type</dt>\n",
       "\t\t<dd>0</dd>\n",
       "\t<dt>Registration</dt>\n",
       "\t\t<dd>0</dd>\n",
       "\t<dt>Year</dt>\n",
       "\t\t<dd>0</dd>\n",
       "</dl>\n"
      ],
      "text/latex": [
       "\\begin{description*}\n",
       "\\item[Price] 0\n",
       "\\item[Brand] 0\n",
       "\\item[Body] 0\n",
       "\\item[Mileage] 0\n",
       "\\item[EngineV] 0\n",
       "\\item[Engine.Type] 0\n",
       "\\item[Registration] 0\n",
       "\\item[Year] 0\n",
       "\\end{description*}\n"
      ],
      "text/markdown": [
       "Price\n",
       ":   0Brand\n",
       ":   0Body\n",
       ":   0Mileage\n",
       ":   0EngineV\n",
       ":   0Engine.Type\n",
       ":   0Registration\n",
       ":   0Year\n",
       ":   0\n",
       "\n"
      ],
      "text/plain": [
       "       Price        Brand         Body      Mileage      EngineV  Engine.Type \n",
       "           0            0            0            0            0            0 \n",
       "Registration         Year \n",
       "           0            0 "
      ]
     },
     "metadata": {},
     "output_type": "display_data"
    }
   ],
   "source": [
    "colSums(is.na(data))"
   ]
  },
  {
   "cell_type": "code",
   "execution_count": 10,
   "metadata": {},
   "outputs": [
    {
     "data": {
      "text/html": [
       "<ol class=list-inline>\n",
       "\t<li>4025</li>\n",
       "\t<li>8</li>\n",
       "</ol>\n"
      ],
      "text/latex": [
       "\\begin{enumerate*}\n",
       "\\item 4025\n",
       "\\item 8\n",
       "\\end{enumerate*}\n"
      ],
      "text/markdown": [
       "1. 4025\n",
       "2. 8\n",
       "\n",
       "\n"
      ],
      "text/plain": [
       "[1] 4025    8"
      ]
     },
     "metadata": {},
     "output_type": "display_data"
    }
   ],
   "source": [
    "## NUMBER OF ROWS AND COLUMNS AFTER DELETING NULL VALUES\n",
    "dim(data)"
   ]
  },
  {
   "cell_type": "markdown",
   "metadata": {},
   "source": [
    "## 3. TREATMENT OF OUTLIERS"
   ]
  },
  {
   "cell_type": "markdown",
   "metadata": {},
   "source": [
    "##### OUTLIERS NEED TO BE CHECKED AND TREATED FOR CONTINOUS VARIABLES"
   ]
  },
  {
   "cell_type": "markdown",
   "metadata": {},
   "source": [
    "### I. PRICE"
   ]
  },
  {
   "cell_type": "code",
   "execution_count": 11,
   "metadata": {},
   "outputs": [
    {
     "data": {
      "image/png": "[encoded data removed]",
      "text/plain": [
       "plot without title"
      ]
     },
     "metadata": {},
     "output_type": "display_data"
    }
   ],
   "source": [
    "## CHECKING FOR OUTLIERS WITH BOXPLOT\n",
    "ggplot(data=data,aes(y=Price))+ geom_boxplot(fill=\"brown4\")"
   ]
  },
  {
   "cell_type": "code",
   "execution_count": 12,
   "metadata": {},
   "outputs": [],
   "source": [
    "## FINDING INTER QUARTILE RANGE TO CALCULATE MAXIMUM VALUE OF DISTRIBUTION USING \"IQR\" FUNCTION\n",
    "iqr_price = IQR(data$Price)"
   ]
  },
  {
   "cell_type": "code",
   "execution_count": 13,
   "metadata": {},
   "outputs": [
    {
     "data": {
      "text/html": [
       "14901"
      ],
      "text/latex": [
       "14901"
      ],
      "text/markdown": [
       "14901"
      ],
      "text/plain": [
       "[1] 14901"
      ]
     },
     "metadata": {},
     "output_type": "display_data"
    }
   ],
   "source": [
    "iqr_price"
   ]
  },
  {
   "cell_type": "code",
   "execution_count": 14,
   "metadata": {},
   "outputs": [
    {
     "data": {
      "text/html": [
       "<dl class=dl-horizontal>\n",
       "\t<dt>0%</dt>\n",
       "\t\t<dd>600</dd>\n",
       "\t<dt>25%</dt>\n",
       "\t\t<dd>6999</dd>\n",
       "\t<dt>50%</dt>\n",
       "\t\t<dd>11500</dd>\n",
       "\t<dt>75%</dt>\n",
       "\t\t<dd>21900</dd>\n",
       "\t<dt>100%</dt>\n",
       "\t\t<dd>3e+05</dd>\n",
       "</dl>\n"
      ],
      "text/latex": [
       "\\begin{description*}\n",
       "\\item[0\\textbackslash{}\\%] 600\n",
       "\\item[25\\textbackslash{}\\%] 6999\n",
       "\\item[50\\textbackslash{}\\%] 11500\n",
       "\\item[75\\textbackslash{}\\%] 21900\n",
       "\\item[100\\textbackslash{}\\%] 3e+05\n",
       "\\end{description*}\n"
      ],
      "text/markdown": [
       "0%\n",
       ":   60025%\n",
       ":   699950%\n",
       ":   1150075%\n",
       ":   21900100%\n",
       ":   3e+05\n",
       "\n"
      ],
      "text/plain": [
       "    0%    25%    50%    75%   100% \n",
       "   600   6999  11500  21900 300000 "
      ]
     },
     "metadata": {},
     "output_type": "display_data"
    }
   ],
   "source": [
    "## QUANTILE FUNTION WILL GIVE US THE IMPORTANT QUARTILES\n",
    "quantile(data$Price)"
   ]
  },
  {
   "cell_type": "code",
   "execution_count": 15,
   "metadata": {},
   "outputs": [
    {
     "data": {
      "text/html": [
       "<strong>75%:</strong> 21900"
      ],
      "text/latex": [
       "\\textbf{75\\textbackslash{}\\%:} 21900"
      ],
      "text/markdown": [
       "**75%:** 21900"
      ],
      "text/plain": [
       "  75% \n",
       "21900 "
      ]
     },
     "metadata": {},
     "output_type": "display_data"
    }
   ],
   "source": [
    "## WITH \"PROBS\" ATTIBUTE WE CAN SPECIFY THE PARTICULAR QUANTILE NEEDED (IT SHOULD BE BETWEEN 0 AND 1)\n",
    "quantile(data$Price,probs=0.75)"
   ]
  },
  {
   "cell_type": "code",
   "execution_count": 16,
   "metadata": {},
   "outputs": [],
   "source": [
    "## MAX VALUE OF PRICE IS CALCULATED USING FORMULA \"Q3 + (1.5*IQR)\"\n",
    "max_price = quantile(data$Price,probs=0.75)+ (1.5*iqr_price)"
   ]
  },
  {
   "cell_type": "code",
   "execution_count": 17,
   "metadata": {},
   "outputs": [
    {
     "data": {
      "text/html": [
       "<strong>75%:</strong> 44251.5"
      ],
      "text/latex": [
       "\\textbf{75\\textbackslash{}\\%:} 44251.5"
      ],
      "text/markdown": [
       "**75%:** 44251.5"
      ],
      "text/plain": [
       "    75% \n",
       "44251.5 "
      ]
     },
     "metadata": {},
     "output_type": "display_data"
    }
   ],
   "source": [
    "max_price"
   ]
  },
  {
   "cell_type": "code",
   "execution_count": 18,
   "metadata": {},
   "outputs": [
    {
     "data": {
      "text/html": [
       "<table>\n",
       "<thead><tr><th scope=col>Price</th><th scope=col>Brand</th><th scope=col>Body</th><th scope=col>Mileage</th><th scope=col>EngineV</th><th scope=col>Engine.Type</th><th scope=col>Registration</th><th scope=col>Year</th></tr></thead>\n",
       "<tbody>\n",
       "\t<tr><td>199999.00    </td><td>Mercedes-Benz</td><td>crossover    </td><td>  0          </td><td>5.50         </td><td>Petrol       </td><td>yes          </td><td>2016         </td></tr>\n",
       "\t<tr><td> 67500.00    </td><td>BMW          </td><td>crossover    </td><td>  1          </td><td>2.50         </td><td>Diesel       </td><td>yes          </td><td>2016         </td></tr>\n",
       "\t<tr><td> 63000.00    </td><td>Mercedes-Benz</td><td>crossover    </td><td> 86          </td><td>5.50         </td><td>Petrol       </td><td>yes          </td><td>2009         </td></tr>\n",
       "\t<tr><td>133000.00    </td><td>BMW          </td><td>crossover    </td><td>  7          </td><td>4.40         </td><td>Petrol       </td><td>yes          </td><td>2015         </td></tr>\n",
       "\t<tr><td> 50000.00    </td><td>Mercedes-Benz</td><td>sedan        </td><td>240          </td><td>3.50         </td><td>Petrol       </td><td>yes          </td><td>2006         </td></tr>\n",
       "\t<tr><td> 69999.00    </td><td>Audi         </td><td>crossover    </td><td> 21          </td><td>3.00         </td><td>Petrol       </td><td>yes          </td><td>2015         </td></tr>\n",
       "\t<tr><td>107999.00    </td><td>Mercedes-Benz</td><td>crossover    </td><td>  0          </td><td>2.98         </td><td>Diesel       </td><td>yes          </td><td>2016         </td></tr>\n",
       "\t<tr><td> 45500.00    </td><td>BMW          </td><td>crossover    </td><td> 76          </td><td>4.40         </td><td>Petrol       </td><td>yes          </td><td>2010         </td></tr>\n",
       "\t<tr><td> 47000.00    </td><td>BMW          </td><td>other        </td><td>  5          </td><td>2.00         </td><td>Petrol       </td><td>yes          </td><td>2014         </td></tr>\n",
       "\t<tr><td> 46800.00    </td><td>BMW          </td><td>sedan        </td><td> 33          </td><td>2.00         </td><td>Diesel       </td><td>yes          </td><td>2014         </td></tr>\n",
       "\t<tr><td>195000.00    </td><td>Toyota       </td><td>crossover    </td><td>  0          </td><td>4.50         </td><td>Diesel       </td><td>yes          </td><td>2016         </td></tr>\n",
       "\t<tr><td> 87777.00    </td><td>Mercedes-Benz</td><td>van          </td><td>  0          </td><td>2.20         </td><td>Diesel       </td><td>yes          </td><td>2016         </td></tr>\n",
       "\t<tr><td> 70000.00    </td><td>BMW          </td><td>sedan        </td><td> 16          </td><td>3.00         </td><td>Diesel       </td><td>yes          </td><td>2014         </td></tr>\n",
       "\t<tr><td>169000.00    </td><td>Mercedes-Benz</td><td>other        </td><td>  1          </td><td>4.70         </td><td>Petrol       </td><td>yes          </td><td>2015         </td></tr>\n",
       "\t<tr><td> 51500.00    </td><td>Audi         </td><td>crossover    </td><td> 27          </td><td>3.00         </td><td>Diesel       </td><td>yes          </td><td>2013         </td></tr>\n",
       "\t<tr><td> 99999.00    </td><td>Toyota       </td><td>crossover    </td><td>  0          </td><td>4.50         </td><td>Diesel       </td><td>yes          </td><td>2016         </td></tr>\n",
       "\t<tr><td>135000.00    </td><td>Toyota       </td><td>crossover    </td><td>  1          </td><td>4.50         </td><td>Diesel       </td><td>yes          </td><td>2011         </td></tr>\n",
       "\t<tr><td>109999.00    </td><td>Mercedes-Benz</td><td>crossover    </td><td>  0          </td><td>3.00         </td><td>Diesel       </td><td>yes          </td><td>2016         </td></tr>\n",
       "\t<tr><td> 44999.00    </td><td>BMW          </td><td>crossover    </td><td> 87          </td><td>3.00         </td><td>Diesel       </td><td>yes          </td><td>2011         </td></tr>\n",
       "\t<tr><td> 61000.00    </td><td>Volkswagen   </td><td>crossover    </td><td>  2          </td><td>3.00         </td><td>Diesel       </td><td>yes          </td><td>2016         </td></tr>\n",
       "\t<tr><td> 55555.00    </td><td>Volkswagen   </td><td>van          </td><td> 50          </td><td>2.00         </td><td>Diesel       </td><td>yes          </td><td>2013         </td></tr>\n",
       "\t<tr><td> 66900.00    </td><td>BMW          </td><td>crossover    </td><td> 70          </td><td>3.00         </td><td>Diesel       </td><td>yes          </td><td>2014         </td></tr>\n",
       "\t<tr><td>199999.00    </td><td>Mercedes-Benz</td><td>crossover    </td><td>  0          </td><td>5.50         </td><td>Petrol       </td><td>yes          </td><td>2016         </td></tr>\n",
       "\t<tr><td> 55500.00    </td><td>Volkswagen   </td><td>crossover    </td><td> 47          </td><td>3.00         </td><td>Diesel       </td><td>yes          </td><td>2016         </td></tr>\n",
       "\t<tr><td> 50499.00    </td><td>BMW          </td><td>sedan        </td><td>128          </td><td>3.00         </td><td>Diesel       </td><td>yes          </td><td>2013         </td></tr>\n",
       "\t<tr><td> 44600.00    </td><td>Volkswagen   </td><td>crossover    </td><td> 60          </td><td>3.00         </td><td>Diesel       </td><td>yes          </td><td>2013         </td></tr>\n",
       "\t<tr><td>195000.00    </td><td>Mercedes-Benz</td><td>crossover    </td><td>  2          </td><td>5.50         </td><td>Petrol       </td><td>yes          </td><td>2016         </td></tr>\n",
       "\t<tr><td>115000.00    </td><td>Mercedes-Benz</td><td>sedan        </td><td> 47          </td><td>4.60         </td><td>Petrol       </td><td>yes          </td><td>2013         </td></tr>\n",
       "\t<tr><td> 67622.55    </td><td>Volkswagen   </td><td>crossover    </td><td>  0          </td><td>3.00         </td><td>Diesel       </td><td>yes          </td><td>2016         </td></tr>\n",
       "\t<tr><td> 64500.00    </td><td>BMW          </td><td>crossover    </td><td>  1          </td><td>2.00         </td><td>Diesel       </td><td>yes          </td><td>2016         </td></tr>\n",
       "\t<tr><td>...</td><td>...</td><td>...</td><td>...</td><td>...</td><td>...</td><td>...</td><td>...</td></tr>\n",
       "\t<tr><td>295000       </td><td>Mercedes-Benz</td><td>sedan        </td><td> 29          </td><td>6.00         </td><td>Petrol       </td><td>yes          </td><td>2011         </td></tr>\n",
       "\t<tr><td> 55555       </td><td>Volkswagen   </td><td>van          </td><td> 53          </td><td>2.00         </td><td>Diesel       </td><td>yes          </td><td>2013         </td></tr>\n",
       "\t<tr><td> 46500       </td><td>Mercedes-Benz</td><td>crossover    </td><td>127          </td><td>5.00         </td><td>Petrol       </td><td>yes          </td><td>2008         </td></tr>\n",
       "\t<tr><td> 63200       </td><td>Audi         </td><td>sedan        </td><td>  0          </td><td>2.00         </td><td>Petrol       </td><td>yes          </td><td>2016         </td></tr>\n",
       "\t<tr><td> 86999       </td><td>BMW          </td><td>crossover    </td><td>  0          </td><td>3.00         </td><td>Diesel       </td><td>yes          </td><td>2016         </td></tr>\n",
       "\t<tr><td>103999       </td><td>Toyota       </td><td>crossover    </td><td>  0          </td><td>4.50         </td><td>Diesel       </td><td>yes          </td><td>2016         </td></tr>\n",
       "\t<tr><td> 61990       </td><td>Toyota       </td><td>crossover    </td><td> 68          </td><td>4.50         </td><td>Diesel       </td><td>yes          </td><td>2012         </td></tr>\n",
       "\t<tr><td> 47777       </td><td>BMW          </td><td>crossover    </td><td>142          </td><td>3.00         </td><td>Other        </td><td>yes          </td><td>2011         </td></tr>\n",
       "\t<tr><td> 51500       </td><td>Toyota       </td><td>crossover    </td><td> 70          </td><td>3.00         </td><td>Diesel       </td><td>yes          </td><td>2015         </td></tr>\n",
       "\t<tr><td> 67431       </td><td>BMW          </td><td>crossover    </td><td>  0          </td><td>2.00         </td><td>Diesel       </td><td>yes          </td><td>2016         </td></tr>\n",
       "\t<tr><td> 62000       </td><td>BMW          </td><td>crossover    </td><td>  1          </td><td>2.00         </td><td>Diesel       </td><td>yes          </td><td>2016         </td></tr>\n",
       "\t<tr><td> 57000       </td><td>BMW          </td><td>crossover    </td><td> 47          </td><td>3.00         </td><td>Diesel       </td><td>yes          </td><td>2014         </td></tr>\n",
       "\t<tr><td> 62900       </td><td>BMW          </td><td>crossover    </td><td>  1          </td><td>2.00         </td><td>Diesel       </td><td>yes          </td><td>2016         </td></tr>\n",
       "\t<tr><td> 95000       </td><td>Audi         </td><td>other        </td><td> 30          </td><td>5.20         </td><td>Petrol       </td><td>yes          </td><td>2010         </td></tr>\n",
       "\t<tr><td> 48000       </td><td>Audi         </td><td>crossover    </td><td> 90          </td><td>3.00         </td><td>Diesel       </td><td>yes          </td><td>2013         </td></tr>\n",
       "\t<tr><td> 57000       </td><td>Mercedes-Benz</td><td>sedan        </td><td> 61          </td><td>4.60         </td><td>Petrol       </td><td>yes          </td><td>2012         </td></tr>\n",
       "\t<tr><td> 85000       </td><td>Mercedes-Benz</td><td>sedan        </td><td> 36          </td><td>5.50         </td><td>Petrol       </td><td>yes          </td><td>2014         </td></tr>\n",
       "\t<tr><td> 55000       </td><td>Audi         </td><td>crossover    </td><td> 65          </td><td>2.99         </td><td>Diesel       </td><td>yes          </td><td>2013         </td></tr>\n",
       "\t<tr><td> 48900       </td><td>Audi         </td><td>other        </td><td> 82          </td><td>4.20         </td><td>Petrol       </td><td>yes          </td><td>2007         </td></tr>\n",
       "\t<tr><td> 49900       </td><td>BMW          </td><td>other        </td><td> 82          </td><td>3.00         </td><td>Petrol       </td><td>yes          </td><td>2012         </td></tr>\n",
       "\t<tr><td> 55500       </td><td>BMW          </td><td>crossover    </td><td> 90          </td><td>3.00         </td><td>Diesel       </td><td>yes          </td><td>2013         </td></tr>\n",
       "\t<tr><td> 55000       </td><td>Mercedes-Benz</td><td>crossover    </td><td>120          </td><td>5.50         </td><td>Petrol       </td><td>yes          </td><td>2008         </td></tr>\n",
       "\t<tr><td>126000       </td><td>Mercedes-Benz</td><td>sedan        </td><td> 14          </td><td>3.00         </td><td>Diesel       </td><td>yes          </td><td>2015         </td></tr>\n",
       "\t<tr><td>109999       </td><td>Mercedes-Benz</td><td>crossover    </td><td>  0          </td><td>2.98         </td><td>Diesel       </td><td>yes          </td><td>2016         </td></tr>\n",
       "\t<tr><td>111999       </td><td>Mercedes-Benz</td><td>crossover    </td><td>  0          </td><td>3.00         </td><td>Diesel       </td><td>yes          </td><td>2016         </td></tr>\n",
       "\t<tr><td>300000       </td><td>Mercedes-Benz</td><td>other        </td><td> 37          </td><td>5.00         </td><td>Petrol       </td><td>yes          </td><td>2012         </td></tr>\n",
       "\t<tr><td>100000       </td><td>Toyota       </td><td>crossover    </td><td>  0          </td><td>4.50         </td><td>Diesel       </td><td>yes          </td><td>2016         </td></tr>\n",
       "\t<tr><td> 80999       </td><td>Audi         </td><td>crossover    </td><td>  0          </td><td>3.00         </td><td>Diesel       </td><td>yes          </td><td>2016         </td></tr>\n",
       "\t<tr><td> 45000       </td><td>BMW          </td><td>crossover    </td><td> 80          </td><td>3.00         </td><td>Petrol       </td><td>yes          </td><td>2011         </td></tr>\n",
       "\t<tr><td>125000       </td><td>Mercedes-Benz</td><td>sedan        </td><td>  9          </td><td>3.00         </td><td>Diesel       </td><td>yes          </td><td>2014         </td></tr>\n",
       "</tbody>\n",
       "</table>\n"
      ],
      "text/latex": [
       "\\begin{tabular}{r|llllllll}\n",
       " Price & Brand & Body & Mileage & EngineV & Engine.Type & Registration & Year\\\\\n",
       "\\hline\n",
       "\t 199999.00     & Mercedes-Benz & crossover     &   0           & 5.50          & Petrol        & yes           & 2016         \\\\\n",
       "\t  67500.00     & BMW           & crossover     &   1           & 2.50          & Diesel        & yes           & 2016         \\\\\n",
       "\t  63000.00     & Mercedes-Benz & crossover     &  86           & 5.50          & Petrol        & yes           & 2009         \\\\\n",
       "\t 133000.00     & BMW           & crossover     &   7           & 4.40          & Petrol        & yes           & 2015         \\\\\n",
       "\t  50000.00     & Mercedes-Benz & sedan         & 240           & 3.50          & Petrol        & yes           & 2006         \\\\\n",
       "\t  69999.00     & Audi          & crossover     &  21           & 3.00          & Petrol        & yes           & 2015         \\\\\n",
       "\t 107999.00     & Mercedes-Benz & crossover     &   0           & 2.98          & Diesel        & yes           & 2016         \\\\\n",
       "\t  45500.00     & BMW           & crossover     &  76           & 4.40          & Petrol        & yes           & 2010         \\\\\n",
       "\t  47000.00     & BMW           & other         &   5           & 2.00          & Petrol        & yes           & 2014         \\\\\n",
       "\t  46800.00     & BMW           & sedan         &  33           & 2.00          & Diesel        & yes           & 2014         \\\\\n",
       "\t 195000.00     & Toyota        & crossover     &   0           & 4.50          & Diesel        & yes           & 2016         \\\\\n",
       "\t  87777.00     & Mercedes-Benz & van           &   0           & 2.20          & Diesel        & yes           & 2016         \\\\\n",
       "\t  70000.00     & BMW           & sedan         &  16           & 3.00          & Diesel        & yes           & 2014         \\\\\n",
       "\t 169000.00     & Mercedes-Benz & other         &   1           & 4.70          & Petrol        & yes           & 2015         \\\\\n",
       "\t  51500.00     & Audi          & crossover     &  27           & 3.00          & Diesel        & yes           & 2013         \\\\\n",
       "\t  99999.00     & Toyota        & crossover     &   0           & 4.50          & Diesel        & yes           & 2016         \\\\\n",
       "\t 135000.00     & Toyota        & crossover     &   1           & 4.50          & Diesel        & yes           & 2011         \\\\\n",
       "\t 109999.00     & Mercedes-Benz & crossover     &   0           & 3.00          & Diesel        & yes           & 2016         \\\\\n",
       "\t  44999.00     & BMW           & crossover     &  87           & 3.00          & Diesel        & yes           & 2011         \\\\\n",
       "\t  61000.00     & Volkswagen    & crossover     &   2           & 3.00          & Diesel        & yes           & 2016         \\\\\n",
       "\t  55555.00     & Volkswagen    & van           &  50           & 2.00          & Diesel        & yes           & 2013         \\\\\n",
       "\t  66900.00     & BMW           & crossover     &  70           & 3.00          & Diesel        & yes           & 2014         \\\\\n",
       "\t 199999.00     & Mercedes-Benz & crossover     &   0           & 5.50          & Petrol        & yes           & 2016         \\\\\n",
       "\t  55500.00     & Volkswagen    & crossover     &  47           & 3.00          & Diesel        & yes           & 2016         \\\\\n",
       "\t  50499.00     & BMW           & sedan         & 128           & 3.00          & Diesel        & yes           & 2013         \\\\\n",
       "\t  44600.00     & Volkswagen    & crossover     &  60           & 3.00          & Diesel        & yes           & 2013         \\\\\n",
       "\t 195000.00     & Mercedes-Benz & crossover     &   2           & 5.50          & Petrol        & yes           & 2016         \\\\\n",
       "\t 115000.00     & Mercedes-Benz & sedan         &  47           & 4.60          & Petrol        & yes           & 2013         \\\\\n",
       "\t  67622.55     & Volkswagen    & crossover     &   0           & 3.00          & Diesel        & yes           & 2016         \\\\\n",
       "\t  64500.00     & BMW           & crossover     &   1           & 2.00          & Diesel        & yes           & 2016         \\\\\n",
       "\t ... & ... & ... & ... & ... & ... & ... & ...\\\\\n",
       "\t 295000        & Mercedes-Benz & sedan         &  29           & 6.00          & Petrol        & yes           & 2011         \\\\\n",
       "\t  55555        & Volkswagen    & van           &  53           & 2.00          & Diesel        & yes           & 2013         \\\\\n",
       "\t  46500        & Mercedes-Benz & crossover     & 127           & 5.00          & Petrol        & yes           & 2008         \\\\\n",
       "\t  63200        & Audi          & sedan         &   0           & 2.00          & Petrol        & yes           & 2016         \\\\\n",
       "\t  86999        & BMW           & crossover     &   0           & 3.00          & Diesel        & yes           & 2016         \\\\\n",
       "\t 103999        & Toyota        & crossover     &   0           & 4.50          & Diesel        & yes           & 2016         \\\\\n",
       "\t  61990        & Toyota        & crossover     &  68           & 4.50          & Diesel        & yes           & 2012         \\\\\n",
       "\t  47777        & BMW           & crossover     & 142           & 3.00          & Other         & yes           & 2011         \\\\\n",
       "\t  51500        & Toyota        & crossover     &  70           & 3.00          & Diesel        & yes           & 2015         \\\\\n",
       "\t  67431        & BMW           & crossover     &   0           & 2.00          & Diesel        & yes           & 2016         \\\\\n",
       "\t  62000        & BMW           & crossover     &   1           & 2.00          & Diesel        & yes           & 2016         \\\\\n",
       "\t  57000        & BMW           & crossover     &  47           & 3.00          & Diesel        & yes           & 2014         \\\\\n",
       "\t  62900        & BMW           & crossover     &   1           & 2.00          & Diesel        & yes           & 2016         \\\\\n",
       "\t  95000        & Audi          & other         &  30           & 5.20          & Petrol        & yes           & 2010         \\\\\n",
       "\t  48000        & Audi          & crossover     &  90           & 3.00          & Diesel        & yes           & 2013         \\\\\n",
       "\t  57000        & Mercedes-Benz & sedan         &  61           & 4.60          & Petrol        & yes           & 2012         \\\\\n",
       "\t  85000        & Mercedes-Benz & sedan         &  36           & 5.50          & Petrol        & yes           & 2014         \\\\\n",
       "\t  55000        & Audi          & crossover     &  65           & 2.99          & Diesel        & yes           & 2013         \\\\\n",
       "\t  48900        & Audi          & other         &  82           & 4.20          & Petrol        & yes           & 2007         \\\\\n",
       "\t  49900        & BMW           & other         &  82           & 3.00          & Petrol        & yes           & 2012         \\\\\n",
       "\t  55500        & BMW           & crossover     &  90           & 3.00          & Diesel        & yes           & 2013         \\\\\n",
       "\t  55000        & Mercedes-Benz & crossover     & 120           & 5.50          & Petrol        & yes           & 2008         \\\\\n",
       "\t 126000        & Mercedes-Benz & sedan         &  14           & 3.00          & Diesel        & yes           & 2015         \\\\\n",
       "\t 109999        & Mercedes-Benz & crossover     &   0           & 2.98          & Diesel        & yes           & 2016         \\\\\n",
       "\t 111999        & Mercedes-Benz & crossover     &   0           & 3.00          & Diesel        & yes           & 2016         \\\\\n",
       "\t 300000        & Mercedes-Benz & other         &  37           & 5.00          & Petrol        & yes           & 2012         \\\\\n",
       "\t 100000        & Toyota        & crossover     &   0           & 4.50          & Diesel        & yes           & 2016         \\\\\n",
       "\t  80999        & Audi          & crossover     &   0           & 3.00          & Diesel        & yes           & 2016         \\\\\n",
       "\t  45000        & BMW           & crossover     &  80           & 3.00          & Petrol        & yes           & 2011         \\\\\n",
       "\t 125000        & Mercedes-Benz & sedan         &   9           & 3.00          & Diesel        & yes           & 2014         \\\\\n",
       "\\end{tabular}\n"
      ],
      "text/markdown": [
       "\n",
       "| Price | Brand | Body | Mileage | EngineV | Engine.Type | Registration | Year |\n",
       "|---|---|---|---|---|---|---|---|\n",
       "| 199999.00     | Mercedes-Benz | crossover     |   0           | 5.50          | Petrol        | yes           | 2016          |\n",
       "|  67500.00     | BMW           | crossover     |   1           | 2.50          | Diesel        | yes           | 2016          |\n",
       "|  63000.00     | Mercedes-Benz | crossover     |  86           | 5.50          | Petrol        | yes           | 2009          |\n",
       "| 133000.00     | BMW           | crossover     |   7           | 4.40          | Petrol        | yes           | 2015          |\n",
       "|  50000.00     | Mercedes-Benz | sedan         | 240           | 3.50          | Petrol        | yes           | 2006          |\n",
       "|  69999.00     | Audi          | crossover     |  21           | 3.00          | Petrol        | yes           | 2015          |\n",
       "| 107999.00     | Mercedes-Benz | crossover     |   0           | 2.98          | Diesel        | yes           | 2016          |\n",
       "|  45500.00     | BMW           | crossover     |  76           | 4.40          | Petrol        | yes           | 2010          |\n",
       "|  47000.00     | BMW           | other         |   5           | 2.00          | Petrol        | yes           | 2014          |\n",
       "|  46800.00     | BMW           | sedan         |  33           | 2.00          | Diesel        | yes           | 2014          |\n",
       "| 195000.00     | Toyota        | crossover     |   0           | 4.50          | Diesel        | yes           | 2016          |\n",
       "|  87777.00     | Mercedes-Benz | van           |   0           | 2.20          | Diesel        | yes           | 2016          |\n",
       "|  70000.00     | BMW           | sedan         |  16           | 3.00          | Diesel        | yes           | 2014          |\n",
       "| 169000.00     | Mercedes-Benz | other         |   1           | 4.70          | Petrol        | yes           | 2015          |\n",
       "|  51500.00     | Audi          | crossover     |  27           | 3.00          | Diesel        | yes           | 2013          |\n",
       "|  99999.00     | Toyota        | crossover     |   0           | 4.50          | Diesel        | yes           | 2016          |\n",
       "| 135000.00     | Toyota        | crossover     |   1           | 4.50          | Diesel        | yes           | 2011          |\n",
       "| 109999.00     | Mercedes-Benz | crossover     |   0           | 3.00          | Diesel        | yes           | 2016          |\n",
       "|  44999.00     | BMW           | crossover     |  87           | 3.00          | Diesel        | yes           | 2011          |\n",
       "|  61000.00     | Volkswagen    | crossover     |   2           | 3.00          | Diesel        | yes           | 2016          |\n",
       "|  55555.00     | Volkswagen    | van           |  50           | 2.00          | Diesel        | yes           | 2013          |\n",
       "|  66900.00     | BMW           | crossover     |  70           | 3.00          | Diesel        | yes           | 2014          |\n",
       "| 199999.00     | Mercedes-Benz | crossover     |   0           | 5.50          | Petrol        | yes           | 2016          |\n",
       "|  55500.00     | Volkswagen    | crossover     |  47           | 3.00          | Diesel        | yes           | 2016          |\n",
       "|  50499.00     | BMW           | sedan         | 128           | 3.00          | Diesel        | yes           | 2013          |\n",
       "|  44600.00     | Volkswagen    | crossover     |  60           | 3.00          | Diesel        | yes           | 2013          |\n",
       "| 195000.00     | Mercedes-Benz | crossover     |   2           | 5.50          | Petrol        | yes           | 2016          |\n",
       "| 115000.00     | Mercedes-Benz | sedan         |  47           | 4.60          | Petrol        | yes           | 2013          |\n",
       "|  67622.55     | Volkswagen    | crossover     |   0           | 3.00          | Diesel        | yes           | 2016          |\n",
       "|  64500.00     | BMW           | crossover     |   1           | 2.00          | Diesel        | yes           | 2016          |\n",
       "| ... | ... | ... | ... | ... | ... | ... | ... |\n",
       "| 295000        | Mercedes-Benz | sedan         |  29           | 6.00          | Petrol        | yes           | 2011          |\n",
       "|  55555        | Volkswagen    | van           |  53           | 2.00          | Diesel        | yes           | 2013          |\n",
       "|  46500        | Mercedes-Benz | crossover     | 127           | 5.00          | Petrol        | yes           | 2008          |\n",
       "|  63200        | Audi          | sedan         |   0           | 2.00          | Petrol        | yes           | 2016          |\n",
       "|  86999        | BMW           | crossover     |   0           | 3.00          | Diesel        | yes           | 2016          |\n",
       "| 103999        | Toyota        | crossover     |   0           | 4.50          | Diesel        | yes           | 2016          |\n",
       "|  61990        | Toyota        | crossover     |  68           | 4.50          | Diesel        | yes           | 2012          |\n",
       "|  47777        | BMW           | crossover     | 142           | 3.00          | Other         | yes           | 2011          |\n",
       "|  51500        | Toyota        | crossover     |  70           | 3.00          | Diesel        | yes           | 2015          |\n",
       "|  67431        | BMW           | crossover     |   0           | 2.00          | Diesel        | yes           | 2016          |\n",
       "|  62000        | BMW           | crossover     |   1           | 2.00          | Diesel        | yes           | 2016          |\n",
       "|  57000        | BMW           | crossover     |  47           | 3.00          | Diesel        | yes           | 2014          |\n",
       "|  62900        | BMW           | crossover     |   1           | 2.00          | Diesel        | yes           | 2016          |\n",
       "|  95000        | Audi          | other         |  30           | 5.20          | Petrol        | yes           | 2010          |\n",
       "|  48000        | Audi          | crossover     |  90           | 3.00          | Diesel        | yes           | 2013          |\n",
       "|  57000        | Mercedes-Benz | sedan         |  61           | 4.60          | Petrol        | yes           | 2012          |\n",
       "|  85000        | Mercedes-Benz | sedan         |  36           | 5.50          | Petrol        | yes           | 2014          |\n",
       "|  55000        | Audi          | crossover     |  65           | 2.99          | Diesel        | yes           | 2013          |\n",
       "|  48900        | Audi          | other         |  82           | 4.20          | Petrol        | yes           | 2007          |\n",
       "|  49900        | BMW           | other         |  82           | 3.00          | Petrol        | yes           | 2012          |\n",
       "|  55500        | BMW           | crossover     |  90           | 3.00          | Diesel        | yes           | 2013          |\n",
       "|  55000        | Mercedes-Benz | crossover     | 120           | 5.50          | Petrol        | yes           | 2008          |\n",
       "| 126000        | Mercedes-Benz | sedan         |  14           | 3.00          | Diesel        | yes           | 2015          |\n",
       "| 109999        | Mercedes-Benz | crossover     |   0           | 2.98          | Diesel        | yes           | 2016          |\n",
       "| 111999        | Mercedes-Benz | crossover     |   0           | 3.00          | Diesel        | yes           | 2016          |\n",
       "| 300000        | Mercedes-Benz | other         |  37           | 5.00          | Petrol        | yes           | 2012          |\n",
       "| 100000        | Toyota        | crossover     |   0           | 4.50          | Diesel        | yes           | 2016          |\n",
       "|  80999        | Audi          | crossover     |   0           | 3.00          | Diesel        | yes           | 2016          |\n",
       "|  45000        | BMW           | crossover     |  80           | 3.00          | Petrol        | yes           | 2011          |\n",
       "| 125000        | Mercedes-Benz | sedan         |   9           | 3.00          | Diesel        | yes           | 2014          |\n",
       "\n"
      ],
      "text/plain": [
       "    Price     Brand         Body      Mileage EngineV Engine.Type Registration\n",
       "1   199999.00 Mercedes-Benz crossover   0     5.50    Petrol      yes         \n",
       "2    67500.00 BMW           crossover   1     2.50    Diesel      yes         \n",
       "3    63000.00 Mercedes-Benz crossover  86     5.50    Petrol      yes         \n",
       "4   133000.00 BMW           crossover   7     4.40    Petrol      yes         \n",
       "5    50000.00 Mercedes-Benz sedan     240     3.50    Petrol      yes         \n",
       "6    69999.00 Audi          crossover  21     3.00    Petrol      yes         \n",
       "7   107999.00 Mercedes-Benz crossover   0     2.98    Diesel      yes         \n",
       "8    45500.00 BMW           crossover  76     4.40    Petrol      yes         \n",
       "9    47000.00 BMW           other       5     2.00    Petrol      yes         \n",
       "10   46800.00 BMW           sedan      33     2.00    Diesel      yes         \n",
       "11  195000.00 Toyota        crossover   0     4.50    Diesel      yes         \n",
       "12   87777.00 Mercedes-Benz van         0     2.20    Diesel      yes         \n",
       "13   70000.00 BMW           sedan      16     3.00    Diesel      yes         \n",
       "14  169000.00 Mercedes-Benz other       1     4.70    Petrol      yes         \n",
       "15   51500.00 Audi          crossover  27     3.00    Diesel      yes         \n",
       "16   99999.00 Toyota        crossover   0     4.50    Diesel      yes         \n",
       "17  135000.00 Toyota        crossover   1     4.50    Diesel      yes         \n",
       "18  109999.00 Mercedes-Benz crossover   0     3.00    Diesel      yes         \n",
       "19   44999.00 BMW           crossover  87     3.00    Diesel      yes         \n",
       "20   61000.00 Volkswagen    crossover   2     3.00    Diesel      yes         \n",
       "21   55555.00 Volkswagen    van        50     2.00    Diesel      yes         \n",
       "22   66900.00 BMW           crossover  70     3.00    Diesel      yes         \n",
       "23  199999.00 Mercedes-Benz crossover   0     5.50    Petrol      yes         \n",
       "24   55500.00 Volkswagen    crossover  47     3.00    Diesel      yes         \n",
       "25   50499.00 BMW           sedan     128     3.00    Diesel      yes         \n",
       "26   44600.00 Volkswagen    crossover  60     3.00    Diesel      yes         \n",
       "27  195000.00 Mercedes-Benz crossover   2     5.50    Petrol      yes         \n",
       "28  115000.00 Mercedes-Benz sedan      47     4.60    Petrol      yes         \n",
       "29   67622.55 Volkswagen    crossover   0     3.00    Diesel      yes         \n",
       "30   64500.00 BMW           crossover   1     2.00    Diesel      yes         \n",
       "... ...       ...           ...       ...     ...     ...         ...         \n",
       "326 295000    Mercedes-Benz sedan      29     6.00    Petrol      yes         \n",
       "327  55555    Volkswagen    van        53     2.00    Diesel      yes         \n",
       "328  46500    Mercedes-Benz crossover 127     5.00    Petrol      yes         \n",
       "329  63200    Audi          sedan       0     2.00    Petrol      yes         \n",
       "330  86999    BMW           crossover   0     3.00    Diesel      yes         \n",
       "331 103999    Toyota        crossover   0     4.50    Diesel      yes         \n",
       "332  61990    Toyota        crossover  68     4.50    Diesel      yes         \n",
       "333  47777    BMW           crossover 142     3.00    Other       yes         \n",
       "334  51500    Toyota        crossover  70     3.00    Diesel      yes         \n",
       "335  67431    BMW           crossover   0     2.00    Diesel      yes         \n",
       "336  62000    BMW           crossover   1     2.00    Diesel      yes         \n",
       "337  57000    BMW           crossover  47     3.00    Diesel      yes         \n",
       "338  62900    BMW           crossover   1     2.00    Diesel      yes         \n",
       "339  95000    Audi          other      30     5.20    Petrol      yes         \n",
       "340  48000    Audi          crossover  90     3.00    Diesel      yes         \n",
       "341  57000    Mercedes-Benz sedan      61     4.60    Petrol      yes         \n",
       "342  85000    Mercedes-Benz sedan      36     5.50    Petrol      yes         \n",
       "343  55000    Audi          crossover  65     2.99    Diesel      yes         \n",
       "344  48900    Audi          other      82     4.20    Petrol      yes         \n",
       "345  49900    BMW           other      82     3.00    Petrol      yes         \n",
       "346  55500    BMW           crossover  90     3.00    Diesel      yes         \n",
       "347  55000    Mercedes-Benz crossover 120     5.50    Petrol      yes         \n",
       "348 126000    Mercedes-Benz sedan      14     3.00    Diesel      yes         \n",
       "349 109999    Mercedes-Benz crossover   0     2.98    Diesel      yes         \n",
       "350 111999    Mercedes-Benz crossover   0     3.00    Diesel      yes         \n",
       "351 300000    Mercedes-Benz other      37     5.00    Petrol      yes         \n",
       "352 100000    Toyota        crossover   0     4.50    Diesel      yes         \n",
       "353  80999    Audi          crossover   0     3.00    Diesel      yes         \n",
       "354  45000    BMW           crossover  80     3.00    Petrol      yes         \n",
       "355 125000    Mercedes-Benz sedan       9     3.00    Diesel      yes         \n",
       "    Year\n",
       "1   2016\n",
       "2   2016\n",
       "3   2009\n",
       "4   2015\n",
       "5   2006\n",
       "6   2015\n",
       "7   2016\n",
       "8   2010\n",
       "9   2014\n",
       "10  2014\n",
       "11  2016\n",
       "12  2016\n",
       "13  2014\n",
       "14  2015\n",
       "15  2013\n",
       "16  2016\n",
       "17  2011\n",
       "18  2016\n",
       "19  2011\n",
       "20  2016\n",
       "21  2013\n",
       "22  2014\n",
       "23  2016\n",
       "24  2016\n",
       "25  2013\n",
       "26  2013\n",
       "27  2016\n",
       "28  2013\n",
       "29  2016\n",
       "30  2016\n",
       "... ... \n",
       "326 2011\n",
       "327 2013\n",
       "328 2008\n",
       "329 2016\n",
       "330 2016\n",
       "331 2016\n",
       "332 2012\n",
       "333 2011\n",
       "334 2015\n",
       "335 2016\n",
       "336 2016\n",
       "337 2014\n",
       "338 2016\n",
       "339 2010\n",
       "340 2013\n",
       "341 2012\n",
       "342 2014\n",
       "343 2013\n",
       "344 2007\n",
       "345 2012\n",
       "346 2013\n",
       "347 2008\n",
       "348 2015\n",
       "349 2016\n",
       "350 2016\n",
       "351 2012\n",
       "352 2016\n",
       "353 2016\n",
       "354 2011\n",
       "355 2014"
      ]
     },
     "metadata": {},
     "output_type": "display_data"
    }
   ],
   "source": [
    "## FILTERING DATA WHERE PRICE ABOVE THE MAXIMUM PRICE\n",
    "filter(data,Price>max_price)"
   ]
  },
  {
   "cell_type": "code",
   "execution_count": 19,
   "metadata": {},
   "outputs": [],
   "source": [
    "## ASSGINING VALUES TO FIND QUANTILES\n",
    "quantile_range = seq(0.75,0.99,by=0.01)"
   ]
  },
  {
   "cell_type": "code",
   "execution_count": 20,
   "metadata": {},
   "outputs": [
    {
     "data": {
      "text/html": [
       "<ol class=list-inline>\n",
       "\t<li>0.75</li>\n",
       "\t<li>0.76</li>\n",
       "\t<li>0.77</li>\n",
       "\t<li>0.78</li>\n",
       "\t<li>0.79</li>\n",
       "\t<li>0.8</li>\n",
       "\t<li>0.81</li>\n",
       "\t<li>0.82</li>\n",
       "\t<li>0.83</li>\n",
       "\t<li>0.84</li>\n",
       "\t<li>0.85</li>\n",
       "\t<li>0.86</li>\n",
       "\t<li>0.87</li>\n",
       "\t<li>0.88</li>\n",
       "\t<li>0.89</li>\n",
       "\t<li>0.9</li>\n",
       "\t<li>0.91</li>\n",
       "\t<li>0.92</li>\n",
       "\t<li>0.93</li>\n",
       "\t<li>0.94</li>\n",
       "\t<li>0.95</li>\n",
       "\t<li>0.96</li>\n",
       "\t<li>0.97</li>\n",
       "\t<li>0.98</li>\n",
       "\t<li>0.99</li>\n",
       "</ol>\n"
      ],
      "text/latex": [
       "\\begin{enumerate*}\n",
       "\\item 0.75\n",
       "\\item 0.76\n",
       "\\item 0.77\n",
       "\\item 0.78\n",
       "\\item 0.79\n",
       "\\item 0.8\n",
       "\\item 0.81\n",
       "\\item 0.82\n",
       "\\item 0.83\n",
       "\\item 0.84\n",
       "\\item 0.85\n",
       "\\item 0.86\n",
       "\\item 0.87\n",
       "\\item 0.88\n",
       "\\item 0.89\n",
       "\\item 0.9\n",
       "\\item 0.91\n",
       "\\item 0.92\n",
       "\\item 0.93\n",
       "\\item 0.94\n",
       "\\item 0.95\n",
       "\\item 0.96\n",
       "\\item 0.97\n",
       "\\item 0.98\n",
       "\\item 0.99\n",
       "\\end{enumerate*}\n"
      ],
      "text/markdown": [
       "1. 0.75\n",
       "2. 0.76\n",
       "3. 0.77\n",
       "4. 0.78\n",
       "5. 0.79\n",
       "6. 0.8\n",
       "7. 0.81\n",
       "8. 0.82\n",
       "9. 0.83\n",
       "10. 0.84\n",
       "11. 0.85\n",
       "12. 0.86\n",
       "13. 0.87\n",
       "14. 0.88\n",
       "15. 0.89\n",
       "16. 0.9\n",
       "17. 0.91\n",
       "18. 0.92\n",
       "19. 0.93\n",
       "20. 0.94\n",
       "21. 0.95\n",
       "22. 0.96\n",
       "23. 0.97\n",
       "24. 0.98\n",
       "25. 0.99\n",
       "\n",
       "\n"
      ],
      "text/plain": [
       " [1] 0.75 0.76 0.77 0.78 0.79 0.80 0.81 0.82 0.83 0.84 0.85 0.86 0.87 0.88 0.89\n",
       "[16] 0.90 0.91 0.92 0.93 0.94 0.95 0.96 0.97 0.98 0.99"
      ]
     },
     "metadata": {},
     "output_type": "display_data"
    }
   ],
   "source": [
    "quantile_range"
   ]
  },
  {
   "cell_type": "code",
   "execution_count": 21,
   "metadata": {},
   "outputs": [
    {
     "data": {
      "text/html": [
       "<dl class=dl-horizontal>\n",
       "\t<dt>75%</dt>\n",
       "\t\t<dd>21900</dd>\n",
       "\t<dt>76%</dt>\n",
       "\t\t<dd>22500</dd>\n",
       "\t<dt>77%</dt>\n",
       "\t\t<dd>23200</dd>\n",
       "\t<dt>78%</dt>\n",
       "\t\t<dd>23999</dd>\n",
       "\t<dt>79%</dt>\n",
       "\t\t<dd>24798</dd>\n",
       "\t<dt>80%</dt>\n",
       "\t\t<dd>25500</dd>\n",
       "\t<dt>81%</dt>\n",
       "\t\t<dd>26999.44</dd>\n",
       "\t<dt>82%</dt>\n",
       "\t\t<dd>28500</dd>\n",
       "\t<dt>83%</dt>\n",
       "\t\t<dd>29000</dd>\n",
       "\t<dt>84%</dt>\n",
       "\t\t<dd>30500</dd>\n",
       "\t<dt>85%</dt>\n",
       "\t\t<dd>32000</dd>\n",
       "\t<dt>86%</dt>\n",
       "\t\t<dd>33709.92</dd>\n",
       "\t<dt>87%</dt>\n",
       "\t\t<dd>35280.5948</dd>\n",
       "\t<dt>88%</dt>\n",
       "\t\t<dd>37000</dd>\n",
       "\t<dt>89%</dt>\n",
       "\t\t<dd>39000</dd>\n",
       "\t<dt>90%</dt>\n",
       "\t\t<dd>40996</dd>\n",
       "\t<dt>91%</dt>\n",
       "\t\t<dd>43983.16</dd>\n",
       "\t<dt>92%</dt>\n",
       "\t\t<dd>47316.0000000001</dd>\n",
       "\t<dt>93%</dt>\n",
       "\t\t<dd>51500</dd>\n",
       "\t<dt>94%</dt>\n",
       "\t\t<dd>56500</dd>\n",
       "\t<dt>95%</dt>\n",
       "\t\t<dd>64819.9999999999</dd>\n",
       "\t<dt>96%</dt>\n",
       "\t\t<dd>70000</dd>\n",
       "\t<dt>97%</dt>\n",
       "\t\t<dd>81639.7199999999</dd>\n",
       "\t<dt>98%</dt>\n",
       "\t\t<dd>103999</dd>\n",
       "\t<dt>99%</dt>\n",
       "\t\t<dd>129812.52</dd>\n",
       "</dl>\n"
      ],
      "text/latex": [
       "\\begin{description*}\n",
       "\\item[75\\textbackslash{}\\%] 21900\n",
       "\\item[76\\textbackslash{}\\%] 22500\n",
       "\\item[77\\textbackslash{}\\%] 23200\n",
       "\\item[78\\textbackslash{}\\%] 23999\n",
       "\\item[79\\textbackslash{}\\%] 24798\n",
       "\\item[80\\textbackslash{}\\%] 25500\n",
       "\\item[81\\textbackslash{}\\%] 26999.44\n",
       "\\item[82\\textbackslash{}\\%] 28500\n",
       "\\item[83\\textbackslash{}\\%] 29000\n",
       "\\item[84\\textbackslash{}\\%] 30500\n",
       "\\item[85\\textbackslash{}\\%] 32000\n",
       "\\item[86\\textbackslash{}\\%] 33709.92\n",
       "\\item[87\\textbackslash{}\\%] 35280.5948\n",
       "\\item[88\\textbackslash{}\\%] 37000\n",
       "\\item[89\\textbackslash{}\\%] 39000\n",
       "\\item[90\\textbackslash{}\\%] 40996\n",
       "\\item[91\\textbackslash{}\\%] 43983.16\n",
       "\\item[92\\textbackslash{}\\%] 47316.0000000001\n",
       "\\item[93\\textbackslash{}\\%] 51500\n",
       "\\item[94\\textbackslash{}\\%] 56500\n",
       "\\item[95\\textbackslash{}\\%] 64819.9999999999\n",
       "\\item[96\\textbackslash{}\\%] 70000\n",
       "\\item[97\\textbackslash{}\\%] 81639.7199999999\n",
       "\\item[98\\textbackslash{}\\%] 103999\n",
       "\\item[99\\textbackslash{}\\%] 129812.52\n",
       "\\end{description*}\n"
      ],
      "text/markdown": [
       "75%\n",
       ":   2190076%\n",
       ":   2250077%\n",
       ":   2320078%\n",
       ":   2399979%\n",
       ":   2479880%\n",
       ":   2550081%\n",
       ":   26999.4482%\n",
       ":   2850083%\n",
       ":   2900084%\n",
       ":   3050085%\n",
       ":   3200086%\n",
       ":   33709.9287%\n",
       ":   35280.594888%\n",
       ":   3700089%\n",
       ":   3900090%\n",
       ":   4099691%\n",
       ":   43983.1692%\n",
       ":   47316.000000000193%\n",
       ":   5150094%\n",
       ":   5650095%\n",
       ":   64819.999999999996%\n",
       ":   7000097%\n",
       ":   81639.719999999998%\n",
       ":   10399999%\n",
       ":   129812.52\n",
       "\n"
      ],
      "text/plain": [
       "      75%       76%       77%       78%       79%       80%       81%       82% \n",
       " 21900.00  22500.00  23200.00  23999.00  24798.00  25500.00  26999.44  28500.00 \n",
       "      83%       84%       85%       86%       87%       88%       89%       90% \n",
       " 29000.00  30500.00  32000.00  33709.92  35280.59  37000.00  39000.00  40996.00 \n",
       "      91%       92%       93%       94%       95%       96%       97%       98% \n",
       " 43983.16  47316.00  51500.00  56500.00  64820.00  70000.00  81639.72 103999.00 \n",
       "      99% \n",
       "129812.52 "
      ]
     },
     "metadata": {},
     "output_type": "display_data"
    }
   ],
   "source": [
    "## USING QUANTILE FUNCTION CALLING QUANTILES FROM 75TH TO 99TH \n",
    "quantile(data$Price,probs=quantile_range)"
   ]
  },
  {
   "cell_type": "markdown",
   "metadata": {},
   "source": [
    "##### Here we already know the max price value 44251.5. So the outliers will be filled with quantile of value less than max value. \n",
    "Quantile 90 = 40996 is used to fill outliers "
   ]
  },
  {
   "cell_type": "code",
   "execution_count": 22,
   "metadata": {},
   "outputs": [],
   "source": [
    "## USING FOR LOOPS CHANGING VALUES\n",
    "for (i in 1:4025)\n",
    "{\n",
    "    if (data$Price[i]>max_price){\n",
    "        data$Price[i]=quantile(data$Price,probs=0.90)}\n",
    "}"
   ]
  },
  {
   "cell_type": "code",
   "execution_count": 23,
   "metadata": {},
   "outputs": [
    {
     "data": {
      "text/html": [
       "<table>\n",
       "<thead><tr><th scope=col>Price</th><th scope=col>Brand</th><th scope=col>Body</th><th scope=col>Mileage</th><th scope=col>EngineV</th><th scope=col>Engine.Type</th><th scope=col>Registration</th><th scope=col>Year</th></tr></thead>\n",
       "<tbody>\n",
       "</tbody>\n",
       "</table>\n"
      ],
      "text/latex": [
       "\\begin{tabular}{r|llllllll}\n",
       " Price & Brand & Body & Mileage & EngineV & Engine.Type & Registration & Year\\\\\n",
       "\\hline\n",
       "\\end{tabular}\n"
      ],
      "text/markdown": [
       "\n",
       "| Price | Brand | Body | Mileage | EngineV | Engine.Type | Registration | Year |\n",
       "|---|---|---|---|---|---|---|---|\n",
       "\n"
      ],
      "text/plain": [
       "     Price Brand Body Mileage EngineV Engine.Type Registration Year"
      ]
     },
     "metadata": {},
     "output_type": "display_data"
    }
   ],
   "source": [
    "filter(data,Price>max_price)"
   ]
  },
  {
   "cell_type": "code",
   "execution_count": 24,
   "metadata": {},
   "outputs": [
    {
     "data": {
      "image/png": "[encoded data removed]",
      "text/plain": [
       "plot without title"
      ]
     },
     "metadata": {},
     "output_type": "display_data"
    }
   ],
   "source": [
    "## BOXPLOT FOR PRICE TO CHECK FOR OUTLIERS\n",
    "ggplot(data=data,aes(y=Price))+ geom_boxplot(fill='brown3')"
   ]
  },
  {
   "cell_type": "markdown",
   "metadata": {},
   "source": [
    "### II. MILEAGE"
   ]
  },
  {
   "cell_type": "code",
   "execution_count": 25,
   "metadata": {},
   "outputs": [
    {
     "data": {
      "image/png": "[encoded data removed]",
      "text/plain": [
       "plot without title"
      ]
     },
     "metadata": {},
     "output_type": "display_data"
    }
   ],
   "source": [
    "## CHECKING FOR OUTLIERS WITH BOXPLOT\n",
    "ggplot(data=data,aes(y=Mileage))+ geom_boxplot(fill='burlywood4')"
   ]
  },
  {
   "cell_type": "code",
   "execution_count": 26,
   "metadata": {},
   "outputs": [],
   "source": [
    "## FINDING INTER QUARTILE RANGE TO CALCULATE MAXIMUM VALUE OF DISTRIBUTION USING \"IQR\" FUNCTION\n",
    "iqr_mileage= IQR(data$Mileage)"
   ]
  },
  {
   "cell_type": "code",
   "execution_count": 27,
   "metadata": {},
   "outputs": [
    {
     "data": {
      "text/html": [
       "140"
      ],
      "text/latex": [
       "140"
      ],
      "text/markdown": [
       "140"
      ],
      "text/plain": [
       "[1] 140"
      ]
     },
     "metadata": {},
     "output_type": "display_data"
    }
   ],
   "source": [
    "iqr_mileage"
   ]
  },
  {
   "cell_type": "code",
   "execution_count": 28,
   "metadata": {},
   "outputs": [
    {
     "data": {
      "text/html": [
       "<strong>75%:</strong> 230"
      ],
      "text/latex": [
       "\\textbf{75\\textbackslash{}\\%:} 230"
      ],
      "text/markdown": [
       "**75%:** 230"
      ],
      "text/plain": [
       "75% \n",
       "230 "
      ]
     },
     "metadata": {},
     "output_type": "display_data"
    }
   ],
   "source": [
    "## WITH \"PROBS\" ATTIBUTE WE CAN SPECIFY THE PARTICULAR QUANTILE NEEDED (IT SHOULD BE BETWEEN 0 AND 1)\n",
    "quantile(data$Mileage,probs=0.75)"
   ]
  },
  {
   "cell_type": "code",
   "execution_count": 29,
   "metadata": {},
   "outputs": [],
   "source": [
    "## MAX VALUE OF Mileage IS CALCULATED USING FORMULA \"Q3 + (1.5*IQR)\"\n",
    "max_mileage = quantile(data$Mileage,probs=0.75)+ (1.5*iqr_mileage)"
   ]
  },
  {
   "cell_type": "code",
   "execution_count": 30,
   "metadata": {},
   "outputs": [
    {
     "data": {
      "text/html": [
       "<strong>75%:</strong> 440"
      ],
      "text/latex": [
       "\\textbf{75\\textbackslash{}\\%:} 440"
      ],
      "text/markdown": [
       "**75%:** 440"
      ],
      "text/plain": [
       "75% \n",
       "440 "
      ]
     },
     "metadata": {},
     "output_type": "display_data"
    }
   ],
   "source": [
    "max_mileage"
   ]
  },
  {
   "cell_type": "code",
   "execution_count": 31,
   "metadata": {},
   "outputs": [
    {
     "data": {
      "text/html": [
       "<table>\n",
       "<thead><tr><th scope=col>Price</th><th scope=col>Brand</th><th scope=col>Body</th><th scope=col>Mileage</th><th scope=col>EngineV</th><th scope=col>Engine.Type</th><th scope=col>Registration</th><th scope=col>Year</th></tr></thead>\n",
       "<tbody>\n",
       "\t<tr><td> 2500        </td><td>Volkswagen   </td><td>sedan        </td><td>488          </td><td>2.0          </td><td>Petrol       </td><td>yes          </td><td>1991         </td></tr>\n",
       "\t<tr><td> 4900        </td><td>Renault      </td><td>van          </td><td>472          </td><td>2.5          </td><td>Diesel       </td><td>yes          </td><td>2000         </td></tr>\n",
       "\t<tr><td> 2650        </td><td>Mercedes-Benz</td><td>sedan        </td><td>470          </td><td>2.0          </td><td>Gas          </td><td>yes          </td><td>1985         </td></tr>\n",
       "\t<tr><td> 6500        </td><td>Volkswagen   </td><td>other        </td><td>547          </td><td>1.9          </td><td>Diesel       </td><td>yes          </td><td>1998         </td></tr>\n",
       "\t<tr><td> 5200        </td><td>Volkswagen   </td><td>van          </td><td>442          </td><td>2.4          </td><td>Diesel       </td><td>yes          </td><td>1992         </td></tr>\n",
       "\t<tr><td> 8700        </td><td>Volkswagen   </td><td>other        </td><td>520          </td><td>2.5          </td><td>Diesel       </td><td>yes          </td><td>1999         </td></tr>\n",
       "\t<tr><td> 2700        </td><td>Toyota       </td><td>sedan        </td><td>550          </td><td>1.6          </td><td>Gas          </td><td>yes          </td><td>1989         </td></tr>\n",
       "\t<tr><td> 4900        </td><td>Volkswagen   </td><td>sedan        </td><td>500          </td><td>1.9          </td><td>Diesel       </td><td>yes          </td><td>1995         </td></tr>\n",
       "\t<tr><td> 8500        </td><td>Mercedes-Benz</td><td>van          </td><td>630          </td><td>2.9          </td><td>Diesel       </td><td>yes          </td><td>1998         </td></tr>\n",
       "\t<tr><td> 3800        </td><td>Mercedes-Benz</td><td>van          </td><td>462          </td><td>2.2          </td><td>Diesel       </td><td>no           </td><td>2001         </td></tr>\n",
       "\t<tr><td> 1900        </td><td>Audi         </td><td>sedan        </td><td>450          </td><td>2.5          </td><td>Diesel       </td><td>no           </td><td>1996         </td></tr>\n",
       "\t<tr><td> 8500        </td><td>Mercedes-Benz</td><td>sedan        </td><td>500          </td><td>3.2          </td><td>Diesel       </td><td>yes          </td><td>2000         </td></tr>\n",
       "\t<tr><td> 7200        </td><td>BMW          </td><td>sedan        </td><td>448          </td><td>3.0          </td><td>Petrol       </td><td>yes          </td><td>1996         </td></tr>\n",
       "\t<tr><td> 4500        </td><td>Mercedes-Benz</td><td>other        </td><td>525          </td><td>2.3          </td><td>Diesel       </td><td>yes          </td><td>1995         </td></tr>\n",
       "\t<tr><td> 4000        </td><td>Mercedes-Benz</td><td>sedan        </td><td>460          </td><td>2.0          </td><td>Petrol       </td><td>yes          </td><td>1991         </td></tr>\n",
       "\t<tr><td> 6500        </td><td>Mercedes-Benz</td><td>van          </td><td>450          </td><td>2.3          </td><td>Diesel       </td><td>yes          </td><td>1996         </td></tr>\n",
       "\t<tr><td> 8800        </td><td>Mercedes-Benz</td><td>other        </td><td>575          </td><td>2.2          </td><td>Diesel       </td><td>yes          </td><td>2006         </td></tr>\n",
       "\t<tr><td> 2300        </td><td>Mitsubishi   </td><td>sedan        </td><td>523          </td><td>1.8          </td><td>Diesel       </td><td>yes          </td><td>1989         </td></tr>\n",
       "\t<tr><td>40990        </td><td>Mercedes-Benz</td><td>crossover    </td><td>980          </td><td>3.0          </td><td>Diesel       </td><td>yes          </td><td>2013         </td></tr>\n",
       "\t<tr><td> 1900        </td><td>Volkswagen   </td><td>vagon        </td><td>504          </td><td>1.6          </td><td>Gas          </td><td>yes          </td><td>1988         </td></tr>\n",
       "\t<tr><td> 2850        </td><td>Volkswagen   </td><td>vagon        </td><td>450          </td><td>1.6          </td><td>Diesel       </td><td>yes          </td><td>1988         </td></tr>\n",
       "\t<tr><td>20500        </td><td>Volkswagen   </td><td>hatch        </td><td>800          </td><td>2.0          </td><td>Diesel       </td><td>yes          </td><td>2013         </td></tr>\n",
       "\t<tr><td> 5300        </td><td>Volkswagen   </td><td>van          </td><td>505          </td><td>2.4          </td><td>Diesel       </td><td>yes          </td><td>1995         </td></tr>\n",
       "\t<tr><td> 9500        </td><td>Mercedes-Benz</td><td>other        </td><td>650          </td><td>2.2          </td><td>Diesel       </td><td>yes          </td><td>2005         </td></tr>\n",
       "\t<tr><td> 6700        </td><td>Audi         </td><td>sedan        </td><td>470          </td><td>2.0          </td><td>Diesel       </td><td>yes          </td><td>1997         </td></tr>\n",
       "\t<tr><td>13000        </td><td>Mercedes-Benz</td><td>other        </td><td>580          </td><td>2.2          </td><td>Diesel       </td><td>yes          </td><td>2005         </td></tr>\n",
       "\t<tr><td> 3200        </td><td>Volkswagen   </td><td>other        </td><td>650          </td><td>1.9          </td><td>Diesel       </td><td>yes          </td><td>1999         </td></tr>\n",
       "\t<tr><td>40990        </td><td>Toyota       </td><td>crossover    </td><td>810          </td><td>4.7          </td><td>Gas          </td><td>yes          </td><td>2010         </td></tr>\n",
       "\t<tr><td> 2100        </td><td>Mercedes-Benz</td><td>sedan        </td><td>535          </td><td>2.2          </td><td>Diesel       </td><td>yes          </td><td>1995         </td></tr>\n",
       "\t<tr><td> 2750        </td><td>Audi         </td><td>sedan        </td><td>450          </td><td>2.5          </td><td>Diesel       </td><td>no           </td><td>1999         </td></tr>\n",
       "\t<tr><td> 2200        </td><td>BMW          </td><td>sedan        </td><td>460          </td><td>2.4          </td><td>Diesel       </td><td>yes          </td><td>1988         </td></tr>\n",
       "\t<tr><td> 6200        </td><td>Mercedes-Benz</td><td>sedan        </td><td>450          </td><td>4.2          </td><td>Gas          </td><td>yes          </td><td>1997         </td></tr>\n",
       "\t<tr><td> 8400        </td><td>Mercedes-Benz</td><td>other        </td><td>457          </td><td>5.0          </td><td>Gas          </td><td>yes          </td><td>1996         </td></tr>\n",
       "\t<tr><td> 6000        </td><td>Volkswagen   </td><td>van          </td><td>460          </td><td>1.9          </td><td>Diesel       </td><td>yes          </td><td>1997         </td></tr>\n",
       "\t<tr><td> 5600        </td><td>Mercedes-Benz</td><td>van          </td><td>480          </td><td>2.2          </td><td>Diesel       </td><td>yes          </td><td>1999         </td></tr>\n",
       "\t<tr><td> 3600        </td><td>Volkswagen   </td><td>vagon        </td><td>470          </td><td>1.8          </td><td>Petrol       </td><td>yes          </td><td>1994         </td></tr>\n",
       "</tbody>\n",
       "</table>\n"
      ],
      "text/latex": [
       "\\begin{tabular}{r|llllllll}\n",
       " Price & Brand & Body & Mileage & EngineV & Engine.Type & Registration & Year\\\\\n",
       "\\hline\n",
       "\t  2500         & Volkswagen    & sedan         & 488           & 2.0           & Petrol        & yes           & 1991         \\\\\n",
       "\t  4900         & Renault       & van           & 472           & 2.5           & Diesel        & yes           & 2000         \\\\\n",
       "\t  2650         & Mercedes-Benz & sedan         & 470           & 2.0           & Gas           & yes           & 1985         \\\\\n",
       "\t  6500         & Volkswagen    & other         & 547           & 1.9           & Diesel        & yes           & 1998         \\\\\n",
       "\t  5200         & Volkswagen    & van           & 442           & 2.4           & Diesel        & yes           & 1992         \\\\\n",
       "\t  8700         & Volkswagen    & other         & 520           & 2.5           & Diesel        & yes           & 1999         \\\\\n",
       "\t  2700         & Toyota        & sedan         & 550           & 1.6           & Gas           & yes           & 1989         \\\\\n",
       "\t  4900         & Volkswagen    & sedan         & 500           & 1.9           & Diesel        & yes           & 1995         \\\\\n",
       "\t  8500         & Mercedes-Benz & van           & 630           & 2.9           & Diesel        & yes           & 1998         \\\\\n",
       "\t  3800         & Mercedes-Benz & van           & 462           & 2.2           & Diesel        & no            & 2001         \\\\\n",
       "\t  1900         & Audi          & sedan         & 450           & 2.5           & Diesel        & no            & 1996         \\\\\n",
       "\t  8500         & Mercedes-Benz & sedan         & 500           & 3.2           & Diesel        & yes           & 2000         \\\\\n",
       "\t  7200         & BMW           & sedan         & 448           & 3.0           & Petrol        & yes           & 1996         \\\\\n",
       "\t  4500         & Mercedes-Benz & other         & 525           & 2.3           & Diesel        & yes           & 1995         \\\\\n",
       "\t  4000         & Mercedes-Benz & sedan         & 460           & 2.0           & Petrol        & yes           & 1991         \\\\\n",
       "\t  6500         & Mercedes-Benz & van           & 450           & 2.3           & Diesel        & yes           & 1996         \\\\\n",
       "\t  8800         & Mercedes-Benz & other         & 575           & 2.2           & Diesel        & yes           & 2006         \\\\\n",
       "\t  2300         & Mitsubishi    & sedan         & 523           & 1.8           & Diesel        & yes           & 1989         \\\\\n",
       "\t 40990         & Mercedes-Benz & crossover     & 980           & 3.0           & Diesel        & yes           & 2013         \\\\\n",
       "\t  1900         & Volkswagen    & vagon         & 504           & 1.6           & Gas           & yes           & 1988         \\\\\n",
       "\t  2850         & Volkswagen    & vagon         & 450           & 1.6           & Diesel        & yes           & 1988         \\\\\n",
       "\t 20500         & Volkswagen    & hatch         & 800           & 2.0           & Diesel        & yes           & 2013         \\\\\n",
       "\t  5300         & Volkswagen    & van           & 505           & 2.4           & Diesel        & yes           & 1995         \\\\\n",
       "\t  9500         & Mercedes-Benz & other         & 650           & 2.2           & Diesel        & yes           & 2005         \\\\\n",
       "\t  6700         & Audi          & sedan         & 470           & 2.0           & Diesel        & yes           & 1997         \\\\\n",
       "\t 13000         & Mercedes-Benz & other         & 580           & 2.2           & Diesel        & yes           & 2005         \\\\\n",
       "\t  3200         & Volkswagen    & other         & 650           & 1.9           & Diesel        & yes           & 1999         \\\\\n",
       "\t 40990         & Toyota        & crossover     & 810           & 4.7           & Gas           & yes           & 2010         \\\\\n",
       "\t  2100         & Mercedes-Benz & sedan         & 535           & 2.2           & Diesel        & yes           & 1995         \\\\\n",
       "\t  2750         & Audi          & sedan         & 450           & 2.5           & Diesel        & no            & 1999         \\\\\n",
       "\t  2200         & BMW           & sedan         & 460           & 2.4           & Diesel        & yes           & 1988         \\\\\n",
       "\t  6200         & Mercedes-Benz & sedan         & 450           & 4.2           & Gas           & yes           & 1997         \\\\\n",
       "\t  8400         & Mercedes-Benz & other         & 457           & 5.0           & Gas           & yes           & 1996         \\\\\n",
       "\t  6000         & Volkswagen    & van           & 460           & 1.9           & Diesel        & yes           & 1997         \\\\\n",
       "\t  5600         & Mercedes-Benz & van           & 480           & 2.2           & Diesel        & yes           & 1999         \\\\\n",
       "\t  3600         & Volkswagen    & vagon         & 470           & 1.8           & Petrol        & yes           & 1994         \\\\\n",
       "\\end{tabular}\n"
      ],
      "text/markdown": [
       "\n",
       "| Price | Brand | Body | Mileage | EngineV | Engine.Type | Registration | Year |\n",
       "|---|---|---|---|---|---|---|---|\n",
       "|  2500         | Volkswagen    | sedan         | 488           | 2.0           | Petrol        | yes           | 1991          |\n",
       "|  4900         | Renault       | van           | 472           | 2.5           | Diesel        | yes           | 2000          |\n",
       "|  2650         | Mercedes-Benz | sedan         | 470           | 2.0           | Gas           | yes           | 1985          |\n",
       "|  6500         | Volkswagen    | other         | 547           | 1.9           | Diesel        | yes           | 1998          |\n",
       "|  5200         | Volkswagen    | van           | 442           | 2.4           | Diesel        | yes           | 1992          |\n",
       "|  8700         | Volkswagen    | other         | 520           | 2.5           | Diesel        | yes           | 1999          |\n",
       "|  2700         | Toyota        | sedan         | 550           | 1.6           | Gas           | yes           | 1989          |\n",
       "|  4900         | Volkswagen    | sedan         | 500           | 1.9           | Diesel        | yes           | 1995          |\n",
       "|  8500         | Mercedes-Benz | van           | 630           | 2.9           | Diesel        | yes           | 1998          |\n",
       "|  3800         | Mercedes-Benz | van           | 462           | 2.2           | Diesel        | no            | 2001          |\n",
       "|  1900         | Audi          | sedan         | 450           | 2.5           | Diesel        | no            | 1996          |\n",
       "|  8500         | Mercedes-Benz | sedan         | 500           | 3.2           | Diesel        | yes           | 2000          |\n",
       "|  7200         | BMW           | sedan         | 448           | 3.0           | Petrol        | yes           | 1996          |\n",
       "|  4500         | Mercedes-Benz | other         | 525           | 2.3           | Diesel        | yes           | 1995          |\n",
       "|  4000         | Mercedes-Benz | sedan         | 460           | 2.0           | Petrol        | yes           | 1991          |\n",
       "|  6500         | Mercedes-Benz | van           | 450           | 2.3           | Diesel        | yes           | 1996          |\n",
       "|  8800         | Mercedes-Benz | other         | 575           | 2.2           | Diesel        | yes           | 2006          |\n",
       "|  2300         | Mitsubishi    | sedan         | 523           | 1.8           | Diesel        | yes           | 1989          |\n",
       "| 40990         | Mercedes-Benz | crossover     | 980           | 3.0           | Diesel        | yes           | 2013          |\n",
       "|  1900         | Volkswagen    | vagon         | 504           | 1.6           | Gas           | yes           | 1988          |\n",
       "|  2850         | Volkswagen    | vagon         | 450           | 1.6           | Diesel        | yes           | 1988          |\n",
       "| 20500         | Volkswagen    | hatch         | 800           | 2.0           | Diesel        | yes           | 2013          |\n",
       "|  5300         | Volkswagen    | van           | 505           | 2.4           | Diesel        | yes           | 1995          |\n",
       "|  9500         | Mercedes-Benz | other         | 650           | 2.2           | Diesel        | yes           | 2005          |\n",
       "|  6700         | Audi          | sedan         | 470           | 2.0           | Diesel        | yes           | 1997          |\n",
       "| 13000         | Mercedes-Benz | other         | 580           | 2.2           | Diesel        | yes           | 2005          |\n",
       "|  3200         | Volkswagen    | other         | 650           | 1.9           | Diesel        | yes           | 1999          |\n",
       "| 40990         | Toyota        | crossover     | 810           | 4.7           | Gas           | yes           | 2010          |\n",
       "|  2100         | Mercedes-Benz | sedan         | 535           | 2.2           | Diesel        | yes           | 1995          |\n",
       "|  2750         | Audi          | sedan         | 450           | 2.5           | Diesel        | no            | 1999          |\n",
       "|  2200         | BMW           | sedan         | 460           | 2.4           | Diesel        | yes           | 1988          |\n",
       "|  6200         | Mercedes-Benz | sedan         | 450           | 4.2           | Gas           | yes           | 1997          |\n",
       "|  8400         | Mercedes-Benz | other         | 457           | 5.0           | Gas           | yes           | 1996          |\n",
       "|  6000         | Volkswagen    | van           | 460           | 1.9           | Diesel        | yes           | 1997          |\n",
       "|  5600         | Mercedes-Benz | van           | 480           | 2.2           | Diesel        | yes           | 1999          |\n",
       "|  3600         | Volkswagen    | vagon         | 470           | 1.8           | Petrol        | yes           | 1994          |\n",
       "\n"
      ],
      "text/plain": [
       "   Price Brand         Body      Mileage EngineV Engine.Type Registration Year\n",
       "1   2500 Volkswagen    sedan     488     2.0     Petrol      yes          1991\n",
       "2   4900 Renault       van       472     2.5     Diesel      yes          2000\n",
       "3   2650 Mercedes-Benz sedan     470     2.0     Gas         yes          1985\n",
       "4   6500 Volkswagen    other     547     1.9     Diesel      yes          1998\n",
       "5   5200 Volkswagen    van       442     2.4     Diesel      yes          1992\n",
       "6   8700 Volkswagen    other     520     2.5     Diesel      yes          1999\n",
       "7   2700 Toyota        sedan     550     1.6     Gas         yes          1989\n",
       "8   4900 Volkswagen    sedan     500     1.9     Diesel      yes          1995\n",
       "9   8500 Mercedes-Benz van       630     2.9     Diesel      yes          1998\n",
       "10  3800 Mercedes-Benz van       462     2.2     Diesel      no           2001\n",
       "11  1900 Audi          sedan     450     2.5     Diesel      no           1996\n",
       "12  8500 Mercedes-Benz sedan     500     3.2     Diesel      yes          2000\n",
       "13  7200 BMW           sedan     448     3.0     Petrol      yes          1996\n",
       "14  4500 Mercedes-Benz other     525     2.3     Diesel      yes          1995\n",
       "15  4000 Mercedes-Benz sedan     460     2.0     Petrol      yes          1991\n",
       "16  6500 Mercedes-Benz van       450     2.3     Diesel      yes          1996\n",
       "17  8800 Mercedes-Benz other     575     2.2     Diesel      yes          2006\n",
       "18  2300 Mitsubishi    sedan     523     1.8     Diesel      yes          1989\n",
       "19 40990 Mercedes-Benz crossover 980     3.0     Diesel      yes          2013\n",
       "20  1900 Volkswagen    vagon     504     1.6     Gas         yes          1988\n",
       "21  2850 Volkswagen    vagon     450     1.6     Diesel      yes          1988\n",
       "22 20500 Volkswagen    hatch     800     2.0     Diesel      yes          2013\n",
       "23  5300 Volkswagen    van       505     2.4     Diesel      yes          1995\n",
       "24  9500 Mercedes-Benz other     650     2.2     Diesel      yes          2005\n",
       "25  6700 Audi          sedan     470     2.0     Diesel      yes          1997\n",
       "26 13000 Mercedes-Benz other     580     2.2     Diesel      yes          2005\n",
       "27  3200 Volkswagen    other     650     1.9     Diesel      yes          1999\n",
       "28 40990 Toyota        crossover 810     4.7     Gas         yes          2010\n",
       "29  2100 Mercedes-Benz sedan     535     2.2     Diesel      yes          1995\n",
       "30  2750 Audi          sedan     450     2.5     Diesel      no           1999\n",
       "31  2200 BMW           sedan     460     2.4     Diesel      yes          1988\n",
       "32  6200 Mercedes-Benz sedan     450     4.2     Gas         yes          1997\n",
       "33  8400 Mercedes-Benz other     457     5.0     Gas         yes          1996\n",
       "34  6000 Volkswagen    van       460     1.9     Diesel      yes          1997\n",
       "35  5600 Mercedes-Benz van       480     2.2     Diesel      yes          1999\n",
       "36  3600 Volkswagen    vagon     470     1.8     Petrol      yes          1994"
      ]
     },
     "metadata": {},
     "output_type": "display_data"
    }
   ],
   "source": [
    "## FILTERING DATA WHERE MILEAGE ABOVE THE MAXIMUM MILEAGE\n",
    "filter(data,Mileage>max_mileage)"
   ]
  },
  {
   "cell_type": "code",
   "execution_count": 32,
   "metadata": {},
   "outputs": [
    {
     "data": {
      "text/html": [
       "<dl class=dl-horizontal>\n",
       "\t<dt>75%</dt>\n",
       "\t\t<dd>230</dd>\n",
       "\t<dt>76%</dt>\n",
       "\t\t<dd>233</dd>\n",
       "\t<dt>77%</dt>\n",
       "\t\t<dd>238</dd>\n",
       "\t<dt>78%</dt>\n",
       "\t\t<dd>240</dd>\n",
       "\t<dt>79%</dt>\n",
       "\t\t<dd>245</dd>\n",
       "\t<dt>80%</dt>\n",
       "\t\t<dd>250</dd>\n",
       "\t<dt>81%</dt>\n",
       "\t\t<dd>250</dd>\n",
       "\t<dt>82%</dt>\n",
       "\t\t<dd>254</dd>\n",
       "\t<dt>83%</dt>\n",
       "\t\t<dd>260</dd>\n",
       "\t<dt>84%</dt>\n",
       "\t\t<dd>263</dd>\n",
       "\t<dt>85%</dt>\n",
       "\t\t<dd>270</dd>\n",
       "\t<dt>86%</dt>\n",
       "\t\t<dd>272.64</dd>\n",
       "\t<dt>87%</dt>\n",
       "\t\t<dd>280</dd>\n",
       "\t<dt>88%</dt>\n",
       "\t\t<dd>281.12</dd>\n",
       "\t<dt>89%</dt>\n",
       "\t\t<dd>288</dd>\n",
       "\t<dt>90%</dt>\n",
       "\t\t<dd>297</dd>\n",
       "\t<dt>91%</dt>\n",
       "\t\t<dd>300</dd>\n",
       "\t<dt>92%</dt>\n",
       "\t\t<dd>303</dd>\n",
       "\t<dt>93%</dt>\n",
       "\t\t<dd>315</dd>\n",
       "\t<dt>94%</dt>\n",
       "\t\t<dd>326</dd>\n",
       "\t<dt>95%</dt>\n",
       "\t\t<dd>340.8</dd>\n",
       "\t<dt>96%</dt>\n",
       "\t\t<dd>358.08</dd>\n",
       "\t<dt>97%</dt>\n",
       "\t\t<dd>375.559999999999</dd>\n",
       "\t<dt>98%</dt>\n",
       "\t\t<dd>400</dd>\n",
       "\t<dt>99%</dt>\n",
       "\t\t<dd>434.52</dd>\n",
       "</dl>\n"
      ],
      "text/latex": [
       "\\begin{description*}\n",
       "\\item[75\\textbackslash{}\\%] 230\n",
       "\\item[76\\textbackslash{}\\%] 233\n",
       "\\item[77\\textbackslash{}\\%] 238\n",
       "\\item[78\\textbackslash{}\\%] 240\n",
       "\\item[79\\textbackslash{}\\%] 245\n",
       "\\item[80\\textbackslash{}\\%] 250\n",
       "\\item[81\\textbackslash{}\\%] 250\n",
       "\\item[82\\textbackslash{}\\%] 254\n",
       "\\item[83\\textbackslash{}\\%] 260\n",
       "\\item[84\\textbackslash{}\\%] 263\n",
       "\\item[85\\textbackslash{}\\%] 270\n",
       "\\item[86\\textbackslash{}\\%] 272.64\n",
       "\\item[87\\textbackslash{}\\%] 280\n",
       "\\item[88\\textbackslash{}\\%] 281.12\n",
       "\\item[89\\textbackslash{}\\%] 288\n",
       "\\item[90\\textbackslash{}\\%] 297\n",
       "\\item[91\\textbackslash{}\\%] 300\n",
       "\\item[92\\textbackslash{}\\%] 303\n",
       "\\item[93\\textbackslash{}\\%] 315\n",
       "\\item[94\\textbackslash{}\\%] 326\n",
       "\\item[95\\textbackslash{}\\%] 340.8\n",
       "\\item[96\\textbackslash{}\\%] 358.08\n",
       "\\item[97\\textbackslash{}\\%] 375.559999999999\n",
       "\\item[98\\textbackslash{}\\%] 400\n",
       "\\item[99\\textbackslash{}\\%] 434.52\n",
       "\\end{description*}\n"
      ],
      "text/markdown": [
       "75%\n",
       ":   23076%\n",
       ":   23377%\n",
       ":   23878%\n",
       ":   24079%\n",
       ":   24580%\n",
       ":   25081%\n",
       ":   25082%\n",
       ":   25483%\n",
       ":   26084%\n",
       ":   26385%\n",
       ":   27086%\n",
       ":   272.6487%\n",
       ":   28088%\n",
       ":   281.1289%\n",
       ":   28890%\n",
       ":   29791%\n",
       ":   30092%\n",
       ":   30393%\n",
       ":   31594%\n",
       ":   32695%\n",
       ":   340.896%\n",
       ":   358.0897%\n",
       ":   375.55999999999998%\n",
       ":   40099%\n",
       ":   434.52\n",
       "\n"
      ],
      "text/plain": [
       "   75%    76%    77%    78%    79%    80%    81%    82%    83%    84%    85% \n",
       "230.00 233.00 238.00 240.00 245.00 250.00 250.00 254.00 260.00 263.00 270.00 \n",
       "   86%    87%    88%    89%    90%    91%    92%    93%    94%    95%    96% \n",
       "272.64 280.00 281.12 288.00 297.00 300.00 303.00 315.00 326.00 340.80 358.08 \n",
       "   97%    98%    99% \n",
       "375.56 400.00 434.52 "
      ]
     },
     "metadata": {},
     "output_type": "display_data"
    }
   ],
   "source": [
    "## USING QUANTILE FUNCTION CALLING QUANTILES FROM 75TH TO 99TH \n",
    "quantile(data$Mileage,probs=quantile_range)"
   ]
  },
  {
   "cell_type": "code",
   "execution_count": 33,
   "metadata": {},
   "outputs": [],
   "source": [
    "## USING FOR LOOPS CHANGING VALUES\n",
    "for (i in 1:4025)\n",
    "{\n",
    "    if (data$Mileage[i]>max_mileage)\n",
    "    {\n",
    "        data$Mileage[i]=quantile(data$Mileage,probs=0.98)\n",
    "    }\n",
    "}"
   ]
  },
  {
   "cell_type": "code",
   "execution_count": 34,
   "metadata": {},
   "outputs": [
    {
     "data": {
      "text/html": [
       "<table>\n",
       "<thead><tr><th scope=col>Price</th><th scope=col>Brand</th><th scope=col>Body</th><th scope=col>Mileage</th><th scope=col>EngineV</th><th scope=col>Engine.Type</th><th scope=col>Registration</th><th scope=col>Year</th></tr></thead>\n",
       "<tbody>\n",
       "</tbody>\n",
       "</table>\n"
      ],
      "text/latex": [
       "\\begin{tabular}{r|llllllll}\n",
       " Price & Brand & Body & Mileage & EngineV & Engine.Type & Registration & Year\\\\\n",
       "\\hline\n",
       "\\end{tabular}\n"
      ],
      "text/markdown": [
       "\n",
       "| Price | Brand | Body | Mileage | EngineV | Engine.Type | Registration | Year |\n",
       "|---|---|---|---|---|---|---|---|\n",
       "\n"
      ],
      "text/plain": [
       "     Price Brand Body Mileage EngineV Engine.Type Registration Year"
      ]
     },
     "metadata": {},
     "output_type": "display_data"
    }
   ],
   "source": [
    "filter(data,Mileage>max_mileage)"
   ]
  },
  {
   "cell_type": "code",
   "execution_count": 35,
   "metadata": {},
   "outputs": [
    {
     "data": {
      "image/png": "[encoded data removed]",
      "text/plain": [
       "plot without title"
      ]
     },
     "metadata": {},
     "output_type": "display_data"
    }
   ],
   "source": [
    "## CHECKING FOR OUTLIERS WITH BOXPLOT\n",
    "ggplot(data=data,aes(y=Mileage))+ geom_boxplot(fill='burlywood4')"
   ]
  },
  {
   "cell_type": "markdown",
   "metadata": {},
   "source": [
    "### III. EngineV"
   ]
  },
  {
   "cell_type": "code",
   "execution_count": 36,
   "metadata": {},
   "outputs": [
    {
     "data": {
      "image/png": "[encoded data removed]",
      "text/plain": [
       "plot without title"
      ]
     },
     "metadata": {},
     "output_type": "display_data"
    }
   ],
   "source": [
    "## CHECKING FOR OUTLIERS WITH BOXPLOT\n",
    "ggplot(data=data,aes(y=EngineV))+ geom_boxplot(fill='cadetblue3')"
   ]
  },
  {
   "cell_type": "code",
   "execution_count": 37,
   "metadata": {},
   "outputs": [],
   "source": [
    "## FINDING INTER QUARTILE RANGE TO CALCULATE MAXIMUM VALUE OF DISTRIBUTION USING \"IQR\" FUNCTION\n",
    "iqr_enginev= IQR(data$EngineV)"
   ]
  },
  {
   "cell_type": "code",
   "execution_count": 38,
   "metadata": {},
   "outputs": [],
   "source": [
    "## MAX VALUE OF ENGINEV IS CALCULATED USING FORMULA \"Q3 + (1.5*IQR)\"\n",
    "max_enginev = quantile(data$EngineV,probs=0.75)+ (1.5*iqr_enginev)"
   ]
  },
  {
   "cell_type": "code",
   "execution_count": 39,
   "metadata": {},
   "outputs": [
    {
     "data": {
      "text/html": [
       "<strong>75%:</strong> 4.8"
      ],
      "text/latex": [
       "\\textbf{75\\textbackslash{}\\%:} 4.8"
      ],
      "text/markdown": [
       "**75%:** 4.8"
      ],
      "text/plain": [
       "75% \n",
       "4.8 "
      ]
     },
     "metadata": {},
     "output_type": "display_data"
    }
   ],
   "source": [
    "max_enginev"
   ]
  },
  {
   "cell_type": "code",
   "execution_count": 40,
   "metadata": {},
   "outputs": [
    {
     "data": {
      "text/html": [
       "<table>\n",
       "<thead><tr><th scope=col>Price</th><th scope=col>Brand</th><th scope=col>Body</th><th scope=col>Mileage</th><th scope=col>EngineV</th><th scope=col>Engine.Type</th><th scope=col>Registration</th><th scope=col>Year</th></tr></thead>\n",
       "<tbody>\n",
       "\t<tr><td>13300.00     </td><td>Mercedes-Benz</td><td>sedan        </td><td>358          </td><td> 5.00        </td><td>Gas          </td><td>yes          </td><td>2003         </td></tr>\n",
       "\t<tr><td>40996.00     </td><td>Mercedes-Benz</td><td>crossover    </td><td>  0          </td><td> 5.50        </td><td>Petrol       </td><td>yes          </td><td>2016         </td></tr>\n",
       "\t<tr><td>40992.16     </td><td>Mercedes-Benz</td><td>crossover    </td><td> 86          </td><td> 5.50        </td><td>Petrol       </td><td>yes          </td><td>2009         </td></tr>\n",
       "\t<tr><td>29500.00     </td><td>Mercedes-Benz</td><td>sedan        </td><td>134          </td><td> 5.00        </td><td>Petrol       </td><td>yes          </td><td>2008         </td></tr>\n",
       "\t<tr><td>13500.00     </td><td>Mercedes-Benz</td><td>sedan        </td><td>317          </td><td> 5.00        </td><td>Petrol       </td><td>yes          </td><td>2001         </td></tr>\n",
       "\t<tr><td>27000.00     </td><td>BMW          </td><td>sedan        </td><td>137          </td><td> 5.00        </td><td>Other        </td><td>yes          </td><td>2005         </td></tr>\n",
       "\t<tr><td>28000.00     </td><td>BMW          </td><td>other        </td><td>100          </td><td> 5.00        </td><td>Petrol       </td><td>yes          </td><td>2005         </td></tr>\n",
       "\t<tr><td>23900.00     </td><td>Mercedes-Benz</td><td>sedan        </td><td>187          </td><td> 5.50        </td><td>Petrol       </td><td>yes          </td><td>2007         </td></tr>\n",
       "\t<tr><td>25000.00     </td><td>Mercedes-Benz</td><td>sedan        </td><td>130          </td><td> 5.50        </td><td>Petrol       </td><td>yes          </td><td>2007         </td></tr>\n",
       "\t<tr><td> 5500.00     </td><td>Mercedes-Benz</td><td>sedan        </td><td>100          </td><td>99.99        </td><td>Petrol       </td><td>yes          </td><td>2007         </td></tr>\n",
       "\t<tr><td>14500.00     </td><td>Mercedes-Benz</td><td>sedan        </td><td>220          </td><td> 5.00        </td><td>Petrol       </td><td>yes          </td><td>2004         </td></tr>\n",
       "\t<tr><td>29900.00     </td><td>Mercedes-Benz</td><td>other        </td><td> 71          </td><td> 5.50        </td><td>Petrol       </td><td>yes          </td><td>2007         </td></tr>\n",
       "\t<tr><td>38300.00     </td><td>Toyota       </td><td>crossover    </td><td>130          </td><td> 5.70        </td><td>Gas          </td><td>yes          </td><td>2009         </td></tr>\n",
       "\t<tr><td>40990.00     </td><td>Mercedes-Benz</td><td>crossover    </td><td>  0          </td><td> 5.50        </td><td>Petrol       </td><td>yes          </td><td>2016         </td></tr>\n",
       "\t<tr><td>44000.00     </td><td>Mercedes-Benz</td><td>other        </td><td> 82          </td><td> 5.50        </td><td>Petrol       </td><td>yes          </td><td>2010         </td></tr>\n",
       "\t<tr><td>24900.00     </td><td>Mercedes-Benz</td><td>sedan        </td><td>140          </td><td> 5.50        </td><td>Petrol       </td><td>yes          </td><td>2009         </td></tr>\n",
       "\t<tr><td>12000.00     </td><td>Audi         </td><td>sedan        </td><td>200          </td><td> 6.00        </td><td>Petrol       </td><td>yes          </td><td>2004         </td></tr>\n",
       "\t<tr><td>40990.00     </td><td>Mercedes-Benz</td><td>crossover    </td><td>  2          </td><td> 5.50        </td><td>Petrol       </td><td>yes          </td><td>2016         </td></tr>\n",
       "\t<tr><td> 9500.00     </td><td>Mercedes-Benz</td><td>sedan        </td><td>246          </td><td> 6.00        </td><td>Petrol       </td><td>yes          </td><td>1997         </td></tr>\n",
       "\t<tr><td> 1950.00     </td><td>Audi         </td><td>sedan        </td><td>320          </td><td>19.00        </td><td>Other        </td><td>no           </td><td>1996         </td></tr>\n",
       "\t<tr><td>26800.00     </td><td>Mercedes-Benz</td><td>sedan        </td><td>162          </td><td> 5.50        </td><td>Petrol       </td><td>yes          </td><td>2007         </td></tr>\n",
       "\t<tr><td>40990.00     </td><td>Mercedes-Benz</td><td>crossover    </td><td>  0          </td><td> 5.50        </td><td>Petrol       </td><td>yes          </td><td>2016         </td></tr>\n",
       "\t<tr><td> 8700.00     </td><td>Mercedes-Benz</td><td>sedan        </td><td>210          </td><td> 5.00        </td><td>Petrol       </td><td>yes          </td><td>1997         </td></tr>\n",
       "\t<tr><td>10500.00     </td><td>Volkswagen   </td><td>sedan        </td><td>210          </td><td> 5.00        </td><td>Diesel       </td><td>yes          </td><td>2004         </td></tr>\n",
       "\t<tr><td> 4800.00     </td><td>Renault      </td><td>van          </td><td>113          </td><td>15.00        </td><td>Diesel       </td><td>yes          </td><td>2006         </td></tr>\n",
       "\t<tr><td>40990.00     </td><td>Mercedes-Benz</td><td>other        </td><td> 75          </td><td> 6.30        </td><td>Petrol       </td><td>yes          </td><td>2009         </td></tr>\n",
       "\t<tr><td>40990.00     </td><td>Mercedes-Benz</td><td>sedan        </td><td> 74          </td><td> 6.30        </td><td>Petrol       </td><td>yes          </td><td>2010         </td></tr>\n",
       "\t<tr><td>40500.00     </td><td>Mercedes-Benz</td><td>sedan        </td><td>108          </td><td> 5.50        </td><td>Petrol       </td><td>yes          </td><td>2010         </td></tr>\n",
       "\t<tr><td>21500.00     </td><td>Mercedes-Benz</td><td>crossover    </td><td>148          </td><td> 6.20        </td><td>Petrol       </td><td>yes          </td><td>2008         </td></tr>\n",
       "\t<tr><td>12300.00     </td><td>Mercedes-Benz</td><td>sedan        </td><td>423          </td><td> 5.00        </td><td>Gas          </td><td>yes          </td><td>1997         </td></tr>\n",
       "\t<tr><td>...</td><td>...</td><td>...</td><td>...</td><td>...</td><td>...</td><td>...</td><td>...</td></tr>\n",
       "\t<tr><td>40990        </td><td>Audi         </td><td>sedan        </td><td> 44          </td><td> 6.3         </td><td>Petrol       </td><td>yes          </td><td>2012         </td></tr>\n",
       "\t<tr><td>34600        </td><td>BMW          </td><td>crossover    </td><td>163          </td><td> 5.0         </td><td>Petrol       </td><td>yes          </td><td>2011         </td></tr>\n",
       "\t<tr><td>20500        </td><td>Mercedes-Benz</td><td>sedan        </td><td>222          </td><td> 5.5         </td><td>Petrol       </td><td>yes          </td><td>2006         </td></tr>\n",
       "\t<tr><td> 8400        </td><td>Mercedes-Benz</td><td>other        </td><td>400          </td><td> 5.0         </td><td>Gas          </td><td>yes          </td><td>1996         </td></tr>\n",
       "\t<tr><td>40990        </td><td>BMW          </td><td>vagon        </td><td> 56          </td><td> 5.0         </td><td>Petrol       </td><td>yes          </td><td>2007         </td></tr>\n",
       "\t<tr><td>44000        </td><td>Mercedes-Benz</td><td>other        </td><td> 39          </td><td> 5.5         </td><td>Petrol       </td><td>yes          </td><td>2009         </td></tr>\n",
       "\t<tr><td>40990        </td><td>Mercedes-Benz</td><td>sedan        </td><td>115          </td><td> 5.5         </td><td>Petrol       </td><td>yes          </td><td>2011         </td></tr>\n",
       "\t<tr><td>26900        </td><td>BMW          </td><td>sedan        </td><td>158          </td><td> 5.0         </td><td>Petrol       </td><td>yes          </td><td>2007         </td></tr>\n",
       "\t<tr><td> 7650        </td><td>Mercedes-Benz</td><td>sedan        </td><td>340          </td><td> 5.0         </td><td>Gas          </td><td>yes          </td><td>1997         </td></tr>\n",
       "\t<tr><td>41900        </td><td>Mercedes-Benz</td><td>sedan        </td><td> 95          </td><td> 6.3         </td><td>Other        </td><td>yes          </td><td>2011         </td></tr>\n",
       "\t<tr><td>24500        </td><td>Mercedes-Benz</td><td>sedan        </td><td>222          </td><td> 5.5         </td><td>Petrol       </td><td>yes          </td><td>2005         </td></tr>\n",
       "\t<tr><td>37700        </td><td>Toyota       </td><td>crossover    </td><td> 47          </td><td> 5.7         </td><td>Gas          </td><td>yes          </td><td>2009         </td></tr>\n",
       "\t<tr><td>40990        </td><td>Mercedes-Benz</td><td>crossover    </td><td> 30          </td><td> 6.3         </td><td>Petrol       </td><td>yes          </td><td>2013         </td></tr>\n",
       "\t<tr><td>15900        </td><td>Mercedes-Benz</td><td>sedan        </td><td>216          </td><td> 5.0         </td><td>Petrol       </td><td>yes          </td><td>2007         </td></tr>\n",
       "\t<tr><td>40990        </td><td>Mercedes-Benz</td><td>crossover    </td><td>127          </td><td> 5.5         </td><td>Petrol       </td><td>yes          </td><td>2008         </td></tr>\n",
       "\t<tr><td>40990        </td><td>Mercedes-Benz</td><td>sedan        </td><td> 29          </td><td> 6.0         </td><td>Petrol       </td><td>yes          </td><td>2011         </td></tr>\n",
       "\t<tr><td>35900        </td><td>Mercedes-Benz</td><td>crossover    </td><td>254          </td><td> 5.0         </td><td>Gas          </td><td>yes          </td><td>2004         </td></tr>\n",
       "\t<tr><td>40990        </td><td>Mercedes-Benz</td><td>crossover    </td><td>127          </td><td> 5.0         </td><td>Petrol       </td><td>yes          </td><td>2008         </td></tr>\n",
       "\t<tr><td>35500        </td><td>Mercedes-Benz</td><td>sedan        </td><td>160          </td><td> 6.5         </td><td>Petrol       </td><td>yes          </td><td>2008         </td></tr>\n",
       "\t<tr><td> 2950        </td><td>Renault      </td><td>vagon        </td><td>280          </td><td>19.0         </td><td>Diesel       </td><td>yes          </td><td>2000         </td></tr>\n",
       "\t<tr><td>40990        </td><td>Audi         </td><td>other        </td><td> 30          </td><td> 5.2         </td><td>Petrol       </td><td>yes          </td><td>2010         </td></tr>\n",
       "\t<tr><td>40500        </td><td>Mercedes-Benz</td><td>crossover    </td><td> 54          </td><td> 5.5         </td><td>Petrol       </td><td>yes          </td><td>2011         </td></tr>\n",
       "\t<tr><td>40990        </td><td>Mercedes-Benz</td><td>sedan        </td><td> 36          </td><td> 5.5         </td><td>Petrol       </td><td>yes          </td><td>2014         </td></tr>\n",
       "\t<tr><td>23500        </td><td>Mercedes-Benz</td><td>sedan        </td><td>200          </td><td> 5.5         </td><td>Petrol       </td><td>yes          </td><td>2008         </td></tr>\n",
       "\t<tr><td>40990        </td><td>Mercedes-Benz</td><td>crossover    </td><td>120          </td><td> 5.5         </td><td>Petrol       </td><td>yes          </td><td>2008         </td></tr>\n",
       "\t<tr><td>27500        </td><td>Mercedes-Benz</td><td>crossover    </td><td>152          </td><td> 6.3         </td><td>Petrol       </td><td>yes          </td><td>2007         </td></tr>\n",
       "\t<tr><td>29500        </td><td>Mercedes-Benz</td><td>crossover    </td><td>253          </td><td> 5.0         </td><td>Petrol       </td><td>yes          </td><td>2003         </td></tr>\n",
       "\t<tr><td>24500        </td><td>Mercedes-Benz</td><td>sedan        </td><td>163          </td><td> 5.5         </td><td>Gas          </td><td>yes          </td><td>2007         </td></tr>\n",
       "\t<tr><td>12000        </td><td>Mercedes-Benz</td><td>sedan        </td><td>298          </td><td> 5.0         </td><td>Petrol       </td><td>yes          </td><td>2004         </td></tr>\n",
       "\t<tr><td>40990        </td><td>Mercedes-Benz</td><td>other        </td><td> 37          </td><td> 5.0         </td><td>Petrol       </td><td>yes          </td><td>2012         </td></tr>\n",
       "</tbody>\n",
       "</table>\n"
      ],
      "text/latex": [
       "\\begin{tabular}{r|llllllll}\n",
       " Price & Brand & Body & Mileage & EngineV & Engine.Type & Registration & Year\\\\\n",
       "\\hline\n",
       "\t 13300.00      & Mercedes-Benz & sedan         & 358           &  5.00         & Gas           & yes           & 2003         \\\\\n",
       "\t 40996.00      & Mercedes-Benz & crossover     &   0           &  5.50         & Petrol        & yes           & 2016         \\\\\n",
       "\t 40992.16      & Mercedes-Benz & crossover     &  86           &  5.50         & Petrol        & yes           & 2009         \\\\\n",
       "\t 29500.00      & Mercedes-Benz & sedan         & 134           &  5.00         & Petrol        & yes           & 2008         \\\\\n",
       "\t 13500.00      & Mercedes-Benz & sedan         & 317           &  5.00         & Petrol        & yes           & 2001         \\\\\n",
       "\t 27000.00      & BMW           & sedan         & 137           &  5.00         & Other         & yes           & 2005         \\\\\n",
       "\t 28000.00      & BMW           & other         & 100           &  5.00         & Petrol        & yes           & 2005         \\\\\n",
       "\t 23900.00      & Mercedes-Benz & sedan         & 187           &  5.50         & Petrol        & yes           & 2007         \\\\\n",
       "\t 25000.00      & Mercedes-Benz & sedan         & 130           &  5.50         & Petrol        & yes           & 2007         \\\\\n",
       "\t  5500.00      & Mercedes-Benz & sedan         & 100           & 99.99         & Petrol        & yes           & 2007         \\\\\n",
       "\t 14500.00      & Mercedes-Benz & sedan         & 220           &  5.00         & Petrol        & yes           & 2004         \\\\\n",
       "\t 29900.00      & Mercedes-Benz & other         &  71           &  5.50         & Petrol        & yes           & 2007         \\\\\n",
       "\t 38300.00      & Toyota        & crossover     & 130           &  5.70         & Gas           & yes           & 2009         \\\\\n",
       "\t 40990.00      & Mercedes-Benz & crossover     &   0           &  5.50         & Petrol        & yes           & 2016         \\\\\n",
       "\t 44000.00      & Mercedes-Benz & other         &  82           &  5.50         & Petrol        & yes           & 2010         \\\\\n",
       "\t 24900.00      & Mercedes-Benz & sedan         & 140           &  5.50         & Petrol        & yes           & 2009         \\\\\n",
       "\t 12000.00      & Audi          & sedan         & 200           &  6.00         & Petrol        & yes           & 2004         \\\\\n",
       "\t 40990.00      & Mercedes-Benz & crossover     &   2           &  5.50         & Petrol        & yes           & 2016         \\\\\n",
       "\t  9500.00      & Mercedes-Benz & sedan         & 246           &  6.00         & Petrol        & yes           & 1997         \\\\\n",
       "\t  1950.00      & Audi          & sedan         & 320           & 19.00         & Other         & no            & 1996         \\\\\n",
       "\t 26800.00      & Mercedes-Benz & sedan         & 162           &  5.50         & Petrol        & yes           & 2007         \\\\\n",
       "\t 40990.00      & Mercedes-Benz & crossover     &   0           &  5.50         & Petrol        & yes           & 2016         \\\\\n",
       "\t  8700.00      & Mercedes-Benz & sedan         & 210           &  5.00         & Petrol        & yes           & 1997         \\\\\n",
       "\t 10500.00      & Volkswagen    & sedan         & 210           &  5.00         & Diesel        & yes           & 2004         \\\\\n",
       "\t  4800.00      & Renault       & van           & 113           & 15.00         & Diesel        & yes           & 2006         \\\\\n",
       "\t 40990.00      & Mercedes-Benz & other         &  75           &  6.30         & Petrol        & yes           & 2009         \\\\\n",
       "\t 40990.00      & Mercedes-Benz & sedan         &  74           &  6.30         & Petrol        & yes           & 2010         \\\\\n",
       "\t 40500.00      & Mercedes-Benz & sedan         & 108           &  5.50         & Petrol        & yes           & 2010         \\\\\n",
       "\t 21500.00      & Mercedes-Benz & crossover     & 148           &  6.20         & Petrol        & yes           & 2008         \\\\\n",
       "\t 12300.00      & Mercedes-Benz & sedan         & 423           &  5.00         & Gas           & yes           & 1997         \\\\\n",
       "\t ... & ... & ... & ... & ... & ... & ... & ...\\\\\n",
       "\t 40990         & Audi          & sedan         &  44           &  6.3          & Petrol        & yes           & 2012         \\\\\n",
       "\t 34600         & BMW           & crossover     & 163           &  5.0          & Petrol        & yes           & 2011         \\\\\n",
       "\t 20500         & Mercedes-Benz & sedan         & 222           &  5.5          & Petrol        & yes           & 2006         \\\\\n",
       "\t  8400         & Mercedes-Benz & other         & 400           &  5.0          & Gas           & yes           & 1996         \\\\\n",
       "\t 40990         & BMW           & vagon         &  56           &  5.0          & Petrol        & yes           & 2007         \\\\\n",
       "\t 44000         & Mercedes-Benz & other         &  39           &  5.5          & Petrol        & yes           & 2009         \\\\\n",
       "\t 40990         & Mercedes-Benz & sedan         & 115           &  5.5          & Petrol        & yes           & 2011         \\\\\n",
       "\t 26900         & BMW           & sedan         & 158           &  5.0          & Petrol        & yes           & 2007         \\\\\n",
       "\t  7650         & Mercedes-Benz & sedan         & 340           &  5.0          & Gas           & yes           & 1997         \\\\\n",
       "\t 41900         & Mercedes-Benz & sedan         &  95           &  6.3          & Other         & yes           & 2011         \\\\\n",
       "\t 24500         & Mercedes-Benz & sedan         & 222           &  5.5          & Petrol        & yes           & 2005         \\\\\n",
       "\t 37700         & Toyota        & crossover     &  47           &  5.7          & Gas           & yes           & 2009         \\\\\n",
       "\t 40990         & Mercedes-Benz & crossover     &  30           &  6.3          & Petrol        & yes           & 2013         \\\\\n",
       "\t 15900         & Mercedes-Benz & sedan         & 216           &  5.0          & Petrol        & yes           & 2007         \\\\\n",
       "\t 40990         & Mercedes-Benz & crossover     & 127           &  5.5          & Petrol        & yes           & 2008         \\\\\n",
       "\t 40990         & Mercedes-Benz & sedan         &  29           &  6.0          & Petrol        & yes           & 2011         \\\\\n",
       "\t 35900         & Mercedes-Benz & crossover     & 254           &  5.0          & Gas           & yes           & 2004         \\\\\n",
       "\t 40990         & Mercedes-Benz & crossover     & 127           &  5.0          & Petrol        & yes           & 2008         \\\\\n",
       "\t 35500         & Mercedes-Benz & sedan         & 160           &  6.5          & Petrol        & yes           & 2008         \\\\\n",
       "\t  2950         & Renault       & vagon         & 280           & 19.0          & Diesel        & yes           & 2000         \\\\\n",
       "\t 40990         & Audi          & other         &  30           &  5.2          & Petrol        & yes           & 2010         \\\\\n",
       "\t 40500         & Mercedes-Benz & crossover     &  54           &  5.5          & Petrol        & yes           & 2011         \\\\\n",
       "\t 40990         & Mercedes-Benz & sedan         &  36           &  5.5          & Petrol        & yes           & 2014         \\\\\n",
       "\t 23500         & Mercedes-Benz & sedan         & 200           &  5.5          & Petrol        & yes           & 2008         \\\\\n",
       "\t 40990         & Mercedes-Benz & crossover     & 120           &  5.5          & Petrol        & yes           & 2008         \\\\\n",
       "\t 27500         & Mercedes-Benz & crossover     & 152           &  6.3          & Petrol        & yes           & 2007         \\\\\n",
       "\t 29500         & Mercedes-Benz & crossover     & 253           &  5.0          & Petrol        & yes           & 2003         \\\\\n",
       "\t 24500         & Mercedes-Benz & sedan         & 163           &  5.5          & Gas           & yes           & 2007         \\\\\n",
       "\t 12000         & Mercedes-Benz & sedan         & 298           &  5.0          & Petrol        & yes           & 2004         \\\\\n",
       "\t 40990         & Mercedes-Benz & other         &  37           &  5.0          & Petrol        & yes           & 2012         \\\\\n",
       "\\end{tabular}\n"
      ],
      "text/markdown": [
       "\n",
       "| Price | Brand | Body | Mileage | EngineV | Engine.Type | Registration | Year |\n",
       "|---|---|---|---|---|---|---|---|\n",
       "| 13300.00      | Mercedes-Benz | sedan         | 358           |  5.00         | Gas           | yes           | 2003          |\n",
       "| 40996.00      | Mercedes-Benz | crossover     |   0           |  5.50         | Petrol        | yes           | 2016          |\n",
       "| 40992.16      | Mercedes-Benz | crossover     |  86           |  5.50         | Petrol        | yes           | 2009          |\n",
       "| 29500.00      | Mercedes-Benz | sedan         | 134           |  5.00         | Petrol        | yes           | 2008          |\n",
       "| 13500.00      | Mercedes-Benz | sedan         | 317           |  5.00         | Petrol        | yes           | 2001          |\n",
       "| 27000.00      | BMW           | sedan         | 137           |  5.00         | Other         | yes           | 2005          |\n",
       "| 28000.00      | BMW           | other         | 100           |  5.00         | Petrol        | yes           | 2005          |\n",
       "| 23900.00      | Mercedes-Benz | sedan         | 187           |  5.50         | Petrol        | yes           | 2007          |\n",
       "| 25000.00      | Mercedes-Benz | sedan         | 130           |  5.50         | Petrol        | yes           | 2007          |\n",
       "|  5500.00      | Mercedes-Benz | sedan         | 100           | 99.99         | Petrol        | yes           | 2007          |\n",
       "| 14500.00      | Mercedes-Benz | sedan         | 220           |  5.00         | Petrol        | yes           | 2004          |\n",
       "| 29900.00      | Mercedes-Benz | other         |  71           |  5.50         | Petrol        | yes           | 2007          |\n",
       "| 38300.00      | Toyota        | crossover     | 130           |  5.70         | Gas           | yes           | 2009          |\n",
       "| 40990.00      | Mercedes-Benz | crossover     |   0           |  5.50         | Petrol        | yes           | 2016          |\n",
       "| 44000.00      | Mercedes-Benz | other         |  82           |  5.50         | Petrol        | yes           | 2010          |\n",
       "| 24900.00      | Mercedes-Benz | sedan         | 140           |  5.50         | Petrol        | yes           | 2009          |\n",
       "| 12000.00      | Audi          | sedan         | 200           |  6.00         | Petrol        | yes           | 2004          |\n",
       "| 40990.00      | Mercedes-Benz | crossover     |   2           |  5.50         | Petrol        | yes           | 2016          |\n",
       "|  9500.00      | Mercedes-Benz | sedan         | 246           |  6.00         | Petrol        | yes           | 1997          |\n",
       "|  1950.00      | Audi          | sedan         | 320           | 19.00         | Other         | no            | 1996          |\n",
       "| 26800.00      | Mercedes-Benz | sedan         | 162           |  5.50         | Petrol        | yes           | 2007          |\n",
       "| 40990.00      | Mercedes-Benz | crossover     |   0           |  5.50         | Petrol        | yes           | 2016          |\n",
       "|  8700.00      | Mercedes-Benz | sedan         | 210           |  5.00         | Petrol        | yes           | 1997          |\n",
       "| 10500.00      | Volkswagen    | sedan         | 210           |  5.00         | Diesel        | yes           | 2004          |\n",
       "|  4800.00      | Renault       | van           | 113           | 15.00         | Diesel        | yes           | 2006          |\n",
       "| 40990.00      | Mercedes-Benz | other         |  75           |  6.30         | Petrol        | yes           | 2009          |\n",
       "| 40990.00      | Mercedes-Benz | sedan         |  74           |  6.30         | Petrol        | yes           | 2010          |\n",
       "| 40500.00      | Mercedes-Benz | sedan         | 108           |  5.50         | Petrol        | yes           | 2010          |\n",
       "| 21500.00      | Mercedes-Benz | crossover     | 148           |  6.20         | Petrol        | yes           | 2008          |\n",
       "| 12300.00      | Mercedes-Benz | sedan         | 423           |  5.00         | Gas           | yes           | 1997          |\n",
       "| ... | ... | ... | ... | ... | ... | ... | ... |\n",
       "| 40990         | Audi          | sedan         |  44           |  6.3          | Petrol        | yes           | 2012          |\n",
       "| 34600         | BMW           | crossover     | 163           |  5.0          | Petrol        | yes           | 2011          |\n",
       "| 20500         | Mercedes-Benz | sedan         | 222           |  5.5          | Petrol        | yes           | 2006          |\n",
       "|  8400         | Mercedes-Benz | other         | 400           |  5.0          | Gas           | yes           | 1996          |\n",
       "| 40990         | BMW           | vagon         |  56           |  5.0          | Petrol        | yes           | 2007          |\n",
       "| 44000         | Mercedes-Benz | other         |  39           |  5.5          | Petrol        | yes           | 2009          |\n",
       "| 40990         | Mercedes-Benz | sedan         | 115           |  5.5          | Petrol        | yes           | 2011          |\n",
       "| 26900         | BMW           | sedan         | 158           |  5.0          | Petrol        | yes           | 2007          |\n",
       "|  7650         | Mercedes-Benz | sedan         | 340           |  5.0          | Gas           | yes           | 1997          |\n",
       "| 41900         | Mercedes-Benz | sedan         |  95           |  6.3          | Other         | yes           | 2011          |\n",
       "| 24500         | Mercedes-Benz | sedan         | 222           |  5.5          | Petrol        | yes           | 2005          |\n",
       "| 37700         | Toyota        | crossover     |  47           |  5.7          | Gas           | yes           | 2009          |\n",
       "| 40990         | Mercedes-Benz | crossover     |  30           |  6.3          | Petrol        | yes           | 2013          |\n",
       "| 15900         | Mercedes-Benz | sedan         | 216           |  5.0          | Petrol        | yes           | 2007          |\n",
       "| 40990         | Mercedes-Benz | crossover     | 127           |  5.5          | Petrol        | yes           | 2008          |\n",
       "| 40990         | Mercedes-Benz | sedan         |  29           |  6.0          | Petrol        | yes           | 2011          |\n",
       "| 35900         | Mercedes-Benz | crossover     | 254           |  5.0          | Gas           | yes           | 2004          |\n",
       "| 40990         | Mercedes-Benz | crossover     | 127           |  5.0          | Petrol        | yes           | 2008          |\n",
       "| 35500         | Mercedes-Benz | sedan         | 160           |  6.5          | Petrol        | yes           | 2008          |\n",
       "|  2950         | Renault       | vagon         | 280           | 19.0          | Diesel        | yes           | 2000          |\n",
       "| 40990         | Audi          | other         |  30           |  5.2          | Petrol        | yes           | 2010          |\n",
       "| 40500         | Mercedes-Benz | crossover     |  54           |  5.5          | Petrol        | yes           | 2011          |\n",
       "| 40990         | Mercedes-Benz | sedan         |  36           |  5.5          | Petrol        | yes           | 2014          |\n",
       "| 23500         | Mercedes-Benz | sedan         | 200           |  5.5          | Petrol        | yes           | 2008          |\n",
       "| 40990         | Mercedes-Benz | crossover     | 120           |  5.5          | Petrol        | yes           | 2008          |\n",
       "| 27500         | Mercedes-Benz | crossover     | 152           |  6.3          | Petrol        | yes           | 2007          |\n",
       "| 29500         | Mercedes-Benz | crossover     | 253           |  5.0          | Petrol        | yes           | 2003          |\n",
       "| 24500         | Mercedes-Benz | sedan         | 163           |  5.5          | Gas           | yes           | 2007          |\n",
       "| 12000         | Mercedes-Benz | sedan         | 298           |  5.0          | Petrol        | yes           | 2004          |\n",
       "| 40990         | Mercedes-Benz | other         |  37           |  5.0          | Petrol        | yes           | 2012          |\n",
       "\n"
      ],
      "text/plain": [
       "    Price    Brand         Body      Mileage EngineV Engine.Type Registration\n",
       "1   13300.00 Mercedes-Benz sedan     358      5.00   Gas         yes         \n",
       "2   40996.00 Mercedes-Benz crossover   0      5.50   Petrol      yes         \n",
       "3   40992.16 Mercedes-Benz crossover  86      5.50   Petrol      yes         \n",
       "4   29500.00 Mercedes-Benz sedan     134      5.00   Petrol      yes         \n",
       "5   13500.00 Mercedes-Benz sedan     317      5.00   Petrol      yes         \n",
       "6   27000.00 BMW           sedan     137      5.00   Other       yes         \n",
       "7   28000.00 BMW           other     100      5.00   Petrol      yes         \n",
       "8   23900.00 Mercedes-Benz sedan     187      5.50   Petrol      yes         \n",
       "9   25000.00 Mercedes-Benz sedan     130      5.50   Petrol      yes         \n",
       "10   5500.00 Mercedes-Benz sedan     100     99.99   Petrol      yes         \n",
       "11  14500.00 Mercedes-Benz sedan     220      5.00   Petrol      yes         \n",
       "12  29900.00 Mercedes-Benz other      71      5.50   Petrol      yes         \n",
       "13  38300.00 Toyota        crossover 130      5.70   Gas         yes         \n",
       "14  40990.00 Mercedes-Benz crossover   0      5.50   Petrol      yes         \n",
       "15  44000.00 Mercedes-Benz other      82      5.50   Petrol      yes         \n",
       "16  24900.00 Mercedes-Benz sedan     140      5.50   Petrol      yes         \n",
       "17  12000.00 Audi          sedan     200      6.00   Petrol      yes         \n",
       "18  40990.00 Mercedes-Benz crossover   2      5.50   Petrol      yes         \n",
       "19   9500.00 Mercedes-Benz sedan     246      6.00   Petrol      yes         \n",
       "20   1950.00 Audi          sedan     320     19.00   Other       no          \n",
       "21  26800.00 Mercedes-Benz sedan     162      5.50   Petrol      yes         \n",
       "22  40990.00 Mercedes-Benz crossover   0      5.50   Petrol      yes         \n",
       "23   8700.00 Mercedes-Benz sedan     210      5.00   Petrol      yes         \n",
       "24  10500.00 Volkswagen    sedan     210      5.00   Diesel      yes         \n",
       "25   4800.00 Renault       van       113     15.00   Diesel      yes         \n",
       "26  40990.00 Mercedes-Benz other      75      6.30   Petrol      yes         \n",
       "27  40990.00 Mercedes-Benz sedan      74      6.30   Petrol      yes         \n",
       "28  40500.00 Mercedes-Benz sedan     108      5.50   Petrol      yes         \n",
       "29  21500.00 Mercedes-Benz crossover 148      6.20   Petrol      yes         \n",
       "30  12300.00 Mercedes-Benz sedan     423      5.00   Gas         yes         \n",
       "... ...      ...           ...       ...     ...     ...         ...         \n",
       "144 40990    Audi          sedan      44      6.3    Petrol      yes         \n",
       "145 34600    BMW           crossover 163      5.0    Petrol      yes         \n",
       "146 20500    Mercedes-Benz sedan     222      5.5    Petrol      yes         \n",
       "147  8400    Mercedes-Benz other     400      5.0    Gas         yes         \n",
       "148 40990    BMW           vagon      56      5.0    Petrol      yes         \n",
       "149 44000    Mercedes-Benz other      39      5.5    Petrol      yes         \n",
       "150 40990    Mercedes-Benz sedan     115      5.5    Petrol      yes         \n",
       "151 26900    BMW           sedan     158      5.0    Petrol      yes         \n",
       "152  7650    Mercedes-Benz sedan     340      5.0    Gas         yes         \n",
       "153 41900    Mercedes-Benz sedan      95      6.3    Other       yes         \n",
       "154 24500    Mercedes-Benz sedan     222      5.5    Petrol      yes         \n",
       "155 37700    Toyota        crossover  47      5.7    Gas         yes         \n",
       "156 40990    Mercedes-Benz crossover  30      6.3    Petrol      yes         \n",
       "157 15900    Mercedes-Benz sedan     216      5.0    Petrol      yes         \n",
       "158 40990    Mercedes-Benz crossover 127      5.5    Petrol      yes         \n",
       "159 40990    Mercedes-Benz sedan      29      6.0    Petrol      yes         \n",
       "160 35900    Mercedes-Benz crossover 254      5.0    Gas         yes         \n",
       "161 40990    Mercedes-Benz crossover 127      5.0    Petrol      yes         \n",
       "162 35500    Mercedes-Benz sedan     160      6.5    Petrol      yes         \n",
       "163  2950    Renault       vagon     280     19.0    Diesel      yes         \n",
       "164 40990    Audi          other      30      5.2    Petrol      yes         \n",
       "165 40500    Mercedes-Benz crossover  54      5.5    Petrol      yes         \n",
       "166 40990    Mercedes-Benz sedan      36      5.5    Petrol      yes         \n",
       "167 23500    Mercedes-Benz sedan     200      5.5    Petrol      yes         \n",
       "168 40990    Mercedes-Benz crossover 120      5.5    Petrol      yes         \n",
       "169 27500    Mercedes-Benz crossover 152      6.3    Petrol      yes         \n",
       "170 29500    Mercedes-Benz crossover 253      5.0    Petrol      yes         \n",
       "171 24500    Mercedes-Benz sedan     163      5.5    Gas         yes         \n",
       "172 12000    Mercedes-Benz sedan     298      5.0    Petrol      yes         \n",
       "173 40990    Mercedes-Benz other      37      5.0    Petrol      yes         \n",
       "    Year\n",
       "1   2003\n",
       "2   2016\n",
       "3   2009\n",
       "4   2008\n",
       "5   2001\n",
       "6   2005\n",
       "7   2005\n",
       "8   2007\n",
       "9   2007\n",
       "10  2007\n",
       "11  2004\n",
       "12  2007\n",
       "13  2009\n",
       "14  2016\n",
       "15  2010\n",
       "16  2009\n",
       "17  2004\n",
       "18  2016\n",
       "19  1997\n",
       "20  1996\n",
       "21  2007\n",
       "22  2016\n",
       "23  1997\n",
       "24  2004\n",
       "25  2006\n",
       "26  2009\n",
       "27  2010\n",
       "28  2010\n",
       "29  2008\n",
       "30  1997\n",
       "... ... \n",
       "144 2012\n",
       "145 2011\n",
       "146 2006\n",
       "147 1996\n",
       "148 2007\n",
       "149 2009\n",
       "150 2011\n",
       "151 2007\n",
       "152 1997\n",
       "153 2011\n",
       "154 2005\n",
       "155 2009\n",
       "156 2013\n",
       "157 2007\n",
       "158 2008\n",
       "159 2011\n",
       "160 2004\n",
       "161 2008\n",
       "162 2008\n",
       "163 2000\n",
       "164 2010\n",
       "165 2011\n",
       "166 2014\n",
       "167 2008\n",
       "168 2008\n",
       "169 2007\n",
       "170 2003\n",
       "171 2007\n",
       "172 2004\n",
       "173 2012"
      ]
     },
     "metadata": {},
     "output_type": "display_data"
    }
   ],
   "source": [
    "## FILTERING DATA WHERE ENGINEV ABOVE THE MAXIMUM ENGINEV\n",
    "filter(data,EngineV>max_enginev)"
   ]
  },
  {
   "cell_type": "code",
   "execution_count": 41,
   "metadata": {},
   "outputs": [
    {
     "data": {
      "text/html": [
       "<dl class=dl-horizontal>\n",
       "\t<dt>75%</dt>\n",
       "\t\t<dd>3</dd>\n",
       "\t<dt>76%</dt>\n",
       "\t\t<dd>3</dd>\n",
       "\t<dt>77%</dt>\n",
       "\t\t<dd>3</dd>\n",
       "\t<dt>78%</dt>\n",
       "\t\t<dd>3</dd>\n",
       "\t<dt>79%</dt>\n",
       "\t\t<dd>3</dd>\n",
       "\t<dt>80%</dt>\n",
       "\t\t<dd>3</dd>\n",
       "\t<dt>81%</dt>\n",
       "\t\t<dd>3</dd>\n",
       "\t<dt>82%</dt>\n",
       "\t\t<dd>3</dd>\n",
       "\t<dt>83%</dt>\n",
       "\t\t<dd>3</dd>\n",
       "\t<dt>84%</dt>\n",
       "\t\t<dd>3.03199999999997</dd>\n",
       "\t<dt>85%</dt>\n",
       "\t\t<dd>3.2</dd>\n",
       "\t<dt>86%</dt>\n",
       "\t\t<dd>3.2</dd>\n",
       "\t<dt>87%</dt>\n",
       "\t\t<dd>3.5</dd>\n",
       "\t<dt>88%</dt>\n",
       "\t\t<dd>3.5</dd>\n",
       "\t<dt>89%</dt>\n",
       "\t\t<dd>3.8</dd>\n",
       "\t<dt>90%</dt>\n",
       "\t\t<dd>4</dd>\n",
       "\t<dt>91%</dt>\n",
       "\t\t<dd>4.2</dd>\n",
       "\t<dt>92%</dt>\n",
       "\t\t<dd>4.3</dd>\n",
       "\t<dt>93%</dt>\n",
       "\t\t<dd>4.4</dd>\n",
       "\t<dt>94%</dt>\n",
       "\t\t<dd>4.5</dd>\n",
       "\t<dt>95%</dt>\n",
       "\t\t<dd>4.7</dd>\n",
       "\t<dt>96%</dt>\n",
       "\t\t<dd>5</dd>\n",
       "\t<dt>97%</dt>\n",
       "\t\t<dd>5.2</dd>\n",
       "\t<dt>98%</dt>\n",
       "\t\t<dd>5.5</dd>\n",
       "\t<dt>99%</dt>\n",
       "\t\t<dd>6.15199999999995</dd>\n",
       "</dl>\n"
      ],
      "text/latex": [
       "\\begin{description*}\n",
       "\\item[75\\textbackslash{}\\%] 3\n",
       "\\item[76\\textbackslash{}\\%] 3\n",
       "\\item[77\\textbackslash{}\\%] 3\n",
       "\\item[78\\textbackslash{}\\%] 3\n",
       "\\item[79\\textbackslash{}\\%] 3\n",
       "\\item[80\\textbackslash{}\\%] 3\n",
       "\\item[81\\textbackslash{}\\%] 3\n",
       "\\item[82\\textbackslash{}\\%] 3\n",
       "\\item[83\\textbackslash{}\\%] 3\n",
       "\\item[84\\textbackslash{}\\%] 3.03199999999997\n",
       "\\item[85\\textbackslash{}\\%] 3.2\n",
       "\\item[86\\textbackslash{}\\%] 3.2\n",
       "\\item[87\\textbackslash{}\\%] 3.5\n",
       "\\item[88\\textbackslash{}\\%] 3.5\n",
       "\\item[89\\textbackslash{}\\%] 3.8\n",
       "\\item[90\\textbackslash{}\\%] 4\n",
       "\\item[91\\textbackslash{}\\%] 4.2\n",
       "\\item[92\\textbackslash{}\\%] 4.3\n",
       "\\item[93\\textbackslash{}\\%] 4.4\n",
       "\\item[94\\textbackslash{}\\%] 4.5\n",
       "\\item[95\\textbackslash{}\\%] 4.7\n",
       "\\item[96\\textbackslash{}\\%] 5\n",
       "\\item[97\\textbackslash{}\\%] 5.2\n",
       "\\item[98\\textbackslash{}\\%] 5.5\n",
       "\\item[99\\textbackslash{}\\%] 6.15199999999995\n",
       "\\end{description*}\n"
      ],
      "text/markdown": [
       "75%\n",
       ":   376%\n",
       ":   377%\n",
       ":   378%\n",
       ":   379%\n",
       ":   380%\n",
       ":   381%\n",
       ":   382%\n",
       ":   383%\n",
       ":   384%\n",
       ":   3.0319999999999785%\n",
       ":   3.286%\n",
       ":   3.287%\n",
       ":   3.588%\n",
       ":   3.589%\n",
       ":   3.890%\n",
       ":   491%\n",
       ":   4.292%\n",
       ":   4.393%\n",
       ":   4.494%\n",
       ":   4.595%\n",
       ":   4.796%\n",
       ":   597%\n",
       ":   5.298%\n",
       ":   5.599%\n",
       ":   6.15199999999995\n",
       "\n"
      ],
      "text/plain": [
       "  75%   76%   77%   78%   79%   80%   81%   82%   83%   84%   85%   86%   87% \n",
       "3.000 3.000 3.000 3.000 3.000 3.000 3.000 3.000 3.000 3.032 3.200 3.200 3.500 \n",
       "  88%   89%   90%   91%   92%   93%   94%   95%   96%   97%   98%   99% \n",
       "3.500 3.800 4.000 4.200 4.300 4.400 4.500 4.700 5.000 5.200 5.500 6.152 "
      ]
     },
     "metadata": {},
     "output_type": "display_data"
    }
   ],
   "source": [
    "## USING QUANTILE FUNCTION CALLING QUANTILES FROM 75TH TO 99TH \n",
    "quantile(data$EngineV,probs=quantile_range)"
   ]
  },
  {
   "cell_type": "code",
   "execution_count": 42,
   "metadata": {},
   "outputs": [],
   "source": [
    "## USING FOR LOOPS CHANGING VALUES\n",
    "for (i in 1:4025)\n",
    "{\n",
    "    if (data$EngineV[i]>max_enginev)\n",
    "    {\n",
    "        data$EngineV[i]=quantile(data$EngineV,probs=0.95)\n",
    "    }\n",
    "}"
   ]
  },
  {
   "cell_type": "code",
   "execution_count": 43,
   "metadata": {},
   "outputs": [
    {
     "data": {
      "image/png": "[encoded data removed]",
      "text/plain": [
       "plot without title"
      ]
     },
     "metadata": {},
     "output_type": "display_data"
    }
   ],
   "source": [
    "## CHECKING FOR OUTLIERS WITH BOXPLOT\n",
    "ggplot(data=data,aes(y=EngineV))+ geom_boxplot(fill='cadetblue4')"
   ]
  },
  {
   "cell_type": "markdown",
   "metadata": {},
   "source": [
    "### IV.YEAR"
   ]
  },
  {
   "cell_type": "code",
   "execution_count": 44,
   "metadata": {},
   "outputs": [
    {
     "data": {
      "image/png": "[encoded data removed]",
      "text/plain": [
       "plot without title"
      ]
     },
     "metadata": {},
     "output_type": "display_data"
    }
   ],
   "source": [
    "## CHECKING FOR OUTLIERS WITH BOXPLOT\n",
    "ggplot(data=data,aes(y=Year))+ geom_boxplot(fill='aquamarine4')"
   ]
  },
  {
   "cell_type": "code",
   "execution_count": 45,
   "metadata": {},
   "outputs": [],
   "source": [
    "## FINDING INTER QUARTILE RANGE TO CALCULATE MAXIMUM VALUE OF DISTRIBUTION USING \"IQR\" FUNCTION\n",
    "iqr_year= IQR(data$Year)"
   ]
  },
  {
   "cell_type": "code",
   "execution_count": 46,
   "metadata": {},
   "outputs": [],
   "source": [
    "## MIN VALUE OF Year IS CALCULATED USING FORMULA \"Q3 - (1.5*IQR)\"\n",
    "min_year = quantile(data$Year,probs=0.25)- (1.5*iqr_year)"
   ]
  },
  {
   "cell_type": "code",
   "execution_count": 47,
   "metadata": {},
   "outputs": [
    {
     "data": {
      "text/html": [
       "<strong>25%:</strong> 1989.5"
      ],
      "text/latex": [
       "\\textbf{25\\textbackslash{}\\%:} 1989.5"
      ],
      "text/markdown": [
       "**25%:** 1989.5"
      ],
      "text/plain": [
       "   25% \n",
       "1989.5 "
      ]
     },
     "metadata": {},
     "output_type": "display_data"
    }
   ],
   "source": [
    "min_year"
   ]
  },
  {
   "cell_type": "code",
   "execution_count": 48,
   "metadata": {},
   "outputs": [],
   "source": [
    "## ROUNDING THE YEAR\n",
    "min_year = min_year+0.5"
   ]
  },
  {
   "cell_type": "code",
   "execution_count": 49,
   "metadata": {},
   "outputs": [
    {
     "data": {
      "text/html": [
       "<strong>25%:</strong> 1990"
      ],
      "text/latex": [
       "\\textbf{25\\textbackslash{}\\%:} 1990"
      ],
      "text/markdown": [
       "**25%:** 1990"
      ],
      "text/plain": [
       " 25% \n",
       "1990 "
      ]
     },
     "metadata": {},
     "output_type": "display_data"
    }
   ],
   "source": [
    "min_year"
   ]
  },
  {
   "cell_type": "code",
   "execution_count": 50,
   "metadata": {},
   "outputs": [
    {
     "data": {
      "text/html": [
       "<table>\n",
       "<thead><tr><th scope=col>Price</th><th scope=col>Brand</th><th scope=col>Body</th><th scope=col>Mileage</th><th scope=col>EngineV</th><th scope=col>Engine.Type</th><th scope=col>Registration</th><th scope=col>Year</th></tr></thead>\n",
       "<tbody>\n",
       "\t<tr><td> 2900        </td><td>Audi         </td><td>sedan        </td><td>  1          </td><td>2.3          </td><td>Gas          </td><td>yes          </td><td>1989         </td></tr>\n",
       "\t<tr><td> 2500        </td><td>Mitsubishi   </td><td>sedan        </td><td>220          </td><td>2.4          </td><td>Petrol       </td><td>yes          </td><td>1987         </td></tr>\n",
       "\t<tr><td> 4099        </td><td>BMW          </td><td>sedan        </td><td> 50          </td><td>2.5          </td><td>Petrol       </td><td>yes          </td><td>1988         </td></tr>\n",
       "\t<tr><td>  600        </td><td>Audi         </td><td>sedan        </td><td>112          </td><td>1.6          </td><td>Petrol       </td><td>yes          </td><td>1980         </td></tr>\n",
       "\t<tr><td> 1800        </td><td>Volkswagen   </td><td>other        </td><td>300          </td><td>1.3          </td><td>Petrol       </td><td>yes          </td><td>1989         </td></tr>\n",
       "\t<tr><td>  600        </td><td>Toyota       </td><td>sedan        </td><td> 10          </td><td>1.5          </td><td>Petrol       </td><td>yes          </td><td>1979         </td></tr>\n",
       "\t<tr><td> 3500        </td><td>Audi         </td><td>sedan        </td><td>265          </td><td>2.0          </td><td>Diesel       </td><td>yes          </td><td>1986         </td></tr>\n",
       "\t<tr><td> 3500        </td><td>Audi         </td><td>sedan        </td><td>  1          </td><td>2.0          </td><td>Other        </td><td>yes          </td><td>1988         </td></tr>\n",
       "\t<tr><td> 2650        </td><td>Mercedes-Benz</td><td>sedan        </td><td>400          </td><td>2.0          </td><td>Gas          </td><td>yes          </td><td>1985         </td></tr>\n",
       "\t<tr><td> 2700        </td><td>Mercedes-Benz</td><td>sedan        </td><td>121          </td><td>2.5          </td><td>Diesel       </td><td>yes          </td><td>1986         </td></tr>\n",
       "\t<tr><td> 2300        </td><td>Volkswagen   </td><td>hatch        </td><td>320          </td><td>1.6          </td><td>Gas          </td><td>yes          </td><td>1989         </td></tr>\n",
       "\t<tr><td> 5500        </td><td>Mitsubishi   </td><td>crossover    </td><td>  1          </td><td>2.0          </td><td>Petrol       </td><td>yes          </td><td>1986         </td></tr>\n",
       "\t<tr><td> 1900        </td><td>Volkswagen   </td><td>hatch        </td><td>100          </td><td>1.6          </td><td>Petrol       </td><td>yes          </td><td>1989         </td></tr>\n",
       "\t<tr><td>34999        </td><td>Mercedes-Benz</td><td>sedan        </td><td>150          </td><td>2.8          </td><td>Petrol       </td><td>yes          </td><td>1969         </td></tr>\n",
       "\t<tr><td> 2650        </td><td>Volkswagen   </td><td>hatch        </td><td>280          </td><td>1.8          </td><td>Petrol       </td><td>yes          </td><td>1987         </td></tr>\n",
       "\t<tr><td> 1850        </td><td>Mercedes-Benz</td><td>sedan        </td><td>281          </td><td>2.0          </td><td>Diesel       </td><td>yes          </td><td>1985         </td></tr>\n",
       "\t<tr><td> 2700        </td><td>Mercedes-Benz</td><td>sedan        </td><td>350          </td><td>3.0          </td><td>Diesel       </td><td>yes          </td><td>1988         </td></tr>\n",
       "\t<tr><td> 2500        </td><td>Volkswagen   </td><td>sedan        </td><td>324          </td><td>1.6          </td><td>Diesel       </td><td>yes          </td><td>1984         </td></tr>\n",
       "\t<tr><td> 2300        </td><td>Mercedes-Benz</td><td>sedan        </td><td>261          </td><td>2.3          </td><td>Gas          </td><td>yes          </td><td>1978         </td></tr>\n",
       "\t<tr><td> 1550        </td><td>Volkswagen   </td><td>hatch        </td><td>130          </td><td>1.3          </td><td>Petrol       </td><td>yes          </td><td>1986         </td></tr>\n",
       "\t<tr><td> 2899        </td><td>BMW          </td><td>sedan        </td><td>340          </td><td>2.4          </td><td>Diesel       </td><td>yes          </td><td>1988         </td></tr>\n",
       "\t<tr><td> 1450        </td><td>Volkswagen   </td><td>other        </td><td>200          </td><td>1.8          </td><td>Gas          </td><td>yes          </td><td>1987         </td></tr>\n",
       "\t<tr><td> 3100        </td><td>Volkswagen   </td><td>hatch        </td><td>311          </td><td>1.6          </td><td>Gas          </td><td>yes          </td><td>1986         </td></tr>\n",
       "\t<tr><td> 2200        </td><td>Volkswagen   </td><td>vagon        </td><td>150          </td><td>1.6          </td><td>Petrol       </td><td>yes          </td><td>1986         </td></tr>\n",
       "\t<tr><td> 2800        </td><td>Toyota       </td><td>other        </td><td>421          </td><td>1.3          </td><td>Gas          </td><td>yes          </td><td>1988         </td></tr>\n",
       "\t<tr><td> 2800        </td><td>BMW          </td><td>sedan        </td><td>300          </td><td>1.8          </td><td>Other        </td><td>yes          </td><td>1987         </td></tr>\n",
       "\t<tr><td> 2700        </td><td>Mercedes-Benz</td><td>sedan        </td><td>337          </td><td>2.3          </td><td>Gas          </td><td>yes          </td><td>1988         </td></tr>\n",
       "\t<tr><td> 3900        </td><td>Mercedes-Benz</td><td>sedan        </td><td>111          </td><td>2.5          </td><td>Diesel       </td><td>yes          </td><td>1989         </td></tr>\n",
       "\t<tr><td> 2700        </td><td>Toyota       </td><td>sedan        </td><td>400          </td><td>1.6          </td><td>Gas          </td><td>yes          </td><td>1989         </td></tr>\n",
       "\t<tr><td> 1350        </td><td>Mercedes-Benz</td><td>sedan        </td><td>360          </td><td>2.5          </td><td>Diesel       </td><td>no           </td><td>1989         </td></tr>\n",
       "\t<tr><td>...</td><td>...</td><td>...</td><td>...</td><td>...</td><td>...</td><td>...</td><td>...</td></tr>\n",
       "\t<tr><td>4100.00      </td><td>BMW          </td><td>sedan        </td><td>200          </td><td>2.7          </td><td>Petrol       </td><td>yes          </td><td>1988         </td></tr>\n",
       "\t<tr><td>3300.00      </td><td>Mercedes-Benz</td><td>sedan        </td><td>330          </td><td>2.0          </td><td>Gas          </td><td>yes          </td><td>1988         </td></tr>\n",
       "\t<tr><td>1899.00      </td><td>Volkswagen   </td><td>hatch        </td><td>300          </td><td>1.6          </td><td>Gas          </td><td>yes          </td><td>1984         </td></tr>\n",
       "\t<tr><td>2500.00      </td><td>Mercedes-Benz</td><td>vagon        </td><td>122          </td><td>2.3          </td><td>Petrol       </td><td>yes          </td><td>1987         </td></tr>\n",
       "\t<tr><td>2650.00      </td><td>Mercedes-Benz</td><td>sedan        </td><td> 30          </td><td>2.3          </td><td>Gas          </td><td>yes          </td><td>1985         </td></tr>\n",
       "\t<tr><td>2200.00      </td><td>Volkswagen   </td><td>hatch        </td><td>260          </td><td>1.8          </td><td>Gas          </td><td>yes          </td><td>1987         </td></tr>\n",
       "\t<tr><td>1599.00      </td><td>Mitsubishi   </td><td>sedan        </td><td>156          </td><td>1.8          </td><td>Petrol       </td><td>yes          </td><td>1989         </td></tr>\n",
       "\t<tr><td>7777.00      </td><td>Mercedes-Benz</td><td>other        </td><td>230          </td><td>2.8          </td><td>Petrol       </td><td>yes          </td><td>1980         </td></tr>\n",
       "\t<tr><td>1852.50      </td><td>Audi         </td><td>sedan        </td><td>150          </td><td>1.8          </td><td>Petrol       </td><td>yes          </td><td>1985         </td></tr>\n",
       "\t<tr><td>3000.00      </td><td>Audi         </td><td>sedan        </td><td>265          </td><td>1.8          </td><td>Petrol       </td><td>yes          </td><td>1988         </td></tr>\n",
       "\t<tr><td>2411.00      </td><td>Audi         </td><td>sedan        </td><td>240          </td><td>1.6          </td><td>Other        </td><td>yes          </td><td>1987         </td></tr>\n",
       "\t<tr><td>1500.00      </td><td>Volkswagen   </td><td>sedan        </td><td>265          </td><td>1.8          </td><td>Petrol       </td><td>yes          </td><td>1988         </td></tr>\n",
       "\t<tr><td>2850.00      </td><td>BMW          </td><td>sedan        </td><td>386          </td><td>4.7          </td><td>Gas          </td><td>yes          </td><td>1988         </td></tr>\n",
       "\t<tr><td>2600.00      </td><td>Volkswagen   </td><td>van          </td><td> 10          </td><td>2.4          </td><td>Diesel       </td><td>yes          </td><td>1988         </td></tr>\n",
       "\t<tr><td>3200.00      </td><td>Mercedes-Benz</td><td>sedan        </td><td>390          </td><td>2.3          </td><td>Gas          </td><td>yes          </td><td>1985         </td></tr>\n",
       "\t<tr><td>5900.00      </td><td>BMW          </td><td>sedan        </td><td> 10          </td><td>2.8          </td><td>Petrol       </td><td>yes          </td><td>1989         </td></tr>\n",
       "\t<tr><td>1185.60      </td><td>Renault      </td><td>hatch        </td><td>160          </td><td>2.0          </td><td>Petrol       </td><td>yes          </td><td>1987         </td></tr>\n",
       "\t<tr><td>2200.00      </td><td>BMW          </td><td>sedan        </td><td>400          </td><td>2.4          </td><td>Diesel       </td><td>yes          </td><td>1988         </td></tr>\n",
       "\t<tr><td>1300.00      </td><td>Volkswagen   </td><td>other        </td><td> 10          </td><td>1.6          </td><td>Diesel       </td><td>yes          </td><td>1984         </td></tr>\n",
       "\t<tr><td>5500.00      </td><td>BMW          </td><td>sedan        </td><td>402          </td><td>2.0          </td><td>Petrol       </td><td>yes          </td><td>1988         </td></tr>\n",
       "\t<tr><td>1950.00      </td><td>Volkswagen   </td><td>hatch        </td><td> 94          </td><td>1.1          </td><td>Petrol       </td><td>yes          </td><td>1982         </td></tr>\n",
       "\t<tr><td>3900.00      </td><td>BMW          </td><td>sedan        </td><td>380          </td><td>3.0          </td><td>Gas          </td><td>yes          </td><td>1989         </td></tr>\n",
       "\t<tr><td>1100.00      </td><td>Toyota       </td><td>van          </td><td>140          </td><td>2.0          </td><td>Gas          </td><td>yes          </td><td>1985         </td></tr>\n",
       "\t<tr><td>3950.00      </td><td>BMW          </td><td>sedan        </td><td>300          </td><td>2.0          </td><td>Petrol       </td><td>yes          </td><td>1986         </td></tr>\n",
       "\t<tr><td>1800.00      </td><td>Renault      </td><td>hatch        </td><td>  1          </td><td>1.4          </td><td>Gas          </td><td>yes          </td><td>1988         </td></tr>\n",
       "\t<tr><td>2500.00      </td><td>Mercedes-Benz</td><td>sedan        </td><td>200          </td><td>2.3          </td><td>Gas          </td><td>yes          </td><td>1986         </td></tr>\n",
       "\t<tr><td>1296.75      </td><td>Volkswagen   </td><td>sedan        </td><td>  1          </td><td>1.6          </td><td>Petrol       </td><td>yes          </td><td>1980         </td></tr>\n",
       "\t<tr><td>5500.00      </td><td>Mercedes-Benz</td><td>sedan        </td><td>440          </td><td>2.0          </td><td>Petrol       </td><td>yes          </td><td>1978         </td></tr>\n",
       "\t<tr><td>2200.00      </td><td>Volkswagen   </td><td>hatch        </td><td>400          </td><td>1.3          </td><td>Other        </td><td>yes          </td><td>1987         </td></tr>\n",
       "\t<tr><td>8000.00      </td><td>BMW          </td><td>sedan        </td><td>194          </td><td>2.0          </td><td>Petrol       </td><td>yes          </td><td>1985         </td></tr>\n",
       "</tbody>\n",
       "</table>\n"
      ],
      "text/latex": [
       "\\begin{tabular}{r|llllllll}\n",
       " Price & Brand & Body & Mileage & EngineV & Engine.Type & Registration & Year\\\\\n",
       "\\hline\n",
       "\t  2900         & Audi          & sedan         &   1           & 2.3           & Gas           & yes           & 1989         \\\\\n",
       "\t  2500         & Mitsubishi    & sedan         & 220           & 2.4           & Petrol        & yes           & 1987         \\\\\n",
       "\t  4099         & BMW           & sedan         &  50           & 2.5           & Petrol        & yes           & 1988         \\\\\n",
       "\t   600         & Audi          & sedan         & 112           & 1.6           & Petrol        & yes           & 1980         \\\\\n",
       "\t  1800         & Volkswagen    & other         & 300           & 1.3           & Petrol        & yes           & 1989         \\\\\n",
       "\t   600         & Toyota        & sedan         &  10           & 1.5           & Petrol        & yes           & 1979         \\\\\n",
       "\t  3500         & Audi          & sedan         & 265           & 2.0           & Diesel        & yes           & 1986         \\\\\n",
       "\t  3500         & Audi          & sedan         &   1           & 2.0           & Other         & yes           & 1988         \\\\\n",
       "\t  2650         & Mercedes-Benz & sedan         & 400           & 2.0           & Gas           & yes           & 1985         \\\\\n",
       "\t  2700         & Mercedes-Benz & sedan         & 121           & 2.5           & Diesel        & yes           & 1986         \\\\\n",
       "\t  2300         & Volkswagen    & hatch         & 320           & 1.6           & Gas           & yes           & 1989         \\\\\n",
       "\t  5500         & Mitsubishi    & crossover     &   1           & 2.0           & Petrol        & yes           & 1986         \\\\\n",
       "\t  1900         & Volkswagen    & hatch         & 100           & 1.6           & Petrol        & yes           & 1989         \\\\\n",
       "\t 34999         & Mercedes-Benz & sedan         & 150           & 2.8           & Petrol        & yes           & 1969         \\\\\n",
       "\t  2650         & Volkswagen    & hatch         & 280           & 1.8           & Petrol        & yes           & 1987         \\\\\n",
       "\t  1850         & Mercedes-Benz & sedan         & 281           & 2.0           & Diesel        & yes           & 1985         \\\\\n",
       "\t  2700         & Mercedes-Benz & sedan         & 350           & 3.0           & Diesel        & yes           & 1988         \\\\\n",
       "\t  2500         & Volkswagen    & sedan         & 324           & 1.6           & Diesel        & yes           & 1984         \\\\\n",
       "\t  2300         & Mercedes-Benz & sedan         & 261           & 2.3           & Gas           & yes           & 1978         \\\\\n",
       "\t  1550         & Volkswagen    & hatch         & 130           & 1.3           & Petrol        & yes           & 1986         \\\\\n",
       "\t  2899         & BMW           & sedan         & 340           & 2.4           & Diesel        & yes           & 1988         \\\\\n",
       "\t  1450         & Volkswagen    & other         & 200           & 1.8           & Gas           & yes           & 1987         \\\\\n",
       "\t  3100         & Volkswagen    & hatch         & 311           & 1.6           & Gas           & yes           & 1986         \\\\\n",
       "\t  2200         & Volkswagen    & vagon         & 150           & 1.6           & Petrol        & yes           & 1986         \\\\\n",
       "\t  2800         & Toyota        & other         & 421           & 1.3           & Gas           & yes           & 1988         \\\\\n",
       "\t  2800         & BMW           & sedan         & 300           & 1.8           & Other         & yes           & 1987         \\\\\n",
       "\t  2700         & Mercedes-Benz & sedan         & 337           & 2.3           & Gas           & yes           & 1988         \\\\\n",
       "\t  3900         & Mercedes-Benz & sedan         & 111           & 2.5           & Diesel        & yes           & 1989         \\\\\n",
       "\t  2700         & Toyota        & sedan         & 400           & 1.6           & Gas           & yes           & 1989         \\\\\n",
       "\t  1350         & Mercedes-Benz & sedan         & 360           & 2.5           & Diesel        & no            & 1989         \\\\\n",
       "\t ... & ... & ... & ... & ... & ... & ... & ...\\\\\n",
       "\t 4100.00       & BMW           & sedan         & 200           & 2.7           & Petrol        & yes           & 1988         \\\\\n",
       "\t 3300.00       & Mercedes-Benz & sedan         & 330           & 2.0           & Gas           & yes           & 1988         \\\\\n",
       "\t 1899.00       & Volkswagen    & hatch         & 300           & 1.6           & Gas           & yes           & 1984         \\\\\n",
       "\t 2500.00       & Mercedes-Benz & vagon         & 122           & 2.3           & Petrol        & yes           & 1987         \\\\\n",
       "\t 2650.00       & Mercedes-Benz & sedan         &  30           & 2.3           & Gas           & yes           & 1985         \\\\\n",
       "\t 2200.00       & Volkswagen    & hatch         & 260           & 1.8           & Gas           & yes           & 1987         \\\\\n",
       "\t 1599.00       & Mitsubishi    & sedan         & 156           & 1.8           & Petrol        & yes           & 1989         \\\\\n",
       "\t 7777.00       & Mercedes-Benz & other         & 230           & 2.8           & Petrol        & yes           & 1980         \\\\\n",
       "\t 1852.50       & Audi          & sedan         & 150           & 1.8           & Petrol        & yes           & 1985         \\\\\n",
       "\t 3000.00       & Audi          & sedan         & 265           & 1.8           & Petrol        & yes           & 1988         \\\\\n",
       "\t 2411.00       & Audi          & sedan         & 240           & 1.6           & Other         & yes           & 1987         \\\\\n",
       "\t 1500.00       & Volkswagen    & sedan         & 265           & 1.8           & Petrol        & yes           & 1988         \\\\\n",
       "\t 2850.00       & BMW           & sedan         & 386           & 4.7           & Gas           & yes           & 1988         \\\\\n",
       "\t 2600.00       & Volkswagen    & van           &  10           & 2.4           & Diesel        & yes           & 1988         \\\\\n",
       "\t 3200.00       & Mercedes-Benz & sedan         & 390           & 2.3           & Gas           & yes           & 1985         \\\\\n",
       "\t 5900.00       & BMW           & sedan         &  10           & 2.8           & Petrol        & yes           & 1989         \\\\\n",
       "\t 1185.60       & Renault       & hatch         & 160           & 2.0           & Petrol        & yes           & 1987         \\\\\n",
       "\t 2200.00       & BMW           & sedan         & 400           & 2.4           & Diesel        & yes           & 1988         \\\\\n",
       "\t 1300.00       & Volkswagen    & other         &  10           & 1.6           & Diesel        & yes           & 1984         \\\\\n",
       "\t 5500.00       & BMW           & sedan         & 402           & 2.0           & Petrol        & yes           & 1988         \\\\\n",
       "\t 1950.00       & Volkswagen    & hatch         &  94           & 1.1           & Petrol        & yes           & 1982         \\\\\n",
       "\t 3900.00       & BMW           & sedan         & 380           & 3.0           & Gas           & yes           & 1989         \\\\\n",
       "\t 1100.00       & Toyota        & van           & 140           & 2.0           & Gas           & yes           & 1985         \\\\\n",
       "\t 3950.00       & BMW           & sedan         & 300           & 2.0           & Petrol        & yes           & 1986         \\\\\n",
       "\t 1800.00       & Renault       & hatch         &   1           & 1.4           & Gas           & yes           & 1988         \\\\\n",
       "\t 2500.00       & Mercedes-Benz & sedan         & 200           & 2.3           & Gas           & yes           & 1986         \\\\\n",
       "\t 1296.75       & Volkswagen    & sedan         &   1           & 1.6           & Petrol        & yes           & 1980         \\\\\n",
       "\t 5500.00       & Mercedes-Benz & sedan         & 440           & 2.0           & Petrol        & yes           & 1978         \\\\\n",
       "\t 2200.00       & Volkswagen    & hatch         & 400           & 1.3           & Other         & yes           & 1987         \\\\\n",
       "\t 8000.00       & BMW           & sedan         & 194           & 2.0           & Petrol        & yes           & 1985         \\\\\n",
       "\\end{tabular}\n"
      ],
      "text/markdown": [
       "\n",
       "| Price | Brand | Body | Mileage | EngineV | Engine.Type | Registration | Year |\n",
       "|---|---|---|---|---|---|---|---|\n",
       "|  2900         | Audi          | sedan         |   1           | 2.3           | Gas           | yes           | 1989          |\n",
       "|  2500         | Mitsubishi    | sedan         | 220           | 2.4           | Petrol        | yes           | 1987          |\n",
       "|  4099         | BMW           | sedan         |  50           | 2.5           | Petrol        | yes           | 1988          |\n",
       "|   600         | Audi          | sedan         | 112           | 1.6           | Petrol        | yes           | 1980          |\n",
       "|  1800         | Volkswagen    | other         | 300           | 1.3           | Petrol        | yes           | 1989          |\n",
       "|   600         | Toyota        | sedan         |  10           | 1.5           | Petrol        | yes           | 1979          |\n",
       "|  3500         | Audi          | sedan         | 265           | 2.0           | Diesel        | yes           | 1986          |\n",
       "|  3500         | Audi          | sedan         |   1           | 2.0           | Other         | yes           | 1988          |\n",
       "|  2650         | Mercedes-Benz | sedan         | 400           | 2.0           | Gas           | yes           | 1985          |\n",
       "|  2700         | Mercedes-Benz | sedan         | 121           | 2.5           | Diesel        | yes           | 1986          |\n",
       "|  2300         | Volkswagen    | hatch         | 320           | 1.6           | Gas           | yes           | 1989          |\n",
       "|  5500         | Mitsubishi    | crossover     |   1           | 2.0           | Petrol        | yes           | 1986          |\n",
       "|  1900         | Volkswagen    | hatch         | 100           | 1.6           | Petrol        | yes           | 1989          |\n",
       "| 34999         | Mercedes-Benz | sedan         | 150           | 2.8           | Petrol        | yes           | 1969          |\n",
       "|  2650         | Volkswagen    | hatch         | 280           | 1.8           | Petrol        | yes           | 1987          |\n",
       "|  1850         | Mercedes-Benz | sedan         | 281           | 2.0           | Diesel        | yes           | 1985          |\n",
       "|  2700         | Mercedes-Benz | sedan         | 350           | 3.0           | Diesel        | yes           | 1988          |\n",
       "|  2500         | Volkswagen    | sedan         | 324           | 1.6           | Diesel        | yes           | 1984          |\n",
       "|  2300         | Mercedes-Benz | sedan         | 261           | 2.3           | Gas           | yes           | 1978          |\n",
       "|  1550         | Volkswagen    | hatch         | 130           | 1.3           | Petrol        | yes           | 1986          |\n",
       "|  2899         | BMW           | sedan         | 340           | 2.4           | Diesel        | yes           | 1988          |\n",
       "|  1450         | Volkswagen    | other         | 200           | 1.8           | Gas           | yes           | 1987          |\n",
       "|  3100         | Volkswagen    | hatch         | 311           | 1.6           | Gas           | yes           | 1986          |\n",
       "|  2200         | Volkswagen    | vagon         | 150           | 1.6           | Petrol        | yes           | 1986          |\n",
       "|  2800         | Toyota        | other         | 421           | 1.3           | Gas           | yes           | 1988          |\n",
       "|  2800         | BMW           | sedan         | 300           | 1.8           | Other         | yes           | 1987          |\n",
       "|  2700         | Mercedes-Benz | sedan         | 337           | 2.3           | Gas           | yes           | 1988          |\n",
       "|  3900         | Mercedes-Benz | sedan         | 111           | 2.5           | Diesel        | yes           | 1989          |\n",
       "|  2700         | Toyota        | sedan         | 400           | 1.6           | Gas           | yes           | 1989          |\n",
       "|  1350         | Mercedes-Benz | sedan         | 360           | 2.5           | Diesel        | no            | 1989          |\n",
       "| ... | ... | ... | ... | ... | ... | ... | ... |\n",
       "| 4100.00       | BMW           | sedan         | 200           | 2.7           | Petrol        | yes           | 1988          |\n",
       "| 3300.00       | Mercedes-Benz | sedan         | 330           | 2.0           | Gas           | yes           | 1988          |\n",
       "| 1899.00       | Volkswagen    | hatch         | 300           | 1.6           | Gas           | yes           | 1984          |\n",
       "| 2500.00       | Mercedes-Benz | vagon         | 122           | 2.3           | Petrol        | yes           | 1987          |\n",
       "| 2650.00       | Mercedes-Benz | sedan         |  30           | 2.3           | Gas           | yes           | 1985          |\n",
       "| 2200.00       | Volkswagen    | hatch         | 260           | 1.8           | Gas           | yes           | 1987          |\n",
       "| 1599.00       | Mitsubishi    | sedan         | 156           | 1.8           | Petrol        | yes           | 1989          |\n",
       "| 7777.00       | Mercedes-Benz | other         | 230           | 2.8           | Petrol        | yes           | 1980          |\n",
       "| 1852.50       | Audi          | sedan         | 150           | 1.8           | Petrol        | yes           | 1985          |\n",
       "| 3000.00       | Audi          | sedan         | 265           | 1.8           | Petrol        | yes           | 1988          |\n",
       "| 2411.00       | Audi          | sedan         | 240           | 1.6           | Other         | yes           | 1987          |\n",
       "| 1500.00       | Volkswagen    | sedan         | 265           | 1.8           | Petrol        | yes           | 1988          |\n",
       "| 2850.00       | BMW           | sedan         | 386           | 4.7           | Gas           | yes           | 1988          |\n",
       "| 2600.00       | Volkswagen    | van           |  10           | 2.4           | Diesel        | yes           | 1988          |\n",
       "| 3200.00       | Mercedes-Benz | sedan         | 390           | 2.3           | Gas           | yes           | 1985          |\n",
       "| 5900.00       | BMW           | sedan         |  10           | 2.8           | Petrol        | yes           | 1989          |\n",
       "| 1185.60       | Renault       | hatch         | 160           | 2.0           | Petrol        | yes           | 1987          |\n",
       "| 2200.00       | BMW           | sedan         | 400           | 2.4           | Diesel        | yes           | 1988          |\n",
       "| 1300.00       | Volkswagen    | other         |  10           | 1.6           | Diesel        | yes           | 1984          |\n",
       "| 5500.00       | BMW           | sedan         | 402           | 2.0           | Petrol        | yes           | 1988          |\n",
       "| 1950.00       | Volkswagen    | hatch         |  94           | 1.1           | Petrol        | yes           | 1982          |\n",
       "| 3900.00       | BMW           | sedan         | 380           | 3.0           | Gas           | yes           | 1989          |\n",
       "| 1100.00       | Toyota        | van           | 140           | 2.0           | Gas           | yes           | 1985          |\n",
       "| 3950.00       | BMW           | sedan         | 300           | 2.0           | Petrol        | yes           | 1986          |\n",
       "| 1800.00       | Renault       | hatch         |   1           | 1.4           | Gas           | yes           | 1988          |\n",
       "| 2500.00       | Mercedes-Benz | sedan         | 200           | 2.3           | Gas           | yes           | 1986          |\n",
       "| 1296.75       | Volkswagen    | sedan         |   1           | 1.6           | Petrol        | yes           | 1980          |\n",
       "| 5500.00       | Mercedes-Benz | sedan         | 440           | 2.0           | Petrol        | yes           | 1978          |\n",
       "| 2200.00       | Volkswagen    | hatch         | 400           | 1.3           | Other         | yes           | 1987          |\n",
       "| 8000.00       | BMW           | sedan         | 194           | 2.0           | Petrol        | yes           | 1985          |\n",
       "\n"
      ],
      "text/plain": [
       "    Price   Brand         Body      Mileage EngineV Engine.Type Registration\n",
       "1    2900   Audi          sedan       1     2.3     Gas         yes         \n",
       "2    2500   Mitsubishi    sedan     220     2.4     Petrol      yes         \n",
       "3    4099   BMW           sedan      50     2.5     Petrol      yes         \n",
       "4     600   Audi          sedan     112     1.6     Petrol      yes         \n",
       "5    1800   Volkswagen    other     300     1.3     Petrol      yes         \n",
       "6     600   Toyota        sedan      10     1.5     Petrol      yes         \n",
       "7    3500   Audi          sedan     265     2.0     Diesel      yes         \n",
       "8    3500   Audi          sedan       1     2.0     Other       yes         \n",
       "9    2650   Mercedes-Benz sedan     400     2.0     Gas         yes         \n",
       "10   2700   Mercedes-Benz sedan     121     2.5     Diesel      yes         \n",
       "11   2300   Volkswagen    hatch     320     1.6     Gas         yes         \n",
       "12   5500   Mitsubishi    crossover   1     2.0     Petrol      yes         \n",
       "13   1900   Volkswagen    hatch     100     1.6     Petrol      yes         \n",
       "14  34999   Mercedes-Benz sedan     150     2.8     Petrol      yes         \n",
       "15   2650   Volkswagen    hatch     280     1.8     Petrol      yes         \n",
       "16   1850   Mercedes-Benz sedan     281     2.0     Diesel      yes         \n",
       "17   2700   Mercedes-Benz sedan     350     3.0     Diesel      yes         \n",
       "18   2500   Volkswagen    sedan     324     1.6     Diesel      yes         \n",
       "19   2300   Mercedes-Benz sedan     261     2.3     Gas         yes         \n",
       "20   1550   Volkswagen    hatch     130     1.3     Petrol      yes         \n",
       "21   2899   BMW           sedan     340     2.4     Diesel      yes         \n",
       "22   1450   Volkswagen    other     200     1.8     Gas         yes         \n",
       "23   3100   Volkswagen    hatch     311     1.6     Gas         yes         \n",
       "24   2200   Volkswagen    vagon     150     1.6     Petrol      yes         \n",
       "25   2800   Toyota        other     421     1.3     Gas         yes         \n",
       "26   2800   BMW           sedan     300     1.8     Other       yes         \n",
       "27   2700   Mercedes-Benz sedan     337     2.3     Gas         yes         \n",
       "28   3900   Mercedes-Benz sedan     111     2.5     Diesel      yes         \n",
       "29   2700   Toyota        sedan     400     1.6     Gas         yes         \n",
       "30   1350   Mercedes-Benz sedan     360     2.5     Diesel      no          \n",
       "... ...     ...           ...       ...     ...     ...         ...         \n",
       "72  4100.00 BMW           sedan     200     2.7     Petrol      yes         \n",
       "73  3300.00 Mercedes-Benz sedan     330     2.0     Gas         yes         \n",
       "74  1899.00 Volkswagen    hatch     300     1.6     Gas         yes         \n",
       "75  2500.00 Mercedes-Benz vagon     122     2.3     Petrol      yes         \n",
       "76  2650.00 Mercedes-Benz sedan      30     2.3     Gas         yes         \n",
       "77  2200.00 Volkswagen    hatch     260     1.8     Gas         yes         \n",
       "78  1599.00 Mitsubishi    sedan     156     1.8     Petrol      yes         \n",
       "79  7777.00 Mercedes-Benz other     230     2.8     Petrol      yes         \n",
       "80  1852.50 Audi          sedan     150     1.8     Petrol      yes         \n",
       "81  3000.00 Audi          sedan     265     1.8     Petrol      yes         \n",
       "82  2411.00 Audi          sedan     240     1.6     Other       yes         \n",
       "83  1500.00 Volkswagen    sedan     265     1.8     Petrol      yes         \n",
       "84  2850.00 BMW           sedan     386     4.7     Gas         yes         \n",
       "85  2600.00 Volkswagen    van        10     2.4     Diesel      yes         \n",
       "86  3200.00 Mercedes-Benz sedan     390     2.3     Gas         yes         \n",
       "87  5900.00 BMW           sedan      10     2.8     Petrol      yes         \n",
       "88  1185.60 Renault       hatch     160     2.0     Petrol      yes         \n",
       "89  2200.00 BMW           sedan     400     2.4     Diesel      yes         \n",
       "90  1300.00 Volkswagen    other      10     1.6     Diesel      yes         \n",
       "91  5500.00 BMW           sedan     402     2.0     Petrol      yes         \n",
       "92  1950.00 Volkswagen    hatch      94     1.1     Petrol      yes         \n",
       "93  3900.00 BMW           sedan     380     3.0     Gas         yes         \n",
       "94  1100.00 Toyota        van       140     2.0     Gas         yes         \n",
       "95  3950.00 BMW           sedan     300     2.0     Petrol      yes         \n",
       "96  1800.00 Renault       hatch       1     1.4     Gas         yes         \n",
       "97  2500.00 Mercedes-Benz sedan     200     2.3     Gas         yes         \n",
       "98  1296.75 Volkswagen    sedan       1     1.6     Petrol      yes         \n",
       "99  5500.00 Mercedes-Benz sedan     440     2.0     Petrol      yes         \n",
       "100 2200.00 Volkswagen    hatch     400     1.3     Other       yes         \n",
       "101 8000.00 BMW           sedan     194     2.0     Petrol      yes         \n",
       "    Year\n",
       "1   1989\n",
       "2   1987\n",
       "3   1988\n",
       "4   1980\n",
       "5   1989\n",
       "6   1979\n",
       "7   1986\n",
       "8   1988\n",
       "9   1985\n",
       "10  1986\n",
       "11  1989\n",
       "12  1986\n",
       "13  1989\n",
       "14  1969\n",
       "15  1987\n",
       "16  1985\n",
       "17  1988\n",
       "18  1984\n",
       "19  1978\n",
       "20  1986\n",
       "21  1988\n",
       "22  1987\n",
       "23  1986\n",
       "24  1986\n",
       "25  1988\n",
       "26  1987\n",
       "27  1988\n",
       "28  1989\n",
       "29  1989\n",
       "30  1989\n",
       "... ... \n",
       "72  1988\n",
       "73  1988\n",
       "74  1984\n",
       "75  1987\n",
       "76  1985\n",
       "77  1987\n",
       "78  1989\n",
       "79  1980\n",
       "80  1985\n",
       "81  1988\n",
       "82  1987\n",
       "83  1988\n",
       "84  1988\n",
       "85  1988\n",
       "86  1985\n",
       "87  1989\n",
       "88  1987\n",
       "89  1988\n",
       "90  1984\n",
       "91  1988\n",
       "92  1982\n",
       "93  1989\n",
       "94  1985\n",
       "95  1986\n",
       "96  1988\n",
       "97  1986\n",
       "98  1980\n",
       "99  1978\n",
       "100 1987\n",
       "101 1985"
      ]
     },
     "metadata": {},
     "output_type": "display_data"
    }
   ],
   "source": [
    "## FILTERING DATA WHERE YEAR ABOVE THE MAXIMUM YEAR\n",
    "filter(data,Year<min_year)"
   ]
  },
  {
   "cell_type": "code",
   "execution_count": 51,
   "metadata": {},
   "outputs": [],
   "source": [
    "min_quantile_range = seq(0.01,0.25,by=0.01)"
   ]
  },
  {
   "cell_type": "code",
   "execution_count": 52,
   "metadata": {},
   "outputs": [
    {
     "data": {
      "text/html": [
       "<ol class=list-inline>\n",
       "\t<li>0.01</li>\n",
       "\t<li>0.02</li>\n",
       "\t<li>0.03</li>\n",
       "\t<li>0.04</li>\n",
       "\t<li>0.05</li>\n",
       "\t<li>0.06</li>\n",
       "\t<li>0.07</li>\n",
       "\t<li>0.08</li>\n",
       "\t<li>0.09</li>\n",
       "\t<li>0.1</li>\n",
       "\t<li>0.11</li>\n",
       "\t<li>0.12</li>\n",
       "\t<li>0.13</li>\n",
       "\t<li>0.14</li>\n",
       "\t<li>0.15</li>\n",
       "\t<li>0.16</li>\n",
       "\t<li>0.17</li>\n",
       "\t<li>0.18</li>\n",
       "\t<li>0.19</li>\n",
       "\t<li>0.2</li>\n",
       "\t<li>0.21</li>\n",
       "\t<li>0.22</li>\n",
       "\t<li>0.23</li>\n",
       "\t<li>0.24</li>\n",
       "\t<li>0.25</li>\n",
       "</ol>\n"
      ],
      "text/latex": [
       "\\begin{enumerate*}\n",
       "\\item 0.01\n",
       "\\item 0.02\n",
       "\\item 0.03\n",
       "\\item 0.04\n",
       "\\item 0.05\n",
       "\\item 0.06\n",
       "\\item 0.07\n",
       "\\item 0.08\n",
       "\\item 0.09\n",
       "\\item 0.1\n",
       "\\item 0.11\n",
       "\\item 0.12\n",
       "\\item 0.13\n",
       "\\item 0.14\n",
       "\\item 0.15\n",
       "\\item 0.16\n",
       "\\item 0.17\n",
       "\\item 0.18\n",
       "\\item 0.19\n",
       "\\item 0.2\n",
       "\\item 0.21\n",
       "\\item 0.22\n",
       "\\item 0.23\n",
       "\\item 0.24\n",
       "\\item 0.25\n",
       "\\end{enumerate*}\n"
      ],
      "text/markdown": [
       "1. 0.01\n",
       "2. 0.02\n",
       "3. 0.03\n",
       "4. 0.04\n",
       "5. 0.05\n",
       "6. 0.06\n",
       "7. 0.07\n",
       "8. 0.08\n",
       "9. 0.09\n",
       "10. 0.1\n",
       "11. 0.11\n",
       "12. 0.12\n",
       "13. 0.13\n",
       "14. 0.14\n",
       "15. 0.15\n",
       "16. 0.16\n",
       "17. 0.17\n",
       "18. 0.18\n",
       "19. 0.19\n",
       "20. 0.2\n",
       "21. 0.21\n",
       "22. 0.22\n",
       "23. 0.23\n",
       "24. 0.24\n",
       "25. 0.25\n",
       "\n",
       "\n"
      ],
      "text/plain": [
       " [1] 0.01 0.02 0.03 0.04 0.05 0.06 0.07 0.08 0.09 0.10 0.11 0.12 0.13 0.14 0.15\n",
       "[16] 0.16 0.17 0.18 0.19 0.20 0.21 0.22 0.23 0.24 0.25"
      ]
     },
     "metadata": {},
     "output_type": "display_data"
    }
   ],
   "source": [
    "min_quantile_range"
   ]
  },
  {
   "cell_type": "code",
   "execution_count": 53,
   "metadata": {},
   "outputs": [
    {
     "data": {
      "text/html": [
       "<dl class=dl-horizontal>\n",
       "\t<dt>1%</dt>\n",
       "\t\t<dd>1987</dd>\n",
       "\t<dt>2%</dt>\n",
       "\t\t<dd>1989</dd>\n",
       "\t<dt>3%</dt>\n",
       "\t\t<dd>1991</dd>\n",
       "\t<dt>4%</dt>\n",
       "\t\t<dd>1992</dd>\n",
       "\t<dt>5%</dt>\n",
       "\t\t<dd>1994</dd>\n",
       "\t<dt>6%</dt>\n",
       "\t\t<dd>1995</dd>\n",
       "\t<dt>7%</dt>\n",
       "\t\t<dd>1996</dd>\n",
       "\t<dt>8%</dt>\n",
       "\t\t<dd>1996</dd>\n",
       "\t<dt>9%</dt>\n",
       "\t\t<dd>1997</dd>\n",
       "\t<dt>10%</dt>\n",
       "\t\t<dd>1997</dd>\n",
       "\t<dt>11%</dt>\n",
       "\t\t<dd>1998</dd>\n",
       "\t<dt>12%</dt>\n",
       "\t\t<dd>1998</dd>\n",
       "\t<dt>13%</dt>\n",
       "\t\t<dd>1999</dd>\n",
       "\t<dt>14%</dt>\n",
       "\t\t<dd>1999</dd>\n",
       "\t<dt>15%</dt>\n",
       "\t\t<dd>2000</dd>\n",
       "\t<dt>16%</dt>\n",
       "\t\t<dd>2000</dd>\n",
       "\t<dt>17%</dt>\n",
       "\t\t<dd>2000</dd>\n",
       "\t<dt>18%</dt>\n",
       "\t\t<dd>2000</dd>\n",
       "\t<dt>19%</dt>\n",
       "\t\t<dd>2001</dd>\n",
       "\t<dt>20%</dt>\n",
       "\t\t<dd>2001</dd>\n",
       "\t<dt>21%</dt>\n",
       "\t\t<dd>2001</dd>\n",
       "\t<dt>22%</dt>\n",
       "\t\t<dd>2002</dd>\n",
       "\t<dt>23%</dt>\n",
       "\t\t<dd>2002</dd>\n",
       "\t<dt>24%</dt>\n",
       "\t\t<dd>2002</dd>\n",
       "\t<dt>25%</dt>\n",
       "\t\t<dd>2003</dd>\n",
       "</dl>\n"
      ],
      "text/latex": [
       "\\begin{description*}\n",
       "\\item[1\\textbackslash{}\\%] 1987\n",
       "\\item[2\\textbackslash{}\\%] 1989\n",
       "\\item[3\\textbackslash{}\\%] 1991\n",
       "\\item[4\\textbackslash{}\\%] 1992\n",
       "\\item[5\\textbackslash{}\\%] 1994\n",
       "\\item[6\\textbackslash{}\\%] 1995\n",
       "\\item[7\\textbackslash{}\\%] 1996\n",
       "\\item[8\\textbackslash{}\\%] 1996\n",
       "\\item[9\\textbackslash{}\\%] 1997\n",
       "\\item[10\\textbackslash{}\\%] 1997\n",
       "\\item[11\\textbackslash{}\\%] 1998\n",
       "\\item[12\\textbackslash{}\\%] 1998\n",
       "\\item[13\\textbackslash{}\\%] 1999\n",
       "\\item[14\\textbackslash{}\\%] 1999\n",
       "\\item[15\\textbackslash{}\\%] 2000\n",
       "\\item[16\\textbackslash{}\\%] 2000\n",
       "\\item[17\\textbackslash{}\\%] 2000\n",
       "\\item[18\\textbackslash{}\\%] 2000\n",
       "\\item[19\\textbackslash{}\\%] 2001\n",
       "\\item[20\\textbackslash{}\\%] 2001\n",
       "\\item[21\\textbackslash{}\\%] 2001\n",
       "\\item[22\\textbackslash{}\\%] 2002\n",
       "\\item[23\\textbackslash{}\\%] 2002\n",
       "\\item[24\\textbackslash{}\\%] 2002\n",
       "\\item[25\\textbackslash{}\\%] 2003\n",
       "\\end{description*}\n"
      ],
      "text/markdown": [
       "1%\n",
       ":   19872%\n",
       ":   19893%\n",
       ":   19914%\n",
       ":   19925%\n",
       ":   19946%\n",
       ":   19957%\n",
       ":   19968%\n",
       ":   19969%\n",
       ":   199710%\n",
       ":   199711%\n",
       ":   199812%\n",
       ":   199813%\n",
       ":   199914%\n",
       ":   199915%\n",
       ":   200016%\n",
       ":   200017%\n",
       ":   200018%\n",
       ":   200019%\n",
       ":   200120%\n",
       ":   200121%\n",
       ":   200122%\n",
       ":   200223%\n",
       ":   200224%\n",
       ":   200225%\n",
       ":   2003\n",
       "\n"
      ],
      "text/plain": [
       "  1%   2%   3%   4%   5%   6%   7%   8%   9%  10%  11%  12%  13%  14%  15%  16% \n",
       "1987 1989 1991 1992 1994 1995 1996 1996 1997 1997 1998 1998 1999 1999 2000 2000 \n",
       " 17%  18%  19%  20%  21%  22%  23%  24%  25% \n",
       "2000 2000 2001 2001 2001 2002 2002 2002 2003 "
      ]
     },
     "metadata": {},
     "output_type": "display_data"
    }
   ],
   "source": [
    "## USING QUANTILE FUNCTION CALLING QUANTILES FROM 1TH TO 25TH \n",
    "quantile(data$Year,probs=min_quantile_range)"
   ]
  },
  {
   "cell_type": "code",
   "execution_count": 54,
   "metadata": {},
   "outputs": [],
   "source": [
    "## USING FOR LOOPS CHANGING VALUES\n",
    "for (i in 1:4025)\n",
    "{\n",
    "    if (data$Year[i]<min_year)\n",
    "    {\n",
    "        data$Year[i]=quantile(data$Year,probs=0.03)\n",
    "    }\n",
    "}"
   ]
  },
  {
   "cell_type": "code",
   "execution_count": 55,
   "metadata": {},
   "outputs": [
    {
     "data": {
      "image/png": "[encoded data removed]",
      "text/plain": [
       "plot without title"
      ]
     },
     "metadata": {},
     "output_type": "display_data"
    }
   ],
   "source": [
    "## CHECKING FOR OUTLIERS WITH BOXPLOT\n",
    "ggplot(data=data,aes(y=Year))+ geom_boxplot(fill='cadetblue')"
   ]
  },
  {
   "cell_type": "markdown",
   "metadata": {},
   "source": [
    "# 4. DATA ANALYSIS"
   ]
  },
  {
   "cell_type": "code",
   "execution_count": null,
   "metadata": {},
   "outputs": [],
   "source": []
  }
 ],
 "metadata": {
  "kernelspec": {
   "display_name": "R",
   "language": "R",
   "name": "ir"
  },
  "language_info": {
   "codemirror_mode": "r",
   "file_extension": ".r",
   "mimetype": "text/x-r-source",
   "name": "R",
   "pygments_lexer": "r",
   "version": "3.6.1"
  }
 },
 "nbformat": 4,
 "nbformat_minor": 4
}
