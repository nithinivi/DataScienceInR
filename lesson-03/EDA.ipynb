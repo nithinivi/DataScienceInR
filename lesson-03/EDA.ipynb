{
 "cells": [
  {
   "cell_type": "markdown",
   "metadata": {},
   "source": [
    "# Exploratory Data Analysis - EDA"
   ]
  },
  {
   "cell_type": "code",
   "execution_count": 2,
   "metadata": {},
   "outputs": [],
   "source": [
    "## CALLING LIBRARIES USED FOR EDA\n",
    "\n",
    "library(\"tidyverse\")\n",
    "library(\"ggplot2\")"
   ]
  },
  {
   "cell_type": "code",
   "execution_count": 3,
   "metadata": {},
   "outputs": [],
   "source": [
    "## STORING DATA IN THE CSV FILE TO VARIABLE \"data\"\n",
    "data = read.csv('C:/Users/T0SHIBA/DataScienceInR/data/Mulitple LR_Cars.csv')"
   ]
  },
  {
   "cell_type": "code",
   "execution_count": 4,
   "metadata": {},
   "outputs": [
    {
     "data": {
      "text/html": [
       "<table>\n",
       "<thead><tr><th scope=col>Price</th><th scope=col>Brand</th><th scope=col>Body</th><th scope=col>Mileage</th><th scope=col>EngineV</th><th scope=col>Engine.Type</th><th scope=col>Registration</th><th scope=col>Year</th></tr></thead>\n",
       "<tbody>\n",
       "\t<tr><td>  4200       </td><td>BMW          </td><td>sedan        </td><td>277          </td><td>2.0          </td><td>Petrol       </td><td>yes          </td><td>1991         </td></tr>\n",
       "\t<tr><td>  7900       </td><td>Mercedes-Benz</td><td>van          </td><td>427          </td><td>2.9          </td><td>Diesel       </td><td>yes          </td><td>1999         </td></tr>\n",
       "\t<tr><td> 13300       </td><td>Mercedes-Benz</td><td>sedan        </td><td>358          </td><td>5.0          </td><td>Gas          </td><td>yes          </td><td>2003         </td></tr>\n",
       "\t<tr><td> 23000       </td><td>Audi         </td><td>crossover    </td><td>240          </td><td>4.2          </td><td>Petrol       </td><td>yes          </td><td>2007         </td></tr>\n",
       "\t<tr><td> 18300       </td><td>Toyota       </td><td>crossover    </td><td>120          </td><td>2.0          </td><td>Petrol       </td><td>yes          </td><td>2011         </td></tr>\n",
       "\t<tr><td>199999       </td><td>Mercedes-Benz</td><td>crossover    </td><td>  0          </td><td>5.5          </td><td>Petrol       </td><td>yes          </td><td>2016         </td></tr>\n",
       "</tbody>\n",
       "</table>\n"
      ],
      "text/latex": [
       "\\begin{tabular}{r|llllllll}\n",
       " Price & Brand & Body & Mileage & EngineV & Engine.Type & Registration & Year\\\\\n",
       "\\hline\n",
       "\t   4200        & BMW           & sedan         & 277           & 2.0           & Petrol        & yes           & 1991         \\\\\n",
       "\t   7900        & Mercedes-Benz & van           & 427           & 2.9           & Diesel        & yes           & 1999         \\\\\n",
       "\t  13300        & Mercedes-Benz & sedan         & 358           & 5.0           & Gas           & yes           & 2003         \\\\\n",
       "\t  23000        & Audi          & crossover     & 240           & 4.2           & Petrol        & yes           & 2007         \\\\\n",
       "\t  18300        & Toyota        & crossover     & 120           & 2.0           & Petrol        & yes           & 2011         \\\\\n",
       "\t 199999        & Mercedes-Benz & crossover     &   0           & 5.5           & Petrol        & yes           & 2016         \\\\\n",
       "\\end{tabular}\n"
      ],
      "text/markdown": [
       "\n",
       "| Price | Brand | Body | Mileage | EngineV | Engine.Type | Registration | Year |\n",
       "|---|---|---|---|---|---|---|---|\n",
       "|   4200        | BMW           | sedan         | 277           | 2.0           | Petrol        | yes           | 1991          |\n",
       "|   7900        | Mercedes-Benz | van           | 427           | 2.9           | Diesel        | yes           | 1999          |\n",
       "|  13300        | Mercedes-Benz | sedan         | 358           | 5.0           | Gas           | yes           | 2003          |\n",
       "|  23000        | Audi          | crossover     | 240           | 4.2           | Petrol        | yes           | 2007          |\n",
       "|  18300        | Toyota        | crossover     | 120           | 2.0           | Petrol        | yes           | 2011          |\n",
       "| 199999        | Mercedes-Benz | crossover     |   0           | 5.5           | Petrol        | yes           | 2016          |\n",
       "\n"
      ],
      "text/plain": [
       "  Price  Brand         Body      Mileage EngineV Engine.Type Registration Year\n",
       "1   4200 BMW           sedan     277     2.0     Petrol      yes          1991\n",
       "2   7900 Mercedes-Benz van       427     2.9     Diesel      yes          1999\n",
       "3  13300 Mercedes-Benz sedan     358     5.0     Gas         yes          2003\n",
       "4  23000 Audi          crossover 240     4.2     Petrol      yes          2007\n",
       "5  18300 Toyota        crossover 120     2.0     Petrol      yes          2011\n",
       "6 199999 Mercedes-Benz crossover   0     5.5     Petrol      yes          2016"
      ]
     },
     "metadata": {},
     "output_type": "display_data"
    }
   ],
   "source": [
    "## VIEWING THE FIRST 6 ROWS USING HEAD() FUNCTION\n",
    "head(data)"
   ]
  },
  {
   "cell_type": "markdown",
   "metadata": {},
   "source": [
    "## 1. VARIABLE IDENTIFICATION"
   ]
  },
  {
   "cell_type": "markdown",
   "metadata": {},
   "source": [
    "##### CONTINUOUS OR CATAGORICAL"
   ]
  },
  {
   "cell_type": "markdown",
   "metadata": {},
   "source": [
    "###### Continuous Variables : Price , Mileage , EngineV , Year"
   ]
  },
  {
   "cell_type": "markdown",
   "metadata": {},
   "source": [
    "###### Catagorical Variables : Brand , Body , Engine.Type , Registration"
   ]
  },
  {
   "cell_type": "markdown",
   "metadata": {},
   "source": [
    "## 2. TREATMENT OF MISSING VALUES"
   ]
  },
  {
   "cell_type": "code",
   "execution_count": 5,
   "metadata": {},
   "outputs": [
    {
     "data": {
      "text/html": [
       "<dl class=dl-horizontal>\n",
       "\t<dt>Price</dt>\n",
       "\t\t<dd>172</dd>\n",
       "\t<dt>Brand</dt>\n",
       "\t\t<dd>0</dd>\n",
       "\t<dt>Body</dt>\n",
       "\t\t<dd>0</dd>\n",
       "\t<dt>Mileage</dt>\n",
       "\t\t<dd>0</dd>\n",
       "\t<dt>EngineV</dt>\n",
       "\t\t<dd>150</dd>\n",
       "\t<dt>Engine.Type</dt>\n",
       "\t\t<dd>0</dd>\n",
       "\t<dt>Registration</dt>\n",
       "\t\t<dd>0</dd>\n",
       "\t<dt>Year</dt>\n",
       "\t\t<dd>0</dd>\n",
       "</dl>\n"
      ],
      "text/latex": [
       "\\begin{description*}\n",
       "\\item[Price] 172\n",
       "\\item[Brand] 0\n",
       "\\item[Body] 0\n",
       "\\item[Mileage] 0\n",
       "\\item[EngineV] 150\n",
       "\\item[Engine.Type] 0\n",
       "\\item[Registration] 0\n",
       "\\item[Year] 0\n",
       "\\end{description*}\n"
      ],
      "text/markdown": [
       "Price\n",
       ":   172Brand\n",
       ":   0Body\n",
       ":   0Mileage\n",
       ":   0EngineV\n",
       ":   150Engine.Type\n",
       ":   0Registration\n",
       ":   0Year\n",
       ":   0\n",
       "\n"
      ],
      "text/plain": [
       "       Price        Brand         Body      Mileage      EngineV  Engine.Type \n",
       "         172            0            0            0          150            0 \n",
       "Registration         Year \n",
       "           0            0 "
      ]
     },
     "metadata": {},
     "output_type": "display_data"
    }
   ],
   "source": [
    "## TAKING COUNT OF MISSING VALUES IN THE DATASET\n",
    "colSums(is.na(data))"
   ]
  },
  {
   "cell_type": "markdown",
   "metadata": {},
   "source": [
    "### Here, missing values are in columns : Price & EngineV"
   ]
  },
  {
   "cell_type": "code",
   "execution_count": 6,
   "metadata": {},
   "outputs": [
    {
     "data": {
      "text/html": [
       "<ol class=list-inline>\n",
       "\t<li>4345</li>\n",
       "\t<li>8</li>\n",
       "</ol>\n"
      ],
      "text/latex": [
       "\\begin{enumerate*}\n",
       "\\item 4345\n",
       "\\item 8\n",
       "\\end{enumerate*}\n"
      ],
      "text/markdown": [
       "1. 4345\n",
       "2. 8\n",
       "\n",
       "\n"
      ],
      "text/plain": [
       "[1] 4345    8"
      ]
     },
     "metadata": {},
     "output_type": "display_data"
    }
   ],
   "source": [
    "## CHECKING NUMBER OF COLUMNS AND ROWS\n",
    "dim(data)"
   ]
  },
  {
   "cell_type": "markdown",
   "metadata": {},
   "source": [
    "##### Here the number of null value rows are very less considered to the total data, hence the null values are deleted"
   ]
  },
  {
   "cell_type": "code",
   "execution_count": 7,
   "metadata": {},
   "outputs": [],
   "source": [
    "## DELETING NULL VALUE ROWS\n",
    "data = na.omit(data)"
   ]
  },
  {
   "cell_type": "code",
   "execution_count": 8,
   "metadata": {},
   "outputs": [
    {
     "data": {
      "text/html": [
       "<dl class=dl-horizontal>\n",
       "\t<dt>Price</dt>\n",
       "\t\t<dd>0</dd>\n",
       "\t<dt>Brand</dt>\n",
       "\t\t<dd>0</dd>\n",
       "\t<dt>Body</dt>\n",
       "\t\t<dd>0</dd>\n",
       "\t<dt>Mileage</dt>\n",
       "\t\t<dd>0</dd>\n",
       "\t<dt>EngineV</dt>\n",
       "\t\t<dd>0</dd>\n",
       "\t<dt>Engine.Type</dt>\n",
       "\t\t<dd>0</dd>\n",
       "\t<dt>Registration</dt>\n",
       "\t\t<dd>0</dd>\n",
       "\t<dt>Year</dt>\n",
       "\t\t<dd>0</dd>\n",
       "</dl>\n"
      ],
      "text/latex": [
       "\\begin{description*}\n",
       "\\item[Price] 0\n",
       "\\item[Brand] 0\n",
       "\\item[Body] 0\n",
       "\\item[Mileage] 0\n",
       "\\item[EngineV] 0\n",
       "\\item[Engine.Type] 0\n",
       "\\item[Registration] 0\n",
       "\\item[Year] 0\n",
       "\\end{description*}\n"
      ],
      "text/markdown": [
       "Price\n",
       ":   0Brand\n",
       ":   0Body\n",
       ":   0Mileage\n",
       ":   0EngineV\n",
       ":   0Engine.Type\n",
       ":   0Registration\n",
       ":   0Year\n",
       ":   0\n",
       "\n"
      ],
      "text/plain": [
       "       Price        Brand         Body      Mileage      EngineV  Engine.Type \n",
       "           0            0            0            0            0            0 \n",
       "Registration         Year \n",
       "           0            0 "
      ]
     },
     "metadata": {},
     "output_type": "display_data"
    }
   ],
   "source": [
    "colSums(is.na(data))"
   ]
  },
  {
   "cell_type": "code",
   "execution_count": 9,
   "metadata": {},
   "outputs": [
    {
     "data": {
      "text/html": [
       "<ol class=list-inline>\n",
       "\t<li>4025</li>\n",
       "\t<li>8</li>\n",
       "</ol>\n"
      ],
      "text/latex": [
       "\\begin{enumerate*}\n",
       "\\item 4025\n",
       "\\item 8\n",
       "\\end{enumerate*}\n"
      ],
      "text/markdown": [
       "1. 4025\n",
       "2. 8\n",
       "\n",
       "\n"
      ],
      "text/plain": [
       "[1] 4025    8"
      ]
     },
     "metadata": {},
     "output_type": "display_data"
    }
   ],
   "source": [
    "## NUMBER OF ROWS AND COLUMNS AFTER DELETING NULL VALUES\n",
    "dim(data)"
   ]
  },
  {
   "cell_type": "markdown",
   "metadata": {},
   "source": [
    "## 3. TREATMENT OF OUTLIERS"
   ]
  },
  {
   "cell_type": "markdown",
   "metadata": {},
   "source": [
    "##### OUTLIERS NEED TO BE CHECKED AND TREATED FOR CONTINOUS VARIABLES"
   ]
  },
  {
   "cell_type": "markdown",
   "metadata": {},
   "source": [
    "##### I. PRICE"
   ]
  },
  {
   "cell_type": "code",
   "execution_count": 10,
   "metadata": {},
   "outputs": [
    {
     "data": {
      "image/png": "[encoded data removed]",
      "text/plain": [
       "plot without title"
      ]
     },
     "metadata": {},
     "output_type": "display_data"
    }
   ],
   "source": [
    "## CHECKING FOR OUTLIERS WITH BOXPLOT\n",
    "ggplot(data=data,aes(y=Price))+ geom_boxplot()"
   ]
  },
  {
   "cell_type": "code",
   "execution_count": 11,
   "metadata": {},
   "outputs": [],
   "source": [
    "## FINDING INTER QUARTILE RANGE TO CALCULATE MAXIMUM VALUE OF DISTRIBUTION USING \"IQR\" FUNCTION\n",
    "iqr_price = IQR(data$Price)"
   ]
  },
  {
   "cell_type": "code",
   "execution_count": 12,
   "metadata": {},
   "outputs": [
    {
     "data": {
      "text/html": [
       "14901"
      ],
      "text/latex": [
       "14901"
      ],
      "text/markdown": [
       "14901"
      ],
      "text/plain": [
       "[1] 14901"
      ]
     },
     "metadata": {},
     "output_type": "display_data"
    }
   ],
   "source": [
    "iqr_price"
   ]
  },
  {
   "cell_type": "code",
   "execution_count": 13,
   "metadata": {},
   "outputs": [
    {
     "data": {
      "text/html": [
       "<dl class=dl-horizontal>\n",
       "\t<dt>0%</dt>\n",
       "\t\t<dd>600</dd>\n",
       "\t<dt>25%</dt>\n",
       "\t\t<dd>6999</dd>\n",
       "\t<dt>50%</dt>\n",
       "\t\t<dd>11500</dd>\n",
       "\t<dt>75%</dt>\n",
       "\t\t<dd>21900</dd>\n",
       "\t<dt>100%</dt>\n",
       "\t\t<dd>3e+05</dd>\n",
       "</dl>\n"
      ],
      "text/latex": [
       "\\begin{description*}\n",
       "\\item[0\\textbackslash{}\\%] 600\n",
       "\\item[25\\textbackslash{}\\%] 6999\n",
       "\\item[50\\textbackslash{}\\%] 11500\n",
       "\\item[75\\textbackslash{}\\%] 21900\n",
       "\\item[100\\textbackslash{}\\%] 3e+05\n",
       "\\end{description*}\n"
      ],
      "text/markdown": [
       "0%\n",
       ":   60025%\n",
       ":   699950%\n",
       ":   1150075%\n",
       ":   21900100%\n",
       ":   3e+05\n",
       "\n"
      ],
      "text/plain": [
       "    0%    25%    50%    75%   100% \n",
       "   600   6999  11500  21900 300000 "
      ]
     },
     "metadata": {},
     "output_type": "display_data"
    }
   ],
   "source": [
    "## QUANTILE FUNTION WILL GIVE US THE IMPORTANT QUARTILES\n",
    "quantile(data$Price)"
   ]
  },
  {
   "cell_type": "code",
   "execution_count": 14,
   "metadata": {},
   "outputs": [
    {
     "data": {
      "text/html": [
       "<strong>75%:</strong> 21900"
      ],
      "text/latex": [
       "\\textbf{75\\textbackslash{}\\%:} 21900"
      ],
      "text/markdown": [
       "**75%:** 21900"
      ],
      "text/plain": [
       "  75% \n",
       "21900 "
      ]
     },
     "metadata": {},
     "output_type": "display_data"
    }
   ],
   "source": [
    "## WITH \"PROBS\" ATTIBUTE WE CAN SPECIFY THE PARTICULAR QUANTILE NEEDED (IT SHOULD BE BETWEEN 0 AND 1)\n",
    "quantile(data$Price,probs=0.75)"
   ]
  },
  {
   "cell_type": "code",
   "execution_count": 15,
   "metadata": {},
   "outputs": [],
   "source": [
    "## MAX VALUE OF PRICE IS CALCULATED USING FORMULA \"Q3 + (1.5*IQR)\"\n",
    "max_price = quantile(data$Price,probs=0.75)+ (1.5*iqr_price)"
   ]
  },
  {
   "cell_type": "code",
   "execution_count": 16,
   "metadata": {},
   "outputs": [
    {
     "data": {
      "text/html": [
       "<strong>75%:</strong> 44251.5"
      ],
      "text/latex": [
       "\\textbf{75\\textbackslash{}\\%:} 44251.5"
      ],
      "text/markdown": [
       "**75%:** 44251.5"
      ],
      "text/plain": [
       "    75% \n",
       "44251.5 "
      ]
     },
     "metadata": {},
     "output_type": "display_data"
    }
   ],
   "source": [
    "max_price"
   ]
  },
  {
   "cell_type": "code",
   "execution_count": 17,
   "metadata": {},
   "outputs": [
    {
     "data": {
      "text/html": [
       "<table>\n",
       "<thead><tr><th scope=col>Price</th><th scope=col>Brand</th><th scope=col>Body</th><th scope=col>Mileage</th><th scope=col>EngineV</th><th scope=col>Engine.Type</th><th scope=col>Registration</th><th scope=col>Year</th></tr></thead>\n",
       "<tbody>\n",
       "\t<tr><td>199999.00    </td><td>Mercedes-Benz</td><td>crossover    </td><td>  0          </td><td>5.50         </td><td>Petrol       </td><td>yes          </td><td>2016         </td></tr>\n",
       "\t<tr><td> 67500.00    </td><td>BMW          </td><td>crossover    </td><td>  1          </td><td>2.50         </td><td>Diesel       </td><td>yes          </td><td>2016         </td></tr>\n",
       "\t<tr><td> 63000.00    </td><td>Mercedes-Benz</td><td>crossover    </td><td> 86          </td><td>5.50         </td><td>Petrol       </td><td>yes          </td><td>2009         </td></tr>\n",
       "\t<tr><td>133000.00    </td><td>BMW          </td><td>crossover    </td><td>  7          </td><td>4.40         </td><td>Petrol       </td><td>yes          </td><td>2015         </td></tr>\n",
       "\t<tr><td> 50000.00    </td><td>Mercedes-Benz</td><td>sedan        </td><td>240          </td><td>3.50         </td><td>Petrol       </td><td>yes          </td><td>2006         </td></tr>\n",
       "\t<tr><td> 69999.00    </td><td>Audi         </td><td>crossover    </td><td> 21          </td><td>3.00         </td><td>Petrol       </td><td>yes          </td><td>2015         </td></tr>\n",
       "\t<tr><td>107999.00    </td><td>Mercedes-Benz</td><td>crossover    </td><td>  0          </td><td>2.98         </td><td>Diesel       </td><td>yes          </td><td>2016         </td></tr>\n",
       "\t<tr><td> 45500.00    </td><td>BMW          </td><td>crossover    </td><td> 76          </td><td>4.40         </td><td>Petrol       </td><td>yes          </td><td>2010         </td></tr>\n",
       "\t<tr><td> 47000.00    </td><td>BMW          </td><td>other        </td><td>  5          </td><td>2.00         </td><td>Petrol       </td><td>yes          </td><td>2014         </td></tr>\n",
       "\t<tr><td> 46800.00    </td><td>BMW          </td><td>sedan        </td><td> 33          </td><td>2.00         </td><td>Diesel       </td><td>yes          </td><td>2014         </td></tr>\n",
       "\t<tr><td>195000.00    </td><td>Toyota       </td><td>crossover    </td><td>  0          </td><td>4.50         </td><td>Diesel       </td><td>yes          </td><td>2016         </td></tr>\n",
       "\t<tr><td> 87777.00    </td><td>Mercedes-Benz</td><td>van          </td><td>  0          </td><td>2.20         </td><td>Diesel       </td><td>yes          </td><td>2016         </td></tr>\n",
       "\t<tr><td> 70000.00    </td><td>BMW          </td><td>sedan        </td><td> 16          </td><td>3.00         </td><td>Diesel       </td><td>yes          </td><td>2014         </td></tr>\n",
       "\t<tr><td>169000.00    </td><td>Mercedes-Benz</td><td>other        </td><td>  1          </td><td>4.70         </td><td>Petrol       </td><td>yes          </td><td>2015         </td></tr>\n",
       "\t<tr><td> 51500.00    </td><td>Audi         </td><td>crossover    </td><td> 27          </td><td>3.00         </td><td>Diesel       </td><td>yes          </td><td>2013         </td></tr>\n",
       "\t<tr><td> 99999.00    </td><td>Toyota       </td><td>crossover    </td><td>  0          </td><td>4.50         </td><td>Diesel       </td><td>yes          </td><td>2016         </td></tr>\n",
       "\t<tr><td>135000.00    </td><td>Toyota       </td><td>crossover    </td><td>  1          </td><td>4.50         </td><td>Diesel       </td><td>yes          </td><td>2011         </td></tr>\n",
       "\t<tr><td>109999.00    </td><td>Mercedes-Benz</td><td>crossover    </td><td>  0          </td><td>3.00         </td><td>Diesel       </td><td>yes          </td><td>2016         </td></tr>\n",
       "\t<tr><td> 44999.00    </td><td>BMW          </td><td>crossover    </td><td> 87          </td><td>3.00         </td><td>Diesel       </td><td>yes          </td><td>2011         </td></tr>\n",
       "\t<tr><td> 61000.00    </td><td>Volkswagen   </td><td>crossover    </td><td>  2          </td><td>3.00         </td><td>Diesel       </td><td>yes          </td><td>2016         </td></tr>\n",
       "\t<tr><td> 55555.00    </td><td>Volkswagen   </td><td>van          </td><td> 50          </td><td>2.00         </td><td>Diesel       </td><td>yes          </td><td>2013         </td></tr>\n",
       "\t<tr><td> 66900.00    </td><td>BMW          </td><td>crossover    </td><td> 70          </td><td>3.00         </td><td>Diesel       </td><td>yes          </td><td>2014         </td></tr>\n",
       "\t<tr><td>199999.00    </td><td>Mercedes-Benz</td><td>crossover    </td><td>  0          </td><td>5.50         </td><td>Petrol       </td><td>yes          </td><td>2016         </td></tr>\n",
       "\t<tr><td> 55500.00    </td><td>Volkswagen   </td><td>crossover    </td><td> 47          </td><td>3.00         </td><td>Diesel       </td><td>yes          </td><td>2016         </td></tr>\n",
       "\t<tr><td> 50499.00    </td><td>BMW          </td><td>sedan        </td><td>128          </td><td>3.00         </td><td>Diesel       </td><td>yes          </td><td>2013         </td></tr>\n",
       "\t<tr><td> 44600.00    </td><td>Volkswagen   </td><td>crossover    </td><td> 60          </td><td>3.00         </td><td>Diesel       </td><td>yes          </td><td>2013         </td></tr>\n",
       "\t<tr><td>195000.00    </td><td>Mercedes-Benz</td><td>crossover    </td><td>  2          </td><td>5.50         </td><td>Petrol       </td><td>yes          </td><td>2016         </td></tr>\n",
       "\t<tr><td>115000.00    </td><td>Mercedes-Benz</td><td>sedan        </td><td> 47          </td><td>4.60         </td><td>Petrol       </td><td>yes          </td><td>2013         </td></tr>\n",
       "\t<tr><td> 67622.55    </td><td>Volkswagen   </td><td>crossover    </td><td>  0          </td><td>3.00         </td><td>Diesel       </td><td>yes          </td><td>2016         </td></tr>\n",
       "\t<tr><td> 64500.00    </td><td>BMW          </td><td>crossover    </td><td>  1          </td><td>2.00         </td><td>Diesel       </td><td>yes          </td><td>2016         </td></tr>\n",
       "\t<tr><td>...</td><td>...</td><td>...</td><td>...</td><td>...</td><td>...</td><td>...</td><td>...</td></tr>\n",
       "\t<tr><td>295000       </td><td>Mercedes-Benz</td><td>sedan        </td><td> 29          </td><td>6.00         </td><td>Petrol       </td><td>yes          </td><td>2011         </td></tr>\n",
       "\t<tr><td> 55555       </td><td>Volkswagen   </td><td>van          </td><td> 53          </td><td>2.00         </td><td>Diesel       </td><td>yes          </td><td>2013         </td></tr>\n",
       "\t<tr><td> 46500       </td><td>Mercedes-Benz</td><td>crossover    </td><td>127          </td><td>5.00         </td><td>Petrol       </td><td>yes          </td><td>2008         </td></tr>\n",
       "\t<tr><td> 63200       </td><td>Audi         </td><td>sedan        </td><td>  0          </td><td>2.00         </td><td>Petrol       </td><td>yes          </td><td>2016         </td></tr>\n",
       "\t<tr><td> 86999       </td><td>BMW          </td><td>crossover    </td><td>  0          </td><td>3.00         </td><td>Diesel       </td><td>yes          </td><td>2016         </td></tr>\n",
       "\t<tr><td>103999       </td><td>Toyota       </td><td>crossover    </td><td>  0          </td><td>4.50         </td><td>Diesel       </td><td>yes          </td><td>2016         </td></tr>\n",
       "\t<tr><td> 61990       </td><td>Toyota       </td><td>crossover    </td><td> 68          </td><td>4.50         </td><td>Diesel       </td><td>yes          </td><td>2012         </td></tr>\n",
       "\t<tr><td> 47777       </td><td>BMW          </td><td>crossover    </td><td>142          </td><td>3.00         </td><td>Other        </td><td>yes          </td><td>2011         </td></tr>\n",
       "\t<tr><td> 51500       </td><td>Toyota       </td><td>crossover    </td><td> 70          </td><td>3.00         </td><td>Diesel       </td><td>yes          </td><td>2015         </td></tr>\n",
       "\t<tr><td> 67431       </td><td>BMW          </td><td>crossover    </td><td>  0          </td><td>2.00         </td><td>Diesel       </td><td>yes          </td><td>2016         </td></tr>\n",
       "\t<tr><td> 62000       </td><td>BMW          </td><td>crossover    </td><td>  1          </td><td>2.00         </td><td>Diesel       </td><td>yes          </td><td>2016         </td></tr>\n",
       "\t<tr><td> 57000       </td><td>BMW          </td><td>crossover    </td><td> 47          </td><td>3.00         </td><td>Diesel       </td><td>yes          </td><td>2014         </td></tr>\n",
       "\t<tr><td> 62900       </td><td>BMW          </td><td>crossover    </td><td>  1          </td><td>2.00         </td><td>Diesel       </td><td>yes          </td><td>2016         </td></tr>\n",
       "\t<tr><td> 95000       </td><td>Audi         </td><td>other        </td><td> 30          </td><td>5.20         </td><td>Petrol       </td><td>yes          </td><td>2010         </td></tr>\n",
       "\t<tr><td> 48000       </td><td>Audi         </td><td>crossover    </td><td> 90          </td><td>3.00         </td><td>Diesel       </td><td>yes          </td><td>2013         </td></tr>\n",
       "\t<tr><td> 57000       </td><td>Mercedes-Benz</td><td>sedan        </td><td> 61          </td><td>4.60         </td><td>Petrol       </td><td>yes          </td><td>2012         </td></tr>\n",
       "\t<tr><td> 85000       </td><td>Mercedes-Benz</td><td>sedan        </td><td> 36          </td><td>5.50         </td><td>Petrol       </td><td>yes          </td><td>2014         </td></tr>\n",
       "\t<tr><td> 55000       </td><td>Audi         </td><td>crossover    </td><td> 65          </td><td>2.99         </td><td>Diesel       </td><td>yes          </td><td>2013         </td></tr>\n",
       "\t<tr><td> 48900       </td><td>Audi         </td><td>other        </td><td> 82          </td><td>4.20         </td><td>Petrol       </td><td>yes          </td><td>2007         </td></tr>\n",
       "\t<tr><td> 49900       </td><td>BMW          </td><td>other        </td><td> 82          </td><td>3.00         </td><td>Petrol       </td><td>yes          </td><td>2012         </td></tr>\n",
       "\t<tr><td> 55500       </td><td>BMW          </td><td>crossover    </td><td> 90          </td><td>3.00         </td><td>Diesel       </td><td>yes          </td><td>2013         </td></tr>\n",
       "\t<tr><td> 55000       </td><td>Mercedes-Benz</td><td>crossover    </td><td>120          </td><td>5.50         </td><td>Petrol       </td><td>yes          </td><td>2008         </td></tr>\n",
       "\t<tr><td>126000       </td><td>Mercedes-Benz</td><td>sedan        </td><td> 14          </td><td>3.00         </td><td>Diesel       </td><td>yes          </td><td>2015         </td></tr>\n",
       "\t<tr><td>109999       </td><td>Mercedes-Benz</td><td>crossover    </td><td>  0          </td><td>2.98         </td><td>Diesel       </td><td>yes          </td><td>2016         </td></tr>\n",
       "\t<tr><td>111999       </td><td>Mercedes-Benz</td><td>crossover    </td><td>  0          </td><td>3.00         </td><td>Diesel       </td><td>yes          </td><td>2016         </td></tr>\n",
       "\t<tr><td>300000       </td><td>Mercedes-Benz</td><td>other        </td><td> 37          </td><td>5.00         </td><td>Petrol       </td><td>yes          </td><td>2012         </td></tr>\n",
       "\t<tr><td>100000       </td><td>Toyota       </td><td>crossover    </td><td>  0          </td><td>4.50         </td><td>Diesel       </td><td>yes          </td><td>2016         </td></tr>\n",
       "\t<tr><td> 80999       </td><td>Audi         </td><td>crossover    </td><td>  0          </td><td>3.00         </td><td>Diesel       </td><td>yes          </td><td>2016         </td></tr>\n",
       "\t<tr><td> 45000       </td><td>BMW          </td><td>crossover    </td><td> 80          </td><td>3.00         </td><td>Petrol       </td><td>yes          </td><td>2011         </td></tr>\n",
       "\t<tr><td>125000       </td><td>Mercedes-Benz</td><td>sedan        </td><td>  9          </td><td>3.00         </td><td>Diesel       </td><td>yes          </td><td>2014         </td></tr>\n",
       "</tbody>\n",
       "</table>\n"
      ],
      "text/latex": [
       "\\begin{tabular}{r|llllllll}\n",
       " Price & Brand & Body & Mileage & EngineV & Engine.Type & Registration & Year\\\\\n",
       "\\hline\n",
       "\t 199999.00     & Mercedes-Benz & crossover     &   0           & 5.50          & Petrol        & yes           & 2016         \\\\\n",
       "\t  67500.00     & BMW           & crossover     &   1           & 2.50          & Diesel        & yes           & 2016         \\\\\n",
       "\t  63000.00     & Mercedes-Benz & crossover     &  86           & 5.50          & Petrol        & yes           & 2009         \\\\\n",
       "\t 133000.00     & BMW           & crossover     &   7           & 4.40          & Petrol        & yes           & 2015         \\\\\n",
       "\t  50000.00     & Mercedes-Benz & sedan         & 240           & 3.50          & Petrol        & yes           & 2006         \\\\\n",
       "\t  69999.00     & Audi          & crossover     &  21           & 3.00          & Petrol        & yes           & 2015         \\\\\n",
       "\t 107999.00     & Mercedes-Benz & crossover     &   0           & 2.98          & Diesel        & yes           & 2016         \\\\\n",
       "\t  45500.00     & BMW           & crossover     &  76           & 4.40          & Petrol        & yes           & 2010         \\\\\n",
       "\t  47000.00     & BMW           & other         &   5           & 2.00          & Petrol        & yes           & 2014         \\\\\n",
       "\t  46800.00     & BMW           & sedan         &  33           & 2.00          & Diesel        & yes           & 2014         \\\\\n",
       "\t 195000.00     & Toyota        & crossover     &   0           & 4.50          & Diesel        & yes           & 2016         \\\\\n",
       "\t  87777.00     & Mercedes-Benz & van           &   0           & 2.20          & Diesel        & yes           & 2016         \\\\\n",
       "\t  70000.00     & BMW           & sedan         &  16           & 3.00          & Diesel        & yes           & 2014         \\\\\n",
       "\t 169000.00     & Mercedes-Benz & other         &   1           & 4.70          & Petrol        & yes           & 2015         \\\\\n",
       "\t  51500.00     & Audi          & crossover     &  27           & 3.00          & Diesel        & yes           & 2013         \\\\\n",
       "\t  99999.00     & Toyota        & crossover     &   0           & 4.50          & Diesel        & yes           & 2016         \\\\\n",
       "\t 135000.00     & Toyota        & crossover     &   1           & 4.50          & Diesel        & yes           & 2011         \\\\\n",
       "\t 109999.00     & Mercedes-Benz & crossover     &   0           & 3.00          & Diesel        & yes           & 2016         \\\\\n",
       "\t  44999.00     & BMW           & crossover     &  87           & 3.00          & Diesel        & yes           & 2011         \\\\\n",
       "\t  61000.00     & Volkswagen    & crossover     &   2           & 3.00          & Diesel        & yes           & 2016         \\\\\n",
       "\t  55555.00     & Volkswagen    & van           &  50           & 2.00          & Diesel        & yes           & 2013         \\\\\n",
       "\t  66900.00     & BMW           & crossover     &  70           & 3.00          & Diesel        & yes           & 2014         \\\\\n",
       "\t 199999.00     & Mercedes-Benz & crossover     &   0           & 5.50          & Petrol        & yes           & 2016         \\\\\n",
       "\t  55500.00     & Volkswagen    & crossover     &  47           & 3.00          & Diesel        & yes           & 2016         \\\\\n",
       "\t  50499.00     & BMW           & sedan         & 128           & 3.00          & Diesel        & yes           & 2013         \\\\\n",
       "\t  44600.00     & Volkswagen    & crossover     &  60           & 3.00          & Diesel        & yes           & 2013         \\\\\n",
       "\t 195000.00     & Mercedes-Benz & crossover     &   2           & 5.50          & Petrol        & yes           & 2016         \\\\\n",
       "\t 115000.00     & Mercedes-Benz & sedan         &  47           & 4.60          & Petrol        & yes           & 2013         \\\\\n",
       "\t  67622.55     & Volkswagen    & crossover     &   0           & 3.00          & Diesel        & yes           & 2016         \\\\\n",
       "\t  64500.00     & BMW           & crossover     &   1           & 2.00          & Diesel        & yes           & 2016         \\\\\n",
       "\t ... & ... & ... & ... & ... & ... & ... & ...\\\\\n",
       "\t 295000        & Mercedes-Benz & sedan         &  29           & 6.00          & Petrol        & yes           & 2011         \\\\\n",
       "\t  55555        & Volkswagen    & van           &  53           & 2.00          & Diesel        & yes           & 2013         \\\\\n",
       "\t  46500        & Mercedes-Benz & crossover     & 127           & 5.00          & Petrol        & yes           & 2008         \\\\\n",
       "\t  63200        & Audi          & sedan         &   0           & 2.00          & Petrol        & yes           & 2016         \\\\\n",
       "\t  86999        & BMW           & crossover     &   0           & 3.00          & Diesel        & yes           & 2016         \\\\\n",
       "\t 103999        & Toyota        & crossover     &   0           & 4.50          & Diesel        & yes           & 2016         \\\\\n",
       "\t  61990        & Toyota        & crossover     &  68           & 4.50          & Diesel        & yes           & 2012         \\\\\n",
       "\t  47777        & BMW           & crossover     & 142           & 3.00          & Other         & yes           & 2011         \\\\\n",
       "\t  51500        & Toyota        & crossover     &  70           & 3.00          & Diesel        & yes           & 2015         \\\\\n",
       "\t  67431        & BMW           & crossover     &   0           & 2.00          & Diesel        & yes           & 2016         \\\\\n",
       "\t  62000        & BMW           & crossover     &   1           & 2.00          & Diesel        & yes           & 2016         \\\\\n",
       "\t  57000        & BMW           & crossover     &  47           & 3.00          & Diesel        & yes           & 2014         \\\\\n",
       "\t  62900        & BMW           & crossover     &   1           & 2.00          & Diesel        & yes           & 2016         \\\\\n",
       "\t  95000        & Audi          & other         &  30           & 5.20          & Petrol        & yes           & 2010         \\\\\n",
       "\t  48000        & Audi          & crossover     &  90           & 3.00          & Diesel        & yes           & 2013         \\\\\n",
       "\t  57000        & Mercedes-Benz & sedan         &  61           & 4.60          & Petrol        & yes           & 2012         \\\\\n",
       "\t  85000        & Mercedes-Benz & sedan         &  36           & 5.50          & Petrol        & yes           & 2014         \\\\\n",
       "\t  55000        & Audi          & crossover     &  65           & 2.99          & Diesel        & yes           & 2013         \\\\\n",
       "\t  48900        & Audi          & other         &  82           & 4.20          & Petrol        & yes           & 2007         \\\\\n",
       "\t  49900        & BMW           & other         &  82           & 3.00          & Petrol        & yes           & 2012         \\\\\n",
       "\t  55500        & BMW           & crossover     &  90           & 3.00          & Diesel        & yes           & 2013         \\\\\n",
       "\t  55000        & Mercedes-Benz & crossover     & 120           & 5.50          & Petrol        & yes           & 2008         \\\\\n",
       "\t 126000        & Mercedes-Benz & sedan         &  14           & 3.00          & Diesel        & yes           & 2015         \\\\\n",
       "\t 109999        & Mercedes-Benz & crossover     &   0           & 2.98          & Diesel        & yes           & 2016         \\\\\n",
       "\t 111999        & Mercedes-Benz & crossover     &   0           & 3.00          & Diesel        & yes           & 2016         \\\\\n",
       "\t 300000        & Mercedes-Benz & other         &  37           & 5.00          & Petrol        & yes           & 2012         \\\\\n",
       "\t 100000        & Toyota        & crossover     &   0           & 4.50          & Diesel        & yes           & 2016         \\\\\n",
       "\t  80999        & Audi          & crossover     &   0           & 3.00          & Diesel        & yes           & 2016         \\\\\n",
       "\t  45000        & BMW           & crossover     &  80           & 3.00          & Petrol        & yes           & 2011         \\\\\n",
       "\t 125000        & Mercedes-Benz & sedan         &   9           & 3.00          & Diesel        & yes           & 2014         \\\\\n",
       "\\end{tabular}\n"
      ],
      "text/markdown": [
       "\n",
       "| Price | Brand | Body | Mileage | EngineV | Engine.Type | Registration | Year |\n",
       "|---|---|---|---|---|---|---|---|\n",
       "| 199999.00     | Mercedes-Benz | crossover     |   0           | 5.50          | Petrol        | yes           | 2016          |\n",
       "|  67500.00     | BMW           | crossover     |   1           | 2.50          | Diesel        | yes           | 2016          |\n",
       "|  63000.00     | Mercedes-Benz | crossover     |  86           | 5.50          | Petrol        | yes           | 2009          |\n",
       "| 133000.00     | BMW           | crossover     |   7           | 4.40          | Petrol        | yes           | 2015          |\n",
       "|  50000.00     | Mercedes-Benz | sedan         | 240           | 3.50          | Petrol        | yes           | 2006          |\n",
       "|  69999.00     | Audi          | crossover     |  21           | 3.00          | Petrol        | yes           | 2015          |\n",
       "| 107999.00     | Mercedes-Benz | crossover     |   0           | 2.98          | Diesel        | yes           | 2016          |\n",
       "|  45500.00     | BMW           | crossover     |  76           | 4.40          | Petrol        | yes           | 2010          |\n",
       "|  47000.00     | BMW           | other         |   5           | 2.00          | Petrol        | yes           | 2014          |\n",
       "|  46800.00     | BMW           | sedan         |  33           | 2.00          | Diesel        | yes           | 2014          |\n",
       "| 195000.00     | Toyota        | crossover     |   0           | 4.50          | Diesel        | yes           | 2016          |\n",
       "|  87777.00     | Mercedes-Benz | van           |   0           | 2.20          | Diesel        | yes           | 2016          |\n",
       "|  70000.00     | BMW           | sedan         |  16           | 3.00          | Diesel        | yes           | 2014          |\n",
       "| 169000.00     | Mercedes-Benz | other         |   1           | 4.70          | Petrol        | yes           | 2015          |\n",
       "|  51500.00     | Audi          | crossover     |  27           | 3.00          | Diesel        | yes           | 2013          |\n",
       "|  99999.00     | Toyota        | crossover     |   0           | 4.50          | Diesel        | yes           | 2016          |\n",
       "| 135000.00     | Toyota        | crossover     |   1           | 4.50          | Diesel        | yes           | 2011          |\n",
       "| 109999.00     | Mercedes-Benz | crossover     |   0           | 3.00          | Diesel        | yes           | 2016          |\n",
       "|  44999.00     | BMW           | crossover     |  87           | 3.00          | Diesel        | yes           | 2011          |\n",
       "|  61000.00     | Volkswagen    | crossover     |   2           | 3.00          | Diesel        | yes           | 2016          |\n",
       "|  55555.00     | Volkswagen    | van           |  50           | 2.00          | Diesel        | yes           | 2013          |\n",
       "|  66900.00     | BMW           | crossover     |  70           | 3.00          | Diesel        | yes           | 2014          |\n",
       "| 199999.00     | Mercedes-Benz | crossover     |   0           | 5.50          | Petrol        | yes           | 2016          |\n",
       "|  55500.00     | Volkswagen    | crossover     |  47           | 3.00          | Diesel        | yes           | 2016          |\n",
       "|  50499.00     | BMW           | sedan         | 128           | 3.00          | Diesel        | yes           | 2013          |\n",
       "|  44600.00     | Volkswagen    | crossover     |  60           | 3.00          | Diesel        | yes           | 2013          |\n",
       "| 195000.00     | Mercedes-Benz | crossover     |   2           | 5.50          | Petrol        | yes           | 2016          |\n",
       "| 115000.00     | Mercedes-Benz | sedan         |  47           | 4.60          | Petrol        | yes           | 2013          |\n",
       "|  67622.55     | Volkswagen    | crossover     |   0           | 3.00          | Diesel        | yes           | 2016          |\n",
       "|  64500.00     | BMW           | crossover     |   1           | 2.00          | Diesel        | yes           | 2016          |\n",
       "| ... | ... | ... | ... | ... | ... | ... | ... |\n",
       "| 295000        | Mercedes-Benz | sedan         |  29           | 6.00          | Petrol        | yes           | 2011          |\n",
       "|  55555        | Volkswagen    | van           |  53           | 2.00          | Diesel        | yes           | 2013          |\n",
       "|  46500        | Mercedes-Benz | crossover     | 127           | 5.00          | Petrol        | yes           | 2008          |\n",
       "|  63200        | Audi          | sedan         |   0           | 2.00          | Petrol        | yes           | 2016          |\n",
       "|  86999        | BMW           | crossover     |   0           | 3.00          | Diesel        | yes           | 2016          |\n",
       "| 103999        | Toyota        | crossover     |   0           | 4.50          | Diesel        | yes           | 2016          |\n",
       "|  61990        | Toyota        | crossover     |  68           | 4.50          | Diesel        | yes           | 2012          |\n",
       "|  47777        | BMW           | crossover     | 142           | 3.00          | Other         | yes           | 2011          |\n",
       "|  51500        | Toyota        | crossover     |  70           | 3.00          | Diesel        | yes           | 2015          |\n",
       "|  67431        | BMW           | crossover     |   0           | 2.00          | Diesel        | yes           | 2016          |\n",
       "|  62000        | BMW           | crossover     |   1           | 2.00          | Diesel        | yes           | 2016          |\n",
       "|  57000        | BMW           | crossover     |  47           | 3.00          | Diesel        | yes           | 2014          |\n",
       "|  62900        | BMW           | crossover     |   1           | 2.00          | Diesel        | yes           | 2016          |\n",
       "|  95000        | Audi          | other         |  30           | 5.20          | Petrol        | yes           | 2010          |\n",
       "|  48000        | Audi          | crossover     |  90           | 3.00          | Diesel        | yes           | 2013          |\n",
       "|  57000        | Mercedes-Benz | sedan         |  61           | 4.60          | Petrol        | yes           | 2012          |\n",
       "|  85000        | Mercedes-Benz | sedan         |  36           | 5.50          | Petrol        | yes           | 2014          |\n",
       "|  55000        | Audi          | crossover     |  65           | 2.99          | Diesel        | yes           | 2013          |\n",
       "|  48900        | Audi          | other         |  82           | 4.20          | Petrol        | yes           | 2007          |\n",
       "|  49900        | BMW           | other         |  82           | 3.00          | Petrol        | yes           | 2012          |\n",
       "|  55500        | BMW           | crossover     |  90           | 3.00          | Diesel        | yes           | 2013          |\n",
       "|  55000        | Mercedes-Benz | crossover     | 120           | 5.50          | Petrol        | yes           | 2008          |\n",
       "| 126000        | Mercedes-Benz | sedan         |  14           | 3.00          | Diesel        | yes           | 2015          |\n",
       "| 109999        | Mercedes-Benz | crossover     |   0           | 2.98          | Diesel        | yes           | 2016          |\n",
       "| 111999        | Mercedes-Benz | crossover     |   0           | 3.00          | Diesel        | yes           | 2016          |\n",
       "| 300000        | Mercedes-Benz | other         |  37           | 5.00          | Petrol        | yes           | 2012          |\n",
       "| 100000        | Toyota        | crossover     |   0           | 4.50          | Diesel        | yes           | 2016          |\n",
       "|  80999        | Audi          | crossover     |   0           | 3.00          | Diesel        | yes           | 2016          |\n",
       "|  45000        | BMW           | crossover     |  80           | 3.00          | Petrol        | yes           | 2011          |\n",
       "| 125000        | Mercedes-Benz | sedan         |   9           | 3.00          | Diesel        | yes           | 2014          |\n",
       "\n"
      ],
      "text/plain": [
       "    Price     Brand         Body      Mileage EngineV Engine.Type Registration\n",
       "1   199999.00 Mercedes-Benz crossover   0     5.50    Petrol      yes         \n",
       "2    67500.00 BMW           crossover   1     2.50    Diesel      yes         \n",
       "3    63000.00 Mercedes-Benz crossover  86     5.50    Petrol      yes         \n",
       "4   133000.00 BMW           crossover   7     4.40    Petrol      yes         \n",
       "5    50000.00 Mercedes-Benz sedan     240     3.50    Petrol      yes         \n",
       "6    69999.00 Audi          crossover  21     3.00    Petrol      yes         \n",
       "7   107999.00 Mercedes-Benz crossover   0     2.98    Diesel      yes         \n",
       "8    45500.00 BMW           crossover  76     4.40    Petrol      yes         \n",
       "9    47000.00 BMW           other       5     2.00    Petrol      yes         \n",
       "10   46800.00 BMW           sedan      33     2.00    Diesel      yes         \n",
       "11  195000.00 Toyota        crossover   0     4.50    Diesel      yes         \n",
       "12   87777.00 Mercedes-Benz van         0     2.20    Diesel      yes         \n",
       "13   70000.00 BMW           sedan      16     3.00    Diesel      yes         \n",
       "14  169000.00 Mercedes-Benz other       1     4.70    Petrol      yes         \n",
       "15   51500.00 Audi          crossover  27     3.00    Diesel      yes         \n",
       "16   99999.00 Toyota        crossover   0     4.50    Diesel      yes         \n",
       "17  135000.00 Toyota        crossover   1     4.50    Diesel      yes         \n",
       "18  109999.00 Mercedes-Benz crossover   0     3.00    Diesel      yes         \n",
       "19   44999.00 BMW           crossover  87     3.00    Diesel      yes         \n",
       "20   61000.00 Volkswagen    crossover   2     3.00    Diesel      yes         \n",
       "21   55555.00 Volkswagen    van        50     2.00    Diesel      yes         \n",
       "22   66900.00 BMW           crossover  70     3.00    Diesel      yes         \n",
       "23  199999.00 Mercedes-Benz crossover   0     5.50    Petrol      yes         \n",
       "24   55500.00 Volkswagen    crossover  47     3.00    Diesel      yes         \n",
       "25   50499.00 BMW           sedan     128     3.00    Diesel      yes         \n",
       "26   44600.00 Volkswagen    crossover  60     3.00    Diesel      yes         \n",
       "27  195000.00 Mercedes-Benz crossover   2     5.50    Petrol      yes         \n",
       "28  115000.00 Mercedes-Benz sedan      47     4.60    Petrol      yes         \n",
       "29   67622.55 Volkswagen    crossover   0     3.00    Diesel      yes         \n",
       "30   64500.00 BMW           crossover   1     2.00    Diesel      yes         \n",
       "... ...       ...           ...       ...     ...     ...         ...         \n",
       "326 295000    Mercedes-Benz sedan      29     6.00    Petrol      yes         \n",
       "327  55555    Volkswagen    van        53     2.00    Diesel      yes         \n",
       "328  46500    Mercedes-Benz crossover 127     5.00    Petrol      yes         \n",
       "329  63200    Audi          sedan       0     2.00    Petrol      yes         \n",
       "330  86999    BMW           crossover   0     3.00    Diesel      yes         \n",
       "331 103999    Toyota        crossover   0     4.50    Diesel      yes         \n",
       "332  61990    Toyota        crossover  68     4.50    Diesel      yes         \n",
       "333  47777    BMW           crossover 142     3.00    Other       yes         \n",
       "334  51500    Toyota        crossover  70     3.00    Diesel      yes         \n",
       "335  67431    BMW           crossover   0     2.00    Diesel      yes         \n",
       "336  62000    BMW           crossover   1     2.00    Diesel      yes         \n",
       "337  57000    BMW           crossover  47     3.00    Diesel      yes         \n",
       "338  62900    BMW           crossover   1     2.00    Diesel      yes         \n",
       "339  95000    Audi          other      30     5.20    Petrol      yes         \n",
       "340  48000    Audi          crossover  90     3.00    Diesel      yes         \n",
       "341  57000    Mercedes-Benz sedan      61     4.60    Petrol      yes         \n",
       "342  85000    Mercedes-Benz sedan      36     5.50    Petrol      yes         \n",
       "343  55000    Audi          crossover  65     2.99    Diesel      yes         \n",
       "344  48900    Audi          other      82     4.20    Petrol      yes         \n",
       "345  49900    BMW           other      82     3.00    Petrol      yes         \n",
       "346  55500    BMW           crossover  90     3.00    Diesel      yes         \n",
       "347  55000    Mercedes-Benz crossover 120     5.50    Petrol      yes         \n",
       "348 126000    Mercedes-Benz sedan      14     3.00    Diesel      yes         \n",
       "349 109999    Mercedes-Benz crossover   0     2.98    Diesel      yes         \n",
       "350 111999    Mercedes-Benz crossover   0     3.00    Diesel      yes         \n",
       "351 300000    Mercedes-Benz other      37     5.00    Petrol      yes         \n",
       "352 100000    Toyota        crossover   0     4.50    Diesel      yes         \n",
       "353  80999    Audi          crossover   0     3.00    Diesel      yes         \n",
       "354  45000    BMW           crossover  80     3.00    Petrol      yes         \n",
       "355 125000    Mercedes-Benz sedan       9     3.00    Diesel      yes         \n",
       "    Year\n",
       "1   2016\n",
       "2   2016\n",
       "3   2009\n",
       "4   2015\n",
       "5   2006\n",
       "6   2015\n",
       "7   2016\n",
       "8   2010\n",
       "9   2014\n",
       "10  2014\n",
       "11  2016\n",
       "12  2016\n",
       "13  2014\n",
       "14  2015\n",
       "15  2013\n",
       "16  2016\n",
       "17  2011\n",
       "18  2016\n",
       "19  2011\n",
       "20  2016\n",
       "21  2013\n",
       "22  2014\n",
       "23  2016\n",
       "24  2016\n",
       "25  2013\n",
       "26  2013\n",
       "27  2016\n",
       "28  2013\n",
       "29  2016\n",
       "30  2016\n",
       "... ... \n",
       "326 2011\n",
       "327 2013\n",
       "328 2008\n",
       "329 2016\n",
       "330 2016\n",
       "331 2016\n",
       "332 2012\n",
       "333 2011\n",
       "334 2015\n",
       "335 2016\n",
       "336 2016\n",
       "337 2014\n",
       "338 2016\n",
       "339 2010\n",
       "340 2013\n",
       "341 2012\n",
       "342 2014\n",
       "343 2013\n",
       "344 2007\n",
       "345 2012\n",
       "346 2013\n",
       "347 2008\n",
       "348 2015\n",
       "349 2016\n",
       "350 2016\n",
       "351 2012\n",
       "352 2016\n",
       "353 2016\n",
       "354 2011\n",
       "355 2014"
      ]
     },
     "metadata": {},
     "output_type": "display_data"
    }
   ],
   "source": [
    "## FILTERING DATA WHERE PRICE ABOVE THE MAXIMUM PRICE\n",
    "filter(data,Price>max_price)"
   ]
  },
  {
   "cell_type": "code",
   "execution_count": 18,
   "metadata": {},
   "outputs": [],
   "source": [
    "## ASSGINING VALUES TO FIND QUANTILES\n",
    "quantile_range = seq(0.75,0.99,by=0.01)"
   ]
  },
  {
   "cell_type": "code",
   "execution_count": 19,
   "metadata": {},
   "outputs": [
    {
     "data": {
      "text/html": [
       "<ol class=list-inline>\n",
       "\t<li>0.75</li>\n",
       "\t<li>0.76</li>\n",
       "\t<li>0.77</li>\n",
       "\t<li>0.78</li>\n",
       "\t<li>0.79</li>\n",
       "\t<li>0.8</li>\n",
       "\t<li>0.81</li>\n",
       "\t<li>0.82</li>\n",
       "\t<li>0.83</li>\n",
       "\t<li>0.84</li>\n",
       "\t<li>0.85</li>\n",
       "\t<li>0.86</li>\n",
       "\t<li>0.87</li>\n",
       "\t<li>0.88</li>\n",
       "\t<li>0.89</li>\n",
       "\t<li>0.9</li>\n",
       "\t<li>0.91</li>\n",
       "\t<li>0.92</li>\n",
       "\t<li>0.93</li>\n",
       "\t<li>0.94</li>\n",
       "\t<li>0.95</li>\n",
       "\t<li>0.96</li>\n",
       "\t<li>0.97</li>\n",
       "\t<li>0.98</li>\n",
       "\t<li>0.99</li>\n",
       "</ol>\n"
      ],
      "text/latex": [
       "\\begin{enumerate*}\n",
       "\\item 0.75\n",
       "\\item 0.76\n",
       "\\item 0.77\n",
       "\\item 0.78\n",
       "\\item 0.79\n",
       "\\item 0.8\n",
       "\\item 0.81\n",
       "\\item 0.82\n",
       "\\item 0.83\n",
       "\\item 0.84\n",
       "\\item 0.85\n",
       "\\item 0.86\n",
       "\\item 0.87\n",
       "\\item 0.88\n",
       "\\item 0.89\n",
       "\\item 0.9\n",
       "\\item 0.91\n",
       "\\item 0.92\n",
       "\\item 0.93\n",
       "\\item 0.94\n",
       "\\item 0.95\n",
       "\\item 0.96\n",
       "\\item 0.97\n",
       "\\item 0.98\n",
       "\\item 0.99\n",
       "\\end{enumerate*}\n"
      ],
      "text/markdown": [
       "1. 0.75\n",
       "2. 0.76\n",
       "3. 0.77\n",
       "4. 0.78\n",
       "5. 0.79\n",
       "6. 0.8\n",
       "7. 0.81\n",
       "8. 0.82\n",
       "9. 0.83\n",
       "10. 0.84\n",
       "11. 0.85\n",
       "12. 0.86\n",
       "13. 0.87\n",
       "14. 0.88\n",
       "15. 0.89\n",
       "16. 0.9\n",
       "17. 0.91\n",
       "18. 0.92\n",
       "19. 0.93\n",
       "20. 0.94\n",
       "21. 0.95\n",
       "22. 0.96\n",
       "23. 0.97\n",
       "24. 0.98\n",
       "25. 0.99\n",
       "\n",
       "\n"
      ],
      "text/plain": [
       " [1] 0.75 0.76 0.77 0.78 0.79 0.80 0.81 0.82 0.83 0.84 0.85 0.86 0.87 0.88 0.89\n",
       "[16] 0.90 0.91 0.92 0.93 0.94 0.95 0.96 0.97 0.98 0.99"
      ]
     },
     "metadata": {},
     "output_type": "display_data"
    }
   ],
   "source": [
    "quantile_range"
   ]
  },
  {
   "cell_type": "code",
   "execution_count": 20,
   "metadata": {},
   "outputs": [
    {
     "data": {
      "text/html": [
       "<dl class=dl-horizontal>\n",
       "\t<dt>75%</dt>\n",
       "\t\t<dd>21900</dd>\n",
       "\t<dt>76%</dt>\n",
       "\t\t<dd>22500</dd>\n",
       "\t<dt>77%</dt>\n",
       "\t\t<dd>23200</dd>\n",
       "\t<dt>78%</dt>\n",
       "\t\t<dd>23999</dd>\n",
       "\t<dt>79%</dt>\n",
       "\t\t<dd>24798</dd>\n",
       "\t<dt>80%</dt>\n",
       "\t\t<dd>25500</dd>\n",
       "\t<dt>81%</dt>\n",
       "\t\t<dd>26999.44</dd>\n",
       "\t<dt>82%</dt>\n",
       "\t\t<dd>28500</dd>\n",
       "\t<dt>83%</dt>\n",
       "\t\t<dd>29000</dd>\n",
       "\t<dt>84%</dt>\n",
       "\t\t<dd>30500</dd>\n",
       "\t<dt>85%</dt>\n",
       "\t\t<dd>32000</dd>\n",
       "\t<dt>86%</dt>\n",
       "\t\t<dd>33709.92</dd>\n",
       "\t<dt>87%</dt>\n",
       "\t\t<dd>35280.5948</dd>\n",
       "\t<dt>88%</dt>\n",
       "\t\t<dd>37000</dd>\n",
       "\t<dt>89%</dt>\n",
       "\t\t<dd>39000</dd>\n",
       "\t<dt>90%</dt>\n",
       "\t\t<dd>40996</dd>\n",
       "\t<dt>91%</dt>\n",
       "\t\t<dd>43983.16</dd>\n",
       "\t<dt>92%</dt>\n",
       "\t\t<dd>47316.0000000001</dd>\n",
       "\t<dt>93%</dt>\n",
       "\t\t<dd>51500</dd>\n",
       "\t<dt>94%</dt>\n",
       "\t\t<dd>56500</dd>\n",
       "\t<dt>95%</dt>\n",
       "\t\t<dd>64819.9999999999</dd>\n",
       "\t<dt>96%</dt>\n",
       "\t\t<dd>70000</dd>\n",
       "\t<dt>97%</dt>\n",
       "\t\t<dd>81639.7199999999</dd>\n",
       "\t<dt>98%</dt>\n",
       "\t\t<dd>103999</dd>\n",
       "\t<dt>99%</dt>\n",
       "\t\t<dd>129812.52</dd>\n",
       "</dl>\n"
      ],
      "text/latex": [
       "\\begin{description*}\n",
       "\\item[75\\textbackslash{}\\%] 21900\n",
       "\\item[76\\textbackslash{}\\%] 22500\n",
       "\\item[77\\textbackslash{}\\%] 23200\n",
       "\\item[78\\textbackslash{}\\%] 23999\n",
       "\\item[79\\textbackslash{}\\%] 24798\n",
       "\\item[80\\textbackslash{}\\%] 25500\n",
       "\\item[81\\textbackslash{}\\%] 26999.44\n",
       "\\item[82\\textbackslash{}\\%] 28500\n",
       "\\item[83\\textbackslash{}\\%] 29000\n",
       "\\item[84\\textbackslash{}\\%] 30500\n",
       "\\item[85\\textbackslash{}\\%] 32000\n",
       "\\item[86\\textbackslash{}\\%] 33709.92\n",
       "\\item[87\\textbackslash{}\\%] 35280.5948\n",
       "\\item[88\\textbackslash{}\\%] 37000\n",
       "\\item[89\\textbackslash{}\\%] 39000\n",
       "\\item[90\\textbackslash{}\\%] 40996\n",
       "\\item[91\\textbackslash{}\\%] 43983.16\n",
       "\\item[92\\textbackslash{}\\%] 47316.0000000001\n",
       "\\item[93\\textbackslash{}\\%] 51500\n",
       "\\item[94\\textbackslash{}\\%] 56500\n",
       "\\item[95\\textbackslash{}\\%] 64819.9999999999\n",
       "\\item[96\\textbackslash{}\\%] 70000\n",
       "\\item[97\\textbackslash{}\\%] 81639.7199999999\n",
       "\\item[98\\textbackslash{}\\%] 103999\n",
       "\\item[99\\textbackslash{}\\%] 129812.52\n",
       "\\end{description*}\n"
      ],
      "text/markdown": [
       "75%\n",
       ":   2190076%\n",
       ":   2250077%\n",
       ":   2320078%\n",
       ":   2399979%\n",
       ":   2479880%\n",
       ":   2550081%\n",
       ":   26999.4482%\n",
       ":   2850083%\n",
       ":   2900084%\n",
       ":   3050085%\n",
       ":   3200086%\n",
       ":   33709.9287%\n",
       ":   35280.594888%\n",
       ":   3700089%\n",
       ":   3900090%\n",
       ":   4099691%\n",
       ":   43983.1692%\n",
       ":   47316.000000000193%\n",
       ":   5150094%\n",
       ":   5650095%\n",
       ":   64819.999999999996%\n",
       ":   7000097%\n",
       ":   81639.719999999998%\n",
       ":   10399999%\n",
       ":   129812.52\n",
       "\n"
      ],
      "text/plain": [
       "      75%       76%       77%       78%       79%       80%       81%       82% \n",
       " 21900.00  22500.00  23200.00  23999.00  24798.00  25500.00  26999.44  28500.00 \n",
       "      83%       84%       85%       86%       87%       88%       89%       90% \n",
       " 29000.00  30500.00  32000.00  33709.92  35280.59  37000.00  39000.00  40996.00 \n",
       "      91%       92%       93%       94%       95%       96%       97%       98% \n",
       " 43983.16  47316.00  51500.00  56500.00  64820.00  70000.00  81639.72 103999.00 \n",
       "      99% \n",
       "129812.52 "
      ]
     },
     "metadata": {},
     "output_type": "display_data"
    }
   ],
   "source": [
    "## USING QUANTILE FUNCTION CALLING QUANTILES FROM 75TH TO 99TH \n",
    "quantile(data$Price,probs=quantile_range)"
   ]
  },
  {
   "cell_type": "markdown",
   "metadata": {},
   "source": [
    "##### Here we already know the max price value 44251.5. So the outliers will be filled with quantile of value less than max value. \n",
    "Quantile 90 = 40996 is used to fill outliers "
   ]
  },
  {
   "cell_type": "code",
   "execution_count": 21,
   "metadata": {},
   "outputs": [],
   "source": [
    "## USING FOR LOOPS CHANGING VALUES\n",
    "for (i in 1:4025)\n",
    "{\n",
    "    if (data$Price[i]>max_price){\n",
    "        data$Price[i]=quantile(data$Price,probs=0.90)}\n",
    "}"
   ]
  },
  {
   "cell_type": "code",
   "execution_count": 22,
   "metadata": {},
   "outputs": [
    {
     "data": {
      "text/html": [
       "<table>\n",
       "<thead><tr><th scope=col>Price</th><th scope=col>Brand</th><th scope=col>Body</th><th scope=col>Mileage</th><th scope=col>EngineV</th><th scope=col>Engine.Type</th><th scope=col>Registration</th><th scope=col>Year</th></tr></thead>\n",
       "<tbody>\n",
       "</tbody>\n",
       "</table>\n"
      ],
      "text/latex": [
       "\\begin{tabular}{r|llllllll}\n",
       " Price & Brand & Body & Mileage & EngineV & Engine.Type & Registration & Year\\\\\n",
       "\\hline\n",
       "\\end{tabular}\n"
      ],
      "text/markdown": [
       "\n",
       "| Price | Brand | Body | Mileage | EngineV | Engine.Type | Registration | Year |\n",
       "|---|---|---|---|---|---|---|---|\n",
       "\n"
      ],
      "text/plain": [
       "     Price Brand Body Mileage EngineV Engine.Type Registration Year"
      ]
     },
     "metadata": {},
     "output_type": "display_data"
    }
   ],
   "source": [
    "filter(data,Price>max_price)"
   ]
  },
  {
   "cell_type": "code",
   "execution_count": 23,
   "metadata": {},
   "outputs": [
    {
     "data": {
      "image/png": "[encoded data removed]",
      "text/plain": [
       "plot without title"
      ]
     },
     "metadata": {},
     "output_type": "display_data"
    }
   ],
   "source": [
    "## BOXPLOT FOR PRICE TO CHECK FOR OUTLIERS\n",
    "ggplot(data=data,aes(y=Price))+ geom_boxplot()"
   ]
  },
  {
   "cell_type": "markdown",
   "metadata": {},
   "source": [
    "##### II. MILEAGE"
   ]
  },
  {
   "cell_type": "code",
   "execution_count": 24,
   "metadata": {},
   "outputs": [
    {
     "data": {
      "image/png": "[encoded data removed]",
      "text/plain": [
       "plot without title"
      ]
     },
     "metadata": {},
     "output_type": "display_data"
    }
   ],
   "source": [
    "## CHECKING FOR OUTLIERS WITH BOXPLOT\n",
    "ggplot(data=data,aes(y=Mileage))+ geom_boxplot()"
   ]
  },
  {
   "cell_type": "code",
   "execution_count": 25,
   "metadata": {},
   "outputs": [],
   "source": [
    "## FINDING INTER QUARTILE RANGE TO CALCULATE MAXIMUM VALUE OF DISTRIBUTION USING \"IQR\" FUNCTION\n",
    "iqr_mileage= IQR(data$Mileage)"
   ]
  },
  {
   "cell_type": "code",
   "execution_count": 26,
   "metadata": {},
   "outputs": [
    {
     "data": {
      "text/html": [
       "140"
      ],
      "text/latex": [
       "140"
      ],
      "text/markdown": [
       "140"
      ],
      "text/plain": [
       "[1] 140"
      ]
     },
     "metadata": {},
     "output_type": "display_data"
    }
   ],
   "source": [
    "iqr_mileage"
   ]
  },
  {
   "cell_type": "code",
   "execution_count": 27,
   "metadata": {},
   "outputs": [
    {
     "data": {
      "text/html": [
       "<strong>75%:</strong> 230"
      ],
      "text/latex": [
       "\\textbf{75\\textbackslash{}\\%:} 230"
      ],
      "text/markdown": [
       "**75%:** 230"
      ],
      "text/plain": [
       "75% \n",
       "230 "
      ]
     },
     "metadata": {},
     "output_type": "display_data"
    }
   ],
   "source": [
    "## WITH \"PROBS\" ATTIBUTE WE CAN SPECIFY THE PARTICULAR QUANTILE NEEDED (IT SHOULD BE BETWEEN 0 AND 1)\n",
    "quantile(data$Mileage,probs=0.75)"
   ]
  },
  {
   "cell_type": "code",
   "execution_count": 28,
   "metadata": {},
   "outputs": [],
   "source": [
    "## MAX VALUE OF PRICE IS CALCULATED USING FORMULA \"Q3 + (1.5*IQR)\"\n",
    "max_mileage = quantile(data$Mileage,probs=0.75)+ (1.5*iqr_mileage)"
   ]
  },
  {
   "cell_type": "code",
   "execution_count": 29,
   "metadata": {},
   "outputs": [
    {
     "data": {
      "text/html": [
       "<strong>75%:</strong> 440"
      ],
      "text/latex": [
       "\\textbf{75\\textbackslash{}\\%:} 440"
      ],
      "text/markdown": [
       "**75%:** 440"
      ],
      "text/plain": [
       "75% \n",
       "440 "
      ]
     },
     "metadata": {},
     "output_type": "display_data"
    }
   ],
   "source": [
    "max_mileage"
   ]
  },
  {
   "cell_type": "code",
   "execution_count": 30,
   "metadata": {},
   "outputs": [
    {
     "data": {
      "text/html": [
       "<table>\n",
       "<thead><tr><th scope=col>Price</th><th scope=col>Brand</th><th scope=col>Body</th><th scope=col>Mileage</th><th scope=col>EngineV</th><th scope=col>Engine.Type</th><th scope=col>Registration</th><th scope=col>Year</th></tr></thead>\n",
       "<tbody>\n",
       "\t<tr><td> 4200        </td><td>BMW          </td><td>sedan        </td><td>277          </td><td>2.00         </td><td>Petrol       </td><td>yes          </td><td>1991         </td></tr>\n",
       "\t<tr><td> 7900        </td><td>Mercedes-Benz</td><td>van          </td><td>427          </td><td>2.90         </td><td>Diesel       </td><td>yes          </td><td>1999         </td></tr>\n",
       "\t<tr><td>13300        </td><td>Mercedes-Benz</td><td>sedan        </td><td>358          </td><td>5.00         </td><td>Gas          </td><td>yes          </td><td>2003         </td></tr>\n",
       "\t<tr><td>23000        </td><td>Audi         </td><td>crossover    </td><td>240          </td><td>4.20         </td><td>Petrol       </td><td>yes          </td><td>2007         </td></tr>\n",
       "\t<tr><td>18300        </td><td>Toyota       </td><td>crossover    </td><td>120          </td><td>2.00         </td><td>Petrol       </td><td>yes          </td><td>2011         </td></tr>\n",
       "\t<tr><td>40996        </td><td>Mercedes-Benz</td><td>crossover    </td><td>  0          </td><td>5.50         </td><td>Petrol       </td><td>yes          </td><td>2016         </td></tr>\n",
       "\t<tr><td> 6100        </td><td>BMW          </td><td>sedan        </td><td>438          </td><td>2.00         </td><td>Gas          </td><td>yes          </td><td>1997         </td></tr>\n",
       "\t<tr><td>14200        </td><td>Audi         </td><td>vagon        </td><td>200          </td><td>2.70         </td><td>Diesel       </td><td>yes          </td><td>2006         </td></tr>\n",
       "\t<tr><td>10799        </td><td>Renault      </td><td>vagon        </td><td>193          </td><td>1.50         </td><td>Diesel       </td><td>yes          </td><td>2012         </td></tr>\n",
       "\t<tr><td> 1400        </td><td>Volkswagen   </td><td>other        </td><td>212          </td><td>1.80         </td><td>Gas          </td><td>no           </td><td>1999         </td></tr>\n",
       "\t<tr><td>11950        </td><td>Renault      </td><td>vagon        </td><td>177          </td><td>1.50         </td><td>Diesel       </td><td>yes          </td><td>2011         </td></tr>\n",
       "\t<tr><td> 2500        </td><td>Renault      </td><td>sedan        </td><td>260          </td><td>1.79         </td><td>Petrol       </td><td>yes          </td><td>1994         </td></tr>\n",
       "\t<tr><td> 9500        </td><td>Audi         </td><td>vagon        </td><td>165          </td><td>2.70         </td><td>Gas          </td><td>yes          </td><td>2003         </td></tr>\n",
       "\t<tr><td>10500        </td><td>Volkswagen   </td><td>sedan        </td><td>100          </td><td>1.80         </td><td>Petrol       </td><td>yes          </td><td>2008         </td></tr>\n",
       "\t<tr><td>16000        </td><td>Toyota       </td><td>crossover    </td><td>250          </td><td>4.70         </td><td>Gas          </td><td>yes          </td><td>2001         </td></tr>\n",
       "\t<tr><td> 8600        </td><td>Renault      </td><td>hatch        </td><td> 84          </td><td>1.50         </td><td>Diesel       </td><td>yes          </td><td>2012         </td></tr>\n",
       "\t<tr><td> 2990        </td><td>BMW          </td><td>other        </td><td>203          </td><td>2.00         </td><td>Petrol       </td><td>no           </td><td>2001         </td></tr>\n",
       "\t<tr><td>26500        </td><td>Toyota       </td><td>crossover    </td><td> 21          </td><td>2.00         </td><td>Petrol       </td><td>yes          </td><td>2013         </td></tr>\n",
       "\t<tr><td> 3500        </td><td>Audi         </td><td>vagon        </td><td>250          </td><td>2.50         </td><td>Diesel       </td><td>no           </td><td>1998         </td></tr>\n",
       "\t<tr><td>38233        </td><td>Toyota       </td><td>other        </td><td>  0          </td><td>2.40         </td><td>Diesel       </td><td>yes          </td><td>2016         </td></tr>\n",
       "\t<tr><td> 7500        </td><td>Volkswagen   </td><td>hatch        </td><td>132          </td><td>1.40         </td><td>Diesel       </td><td>yes          </td><td>2006         </td></tr>\n",
       "\t<tr><td> 6800        </td><td>Audi         </td><td>sedan        </td><td>225          </td><td>2.40         </td><td>Gas          </td><td>yes          </td><td>1998         </td></tr>\n",
       "\t<tr><td>10500        </td><td>Mitsubishi   </td><td>crossover    </td><td>130          </td><td>2.40         </td><td>Gas          </td><td>yes          </td><td>2006         </td></tr>\n",
       "\t<tr><td>24900        </td><td>Audi         </td><td>sedan        </td><td>163          </td><td>4.20         </td><td>Diesel       </td><td>yes          </td><td>2008         </td></tr>\n",
       "\t<tr><td>20800        </td><td>Volkswagen   </td><td>crossover    </td><td>151          </td><td>3.00         </td><td>Diesel       </td><td>yes          </td><td>2008         </td></tr>\n",
       "\t<tr><td> 6500        </td><td>Audi         </td><td>sedan        </td><td>330          </td><td>2.40         </td><td>Petrol       </td><td>yes          </td><td>1999         </td></tr>\n",
       "\t<tr><td>13566        </td><td>Mercedes-Benz</td><td>other        </td><td>171          </td><td>2.20         </td><td>Other        </td><td>no           </td><td>2011         </td></tr>\n",
       "\t<tr><td> 8500        </td><td>Mitsubishi   </td><td>hatch        </td><td> 65          </td><td>1.30         </td><td>Petrol       </td><td>yes          </td><td>2010         </td></tr>\n",
       "\t<tr><td> 2900        </td><td>Audi         </td><td>sedan        </td><td>  1          </td><td>2.30         </td><td>Gas          </td><td>yes          </td><td>1989         </td></tr>\n",
       "\t<tr><td>21500        </td><td>BMW          </td><td>other        </td><td> 72          </td><td>3.00         </td><td>Petrol       </td><td>yes          </td><td>2007         </td></tr>\n",
       "\t<tr><td>...</td><td>...</td><td>...</td><td>...</td><td>...</td><td>...</td><td>...</td><td>...</td></tr>\n",
       "\t<tr><td>25500        </td><td>Mercedes-Benz</td><td>crossover    </td><td> 77          </td><td>3.5          </td><td>Petrol       </td><td>yes          </td><td>2008         </td></tr>\n",
       "\t<tr><td>15500        </td><td>Volkswagen   </td><td>sedan        </td><td> 80          </td><td>1.4          </td><td>Petrol       </td><td>yes          </td><td>2013         </td></tr>\n",
       "\t<tr><td> 9750        </td><td>Volkswagen   </td><td>van          </td><td>159          </td><td>1.9          </td><td>Diesel       </td><td>yes          </td><td>2009         </td></tr>\n",
       "\t<tr><td>16100        </td><td>BMW          </td><td>crossover    </td><td>194          </td><td>3.0          </td><td>Diesel       </td><td>yes          </td><td>2004         </td></tr>\n",
       "\t<tr><td>40990        </td><td>Mercedes-Benz</td><td>other        </td><td> 37          </td><td>5.0          </td><td>Petrol       </td><td>yes          </td><td>2012         </td></tr>\n",
       "\t<tr><td> 5500        </td><td>Mercedes-Benz</td><td>sedan        </td><td>440          </td><td>2.0          </td><td>Petrol       </td><td>yes          </td><td>1978         </td></tr>\n",
       "\t<tr><td> 9200        </td><td>Volkswagen   </td><td>vagon        </td><td>171          </td><td>1.6          </td><td>Petrol       </td><td>yes          </td><td>2008         </td></tr>\n",
       "\t<tr><td> 5150        </td><td>Volkswagen   </td><td>van          </td><td>240          </td><td>2.0          </td><td>Diesel       </td><td>yes          </td><td>2005         </td></tr>\n",
       "\t<tr><td>40990        </td><td>Toyota       </td><td>crossover    </td><td>  0          </td><td>4.5          </td><td>Diesel       </td><td>yes          </td><td>2016         </td></tr>\n",
       "\t<tr><td> 8999        </td><td>Renault      </td><td>other        </td><td>126          </td><td>2.0          </td><td>Diesel       </td><td>yes          </td><td>2012         </td></tr>\n",
       "\t<tr><td>16800        </td><td>Mercedes-Benz</td><td>sedan        </td><td>125          </td><td>1.8          </td><td>Petrol       </td><td>yes          </td><td>2008         </td></tr>\n",
       "\t<tr><td> 8200        </td><td>Mercedes-Benz</td><td>sedan        </td><td>280          </td><td>2.4          </td><td>Gas          </td><td>yes          </td><td>1997         </td></tr>\n",
       "\t<tr><td>24950        </td><td>Mercedes-Benz</td><td>other        </td><td> 60          </td><td>1.8          </td><td>Petrol       </td><td>yes          </td><td>2013         </td></tr>\n",
       "\t<tr><td>40990        </td><td>Audi         </td><td>crossover    </td><td>  0          </td><td>3.0          </td><td>Diesel       </td><td>yes          </td><td>2016         </td></tr>\n",
       "\t<tr><td> 7300        </td><td>Mercedes-Benz</td><td>van          </td><td>207          </td><td>2.2          </td><td>Diesel       </td><td>yes          </td><td>2003         </td></tr>\n",
       "\t<tr><td> 2200        </td><td>Volkswagen   </td><td>hatch        </td><td>400          </td><td>1.3          </td><td>Other        </td><td>yes          </td><td>1987         </td></tr>\n",
       "\t<tr><td>21335        </td><td>BMW          </td><td>other        </td><td>105          </td><td>3.0          </td><td>Petrol       </td><td>yes          </td><td>2008         </td></tr>\n",
       "\t<tr><td>40990        </td><td>BMW          </td><td>crossover    </td><td> 80          </td><td>3.0          </td><td>Petrol       </td><td>yes          </td><td>2011         </td></tr>\n",
       "\t<tr><td> 6750        </td><td>Renault      </td><td>van          </td><td>155          </td><td>1.5          </td><td>Diesel       </td><td>yes          </td><td>2012         </td></tr>\n",
       "\t<tr><td> 7000        </td><td>Renault      </td><td>van          </td><td>210          </td><td>1.5          </td><td>Diesel       </td><td>yes          </td><td>2005         </td></tr>\n",
       "\t<tr><td>12090        </td><td>BMW          </td><td>hatch        </td><td>145          </td><td>1.6          </td><td>Petrol       </td><td>yes          </td><td>2010         </td></tr>\n",
       "\t<tr><td>27900        </td><td>BMW          </td><td>sedan        </td><td> 38          </td><td>2.0          </td><td>Petrol       </td><td>yes          </td><td>2013         </td></tr>\n",
       "\t<tr><td> 2100        </td><td>Renault      </td><td>vagon        </td><td>237          </td><td>1.9          </td><td>Diesel       </td><td>no           </td><td>2001         </td></tr>\n",
       "\t<tr><td> 6800        </td><td>Renault      </td><td>sedan        </td><td>152          </td><td>1.6          </td><td>Petrol       </td><td>yes          </td><td>2007         </td></tr>\n",
       "\t<tr><td>11500        </td><td>Volkswagen   </td><td>van          </td><td>163          </td><td>2.5          </td><td>Diesel       </td><td>yes          </td><td>2008         </td></tr>\n",
       "\t<tr><td>17900        </td><td>Toyota       </td><td>sedan        </td><td> 35          </td><td>1.6          </td><td>Petrol       </td><td>yes          </td><td>2014         </td></tr>\n",
       "\t<tr><td>40990        </td><td>Mercedes-Benz</td><td>sedan        </td><td>  9          </td><td>3.0          </td><td>Diesel       </td><td>yes          </td><td>2014         </td></tr>\n",
       "\t<tr><td> 6500        </td><td>BMW          </td><td>sedan        </td><td>  1          </td><td>3.5          </td><td>Petrol       </td><td>yes          </td><td>1999         </td></tr>\n",
       "\t<tr><td> 8000        </td><td>BMW          </td><td>sedan        </td><td>194          </td><td>2.0          </td><td>Petrol       </td><td>yes          </td><td>1985         </td></tr>\n",
       "\t<tr><td>13500        </td><td>Volkswagen   </td><td>van          </td><td>124          </td><td>2.0          </td><td>Diesel       </td><td>yes          </td><td>2013         </td></tr>\n",
       "</tbody>\n",
       "</table>\n"
      ],
      "text/latex": [
       "\\begin{tabular}{r|llllllll}\n",
       " Price & Brand & Body & Mileage & EngineV & Engine.Type & Registration & Year\\\\\n",
       "\\hline\n",
       "\t  4200         & BMW           & sedan         & 277           & 2.00          & Petrol        & yes           & 1991         \\\\\n",
       "\t  7900         & Mercedes-Benz & van           & 427           & 2.90          & Diesel        & yes           & 1999         \\\\\n",
       "\t 13300         & Mercedes-Benz & sedan         & 358           & 5.00          & Gas           & yes           & 2003         \\\\\n",
       "\t 23000         & Audi          & crossover     & 240           & 4.20          & Petrol        & yes           & 2007         \\\\\n",
       "\t 18300         & Toyota        & crossover     & 120           & 2.00          & Petrol        & yes           & 2011         \\\\\n",
       "\t 40996         & Mercedes-Benz & crossover     &   0           & 5.50          & Petrol        & yes           & 2016         \\\\\n",
       "\t  6100         & BMW           & sedan         & 438           & 2.00          & Gas           & yes           & 1997         \\\\\n",
       "\t 14200         & Audi          & vagon         & 200           & 2.70          & Diesel        & yes           & 2006         \\\\\n",
       "\t 10799         & Renault       & vagon         & 193           & 1.50          & Diesel        & yes           & 2012         \\\\\n",
       "\t  1400         & Volkswagen    & other         & 212           & 1.80          & Gas           & no            & 1999         \\\\\n",
       "\t 11950         & Renault       & vagon         & 177           & 1.50          & Diesel        & yes           & 2011         \\\\\n",
       "\t  2500         & Renault       & sedan         & 260           & 1.79          & Petrol        & yes           & 1994         \\\\\n",
       "\t  9500         & Audi          & vagon         & 165           & 2.70          & Gas           & yes           & 2003         \\\\\n",
       "\t 10500         & Volkswagen    & sedan         & 100           & 1.80          & Petrol        & yes           & 2008         \\\\\n",
       "\t 16000         & Toyota        & crossover     & 250           & 4.70          & Gas           & yes           & 2001         \\\\\n",
       "\t  8600         & Renault       & hatch         &  84           & 1.50          & Diesel        & yes           & 2012         \\\\\n",
       "\t  2990         & BMW           & other         & 203           & 2.00          & Petrol        & no            & 2001         \\\\\n",
       "\t 26500         & Toyota        & crossover     &  21           & 2.00          & Petrol        & yes           & 2013         \\\\\n",
       "\t  3500         & Audi          & vagon         & 250           & 2.50          & Diesel        & no            & 1998         \\\\\n",
       "\t 38233         & Toyota        & other         &   0           & 2.40          & Diesel        & yes           & 2016         \\\\\n",
       "\t  7500         & Volkswagen    & hatch         & 132           & 1.40          & Diesel        & yes           & 2006         \\\\\n",
       "\t  6800         & Audi          & sedan         & 225           & 2.40          & Gas           & yes           & 1998         \\\\\n",
       "\t 10500         & Mitsubishi    & crossover     & 130           & 2.40          & Gas           & yes           & 2006         \\\\\n",
       "\t 24900         & Audi          & sedan         & 163           & 4.20          & Diesel        & yes           & 2008         \\\\\n",
       "\t 20800         & Volkswagen    & crossover     & 151           & 3.00          & Diesel        & yes           & 2008         \\\\\n",
       "\t  6500         & Audi          & sedan         & 330           & 2.40          & Petrol        & yes           & 1999         \\\\\n",
       "\t 13566         & Mercedes-Benz & other         & 171           & 2.20          & Other         & no            & 2011         \\\\\n",
       "\t  8500         & Mitsubishi    & hatch         &  65           & 1.30          & Petrol        & yes           & 2010         \\\\\n",
       "\t  2900         & Audi          & sedan         &   1           & 2.30          & Gas           & yes           & 1989         \\\\\n",
       "\t 21500         & BMW           & other         &  72           & 3.00          & Petrol        & yes           & 2007         \\\\\n",
       "\t ... & ... & ... & ... & ... & ... & ... & ...\\\\\n",
       "\t 25500         & Mercedes-Benz & crossover     &  77           & 3.5           & Petrol        & yes           & 2008         \\\\\n",
       "\t 15500         & Volkswagen    & sedan         &  80           & 1.4           & Petrol        & yes           & 2013         \\\\\n",
       "\t  9750         & Volkswagen    & van           & 159           & 1.9           & Diesel        & yes           & 2009         \\\\\n",
       "\t 16100         & BMW           & crossover     & 194           & 3.0           & Diesel        & yes           & 2004         \\\\\n",
       "\t 40990         & Mercedes-Benz & other         &  37           & 5.0           & Petrol        & yes           & 2012         \\\\\n",
       "\t  5500         & Mercedes-Benz & sedan         & 440           & 2.0           & Petrol        & yes           & 1978         \\\\\n",
       "\t  9200         & Volkswagen    & vagon         & 171           & 1.6           & Petrol        & yes           & 2008         \\\\\n",
       "\t  5150         & Volkswagen    & van           & 240           & 2.0           & Diesel        & yes           & 2005         \\\\\n",
       "\t 40990         & Toyota        & crossover     &   0           & 4.5           & Diesel        & yes           & 2016         \\\\\n",
       "\t  8999         & Renault       & other         & 126           & 2.0           & Diesel        & yes           & 2012         \\\\\n",
       "\t 16800         & Mercedes-Benz & sedan         & 125           & 1.8           & Petrol        & yes           & 2008         \\\\\n",
       "\t  8200         & Mercedes-Benz & sedan         & 280           & 2.4           & Gas           & yes           & 1997         \\\\\n",
       "\t 24950         & Mercedes-Benz & other         &  60           & 1.8           & Petrol        & yes           & 2013         \\\\\n",
       "\t 40990         & Audi          & crossover     &   0           & 3.0           & Diesel        & yes           & 2016         \\\\\n",
       "\t  7300         & Mercedes-Benz & van           & 207           & 2.2           & Diesel        & yes           & 2003         \\\\\n",
       "\t  2200         & Volkswagen    & hatch         & 400           & 1.3           & Other         & yes           & 1987         \\\\\n",
       "\t 21335         & BMW           & other         & 105           & 3.0           & Petrol        & yes           & 2008         \\\\\n",
       "\t 40990         & BMW           & crossover     &  80           & 3.0           & Petrol        & yes           & 2011         \\\\\n",
       "\t  6750         & Renault       & van           & 155           & 1.5           & Diesel        & yes           & 2012         \\\\\n",
       "\t  7000         & Renault       & van           & 210           & 1.5           & Diesel        & yes           & 2005         \\\\\n",
       "\t 12090         & BMW           & hatch         & 145           & 1.6           & Petrol        & yes           & 2010         \\\\\n",
       "\t 27900         & BMW           & sedan         &  38           & 2.0           & Petrol        & yes           & 2013         \\\\\n",
       "\t  2100         & Renault       & vagon         & 237           & 1.9           & Diesel        & no            & 2001         \\\\\n",
       "\t  6800         & Renault       & sedan         & 152           & 1.6           & Petrol        & yes           & 2007         \\\\\n",
       "\t 11500         & Volkswagen    & van           & 163           & 2.5           & Diesel        & yes           & 2008         \\\\\n",
       "\t 17900         & Toyota        & sedan         &  35           & 1.6           & Petrol        & yes           & 2014         \\\\\n",
       "\t 40990         & Mercedes-Benz & sedan         &   9           & 3.0           & Diesel        & yes           & 2014         \\\\\n",
       "\t  6500         & BMW           & sedan         &   1           & 3.5           & Petrol        & yes           & 1999         \\\\\n",
       "\t  8000         & BMW           & sedan         & 194           & 2.0           & Petrol        & yes           & 1985         \\\\\n",
       "\t 13500         & Volkswagen    & van           & 124           & 2.0           & Diesel        & yes           & 2013         \\\\\n",
       "\\end{tabular}\n"
      ],
      "text/markdown": [
       "\n",
       "| Price | Brand | Body | Mileage | EngineV | Engine.Type | Registration | Year |\n",
       "|---|---|---|---|---|---|---|---|\n",
       "|  4200         | BMW           | sedan         | 277           | 2.00          | Petrol        | yes           | 1991          |\n",
       "|  7900         | Mercedes-Benz | van           | 427           | 2.90          | Diesel        | yes           | 1999          |\n",
       "| 13300         | Mercedes-Benz | sedan         | 358           | 5.00          | Gas           | yes           | 2003          |\n",
       "| 23000         | Audi          | crossover     | 240           | 4.20          | Petrol        | yes           | 2007          |\n",
       "| 18300         | Toyota        | crossover     | 120           | 2.00          | Petrol        | yes           | 2011          |\n",
       "| 40996         | Mercedes-Benz | crossover     |   0           | 5.50          | Petrol        | yes           | 2016          |\n",
       "|  6100         | BMW           | sedan         | 438           | 2.00          | Gas           | yes           | 1997          |\n",
       "| 14200         | Audi          | vagon         | 200           | 2.70          | Diesel        | yes           | 2006          |\n",
       "| 10799         | Renault       | vagon         | 193           | 1.50          | Diesel        | yes           | 2012          |\n",
       "|  1400         | Volkswagen    | other         | 212           | 1.80          | Gas           | no            | 1999          |\n",
       "| 11950         | Renault       | vagon         | 177           | 1.50          | Diesel        | yes           | 2011          |\n",
       "|  2500         | Renault       | sedan         | 260           | 1.79          | Petrol        | yes           | 1994          |\n",
       "|  9500         | Audi          | vagon         | 165           | 2.70          | Gas           | yes           | 2003          |\n",
       "| 10500         | Volkswagen    | sedan         | 100           | 1.80          | Petrol        | yes           | 2008          |\n",
       "| 16000         | Toyota        | crossover     | 250           | 4.70          | Gas           | yes           | 2001          |\n",
       "|  8600         | Renault       | hatch         |  84           | 1.50          | Diesel        | yes           | 2012          |\n",
       "|  2990         | BMW           | other         | 203           | 2.00          | Petrol        | no            | 2001          |\n",
       "| 26500         | Toyota        | crossover     |  21           | 2.00          | Petrol        | yes           | 2013          |\n",
       "|  3500         | Audi          | vagon         | 250           | 2.50          | Diesel        | no            | 1998          |\n",
       "| 38233         | Toyota        | other         |   0           | 2.40          | Diesel        | yes           | 2016          |\n",
       "|  7500         | Volkswagen    | hatch         | 132           | 1.40          | Diesel        | yes           | 2006          |\n",
       "|  6800         | Audi          | sedan         | 225           | 2.40          | Gas           | yes           | 1998          |\n",
       "| 10500         | Mitsubishi    | crossover     | 130           | 2.40          | Gas           | yes           | 2006          |\n",
       "| 24900         | Audi          | sedan         | 163           | 4.20          | Diesel        | yes           | 2008          |\n",
       "| 20800         | Volkswagen    | crossover     | 151           | 3.00          | Diesel        | yes           | 2008          |\n",
       "|  6500         | Audi          | sedan         | 330           | 2.40          | Petrol        | yes           | 1999          |\n",
       "| 13566         | Mercedes-Benz | other         | 171           | 2.20          | Other         | no            | 2011          |\n",
       "|  8500         | Mitsubishi    | hatch         |  65           | 1.30          | Petrol        | yes           | 2010          |\n",
       "|  2900         | Audi          | sedan         |   1           | 2.30          | Gas           | yes           | 1989          |\n",
       "| 21500         | BMW           | other         |  72           | 3.00          | Petrol        | yes           | 2007          |\n",
       "| ... | ... | ... | ... | ... | ... | ... | ... |\n",
       "| 25500         | Mercedes-Benz | crossover     |  77           | 3.5           | Petrol        | yes           | 2008          |\n",
       "| 15500         | Volkswagen    | sedan         |  80           | 1.4           | Petrol        | yes           | 2013          |\n",
       "|  9750         | Volkswagen    | van           | 159           | 1.9           | Diesel        | yes           | 2009          |\n",
       "| 16100         | BMW           | crossover     | 194           | 3.0           | Diesel        | yes           | 2004          |\n",
       "| 40990         | Mercedes-Benz | other         |  37           | 5.0           | Petrol        | yes           | 2012          |\n",
       "|  5500         | Mercedes-Benz | sedan         | 440           | 2.0           | Petrol        | yes           | 1978          |\n",
       "|  9200         | Volkswagen    | vagon         | 171           | 1.6           | Petrol        | yes           | 2008          |\n",
       "|  5150         | Volkswagen    | van           | 240           | 2.0           | Diesel        | yes           | 2005          |\n",
       "| 40990         | Toyota        | crossover     |   0           | 4.5           | Diesel        | yes           | 2016          |\n",
       "|  8999         | Renault       | other         | 126           | 2.0           | Diesel        | yes           | 2012          |\n",
       "| 16800         | Mercedes-Benz | sedan         | 125           | 1.8           | Petrol        | yes           | 2008          |\n",
       "|  8200         | Mercedes-Benz | sedan         | 280           | 2.4           | Gas           | yes           | 1997          |\n",
       "| 24950         | Mercedes-Benz | other         |  60           | 1.8           | Petrol        | yes           | 2013          |\n",
       "| 40990         | Audi          | crossover     |   0           | 3.0           | Diesel        | yes           | 2016          |\n",
       "|  7300         | Mercedes-Benz | van           | 207           | 2.2           | Diesel        | yes           | 2003          |\n",
       "|  2200         | Volkswagen    | hatch         | 400           | 1.3           | Other         | yes           | 1987          |\n",
       "| 21335         | BMW           | other         | 105           | 3.0           | Petrol        | yes           | 2008          |\n",
       "| 40990         | BMW           | crossover     |  80           | 3.0           | Petrol        | yes           | 2011          |\n",
       "|  6750         | Renault       | van           | 155           | 1.5           | Diesel        | yes           | 2012          |\n",
       "|  7000         | Renault       | van           | 210           | 1.5           | Diesel        | yes           | 2005          |\n",
       "| 12090         | BMW           | hatch         | 145           | 1.6           | Petrol        | yes           | 2010          |\n",
       "| 27900         | BMW           | sedan         |  38           | 2.0           | Petrol        | yes           | 2013          |\n",
       "|  2100         | Renault       | vagon         | 237           | 1.9           | Diesel        | no            | 2001          |\n",
       "|  6800         | Renault       | sedan         | 152           | 1.6           | Petrol        | yes           | 2007          |\n",
       "| 11500         | Volkswagen    | van           | 163           | 2.5           | Diesel        | yes           | 2008          |\n",
       "| 17900         | Toyota        | sedan         |  35           | 1.6           | Petrol        | yes           | 2014          |\n",
       "| 40990         | Mercedes-Benz | sedan         |   9           | 3.0           | Diesel        | yes           | 2014          |\n",
       "|  6500         | BMW           | sedan         |   1           | 3.5           | Petrol        | yes           | 1999          |\n",
       "|  8000         | BMW           | sedan         | 194           | 2.0           | Petrol        | yes           | 1985          |\n",
       "| 13500         | Volkswagen    | van           | 124           | 2.0           | Diesel        | yes           | 2013          |\n",
       "\n"
      ],
      "text/plain": [
       "     Price Brand         Body      Mileage EngineV Engine.Type Registration\n",
       "1     4200 BMW           sedan     277     2.00    Petrol      yes         \n",
       "2     7900 Mercedes-Benz van       427     2.90    Diesel      yes         \n",
       "3    13300 Mercedes-Benz sedan     358     5.00    Gas         yes         \n",
       "4    23000 Audi          crossover 240     4.20    Petrol      yes         \n",
       "5    18300 Toyota        crossover 120     2.00    Petrol      yes         \n",
       "6    40996 Mercedes-Benz crossover   0     5.50    Petrol      yes         \n",
       "7     6100 BMW           sedan     438     2.00    Gas         yes         \n",
       "8    14200 Audi          vagon     200     2.70    Diesel      yes         \n",
       "9    10799 Renault       vagon     193     1.50    Diesel      yes         \n",
       "10    1400 Volkswagen    other     212     1.80    Gas         no          \n",
       "11   11950 Renault       vagon     177     1.50    Diesel      yes         \n",
       "12    2500 Renault       sedan     260     1.79    Petrol      yes         \n",
       "13    9500 Audi          vagon     165     2.70    Gas         yes         \n",
       "14   10500 Volkswagen    sedan     100     1.80    Petrol      yes         \n",
       "15   16000 Toyota        crossover 250     4.70    Gas         yes         \n",
       "16    8600 Renault       hatch      84     1.50    Diesel      yes         \n",
       "17    2990 BMW           other     203     2.00    Petrol      no          \n",
       "18   26500 Toyota        crossover  21     2.00    Petrol      yes         \n",
       "19    3500 Audi          vagon     250     2.50    Diesel      no          \n",
       "20   38233 Toyota        other       0     2.40    Diesel      yes         \n",
       "21    7500 Volkswagen    hatch     132     1.40    Diesel      yes         \n",
       "22    6800 Audi          sedan     225     2.40    Gas         yes         \n",
       "23   10500 Mitsubishi    crossover 130     2.40    Gas         yes         \n",
       "24   24900 Audi          sedan     163     4.20    Diesel      yes         \n",
       "25   20800 Volkswagen    crossover 151     3.00    Diesel      yes         \n",
       "26    6500 Audi          sedan     330     2.40    Petrol      yes         \n",
       "27   13566 Mercedes-Benz other     171     2.20    Other       no          \n",
       "28    8500 Mitsubishi    hatch      65     1.30    Petrol      yes         \n",
       "29    2900 Audi          sedan       1     2.30    Gas         yes         \n",
       "30   21500 BMW           other      72     3.00    Petrol      yes         \n",
       "...  ...   ...           ...       ...     ...     ...         ...         \n",
       "3996 25500 Mercedes-Benz crossover  77     3.5     Petrol      yes         \n",
       "3997 15500 Volkswagen    sedan      80     1.4     Petrol      yes         \n",
       "3998  9750 Volkswagen    van       159     1.9     Diesel      yes         \n",
       "3999 16100 BMW           crossover 194     3.0     Diesel      yes         \n",
       "4000 40990 Mercedes-Benz other      37     5.0     Petrol      yes         \n",
       "4001  5500 Mercedes-Benz sedan     440     2.0     Petrol      yes         \n",
       "4002  9200 Volkswagen    vagon     171     1.6     Petrol      yes         \n",
       "4003  5150 Volkswagen    van       240     2.0     Diesel      yes         \n",
       "4004 40990 Toyota        crossover   0     4.5     Diesel      yes         \n",
       "4005  8999 Renault       other     126     2.0     Diesel      yes         \n",
       "4006 16800 Mercedes-Benz sedan     125     1.8     Petrol      yes         \n",
       "4007  8200 Mercedes-Benz sedan     280     2.4     Gas         yes         \n",
       "4008 24950 Mercedes-Benz other      60     1.8     Petrol      yes         \n",
       "4009 40990 Audi          crossover   0     3.0     Diesel      yes         \n",
       "4010  7300 Mercedes-Benz van       207     2.2     Diesel      yes         \n",
       "4011  2200 Volkswagen    hatch     400     1.3     Other       yes         \n",
       "4012 21335 BMW           other     105     3.0     Petrol      yes         \n",
       "4013 40990 BMW           crossover  80     3.0     Petrol      yes         \n",
       "4014  6750 Renault       van       155     1.5     Diesel      yes         \n",
       "4015  7000 Renault       van       210     1.5     Diesel      yes         \n",
       "4016 12090 BMW           hatch     145     1.6     Petrol      yes         \n",
       "4017 27900 BMW           sedan      38     2.0     Petrol      yes         \n",
       "4018  2100 Renault       vagon     237     1.9     Diesel      no          \n",
       "4019  6800 Renault       sedan     152     1.6     Petrol      yes         \n",
       "4020 11500 Volkswagen    van       163     2.5     Diesel      yes         \n",
       "4021 17900 Toyota        sedan      35     1.6     Petrol      yes         \n",
       "4022 40990 Mercedes-Benz sedan       9     3.0     Diesel      yes         \n",
       "4023  6500 BMW           sedan       1     3.5     Petrol      yes         \n",
       "4024  8000 BMW           sedan     194     2.0     Petrol      yes         \n",
       "4025 13500 Volkswagen    van       124     2.0     Diesel      yes         \n",
       "     Year\n",
       "1    1991\n",
       "2    1999\n",
       "3    2003\n",
       "4    2007\n",
       "5    2011\n",
       "6    2016\n",
       "7    1997\n",
       "8    2006\n",
       "9    2012\n",
       "10   1999\n",
       "11   2011\n",
       "12   1994\n",
       "13   2003\n",
       "14   2008\n",
       "15   2001\n",
       "16   2012\n",
       "17   2001\n",
       "18   2013\n",
       "19   1998\n",
       "20   2016\n",
       "21   2006\n",
       "22   1998\n",
       "23   2006\n",
       "24   2008\n",
       "25   2008\n",
       "26   1999\n",
       "27   2011\n",
       "28   2010\n",
       "29   1989\n",
       "30   2007\n",
       "...  ... \n",
       "3996 2008\n",
       "3997 2013\n",
       "3998 2009\n",
       "3999 2004\n",
       "4000 2012\n",
       "4001 1978\n",
       "4002 2008\n",
       "4003 2005\n",
       "4004 2016\n",
       "4005 2012\n",
       "4006 2008\n",
       "4007 1997\n",
       "4008 2013\n",
       "4009 2016\n",
       "4010 2003\n",
       "4011 1987\n",
       "4012 2008\n",
       "4013 2011\n",
       "4014 2012\n",
       "4015 2005\n",
       "4016 2010\n",
       "4017 2013\n",
       "4018 2001\n",
       "4019 2007\n",
       "4020 2008\n",
       "4021 2014\n",
       "4022 2014\n",
       "4023 1999\n",
       "4024 1985\n",
       "4025 2013"
      ]
     },
     "metadata": {},
     "output_type": "display_data"
    }
   ],
   "source": [
    "## FILTERING DATA WHERE MILEAGE ABOVE THE MAXIMUM MILEAGE\n",
    "filter(data,Price>max_mileage)"
   ]
  },
  {
   "cell_type": "code",
   "execution_count": 31,
   "metadata": {},
   "outputs": [
    {
     "data": {
      "text/html": [
       "<dl class=dl-horizontal>\n",
       "\t<dt>75%</dt>\n",
       "\t\t<dd>230</dd>\n",
       "\t<dt>76%</dt>\n",
       "\t\t<dd>233</dd>\n",
       "\t<dt>77%</dt>\n",
       "\t\t<dd>238</dd>\n",
       "\t<dt>78%</dt>\n",
       "\t\t<dd>240</dd>\n",
       "\t<dt>79%</dt>\n",
       "\t\t<dd>245</dd>\n",
       "\t<dt>80%</dt>\n",
       "\t\t<dd>250</dd>\n",
       "\t<dt>81%</dt>\n",
       "\t\t<dd>250</dd>\n",
       "\t<dt>82%</dt>\n",
       "\t\t<dd>254</dd>\n",
       "\t<dt>83%</dt>\n",
       "\t\t<dd>260</dd>\n",
       "\t<dt>84%</dt>\n",
       "\t\t<dd>263</dd>\n",
       "\t<dt>85%</dt>\n",
       "\t\t<dd>270</dd>\n",
       "\t<dt>86%</dt>\n",
       "\t\t<dd>272.64</dd>\n",
       "\t<dt>87%</dt>\n",
       "\t\t<dd>280</dd>\n",
       "\t<dt>88%</dt>\n",
       "\t\t<dd>281.12</dd>\n",
       "\t<dt>89%</dt>\n",
       "\t\t<dd>288</dd>\n",
       "\t<dt>90%</dt>\n",
       "\t\t<dd>297</dd>\n",
       "\t<dt>91%</dt>\n",
       "\t\t<dd>300</dd>\n",
       "\t<dt>92%</dt>\n",
       "\t\t<dd>303</dd>\n",
       "\t<dt>93%</dt>\n",
       "\t\t<dd>315</dd>\n",
       "\t<dt>94%</dt>\n",
       "\t\t<dd>326</dd>\n",
       "\t<dt>95%</dt>\n",
       "\t\t<dd>340.8</dd>\n",
       "\t<dt>96%</dt>\n",
       "\t\t<dd>358.08</dd>\n",
       "\t<dt>97%</dt>\n",
       "\t\t<dd>375.559999999999</dd>\n",
       "\t<dt>98%</dt>\n",
       "\t\t<dd>400</dd>\n",
       "\t<dt>99%</dt>\n",
       "\t\t<dd>434.52</dd>\n",
       "</dl>\n"
      ],
      "text/latex": [
       "\\begin{description*}\n",
       "\\item[75\\textbackslash{}\\%] 230\n",
       "\\item[76\\textbackslash{}\\%] 233\n",
       "\\item[77\\textbackslash{}\\%] 238\n",
       "\\item[78\\textbackslash{}\\%] 240\n",
       "\\item[79\\textbackslash{}\\%] 245\n",
       "\\item[80\\textbackslash{}\\%] 250\n",
       "\\item[81\\textbackslash{}\\%] 250\n",
       "\\item[82\\textbackslash{}\\%] 254\n",
       "\\item[83\\textbackslash{}\\%] 260\n",
       "\\item[84\\textbackslash{}\\%] 263\n",
       "\\item[85\\textbackslash{}\\%] 270\n",
       "\\item[86\\textbackslash{}\\%] 272.64\n",
       "\\item[87\\textbackslash{}\\%] 280\n",
       "\\item[88\\textbackslash{}\\%] 281.12\n",
       "\\item[89\\textbackslash{}\\%] 288\n",
       "\\item[90\\textbackslash{}\\%] 297\n",
       "\\item[91\\textbackslash{}\\%] 300\n",
       "\\item[92\\textbackslash{}\\%] 303\n",
       "\\item[93\\textbackslash{}\\%] 315\n",
       "\\item[94\\textbackslash{}\\%] 326\n",
       "\\item[95\\textbackslash{}\\%] 340.8\n",
       "\\item[96\\textbackslash{}\\%] 358.08\n",
       "\\item[97\\textbackslash{}\\%] 375.559999999999\n",
       "\\item[98\\textbackslash{}\\%] 400\n",
       "\\item[99\\textbackslash{}\\%] 434.52\n",
       "\\end{description*}\n"
      ],
      "text/markdown": [
       "75%\n",
       ":   23076%\n",
       ":   23377%\n",
       ":   23878%\n",
       ":   24079%\n",
       ":   24580%\n",
       ":   25081%\n",
       ":   25082%\n",
       ":   25483%\n",
       ":   26084%\n",
       ":   26385%\n",
       ":   27086%\n",
       ":   272.6487%\n",
       ":   28088%\n",
       ":   281.1289%\n",
       ":   28890%\n",
       ":   29791%\n",
       ":   30092%\n",
       ":   30393%\n",
       ":   31594%\n",
       ":   32695%\n",
       ":   340.896%\n",
       ":   358.0897%\n",
       ":   375.55999999999998%\n",
       ":   40099%\n",
       ":   434.52\n",
       "\n"
      ],
      "text/plain": [
       "   75%    76%    77%    78%    79%    80%    81%    82%    83%    84%    85% \n",
       "230.00 233.00 238.00 240.00 245.00 250.00 250.00 254.00 260.00 263.00 270.00 \n",
       "   86%    87%    88%    89%    90%    91%    92%    93%    94%    95%    96% \n",
       "272.64 280.00 281.12 288.00 297.00 300.00 303.00 315.00 326.00 340.80 358.08 \n",
       "   97%    98%    99% \n",
       "375.56 400.00 434.52 "
      ]
     },
     "metadata": {},
     "output_type": "display_data"
    }
   ],
   "source": [
    "## USING QUANTILE FUNCTION CALLING QUANTILES FROM 75TH TO 99TH \n",
    "quantile(data$Mileage,probs=quantile_range)"
   ]
  },
  {
   "cell_type": "code",
   "execution_count": 32,
   "metadata": {},
   "outputs": [],
   "source": [
    "## USING FOR LOOPS CHANGING VALUES\n",
    "for (i in 1:4025)\n",
    "{\n",
    "    if (data$Mileage[i]>max_mileage)\n",
    "    {\n",
    "        data$Mileage[i]=quantile(data$Mileage,probs=0.98)\n",
    "    }\n",
    "}"
   ]
  },
  {
   "cell_type": "code",
   "execution_count": 33,
   "metadata": {},
   "outputs": [
    {
     "data": {
      "text/html": [
       "<table>\n",
       "<thead><tr><th scope=col>Price</th><th scope=col>Brand</th><th scope=col>Body</th><th scope=col>Mileage</th><th scope=col>EngineV</th><th scope=col>Engine.Type</th><th scope=col>Registration</th><th scope=col>Year</th></tr></thead>\n",
       "<tbody>\n",
       "</tbody>\n",
       "</table>\n"
      ],
      "text/latex": [
       "\\begin{tabular}{r|llllllll}\n",
       " Price & Brand & Body & Mileage & EngineV & Engine.Type & Registration & Year\\\\\n",
       "\\hline\n",
       "\\end{tabular}\n"
      ],
      "text/markdown": [
       "\n",
       "| Price | Brand | Body | Mileage | EngineV | Engine.Type | Registration | Year |\n",
       "|---|---|---|---|---|---|---|---|\n",
       "\n"
      ],
      "text/plain": [
       "     Price Brand Body Mileage EngineV Engine.Type Registration Year"
      ]
     },
     "metadata": {},
     "output_type": "display_data"
    }
   ],
   "source": [
    "filter(data,Price>max_price)"
   ]
  },
  {
   "cell_type": "code",
   "execution_count": 34,
   "metadata": {},
   "outputs": [
    {
     "data": {
      "image/png": "[encoded data removed]",
      "text/plain": [
       "plot without title"
      ]
     },
     "metadata": {},
     "output_type": "display_data"
    }
   ],
   "source": [
    "## CHECKING FOR OUTLIERS WITH BOXPLOT\n",
    "ggplot(data=data,aes(y=Mileage))+ geom_boxplot()"
   ]
  },
  {
   "cell_type": "code",
   "execution_count": null,
   "metadata": {},
   "outputs": [],
   "source": []
  }
 ],
 "metadata": {
  "kernelspec": {
   "display_name": "R",
   "language": "R",
   "name": "ir"
  },
  "language_info": {
   "codemirror_mode": "r",
   "file_extension": ".r",
   "mimetype": "text/x-r-source",
   "name": "R",
   "pygments_lexer": "r",
   "version": "3.6.1"
  }
 },
 "nbformat": 4,
 "nbformat_minor": 4
}
